{
  "nbformat": 4,
  "nbformat_minor": 0,
  "metadata": {
    "colab": {
      "name": "Multiclass Text Classification RNN.ipynb",
      "provenance": [],
      "collapsed_sections": [],
      "toc_visible": true
    },
    "kernelspec": {
      "name": "python3",
      "display_name": "Python 3"
    },
    "accelerator": "GPU"
  },
  "cells": [
    {
      "cell_type": "markdown",
      "metadata": {
        "id": "MqdRGVXvzvYl",
        "colab_type": "text"
      },
      "source": [
        "#**Multiclass Text Classification**\n",
        "\n",
        "**Data source:** Bureau of Consumer Financial Protection (dataset is intended for public access and use)\n",
        "**Dataset name:** Consumer Complaint Database\n",
        "**Link:** https://catalog.data.gov/dataset/consumer-complaint-database\n",
        "**Goal:** Assign a new complain to one of known categories.\n",
        "\n",
        "Dataset was reduced for illustration purpose."
      ]
    },
    {
      "cell_type": "code",
      "metadata": {
        "id": "s79dUAcR6y8f",
        "colab_type": "code",
        "outputId": "4f5d074b-8a57-4a1a-b8b2-af8005feb25c",
        "colab": {
          "base_uri": "https://localhost:8080/",
          "height": 119
        }
      },
      "source": [
        "# Install TensorFlow\n",
        "# !pip install -q tensorflow-gpu==2.0.0-beta1\n",
        "\n",
        "try:\n",
        "  %tensorflow_version 2.x  # Colab only.\n",
        "except Exception:\n",
        "  pass\n",
        "\n",
        "import tensorflow as tf\n",
        "print(tf.__version__)"
      ],
      "execution_count": 0,
      "outputs": [
        {
          "output_type": "stream",
          "text": [
            "`%tensorflow_version` only switches the major version: `1.x` or `2.x`.\n",
            "You set: `2.x  # Colab only.`. This will be interpreted as: `2.x`.\n",
            "\n",
            "\n",
            "TensorFlow 2.x selected.\n",
            "2.0.0\n"
          ],
          "name": "stdout"
        }
      ]
    },
    {
      "cell_type": "code",
      "metadata": {
        "id": "7ZjhmiCi66lb",
        "colab_type": "code",
        "colab": {}
      },
      "source": [
        "import numpy as np\n",
        "import pandas as pd\n",
        "import matplotlib.pyplot as plt\n",
        "import seaborn as sns\n",
        "\n",
        "from sklearn.model_selection import train_test_split\n",
        "from sklearn.metrics import accuracy_score, f1_score, confusion_matrix\n",
        "from sklearn.preprocessing import LabelEncoder\n",
        "\n",
        "from tensorflow.keras.preprocessing.text import Tokenizer\n",
        "from tensorflow.keras.preprocessing.sequence import pad_sequences\n",
        "from tensorflow.keras.layers import Dense, Input, GlobalMaxPooling1D\n",
        "from tensorflow.keras.layers import LSTM, Embedding\n",
        "from tensorflow.keras.models import Model"
      ],
      "execution_count": 0,
      "outputs": []
    },
    {
      "cell_type": "markdown",
      "metadata": {
        "id": "fVM0wiI60WLo",
        "colab_type": "text"
      },
      "source": [
        "#**Load and clean data**"
      ]
    },
    {
      "cell_type": "code",
      "metadata": {
        "id": "9xO1vjh1L_xm",
        "colab_type": "code",
        "outputId": "5bd5dda4-8d44-4889-acb3-c703d0047282",
        "colab": {
          "base_uri": "https://localhost:8080/",
          "height": 34
        }
      },
      "source": [
        "!ls"
      ],
      "execution_count": 0,
      "outputs": [
        {
          "output_type": "stream",
          "text": [
            "for_RNN.csv  sample_data\n"
          ],
          "name": "stdout"
        }
      ]
    },
    {
      "cell_type": "code",
      "metadata": {
        "id": "2X3TBMqM7HBT",
        "colab_type": "code",
        "outputId": "1874ef0c-f23d-4aa5-f4ff-40b1ed2e5fbc",
        "colab": {
          "base_uri": "https://localhost:8080/",
          "height": 159
        }
      },
      "source": [
        "#load data\n",
        "df_data = pd.read_csv('for_RNN.csv', encoding='ISO-8859-1')\n",
        "\n",
        "print('Length of the initial dataset:', len(df_data))\n",
        "df_data.head(1).T"
      ],
      "execution_count": 0,
      "outputs": [
        {
          "output_type": "stream",
          "text": [
            "Length of the initial dataset: 447914\n"
          ],
          "name": "stdout"
        },
        {
          "output_type": "execute_result",
          "data": {
            "text/html": [
              "<div>\n",
              "<style scoped>\n",
              "    .dataframe tbody tr th:only-of-type {\n",
              "        vertical-align: middle;\n",
              "    }\n",
              "\n",
              "    .dataframe tbody tr th {\n",
              "        vertical-align: top;\n",
              "    }\n",
              "\n",
              "    .dataframe thead th {\n",
              "        text-align: right;\n",
              "    }\n",
              "</style>\n",
              "<table border=\"1\" class=\"dataframe\">\n",
              "  <thead>\n",
              "    <tr style=\"text-align: right;\">\n",
              "      <th></th>\n",
              "      <th>0</th>\n",
              "    </tr>\n",
              "  </thead>\n",
              "  <tbody>\n",
              "    <tr>\n",
              "      <th>Unnamed: 0</th>\n",
              "      <td>203</td>\n",
              "    </tr>\n",
              "    <tr>\n",
              "      <th>Product</th>\n",
              "      <td>Credit reporting, credit repair services, or o...</td>\n",
              "    </tr>\n",
              "    <tr>\n",
              "      <th>Consumer complaint narrative</th>\n",
              "      <td>After reviewing my reports. I noticed several ...</td>\n",
              "    </tr>\n",
              "  </tbody>\n",
              "</table>\n",
              "</div>"
            ],
            "text/plain": [
              "                                                                              0\n",
              "Unnamed: 0                                                                  203\n",
              "Product                       Credit reporting, credit repair services, or o...\n",
              "Consumer complaint narrative  After reviewing my reports. I noticed several ..."
            ]
          },
          "metadata": {
            "tags": []
          },
          "execution_count": 4
        }
      ]
    },
    {
      "cell_type": "code",
      "metadata": {
        "id": "GNTZG5OW9u2b",
        "colab_type": "code",
        "outputId": "d6edc79c-896e-4155-c0ca-8ddbd8c716bf",
        "colab": {
          "base_uri": "https://localhost:8080/",
          "height": 340
        }
      },
      "source": [
        "# labels (product categories) \n",
        "df_data['Product'].value_counts()"
      ],
      "execution_count": 0,
      "outputs": [
        {
          "output_type": "execute_result",
          "data": {
            "text/plain": [
              "Credit reporting, credit repair services, or other personal consumer reports    123831\n",
              "Debt collection                                                                  98476\n",
              "Mortgage                                                                         58139\n",
              "Credit reporting                                                                 31588\n",
              "Credit card or prepaid card                                                      27658\n",
              "Student loan                                                                     23824\n",
              "Credit card                                                                      18838\n",
              "Checking or savings account                                                      16653\n",
              "Bank account or service                                                          14885\n",
              "Consumer Loan                                                                     9473\n",
              "Vehicle loan or lease                                                             7169\n",
              "Money transfer, virtual currency, or money service                                6848\n",
              "Payday loan, title loan, or personal loan                                         5530\n",
              "Payday loan                                                                       1747\n",
              "Money transfers                                                                   1497\n",
              "Prepaid card                                                                      1450\n",
              "Other financial service                                                            292\n",
              "Virtual currency                                                                    16\n",
              "Name: Product, dtype: int64"
            ]
          },
          "metadata": {
            "tags": []
          },
          "execution_count": 5
        }
      ]
    },
    {
      "cell_type": "code",
      "metadata": {
        "id": "jIQG32hd0-uT",
        "colab_type": "code",
        "colab": {}
      },
      "source": [
        "# making \"Credit reporting, credit repair services, or other personal consumer reports\" and \n",
        "# \"Credit reporting\" as one category \"Personal consumer reports\"\n",
        "\n",
        "df_data['Product'] = df_data['Product'].str.replace(\"Credit reporting, credit repair services, or other personal consumer reports\", \n",
        "                                                    \"Personal consumer reports\")\n",
        "df_data['Product'] = df_data['Product'].str.replace(\"Credit reporting\", \n",
        "                                                    \"Personal consumer reports\")"
      ],
      "execution_count": 0,
      "outputs": []
    },
    {
      "cell_type": "code",
      "metadata": {
        "id": "w90m5hEHUgUo",
        "colab_type": "code",
        "outputId": "10a1d4a4-bff9-4568-f67d-d997dd9c08fb",
        "colab": {
          "base_uri": "https://localhost:8080/",
          "height": 323
        }
      },
      "source": [
        "# labels (product categories) \n",
        "df_data['Product'].value_counts()"
      ],
      "execution_count": 0,
      "outputs": [
        {
          "output_type": "execute_result",
          "data": {
            "text/plain": [
              "Personal consumer reports                             155419\n",
              "Debt collection                                        98476\n",
              "Mortgage                                               58139\n",
              "Credit card or prepaid card                            27658\n",
              "Student loan                                           23824\n",
              "Credit card                                            18838\n",
              "Checking or savings account                            16653\n",
              "Bank account or service                                14885\n",
              "Consumer Loan                                           9473\n",
              "Vehicle loan or lease                                   7169\n",
              "Money transfer, virtual currency, or money service      6848\n",
              "Payday loan, title loan, or personal loan               5530\n",
              "Payday loan                                             1747\n",
              "Money transfers                                         1497\n",
              "Prepaid card                                            1450\n",
              "Other financial service                                  292\n",
              "Virtual currency                                          16\n",
              "Name: Product, dtype: int64"
            ]
          },
          "metadata": {
            "tags": []
          },
          "execution_count": 7
        }
      ]
    },
    {
      "cell_type": "markdown",
      "metadata": {
        "id": "xbLHmMZD1gnD",
        "colab_type": "text"
      },
      "source": [
        "##### **Just for the illustration:**\n",
        "only 20000 of random observations from top 4 product categories are selected\n",
        "8000 for model training/testing and 2000 for model evaluation on unseen data"
      ]
    },
    {
      "cell_type": "code",
      "metadata": {
        "id": "42Nz4cwt4TTe",
        "colab_type": "code",
        "colab": {}
      },
      "source": [
        "# selecting only top 4 product categories \n",
        "selected_products= [\"Personal consumer reports\",\n",
        "                   \"Debt collection\",\n",
        "                   \"Mortgage\",\n",
        "                   \"Credit card or prepaid card\"]"
      ],
      "execution_count": 0,
      "outputs": []
    },
    {
      "cell_type": "code",
      "metadata": {
        "id": "mbEYhaMz9zkB",
        "colab_type": "code",
        "outputId": "6cef78a9-7d28-492e-a5af-2e85b23a6ef8",
        "colab": {
          "base_uri": "https://localhost:8080/",
          "height": 323
        }
      },
      "source": [
        "# selecting 600 random records of each type of selected products\n",
        "df_train_list = []\n",
        "df_test_list = []\n",
        "\n",
        "for product in selected_products:\n",
        "    df_tmp = df_data[df_data['Product'] == product].sample(n=25000, random_state=1)\n",
        "    df_train_list.append(df_tmp.iloc[2000:])\n",
        "    df_test_list.append(df_tmp.iloc[:2000])\n",
        "\n",
        "df = pd.concat(df_train_list) \n",
        "df_test = pd.concat(df_test_list) \n",
        "\n",
        "print('TRAIN Dataset length:', len(df))\n",
        "print('\\nComplain categories and counts:')\n",
        "print(df['Product'].value_counts())\n",
        "\n",
        "print('\\n\\nEVALUATION Dataset length:', len(df_test))\n",
        "print('\\nComplain categories and counts:')\n",
        "print(df_test['Product'].value_counts())"
      ],
      "execution_count": 0,
      "outputs": [
        {
          "output_type": "stream",
          "text": [
            "TRAIN Dataset length: 92000\n",
            "\n",
            "Complain categories and counts:\n",
            "Credit card or prepaid card    23000\n",
            "Personal consumer reports      23000\n",
            "Debt collection                23000\n",
            "Mortgage                       23000\n",
            "Name: Product, dtype: int64\n",
            "\n",
            "\n",
            "EVALUATION Dataset length: 8000\n",
            "\n",
            "Complain categories and counts:\n",
            "Mortgage                       2000\n",
            "Credit card or prepaid card    2000\n",
            "Debt collection                2000\n",
            "Personal consumer reports      2000\n",
            "Name: Product, dtype: int64\n"
          ],
          "name": "stdout"
        }
      ]
    },
    {
      "cell_type": "markdown",
      "metadata": {
        "id": "eNR6_YN41qZS",
        "colab_type": "text"
      },
      "source": [
        "#**Prepare data for training and testing a model**"
      ]
    },
    {
      "cell_type": "code",
      "metadata": {
        "id": "zFourf-02Bqo",
        "colab_type": "code",
        "outputId": "65e61d8c-1977-4b69-90eb-b5c20528c806",
        "colab": {
          "base_uri": "https://localhost:8080/",
          "height": 204
        }
      },
      "source": [
        "# turning labels into numbers\n",
        "LE = LabelEncoder()\n",
        "df['Product_num'] = LE.fit_transform(df['Product'])\n",
        "df_test['Product_num'] = LE.transform(df_test['Product'])\n",
        "\n",
        "ts_tmp = df.groupby('Product')['Product_num'].min()\n",
        "dict_product_id = ts_tmp.to_dict()\n",
        "pd.DataFrame(ts_tmp) "
      ],
      "execution_count": 0,
      "outputs": [
        {
          "output_type": "execute_result",
          "data": {
            "text/html": [
              "<div>\n",
              "<style scoped>\n",
              "    .dataframe tbody tr th:only-of-type {\n",
              "        vertical-align: middle;\n",
              "    }\n",
              "\n",
              "    .dataframe tbody tr th {\n",
              "        vertical-align: top;\n",
              "    }\n",
              "\n",
              "    .dataframe thead th {\n",
              "        text-align: right;\n",
              "    }\n",
              "</style>\n",
              "<table border=\"1\" class=\"dataframe\">\n",
              "  <thead>\n",
              "    <tr style=\"text-align: right;\">\n",
              "      <th></th>\n",
              "      <th>Product_num</th>\n",
              "    </tr>\n",
              "    <tr>\n",
              "      <th>Product</th>\n",
              "      <th></th>\n",
              "    </tr>\n",
              "  </thead>\n",
              "  <tbody>\n",
              "    <tr>\n",
              "      <th>Credit card or prepaid card</th>\n",
              "      <td>0</td>\n",
              "    </tr>\n",
              "    <tr>\n",
              "      <th>Debt collection</th>\n",
              "      <td>1</td>\n",
              "    </tr>\n",
              "    <tr>\n",
              "      <th>Mortgage</th>\n",
              "      <td>2</td>\n",
              "    </tr>\n",
              "    <tr>\n",
              "      <th>Personal consumer reports</th>\n",
              "      <td>3</td>\n",
              "    </tr>\n",
              "  </tbody>\n",
              "</table>\n",
              "</div>"
            ],
            "text/plain": [
              "                             Product_num\n",
              "Product                                 \n",
              "Credit card or prepaid card            0\n",
              "Debt collection                        1\n",
              "Mortgage                               2\n",
              "Personal consumer reports              3"
            ]
          },
          "metadata": {
            "tags": []
          },
          "execution_count": 11
        }
      ]
    },
    {
      "cell_type": "code",
      "metadata": {
        "id": "A5gw8DMp2DV5",
        "colab_type": "code",
        "outputId": "a563a55a-0a07-4f06-ab3d-926269749d99",
        "colab": {
          "base_uri": "https://localhost:8080/",
          "height": 204
        }
      },
      "source": [
        "ts_tmp = df_test.groupby('Product')['Product_num'].min()\n",
        "pd.DataFrame(ts_tmp)"
      ],
      "execution_count": 0,
      "outputs": [
        {
          "output_type": "execute_result",
          "data": {
            "text/html": [
              "<div>\n",
              "<style scoped>\n",
              "    .dataframe tbody tr th:only-of-type {\n",
              "        vertical-align: middle;\n",
              "    }\n",
              "\n",
              "    .dataframe tbody tr th {\n",
              "        vertical-align: top;\n",
              "    }\n",
              "\n",
              "    .dataframe thead th {\n",
              "        text-align: right;\n",
              "    }\n",
              "</style>\n",
              "<table border=\"1\" class=\"dataframe\">\n",
              "  <thead>\n",
              "    <tr style=\"text-align: right;\">\n",
              "      <th></th>\n",
              "      <th>Product_num</th>\n",
              "    </tr>\n",
              "    <tr>\n",
              "      <th>Product</th>\n",
              "      <th></th>\n",
              "    </tr>\n",
              "  </thead>\n",
              "  <tbody>\n",
              "    <tr>\n",
              "      <th>Credit card or prepaid card</th>\n",
              "      <td>0</td>\n",
              "    </tr>\n",
              "    <tr>\n",
              "      <th>Debt collection</th>\n",
              "      <td>1</td>\n",
              "    </tr>\n",
              "    <tr>\n",
              "      <th>Mortgage</th>\n",
              "      <td>2</td>\n",
              "    </tr>\n",
              "    <tr>\n",
              "      <th>Personal consumer reports</th>\n",
              "      <td>3</td>\n",
              "    </tr>\n",
              "  </tbody>\n",
              "</table>\n",
              "</div>"
            ],
            "text/plain": [
              "                             Product_num\n",
              "Product                                 \n",
              "Credit card or prepaid card            0\n",
              "Debt collection                        1\n",
              "Mortgage                               2\n",
              "Personal consumer reports              3"
            ]
          },
          "metadata": {
            "tags": []
          },
          "execution_count": 12
        }
      ]
    },
    {
      "cell_type": "code",
      "metadata": {
        "id": "jwJUAcaa2gG-",
        "colab_type": "code",
        "colab": {}
      },
      "source": [
        "# data for model train/evaluate\n",
        "X = df['Consumer complaint narrative']\n",
        "Y = df['Product_num']\n",
        "\n",
        "X_test = df_test['Consumer complaint narrative']\n",
        "Y_test = df_test['Product_num']"
      ],
      "execution_count": 0,
      "outputs": []
    },
    {
      "cell_type": "code",
      "metadata": {
        "id": "tKJU_DZU91bc",
        "colab_type": "code",
        "colab": {}
      },
      "source": [
        "# split up the data\n",
        "seed = 100\n",
        "val_size = 0.3\n",
        "\n",
        "#split dataset into train and test sets\n",
        "X_train, X_val, y_train, y_val = train_test_split(X, Y, \n",
        "                                                    test_size=val_size, \n",
        "                                                    random_state=seed)"
      ],
      "execution_count": 0,
      "outputs": []
    },
    {
      "cell_type": "code",
      "metadata": {
        "id": "AXdOWbcpwEFY",
        "colab_type": "code",
        "outputId": "aaa5ef30-3b62-4234-e343-2a625556a29a",
        "colab": {
          "base_uri": "https://localhost:8080/",
          "height": 221
        }
      },
      "source": [
        "X_train.iloc[::200]"
      ],
      "execution_count": 0,
      "outputs": [
        {
          "output_type": "execute_result",
          "data": {
            "text/plain": [
              "159240    I failed to receive statements from Well Fargo...\n",
              "156338    I've been a user of Citibank XXXX XXXX credit ...\n",
              "363326    XXXX claims they are collecting a debt and or ...\n",
              "386717    Since I have n't had debt to anyone for over t...\n",
              "322244    I mailed a letter XXXX requesting debt validat...\n",
              "                                ...                        \n",
              "103357    I have disputed the late payments on this XXXX...\n",
              "43970     Contacted bureau to investigate incorrect acco...\n",
              "130221    XXXX  is reporting a debt that is fraudulent. ...\n",
              "92943     XXXX XXXX XXXX  XXXX XXXX XXXX XXXX  XXXX, MN ...\n",
              "96445     I disputed an Americollect account that is rep...\n",
              "Name: Consumer complaint narrative, Length: 322, dtype: object"
            ]
          },
          "metadata": {
            "tags": []
          },
          "execution_count": 15
        }
      ]
    },
    {
      "cell_type": "code",
      "metadata": {
        "id": "eHH9S7HywEL6",
        "colab_type": "code",
        "outputId": "fcff464e-81ac-4f40-cd6a-6b6488f09788",
        "colab": {
          "base_uri": "https://localhost:8080/",
          "height": 221
        }
      },
      "source": [
        "y_train.iloc[::200]"
      ],
      "execution_count": 0,
      "outputs": [
        {
          "output_type": "execute_result",
          "data": {
            "text/plain": [
              "159240    0\n",
              "156338    0\n",
              "363326    1\n",
              "386717    1\n",
              "322244    1\n",
              "         ..\n",
              "103357    3\n",
              "43970     3\n",
              "130221    3\n",
              "92943     3\n",
              "96445     3\n",
              "Name: Product_num, Length: 322, dtype: int64"
            ]
          },
          "metadata": {
            "tags": []
          },
          "execution_count": 16
        }
      ]
    },
    {
      "cell_type": "markdown",
      "metadata": {
        "id": "8p3UfgwO67T3",
        "colab_type": "text"
      },
      "source": [
        "#**Build Deep Learning model (Embeding+LSTM+MaxPooling)**"
      ]
    },
    {
      "cell_type": "code",
      "metadata": {
        "id": "WIOc5vxr9_iJ",
        "colab_type": "code",
        "colab": {}
      },
      "source": [
        "# convert sentences to sequences\n",
        "\n",
        "#Tolkeniser \n",
        "# converts each sentence into list of tokens\n",
        "# converts list of tokens into the list of integers where each integer corresponds to a word in the BofW disctionary\n",
        "\n",
        "MAX_VOCAB_SIZE = 20000\n",
        "tokenizer = Tokenizer(num_words=MAX_VOCAB_SIZE)\n",
        "\n",
        "# train tolkeniser on X_train (tolkenise, build BoW dictionary, word2index)\n",
        "tokenizer.fit_on_texts(X_train)\n",
        "\n",
        "# sentence2list:\n",
        "# get lists of indexies for each token in each sentence in df_train and df_test based on BoW dictionary from train\n",
        "sequences_train = tokenizer.texts_to_sequences(X_train)\n",
        "sequences_val = tokenizer.texts_to_sequences(X_val)\n",
        "sequences_test = tokenizer.texts_to_sequences(X_test)"
      ],
      "execution_count": 0,
      "outputs": []
    },
    {
      "cell_type": "code",
      "metadata": {
        "id": "vnloD6Kvx6C1",
        "colab_type": "code",
        "outputId": "ee2e2488-0bc7-4f6d-9d92-00fc7978c960",
        "colab": {
          "base_uri": "https://localhost:8080/",
          "height": 1000
        }
      },
      "source": [
        "ind=9\n",
        "\n",
        "print('Result of Tolkeniser preprocessing is list of lists of indexies', type(sequences_train))\n",
        "print('\\nExample:\\n',X_train.iloc[ind],'\\n\\nIs transfromed to:')\n",
        "sequences_train[ind]"
      ],
      "execution_count": 0,
      "outputs": [
        {
          "output_type": "stream",
          "text": [
            "Result of Tolkeniser preprocessing is list of lists of indexies <class 'list'>\n",
            "\n",
            "Example:\n",
            " I need to get my name straight on my credit report. XXXX XXXX XXXX is my name please remove any other name from my credit report it is not accurate. I have only one employer XXXX. please remove any other employer from my report they are not accurate. I have a few unverified account I am not sure how they showed up on my report never done business with these companies?? Please forward me the proper verification this is the third time I have complained about this accounts on my credit report it is not accurate and was never verified according to the FCRA guidelines 623,611 please remove the following account they are not accurate : XXXX XXXX XXXX # XXXX, XXXX XXXX  # XXXX, XXXX XXXX XXXX  # XXXX, XXXX & XXXX XXXX XXXX XXXX XXXX # XXXX XXXX XXXX XXXX XXXX  # XXXX \n",
            "\n",
            "Is transfromed to:\n"
          ],
          "name": "stdout"
        },
        {
          "output_type": "execute_result",
          "data": {
            "text/plain": [
              "[3,\n",
              " 172,\n",
              " 4,\n",
              " 85,\n",
              " 7,\n",
              " 139,\n",
              " 2378,\n",
              " 13,\n",
              " 7,\n",
              " 22,\n",
              " 47,\n",
              " 1,\n",
              " 1,\n",
              " 1,\n",
              " 19,\n",
              " 7,\n",
              " 139,\n",
              " 130,\n",
              " 228,\n",
              " 54,\n",
              " 132,\n",
              " 139,\n",
              " 24,\n",
              " 7,\n",
              " 22,\n",
              " 47,\n",
              " 23,\n",
              " 19,\n",
              " 16,\n",
              " 663,\n",
              " 3,\n",
              " 18,\n",
              " 104,\n",
              " 79,\n",
              " 1224,\n",
              " 1,\n",
              " 130,\n",
              " 228,\n",
              " 54,\n",
              " 132,\n",
              " 1224,\n",
              " 24,\n",
              " 7,\n",
              " 47,\n",
              " 14,\n",
              " 38,\n",
              " 16,\n",
              " 663,\n",
              " 3,\n",
              " 18,\n",
              " 6,\n",
              " 437,\n",
              " 1222,\n",
              " 25,\n",
              " 3,\n",
              " 62,\n",
              " 16,\n",
              " 470,\n",
              " 154,\n",
              " 14,\n",
              " 748,\n",
              " 86,\n",
              " 13,\n",
              " 7,\n",
              " 47,\n",
              " 67,\n",
              " 257,\n",
              " 205,\n",
              " 21,\n",
              " 113,\n",
              " 409,\n",
              " 130,\n",
              " 715,\n",
              " 20,\n",
              " 2,\n",
              " 815,\n",
              " 489,\n",
              " 15,\n",
              " 19,\n",
              " 2,\n",
              " 582,\n",
              " 63,\n",
              " 3,\n",
              " 18,\n",
              " 1811,\n",
              " 92,\n",
              " 15,\n",
              " 129,\n",
              " 13,\n",
              " 7,\n",
              " 22,\n",
              " 47,\n",
              " 23,\n",
              " 19,\n",
              " 16,\n",
              " 663,\n",
              " 5,\n",
              " 11,\n",
              " 67,\n",
              " 426,\n",
              " 555,\n",
              " 4,\n",
              " 2,\n",
              " 458,\n",
              " 1209,\n",
              " 1745,\n",
              " 1516,\n",
              " 130,\n",
              " 228,\n",
              " 2,\n",
              " 341,\n",
              " 25,\n",
              " 14,\n",
              " 38,\n",
              " 16,\n",
              " 663,\n",
              " 1,\n",
              " 1,\n",
              " 1,\n",
              " 1,\n",
              " 1,\n",
              " 1,\n",
              " 1,\n",
              " 1,\n",
              " 1,\n",
              " 1,\n",
              " 1,\n",
              " 1,\n",
              " 1,\n",
              " 1,\n",
              " 1,\n",
              " 1,\n",
              " 1,\n",
              " 1,\n",
              " 1,\n",
              " 1,\n",
              " 1,\n",
              " 1,\n",
              " 1]"
            ]
          },
          "metadata": {
            "tags": []
          },
          "execution_count": 18
        }
      ]
    },
    {
      "cell_type": "code",
      "metadata": {
        "id": "eOYik_gyyPFf",
        "colab_type": "code",
        "outputId": "0286bf2d-d381-4749-bc03-36491b1144a6",
        "colab": {
          "base_uri": "https://localhost:8080/",
          "height": 282
        }
      },
      "source": [
        "# look at the distribution of sentence token counts in X_train\n",
        "ts = pd.Series([len(s) for s in sequences_train])\n",
        "ts.hist(bins=100)\n",
        "print('Most sentences have less than 500 tokens:')"
      ],
      "execution_count": 0,
      "outputs": [
        {
          "output_type": "stream",
          "text": [
            "Most sentences have less than 500 tokens:\n"
          ],
          "name": "stdout"
        },
        {
          "output_type": "display_data",
          "data": {
            "image/png": "[encoded data removed]",
            "text/plain": [
              "<Figure size 432x288 with 1 Axes>"
            ]
          },
          "metadata": {
            "tags": []
          }
        }
      ]
    },
    {
      "cell_type": "markdown",
      "metadata": {
        "id": "Ed5sSf8I2MgK",
        "colab_type": "text"
      },
      "source": [
        "Hence T=500 is a good candidate for maximum length of the sentence for RNN.\n",
        "\n",
        "In the Tensor RNN data should be NxTxD array \n",
        "where \n",
        "- N is size of the data (number of texts)\n",
        "- T is maximum sequence length\n",
        "- D is number of features (embedding dimensionality)\n"
      ]
    },
    {
      "cell_type": "code",
      "metadata": {
        "id": "Zjyf7BGE-QZN",
        "colab_type": "code",
        "outputId": "7b12b3f2-d2bb-49d1-de0a-b77a7d45d442",
        "colab": {
          "base_uri": "https://localhost:8080/",
          "height": 34
        }
      },
      "source": [
        "# get word -> integer mapping\n",
        "word2idx = tokenizer.word_index\n",
        "V = len(word2idx)\n",
        "print('Found %s unique tokens (vocabulary length).' % V)"
      ],
      "execution_count": 0,
      "outputs": [
        {
          "output_type": "stream",
          "text": [
            "Found 49931 unique tokens (vocabulary length).\n"
          ],
          "name": "stdout"
        }
      ]
    },
    {
      "cell_type": "code",
      "metadata": {
        "id": "NP1W8Cf9-cPo",
        "colab_type": "code",
        "outputId": "a9bdf800-9c51-4cda-d6f9-9b7ed4fa711c",
        "colab": {
          "base_uri": "https://localhost:8080/",
          "height": 34
        }
      },
      "source": [
        "# pad sequences so that we get a N x T matrix\n",
        "T = 500\n",
        "data_train = pad_sequences(sequences=sequences_train,\n",
        "                           maxlen=T,\n",
        "                           padding='pre',\n",
        "                           truncating='post',\n",
        "                           value=0\n",
        "                           )\n",
        "print('Shape of data train tensor:', data_train.shape)"
      ],
      "execution_count": 0,
      "outputs": [
        {
          "output_type": "stream",
          "text": [
            "Shape of data train tensor: (64400, 500)\n"
          ],
          "name": "stdout"
        }
      ]
    },
    {
      "cell_type": "code",
      "metadata": {
        "id": "b6He4SKO-qci",
        "colab_type": "code",
        "outputId": "b2c6de04-336a-4c96-bb27-8e63a60bceee",
        "colab": {
          "base_uri": "https://localhost:8080/",
          "height": 34
        }
      },
      "source": [
        "data_val = pad_sequences(sequences=sequences_val,\n",
        "                           maxlen=T,\n",
        "                           padding='pre',\n",
        "                           truncating='post',\n",
        "                           value=0\n",
        "                           )\n",
        "print('Shape of data test tensor:', data_val.shape)"
      ],
      "execution_count": 0,
      "outputs": [
        {
          "output_type": "stream",
          "text": [
            "Shape of data test tensor: (27600, 500)\n"
          ],
          "name": "stdout"
        }
      ]
    },
    {
      "cell_type": "code",
      "metadata": {
        "id": "w2I_1rTllUz3",
        "colab_type": "code",
        "outputId": "be428c6a-ff6d-4690-ed27-4ba770c5cb67",
        "colab": {
          "base_uri": "https://localhost:8080/",
          "height": 34
        }
      },
      "source": [
        "data_test = pad_sequences(sequences=sequences_test,\n",
        "                           maxlen=T,\n",
        "                           padding='pre',\n",
        "                           truncating='post',\n",
        "                           value=0\n",
        "                           )\n",
        "print('Shape of data test tensor:', data_test.shape)"
      ],
      "execution_count": 0,
      "outputs": [
        {
          "output_type": "stream",
          "text": [
            "Shape of data test tensor: (8000, 500)\n"
          ],
          "name": "stdout"
        }
      ]
    },
    {
      "cell_type": "code",
      "metadata": {
        "id": "sFnA0eiI-2BM",
        "colab_type": "code",
        "outputId": "a5c62051-a94d-433b-eadf-ccc0c0a0239f",
        "colab": {
          "base_uri": "https://localhost:8080/",
          "height": 323
        }
      },
      "source": [
        "# create the model\n",
        "\n",
        "# embedding dimensionality\n",
        "D = 20\n",
        "\n",
        "# hidden state dimensionality\n",
        "M = 10\n",
        "\n",
        "###### Construct the Model ###########\n",
        "i = Input(shape=(T,))\n",
        "\n",
        "x = Embedding(V + 1, D)(i) \n",
        "x = LSTM(M, return_sequences=True)(x) \n",
        "x = GlobalMaxPooling1D()(x) \n",
        "x = Dense(4, activation='softmax')(x) #labels should start from 0\n",
        "\n",
        "###### Compile the Model ###########\n",
        "model = Model(i, x)\n",
        "model.summary()"
      ],
      "execution_count": 0,
      "outputs": [
        {
          "output_type": "stream",
          "text": [
            "Model: \"model\"\n",
            "_________________________________________________________________\n",
            "Layer (type)                 Output Shape              Param #   \n",
            "=================================================================\n",
            "input_1 (InputLayer)         [(None, 500)]             0         \n",
            "_________________________________________________________________\n",
            "embedding (Embedding)        (None, 500, 20)           998640    \n",
            "_________________________________________________________________\n",
            "lstm (LSTM)                  (None, 500, 10)           1240      \n",
            "_________________________________________________________________\n",
            "global_max_pooling1d (Global (None, 10)                0         \n",
            "_________________________________________________________________\n",
            "dense (Dense)                (None, 4)                 44        \n",
            "=================================================================\n",
            "Total params: 999,924\n",
            "Trainable params: 999,924\n",
            "Non-trainable params: 0\n",
            "_________________________________________________________________\n"
          ],
          "name": "stdout"
        }
      ]
    },
    {
      "cell_type": "code",
      "metadata": {
        "id": "DyBTI9wr_cvG",
        "colab_type": "code",
        "outputId": "3774115c-156a-4315-9e2d-1ac928ea8296",
        "colab": {
          "base_uri": "https://localhost:8080/",
          "height": 153
        }
      },
      "source": [
        "# compile and fit\n",
        "model.compile(\n",
        "  loss='sparse_categorical_crossentropy',\n",
        "  optimizer='adam',\n",
        "  metrics=['accuracy']\n",
        ")\n",
        "\n",
        "\n",
        "print('Training model...')\n",
        "r = model.fit(\n",
        "  data_train,\n",
        "  y_train.values,\n",
        "  epochs=3,\n",
        "  validation_data=(data_val, y_val.values)\n",
        ")"
      ],
      "execution_count": 0,
      "outputs": [
        {
          "output_type": "stream",
          "text": [
            "Training model...\n",
            "Train on 64400 samples, validate on 27600 samples\n",
            "Epoch 1/3\n",
            "64400/64400 [==============================] - 196s 3ms/sample - loss: 0.6297 - accuracy: 0.7647 - val_loss: 0.3934 - val_accuracy: 0.8676\n",
            "Epoch 2/3\n",
            "64400/64400 [==============================] - 188s 3ms/sample - loss: 0.3404 - accuracy: 0.8863 - val_loss: 0.3330 - val_accuracy: 0.8878\n",
            "Epoch 3/3\n",
            "64400/64400 [==============================] - 187s 3ms/sample - loss: 0.2825 - accuracy: 0.9054 - val_loss: 0.3224 - val_accuracy: 0.8916\n"
          ],
          "name": "stdout"
        }
      ]
    },
    {
      "cell_type": "code",
      "metadata": {
        "id": "j636obn9CE7A",
        "colab_type": "code",
        "outputId": "57759928-1540-4016-d02e-752242bbd61f",
        "colab": {
          "base_uri": "https://localhost:8080/",
          "height": 314
        }
      },
      "source": [
        "# plot loss per iteration\n",
        "#https://stats.stackexchange.com/questions/187335/validation-error-less-than-training-error\n",
        "ax = plt.subplot(111)\n",
        "ax.plot(r.history['loss'], label='train_loss')\n",
        "ax.plot(r.history['val_loss'], label='val_loss')\n",
        "\n",
        "ax.spines['right'].set_visible(False)\n",
        "ax.spines['top'].set_visible(False)\n",
        "\n",
        "plt.title('Training and validation loss',fontsize=16)\n",
        "plt.xlabel('Epoch number')\n",
        "plt.grid(axis='y',color='g', alpha=0.3, linestyle=':')\n",
        "plt.legend()"
      ],
      "execution_count": 0,
      "outputs": [
        {
          "output_type": "execute_result",
          "data": {
            "text/plain": [
              "<matplotlib.legend.Legend at 0x7f751d179e10>"
            ]
          },
          "metadata": {
            "tags": []
          },
          "execution_count": 26
        },
        {
          "output_type": "display_data",
          "data": {
            "image/png": "[encoded data removed]",
            "text/plain": [
              "<Figure size 432x288 with 1 Axes>"
            ]
          },
          "metadata": {
            "tags": []
          }
        }
      ]
    },
    {
      "cell_type": "code",
      "metadata": {
        "id": "QIK6WwUNCGlR",
        "colab_type": "code",
        "outputId": "99b680f9-b75f-445b-cc2d-9820ad16abdc",
        "colab": {
          "base_uri": "https://localhost:8080/",
          "height": 314
        }
      },
      "source": [
        "# plot accuracy per iteration\n",
        "ax = plt.subplot(111)\n",
        "ax.plot(r.history['accuracy'], label='train_acc')\n",
        "ax.plot(r.history['val_accuracy'], label='val_acc')\n",
        "\n",
        "ax.spines['right'].set_visible(False)\n",
        "ax.spines['top'].set_visible(False)\n",
        "\n",
        "plt.title('Training and validation accuracy',fontsize=16)\n",
        "plt.xlabel('Epoch number')\n",
        "plt.grid(axis='y',color='g', alpha=0.3, linestyle=':')\n",
        "plt.legend()"
      ],
      "execution_count": 0,
      "outputs": [
        {
          "output_type": "execute_result",
          "data": {
            "text/plain": [
              "<matplotlib.legend.Legend at 0x7f751d1616d8>"
            ]
          },
          "metadata": {
            "tags": []
          },
          "execution_count": 27
        },
        {
          "output_type": "display_data",
          "data": {
            "image/png": "[encoded data removed]",
            "text/plain": [
              "<Figure size 432x288 with 1 Axes>"
            ]
          },
          "metadata": {
            "tags": []
          }
        }
      ]
    },
    {
      "cell_type": "code",
      "metadata": {
        "id": "pthEv_QZ6_1P",
        "colab_type": "code",
        "outputId": "db7111ee-69f4-421c-a865-f6cb7a03b1a0",
        "colab": {
          "base_uri": "https://localhost:8080/",
          "height": 34
        }
      },
      "source": [
        "y_pred_prob = model.predict(data_test)\n",
        "y_pred_prob.shape"
      ],
      "execution_count": 0,
      "outputs": [
        {
          "output_type": "execute_result",
          "data": {
            "text/plain": [
              "(8000, 4)"
            ]
          },
          "metadata": {
            "tags": []
          },
          "execution_count": 31
        }
      ]
    },
    {
      "cell_type": "code",
      "metadata": {
        "id": "5a2fpf2xGC49",
        "colab_type": "code",
        "outputId": "22c9a34d-31e6-4f3e-9afd-0224044aa0f7",
        "colab": {
          "base_uri": "https://localhost:8080/",
          "height": 153
        }
      },
      "source": [
        "y_pred_prob"
      ],
      "execution_count": 0,
      "outputs": [
        {
          "output_type": "execute_result",
          "data": {
            "text/plain": [
              "array([[1.8217376e-02, 4.2414716e-01, 2.5218423e-03, 5.5511361e-01],\n",
              "       [8.1919897e-03, 1.0094382e-02, 2.5271479e-04, 9.8146087e-01],\n",
              "       [1.1011400e-03, 8.7356130e-03, 5.5562245e-04, 9.8960763e-01],\n",
              "       ...,\n",
              "       [9.9503160e-01, 4.8587727e-04, 1.3392549e-03, 3.1432691e-03],\n",
              "       [9.9561501e-01, 1.2875585e-03, 1.1872884e-03, 1.9102209e-03],\n",
              "       [9.8710084e-01, 1.5788859e-03, 2.9181689e-03, 8.4020430e-03]],\n",
              "      dtype=float32)"
            ]
          },
          "metadata": {
            "tags": []
          },
          "execution_count": 32
        }
      ]
    },
    {
      "cell_type": "code",
      "metadata": {
        "id": "kvAwxrgi7Lsz",
        "colab_type": "code",
        "colab": {}
      },
      "source": [
        "y_pred = np.argmax(y_pred_prob, axis=1)"
      ],
      "execution_count": 0,
      "outputs": []
    },
    {
      "cell_type": "code",
      "metadata": {
        "id": "7SETn-fpAw4p",
        "colab_type": "code",
        "outputId": "d1320245-8006-4912-ad84-bde09593c882",
        "colab": {
          "base_uri": "https://localhost:8080/",
          "height": 34
        }
      },
      "source": [
        "y_pred"
      ],
      "execution_count": 0,
      "outputs": [
        {
          "output_type": "execute_result",
          "data": {
            "text/plain": [
              "array([3, 3, 3, ..., 0, 0, 0])"
            ]
          },
          "metadata": {
            "tags": []
          },
          "execution_count": 34
        }
      ]
    },
    {
      "cell_type": "code",
      "metadata": {
        "id": "hUmodUi5vuFg",
        "colab_type": "code",
        "outputId": "27bf28c6-c117-45e6-fa4b-6e6d74f403e6",
        "colab": {
          "base_uri": "https://localhost:8080/",
          "height": 51
        }
      },
      "source": [
        "#model evaluation\n",
        "score = accuracy_score(Y_test, y_pred)\n",
        "f_score = f1_score(Y_test, y_pred, average='micro')\n",
        "print(\"The accuracy score (NN) is:\", score)\n",
        "print(\"The F score-Micro (NN) is:\", f_score)"
      ],
      "execution_count": 0,
      "outputs": [
        {
          "output_type": "stream",
          "text": [
            "The accuracy score (NN) is: 0.896375\n",
            "The F score-Micro (NN) is: 0.896375\n"
          ],
          "name": "stdout"
        }
      ]
    },
    {
      "cell_type": "code",
      "metadata": {
        "id": "4leMynSBGQY1",
        "colab_type": "code",
        "outputId": "4dda2772-fb30-4b90-b3be-38c6004d4ec8",
        "colab": {
          "base_uri": "https://localhost:8080/",
          "height": 543
        }
      },
      "source": [
        "# confusion matrix\n",
        "cm = confusion_matrix(Y_test, y_pred) \n",
        "\n",
        "cm_df = pd.DataFrame(cm,\n",
        "                     index = ['Credit card or prepaid card',\n",
        "                              'Debt collection','Mortgage', \n",
        "                              'Personal consumer reports'],                      \n",
        "                     columns = ['Credit card or prepaid card',\n",
        "                              'Debt collection','Mortgage', \n",
        "                              'Personal consumer reports'])\n",
        "\n",
        "# plot the heatmap\n",
        "plt.figure(figsize=(12, 8))\n",
        "\n",
        "sns.heatmap(cm_df, \n",
        "            center=0, \n",
        "            cmap=sns.diverging_palette(10, 240, s=80, l=55, as_cmap=True), \n",
        "            annot=True, \n",
        "            fmt='g')\n",
        "\n",
        "plt.title('ANN\\n unseen data accuracy: ' + str(accuracy_score(Y_test, y_pred)), fontsize = 18)\n",
        "plt.ylabel('True label', fontsize = 16)\n",
        "plt.xlabel('Predicted label', fontsize = 16)\n",
        "plt.show()"
      ],
      "execution_count": 0,
      "outputs": [
        {
          "output_type": "display_data",
          "data": {
            "image/png": "[encoded data removed]",
            "text/plain": [
              "<Figure size 864x576 with 2 Axes>"
            ]
          },
          "metadata": {
            "tags": []
          }
        }
      ]
    },
    {
      "cell_type": "code",
      "metadata": {
        "id": "ayVbv1YZG0IK",
        "colab_type": "code",
        "colab": {}
      },
      "source": [
        ""
      ],
      "execution_count": 0,
      "outputs": []
    }
  ]
}