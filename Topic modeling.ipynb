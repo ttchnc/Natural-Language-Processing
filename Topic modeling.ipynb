{
 "cells": [
  {
   "cell_type": "markdown",
   "metadata": {},
   "source": [
    "# Data \n",
    "Source: 'https://raw.githubusercontent.com/selva86/datasets/master/newsgroups.json'\n",
    "\n",
    "Goal:    **Model email topics**\n",
    "\n",
    "Explanations and theory: https://www.machinelearningplus.com/nlp/topic-modeling-gensim-python/"
   ]
  },
  {
   "cell_type": "markdown",
   "metadata": {},
   "source": [
    "# Load data and python libraries"
   ]
  },
  {
   "cell_type": "code",
   "execution_count": 1,
   "metadata": {},
   "outputs": [
    {
     "data": {
      "text/html": [
       "\n",
       "    <div class=\"bk-root\">\n",
       "        <a href=\"https://bokeh.pydata.org\" target=\"_blank\" class=\"bk-logo bk-logo-small bk-logo-notebook\"></a>\n",
       "        <span id=\"1001\">Loading BokehJS ...</span>\n",
       "    </div>"
      ]
     },
     "metadata": {},
     "output_type": "display_data"
    },
    {
     "data": {
      "application/javascript": [
       "\n",
       "(function(root) {\n",
       "  function now() {\n",
       "    return new Date();\n",
       "  }\n",
       "\n",
       "  var force = true;\n",
       "\n",
       "  if (typeof (root._bokeh_onload_callbacks) === \"undefined\" || force === true) {\n",
       "    root._bokeh_onload_callbacks = [];\n",
       "    root._bokeh_is_loading = undefined;\n",
       "  }\n",
       "\n",
       "  var JS_MIME_TYPE = 'application/javascript';\n",
       "  var HTML_MIME_TYPE = 'text/html';\n",
       "  var EXEC_MIME_TYPE = 'application/vnd.bokehjs_exec.v0+json';\n",
       "  var CLASS_NAME = 'output_bokeh rendered_html';\n",
       "\n",
       "  /**\n",
       "   * Render data to the DOM node\n",
       "   */\n",
       "  function render(props, node) {\n",
       "    var script = document.createElement(\"script\");\n",
       "    node.appendChild(script);\n",
       "  }\n",
       "\n",
       "  /**\n",
       "   * Handle when an output is cleared or removed\n",
       "   */\n",
       "  function handleClearOutput(event, handle) {\n",
       "    var cell = handle.cell;\n",
       "\n",
       "    var id = cell.output_area._bokeh_element_id;\n",
       "    var server_id = cell.output_area._bokeh_server_id;\n",
       "    // Clean up Bokeh references\n",
       "    if (id != null && id in Bokeh.index) {\n",
       "      Bokeh.index[id].model.document.clear();\n",
       "      delete Bokeh.index[id];\n",
       "    }\n",
       "\n",
       "    if (server_id !== undefined) {\n",
       "      // Clean up Bokeh references\n",
       "      var cmd = \"from bokeh.io.state import curstate; print(curstate().uuid_to_server['\" + server_id + \"'].get_sessions()[0].document.roots[0]._id)\";\n",
       "      cell.notebook.kernel.execute(cmd, {\n",
       "        iopub: {\n",
       "          output: function(msg) {\n",
       "            var id = msg.content.text.trim();\n",
       "            if (id in Bokeh.index) {\n",
       "              Bokeh.index[id].model.document.clear();\n",
       "              delete Bokeh.index[id];\n",
       "            }\n",
       "          }\n",
       "        }\n",
       "      });\n",
       "      // Destroy server and session\n",
       "      var cmd = \"import bokeh.io.notebook as ion; ion.destroy_server('\" + server_id + \"')\";\n",
       "      cell.notebook.kernel.execute(cmd);\n",
       "    }\n",
       "  }\n",
       "\n",
       "  /**\n",
       "   * Handle when a new output is added\n",
       "   */\n",
       "  function handleAddOutput(event, handle) {\n",
       "    var output_area = handle.output_area;\n",
       "    var output = handle.output;\n",
       "\n",
       "    // limit handleAddOutput to display_data with EXEC_MIME_TYPE content only\n",
       "    if ((output.output_type != \"display_data\") || (!output.data.hasOwnProperty(EXEC_MIME_TYPE))) {\n",
       "      return\n",
       "    }\n",
       "\n",
       "    var toinsert = output_area.element.find(\".\" + CLASS_NAME.split(' ')[0]);\n",
       "\n",
       "    if (output.metadata[EXEC_MIME_TYPE][\"id\"] !== undefined) {\n",
       "      toinsert[toinsert.length - 1].firstChild.textContent = output.data[JS_MIME_TYPE];\n",
       "      // store reference to embed id on output_area\n",
       "      output_area._bokeh_element_id = output.metadata[EXEC_MIME_TYPE][\"id\"];\n",
       "    }\n",
       "    if (output.metadata[EXEC_MIME_TYPE][\"server_id\"] !== undefined) {\n",
       "      var bk_div = document.createElement(\"div\");\n",
       "      bk_div.innerHTML = output.data[HTML_MIME_TYPE];\n",
       "      var script_attrs = bk_div.children[0].attributes;\n",
       "      for (var i = 0; i < script_attrs.length; i++) {\n",
       "        toinsert[toinsert.length - 1].firstChild.setAttribute(script_attrs[i].name, script_attrs[i].value);\n",
       "      }\n",
       "      // store reference to server id on output_area\n",
       "      output_area._bokeh_server_id = output.metadata[EXEC_MIME_TYPE][\"server_id\"];\n",
       "    }\n",
       "  }\n",
       "\n",
       "  function register_renderer(events, OutputArea) {\n",
       "\n",
       "    function append_mime(data, metadata, element) {\n",
       "      // create a DOM node to render to\n",
       "      var toinsert = this.create_output_subarea(\n",
       "        metadata,\n",
       "        CLASS_NAME,\n",
       "        EXEC_MIME_TYPE\n",
       "      );\n",
       "      this.keyboard_manager.register_events(toinsert);\n",
       "      // Render to node\n",
       "      var props = {data: data, metadata: metadata[EXEC_MIME_TYPE]};\n",
       "      render(props, toinsert[toinsert.length - 1]);\n",
       "      element.append(toinsert);\n",
       "      return toinsert\n",
       "    }\n",
       "\n",
       "    /* Handle when an output is cleared or removed */\n",
       "    events.on('clear_output.CodeCell', handleClearOutput);\n",
       "    events.on('delete.Cell', handleClearOutput);\n",
       "\n",
       "    /* Handle when a new output is added */\n",
       "    events.on('output_added.OutputArea', handleAddOutput);\n",
       "\n",
       "    /**\n",
       "     * Register the mime type and append_mime function with output_area\n",
       "     */\n",
       "    OutputArea.prototype.register_mime_type(EXEC_MIME_TYPE, append_mime, {\n",
       "      /* Is output safe? */\n",
       "      safe: true,\n",
       "      /* Index of renderer in `output_area.display_order` */\n",
       "      index: 0\n",
       "    });\n",
       "  }\n",
       "\n",
       "  // register the mime type if in Jupyter Notebook environment and previously unregistered\n",
       "  if (root.Jupyter !== undefined) {\n",
       "    var events = require('base/js/events');\n",
       "    var OutputArea = require('notebook/js/outputarea').OutputArea;\n",
       "\n",
       "    if (OutputArea.prototype.mime_types().indexOf(EXEC_MIME_TYPE) == -1) {\n",
       "      register_renderer(events, OutputArea);\n",
       "    }\n",
       "  }\n",
       "\n",
       "  \n",
       "  if (typeof (root._bokeh_timeout) === \"undefined\" || force === true) {\n",
       "    root._bokeh_timeout = Date.now() + 5000;\n",
       "    root._bokeh_failed_load = false;\n",
       "  }\n",
       "\n",
       "  var NB_LOAD_WARNING = {'data': {'text/html':\n",
       "     \"<div style='background-color: #fdd'>\\n\"+\n",
       "     \"<p>\\n\"+\n",
       "     \"BokehJS does not appear to have successfully loaded. If loading BokehJS from CDN, this \\n\"+\n",
       "     \"may be due to a slow or bad network connection. Possible fixes:\\n\"+\n",
       "     \"</p>\\n\"+\n",
       "     \"<ul>\\n\"+\n",
       "     \"<li>re-rerun `output_notebook()` to attempt to load from CDN again, or</li>\\n\"+\n",
       "     \"<li>use INLINE resources instead, as so:</li>\\n\"+\n",
       "     \"</ul>\\n\"+\n",
       "     \"<code>\\n\"+\n",
       "     \"from bokeh.resources import INLINE\\n\"+\n",
       "     \"output_notebook(resources=INLINE)\\n\"+\n",
       "     \"</code>\\n\"+\n",
       "     \"</div>\"}};\n",
       "\n",
       "  function display_loaded() {\n",
       "    var el = document.getElementById(\"1001\");\n",
       "    if (el != null) {\n",
       "      el.textContent = \"BokehJS is loading...\";\n",
       "    }\n",
       "    if (root.Bokeh !== undefined) {\n",
       "      if (el != null) {\n",
       "        el.textContent = \"BokehJS \" + root.Bokeh.version + \" successfully loaded.\";\n",
       "      }\n",
       "    } else if (Date.now() < root._bokeh_timeout) {\n",
       "      setTimeout(display_loaded, 100)\n",
       "    }\n",
       "  }\n",
       "\n",
       "\n",
       "  function run_callbacks() {\n",
       "    try {\n",
       "      root._bokeh_onload_callbacks.forEach(function(callback) { callback() });\n",
       "    }\n",
       "    finally {\n",
       "      delete root._bokeh_onload_callbacks\n",
       "    }\n",
       "    console.info(\"Bokeh: all callbacks have finished\");\n",
       "  }\n",
       "\n",
       "  function load_libs(js_urls, callback) {\n",
       "    root._bokeh_onload_callbacks.push(callback);\n",
       "    if (root._bokeh_is_loading > 0) {\n",
       "      console.log(\"Bokeh: BokehJS is being loaded, scheduling callback at\", now());\n",
       "      return null;\n",
       "    }\n",
       "    if (js_urls == null || js_urls.length === 0) {\n",
       "      run_callbacks();\n",
       "      return null;\n",
       "    }\n",
       "    console.log(\"Bokeh: BokehJS not loaded, scheduling load and callback at\", now());\n",
       "    root._bokeh_is_loading = js_urls.length;\n",
       "    for (var i = 0; i < js_urls.length; i++) {\n",
       "      var url = js_urls[i];\n",
       "      var s = document.createElement('script');\n",
       "      s.src = url;\n",
       "      s.async = false;\n",
       "      s.onreadystatechange = s.onload = function() {\n",
       "        root._bokeh_is_loading--;\n",
       "        if (root._bokeh_is_loading === 0) {\n",
       "          console.log(\"Bokeh: all BokehJS libraries loaded\");\n",
       "          run_callbacks()\n",
       "        }\n",
       "      };\n",
       "      s.onerror = function() {\n",
       "        console.warn(\"failed to load library \" + url);\n",
       "      };\n",
       "      console.log(\"Bokeh: injecting script tag for BokehJS library: \", url);\n",
       "      document.getElementsByTagName(\"head\")[0].appendChild(s);\n",
       "    }\n",
       "  };var element = document.getElementById(\"1001\");\n",
       "  if (element == null) {\n",
       "    console.log(\"Bokeh: ERROR: autoload.js configured with elementid '1001' but no matching script tag was found. \")\n",
       "    return false;\n",
       "  }\n",
       "\n",
       "  var js_urls = [\"https://cdn.pydata.org/bokeh/release/bokeh-1.0.4.min.js\", \"https://cdn.pydata.org/bokeh/release/bokeh-widgets-1.0.4.min.js\", \"https://cdn.pydata.org/bokeh/release/bokeh-tables-1.0.4.min.js\", \"https://cdn.pydata.org/bokeh/release/bokeh-gl-1.0.4.min.js\"];\n",
       "\n",
       "  var inline_js = [\n",
       "    function(Bokeh) {\n",
       "      Bokeh.set_log_level(\"info\");\n",
       "    },\n",
       "    \n",
       "    function(Bokeh) {\n",
       "      \n",
       "    },\n",
       "    function(Bokeh) {\n",
       "      console.log(\"Bokeh: injecting CSS: https://cdn.pydata.org/bokeh/release/bokeh-1.0.4.min.css\");\n",
       "      Bokeh.embed.inject_css(\"https://cdn.pydata.org/bokeh/release/bokeh-1.0.4.min.css\");\n",
       "      console.log(\"Bokeh: injecting CSS: https://cdn.pydata.org/bokeh/release/bokeh-widgets-1.0.4.min.css\");\n",
       "      Bokeh.embed.inject_css(\"https://cdn.pydata.org/bokeh/release/bokeh-widgets-1.0.4.min.css\");\n",
       "      console.log(\"Bokeh: injecting CSS: https://cdn.pydata.org/bokeh/release/bokeh-tables-1.0.4.min.css\");\n",
       "      Bokeh.embed.inject_css(\"https://cdn.pydata.org/bokeh/release/bokeh-tables-1.0.4.min.css\");\n",
       "    }\n",
       "  ];\n",
       "\n",
       "  function run_inline_js() {\n",
       "    \n",
       "    if ((root.Bokeh !== undefined) || (force === true)) {\n",
       "      for (var i = 0; i < inline_js.length; i++) {\n",
       "        inline_js[i].call(root, root.Bokeh);\n",
       "      }if (force === true) {\n",
       "        display_loaded();\n",
       "      }} else if (Date.now() < root._bokeh_timeout) {\n",
       "      setTimeout(run_inline_js, 100);\n",
       "    } else if (!root._bokeh_failed_load) {\n",
       "      console.log(\"Bokeh: BokehJS failed to load within specified timeout.\");\n",
       "      root._bokeh_failed_load = true;\n",
       "    } else if (force !== true) {\n",
       "      var cell = $(document.getElementById(\"1001\")).parents('.cell').data().cell;\n",
       "      cell.output_area.append_execute_result(NB_LOAD_WARNING)\n",
       "    }\n",
       "\n",
       "  }\n",
       "\n",
       "  if (root._bokeh_is_loading === 0) {\n",
       "    console.log(\"Bokeh: BokehJS loaded, going straight to plotting\");\n",
       "    run_inline_js();\n",
       "  } else {\n",
       "    load_libs(js_urls, function() {\n",
       "      console.log(\"Bokeh: BokehJS plotting callback run at\", now());\n",
       "      run_inline_js();\n",
       "    });\n",
       "  }\n",
       "}(window));"
      ],
      "application/vnd.bokehjs_load.v0+json": "\n(function(root) {\n  function now() {\n    return new Date();\n  }\n\n  var force = true;\n\n  if (typeof (root._bokeh_onload_callbacks) === \"undefined\" || force === true) {\n    root._bokeh_onload_callbacks = [];\n    root._bokeh_is_loading = undefined;\n  }\n\n  \n\n  \n  if (typeof (root._bokeh_timeout) === \"undefined\" || force === true) {\n    root._bokeh_timeout = Date.now() + 5000;\n    root._bokeh_failed_load = false;\n  }\n\n  var NB_LOAD_WARNING = {'data': {'text/html':\n     \"<div style='background-color: #fdd'>\\n\"+\n     \"<p>\\n\"+\n     \"BokehJS does not appear to have successfully loaded. If loading BokehJS from CDN, this \\n\"+\n     \"may be due to a slow or bad network connection. Possible fixes:\\n\"+\n     \"</p>\\n\"+\n     \"<ul>\\n\"+\n     \"<li>re-rerun `output_notebook()` to attempt to load from CDN again, or</li>\\n\"+\n     \"<li>use INLINE resources instead, as so:</li>\\n\"+\n     \"</ul>\\n\"+\n     \"<code>\\n\"+\n     \"from bokeh.resources import INLINE\\n\"+\n     \"output_notebook(resources=INLINE)\\n\"+\n     \"</code>\\n\"+\n     \"</div>\"}};\n\n  function display_loaded() {\n    var el = document.getElementById(\"1001\");\n    if (el != null) {\n      el.textContent = \"BokehJS is loading...\";\n    }\n    if (root.Bokeh !== undefined) {\n      if (el != null) {\n        el.textContent = \"BokehJS \" + root.Bokeh.version + \" successfully loaded.\";\n      }\n    } else if (Date.now() < root._bokeh_timeout) {\n      setTimeout(display_loaded, 100)\n    }\n  }\n\n\n  function run_callbacks() {\n    try {\n      root._bokeh_onload_callbacks.forEach(function(callback) { callback() });\n    }\n    finally {\n      delete root._bokeh_onload_callbacks\n    }\n    console.info(\"Bokeh: all callbacks have finished\");\n  }\n\n  function load_libs(js_urls, callback) {\n    root._bokeh_onload_callbacks.push(callback);\n    if (root._bokeh_is_loading > 0) {\n      console.log(\"Bokeh: BokehJS is being loaded, scheduling callback at\", now());\n      return null;\n    }\n    if (js_urls == null || js_urls.length === 0) {\n      run_callbacks();\n      return null;\n    }\n    console.log(\"Bokeh: BokehJS not loaded, scheduling load and callback at\", now());\n    root._bokeh_is_loading = js_urls.length;\n    for (var i = 0; i < js_urls.length; i++) {\n      var url = js_urls[i];\n      var s = document.createElement('script');\n      s.src = url;\n      s.async = false;\n      s.onreadystatechange = s.onload = function() {\n        root._bokeh_is_loading--;\n        if (root._bokeh_is_loading === 0) {\n          console.log(\"Bokeh: all BokehJS libraries loaded\");\n          run_callbacks()\n        }\n      };\n      s.onerror = function() {\n        console.warn(\"failed to load library \" + url);\n      };\n      console.log(\"Bokeh: injecting script tag for BokehJS library: \", url);\n      document.getElementsByTagName(\"head\")[0].appendChild(s);\n    }\n  };var element = document.getElementById(\"1001\");\n  if (element == null) {\n    console.log(\"Bokeh: ERROR: autoload.js configured with elementid '1001' but no matching script tag was found. \")\n    return false;\n  }\n\n  var js_urls = [\"https://cdn.pydata.org/bokeh/release/bokeh-1.0.4.min.js\", \"https://cdn.pydata.org/bokeh/release/bokeh-widgets-1.0.4.min.js\", \"https://cdn.pydata.org/bokeh/release/bokeh-tables-1.0.4.min.js\", \"https://cdn.pydata.org/bokeh/release/bokeh-gl-1.0.4.min.js\"];\n\n  var inline_js = [\n    function(Bokeh) {\n      Bokeh.set_log_level(\"info\");\n    },\n    \n    function(Bokeh) {\n      \n    },\n    function(Bokeh) {\n      console.log(\"Bokeh: injecting CSS: https://cdn.pydata.org/bokeh/release/bokeh-1.0.4.min.css\");\n      Bokeh.embed.inject_css(\"https://cdn.pydata.org/bokeh/release/bokeh-1.0.4.min.css\");\n      console.log(\"Bokeh: injecting CSS: https://cdn.pydata.org/bokeh/release/bokeh-widgets-1.0.4.min.css\");\n      Bokeh.embed.inject_css(\"https://cdn.pydata.org/bokeh/release/bokeh-widgets-1.0.4.min.css\");\n      console.log(\"Bokeh: injecting CSS: https://cdn.pydata.org/bokeh/release/bokeh-tables-1.0.4.min.css\");\n      Bokeh.embed.inject_css(\"https://cdn.pydata.org/bokeh/release/bokeh-tables-1.0.4.min.css\");\n    }\n  ];\n\n  function run_inline_js() {\n    \n    if ((root.Bokeh !== undefined) || (force === true)) {\n      for (var i = 0; i < inline_js.length; i++) {\n        inline_js[i].call(root, root.Bokeh);\n      }if (force === true) {\n        display_loaded();\n      }} else if (Date.now() < root._bokeh_timeout) {\n      setTimeout(run_inline_js, 100);\n    } else if (!root._bokeh_failed_load) {\n      console.log(\"Bokeh: BokehJS failed to load within specified timeout.\");\n      root._bokeh_failed_load = true;\n    } else if (force !== true) {\n      var cell = $(document.getElementById(\"1001\")).parents('.cell').data().cell;\n      cell.output_area.append_execute_result(NB_LOAD_WARNING)\n    }\n\n  }\n\n  if (root._bokeh_is_loading === 0) {\n    console.log(\"Bokeh: BokehJS loaded, going straight to plotting\");\n    run_inline_js();\n  } else {\n    load_libs(js_urls, function() {\n      console.log(\"Bokeh: BokehJS plotting callback run at\", now());\n      run_inline_js();\n    });\n  }\n}(window));"
     },
     "metadata": {},
     "output_type": "display_data"
    }
   ],
   "source": [
    "%matplotlib inline \n",
    "\n",
    "import warnings\n",
    "warnings.filterwarnings('ignore')\n",
    "\n",
    "import pandas as pd\n",
    "pd.set_option('max_colwidth',150)\n",
    "\n",
    "import numpy as np\n",
    "import collections\n",
    "\n",
    "# text processing linraries\n",
    "import re\n",
    "import spacy\n",
    "from spacy.lang.en.stop_words import STOP_WORDS\n",
    "import en_core_web_md \n",
    "# Initialize spacy 'en' model, keeping only tagger component (for efficiency)\n",
    "nlp = en_core_web_md.load(disable=['parser', 'ner'])\n",
    "\n",
    "# topic modeling libraries\n",
    "from gensim import models, corpora\n",
    "from gensim.models.coherencemodel import CoherenceModel\n",
    "import pyLDAvis.gensim \n",
    "\n",
    "# data visualization libraries\n",
    "import matplotlib.pyplot as plt\n",
    "import seaborn as sns\n",
    "\n",
    "from bokeh.plotting import figure, output_file, show\n",
    "from bokeh.models import Label\n",
    "from bokeh.io import output_notebook\n",
    "output_notebook()\n",
    "\n",
    "#progress meter for loops\n",
    "from tqdm._tqdm_notebook import tqdm_notebook,tnrange,tqdm"
   ]
  },
  {
   "cell_type": "code",
   "execution_count": 2,
   "metadata": {},
   "outputs": [
    {
     "name": "stdout",
     "output_type": "stream",
     "text": [
      "['rec.autos' 'comp.sys.mac.hardware' 'rec.motorcycles' 'misc.forsale'\n",
      " 'comp.os.ms-windows.misc' 'alt.atheism' 'comp.graphics'\n",
      " 'rec.sport.baseball' 'rec.sport.hockey' 'sci.electronics' 'sci.space'\n",
      " 'talk.politics.misc' 'sci.med' 'talk.politics.mideast'\n",
      " 'soc.religion.christian' 'comp.windows.x' 'comp.sys.ibm.pc.hardware'\n",
      " 'talk.politics.guns' 'talk.religion.misc' 'sci.crypt']\n",
      "\n",
      "Dataset size: (11314, 3)\n"
     ]
    },
    {
     "data": {
      "text/html": [
       "<div>\n",
       "<style scoped>\n",
       "    .dataframe tbody tr th:only-of-type {\n",
       "        vertical-align: middle;\n",
       "    }\n",
       "\n",
       "    .dataframe tbody tr th {\n",
       "        vertical-align: top;\n",
       "    }\n",
       "\n",
       "    .dataframe thead th {\n",
       "        text-align: right;\n",
       "    }\n",
       "</style>\n",
       "<table border=\"1\" class=\"dataframe\">\n",
       "  <thead>\n",
       "    <tr style=\"text-align: right;\">\n",
       "      <th></th>\n",
       "      <th>content</th>\n",
       "      <th>target</th>\n",
       "      <th>target_names</th>\n",
       "    </tr>\n",
       "  </thead>\n",
       "  <tbody>\n",
       "    <tr>\n",
       "      <th>0</th>\n",
       "      <td>From: lerxst@wam.umd.edu (where's my thing)\\nSubject: WHAT car is this!?\\nNntp-Posting-Host: rac3.wam.umd.edu\\nOrganization: University of Marylan...</td>\n",
       "      <td>7</td>\n",
       "      <td>rec.autos</td>\n",
       "    </tr>\n",
       "    <tr>\n",
       "      <th>1</th>\n",
       "      <td>From: guykuo@carson.u.washington.edu (Guy Kuo)\\nSubject: SI Clock Poll - Final Call\\nSummary: Final call for SI clock reports\\nKeywords: SI,accele...</td>\n",
       "      <td>4</td>\n",
       "      <td>comp.sys.mac.hardware</td>\n",
       "    </tr>\n",
       "    <tr>\n",
       "      <th>10</th>\n",
       "      <td>From: irwin@cmptrc.lonestar.org (Irwin Arnstein)\\nSubject: Re: Recommendation on Duc\\nSummary: What's it worth?\\nDistribution: usa\\nExpires: Sat, ...</td>\n",
       "      <td>8</td>\n",
       "      <td>rec.motorcycles</td>\n",
       "    </tr>\n",
       "    <tr>\n",
       "      <th>100</th>\n",
       "      <td>From: tchen@magnus.acs.ohio-state.edu (Tsung-Kun Chen)\\nSubject: ** Software forsale (lots) **\\nNntp-Posting-Host: magnusug.magnus.acs.ohio-state....</td>\n",
       "      <td>6</td>\n",
       "      <td>misc.forsale</td>\n",
       "    </tr>\n",
       "    <tr>\n",
       "      <th>1000</th>\n",
       "      <td>From: dabl2@nlm.nih.gov (Don A.B. Lindbergh)\\nSubject: Diamond SS24X, Win 3.1, Mouse cursor\\nOrganization: National Library of Medicine\\nLines: 10...</td>\n",
       "      <td>2</td>\n",
       "      <td>comp.os.ms-windows.misc</td>\n",
       "    </tr>\n",
       "  </tbody>\n",
       "</table>\n",
       "</div>"
      ],
      "text/plain": [
       "                                                                                                                                                    content  \\\n",
       "0     From: lerxst@wam.umd.edu (where's my thing)\\nSubject: WHAT car is this!?\\nNntp-Posting-Host: rac3.wam.umd.edu\\nOrganization: University of Marylan...   \n",
       "1     From: guykuo@carson.u.washington.edu (Guy Kuo)\\nSubject: SI Clock Poll - Final Call\\nSummary: Final call for SI clock reports\\nKeywords: SI,accele...   \n",
       "10    From: irwin@cmptrc.lonestar.org (Irwin Arnstein)\\nSubject: Re: Recommendation on Duc\\nSummary: What's it worth?\\nDistribution: usa\\nExpires: Sat, ...   \n",
       "100   From: tchen@magnus.acs.ohio-state.edu (Tsung-Kun Chen)\\nSubject: ** Software forsale (lots) **\\nNntp-Posting-Host: magnusug.magnus.acs.ohio-state....   \n",
       "1000  From: dabl2@nlm.nih.gov (Don A.B. Lindbergh)\\nSubject: Diamond SS24X, Win 3.1, Mouse cursor\\nOrganization: National Library of Medicine\\nLines: 10...   \n",
       "\n",
       "      target             target_names  \n",
       "0          7                rec.autos  \n",
       "1          4    comp.sys.mac.hardware  \n",
       "10         8          rec.motorcycles  \n",
       "100        6             misc.forsale  \n",
       "1000       2  comp.os.ms-windows.misc  "
      ]
     },
     "execution_count": 2,
     "metadata": {},
     "output_type": "execute_result"
    }
   ],
   "source": [
    "df = pd.read_json('https://raw.githubusercontent.com/selva86/datasets/master/newsgroups.json')\n",
    "print(df.target_names.unique())\n",
    "\n",
    "print('\\nDataset size:', df.shape)\n",
    "df.head()"
   ]
  },
  {
   "cell_type": "markdown",
   "metadata": {},
   "source": [
    "# Data Cleaning and Preporations"
   ]
  },
  {
   "cell_type": "code",
   "execution_count": 3,
   "metadata": {},
   "outputs": [
    {
     "data": {
      "text/plain": [
       "11314"
      ]
     },
     "execution_count": 3,
     "metadata": {},
     "output_type": "execute_result"
    }
   ],
   "source": [
    "# data for analysis\n",
    "df = df[df['content'].isnull() == False]\n",
    "len(df)"
   ]
  },
  {
   "cell_type": "code",
   "execution_count": 4,
   "metadata": {},
   "outputs": [
    {
     "name": "stdout",
     "output_type": "stream",
     "text": [
      "From: markm@bigfoot.sps.mot.com (Mark Monninger)\n",
      "Subject: Re: No-Haggle Deals...Save $$???\n",
      "Nntp-Posting-Host: 223.250.10.7\n",
      "Reply-To: rapw20@email.sps.mot.com\n",
      "Organization: SPS\n",
      "Distribution: usa\n",
      "Lines: 3\n",
      "\n",
      "You can be sure they wouldn't do it if it wasn't to their advantage.\n",
      "\n",
      "Mark\n",
      "\n"
     ]
    }
   ],
   "source": [
    "#content text example\n",
    "print(df['content'].iloc[104])"
   ]
  },
  {
   "cell_type": "code",
   "execution_count": 5,
   "metadata": {},
   "outputs": [
    {
     "data": {
      "text/plain": [
       "\"From: markm@bigfoot.sps.mot.com (Mark Monninger)\\nSubject: Re: No-Haggle Deals...Save $$???\\nNntp-Posting-Host: 223.250.10.7\\nReply-To: rapw20@email.sps.mot.com\\nOrganization: SPS\\nDistribution: usa\\nLines: 3\\n\\nYou can be sure they wouldn't do it if it wasn't to their advantage.\\n\\nMark\\n\""
      ]
     },
     "execution_count": 5,
     "metadata": {},
     "output_type": "execute_result"
    }
   ],
   "source": [
    "df['content'].iloc[104]"
   ]
  },
  {
   "cell_type": "code",
   "execution_count": 6,
   "metadata": {},
   "outputs": [
    {
     "name": "stdout",
     "output_type": "stream",
     "text": [
      "Every email has subject:\n"
     ]
    },
    {
     "data": {
      "text/plain": [
       "True    11314\n",
       "Name: content, dtype: int64"
      ]
     },
     "execution_count": 6,
     "metadata": {},
     "output_type": "execute_result"
    }
   ],
   "source": [
    "print('Every email has subject:')\n",
    "df['content'].str.contains('Subject: ').value_counts()"
   ]
  },
  {
   "cell_type": "code",
   "execution_count": 7,
   "metadata": {},
   "outputs": [
    {
     "name": "stdout",
     "output_type": "stream",
     "text": [
      "Extracted subject example:\n",
      " ==============================\n",
      " Re: No-Haggle Deals...Save $$???\n",
      "\n",
      "==============================\n",
      "An email has extracted subject:\n"
     ]
    },
    {
     "data": {
      "text/plain": [
       "True    11314\n",
       "Name: subject, dtype: int64"
      ]
     },
     "execution_count": 7,
     "metadata": {},
     "output_type": "execute_result"
    }
   ],
   "source": [
    "#extract Subject of each email\n",
    "df['subject'] = df['content'].str.split('Subject: ').str.get(1)\n",
    "df['subject'] = df['subject'].str.replace(r'\\n+.+','')\n",
    "print('Extracted subject example:\\n', '='*30 + '\\n', df['subject'].iloc[104])\n",
    "print('='*30)\n",
    "\n",
    "#check that all subjects where extracted\n",
    "print('An email has extracted subject:')\n",
    "(df['subject'].isnull() == False).value_counts()"
   ]
  },
  {
   "cell_type": "code",
   "execution_count": 8,
   "metadata": {},
   "outputs": [
    {
     "name": "stdout",
     "output_type": "stream",
     "text": [
      "Every email has words \"Lines: \":\n"
     ]
    },
    {
     "data": {
      "text/plain": [
       "True     11276\n",
       "False       38\n",
       "Name: content, dtype: int64"
      ]
     },
     "execution_count": 8,
     "metadata": {},
     "output_type": "execute_result"
    }
   ],
   "source": [
    "#extract text of each email\n",
    "print('Every email has words \"Lines: \":')\n",
    "df['content'].str.contains('Lines: ').value_counts()"
   ]
  },
  {
   "cell_type": "code",
   "execution_count": 9,
   "metadata": {},
   "outputs": [
    {
     "name": "stdout",
     "output_type": "stream",
     "text": [
      "Extracted subject example:\n",
      " ==============================\n",
      " \n",
      "\n",
      "You can be sure they wouldn't do it if it wasn't to their advantage.\n",
      "\n",
      "Mark\n",
      "\n",
      "==============================\n",
      "An email has extracted text:\n"
     ]
    },
    {
     "data": {
      "text/plain": [
       "True     11273\n",
       "False       41\n",
       "Name: text, dtype: int64"
      ]
     },
     "execution_count": 9,
     "metadata": {},
     "output_type": "execute_result"
    }
   ],
   "source": [
    "#extract text of each email\n",
    "df['text'] = df['content'].str.split(r'Lines: \\d+').str.get(1)\n",
    "print('Extracted subject example:\\n', '='*30 + '\\n', df['text'].iloc[104])\n",
    "print('='*30)\n",
    "\n",
    "#check that all texts where extracted\n",
    "print('An email has extracted text:')\n",
    "(df['text'].isnull() == False).value_counts()"
   ]
  },
  {
   "cell_type": "code",
   "execution_count": 10,
   "metadata": {},
   "outputs": [
    {
     "data": {
      "text/plain": [
       "11273"
      ]
     },
     "execution_count": 10,
     "metadata": {},
     "output_type": "execute_result"
    }
   ],
   "source": [
    "#delete records with no extracted text of email\n",
    "df = df[df['text'].isnull() == False]\n",
    "len(df)"
   ]
  },
  {
   "cell_type": "code",
   "execution_count": 11,
   "metadata": {},
   "outputs": [
    {
     "name": "stdout",
     "output_type": "stream",
     "text": [
      "\n",
      "NNTP-Posting-Host: carson.u.washington.edu\n",
      "\n",
      "A fair number of brave souls who upgraded their SI clock oscillator have\n",
      "shared their experiences for this poll. Please send a brief message detailing\n",
      "your experiences with the procedure. Top speed attained, CPU rated speed,\n",
      "add on cards and adapters, heat sinks, hour of usage per day, floppy disk\n",
      "functionality with 800 and 1.4 m floppies are especially requested.\n",
      "\n",
      "I will be summarizing in the next two days, so please add to the network\n",
      "knowledge base if you have done the clock upgrade and haven't answered this\n",
      "poll. Thanks.\n",
      "\n",
      "Guy Kuo <guykuo@u.washington.edu>\n",
      "\n"
     ]
    }
   ],
   "source": [
    "#spot check\n",
    "print(df[df['text'].str.contains('@') == True]['text'].iloc[0])"
   ]
  },
  {
   "cell_type": "code",
   "execution_count": 12,
   "metadata": {},
   "outputs": [],
   "source": [
    "# additional text cleaning\n",
    "\n",
    "# remove text related to \"Posting-Host\"\n",
    "df['text'] = df['text'].str.replace(r'NNTP-Posting-Host: \\S*\\s?', '', re.I)\n",
    "\n",
    "# remove Emails\n",
    "df['text'] = df['text'].str.replace(r'\\S*@\\S*\\s?', '')\n",
    "\n",
    "# remove new line characters\n",
    "df['text'] = df['text'].str.replace(r'\\s+', ' ')\n",
    "\n",
    "# remove single quotes\n",
    "df['text'] = df['text'].str.replace(r\"\\'\", '')"
   ]
  },
  {
   "cell_type": "code",
   "execution_count": 13,
   "metadata": {},
   "outputs": [
    {
     "name": "stdout",
     "output_type": "stream",
     "text": [
      "Message text contains emails:\n"
     ]
    },
    {
     "data": {
      "text/plain": [
       "False    11273\n",
       "Name: text, dtype: int64"
      ]
     },
     "execution_count": 13,
     "metadata": {},
     "output_type": "execute_result"
    }
   ],
   "source": [
    "#spot check\n",
    "print('Message text contains emails:')\n",
    "df['text'].str.contains('@').value_counts()"
   ]
  },
  {
   "cell_type": "code",
   "execution_count": 14,
   "metadata": {},
   "outputs": [],
   "source": [
    "# add message subject to the message text for topic modeling\n",
    "df['text'] = df['subject'] + '\\n' + df['text']"
   ]
  },
  {
   "cell_type": "code",
   "execution_count": 15,
   "metadata": {},
   "outputs": [
    {
     "name": "stdout",
     "output_type": "stream",
     "text": [
      "Text Length in Characters:\n"
     ]
    },
    {
     "data": {
      "text/plain": [
       "count    11273.000000\n",
       "mean      1605.498359\n",
       "std       3437.286153\n",
       "min          7.000000\n",
       "25%        535.000000\n",
       "50%        919.000000\n",
       "75%       1574.000000\n",
       "max      64788.000000\n",
       "Name: Text Length in Characters, dtype: float64"
      ]
     },
     "execution_count": 15,
     "metadata": {},
     "output_type": "execute_result"
    }
   ],
   "source": [
    "# review text length analysis\n",
    "df['Text Length in Characters'] = df['text'].apply(len)\n",
    "\n",
    "print(\"Text Length in Characters:\")\n",
    "df['Text Length in Characters'].describe()"
   ]
  },
  {
   "cell_type": "code",
   "execution_count": 16,
   "metadata": {},
   "outputs": [],
   "source": [
    "del df['Text Length in Characters']"
   ]
  },
  {
   "cell_type": "code",
   "execution_count": 17,
   "metadata": {},
   "outputs": [],
   "source": [
    "df_data = df.copy()"
   ]
  },
  {
   "cell_type": "markdown",
   "metadata": {},
   "source": [
    "# Data Preprocessing"
   ]
  },
  {
   "cell_type": "code",
   "execution_count": 18,
   "metadata": {},
   "outputs": [],
   "source": [
    "# create spacy \"nlp\" object\n",
    "df_data['doc'] = df_data['text'].apply(lambda x: nlp(x))\n",
    "\n",
    "# delete stop words, select POSs that are letters and correspond to words with atleast 3 characters \n",
    "df_data['list_of_POSs'] = df_data['doc'].apply(lambda x: [word.pos_\n",
    "                                    for word in x if (word.is_stop==False) & (len(word.text)>2) & (word.is_alpha)])"
   ]
  },
  {
   "cell_type": "markdown",
   "metadata": {},
   "source": [
    "##### Selecting most informative POSs by total frequencies"
   ]
  },
  {
   "cell_type": "code",
   "execution_count": 19,
   "metadata": {},
   "outputs": [
    {
     "name": "stdout",
     "output_type": "stream",
     "text": [
      "Total number of POSs:  16\n",
      "POS = ADP means conjunction, subordinating or preposition\n",
      "POS = INTJ means interjection\n"
     ]
    },
    {
     "data": {
      "text/html": [
       "<div>\n",
       "<style scoped>\n",
       "    .dataframe tbody tr th:only-of-type {\n",
       "        vertical-align: middle;\n",
       "    }\n",
       "\n",
       "    .dataframe tbody tr th {\n",
       "        vertical-align: top;\n",
       "    }\n",
       "\n",
       "    .dataframe thead th {\n",
       "        text-align: right;\n",
       "    }\n",
       "</style>\n",
       "<table border=\"1\" class=\"dataframe\">\n",
       "  <thead>\n",
       "    <tr style=\"text-align: right;\">\n",
       "      <th></th>\n",
       "      <th>Frequency</th>\n",
       "    </tr>\n",
       "  </thead>\n",
       "  <tbody>\n",
       "    <tr>\n",
       "      <th>NOUN</th>\n",
       "      <td>531906</td>\n",
       "    </tr>\n",
       "    <tr>\n",
       "      <th>VERB</th>\n",
       "      <td>280760</td>\n",
       "    </tr>\n",
       "    <tr>\n",
       "      <th>PROPN</th>\n",
       "      <td>269443</td>\n",
       "    </tr>\n",
       "    <tr>\n",
       "      <th>ADJ</th>\n",
       "      <td>156607</td>\n",
       "    </tr>\n",
       "    <tr>\n",
       "      <th>ADV</th>\n",
       "      <td>44235</td>\n",
       "    </tr>\n",
       "    <tr>\n",
       "      <th>ADP</th>\n",
       "      <td>5711</td>\n",
       "    </tr>\n",
       "    <tr>\n",
       "      <th>INTJ</th>\n",
       "      <td>5221</td>\n",
       "    </tr>\n",
       "    <tr>\n",
       "      <th>X</th>\n",
       "      <td>3545</td>\n",
       "    </tr>\n",
       "    <tr>\n",
       "      <th>NUM</th>\n",
       "      <td>1233</td>\n",
       "    </tr>\n",
       "    <tr>\n",
       "      <th>CCONJ</th>\n",
       "      <td>380</td>\n",
       "    </tr>\n",
       "    <tr>\n",
       "      <th>DET</th>\n",
       "      <td>324</td>\n",
       "    </tr>\n",
       "    <tr>\n",
       "      <th>PRON</th>\n",
       "      <td>144</td>\n",
       "    </tr>\n",
       "    <tr>\n",
       "      <th>PART</th>\n",
       "      <td>108</td>\n",
       "    </tr>\n",
       "    <tr>\n",
       "      <th>PUNCT</th>\n",
       "      <td>83</td>\n",
       "    </tr>\n",
       "    <tr>\n",
       "      <th>SYM</th>\n",
       "      <td>9</td>\n",
       "    </tr>\n",
       "    <tr>\n",
       "      <th>AUX</th>\n",
       "      <td>3</td>\n",
       "    </tr>\n",
       "  </tbody>\n",
       "</table>\n",
       "</div>"
      ],
      "text/plain": [
       "       Frequency\n",
       "NOUN      531906\n",
       "VERB      280760\n",
       "PROPN     269443\n",
       "ADJ       156607\n",
       "ADV        44235\n",
       "ADP         5711\n",
       "INTJ        5221\n",
       "X           3545\n",
       "NUM         1233\n",
       "CCONJ        380\n",
       "DET          324\n",
       "PRON         144\n",
       "PART         108\n",
       "PUNCT         83\n",
       "SYM            9\n",
       "AUX            3"
      ]
     },
     "execution_count": 19,
     "metadata": {},
     "output_type": "execute_result"
    }
   ],
   "source": [
    "# POS is more about the context of the features than frequencies of features\n",
    "\n",
    "# get all POSs in each review in a list\n",
    "tmp_list = df_data['list_of_POSs'].tolist()\n",
    "list_of_POSs = [POS for sublist in tmp_list for POS in sublist]\n",
    "\n",
    "#count POSs' total frequencies in the corpus\n",
    "POS_freq_counter = collections.Counter(list_of_POSs)\n",
    "s_POS_freq = pd.Series(POS_freq_counter)\n",
    "\n",
    "#sort POSs document frequencies in the corpus \n",
    "s_tmp = s_POS_freq.sort_values(ascending=False)\n",
    "\n",
    "print('Total number of POSs: ', len(set(s_POS_freq)))\n",
    "print('POS = ADP means conjunction, subordinating or preposition')\n",
    "print('POS = INTJ means interjection')\n",
    "pd.DataFrame(s_tmp, columns=['Frequency'])"
   ]
  },
  {
   "cell_type": "code",
   "execution_count": 20,
   "metadata": {},
   "outputs": [
    {
     "name": "stdout",
     "output_type": "stream",
     "text": [
      "selecting POSs:\n"
     ]
    },
    {
     "data": {
      "text/plain": [
       "['NOUN', 'VERB', 'ADJ', 'ADV']"
      ]
     },
     "execution_count": 20,
     "metadata": {},
     "output_type": "execute_result"
    }
   ],
   "source": [
    "#selecting POSs\n",
    "selected_POSs = ['NOUN', 'VERB', 'ADJ', 'ADV']\n",
    "\n",
    "print('selecting POSs:')\n",
    "selected_POSs "
   ]
  },
  {
   "cell_type": "markdown",
   "metadata": {},
   "source": [
    "##### Selecting most informative lemmas by document frequencies"
   ]
  },
  {
   "cell_type": "code",
   "execution_count": 21,
   "metadata": {},
   "outputs": [],
   "source": [
    "# lemmatize words with selected POSs, \n",
    "# lemmas that are not stop-words and have atleast 3 characters\n",
    "df_data['list_of_lemmas'] = df_data['doc'].apply(lambda x: [word.lemma_\n",
    "                                                                for word in x if (word.is_stop==False) & \\\n",
    "                                                                                 (len(word.text)>2) & \\\n",
    "                                                                                 (word.is_alpha) & \\\n",
    "                                                                                 (word.pos_ in selected_POSs)])"
   ]
  },
  {
   "cell_type": "code",
   "execution_count": 22,
   "metadata": {},
   "outputs": [
    {
     "name": "stdout",
     "output_type": "stream",
     "text": [
      "** Software forsale (lots) **\n",
      "\n",
      " 1. Software publishing SuperBase 4 windows v.1.3 --->$80 2. OCR System ReadRight v.3.1 for Windows --->$65 3. OCR System ReadRight v.2.01 for DOS --->$65 4. Unregistered Zortech 32 bit C++ Compiler v.3.1 --->$ 250 with Multiscope windows Debugger, WhiteWater Resource Toolkit, Library Source Code 5. Glockenspiel/ImageSoft Commonview 2 Windows Applications Framework for Borland C++ --->$70 6. Spontaneous Assembly Library With Source Code --->$50 7. Microsoft Macro Assembly 6.0 --->$50 8. Microsoft Windows v.3.1 SDK Documentation --->$125 9. Microsoft FoxPro V.2.0 --->$75 10. WordPerfect 5.0 Developers Toolkit --->$20 11. Kedwell Software DataBoss v.3.5 C Code Generator --->$100 12. Kedwell InstallBoss v.2.0 Installation Generator --->$35 13. Liant Software C++/Views v.2.1 Windows Application Framework with Source Code --->$195 14. IBM OS/2 2.0 & Developers Toolkit --->$95 15. CBTree DOS/Windows Library with Source Code --->$120 16. Symantec TimeLine for Windows --->$90 17. TimeSlip TimeSheet Professional for Windows --->$30 Many More Software/Books Available,Price Negotiable \n",
      "\n",
      "#Lemmas:\n",
      "\n",
      "['software', 'forsale', 'lot', 'software', 'publish', 'window', 'ocr', 'system', 'unregistered', 'bit', 'window', 'spontaneous', 'documentation', 'installation', 'price', 'negotiable']\n",
      "\n",
      "#POSs:\n",
      "\n",
      "{'NOUN', 'PROPN', 'VERB', 'ADJ'}\n",
      "Only lemmas with POSs: {'NOUN', 'ADJ', 'VERB'}  were selected\n"
     ]
    }
   ],
   "source": [
    "# example of an email\n",
    "ind = 3\n",
    "\n",
    "print(df_data['text'].iloc[ind])\n",
    "print('\\n#Lemmas:\\n')\n",
    "print(df_data['list_of_lemmas'].iloc[ind])\n",
    "\n",
    "set_POSs = set(df_data['list_of_POSs'].apply(set).iloc[ind])\n",
    "print('\\n#POSs:\\n')\n",
    "print(set_POSs)\n",
    "print('Only lemmas with POSs:', set_POSs & set(selected_POSs), ' were selected')"
   ]
  },
  {
   "cell_type": "code",
   "execution_count": 23,
   "metadata": {},
   "outputs": [
    {
     "name": "stdout",
     "output_type": "stream",
     "text": [
      "Total number of unique lemmas:  32205\n",
      "\n",
      "Distribution of lemmas' document counts: \n",
      "count    32205.000000\n",
      "mean        21.334451\n",
      "std        109.287340\n",
      "min          1.000000\n",
      "50%          2.000000\n",
      "55.0%        2.000000\n",
      "65%          4.000000\n",
      "75%          7.000000\n",
      "85%         16.400000\n",
      "95%         82.000000\n",
      "97%        145.000000\n",
      "99%        395.960000\n",
      "max       6470.000000\n",
      "dtype: float64\n"
     ]
    },
    {
     "data": {
      "text/html": [
       "<div>\n",
       "<style scoped>\n",
       "    .dataframe tbody tr th:only-of-type {\n",
       "        vertical-align: middle;\n",
       "    }\n",
       "\n",
       "    .dataframe tbody tr th {\n",
       "        vertical-align: top;\n",
       "    }\n",
       "\n",
       "    .dataframe thead th {\n",
       "        text-align: right;\n",
       "    }\n",
       "</style>\n",
       "<table border=\"1\" class=\"dataframe\">\n",
       "  <thead>\n",
       "    <tr style=\"text-align: right;\">\n",
       "      <th></th>\n",
       "      <th>Most freq words</th>\n",
       "      <th>M_freq</th>\n",
       "      <th>Least freq words</th>\n",
       "      <th>L_freq</th>\n",
       "    </tr>\n",
       "  </thead>\n",
       "  <tbody>\n",
       "    <tr>\n",
       "      <th>0</th>\n",
       "      <td>write</td>\n",
       "      <td>6470</td>\n",
       "      <td>peat</td>\n",
       "      <td>1</td>\n",
       "    </tr>\n",
       "    <tr>\n",
       "      <th>1</th>\n",
       "      <td>article</td>\n",
       "      <td>4930</td>\n",
       "      <td>indefensable</td>\n",
       "      <td>1</td>\n",
       "    </tr>\n",
       "    <tr>\n",
       "      <th>2</th>\n",
       "      <td>know</td>\n",
       "      <td>3799</td>\n",
       "      <td>unforgivable</td>\n",
       "      <td>1</td>\n",
       "    </tr>\n",
       "    <tr>\n",
       "      <th>3</th>\n",
       "      <td>think</td>\n",
       "      <td>3242</td>\n",
       "      <td>differnece</td>\n",
       "      <td>1</td>\n",
       "    </tr>\n",
       "    <tr>\n",
       "      <th>4</th>\n",
       "      <td>good</td>\n",
       "      <td>2789</td>\n",
       "      <td>madd</td>\n",
       "      <td>1</td>\n",
       "    </tr>\n",
       "    <tr>\n",
       "      <th>5</th>\n",
       "      <td>time</td>\n",
       "      <td>2695</td>\n",
       "      <td>contorl</td>\n",
       "      <td>1</td>\n",
       "    </tr>\n",
       "    <tr>\n",
       "      <th>6</th>\n",
       "      <td>people</td>\n",
       "      <td>2455</td>\n",
       "      <td>ajustment</td>\n",
       "      <td>1</td>\n",
       "    </tr>\n",
       "    <tr>\n",
       "      <th>7</th>\n",
       "      <td>use</td>\n",
       "      <td>2366</td>\n",
       "      <td>replugge</td>\n",
       "      <td>1</td>\n",
       "    </tr>\n",
       "    <tr>\n",
       "      <th>8</th>\n",
       "      <td>want</td>\n",
       "      <td>2307</td>\n",
       "      <td>peck</td>\n",
       "      <td>1</td>\n",
       "    </tr>\n",
       "    <tr>\n",
       "      <th>9</th>\n",
       "      <td>work</td>\n",
       "      <td>2244</td>\n",
       "      <td>stabilise</td>\n",
       "      <td>1</td>\n",
       "    </tr>\n",
       "    <tr>\n",
       "      <th>10</th>\n",
       "      <td>say</td>\n",
       "      <td>2194</td>\n",
       "      <td>gusto</td>\n",
       "      <td>1</td>\n",
       "    </tr>\n",
       "    <tr>\n",
       "      <th>11</th>\n",
       "      <td>way</td>\n",
       "      <td>2174</td>\n",
       "      <td>detent</td>\n",
       "      <td>1</td>\n",
       "    </tr>\n",
       "    <tr>\n",
       "      <th>12</th>\n",
       "      <td>look</td>\n",
       "      <td>2174</td>\n",
       "      <td>millivolt</td>\n",
       "      <td>1</td>\n",
       "    </tr>\n",
       "    <tr>\n",
       "      <th>13</th>\n",
       "      <td>need</td>\n",
       "      <td>2139</td>\n",
       "      <td>attenuator</td>\n",
       "      <td>1</td>\n",
       "    </tr>\n",
       "    <tr>\n",
       "      <th>14</th>\n",
       "      <td>get</td>\n",
       "      <td>2136</td>\n",
       "      <td>cyt</td>\n",
       "      <td>1</td>\n",
       "    </tr>\n",
       "    <tr>\n",
       "      <th>15</th>\n",
       "      <td>go</td>\n",
       "      <td>2092</td>\n",
       "      <td>relaxing</td>\n",
       "      <td>1</td>\n",
       "    </tr>\n",
       "    <tr>\n",
       "      <th>16</th>\n",
       "      <td>thing</td>\n",
       "      <td>2051</td>\n",
       "      <td>outhit</td>\n",
       "      <td>1</td>\n",
       "    </tr>\n",
       "    <tr>\n",
       "      <th>17</th>\n",
       "      <td>come</td>\n",
       "      <td>2008</td>\n",
       "      <td>chippy</td>\n",
       "      <td>1</td>\n",
       "    </tr>\n",
       "    <tr>\n",
       "      <th>18</th>\n",
       "      <td>find</td>\n",
       "      <td>1991</td>\n",
       "      <td>charley</td>\n",
       "      <td>1</td>\n",
       "    </tr>\n",
       "    <tr>\n",
       "      <th>19</th>\n",
       "      <td>year</td>\n",
       "      <td>1980</td>\n",
       "      <td>shouldn</td>\n",
       "      <td>1</td>\n",
       "    </tr>\n",
       "  </tbody>\n",
       "</table>\n",
       "</div>"
      ],
      "text/plain": [
       "   Most freq words  M_freq Least freq words  L_freq\n",
       "0            write    6470             peat       1\n",
       "1          article    4930     indefensable       1\n",
       "2             know    3799     unforgivable       1\n",
       "3            think    3242       differnece       1\n",
       "4             good    2789             madd       1\n",
       "5             time    2695          contorl       1\n",
       "6           people    2455        ajustment       1\n",
       "7              use    2366         replugge       1\n",
       "8             want    2307             peck       1\n",
       "9             work    2244        stabilise       1\n",
       "10             say    2194            gusto       1\n",
       "11             way    2174           detent       1\n",
       "12            look    2174        millivolt       1\n",
       "13            need    2139       attenuator       1\n",
       "14             get    2136              cyt       1\n",
       "15              go    2092         relaxing       1\n",
       "16           thing    2051           outhit       1\n",
       "17            come    2008           chippy       1\n",
       "18            find    1991          charley       1\n",
       "19            year    1980          shouldn       1"
      ]
     },
     "execution_count": 23,
     "metadata": {},
     "output_type": "execute_result"
    }
   ],
   "source": [
    "# reducing dimentionality of word dictionary in LDA model\n",
    "# lemmas with higher document frequencies are more likely to appear in the extracted topics\n",
    "\n",
    "# get all unique lemmas from each review in a list\n",
    "tmp_list = df_data['list_of_lemmas'].apply(set).apply(list).tolist()\n",
    "list_of_lemmas = [lemma for sublist in tmp_list for lemma in sublist]\n",
    "\n",
    "#count lemmas' document frequencies in the corpus\n",
    "lemma_freq_counter = collections.Counter(list_of_lemmas)\n",
    "s_lemma_freq = pd.Series(lemma_freq_counter)\n",
    "\n",
    "#analyse lemmas' document frequencies in the corpus \n",
    "s_tmp = s_lemma_freq.sort_values(ascending=False)\n",
    "df_tmp = pd.DataFrame({'Most freq words': list(s_tmp.index[:20]),\n",
    "                       'M_freq': list(s_tmp.iloc[:20]),\n",
    "                       'Least freq words': list(s_tmp.index[-20:]),\n",
    "                       'L_freq': list(s_tmp.iloc[-20:])})\n",
    "\n",
    "print('Total number of unique lemmas: ', len(s_lemma_freq))\n",
    "print (\"\\nDistribution of lemmas' document counts: \")\n",
    "print(s_lemma_freq.describe(percentiles=[0.55, 0.65, 0.75, 0.85, 0.95, 0.97, 0.99]))\n",
    "df_tmp"
   ]
  },
  {
   "cell_type": "code",
   "execution_count": 24,
   "metadata": {},
   "outputs": [
    {
     "name": "stdout",
     "output_type": "stream",
     "text": [
      "Upper bound for lemma document frecuency:  500\n",
      "Lower bound for lemma document frecuency:  3\n",
      "Number of selected lemmas:  11810\n",
      "\n",
      "Example of selected lemmas:\n"
     ]
    },
    {
     "data": {
      "text/plain": [
       "['glutamate', 'fabrication', 'competency', 'acknowledge', 'shortage']"
      ]
     },
     "execution_count": 24,
     "metadata": {},
     "output_type": "execute_result"
    }
   ],
   "source": [
    "# select lemmas with document count between 50% and 99th persentile\n",
    "up_pst = 500 #s_lemma_freq.quantile(0.99)\n",
    "low_pst = 3 #s_lemma_freq.quantile(0.50)\n",
    "\n",
    "selected_lemmas = set(s_lemma_freq[(s_lemma_freq > low_pst)&(s_lemma_freq < up_pst)].index)\n",
    "print ('Upper bound for lemma document frecuency: ', up_pst)\n",
    "print ('Lower bound for lemma document frecuency: ', low_pst)\n",
    "print('Number of selected lemmas: ', len(selected_lemmas))\n",
    "\n",
    "print(\"\\nExample of selected lemmas:\")\n",
    "list(selected_lemmas)[:5]"
   ]
  },
  {
   "cell_type": "code",
   "execution_count": 25,
   "metadata": {},
   "outputs": [],
   "source": [
    "# select lemmas in each document if they belong to chosen list of lemmas\n",
    "df_data['selected_list_of_lemmas'] = df_data['list_of_lemmas'].apply(lambda x: \n",
    "                                                                     [l for l in x if l in selected_lemmas])"
   ]
  },
  {
   "cell_type": "code",
   "execution_count": 26,
   "metadata": {},
   "outputs": [
    {
     "name": "stdout",
     "output_type": "stream",
     "text": [
      "** Software forsale (lots) **\n",
      "\n",
      " 1. Software publishing SuperBase 4 windows v.1.3 --->$80 2. OCR System ReadRight v.3.1 for Windows --->$65 3. OCR System ReadRight v.2.01 for DOS --->$65 4. Unregistered Zortech 32 bit C++ Compiler v.3.1 --->$ 250 with Multiscope windows Debugger, WhiteWater Resource Toolkit, Library Source Code 5. Glockenspiel/ImageSoft Commonview 2 Windows Applications Framework for Borland C++ --->$70 6. Spontaneous Assembly Library With Source Code --->$50 7. Microsoft Macro Assembly 6.0 --->$50 8. Microsoft Windows v.3.1 SDK Documentation --->$125 9. Microsoft FoxPro V.2.0 --->$75 10. WordPerfect 5.0 Developers Toolkit --->$20 11. Kedwell Software DataBoss v.3.5 C Code Generator --->$100 12. Kedwell InstallBoss v.2.0 Installation Generator --->$35 13. Liant Software C++/Views v.2.1 Windows Application Framework with Source Code --->$195 14. IBM OS/2 2.0 & Developers Toolkit --->$95 15. CBTree DOS/Windows Library with Source Code --->$120 16. Symantec TimeLine for Windows --->$90 17. TimeSlip TimeSheet Professional for Windows --->$30 Many More Software/Books Available,Price Negotiable \n",
      "\n",
      "#Selected lemmas:\n",
      "\n",
      "['forsale', 'publish', 'unregistered', 'spontaneous', 'documentation', 'installation', 'negotiable']\n"
     ]
    }
   ],
   "source": [
    "# example of an email\n",
    "ind = 3\n",
    "\n",
    "print(df_data['text'].iloc[ind])\n",
    "print('\\n#Selected lemmas:\\n')\n",
    "print(df_data['selected_list_of_lemmas'].iloc[ind])"
   ]
  },
  {
   "cell_type": "markdown",
   "metadata": {},
   "source": [
    "# Create document-term matrix for the LDA model "
   ]
  },
  {
   "cell_type": "code",
   "execution_count": 27,
   "metadata": {},
   "outputs": [],
   "source": [
    "# create a vocabulary for the LDA model \n",
    "dictionary = corpora.Dictionary(df_data['selected_list_of_lemmas'])"
   ]
  },
  {
   "cell_type": "code",
   "execution_count": 28,
   "metadata": {},
   "outputs": [
    {
     "name": "stdout",
     "output_type": "stream",
     "text": [
      "Number of texts processed:  11273\n",
      "Number of extracted tokens/words:  11810\n",
      "\n",
      "Each text is represented by list of  11810  tuples: \n",
      "\t\t(token's index in bag-of-words dictionary, token's term frequesncy)\n"
     ]
    }
   ],
   "source": [
    "print('Number of texts processed: ', dictionary.num_docs)\n",
    "print('Number of extracted tokens/words: ', len(dictionary.token2id))\n",
    "print('\\nEach text is represented by list of ', len(dictionary.token2id), \n",
    "      \" tuples: \\n\\t\\t(token's index in bag-of-words dictionary, token's term frequesncy)\")"
   ]
  },
  {
   "cell_type": "code",
   "execution_count": 29,
   "metadata": {},
   "outputs": [
    {
     "data": {
      "text/html": [
       "<div>\n",
       "<style scoped>\n",
       "    .dataframe tbody tr th:only-of-type {\n",
       "        vertical-align: middle;\n",
       "    }\n",
       "\n",
       "    .dataframe tbody tr th {\n",
       "        vertical-align: top;\n",
       "    }\n",
       "\n",
       "    .dataframe thead th {\n",
       "        text-align: right;\n",
       "    }\n",
       "</style>\n",
       "<table border=\"1\" class=\"dataframe\">\n",
       "  <thead>\n",
       "    <tr style=\"text-align: right;\">\n",
       "      <th></th>\n",
       "      <th>selected_list_of_lemmas</th>\n",
       "      <th>doc2bow</th>\n",
       "    </tr>\n",
       "  </thead>\n",
       "  <tbody>\n",
       "    <tr>\n",
       "      <th>0</th>\n",
       "      <td>[enlighten, sport, late, early, door, addition, bumper, separate, rest, body, model, engine, spec, production, history, funky, neighborhood]</td>\n",
       "      <td>[(0, 1), (1, 1), (2, 1), (3, 1), (4, 1), (5, 1), (6, 1), (7, 1), (8, 1), (9, 1), (10, 1), (11, 1), (12, 1), (13, 1), (14, 1), (15, 1), (16, 1)]</td>\n",
       "    </tr>\n",
       "    <tr>\n",
       "      <th>1</th>\n",
       "      <td>[fair, brave, soul, upgrade, clock, oscillator, share, poll, brief, detail, procedure, speed, attain, cpu, rate, speed, adapter, heat, sink, hour,...</td>\n",
       "      <td>[(17, 1), (18, 1), (19, 1), (20, 1), (21, 2), (22, 1), (23, 1), (24, 1), (25, 1), (26, 1), (27, 2), (28, 1), (29, 1), (30, 1), (31, 1), (32, 1), (...</td>\n",
       "    </tr>\n",
       "    <tr>\n",
       "      <th>10</th>\n",
       "      <td>[recommendation, model, clock, paint, bronze, brown, orange, fade, leak, oil, pop, accel, shop, fix, tran, oil, leak, bike, owner, nice, stable, m...</td>\n",
       "      <td>[(10, 1), (21, 1), (45, 1), (46, 2), (47, 1), (48, 1), (49, 1), (50, 1), (51, 1), (52, 1), (53, 1), (54, 2), (55, 1), (56, 1), (57, 2), (58, 1), (...</td>\n",
       "    </tr>\n",
       "    <tr>\n",
       "      <th>100</th>\n",
       "      <td>[forsale, publish, unregistered, spontaneous, documentation, installation, negotiable]</td>\n",
       "      <td>[(66, 1), (67, 1), (68, 1), (69, 1), (70, 1), (71, 1), (72, 1)]</td>\n",
       "    </tr>\n",
       "    <tr>\n",
       "      <th>1000</th>\n",
       "      <td>[diamond, cursor, Anybody, mouse, cursor, distortion, driver, driver, indication, menu, recently, deliver, late, driver]</td>\n",
       "      <td>[(9, 1), (73, 1), (74, 2), (75, 1), (76, 1), (77, 1), (78, 3), (79, 1), (80, 1), (81, 1), (82, 1)]</td>\n",
       "    </tr>\n",
       "  </tbody>\n",
       "</table>\n",
       "</div>"
      ],
      "text/plain": [
       "                                                                                                                                    selected_list_of_lemmas  \\\n",
       "0              [enlighten, sport, late, early, door, addition, bumper, separate, rest, body, model, engine, spec, production, history, funky, neighborhood]   \n",
       "1     [fair, brave, soul, upgrade, clock, oscillator, share, poll, brief, detail, procedure, speed, attain, cpu, rate, speed, adapter, heat, sink, hour,...   \n",
       "10    [recommendation, model, clock, paint, bronze, brown, orange, fade, leak, oil, pop, accel, shop, fix, tran, oil, leak, bike, owner, nice, stable, m...   \n",
       "100                                                                  [forsale, publish, unregistered, spontaneous, documentation, installation, negotiable]   \n",
       "1000                               [diamond, cursor, Anybody, mouse, cursor, distortion, driver, driver, indication, menu, recently, deliver, late, driver]   \n",
       "\n",
       "                                                                                                                                                    doc2bow  \n",
       "0           [(0, 1), (1, 1), (2, 1), (3, 1), (4, 1), (5, 1), (6, 1), (7, 1), (8, 1), (9, 1), (10, 1), (11, 1), (12, 1), (13, 1), (14, 1), (15, 1), (16, 1)]  \n",
       "1     [(17, 1), (18, 1), (19, 1), (20, 1), (21, 2), (22, 1), (23, 1), (24, 1), (25, 1), (26, 1), (27, 2), (28, 1), (29, 1), (30, 1), (31, 1), (32, 1), (...  \n",
       "10    [(10, 1), (21, 1), (45, 1), (46, 2), (47, 1), (48, 1), (49, 1), (50, 1), (51, 1), (52, 1), (53, 1), (54, 2), (55, 1), (56, 1), (57, 2), (58, 1), (...  \n",
       "100                                                                                         [(66, 1), (67, 1), (68, 1), (69, 1), (70, 1), (71, 1), (72, 1)]  \n",
       "1000                                                     [(9, 1), (73, 1), (74, 2), (75, 1), (76, 1), (77, 1), (78, 3), (79, 1), (80, 1), (81, 1), (82, 1)]  "
      ]
     },
     "execution_count": 29,
     "metadata": {},
     "output_type": "execute_result"
    }
   ],
   "source": [
    "# count the number of occurrences of each distinct token in aech document\n",
    "df_data['doc2bow'] = df_data['selected_list_of_lemmas'].apply(lambda x: dictionary.doc2bow(x))\n",
    "df_data[['selected_list_of_lemmas','doc2bow']].head()"
   ]
  },
  {
   "cell_type": "code",
   "execution_count": 30,
   "metadata": {},
   "outputs": [],
   "source": [
    "#create document-term matrix for LDA\n",
    "doc_term_matrix = list(df_data['doc2bow'].values)"
   ]
  },
  {
   "cell_type": "markdown",
   "metadata": {},
   "source": [
    "# Estimate the number of topics in a corpus (through topic coherence)"
   ]
  },
  {
   "cell_type": "code",
   "execution_count": 31,
   "metadata": {},
   "outputs": [
    {
     "name": "stderr",
     "output_type": "stream",
     "text": [
      "100%|██████████| 33/33 [47:16<00:00, 85.77s/it]\n"
     ]
    }
   ],
   "source": [
    "LDA = models.LdaMulticore\n",
    "num_topics_list = np.arange(3,36)\n",
    "\n",
    "coherenceList_cv = []\n",
    "\n",
    "\n",
    "#for each number of topics calculate Coherence Score\n",
    "for num_topics in tqdm(num_topics_list):\n",
    "    #LDA model\n",
    "    lda= LDA(corpus=doc_term_matrix, num_topics=num_topics, id2word = dictionary, \n",
    "             passes=20,chunksize=4000,random_state=3,workers=2)\n",
    "    \n",
    "    #C_v coherence score\n",
    "    cm_cv = CoherenceModel(model=lda, corpus=doc_term_matrix,\n",
    "                           texts=df_data['selected_list_of_lemmas'], dictionary=dictionary, coherence='c_v')\n",
    "    \n",
    "    #append model coherence value \n",
    "    coherenceList_cv.append(cm_cv.get_coherence())"
   ]
  },
  {
   "cell_type": "code",
   "execution_count": 32,
   "metadata": {},
   "outputs": [
    {
     "data": {
      "text/plain": [
       "Text(0.5, 1.05, 'Topic Coherence\\n  C_v Score')"
      ]
     },
     "execution_count": 32,
     "metadata": {},
     "output_type": "execute_result"
    },
    {
     "data": {
      "image/png": "[encoded data removed]",
      "text/plain": [
       "<Figure size 720x360 with 1 Axes>"
      ]
     },
     "metadata": {
      "needs_background": "light"
     },
     "output_type": "display_data"
    }
   ],
   "source": [
    "df_plot = pd.DataFrame({'Number of topics':num_topics_list,\n",
    "                         'Coherence Score':coherenceList_cv})\n",
    "f, ax = plt.subplots(figsize=(10, 5))\n",
    "plt.style.use('seaborn-whitegrid')\n",
    "\n",
    "sns.set_context(\"notebook\", font_scale=1.1, rc={\"lines.linewidth\": 1.5})\n",
    "sns.pointplot(x ='Number of topics', y = 'Coherence Score', data=df_plot)\n",
    "\n",
    "plt.axhline(y=0.54)\n",
    "\n",
    "ax.grid(True, ls='--', alpha=0.5)\n",
    "plt.title('Topic Coherence\\n  C_v Score', y=1.05, fontsize=18)"
   ]
  },
  {
   "cell_type": "markdown",
   "metadata": {},
   "source": [
    "# Define multicore LDA model"
   ]
  },
  {
   "cell_type": "code",
   "execution_count": 33,
   "metadata": {},
   "outputs": [],
   "source": [
    "# define the model with chosen number of topics\n",
    "num_topics = 15\n",
    "\n",
    "\n",
    "LDA = models.LdaMulticore\n",
    "result_lda_model= LDA(corpus=doc_term_matrix, \n",
    "               num_topics=num_topics,\n",
    "               id2word = dictionary, \n",
    "               passes=20,\n",
    "               chunksize=4000,\n",
    "               random_state=3)"
   ]
  },
  {
   "cell_type": "code",
   "execution_count": 34,
   "metadata": {},
   "outputs": [
    {
     "name": "stdout",
     "output_type": "stream",
     "text": [
      "\n",
      "Coherence Score:  0.5442771519896923\n"
     ]
    }
   ],
   "source": [
    "# compute Coherence Score\n",
    "coherence_model_lda = CoherenceModel(model=result_lda_model, \n",
    "                                     corpus=doc_term_matrix,\n",
    "                                     texts=df_data['selected_list_of_lemmas'], \n",
    "                                     dictionary=dictionary, \n",
    "                                     coherence='c_v')\n",
    "coherence_lda = coherence_model_lda.get_coherence()\n",
    "print('\\nCoherence Score: ', coherence_lda)"
   ]
  },
  {
   "cell_type": "markdown",
   "metadata": {},
   "source": [
    "##### Interactive visualization of topics using pyLDAviz"
   ]
  },
  {
   "cell_type": "code",
   "execution_count": 35,
   "metadata": {},
   "outputs": [
    {
     "data": {
      "text/html": [
       "\n",
       "<link rel=\"stylesheet\" type=\"text/css\" href=\"https://cdn.rawgit.com/bmabey/pyLDAvis/files/ldavis.v1.0.0.css\">\n",
       "\n",
       "\n",
       "<div id=\"ldavis_el30211403611650554642883994828\"></div>\n",
       "<script type=\"text/javascript\">\n",
       "\n",
       "var ldavis_el30211403611650554642883994828_data = {\"mdsDat\": {\"x\": [-0.16517248424073938, 0.21032373953451333, 0.027331620246618716, 0.03569682110914271, -0.12607439932283646, 0.2079477913540011, 0.10224381503151754, 0.062263118677741, -0.12593852340947492, -0.10105030941182058, -0.14898341729955983, -0.1020062385061372, 0.07344999091982732, -0.04422767962906539, 0.09419615494627201], \"y\": [-0.009005114278210555, -0.08630468437369863, 0.09284096644480824, -0.014280754599274076, 0.014068023845496479, 0.0015808979381690398, -0.09666926872701936, 0.12671500331504382, 0.20276321566635894, -0.13845495337637673, -0.10554707843631414, 0.009522135511954475, 0.020448411828408165, -0.10858198859176695, 0.09090518783242107], \"topics\": [1, 2, 3, 4, 5, 6, 7, 8, 9, 10, 11, 12, 13, 14, 15], \"cluster\": [1, 1, 1, 1, 1, 1, 1, 1, 1, 1, 1, 1, 1, 1, 1], \"Freq\": [9.890993118286133, 11.468841552734375, 5.261434555053711, 5.317083358764648, 8.836570739746094, 5.144164562225342, 6.921487808227539, 6.01178503036499, 3.704819440841675, 3.6022796630859375, 9.638059616088867, 6.920024871826172, 3.924373149871826, 8.099239349365234, 5.258833408355713]}, \"tinfo\": {\"Category\": [\"Default\", \"Default\", \"Default\", \"Default\", \"Default\", \"Default\", \"Default\", \"Default\", \"Default\", \"Default\", \"Default\", \"Default\", \"Default\", \"Default\", \"Default\", \"Default\", \"Default\", \"Default\", \"Default\", \"Default\", \"Default\", \"Default\", \"Default\", \"Default\", \"Default\", \"Default\", \"Default\", \"Default\", \"Default\", \"Default\", \"Topic1\", \"Topic1\", \"Topic1\", \"Topic1\", \"Topic1\", \"Topic1\", \"Topic1\", \"Topic1\", \"Topic1\", \"Topic1\", \"Topic1\", \"Topic1\", \"Topic1\", \"Topic1\", \"Topic1\", \"Topic1\", \"Topic1\", \"Topic1\", \"Topic1\", \"Topic1\", \"Topic1\", \"Topic1\", \"Topic1\", \"Topic1\", \"Topic1\", \"Topic1\", \"Topic1\", \"Topic1\", \"Topic1\", \"Topic1\", \"Topic1\", \"Topic1\", \"Topic1\", \"Topic1\", \"Topic1\", \"Topic1\", \"Topic1\", \"Topic1\", \"Topic1\", \"Topic1\", \"Topic1\", \"Topic1\", \"Topic1\", \"Topic1\", \"Topic1\", \"Topic1\", \"Topic1\", \"Topic1\", \"Topic1\", \"Topic1\", \"Topic1\", \"Topic1\", \"Topic1\", \"Topic1\", \"Topic1\", \"Topic1\", \"Topic1\", \"Topic1\", \"Topic1\", \"Topic1\", \"Topic1\", \"Topic1\", \"Topic1\", \"Topic1\", \"Topic1\", \"Topic1\", \"Topic1\", \"Topic1\", \"Topic1\", \"Topic1\", \"Topic1\", \"Topic1\", \"Topic1\", \"Topic1\", \"Topic1\", \"Topic1\", \"Topic1\", \"Topic1\", \"Topic1\", \"Topic1\", \"Topic1\", \"Topic1\", \"Topic2\", \"Topic2\", \"Topic2\", \"Topic2\", \"Topic2\", \"Topic2\", \"Topic2\", \"Topic2\", \"Topic2\", \"Topic2\", \"Topic2\", \"Topic2\", \"Topic2\", \"Topic2\", \"Topic2\", \"Topic2\", \"Topic2\", \"Topic2\", \"Topic2\", \"Topic2\", \"Topic2\", \"Topic2\", \"Topic2\", \"Topic2\", \"Topic2\", \"Topic2\", \"Topic2\", \"Topic2\", \"Topic2\", \"Topic2\", \"Topic2\", \"Topic2\", \"Topic2\", \"Topic2\", \"Topic2\", \"Topic2\", \"Topic2\", \"Topic2\", \"Topic2\", \"Topic2\", \"Topic2\", \"Topic2\", \"Topic2\", \"Topic2\", \"Topic2\", \"Topic2\", \"Topic2\", \"Topic2\", \"Topic2\", \"Topic2\", \"Topic2\", \"Topic2\", \"Topic2\", \"Topic2\", \"Topic2\", \"Topic2\", \"Topic2\", \"Topic2\", \"Topic2\", \"Topic2\", \"Topic2\", \"Topic2\", \"Topic2\", \"Topic2\", \"Topic3\", \"Topic3\", \"Topic3\", \"Topic3\", \"Topic3\", \"Topic3\", \"Topic3\", \"Topic3\", \"Topic3\", \"Topic3\", \"Topic3\", \"Topic3\", \"Topic3\", \"Topic3\", \"Topic3\", \"Topic3\", \"Topic3\", \"Topic3\", \"Topic3\", \"Topic3\", \"Topic3\", \"Topic3\", \"Topic3\", \"Topic3\", \"Topic3\", \"Topic3\", \"Topic3\", \"Topic3\", \"Topic3\", \"Topic3\", \"Topic3\", \"Topic3\", \"Topic3\", \"Topic3\", \"Topic3\", \"Topic3\", \"Topic3\", \"Topic3\", \"Topic3\", \"Topic3\", \"Topic3\", \"Topic3\", \"Topic3\", \"Topic3\", \"Topic3\", \"Topic3\", \"Topic3\", \"Topic3\", \"Topic3\", \"Topic3\", \"Topic3\", \"Topic3\", \"Topic3\", \"Topic3\", \"Topic3\", \"Topic3\", \"Topic3\", \"Topic3\", \"Topic3\", \"Topic3\", \"Topic3\", \"Topic3\", \"Topic3\", \"Topic3\", \"Topic4\", \"Topic4\", \"Topic4\", \"Topic4\", \"Topic4\", \"Topic4\", \"Topic4\", \"Topic4\", \"Topic4\", \"Topic4\", \"Topic4\", \"Topic4\", \"Topic4\", \"Topic4\", \"Topic4\", \"Topic4\", \"Topic4\", \"Topic4\", \"Topic4\", \"Topic4\", \"Topic4\", \"Topic4\", \"Topic4\", \"Topic4\", \"Topic4\", \"Topic4\", \"Topic4\", \"Topic4\", \"Topic4\", \"Topic4\", \"Topic4\", \"Topic4\", \"Topic4\", \"Topic4\", \"Topic4\", \"Topic4\", \"Topic4\", \"Topic4\", \"Topic4\", \"Topic4\", \"Topic4\", \"Topic4\", \"Topic4\", \"Topic4\", \"Topic4\", \"Topic4\", \"Topic4\", \"Topic4\", \"Topic4\", \"Topic4\", \"Topic4\", \"Topic4\", \"Topic4\", \"Topic4\", \"Topic4\", \"Topic4\", \"Topic4\", \"Topic4\", \"Topic4\", \"Topic4\", \"Topic4\", \"Topic4\", \"Topic4\", \"Topic4\", \"Topic4\", \"Topic4\", \"Topic4\", \"Topic4\", \"Topic4\", \"Topic4\", \"Topic4\", \"Topic4\", \"Topic4\", \"Topic4\", \"Topic4\", \"Topic4\", \"Topic4\", \"Topic4\", \"Topic4\", \"Topic4\", \"Topic5\", \"Topic5\", \"Topic5\", \"Topic5\", \"Topic5\", \"Topic5\", \"Topic5\", \"Topic5\", \"Topic5\", \"Topic5\", \"Topic5\", \"Topic5\", \"Topic5\", \"Topic5\", \"Topic5\", \"Topic5\", \"Topic5\", \"Topic5\", \"Topic5\", \"Topic5\", \"Topic5\", \"Topic5\", \"Topic5\", \"Topic5\", \"Topic5\", \"Topic5\", \"Topic5\", \"Topic5\", \"Topic5\", \"Topic5\", \"Topic5\", \"Topic5\", \"Topic5\", \"Topic5\", \"Topic5\", \"Topic5\", \"Topic5\", \"Topic5\", \"Topic5\", \"Topic5\", \"Topic5\", \"Topic5\", \"Topic5\", \"Topic5\", \"Topic5\", \"Topic5\", \"Topic5\", \"Topic5\", \"Topic5\", \"Topic5\", \"Topic5\", \"Topic5\", \"Topic5\", \"Topic5\", \"Topic5\", \"Topic5\", \"Topic5\", \"Topic5\", \"Topic5\", \"Topic5\", \"Topic5\", \"Topic5\", \"Topic5\", \"Topic5\", \"Topic5\", \"Topic5\", \"Topic5\", \"Topic5\", \"Topic5\", \"Topic5\", \"Topic5\", \"Topic5\", \"Topic5\", \"Topic6\", \"Topic6\", \"Topic6\", \"Topic6\", \"Topic6\", \"Topic6\", \"Topic6\", \"Topic6\", \"Topic6\", \"Topic6\", \"Topic6\", \"Topic6\", \"Topic6\", \"Topic6\", \"Topic6\", \"Topic6\", \"Topic6\", \"Topic6\", \"Topic6\", \"Topic6\", \"Topic6\", \"Topic6\", \"Topic6\", \"Topic6\", \"Topic6\", \"Topic6\", \"Topic6\", \"Topic6\", \"Topic6\", \"Topic6\", \"Topic6\", \"Topic6\", \"Topic6\", \"Topic6\", \"Topic6\", \"Topic6\", \"Topic6\", \"Topic6\", \"Topic6\", \"Topic6\", \"Topic6\", \"Topic6\", \"Topic6\", \"Topic6\", \"Topic6\", \"Topic6\", \"Topic6\", \"Topic6\", \"Topic6\", \"Topic6\", \"Topic6\", \"Topic6\", \"Topic6\", \"Topic6\", \"Topic6\", \"Topic6\", \"Topic6\", \"Topic6\", \"Topic6\", \"Topic6\", \"Topic6\", \"Topic6\", \"Topic6\", \"Topic6\", \"Topic7\", \"Topic7\", \"Topic7\", \"Topic7\", \"Topic7\", \"Topic7\", \"Topic7\", \"Topic7\", \"Topic7\", \"Topic7\", \"Topic7\", \"Topic7\", \"Topic7\", \"Topic7\", \"Topic7\", \"Topic7\", \"Topic7\", \"Topic7\", \"Topic7\", \"Topic7\", \"Topic7\", \"Topic7\", \"Topic7\", \"Topic7\", \"Topic7\", \"Topic7\", \"Topic7\", \"Topic7\", \"Topic7\", \"Topic7\", \"Topic7\", \"Topic7\", \"Topic7\", \"Topic7\", \"Topic7\", \"Topic7\", \"Topic7\", \"Topic7\", \"Topic7\", \"Topic7\", \"Topic7\", \"Topic7\", \"Topic7\", \"Topic7\", \"Topic7\", \"Topic7\", \"Topic7\", \"Topic7\", \"Topic7\", \"Topic7\", \"Topic7\", \"Topic7\", \"Topic7\", \"Topic7\", \"Topic7\", \"Topic7\", \"Topic7\", \"Topic7\", \"Topic7\", \"Topic7\", \"Topic7\", \"Topic7\", \"Topic7\", \"Topic7\", \"Topic7\", \"Topic7\", \"Topic7\", \"Topic7\", \"Topic7\", \"Topic7\", \"Topic7\", \"Topic7\", \"Topic7\", \"Topic8\", \"Topic8\", \"Topic8\", \"Topic8\", \"Topic8\", \"Topic8\", \"Topic8\", \"Topic8\", \"Topic8\", \"Topic8\", \"Topic8\", \"Topic8\", \"Topic8\", \"Topic8\", \"Topic8\", \"Topic8\", \"Topic8\", \"Topic8\", \"Topic8\", \"Topic8\", \"Topic8\", \"Topic8\", \"Topic8\", \"Topic8\", \"Topic8\", \"Topic8\", \"Topic8\", \"Topic8\", \"Topic8\", \"Topic8\", \"Topic8\", \"Topic8\", \"Topic8\", \"Topic8\", \"Topic8\", \"Topic8\", \"Topic8\", \"Topic8\", \"Topic8\", \"Topic8\", \"Topic8\", \"Topic8\", \"Topic8\", \"Topic8\", \"Topic8\", \"Topic8\", \"Topic8\", \"Topic8\", \"Topic8\", \"Topic8\", \"Topic8\", \"Topic8\", \"Topic8\", \"Topic8\", \"Topic8\", \"Topic8\", \"Topic8\", \"Topic8\", \"Topic8\", \"Topic8\", \"Topic8\", \"Topic8\", \"Topic9\", \"Topic9\", \"Topic9\", \"Topic9\", \"Topic9\", \"Topic9\", \"Topic9\", \"Topic9\", \"Topic9\", \"Topic9\", \"Topic9\", \"Topic9\", \"Topic9\", \"Topic9\", \"Topic9\", \"Topic9\", \"Topic9\", \"Topic9\", \"Topic9\", \"Topic9\", \"Topic9\", \"Topic9\", \"Topic9\", \"Topic9\", \"Topic9\", \"Topic9\", \"Topic9\", \"Topic9\", \"Topic9\", \"Topic9\", \"Topic9\", \"Topic9\", \"Topic9\", \"Topic9\", \"Topic9\", \"Topic9\", \"Topic9\", \"Topic9\", \"Topic9\", \"Topic9\", \"Topic9\", \"Topic9\", \"Topic9\", \"Topic9\", \"Topic9\", \"Topic9\", \"Topic9\", \"Topic9\", \"Topic9\", \"Topic9\", \"Topic9\", \"Topic9\", \"Topic9\", \"Topic9\", \"Topic9\", \"Topic9\", \"Topic9\", \"Topic9\", \"Topic9\", \"Topic9\", \"Topic9\", \"Topic9\", \"Topic9\", \"Topic9\", \"Topic9\", \"Topic9\", \"Topic9\", \"Topic9\", \"Topic9\", \"Topic9\", \"Topic10\", \"Topic10\", \"Topic10\", \"Topic10\", \"Topic10\", \"Topic10\", \"Topic10\", \"Topic10\", \"Topic10\", \"Topic10\", \"Topic10\", \"Topic10\", \"Topic10\", \"Topic10\", \"Topic10\", \"Topic10\", \"Topic10\", \"Topic10\", \"Topic10\", \"Topic10\", \"Topic10\", \"Topic10\", \"Topic10\", \"Topic10\", \"Topic10\", \"Topic10\", \"Topic10\", \"Topic10\", \"Topic10\", \"Topic10\", \"Topic10\", \"Topic10\", \"Topic10\", \"Topic10\", \"Topic10\", \"Topic10\", \"Topic10\", \"Topic10\", \"Topic10\", \"Topic10\", \"Topic10\", \"Topic10\", \"Topic10\", \"Topic10\", \"Topic10\", \"Topic10\", \"Topic10\", \"Topic10\", \"Topic10\", \"Topic10\", \"Topic10\", \"Topic10\", \"Topic10\", \"Topic10\", \"Topic10\", \"Topic10\", \"Topic10\", \"Topic10\", \"Topic10\", \"Topic10\", \"Topic10\", \"Topic10\", \"Topic10\", \"Topic10\", \"Topic10\", \"Topic10\", \"Topic10\", \"Topic10\", \"Topic10\", \"Topic10\", \"Topic10\", \"Topic10\", \"Topic10\", \"Topic11\", \"Topic11\", \"Topic11\", \"Topic11\", \"Topic11\", \"Topic11\", \"Topic11\", \"Topic11\", \"Topic11\", \"Topic11\", \"Topic11\", \"Topic11\", \"Topic11\", \"Topic11\", \"Topic11\", \"Topic11\", \"Topic11\", \"Topic11\", \"Topic11\", \"Topic11\", \"Topic11\", \"Topic11\", \"Topic11\", \"Topic11\", \"Topic11\", \"Topic11\", \"Topic11\", \"Topic11\", \"Topic11\", \"Topic11\", \"Topic11\", \"Topic11\", \"Topic11\", \"Topic11\", \"Topic11\", \"Topic11\", \"Topic11\", \"Topic11\", \"Topic11\", \"Topic11\", \"Topic11\", \"Topic11\", \"Topic11\", \"Topic11\", \"Topic11\", \"Topic11\", \"Topic11\", \"Topic11\", \"Topic11\", \"Topic11\", \"Topic11\", \"Topic11\", \"Topic11\", \"Topic11\", \"Topic11\", \"Topic11\", \"Topic11\", \"Topic11\", \"Topic11\", \"Topic11\", \"Topic11\", \"Topic11\", \"Topic11\", \"Topic11\", \"Topic11\", \"Topic12\", \"Topic12\", \"Topic12\", \"Topic12\", \"Topic12\", \"Topic12\", \"Topic12\", \"Topic12\", \"Topic12\", \"Topic12\", \"Topic12\", \"Topic12\", \"Topic12\", \"Topic12\", \"Topic12\", \"Topic12\", \"Topic12\", \"Topic12\", \"Topic12\", \"Topic12\", \"Topic12\", \"Topic12\", \"Topic12\", \"Topic12\", \"Topic12\", \"Topic12\", \"Topic12\", \"Topic12\", \"Topic12\", \"Topic12\", \"Topic12\", \"Topic12\", \"Topic12\", \"Topic12\", \"Topic12\", \"Topic12\", \"Topic12\", \"Topic12\", \"Topic12\", \"Topic12\", \"Topic12\", \"Topic12\", \"Topic12\", \"Topic12\", \"Topic12\", \"Topic12\", \"Topic12\", \"Topic12\", \"Topic12\", \"Topic12\", \"Topic12\", \"Topic12\", \"Topic12\", \"Topic12\", \"Topic12\", \"Topic12\", \"Topic12\", \"Topic12\", \"Topic12\", \"Topic12\", \"Topic12\", \"Topic12\", \"Topic12\", \"Topic12\", \"Topic12\", \"Topic12\", \"Topic12\", \"Topic12\", \"Topic12\", \"Topic12\", \"Topic12\", \"Topic12\", \"Topic12\", \"Topic12\", \"Topic13\", \"Topic13\", \"Topic13\", \"Topic13\", \"Topic13\", \"Topic13\", \"Topic13\", \"Topic13\", \"Topic13\", \"Topic13\", \"Topic13\", \"Topic13\", \"Topic13\", \"Topic13\", \"Topic13\", \"Topic13\", \"Topic13\", \"Topic13\", \"Topic13\", \"Topic13\", \"Topic13\", \"Topic13\", \"Topic13\", \"Topic13\", \"Topic13\", \"Topic13\", \"Topic13\", \"Topic13\", \"Topic13\", \"Topic13\", \"Topic13\", \"Topic13\", \"Topic13\", \"Topic13\", \"Topic13\", \"Topic13\", \"Topic13\", \"Topic13\", \"Topic13\", \"Topic13\", \"Topic13\", \"Topic13\", \"Topic13\", \"Topic13\", \"Topic13\", \"Topic13\", \"Topic13\", \"Topic13\", \"Topic13\", \"Topic13\", \"Topic13\", \"Topic13\", \"Topic13\", \"Topic13\", \"Topic13\", \"Topic13\", \"Topic13\", \"Topic13\", \"Topic13\", \"Topic13\", \"Topic13\", \"Topic13\", \"Topic13\", \"Topic13\", \"Topic13\", \"Topic13\", \"Topic13\", \"Topic13\", \"Topic13\", \"Topic13\", \"Topic13\", \"Topic13\", \"Topic13\", \"Topic13\", \"Topic13\", \"Topic14\", \"Topic14\", \"Topic14\", \"Topic14\", \"Topic14\", \"Topic14\", \"Topic14\", \"Topic14\", \"Topic14\", \"Topic14\", \"Topic14\", \"Topic14\", \"Topic14\", \"Topic14\", \"Topic14\", \"Topic14\", \"Topic14\", \"Topic14\", \"Topic14\", \"Topic14\", \"Topic14\", \"Topic14\", \"Topic14\", \"Topic14\", \"Topic14\", \"Topic14\", \"Topic14\", \"Topic14\", \"Topic14\", \"Topic14\", \"Topic14\", \"Topic14\", \"Topic14\", \"Topic14\", \"Topic14\", \"Topic14\", \"Topic14\", \"Topic14\", \"Topic14\", \"Topic14\", \"Topic14\", \"Topic14\", \"Topic14\", \"Topic14\", \"Topic14\", \"Topic14\", \"Topic14\", \"Topic14\", \"Topic14\", \"Topic14\", \"Topic14\", \"Topic14\", \"Topic14\", \"Topic14\", \"Topic14\", \"Topic14\", \"Topic14\", \"Topic14\", \"Topic14\", \"Topic14\", \"Topic14\", \"Topic14\", \"Topic14\", \"Topic14\", \"Topic14\", \"Topic14\", \"Topic14\", \"Topic14\", \"Topic14\", \"Topic14\", \"Topic14\", \"Topic14\", \"Topic14\", \"Topic14\", \"Topic14\", \"Topic14\", \"Topic15\", \"Topic15\", \"Topic15\", \"Topic15\", \"Topic15\", \"Topic15\", \"Topic15\", \"Topic15\", \"Topic15\", \"Topic15\", \"Topic15\", \"Topic15\", \"Topic15\", \"Topic15\", \"Topic15\", \"Topic15\", \"Topic15\", \"Topic15\", \"Topic15\", \"Topic15\", \"Topic15\", \"Topic15\", \"Topic15\", \"Topic15\", \"Topic15\", \"Topic15\", \"Topic15\", \"Topic15\", \"Topic15\", \"Topic15\", \"Topic15\", \"Topic15\", \"Topic15\", \"Topic15\", \"Topic15\", \"Topic15\", \"Topic15\", \"Topic15\", \"Topic15\", \"Topic15\", \"Topic15\", \"Topic15\", \"Topic15\", \"Topic15\", \"Topic15\", \"Topic15\", \"Topic15\", \"Topic15\", \"Topic15\", \"Topic15\", \"Topic15\", \"Topic15\", \"Topic15\", \"Topic15\", \"Topic15\", \"Topic15\", \"Topic15\", \"Topic15\", \"Topic15\", \"Topic15\", \"Topic15\", \"Topic15\", \"Topic15\", \"Topic15\", \"Topic15\", \"Topic15\", \"Topic15\", \"Topic15\", \"Topic15\"], \"Freq\": [3855.0, 1359.0, 906.0, 684.0, 1030.0, 1152.0, 620.0, 983.0, 586.0, 884.0, 1077.0, 1022.0, 952.0, 462.0, 766.0, 476.0, 529.0, 552.0, 350.0, 472.0, 629.0, 465.0, 572.0, 633.0, 843.0, 633.0, 760.0, 735.0, 554.0, 686.0, 40.623172760009766, 48.24651336669922, 36.56321334838867, 27.76455307006836, 84.62388610839844, 23.706884384155273, 22.675582885742188, 41.46023178100586, 39.47846221923828, 17.857046127319336, 17.81810760498047, 197.9242401123047, 15.89816951751709, 14.922030448913574, 34.99506759643555, 11.92102336883545, 16.401464462280273, 12.800522804260254, 34.70094680786133, 10.967347145080566, 10.962736129760742, 10.966924667358398, 10.964323043823242, 10.950210571289062, 62.94757843017578, 23.655715942382812, 12.72722053527832, 10.879356384277344, 15.365065574645996, 18.05037498474121, 176.09921264648438, 42.29044723510742, 40.211692810058594, 23.406293869018555, 26.887115478515625, 26.698047637939453, 57.99226760864258, 37.79729461669922, 47.522491455078125, 96.25092315673828, 91.74637603759766, 46.60049819946289, 451.8712158203125, 58.238224029541016, 79.90060424804688, 56.08389663696289, 394.0424499511719, 38.571537017822266, 213.25738525390625, 54.48513412475586, 275.32952880859375, 45.40868377685547, 231.82968139648438, 242.07032775878906, 171.8417205810547, 95.42414093017578, 161.8701629638672, 132.93060302734375, 132.90399169921875, 276.9510803222656, 201.4459991455078, 179.140625, 128.67495727539062, 123.99862670898438, 205.69967651367188, 198.48165893554688, 160.24200439453125, 311.4718322753906, 239.30868530273438, 176.4417266845703, 207.69601440429688, 132.95855712890625, 223.25265502929688, 218.53517150878906, 171.1837158203125, 264.26544189453125, 214.30712890625, 192.08807373046875, 191.21856689453125, 180.97642517089844, 175.41384887695312, 166.98243713378906, 122.15959930419922, 355.4759826660156, 50.1392822265625, 97.35750579833984, 72.28302001953125, 347.68414306640625, 50.03656768798828, 38.262855529785156, 47.746646881103516, 49.46171569824219, 108.35321044921875, 36.088802337646484, 28.431583404541016, 159.73699951171875, 400.8300476074219, 49.07986068725586, 26.42189598083496, 26.400537490844727, 21.67145347595215, 33.82695388793945, 68.42400360107422, 24.334455490112305, 27.139419555664062, 150.5996856689453, 174.46287536621094, 29.845827102661133, 110.03305053710938, 25.13910675048828, 102.00659942626953, 99.3050308227539, 419.6919250488281, 118.12142181396484, 519.8010864257812, 203.13018798828125, 714.4876708984375, 275.76361083984375, 901.66064453125, 523.5922241210938, 655.406005859375, 629.4712524414062, 466.4894104003906, 351.79425048828125, 248.08567810058594, 128.62425231933594, 585.3741455078125, 82.218994140625, 358.2842102050781, 303.01995849609375, 476.9006652832031, 263.91864013671875, 557.4920043945312, 267.0650329589844, 478.7850646972656, 440.8245849609375, 291.9353332519531, 239.12515258789062, 350.34197998046875, 287.51318359375, 252.22154235839844, 379.95867919921875, 305.52642822265625, 273.6025390625, 270.267822265625, 252.3531036376953, 110.53243255615234, 127.73153686523438, 120.68452453613281, 84.16183471679688, 75.37644958496094, 58.11257553100586, 133.36660766601562, 37.775733947753906, 33.89877700805664, 33.874568939208984, 30.96991539001465, 29.05214500427246, 36.50019454956055, 25.221607208251953, 21.326568603515625, 20.397729873657227, 24.030357360839844, 19.38726043701172, 18.456844329833984, 17.47304916381836, 17.432369232177734, 34.85142135620117, 16.46596336364746, 63.10957717895508, 26.55232048034668, 39.31325912475586, 15.51084041595459, 15.48392391204834, 14.542094230651855, 15.438019752502441, 56.07665252685547, 57.67512893676758, 61.795936584472656, 544.3703002929688, 119.78655242919922, 150.19456481933594, 38.840858459472656, 698.7109375, 299.723876953125, 243.8385009765625, 231.84259033203125, 160.76681518554688, 369.5044250488281, 155.130126953125, 100.13858795166016, 353.1722412109375, 267.49017333984375, 100.99872589111328, 135.2720489501953, 77.93067932128906, 71.58196258544922, 125.10462188720703, 79.2044677734375, 162.4925079345703, 95.53215789794922, 112.31697082519531, 169.25404357910156, 152.19488525390625, 120.76597595214844, 134.6865692138672, 96.84471893310547, 104.85602569580078, 101.0728988647461, 97.06069946289062, 81.71455383300781, 134.62132263183594, 57.53718948364258, 32.86952590942383, 79.86170959472656, 23.74485206604004, 17.04212760925293, 16.02827262878418, 36.69377136230469, 22.326026916503906, 10.969396591186523, 14.742411613464355, 13.819183349609375, 13.780101776123047, 10.938081741333008, 28.302154541015625, 10.04649829864502, 97.66304779052734, 20.861127853393555, 20.8579158782959, 36.07606887817383, 8.03561782836914, 8.008042335510254, 8.006325721740723, 8.007020950317383, 16.003509521484375, 7.05819034576416, 7.062093734741211, 7.03763484954834, 7.0435333251953125, 60.68843078613281, 15.741094589233398, 9.657092094421387, 38.036476135253906, 10.486019134521484, 23.806827545166016, 24.645963668823242, 48.32710647583008, 33.98006820678711, 17.09850311279297, 72.67317962646484, 30.795087814331055, 139.17709350585938, 77.6778564453125, 163.50222778320312, 41.95000076293945, 60.327056884765625, 115.17172241210938, 94.83185577392578, 188.11192321777344, 180.7884063720703, 198.5220489501953, 103.889892578125, 200.233642578125, 43.4458122253418, 192.8488311767578, 141.46107482910156, 135.1829376220703, 46.38610076904297, 175.61134338378906, 116.48789978027344, 80.59909057617188, 118.12947845458984, 127.05928802490234, 114.60501098632812, 130.7574920654297, 108.7959213256836, 173.24830627441406, 109.45930480957031, 92.84685516357422, 102.31747436523438, 176.18814086914062, 162.26242065429688, 136.20846557617188, 124.99626922607422, 126.66212463378906, 113.64696502685547, 111.08688354492188, 113.82843017578125, 102.90086364746094, 105.03160095214844, 68.66007995605469, 41.11149215698242, 34.30654525756836, 30.427780151367188, 86.87541961669922, 23.569564819335938, 23.524267196655273, 22.566816329956055, 18.624073028564453, 62.247161865234375, 21.29448127746582, 20.368568420410156, 51.882076263427734, 53.408809661865234, 29.43779945373535, 13.775043487548828, 22.925304412841797, 50.498191833496094, 20.15100860595703, 24.73979377746582, 124.32193756103516, 14.569609642028809, 69.17886352539062, 11.805314064025879, 11.802133560180664, 249.08306884765625, 24.44775390625, 29.879135131835938, 10.827292442321777, 21.576696395874023, 73.52967071533203, 459.6583251953125, 142.97607421875, 270.018798828125, 147.2833709716797, 243.83828735351562, 90.55020904541016, 53.67978286743164, 38.858821868896484, 68.5467529296875, 138.51336669921875, 388.8673095703125, 119.29316711425781, 64.6104736328125, 56.651763916015625, 269.3483581542969, 355.006591796875, 159.8799285888672, 143.87319946289062, 125.26376342773438, 119.05308532714844, 292.985107421875, 99.40081787109375, 199.33889770507812, 162.2591094970703, 152.28684997558594, 148.81776428222656, 169.38681030273438, 159.61924743652344, 158.9560546875, 123.5422134399414, 154.5821075439453, 143.9056396484375, 222.30496215820312, 173.54647827148438, 160.13031005859375, 149.8233642578125, 154.1053009033203, 141.32611083984375, 152.96592712402344, 149.59353637695312, 139.49684143066406, 123.78157806396484, 42.969581604003906, 132.34548950195312, 449.55609130859375, 44.28081512451172, 27.886215209960938, 25.006711959838867, 115.13640594482422, 27.810749053955078, 25.891725540161133, 21.83751678466797, 18.989093780517578, 19.90839385986328, 17.01556396484375, 216.4290313720703, 15.009361267089844, 140.63711547851562, 27.946691513061523, 20.50424575805664, 27.89482307434082, 82.65132904052734, 38.74946594238281, 23.896461486816406, 14.691537857055664, 39.3958625793457, 10.978002548217773, 13.697455406188965, 10.045365333557129, 317.361083984375, 9.039097785949707, 35.05875015258789, 49.66331100463867, 68.66069793701172, 392.1606750488281, 317.26177978515625, 174.31236267089844, 164.29847717285156, 132.48202514648438, 191.74818420410156, 116.3701171875, 160.73851013183594, 390.97161865234375, 215.9958038330078, 132.2689208984375, 196.17384338378906, 49.204532623291016, 551.3952026367188, 445.3131408691406, 192.0135498046875, 303.01641845703125, 61.94919967651367, 315.7492980957031, 261.067626953125, 356.25830078125, 118.20775604248047, 373.3580627441406, 179.2926025390625, 245.75379943847656, 151.15914916992188, 206.6398162841797, 156.7254180908203, 142.36068725585938, 154.9047088623047, 139.01336669921875, 120.54524230957031, 52.0450325012207, 47.14336013793945, 296.3251953125, 39.29409408569336, 102.3530502319336, 35.33771896362305, 41.01857376098633, 29.50514030456543, 28.5021915435791, 29.44098663330078, 30.340511322021484, 26.528274536132812, 28.368314743041992, 26.46072006225586, 72.39773559570312, 19.60708999633789, 19.618146896362305, 18.641437530517578, 14.778010368347168, 14.768299102783203, 14.746891021728516, 14.720105171203613, 65.37535858154297, 13.776752471923828, 14.699381828308105, 31.176982879638672, 13.754816055297852, 13.735525131225586, 12.823044776916504, 483.92034912109375, 48.06910705566406, 239.49404907226562, 31.755102157592773, 66.50788879394531, 147.59764099121094, 126.6454849243164, 54.607627868652344, 52.81572341918945, 61.93840026855469, 111.166015625, 83.51753234863281, 116.79393005371094, 639.2486572265625, 142.65000915527344, 86.6299057006836, 187.4470672607422, 143.82220458984375, 121.9999771118164, 53.14691162109375, 58.030792236328125, 247.97982788085938, 136.19711303710938, 223.5770263671875, 233.45657348632812, 110.44522857666016, 265.4289245605469, 177.52427673339844, 176.8470916748047, 177.318359375, 130.55503845214844, 195.0268096923828, 187.04852294921875, 130.0657958984375, 174.7465057373047, 177.70468139648438, 162.5875701904297, 152.41299438476562, 148.47935485839844, 148.5517120361328, 131.35787963867188, 131.50238037109375, 124.09635162353516, 677.6893920898438, 200.7016143798828, 168.500732421875, 124.65599060058594, 130.9450225830078, 45.182960510253906, 45.1734733581543, 60.533233642578125, 32.53512954711914, 208.1862030029297, 58.1756477355957, 78.20220947265625, 22.82754898071289, 25.657344818115234, 23.719125747680664, 35.1403923034668, 22.789499282836914, 27.537145614624023, 25.591079711914062, 40.735897064208984, 87.15096282958984, 23.656328201293945, 19.859786987304688, 16.869525909423828, 38.402732849121094, 19.52879524230957, 23.225406646728516, 14.866564750671387, 13.889180183410645, 15.724469184875488, 160.13771057128906, 138.52667236328125, 56.96339797973633, 420.30682373046875, 54.301048278808594, 52.23989486694336, 211.92578125, 328.3096618652344, 142.19265747070312, 39.232608795166016, 43.10013961791992, 158.44497680664062, 228.92393493652344, 130.40972900390625, 194.85333251953125, 71.8092041015625, 236.9724578857422, 90.84427642822266, 102.46276092529297, 169.13023376464844, 110.32267761230469, 135.13722229003906, 135.03787231445312, 243.0347137451172, 285.9978332519531, 130.30715942382812, 119.8982925415039, 131.1223602294922, 176.77236938476562, 155.19677734375, 116.65914154052734, 115.72354125976562, 3850.7216796875, 130.94741821289062, 191.95692443847656, 57.355552673339844, 337.75640869140625, 22.543350219726562, 39.400665283203125, 19.63261604309082, 46.63398361206055, 16.750036239624023, 15.719076156616211, 10.775341033935547, 9.88015365600586, 8.868123054504395, 8.8345947265625, 10.58883285522461, 1220.0908203125, 23.73809051513672, 7.9112162590026855, 7.89660120010376, 14.754916191101074, 6.899847507476807, 5.949866771697998, 5.923463821411133, 5.889580726623535, 5.841566562652588, 5.913999557495117, 5.892354965209961, 4.937722682952881, 4.925844669342041, 18.07754898071289, 16.99226951599121, 32.14964294433594, 35.6041259765625, 91.48136138916016, 366.4456481933594, 56.599613189697266, 28.445600509643555, 55.11735916137695, 80.75450897216797, 43.70102310180664, 234.21853637695312, 31.973541259765625, 272.6370544433594, 76.19507598876953, 91.59944915771484, 37.19582748413086, 40.62472915649414, 84.2938003540039, 122.06809997558594, 177.29136657714844, 181.185546875, 136.58462524414062, 134.95208740234375, 117.22565460205078, 113.68429565429688, 82.98236846923828, 79.41802978515625, 118.43914794921875, 74.56976318359375, 62.77838134765625, 60.0892333984375, 71.8982925415039, 63.474857330322266, 66.5153579711914, 65.96822357177734, 70.38790893554688, 64.59589385986328, 64.25456237792969, 64.25828552246094, 66.38316345214844, 39.526920318603516, 26.10801887512207, 26.023693084716797, 131.64181518554688, 15.490551948547363, 18.220144271850586, 15.47853946685791, 15.470675468444824, 16.233867645263672, 14.35185718536377, 12.508909225463867, 12.490618705749512, 10.674344062805176, 10.661252975463867, 9.69729232788086, 9.64391803741455, 10.507962226867676, 11.363386154174805, 19.193912506103516, 8.711116790771484, 8.704631805419922, 88.85265350341797, 8.689746856689453, 13.78647518157959, 7.751977443695068, 7.72264289855957, 12.007816314697266, 7.673297882080078, 12.000898361206055, 93.46183776855469, 14.45083999633789, 12.0001220703125, 28.506629943847656, 22.820680618286133, 61.714534759521484, 33.4129524230957, 353.97747802734375, 71.64596557617188, 16.01209831237793, 62.8034553527832, 27.853300094604492, 20.14365577697754, 142.2766876220703, 20.334781646728516, 203.88453674316406, 68.82581329345703, 29.328105926513672, 152.75839233398438, 65.22265625, 28.623010635375977, 320.6609802246094, 84.5009994506836, 117.95354461669922, 28.63895606994629, 35.4449462890625, 159.48226928710938, 69.34319305419922, 88.0259017944336, 38.58707046508789, 153.6785430908203, 90.40380859375, 79.60909271240234, 91.63516235351562, 128.4491729736328, 109.12842559814453, 102.17427825927734, 73.24278259277344, 65.64977264404297, 58.62672424316406, 68.21695709228516, 67.34346008300781, 63.16166305541992, 104.11388397216797, 84.93384552001953, 53.084564208984375, 99.16349792480469, 49.09163284301758, 78.25904083251953, 42.96728515625, 81.01200103759766, 41.963722229003906, 237.0721893310547, 126.30675506591797, 34.93899154663086, 376.53961181640625, 32.9310302734375, 79.19880676269531, 28.944252014160156, 25.102582931518555, 74.30472564697266, 96.48513793945312, 45.270225524902344, 25.035640716552734, 25.027128219604492, 23.03114128112793, 123.60029602050781, 21.055803298950195, 165.54290771484375, 153.3479461669922, 31.417015075683594, 17.104463577270508, 116.73908233642578, 399.3056945800781, 132.1414337158203, 87.90630340576172, 79.63921356201172, 182.092529296875, 166.78759765625, 500.8715515136719, 466.2177734375, 404.5641174316406, 148.2323455810547, 145.22125244140625, 99.12773895263672, 98.17857360839844, 139.1927490234375, 120.7846908569336, 441.8084716796875, 355.52947998046875, 203.01980590820312, 388.5081787109375, 164.3490753173828, 186.01515197753906, 316.07470703125, 168.47872924804688, 195.33209228515625, 207.3139190673828, 199.11964416503906, 172.83157348632812, 166.8060760498047, 189.85980224609375, 175.45594787597656, 159.4166717529297, 156.6243438720703, 168.8223419189453, 159.3670654296875, 154.70779418945312, 109.30828857421875, 80.08797454833984, 83.86227416992188, 54.69336700439453, 38.91957473754883, 57.8310546875, 25.43916893005371, 25.43740463256836, 24.35837173461914, 41.08990478515625, 63.20708084106445, 37.08420181274414, 16.666112899780273, 20.37265396118164, 20.349544525146484, 15.685881614685059, 14.69253158569336, 36.70195770263672, 60.44755554199219, 13.723410606384277, 12.757704734802246, 12.752593040466309, 17.26654815673828, 12.710138320922852, 16.322694778442383, 16.306686401367188, 11.779722213745117, 96.68192291259766, 11.7470121383667, 10.809181213378906, 263.27935791015625, 148.08790588378906, 57.790679931640625, 48.09952163696289, 42.72874450683594, 63.29113006591797, 64.0029067993164, 38.987083435058594, 38.88147735595703, 25.90308952331543, 294.3989562988281, 241.2805633544922, 85.39797973632812, 199.43955993652344, 84.90165710449219, 365.0097961425781, 163.74114990234375, 224.78758239746094, 84.04036712646484, 309.9322814941406, 144.64227294921875, 86.9192123413086, 146.74771118164062, 127.40581512451172, 144.66171264648438, 97.21666717529297, 266.7781677246094, 134.59393310546875, 121.48234558105469, 115.95645141601562, 96.38436889648438, 127.42932891845703, 88.3100357055664, 119.072998046875, 121.93059539794922, 115.49053955078125, 105.56622314453125, 129.64639282226562, 120.04678344726562, 114.4570541381836, 102.15779876708984, 110.49677276611328, 101.60472869873047, 98.10218811035156, 28.195892333984375, 16.575653076171875, 16.580245971679688, 16.579683303833008, 14.66650390625, 16.415124893188477, 13.69998836517334, 21.021825790405273, 11.732589721679688, 19.828195571899414, 10.77845287322998, 98.58213806152344, 9.624910354614258, 49.405460357666016, 8.680750846862793, 11.326964378356934, 7.857291221618652, 7.851895809173584, 7.852226734161377, 7.853073596954346, 7.823264122009277, 7.829577445983887, 7.833364963531494, 8.705318450927734, 11.208942413330078, 7.5557146072387695, 6.861598968505859, 6.814350605010986, 6.852558135986328, 26.407630920410156, 31.25644302368164, 16.889986038208008, 12.718794822692871, 16.021787643432617, 25.627243041992188, 24.6640567779541, 45.06377029418945, 79.78825378417969, 17.43638038635254, 44.87974166870117, 79.83497619628906, 160.44961547851562, 106.15005493164062, 243.9984588623047, 245.92164611816406, 20.21877098083496, 171.6279296875, 50.62983322143555, 59.655574798583984, 84.43358612060547, 97.8426742553711, 186.17897033691406, 90.0326156616211, 149.05538940429688, 113.99663543701172, 107.29988098144531, 94.58512115478516, 131.07275390625, 67.42987060546875, 84.05091857910156, 88.3469467163086, 38.505615234375, 165.37399291992188, 103.04547119140625, 108.97071838378906, 102.26803588867188, 57.69577407836914, 152.87265014648438, 104.04576873779297, 99.82359313964844, 87.0308837890625, 85.9825668334961, 83.92320251464844, 74.43010711669922, 78.35786437988281, 96.0130615234375, 47.07577133178711, 75.59812927246094, 39.18636703491211, 30.408214569091797, 28.461944580078125, 86.22236633300781, 25.44246482849121, 24.50147819519043, 28.019878387451172, 21.447391510009766, 21.357080459594727, 331.62237548828125, 13.723186492919922, 12.788241386413574, 11.7564058303833, 14.532092094421387, 11.699685096740723, 38.68464660644531, 22.417011260986328, 9.790447235107422, 10.646147727966309, 8.85312557220459, 8.827174186706543, 9.746590614318848, 8.861449241638184, 11.402578353881836, 7.890951156616211, 7.887242317199707, 8.748446464538574, 13.978273391723633, 420.2913818359375, 70.1638412475586, 51.20377731323242, 31.56416893005371, 18.641170501708984, 33.42173767089844, 511.48614501953125, 31.576929092407227, 18.430261611938477, 34.3238410949707, 182.9490509033203, 138.607421875, 53.08744430541992, 271.6575927734375, 62.51795959472656, 221.79112243652344, 361.3570251464844, 158.6713409423828, 349.45819091796875, 127.72634887695312, 192.0177764892578, 54.6418342590332, 148.290771484375, 191.35853576660156, 180.06629943847656, 61.79765319824219, 177.19729614257812, 216.58749389648438, 129.0499267578125, 145.5272979736328, 205.82029724121094, 182.18031311035156, 138.0048065185547, 133.1986846923828, 141.40682983398438, 123.91730499267578, 164.91989135742188, 189.77761840820312, 184.80557250976562, 177.80416870117188, 132.0279998779297, 138.7460174560547, 142.23638916015625, 136.45254516601562, 135.30386352539062, 124.96556091308594, 120.45361328125, 25.870180130004883, 24.028560638427734, 22.179121017456055, 72.5344467163086, 22.080507278442383, 95.50061798095703, 19.430620193481445, 16.704769134521484, 13.02120304107666, 13.017903327941895, 14.737637519836426, 14.716575622558594, 19.024919509887695, 12.096516609191895, 11.88887882232666, 27.536863327026367, 11.175662994384766, 11.152900695800781, 11.981614112854004, 17.07477378845215, 10.250475883483887, 41.694541931152344, 20.391395568847656, 19.4234561920166, 22.02903938293457, 11.843684196472168, 9.305477142333984, 38.928733825683594, 10.984935760498047, 15.170047760009766, 46.58511734008789, 71.58190155029297, 302.49798583984375, 93.60220336914062, 198.30995178222656, 132.09378051757812, 27.422033309936523, 206.98025512695312, 103.99032592773438, 33.103580474853516, 63.80112838745117, 140.65618896484375, 256.7569580078125, 122.19055938720703, 104.0912094116211, 73.22175598144531, 216.00784301757812, 197.1260986328125, 103.17162322998047, 325.9100646972656, 124.67488861083984, 67.15322875976562, 84.85387420654297, 180.87115478515625, 87.45503234863281, 125.18829345703125, 112.68070983886719, 175.40805053710938, 125.14364624023438, 106.7462158203125, 115.66828155517578, 117.3080825805664, 124.20716094970703, 112.3890151977539, 108.38153839111328, 107.78581237792969, 107.41265106201172], \"Term\": [\"max\", \"gun\", \"player\", \"bike\", \"driver\", \"chip\", \"season\", \"disk\", \"weapon\", \"speed\", \"image\", \"space\", \"human\", \"controller\", \"encryption\", \"food\", \"entry\", \"crime\", \"firearm\", \"bus\", \"monitor\", \"ride\", \"board\", \"turkish\", \"color\", \"israeli\", \"server\", \"memory\", \"armenian\", \"religion\", \"collaborator\", \"zionist\", \"iranian\", \"fatwa\", \"propaganda\", \"semitic\", \"libertarianism\", \"infringe\", \"ghetto\", \"kibbutz\", \"imprison\", \"militia\", \"equality\", \"goose\", \"semitism\", \"repression\", \"renounce\", \"deterrent\", \"regulated\", \"foke\", \"keyphrase\", \"wod\", \"mideast\", \"fasad\", \"racist\", \"imprisonment\", \"repress\", \"henrik\", \"militarily\", \"hypocrite\", \"islamic\", \"grenade\", \"documentary\", \"inimitable\", \"prosecution\", \"ideological\", \"cruel\", \"zionism\", \"verdict\", \"arrest\", \"libertarian\", \"slavery\", \"israeli\", \"jury\", \"torture\", \"constitution\", \"war\", \"ruling\", \"arab\", \"homeland\", \"anti\", \"citizenship\", \"murder\", \"political\", \"freedom\", \"bomb\", \"trial\", \"innocent\", \"civil\", \"member\", \"arm\", \"court\", \"muslim\", \"minority\", \"land\", \"bear\", \"society\", \"human\", \"turkish\", \"citizen\", \"jewish\", \"genocide\", \"action\", \"fire\", \"military\", \"child\", \"death\", \"crime\", \"weapon\", \"organization\", \"history\", \"quote\", \"icon\", \"printer\", \"irq\", \"contrib\", \"postscript\", \"modem\", \"reboot\", \"imake\", \"gcc\", \"interactive\", \"pixmap\", \"grayscale\", \"api\", \"xterm\", \"font\", \"baud\", \"previewer\", \"toner\", \"cview\", \"mit\", \"lib\", \"renderer\", \"emulator\", \"pixel\", \"motif\", \"graphical\", \"animation\", \"plotting\", \"toolkit\", \"shareware\", \"widget\", \"colormap\", \"screen\", \"pub\", \"color\", \"client\", \"image\", \"format\", \"display\", \"server\", \"graphic\", \"directory\", \"dos\", \"visual\", \"application\", \"demo\", \"port\", \"ftp\", \"package\", \"library\", \"disk\", \"manager\", \"user\", \"code\", \"fax\", \"print\", \"error\", \"hardware\", \"mouse\", \"datum\", \"memory\", \"site\", \"function\", \"access\", \"pt\", \"pitcher\", \"pitching\", \"rbi\", \"catcher\", \"inning\", \"hitter\", \"batting\", \"ERA\", \"bullpen\", \"shortstop\", \"obp\", \"defensively\", \"infield\", \"platoon\", \"fielder\", \"pennant\", \"hitting\", \"hernia\", \"baseman\", \"bigs\", \"innings\", \"interlaced\", \"rookie\", \"disappointment\", \"roster\", \"hander\", \"coaching\", \"cmap\", \"offensively\", \"runner\", \"homer\", \"breaker\", \"season\", \"defensive\", \"pitch\", \"batter\", \"player\", \"score\", \"baseball\", \"league\", \"ball\", \"monitor\", \"stat\", \"career\", \"hit\", \"fan\", \"coach\", \"tie\", \"talent\", \"outlet\", \"division\", \"bat\", \"average\", \"offense\", \"finish\", \"record\", \"ground\", \"defense\", \"major\", \"minor\", \"pick\", \"total\", \"compare\", \"cryptosystem\", \"cipher\", \"ciphertext\", \"cryptanalysis\", \"plaintext\", \"moonbase\", \"truetype\", \"mime\", \"decryption\", \"plugger\", \"sipp\", \"cryptanalyst\", \"cryptographically\", \"asking\", \"lighten\", \"projector\", \"minivan\", \"patent\", \"ether\", \"keyseach\", \"liter\", \"keyspace\", \"fide\", \"bona\", \"flattery\", \"detention\", \"predicate\", \"asymmetric\", \"discs\", \"stolen\", \"allocation\", \"permutation\", \"liquor\", \"cryptology\", \"commerical\", \"cone\", \"symmetric\", \"venture\", \"brute\", \"algorythm\", \"decrypt\", \"popup\", \"moon\", \"firm\", \"encrypt\", \"wagon\", \"prize\", \"scheme\", \"cryptography\", \"market\", \"secret\", \"algorithm\", \"random\", \"launch\", \"corporate\", \"security\", \"commercial\", \"secure\", \"spy\", \"private\", \"development\", \"contract\", \"escrow\", \"agency\", \"fund\", \"unit\", \"station\", \"encryption\", \"trust\", \"sport\", \"technical\", \"chip\", \"space\", \"company\", \"model\", \"attack\", \"technology\", \"product\", \"design\", \"plan\", \"captain\", \"vat\", \"republic\", \"embargo\", \"syrian\", \"deficit\", \"shelling\", \"gridlock\", \"cruelty\", \"unemployment\", \"azeri\", \"diplomat\", \"autonomy\", \"guerilla\", \"stimulus\", \"rein\", \"sprocket\", \"socialism\", \"laughter\", \"deputy\", \"bosnian\", \"lebanese\", \"memoir\", \"negotiation\", \"fmg\", \"ottoman\", \"village\", \"withdrawal\", \"butcher\", \"residency\", \"retaliation\", \"income\", \"armenian\", \"taxis\", \"tax\", \"massacre\", \"russian\", \"extermination\", \"refugee\", \"province\", \"democracy\", \"administration\", \"turkish\", \"mountain\", \"reform\", \"spending\", \"city\", \"job\", \"civilian\", \"town\", \"troop\", \"summer\", \"attack\", \"territory\", \"american\", \"health\", \"community\", \"fund\", \"official\", \"serve\", \"population\", \"escape\", \"peace\", \"effort\", \"child\", \"israeli\", \"continue\", \"business\", \"plan\", \"trade\", \"pass\", \"package\", \"press\", \"fpu\", \"promiscuous\", \"MHz\", \"controller\", \"interleave\", \"harddisk\", \"mfm\", \"accelerator\", \"vesa\", \"injector\", \"pentium\", \"hdd\", \"controler\", \"acidophilous\", \"motherboard\", \"microsecond\", \"jumper\", \"powerpc\", \"mhz\", \"keycode\", \"simm\", \"benchmark\", \"diesel\", \"cyl\", \"asynchronous\", \"winbench\", \"hog\", \"oversampling\", \"scsi\", \"envelop\", \"coprocessor\", \"simms\", \"bios\", \"bus\", \"ram\", \"cpu\", \"cache\", \"meg\", \"clock\", \"adapter\", \"slot\", \"board\", \"rom\", \"connector\", \"pin\", \"chipset\", \"driver\", \"speed\", \"upgrade\", \"mode\", \"vram\", \"memory\", \"video\", \"disk\", \"spec\", \"chip\", \"performance\", \"fast\", \"floppy\", \"rate\", \"interface\", \"transfer\", \"datum\", \"slow\", \"spacecraft\", \"uuencode\", \"astronaut\", \"orbit\", \"propulsion\", \"shuttle\", \"denizen\", \"telescope\", \"entrys\", \"whitespace\", \"orbiter\", \"comic_strip\", \"photography\", \"astronomer\", \"galaxy\", \"orbital\", \"args\", \"uudecode\", \"martian\", \"ioccc\", \"flyby\", \"crater\", \"gravitational\", \"comet\", \"decimal\", \"constellation\", \"inflatable\", \"aweto\", \"plasma\", \"radii\", \"entry\", \"astronomy\", \"mission\", \"asteroid\", \"payload\", \"char\", \"probe\", \"ozone\", \"planetary\", \"atmosphere\", \"polygon\", \"filename\", \"contest\", \"space\", \"flight\", \"solar\", \"satellite\", \"rocket\", \"int\", \"proceeding\", \"gravity\", \"launch\", \"surface\", \"project\", \"section\", \"stream\", \"copy\", \"author\", \"object\", \"output\", \"material\", \"test\", \"return\", \"title\", \"contact\", \"rule\", \"reference\", \"open\", \"appear\", \"datum\", \"date\", \"cover\", \"function\", \"bike\", \"tire\", \"brake\", \"mph\", \"rider\", \"throttle\", \"torque\", \"biker\", \"freeway\", \"motorcycle\", \"steering\", \"lane\", \"unassisted\", \"cager\", \"winmark\", \"compartment\", \"handlebar\", \"fairing\", \"squid\", \"countersteere\", \"cage\", \"cruiser\", \"speedo\", \"won\", \"pedal\", \"stud\", \"braking\", \"sporty\", \"stalk\", \"swerve\", \"wheel\", \"rear\", \"automotive\", \"ride\", \"odometer\", \"trunk\", \"dog\", \"engine\", \"dod\", \"riding\", \"steer\", \"radar\", \"mile\", \"detector\", \"oil\", \"sensor\", \"road\", \"gear\", \"truck\", \"dealer\", \"wave\", \"cop\", \"traffic\", \"light\", \"speed\", \"left\", \"foot\", \"owner\", \"driver\", \"fast\", \"vehicle\", \"head\", \"max\", \"homicide\", \"handgun\", \"shotgun\", \"firearm\", \"assailant\", \"smuggle\", \"backcountry\", \"pistol\", \"bubblejet\", \"ccw\", \"iftccu\", \"manditory\", \"titty\", \"holster\", \"thine\", \"gun\", \"felony\", \"computergenerated\", \"reword\", \"felon\", \"sporting\", \"accuire\", \"tcsh\", \"incompatability\", \"poisonous\", \"cary\", \"israelis\", \"fasst\", \"egotism\", \"plutonium\", \"waiting\", \"thug\", \"censor\", \"knife\", \"weapon\", \"conceal\", \"deadly\", \"rifle\", \"violent\", \"explosive\", \"criminal\", \"hunting\", \"crime\", \"gang\", \"semi\", \"lethal\", \"shooting\", \"ban\", \"safety\", \"carry\", \"rate\", \"self\", \"police\", \"defense\", \"shoot\", \"license\", \"bill\", \"death\", \"auto\", \"accident\", \"automatic\", \"citizen\", \"dangerous\", \"owner\", \"vote\", \"fire\", \"city\", \"protect\", \"likely\", \"superstition\", \"glutamate\", \"instinctive\", \"amino\", \"msg\", \"paganism\", \"cereal\", \"dietary\", \"chimp\", \"phenylalanine\", \"inhibitor\", \"residue\", \"afterlife\", \"clutchless\", \"spasm\", \"monosodium\", \"crohn\", \"turmeric\", \"nosebleed\", \"sunrise\", \"ETHER\", \"metabolic\", \"sensitivity\", \"pantheism\", \"doctrinal\", \"environmentalism\", \"swelling\", \"harvard\", \"puke\", \"rayssd\", \"diet\", \"soup\", \"ima\", \"sunset\", \"bee\", \"seizure\", \"protein\", \"food\", \"acid\", \"aspartame\", \"chinese\", \"vandalize\", \"sabbath\", \"animal\", \"metaphor\", \"moral\", \"taste\", \"voting\", \"eat\", \"substance\", \"sugar\", \"human\", \"reaction\", \"morality\", \"anecdotal\", \"dose\", \"atheist\", \"sky\", \"brain\", \"restaurant\", \"effect\", \"nature\", \"natural\", \"vote\", \"religion\", \"belief\", \"study\", \"existence\", \"language\", \"heart\", \"term\", \"light\", \"act\", \"catholic\", \"disciple\", \"apostle\", \"salvation\", \"liturgy\", \"gospel\", \"psalm\", \"commandment\", \"tomb\", \"scripture\", \"bible\", \"baptism\", \"sin\", \"iniquity\", \"chastity\", \"plaintiff\", \"sinful\", \"theology\", \"resurrection\", \"messiah\", \"parable\", \"parish\", \"congregation\", \"prophecy\", \"crucify\", \"biblical\", \"doctrine\", \"protestant\", \"malpractice\", \"revelation\", \"church\", \"prayer\", \"skepticism\", \"shameful\", \"eternal\", \"worship\", \"god\", \"faith\", \"christian\", \"passage\", \"teaching\", \"priest\", \"prophet\", \"pray\", \"verse\", \"truth\", \"belief\", \"absolute\", \"religion\", \"interpretation\", \"teach\", \"die\", \"evil\", \"choose\", \"death\", \"act\", \"hell\", \"religious\", \"save\", \"jewish\", \"quote\", \"fall\", \"child\", \"body\", \"woman\", \"infection\", \"candida\", \"yeast\", \"sinus\", \"antibiotic\", \"migraine\", \"entryway\", \"fungal\", \"abstinence\", \"balcony\", \"therapy\", \"smokeless\", \"tumor\", \"endometriosis\", \"fungus\", \"stool\", \"vaginal\", \"immune\", \"diagnose\", \"pathogen\", \"analgesic\", \"sperm\", \"pogrom\", \"anal\", \"epidemic\", \"purse\", \"albican\", \"physician\", \"microdistrict\", \"cramm\", \"patient\", \"apartment\", \"illness\", \"quack\", \"bloom\", \"tobacco\", \"alcohol\", \"outbreak\", \"medication\", \"prevention\", \"doctor\", \"disease\", \"cancer\", \"pain\", \"shout\", \"drug\", \"treatment\", \"objective\", \"symptom\", \"woman\", \"medical\", \"medicine\", \"sex\", \"neighbor\", \"morality\", \"hospital\", \"child\", \"kid\", \"room\", \"treat\", \"drink\", \"hour\", \"afraid\", \"health\", \"family\", \"beat\", \"walk\", \"study\", \"head\", \"body\", \"door\", \"later\", \"evidence\", \"throw\", \"unconventional\", \"sore\", \"heartless\", \"boiler\", \"turbine\", \"spoof\", \"repeater\", \"carcinogenic\", \"freon\", \"piston\", \"midi\", \"tower\", \"strawberry\", \"stove\", \"lexicon\", \"charcoal\", \"adb\", \"xputimage\", \"trestle\", \"poer\", \"happend\", \"sprout\", \"westerner\", \"apocalypse\", \"reciever\", \"interoperate\", \"blaster\", \"erotica\", \"shaped\", \"ignite\", \"uranium\", \"combustion\", \"typewriter\", \"thruster\", \"impedance\", \"mixer\", \"steam\", \"temperature\", \"napalm\", \"volt\", \"receiver\", \"cool\", \"heat\", \"gas\", \"water\", \"oven\", \"tank\", \"wood\", \"pump\", \"voltage\", \"plant\", \"keyboard\", \"audio\", \"air\", \"hot\", \"circuit\", \"tear\", \"signal\", \"cylinder\", \"cold\", \"nuclear\", \"river\", \"fire\", \"cable\", \"serial\", \"switch\", \"smoke\", \"chip\", \"ground\", \"jewish\", \"supply\", \"input\", \"block\", \"wire\", \"unit\", \"anonymity\", \"homeopathy\", \"methodology\", \"microcircuit\", \"remailer\", \"cypherpunk\", \"fallacy\", \"ultrasound\", \"schismatic\", \"eff\", \"wiretapping\", \"inductive\", \"privacy\", \"reincarnation\", \"excommunication\", \"busmastering\", \"unicorn\", \"implimente\", \"authorization\", \"legalization\", \"vitality\", \"smuggler\", \"usefull\", \"autobahn\", \"theistic\", \"exportable\", \"awd\", \"poo\", \"homeopathic\", \"layman\", \"subvert\", \"science\", \"motto\", \"proposition\", \"safeguard\", \"consecration\", \"telecommunication\", \"encryption\", \"unauthorized\", \"realm\", \"empirical\", \"scientific\", \"atheism\", \"hypothesis\", \"technology\", \"premise\", \"anonymous\", \"evidence\", \"enforcement\", \"argument\", \"universe\", \"theory\", \"academic\", \"communication\", \"posting\", \"atheist\", \"identity\", \"newsgroup\", \"access\", \"conclusion\", \"agency\", \"device\", \"protect\", \"existence\", \"argue\", \"policy\", \"escrow\", \"discussion\", \"value\", \"user\", \"datum\", \"network\", \"prove\", \"service\", \"strong\", \"sense\", \"puck\", \"flyer\", \"schematic\", \"spline\", \"minus\", \"defenseman\", \"eavesdrop\", \"revolver\", \"octopus\", \"matchup\", \"shoei\", \"misconduct\", \"misfire\", \"crease\", \"vcr\", \"inverter\", \"sprint\", \"finnish\", \"wate\", \"powerplay\", \"vnet\", \"diode\", \"roughing\", \"capacitor\", \"arcade\", \"wireframe\", \"pcb\", \"neon\", \"mosfet\", \"forsale\", \"unapproved\", \"champions\", \"franchise\", \"cellular\", \"hockey\", \"stereo\", \"playoff\", \"ice\", \"ham\", \"shot\", \"amp\", \"skate\", \"goalie\", \"penalty\", \"goal\", \"clipper\", \"tap\", \"cap\", \"period\", \"pick\", \"battery\", \"chip\", \"round\", \"speaker\", \"blue\", \"company\", \"crypto\", \"trade\", \"radio\", \"player\", \"fan\", \"series\", \"watch\", \"contact\", \"code\", \"net\", \"face\", \"cover\", \"copy\"], \"Total\": [3855.0, 1359.0, 906.0, 684.0, 1030.0, 1152.0, 620.0, 983.0, 586.0, 884.0, 1077.0, 1022.0, 952.0, 462.0, 766.0, 476.0, 529.0, 552.0, 350.0, 472.0, 629.0, 465.0, 572.0, 633.0, 843.0, 633.0, 760.0, 735.0, 554.0, 686.0, 41.65810775756836, 49.59458541870117, 37.67264938354492, 28.759502410888672, 88.27460479736328, 24.785659790039062, 23.796215057373047, 43.592655181884766, 41.638206481933594, 18.834728240966797, 18.828277587890625, 209.2836456298828, 16.84416389465332, 15.849723815917969, 37.69426727294922, 12.850192070007324, 17.73260498046875, 13.85714340209961, 37.60890579223633, 11.889538764953613, 11.884770393371582, 11.889535903930664, 11.889411926269531, 11.888677597045898, 68.42105102539062, 25.757091522216797, 13.863768577575684, 11.886354446411133, 16.836057662963867, 19.811357498168945, 194.39004516601562, 46.568336486816406, 44.55873107910156, 25.789464950561523, 29.716154098510742, 29.703981399536133, 66.36907196044922, 42.61614990234375, 54.45868682861328, 115.95724487304688, 110.89653778076172, 54.476806640625, 633.1289672851562, 69.30148315429688, 98.25294494628906, 67.3285903930664, 594.668212890625, 44.56062316894531, 304.6340026855469, 67.3310546875, 464.2557067871094, 55.44446563720703, 426.9637756347656, 460.00921630859375, 316.9327392578125, 147.18553161621094, 301.5358581542969, 233.35299682617188, 235.5375213623047, 665.027099609375, 434.244140625, 369.4256286621094, 232.0071258544922, 223.31924438476562, 476.9358825683594, 460.1887512207031, 334.4674377441406, 952.6188354492188, 633.771484375, 394.9749755859375, 553.1790771484375, 265.3787536621094, 671.7266235351562, 657.684814453125, 430.1080322265625, 1053.2742919921875, 695.7880249023438, 552.8561401367188, 586.4471435546875, 582.794189453125, 564.2172241210938, 517.80810546875, 123.91121673583984, 360.9593200683594, 51.1300163269043, 99.31410217285156, 73.75869750976562, 354.94805908203125, 51.125, 39.33008575439453, 49.157386779785156, 51.109256744384766, 112.07430267333984, 37.3575553894043, 29.488306045532227, 166.20860290527344, 417.1958312988281, 51.100399017333984, 27.51970100402832, 27.52278709411621, 22.60907554626465, 35.37936782836914, 71.7689437866211, 25.54550552368164, 28.49454116821289, 158.3552703857422, 183.7457275390625, 31.44801902770996, 116.00214385986328, 26.54269027709961, 108.04407501220703, 105.2131118774414, 446.4465637207031, 126.74365234375, 593.8046264648438, 226.1058807373047, 843.8307495117188, 313.4886779785156, 1077.045654296875, 615.51220703125, 784.0988159179688, 760.2070922851562, 569.322509765625, 420.73956298828125, 299.6925964355469, 146.44541931152344, 830.3402099609375, 89.38593292236328, 478.4521484375, 395.417724609375, 740.399169921875, 357.88665771484375, 983.9105224609375, 397.9530334472656, 889.933837890625, 854.095947265625, 483.474609375, 362.0527038574219, 669.1515502929688, 509.645751953125, 403.29095458984375, 1021.3190307617188, 735.0424194335938, 598.4938354492188, 581.572509765625, 670.907470703125, 111.46073150634766, 128.91195678710938, 122.1323013305664, 85.29299926757812, 76.57794952392578, 59.12728500366211, 135.72239685058594, 38.77433776855469, 34.89800262451172, 34.898292541503906, 31.992366790771484, 30.051088333129883, 37.79813766479492, 26.174915313720703, 22.299121856689453, 21.329259872436523, 25.211082458496094, 20.36060333251953, 19.385684967041016, 18.420822143554688, 18.419889450073242, 36.861122131347656, 17.43402099609375, 66.82500457763672, 28.125131607055664, 41.67169189453125, 16.472797393798828, 16.47980308532715, 15.494742393493652, 16.471172332763672, 60.114288330078125, 62.10070037841797, 66.94319152832031, 620.3128051757812, 133.8629608154297, 170.93385314941406, 42.6639518737793, 906.82421875, 375.4112548828125, 319.5267639160156, 309.5326843261719, 233.36753845214844, 629.6715698242188, 230.49981689453125, 136.23178100585938, 654.6280517578125, 466.8472595214844, 140.95339965820312, 213.54733276367188, 104.47793579101562, 93.76043701171875, 207.40887451171875, 111.02108001708984, 371.13946533203125, 152.97531127929688, 204.35565185546875, 512.6112670898438, 523.96826171875, 382.38153076171875, 539.4730834960938, 212.87796020507812, 500.4732666015625, 419.23858642578125, 469.04248046875, 83.11431884765625, 137.19590759277344, 59.07341384887695, 34.02855682373047, 83.07942962646484, 25.01446533203125, 17.976064682006836, 16.99652099609375, 39.001800537109375, 23.971576690673828, 11.889281272888184, 15.997088432312012, 14.995646476745605, 14.968222618103027, 11.940013885498047, 30.965166091918945, 10.993203163146973, 106.96540069580078, 22.97820281982422, 23.002490997314453, 39.857818603515625, 8.988426208496094, 8.966367721557617, 8.965790748596191, 8.975019454956055, 17.951751708984375, 7.976723670959473, 7.985545635223389, 7.959158420562744, 7.979537487030029, 69.9059829711914, 17.962356567382812, 10.98073959350586, 44.93307113647461, 11.95157241821289, 27.904521942138672, 28.974185943603516, 58.97064971923828, 40.89654541015625, 19.863550186157227, 94.35166931152344, 37.78595733642578, 214.79771423339844, 112.46686553955078, 269.283203125, 56.8922004699707, 88.56610870361328, 199.1297607421875, 160.7976837158203, 399.08013916015625, 385.8234558105469, 447.8779602050781, 195.4818572998047, 486.30560302734375, 61.77431106567383, 467.99041748046875, 329.1170349121094, 311.9856262207031, 67.82151794433594, 534.70751953125, 301.3763427734375, 165.59246826171875, 319.25396728515625, 368.64617919921875, 311.41534423828125, 431.731201171875, 307.1576232910156, 766.1603393554688, 315.8595275878906, 229.72811889648438, 292.728759765625, 1152.534912109375, 1022.0613403320312, 697.0200805664062, 609.408203125, 717.830322265625, 477.8440246582031, 579.4622802734375, 738.5159912109375, 593.4491577148438, 105.98141479492188, 69.66995239257812, 42.18501281738281, 35.31855392456055, 31.397003173828125, 90.24492645263672, 24.526227951049805, 24.522384643554688, 23.5440673828125, 19.615697860717773, 65.77247619628906, 22.54604148864746, 21.566864013671875, 54.96648406982422, 56.90178680419922, 31.37694549560547, 14.698838233947754, 24.514461517333984, 54.00571060180664, 21.567529678344727, 26.487337112426758, 133.41529846191406, 15.6931791305542, 74.56696319580078, 12.747366905212402, 12.748494148254395, 269.11297607421875, 26.464984893798828, 32.369720458984375, 11.755440711975098, 23.530269622802734, 83.47246551513672, 554.1410522460938, 167.91432189941406, 338.22918701171875, 178.9462432861328, 311.5708923339844, 112.05574798583984, 62.828834533691406, 44.1799201965332, 85.49922943115234, 192.22628784179688, 633.771484375, 162.5614776611328, 80.59915924072266, 69.78191375732422, 459.7718505859375, 686.437255859375, 259.82965087890625, 233.7738037109375, 195.66001892089844, 193.1251678466797, 717.830322265625, 157.57650756835938, 480.3259582519531, 349.97821044921875, 321.1083679199219, 311.41534423828125, 394.7716979980469, 395.3226318359375, 393.24310302734375, 244.20738220214844, 412.706298828125, 371.95440673828125, 1053.2742919921875, 633.1289672851562, 550.2310180664062, 460.0739440917969, 593.4491577148438, 411.229248046875, 670.7608642578125, 740.399169921875, 414.3451232910156, 124.90364837646484, 43.922454833984375, 135.8422393798828, 462.5285339355469, 45.93439483642578, 28.950103759765625, 25.962261199951172, 119.805908203125, 28.941471099853516, 26.95570945739746, 22.957670211791992, 19.96411895751953, 20.96104621887207, 17.950105667114258, 228.5933074951172, 15.964457511901855, 149.65179443359375, 29.884502410888672, 21.946674346923828, 29.873764038085938, 88.57243347167969, 41.87993621826172, 25.912355422973633, 15.951160430908203, 42.89944076538086, 11.96780776977539, 14.935769081115723, 10.97065544128418, 349.2862854003906, 9.96257209777832, 38.89527893066406, 55.62004852294922, 77.73018646240234, 472.97247314453125, 381.6026611328125, 205.32325744628906, 195.35287475585938, 156.4244384765625, 231.00750732421875, 137.3080596923828, 209.11558532714844, 572.3530883789062, 301.600341796875, 173.4625244140625, 291.8835144042969, 57.84519577026367, 1030.021728515625, 884.5165405273438, 315.676513671875, 592.073486328125, 77.63957977294922, 735.0424194335938, 594.6942138671875, 983.9105224609375, 195.47042846679688, 1152.534912109375, 384.6902160644531, 738.746337890625, 306.198486328125, 733.888671875, 385.9774475097656, 305.35247802734375, 1021.3190307617188, 407.29901123046875, 121.87183380126953, 53.06027603149414, 48.15190124511719, 302.7255859375, 40.28981018066406, 105.15023803710938, 36.33643341064453, 42.241172790527344, 30.462949752807617, 29.463520050048828, 30.46100616455078, 31.43943977355957, 27.50688934326172, 29.47307586669922, 27.509180068969727, 75.64994812011719, 20.59244155883789, 20.627899169921875, 19.639039993286133, 15.719218254089355, 15.718035697937012, 15.716084480285645, 15.698394775390625, 69.75987243652344, 14.723749160766602, 15.713102340698242, 33.36435317993164, 14.734957695007324, 14.722272872924805, 13.74982738494873, 529.2279052734375, 52.02814483642578, 267.46490478515625, 34.41990280151367, 73.78986358642578, 170.0258331298828, 145.49627685546875, 60.88853073120117, 58.93844985961914, 69.7157974243164, 133.66592407226562, 98.27837371826172, 142.48641967773438, 1022.0613403320312, 193.78411865234375, 109.99296569824219, 293.68157958984375, 214.1312255859375, 175.75506591796875, 63.87005615234375, 72.70272827148438, 486.30560302734375, 226.218994140625, 460.0895080566406, 512.3184814453125, 179.53875732421875, 739.1607055664062, 423.6466064453125, 436.78271484375, 476.2843933105469, 313.5713195800781, 700.3525390625, 714.54541015625, 321.994384765625, 656.8881225585938, 757.6131591796875, 617.3111572265625, 784.0074462890625, 697.3645629882812, 1021.3190307617188, 526.551025390625, 637.2305297851562, 581.572509765625, 684.669189453125, 205.05117797851562, 172.381103515625, 127.78675079345703, 134.71987915039062, 46.5385627746582, 46.55970001220703, 62.40505599975586, 33.67368698120117, 215.9188995361328, 60.349369049072266, 81.1998062133789, 23.750585556030273, 26.736736297607422, 24.727052688598633, 36.6458740234375, 23.767091751098633, 28.720495223999023, 26.732616424560547, 42.58435821533203, 91.11668395996094, 24.74733543395996, 20.794490814208984, 17.81839370727539, 40.58992004394531, 20.77190399169922, 24.74110984802246, 15.839608192443848, 14.846482276916504, 16.826101303100586, 173.25430297851562, 150.52593994140625, 61.36064147949219, 465.2916564941406, 58.47254943847656, 56.420658111572266, 263.1973571777344, 422.29852294921875, 173.96304321289062, 43.5141487121582, 48.479270935058594, 215.29864501953125, 330.91058349609375, 173.7598419189453, 293.74468994140625, 90.88119506835938, 433.91387939453125, 132.00601196289062, 156.27719116210938, 317.9332580566406, 174.51077270507812, 235.437744140625, 247.464111328125, 649.7499389648438, 884.5165405273438, 319.00390625, 287.6941223144531, 361.3411560058594, 1030.021728515625, 738.746337890625, 294.2129821777344, 680.3697509765625, 3855.027587890625, 132.62059020996094, 196.4785919189453, 58.93758773803711, 350.78155517578125, 23.5617618560791, 41.250343322753906, 20.62329864501953, 49.1129035949707, 17.673240661621094, 16.690195083618164, 11.778945922851562, 10.802083015441895, 9.817386627197266, 9.81535816192627, 11.772729873657227, 1359.48388671875, 26.507366180419922, 8.835611343383789, 8.83613109588623, 16.705425262451172, 7.830135345458984, 6.872013568878174, 6.844458103179932, 6.8166399002075195, 6.764573574066162, 6.857578277587891, 6.847711563110352, 5.859828472137451, 5.869619846343994, 21.579687118530273, 20.59354019165039, 40.18729782104492, 45.13284683227539, 128.72410583496094, 586.4471435546875, 79.52397155761719, 38.33039093017578, 79.7192611694336, 123.0383529663086, 62.79039001464844, 435.8646545410156, 44.32457733154297, 552.8561401367188, 125.65853881835938, 161.8595733642578, 54.89192199707031, 62.45035171508789, 176.09933471679688, 313.833984375, 685.4815673828125, 733.888671875, 471.5381164550781, 476.08953857421875, 382.38153076171875, 399.5332336425781, 262.9664001464844, 257.8683166503906, 695.7880249023438, 245.18190002441406, 187.1334228515625, 194.2168426513672, 394.9749755859375, 246.3749542236328, 361.3411560058594, 348.06298828125, 657.684814453125, 459.7718505859375, 545.591064453125, 552.1612548828125, 67.60902404785156, 40.57109451293945, 27.05086326599121, 27.049156188964844, 138.1778564453125, 16.42595863342285, 19.325572967529297, 16.42466163635254, 16.42692756652832, 17.3950252532959, 15.468552589416504, 13.526496887207031, 13.517633438110352, 11.59504508972168, 11.593779563903809, 10.63390827178955, 10.633061408996582, 11.605134010314941, 12.559779167175293, 21.249433517456055, 9.664114952087402, 9.664773941040039, 98.67328643798828, 9.652901649475098, 15.427132606506348, 8.688909530639648, 8.686980247497559, 13.534092903137207, 8.649984359741211, 13.53421401977539, 107.35661315917969, 16.320465087890625, 13.534214973449707, 32.8878173828125, 26.152307510375977, 75.55863189697266, 39.6584587097168, 476.8247375488281, 89.07270050048828, 18.371536254882812, 81.47479248046875, 34.875816345214844, 24.20940589904785, 238.08212280273438, 25.189260482788086, 444.21417236328125, 116.89226531982422, 39.742313385009766, 328.5394287109375, 111.01397705078125, 38.72404479980469, 952.6188354492188, 165.55816650390625, 282.43743896484375, 38.764373779296875, 52.40835189819336, 484.20587158203125, 148.12030029296875, 233.45237731933594, 63.07228469848633, 650.2550048828125, 322.969970703125, 265.2826843261719, 348.06298828125, 686.0587768554688, 544.1995239257812, 720.5989379882812, 366.7413635253906, 353.77740478515625, 285.25238037109375, 653.4789428710938, 649.7499389648438, 630.5543212890625, 105.39445495605469, 86.31208038330078, 54.18915939331055, 101.34748840332031, 50.173316955566406, 80.27670288085938, 44.14794158935547, 83.26319122314453, 43.139278411865234, 243.88641357421875, 130.42098999023438, 36.1133918762207, 389.2767028808594, 34.1051139831543, 82.2291259765625, 30.057598114013672, 26.074329376220703, 77.22126007080078, 100.29906463623047, 47.13581466674805, 26.073144912719727, 26.07204818725586, 24.062612533569336, 129.42625427246094, 22.055889129638672, 173.50787353515625, 161.43028259277344, 33.086265563964844, 18.03312873840332, 123.3311996459961, 425.0169982910156, 141.42758178710938, 94.20133972167969, 85.1790542602539, 199.29434204101562, 182.18601989746094, 578.1669311523438, 547.636474609375, 483.0317687988281, 166.25265502929688, 163.2528839111328, 109.25013732910156, 108.22309875488281, 159.1367645263672, 141.8133087158203, 668.235107421875, 544.1995239257812, 276.3750915527344, 686.0587768554688, 224.6844482421875, 295.491943359375, 742.7445068359375, 291.66363525390625, 505.2057189941406, 695.7880249023438, 630.5543212890625, 446.4159851074219, 417.0581970214844, 682.0740356445312, 553.1790771484375, 517.80810546875, 489.4570617675781, 1053.2742919921875, 623.6902465820312, 674.7608032226562, 110.5273666381836, 81.18147277832031, 85.09259796142578, 55.750877380371094, 40.09268569946289, 59.654937744140625, 26.40782356262207, 26.406902313232422, 25.430015563964844, 43.032508850097656, 66.4566650390625, 39.12177276611328, 17.60090446472168, 21.515987396240234, 21.515451431274414, 16.625518798828125, 15.644694328308105, 39.10255432128906, 64.5196304321289, 14.663955688476562, 13.690356254577637, 13.689539909362793, 18.58458137512207, 13.682938575744629, 17.5783748626709, 17.583091735839844, 12.71302604675293, 104.61729431152344, 12.71155071258545, 11.73406982421875, 293.2677001953125, 164.40264892578125, 63.59434127807617, 52.81636047363281, 46.94456481933594, 70.43557739257812, 71.45844268798828, 43.04835510253906, 42.968841552734375, 28.28460693359375, 358.51727294921875, 314.5016174316406, 103.62554931640625, 262.1396179199219, 106.92772674560547, 560.4609375, 248.8745574951172, 364.762939453125, 120.07132720947266, 674.7608032226562, 250.5310821533203, 127.28184509277344, 263.8590087890625, 228.52685546875, 282.43743896484375, 160.9925537109375, 1053.2742919921875, 335.92388916015625, 285.7481384277344, 283.1505126953125, 197.268798828125, 401.60162353515625, 161.8799591064453, 349.97821044921875, 397.6506042480469, 357.45941162109375, 267.839599609375, 720.5989379882812, 680.3697509765625, 623.6902465820312, 328.7010803222656, 633.8165283203125, 809.74609375, 399.8259582519531, 29.244935989379883, 17.52950668334961, 17.543087005615234, 17.553346633911133, 15.605652809143066, 17.47152328491211, 14.620333671569824, 22.43451690673828, 12.678421974182129, 21.450077056884766, 11.698046684265137, 108.27274322509766, 10.60913372039795, 54.617061614990234, 9.611536979675293, 12.650747299194336, 8.779052734375, 8.773131370544434, 8.777130126953125, 8.779248237609863, 8.751235008239746, 8.758742332458496, 8.765951156616211, 9.742889404296875, 12.668545722961426, 8.558035850524902, 7.787310600280762, 7.736341953277588, 7.7819342613220215, 30.24111557006836, 36.103912353515625, 19.502887725830078, 14.617633819580078, 18.50583839416504, 30.063262939453125, 29.267993927001953, 55.55118179321289, 102.51294708251953, 20.485454559326172, 56.16417694091797, 104.4372329711914, 225.71987915039062, 145.3223419189453, 364.0915832519531, 382.62078857421875, 24.391565322875977, 270.7537841796875, 68.48786926269531, 84.02098083496094, 125.91799926757812, 149.78359985351562, 335.6067199707031, 153.4158935546875, 309.34271240234375, 224.04373168945312, 209.46067810058594, 188.8427734375, 300.8360595703125, 127.59313201904297, 189.88279724121094, 223.27130126953125, 59.648372650146484, 657.684814453125, 323.4556579589844, 358.0456848144531, 440.6329040527344, 134.86968994140625, 1152.534912109375, 523.96826171875, 553.1790771484375, 382.2694091796875, 373.6486511230469, 366.0184326171875, 239.02642822265625, 431.731201171875, 97.09320831298828, 48.05121612548828, 77.46232604980469, 40.20724868774414, 31.378904342651367, 29.41741180419922, 89.2370834350586, 26.4348087310791, 25.486373901367188, 29.421573638916016, 22.54645538330078, 22.537813186645508, 352.1492004394531, 14.676888465881348, 13.718655586242676, 12.682056427001953, 15.676414489746094, 12.694886207580566, 42.14628219604492, 24.487451553344727, 10.778360366821289, 11.723493576049805, 9.775152206420898, 9.750565528869629, 10.776606559753418, 9.800177574157715, 12.688754081726074, 8.812675476074219, 8.809382438659668, 9.773821830749512, 15.63684368133545, 517.662353515625, 83.48040008544922, 60.85005187988281, 37.00209426879883, 21.528461456298828, 40.271732330322266, 766.1603393554688, 38.27566909790039, 21.47585105895996, 43.11190414428711, 296.25885009765625, 215.3626251220703, 71.52278900146484, 477.8440246582031, 92.20285034179688, 425.1409912109375, 809.74609375, 294.3106689453125, 807.7115478515625, 236.4421844482422, 415.30670166015625, 79.44632720947266, 307.60748291015625, 506.3527526855469, 484.20587158203125, 99.45804595947266, 491.4124450683594, 670.907470703125, 305.1011657714844, 368.64617919921875, 648.93505859375, 545.591064453125, 366.7413635253906, 346.33917236328125, 401.7768249511719, 319.25396728515625, 608.8485717773438, 816.5874633789062, 889.933837890625, 1021.3190307617188, 402.7343444824219, 533.4661865234375, 605.4478149414062, 537.9208984375, 623.6873168945312, 128.18357849121094, 123.55936431884766, 26.94971466064453, 25.052824020385742, 23.238779067993164, 76.24412536621094, 23.233253479003906, 100.52274322509766, 20.45993423461914, 17.67752456665039, 13.96379566192627, 13.96462631225586, 15.825042724609375, 15.826617240905762, 20.479740142822266, 13.037813186645508, 12.85627269744873, 29.79387855529785, 12.108139038085938, 12.106945991516113, 13.035905838012695, 18.6201114654541, 11.182271957397461, 45.634674072265625, 22.367904663085938, 21.33080291748047, 24.22379493713379, 13.031388282775879, 10.254508018493652, 42.90950393676758, 12.1111421585083, 16.789026260375977, 53.21223449707031, 83.16844177246094, 377.4176025390625, 112.34282684326172, 267.3946228027344, 180.53860473632812, 32.66081237792969, 328.18817138671875, 152.780517578125, 41.251747131347656, 90.25840759277344, 239.0224151611328, 513.435302734375, 206.94302368164062, 175.1882781982422, 115.42243957519531, 537.3553466796875, 500.4732666015625, 211.3505859375, 1152.534912109375, 289.4803466796875, 131.5453643798828, 192.58639526367188, 697.0200805664062, 210.4117431640625, 411.229248046875, 363.8624267578125, 906.82421875, 466.8472595214844, 349.3018798828125, 514.031005859375, 656.8881225585938, 854.095947265625, 573.4847412109375, 581.9057006835938, 637.2305297851562, 739.1607055664062], \"loglift\": [30.0, 29.0, 28.0, 27.0, 26.0, 25.0, 24.0, 23.0, 22.0, 21.0, 20.0, 19.0, 18.0, 17.0, 16.0, 15.0, 14.0, 13.0, 12.0, 11.0, 10.0, 9.0, 8.0, 7.0, 6.0, 5.0, 4.0, 3.0, 2.0, 1.0, 2.2883999347686768, 2.2860000133514404, 2.2836999893188477, 2.2783000469207764, 2.2713000774383545, 2.2690000534057617, 2.2653000354766846, 2.263400077819824, 2.2602999210357666, 2.260200023651123, 2.2583999633789062, 2.257699966430664, 2.25570011138916, 2.253200054168701, 2.2392001152038574, 2.2385001182556152, 2.2355000972747803, 2.2342000007629395, 2.233099937438965, 2.232800006866455, 2.232800006866455, 2.232800006866455, 2.2325000762939453, 2.231300115585327, 2.2302000522613525, 2.2283999919891357, 2.2279999256134033, 2.2249999046325684, 2.222100019454956, 2.2204999923706055, 2.2146999835968018, 2.2172000408172607, 2.210900068283081, 2.216599941253662, 2.2135000228881836, 2.206899881362915, 2.1786000728607178, 2.19350004196167, 2.177299976348877, 2.1273000240325928, 2.124000072479248, 2.157399892807007, 1.9763000011444092, 2.1396000385284424, 2.106800079345703, 2.1308000087738037, 1.9019999504089355, 2.1691999435424805, 1.9569000005722046, 2.101900100708008, 1.791100025177002, 2.1138999462127686, 1.7028000354766846, 1.6714999675750732, 1.7014000415802002, 1.8802000284194946, 1.691499948501587, 1.7508000135421753, 1.7412999868392944, 1.437600016593933, 1.5455000400543213, 1.5898000001907349, 1.7240999937057495, 1.7252000570297241, 1.472599983215332, 1.472599983215332, 1.5777000188827515, 1.1956000328063965, 1.3395999670028687, 1.507699966430664, 1.333899974822998, 1.6224000453948975, 1.2120000123977661, 1.2117999792099, 1.392199993133545, 0.9308000206947327, 1.1359000205993652, 1.2563999891281128, 1.1928999423980713, 1.1440999507904053, 1.145300030708313, 1.1818000078201294, 2.1512999534606934, 2.1501998901367188, 2.1459999084472656, 2.1456000804901123, 2.1452999114990234, 2.14490008354187, 2.1440000534057617, 2.138000011444092, 2.136399984359741, 2.1328001022338867, 2.1317999362945557, 2.13100004196167, 2.128999948501587, 2.1257998943328857, 2.125499963760376, 2.125200033187866, 2.124799966812134, 2.1238999366760254, 2.123199939727783, 2.120699882507324, 2.117799997329712, 2.117000102996826, 2.11680006980896, 2.115299940109253, 2.1136999130249023, 2.1131999492645264, 2.1126999855041504, 2.1112000942230225, 2.1080000400543213, 2.1077001094818115, 2.1036999225616455, 2.095099925994873, 2.032399892807007, 2.0583999156951904, 1.9991999864578247, 2.0373001098632812, 1.9878000020980835, 2.0037999153137207, 1.986299991607666, 1.9767999649047852, 1.9663000106811523, 1.9866000413894653, 1.9766000509262085, 2.035799980163574, 1.815999984741211, 2.0820000171661377, 1.8762999773025513, 1.899399995803833, 1.7257000207901, 1.8609999418258667, 1.5973999500274658, 1.766700029373169, 1.5456000566482544, 1.50409996509552, 1.6611000299453735, 1.7506999969482422, 1.518399953842163, 1.5930999517440796, 1.6962000131607056, 1.1766999959945679, 1.287600040435791, 1.3827999830245972, 1.3991999626159668, 1.1877000331878662, 2.9363999366760254, 2.9356000423431396, 2.932800054550171, 2.9314000606536865, 2.928999900817871, 2.927500009536743, 2.927299976348877, 2.9186999797821045, 2.9156999588012695, 2.9149999618530273, 2.9123001098632812, 2.9110000133514404, 2.9098000526428223, 2.9077000617980957, 2.9001998901367188, 2.900099992752075, 2.8968000411987305, 2.8958001136779785, 2.895699977874756, 2.891900062561035, 2.889699935913086, 2.888700008392334, 2.8875999450683594, 2.8875999450683594, 2.887200117111206, 2.8864998817443848, 2.8845999240875244, 2.8824000358581543, 2.8812999725341797, 2.880000114440918, 2.875200033187866, 2.870800018310547, 2.864799976348877, 2.814199924468994, 2.833699941635132, 2.8153998851776123, 2.8508999347686768, 2.6840999126434326, 2.719599962234497, 2.6744000911712646, 2.6558001041412354, 2.5720999240875244, 2.4117000102996826, 2.548799991607666, 2.63700008392334, 2.327699899673462, 2.3877999782562256, 2.6113998889923096, 2.4881999492645264, 2.651599884033203, 2.6749000549316406, 2.439199924468994, 2.607100009918213, 2.118799924850464, 2.4739999771118164, 2.3461999893188477, 1.8365999460220337, 1.7085000276565552, 1.792199969291687, 1.5571000576019287, 2.1572000980377197, 1.3818000555038452, 1.5221999883651733, 1.3694000244140625, 2.91729998588562, 2.915299892425537, 2.907900094985962, 2.899600028991699, 2.894700050354004, 2.882200002670288, 2.8808999061584473, 2.8756000995635986, 2.873199939727783, 2.863100051879883, 2.8536999225616455, 2.85260009765625, 2.8524999618530273, 2.8515000343322754, 2.84660005569458, 2.8443000316619873, 2.8441998958587646, 2.8433001041412354, 2.837599992752075, 2.836400032043457, 2.8345999717712402, 2.822200059890747, 2.821199893951416, 2.8210999965667725, 2.8201000690460205, 2.8194000720977783, 2.8118999004364014, 2.8113999366760254, 2.811199903488159, 2.809499979019165, 2.792799949645996, 2.8022000789642334, 2.805799961090088, 2.7676000595092773, 2.8034000396728516, 2.775399923324585, 2.7725000381469727, 2.7351999282836914, 2.749000072479248, 2.7843000888824463, 2.6731998920440674, 2.7297000885009766, 2.5002999305725098, 2.564199924468994, 2.43530011177063, 2.6296000480651855, 2.550299882888794, 2.386699914932251, 2.4061999320983887, 2.1821000576019287, 2.1761999130249023, 2.1205999851226807, 2.3020999431610107, 2.0469000339508057, 2.5822999477386475, 2.0476999282836914, 2.089900016784668, 2.097899913787842, 2.5543999671936035, 1.8207999467849731, 1.9837000370025635, 2.214200019836426, 1.940000057220459, 1.8690999746322632, 1.9345999956130981, 1.739799976348877, 1.896399974822998, 1.44760000705719, 1.874500036239624, 2.0283000469207764, 1.8831000328063965, 1.0561000108718872, 1.0938999652862549, 1.3015999794006348, 1.350000023841858, 1.1994999647140503, 1.4981000423431396, 1.2825000286102295, 1.0642999410629272, 1.1821000576019287, 2.41729998588562, 2.4117000102996826, 2.4005000591278076, 2.397200107574463, 2.39490008354187, 2.388200044631958, 2.3864998817443848, 2.384700059890747, 2.3838999271392822, 2.3743999004364014, 2.3712000846862793, 2.3691999912261963, 2.3691000938415527, 2.368499994277954, 2.3629000186920166, 2.362499952316284, 2.3613998889923096, 2.3592000007629395, 2.359100103378296, 2.358299970626831, 2.3580000400543213, 2.3557000160217285, 2.3519999980926514, 2.351300001144409, 2.3494999408721924, 2.349100112915039, 2.348900079727173, 2.3469998836517334, 2.3461999893188477, 2.3440001010894775, 2.339600086212158, 2.2994000911712646, 2.239300012588501, 2.265500068664551, 2.2009999752044678, 2.2314999103546143, 2.1810998916625977, 2.213200092315674, 2.268899917602539, 2.2978999614715576, 2.2053000926971436, 2.098599910736084, 1.9378000497817993, 2.11680006980896, 2.205199956893921, 2.2177999019622803, 1.8914999961853027, 1.7668999433517456, 1.9407000541687012, 1.9407999515533447, 1.980299949645996, 1.9424999952316284, 1.5302000045776367, 1.965499997138977, 1.5468000173568726, 1.6576000452041626, 1.680299997329712, 1.6878999471664429, 1.5801000595092773, 1.5194000005722046, 1.5204999446868896, 1.7447999715805054, 1.4443000555038452, 1.476699948310852, 0.8707000017166138, 1.1319999694824219, 1.1919000148773193, 1.3042999505996704, 1.0779999494552612, 1.358199954032898, 0.9480999708175659, 0.8270000219345093, 1.3375999927520752, 2.9583001136779785, 2.9453999996185303, 2.941200017929077, 2.9388999938964844, 2.9305999279022217, 2.9298999309539795, 2.929800033569336, 2.9275999069213867, 2.927500009536743, 2.927000045776367, 2.91729998588562, 2.9172000885009766, 2.915800094604492, 2.913800001144409, 2.912600040435791, 2.905600070953369, 2.9052000045776367, 2.9003000259399414, 2.8993000984191895, 2.8987998962402344, 2.898099899291992, 2.8896000385284424, 2.8863000869750977, 2.884999990463257, 2.8821001052856445, 2.88100004196167, 2.8808000087738037, 2.879199981689453, 2.871500015258789, 2.869999885559082, 2.8635001182556152, 2.8540000915527344, 2.8431999683380127, 2.779900074005127, 2.7827000617980957, 2.8036000728607178, 2.7941999435424805, 2.8011999130249023, 2.7809998989105225, 2.8018999099731445, 2.704200029373169, 2.586199998855591, 2.633500099182129, 2.696199893951416, 2.569999933242798, 2.805500030517578, 2.342400074005127, 2.2809998989105225, 2.4702000617980957, 2.297499895095825, 2.741499900817871, 2.122299909591675, 2.1440000534057617, 1.9514000415802002, 2.4642999172210693, 1.8401000499725342, 2.203900098800659, 1.8667000532150269, 2.261399984359741, 1.6999000310897827, 2.065999984741211, 2.204200029373169, 1.0813000202178955, 1.892300009727478, 2.659600019454956, 2.65120005607605, 2.649399995803833, 2.649199962615967, 2.6454999446868896, 2.6435999870300293, 2.642699956893921, 2.641200065612793, 2.6386001110076904, 2.637399911880493, 2.6364998817443848, 2.634999990463257, 2.6342999935150146, 2.6322999000549316, 2.631700038909912, 2.6266000270843506, 2.621500015258789, 2.620300054550171, 2.6184000968933105, 2.608799934387207, 2.6082000732421875, 2.6068999767303467, 2.6061999797821045, 2.605600118637085, 2.604099988937378, 2.603800058364868, 2.6026999950408936, 2.6017000675201416, 2.6012001037597656, 2.600800037384033, 2.5810000896453857, 2.591399908065796, 2.5601000785827637, 2.5899999141693115, 2.5666000843048096, 2.529099941253662, 2.5318000316619873, 2.5617001056671143, 2.5608999729156494, 2.552299976348877, 2.4862000942230225, 2.5078001022338867, 2.4716999530792236, 2.2012999057769775, 2.3642001152038574, 2.43179988861084, 2.2214999198913574, 2.2725000381469727, 2.305500030517578, 2.4867000579833984, 2.4451000690460205, 1.996999979019165, 2.163100004196167, 1.9488999843597412, 1.884600043296814, 2.1847000122070312, 1.646399974822998, 1.8006999492645264, 1.7663999795913696, 1.6825000047683716, 1.7942999601364136, 1.3920999765396118, 1.330299973487854, 1.7640000581741333, 1.3464000225067139, 1.2204999923706055, 1.336400032043457, 1.0326999425888062, 1.1237000226974487, 0.7426000237464905, 1.282099962234497, 1.0923999547958374, 1.1259000301361084, 2.8011999130249023, 2.7899999618530273, 2.7887001037597656, 2.786600112915039, 2.7829999923706055, 2.781899929046631, 2.7811999320983887, 2.7809998989105225, 2.777100086212158, 2.7750000953674316, 2.7748000621795654, 2.7737998962402344, 2.7718000411987305, 2.77020001411438, 2.7697999477386475, 2.7695000171661377, 2.769399881362915, 2.769399881362915, 2.7678000926971436, 2.7671000957489014, 2.766900062561035, 2.766400098800659, 2.765500068664551, 2.756700038909912, 2.7560999393463135, 2.7497000694274902, 2.748199939727783, 2.747999906539917, 2.744800090789795, 2.7437000274658203, 2.7327001094818115, 2.7283999919891357, 2.7370998859405518, 2.7098000049591064, 2.7374000549316406, 2.734499931335449, 2.5947999954223633, 2.5597000122070312, 2.609800100326538, 2.707900047302246, 2.6937999725341797, 2.5048000812530518, 2.443000078201294, 2.5244998931884766, 2.4010000228881836, 2.575900077819824, 2.2065000534057617, 2.437700033187866, 2.3893001079559326, 2.180299997329712, 2.3529000282287598, 2.2562999725341797, 2.205699920654297, 1.8280999660491943, 1.6823999881744385, 1.916100025177002, 1.9362000226974487, 1.7977999448776245, 1.0490000247955322, 1.2511999607086182, 1.8863999843597412, 1.0399999618530273, 3.2943999767303467, 3.2827999591827393, 3.2723000049591064, 3.2683000564575195, 3.257699966430664, 3.2513999938964844, 3.2497000694274902, 3.246299982070923, 3.2437000274658203, 3.2418999671936035, 3.235599994659424, 3.2065000534057617, 3.2063000202178955, 3.1937999725341797, 3.1902999877929688, 3.189500093460083, 3.1874001026153564, 3.1851999759674072, 3.184999942779541, 3.1830999851226807, 3.1714000701904297, 3.169100046157837, 3.151400089263916, 3.1510000228881836, 3.149399995803833, 3.1487998962402344, 3.1475000381469727, 3.1452999114990234, 3.124300003051758, 3.1201999187469482, 3.118499994277954, 3.103300094604492, 3.0724000930786133, 3.0583999156951904, 2.9539999961853027, 2.8252999782562256, 2.9554998874664307, 2.997299909591675, 2.926500082015991, 2.874500036239624, 2.9330999851226807, 2.674499988555908, 2.968899965286255, 2.588599920272827, 2.795300006866455, 2.7262001037597656, 2.906399965286255, 2.865499973297119, 2.558799982070923, 2.351300001144409, 1.9431999921798706, 1.8967000246047974, 2.05649995803833, 2.0348000526428223, 2.1131999492645264, 2.0387001037597656, 2.1421000957489014, 2.117799997329712, 1.524899959564209, 2.105299949645996, 2.2032999992370605, 2.1224000453948975, 1.5920000076293945, 1.9392999410629272, 1.6030999422073364, 1.6323000192642212, 1.0607999563217163, 1.3329999446868896, 1.156499981880188, 1.1446000337600708, 3.305299997329712, 3.297499895095825, 3.288100004196167, 3.2850000858306885, 3.275099992752075, 3.265000104904175, 3.264699935913086, 3.2643001079559326, 3.2636001110076904, 3.254499912261963, 3.248699903488159, 3.2453999519348145, 3.2446000576019287, 3.2409000396728516, 3.239799976348877, 3.2314000129699707, 3.2260000705718994, 3.224299907684326, 3.2235000133514404, 3.22189998626709, 3.2197999954223633, 3.2190001010894775, 3.2188000679016113, 3.2184998989105225, 3.211199998855591, 3.2095000743865967, 3.205899953842163, 3.203900098800659, 3.2037999629974365, 3.203399896621704, 3.184999942779541, 3.201900005340576, 3.2032999992370605, 3.1805999279022217, 3.187299966812134, 3.1212000846862793, 3.1521999835968018, 3.025700092315674, 3.1059000492095947, 3.1861000061035156, 3.0632998943328857, 3.09879994392395, 3.1398000717163086, 2.808799982070923, 3.109499931335449, 2.5448999404907227, 2.7939000129699707, 3.019700050354004, 2.557800054550171, 2.791800022125244, 3.021399974822998, 2.234800100326538, 2.6510000228881836, 2.4504001140594482, 3.020900011062622, 2.932499885559082, 2.2130000591278076, 2.5645999908447266, 2.348299980163574, 2.832200050354004, 1.881100058555603, 2.050299882888794, 2.1198999881744385, 1.9889999628067017, 1.6482000350952148, 1.7167999744415283, 1.3702000379562378, 1.7127000093460083, 1.639299988746643, 1.7414000034332275, 1.0640000104904175, 1.0568000078201294, 1.0226999521255493, 2.327199935913086, 2.3234000205993652, 2.3189001083374023, 2.317699909210205, 2.317699909210205, 2.313999891281128, 2.312299966812134, 2.312000036239624, 2.311800003051758, 2.3111000061035156, 2.3073999881744385, 2.3064000606536865, 2.3062000274658203, 2.3043999671936035, 2.3018999099731445, 2.3017001152038574, 2.301500082015991, 2.3010001182556152, 2.3006999492645264, 2.299099922180176, 2.298799991607666, 2.2985000610351562, 2.295599937438965, 2.2934000492095947, 2.2929999828338623, 2.2925000190734863, 2.288100004196167, 2.2876999378204346, 2.286600112915039, 2.2844998836517334, 2.2769999504089355, 2.2715001106262207, 2.2702999114990234, 2.272200107574463, 2.2492001056671143, 2.2511000633239746, 2.1958999633789062, 2.178499937057495, 2.1621999740600586, 2.2246999740600586, 2.222399950027466, 2.2421998977661133, 2.242000102996826, 2.2054998874664307, 2.1789000034332275, 1.9256999492645264, 1.913699984550476, 2.0309998989105225, 1.770799994468689, 2.026700019836426, 1.8766000270843506, 1.4851000308990479, 1.7906999588012695, 1.38919997215271, 1.128600001335144, 1.1868000030517578, 1.3904999494552612, 1.4230999946594238, 1.0606000423431396, 1.1912000179290771, 1.1613999605178833, 1.2000000476837158, 0.5085999965667725, 0.9750000238418579, 0.866599977016449, 2.6596999168395996, 2.6572000980377197, 2.6561999320983887, 2.651599884033203, 2.6410999298095703, 2.639699935913086, 2.6333999633789062, 2.6333000659942627, 2.627700090408325, 2.6245999336242676, 2.6205999851226807, 2.617300033569336, 2.6161999702453613, 2.6161000728607178, 2.615000009536743, 2.612600088119507, 2.6080000400543213, 2.6073999404907227, 2.605600118637085, 2.6045000553131104, 2.6001999378204346, 2.599900007247925, 2.5971999168395996, 2.5969998836517334, 2.59660005569458, 2.595400094985962, 2.5945000648498535, 2.591900110244751, 2.5917999744415283, 2.588599920272827, 2.5629000663757324, 2.566200017929077, 2.5750999450683594, 2.577199935913086, 2.57669997215271, 2.563800096511841, 2.5606000423431396, 2.571700096130371, 2.5708000659942627, 2.5827999114990234, 2.4737000465393066, 2.4056999683380127, 2.477299928665161, 2.39739990234375, 2.4400999546051025, 2.2418999671936035, 2.2520999908447266, 2.1867001056671143, 2.313999891281128, 1.892699956893921, 2.1214001178741455, 2.289299964904785, 2.0841000080108643, 2.0864999294281006, 2.001699924468994, 2.166300058364868, 1.2975000143051147, 1.756100058555603, 1.8154000043869019, 1.777999997138977, 1.9544999599456787, 1.5228999853134155, 2.06469988822937, 1.5925999879837036, 1.4886000156402588, 1.5408999919891357, 1.7396999597549438, 0.9555000066757202, 0.9359999895095825, 0.9753000140190125, 1.5020999908447266, 0.9240000247955322, 0.5950999855995178, 1.2656999826431274, 3.2014000415802, 3.181999921798706, 3.18149995803833, 3.1809000968933105, 3.1758999824523926, 3.175600051879883, 3.1728999614715576, 3.1728999614715576, 3.160399913787842, 3.1593000888824463, 3.156100034713745, 3.144200086593628, 3.1405999660491943, 3.137700080871582, 3.1361000537872314, 3.1273999214172363, 3.127000093460083, 3.127000093460083, 3.1266000270843506, 3.126499891281128, 3.1259000301361084, 3.1257998943328857, 3.125499963760376, 3.1254000663757324, 3.115600109100342, 3.1133999824523926, 3.1113998889923096, 3.1110999584198, 3.11080002784729, 3.102400064468384, 3.0938000679016113, 3.094099998474121, 3.09879994392395, 3.0938000679016113, 3.0782999992370605, 3.066800117492676, 3.028700113296509, 2.9874000549316406, 3.0768001079559326, 3.013700008392334, 2.9693000316619873, 2.8966000080108643, 2.9238998889923096, 2.8376998901367188, 2.7959001064300537, 3.050299882888794, 2.782099962234497, 2.935800075531006, 2.8954999446868896, 2.8382999897003174, 2.8120999336242676, 2.648699998855591, 2.7049999237060547, 2.5078001022338867, 2.562299966812134, 2.5690999031066895, 2.5464999675750732, 2.4072000980377197, 2.6001999378204346, 2.4230000972747803, 2.310800075531006, 2.800299882888794, 1.8573999404907227, 2.094099998474121, 2.0483999252319336, 1.7773000001907349, 2.3887999057769775, 1.2178000211715698, 1.621399998664856, 1.5256999731063843, 1.7581000328063965, 1.7688000202178955, 1.7652000188827515, 2.071199893951416, 1.5313999652862549, 2.50219988822937, 2.4928998947143555, 2.489000082015991, 2.4876999855041504, 2.4820001125335693, 2.4804000854492188, 2.4790000915527344, 2.475100040435791, 2.4739999771118164, 2.464600086212158, 2.463399887084961, 2.4595999717712402, 2.4532999992370605, 2.446199893951416, 2.44320011138916, 2.4375998973846436, 2.4375998973846436, 2.43179988861084, 2.4277000427246094, 2.425100088119507, 2.41729998588562, 2.4170000553131104, 2.414299964904785, 2.4138998985290527, 2.412899971008301, 2.4126999378204346, 2.4065001010894775, 2.402899980545044, 2.4028000831604004, 2.402600049972534, 2.4012999534606934, 2.305000066757202, 2.339600086212158, 2.3408000469207764, 2.3543999195098877, 2.3694000244140625, 2.3269999027252197, 2.109299898147583, 2.321000099182129, 2.3605000972747803, 2.285399913787842, 2.031399965286255, 2.072700023651123, 2.2153000831604004, 1.948699951171875, 2.1249001026153564, 1.8626999855041504, 1.7065000534057617, 1.8955999612808228, 1.6756000518798828, 1.8976000547409058, 1.7419999837875366, 2.1391000747680664, 1.7838000059127808, 1.5403000116348267, 1.5241999626159668, 2.0374999046325684, 1.493399977684021, 1.3827999830245972, 1.652999997138977, 1.583899974822998, 1.3651000261306763, 1.4164999723434448, 1.5360000133514404, 1.557800054550171, 1.469099998474121, 1.5670000314712524, 1.2072999477386475, 1.0541000366210938, 0.9416000247001648, 0.7652000188827515, 1.3981000185012817, 1.166599988937378, 1.0649000406265259, 1.141700029373169, 0.9853000044822693, 2.919800043106079, 2.919800043106079, 2.904400110244751, 2.9035000801086426, 2.8986001014709473, 2.895400047302246, 2.894399881362915, 2.8940000534057617, 2.8935999870300293, 2.888700008392334, 2.8754000663757324, 2.8750998973846436, 2.8740999698638916, 2.872499942779541, 2.8715999126434326, 2.870300054550171, 2.867000102996826, 2.866499900817871, 2.8650999069213867, 2.8631999492645264, 2.8608999252319336, 2.858599901199341, 2.858299970626831, 2.8550000190734863, 2.8526999950408936, 2.851599931716919, 2.8503000736236572, 2.8496999740600586, 2.848099946975708, 2.847899913787842, 2.8477001190185547, 2.843899965286255, 2.812299966812134, 2.7952001094818115, 2.7239999771118164, 2.7627999782562256, 2.646399974822998, 2.6328001022338867, 2.770400047302246, 2.484299898147583, 2.5606000423431396, 2.7251999378204346, 2.598400115966797, 2.4149999618530273, 2.2523000240325928, 2.4184000492095947, 2.4247000217437744, 2.4902000427246094, 2.033900022506714, 2.0136001110076904, 2.228100061416626, 1.6821999549865723, 2.1029000282287598, 2.272900104522705, 2.1256000995635986, 1.5961999893188477, 2.0673000812530518, 1.7559000253677368, 1.7730000019073486, 1.30239999294281, 1.6287000179290771, 1.7597999572753906, 1.4536999464035034, 1.222599983215332, 1.017199993133545, 1.315500020980835, 1.2646000385284424, 1.1683000326156616, 1.0163999795913696], \"logprob\": [30.0, 29.0, 28.0, 27.0, 26.0, 25.0, 24.0, 23.0, 22.0, 21.0, 20.0, 19.0, 18.0, 17.0, 16.0, 15.0, 14.0, 13.0, 12.0, 11.0, 10.0, 9.0, 8.0, 7.0, 6.0, 5.0, 4.0, 3.0, 2.0, 1.0, -7.337100028991699, -7.16510009765625, -7.442399978637695, -7.717599868774414, -6.6031999588012695, -7.8755998611450195, -7.920100212097168, -7.316699981689453, -7.365600109100342, -8.159000396728516, -8.161199569702148, -5.753499984741211, -8.275199890136719, -8.338600158691406, -7.486199855804443, -8.56309986114502, -8.244000434875488, -8.491900444030762, -7.49459981918335, -8.646499633789062, -8.646900177001953, -8.646499633789062, -8.64680004119873, -8.64799976348877, -6.899099826812744, -7.877799987792969, -8.497699737548828, -8.654500007629395, -8.309300422668457, -8.148200035095215, -5.8703999519348145, -7.296800136566162, -7.3471999168396, -7.888400077819824, -7.749800205230713, -7.756800174713135, -6.981100082397461, -7.409200191497803, -7.180200099945068, -6.474400043487549, -6.52239990234375, -7.19980001449585, -4.927999973297119, -6.976900100708008, -6.660600185394287, -7.014599800109863, -5.064899921417236, -7.388899803161621, -5.678899765014648, -7.043499946594238, -5.423399925231934, -7.2256999015808105, -5.595399856567383, -5.552199840545654, -5.894800186157227, -6.483099937438965, -5.954599857330322, -6.151599884033203, -6.151800155639648, -5.417600154876709, -5.735899925231934, -5.8531999588012695, -6.184100151062012, -6.221099853515625, -5.715000152587891, -5.750699996948242, -5.964700222015381, -5.300099849700928, -5.563600063323975, -5.8684000968933105, -5.7052998542785645, -6.151400089263916, -5.6331000328063965, -5.6545000076293945, -5.89870023727417, -5.464399814605713, -5.673999786376953, -5.783400058746338, -5.788000106811523, -5.8429999351501465, -5.874300003051758, -5.923500061035156, -6.384099960327148, -5.315999984741211, -7.274600028991699, -6.611000061035156, -6.90880012512207, -5.338099956512451, -7.276700019836426, -7.544899940490723, -7.323500156402588, -7.2881999015808105, -6.504000186920166, -7.603400230407715, -7.841899871826172, -6.115900039672852, -5.195899963378906, -7.296000003814697, -7.915200233459473, -7.915999889373779, -8.11340045928955, -7.6682000160217285, -6.963699817657471, -7.997499942779541, -7.888400077819824, -6.174799919128418, -6.027699947357178, -7.793399810791016, -6.48859977722168, -7.965000152587891, -6.5644001960754395, -6.59119987487793, -5.149899959564209, -6.417699813842773, -4.935999870300293, -5.8755998611450195, -4.617800235748291, -5.569900035858154, -4.385200023651123, -4.928699970245361, -4.70419979095459, -4.744500160217285, -5.0441999435424805, -5.326399803161621, -5.675600051879883, -6.332499980926514, -4.817200183868408, -6.78000020980835, -5.30810022354126, -5.475599765777588, -5.02209997177124, -5.613800048828125, -4.866000175476074, -5.601900100708008, -5.018199920654297, -5.100800037384033, -5.512899875640869, -5.712399959564209, -5.33050012588501, -5.52810001373291, -5.65910005569458, -5.249300003051758, -5.467400074005127, -5.577700138092041, -5.590000152587891, -5.658599853515625, -5.704899787902832, -5.560200214385986, -5.617000102996826, -5.977399826049805, -6.087699890136719, -6.347799777984619, -5.517099857330322, -6.778500080108643, -6.8867998123168945, -6.887499809265137, -6.977200031280518, -7.041100025177002, -6.812900066375732, -7.182499885559082, -7.350200176239014, -7.394800186157227, -7.230899810791016, -7.4456000328063965, -7.494699954986572, -7.549499988555908, -7.5518999099731445, -6.859099864959717, -7.60890007019043, -6.2652997970581055, -7.131100177764893, -6.73859977722168, -7.668600082397461, -7.670400142669678, -7.733099937438965, -7.673299789428711, -6.383500099182129, -6.355400085449219, -6.286300182342529, -4.110599994659424, -5.624499797821045, -5.398200035095215, -6.750699996948242, -3.8608999252319336, -4.707300186157227, -4.913700103759766, -4.964099884033203, -5.3302001953125, -4.498000144958496, -5.365900039672852, -5.803599834442139, -4.5432000160217285, -4.821100234985352, -5.795100212097168, -5.502900123596191, -6.0543999671936035, -6.1392998695373535, -5.580999851226807, -6.038099765777588, -5.319499969482422, -5.8506999015808105, -5.688899993896484, -5.278800010681152, -5.385000228881836, -5.616300106048584, -5.507199764251709, -5.837100028991699, -5.757599830627441, -5.794300079345703, -5.834799766540527, -6.017499923706055, -5.518199920654297, -6.368299961090088, -6.928199768066406, -6.04040002822876, -7.253300189971924, -7.585000038146973, -7.646299839019775, -6.8180999755859375, -7.314899921417236, -8.02560043334961, -7.730000019073486, -7.794600009918213, -7.797500133514404, -8.028400421142578, -7.0777997970581055, -8.113499641418457, -5.839200019836426, -7.382800102233887, -7.382999897003174, -6.835100173950195, -8.336799621582031, -8.340299606323242, -8.340499877929688, -8.340399742126465, -7.647900104522705, -8.466500282287598, -8.465999603271484, -8.469400405883789, -8.468600273132324, -6.314899921417236, -7.664400100708008, -8.152999877929688, -6.782199859619141, -8.070699691772461, -7.250699996948242, -7.216100215911865, -6.542699813842773, -6.894899845123291, -7.581699848175049, -6.134699821472168, -6.993299961090088, -5.485000133514404, -6.0680999755859375, -5.32390022277832, -6.684199810028076, -6.320899963378906, -5.674300193786621, -5.868599891662598, -5.183700084686279, -5.223400115966797, -5.129799842834473, -5.777400016784668, -5.121200084686279, -6.649199962615967, -5.15880012512207, -5.468699932098389, -5.514100074768066, -6.583700180053711, -5.252399921417236, -5.662899971008301, -6.031199932098389, -5.648900032043457, -5.576000213623047, -5.679200172424316, -5.547399997711182, -5.731200218200684, -5.265999794006348, -5.725100040435791, -5.889699935913086, -5.792600154876709, -5.249100208282471, -5.331500053405762, -5.506499767303467, -5.592400074005127, -5.57919979095459, -5.687600135803223, -5.710400104522705, -5.685999870300293, -5.786900043487549, -6.274400234222412, -6.69950008392334, -7.212399959564209, -7.3933000564575195, -7.513299942016602, -6.464200019836426, -7.768700122833252, -7.770599842071533, -7.81220006942749, -8.004199981689453, -6.797599792480469, -7.870200157165527, -7.914700031280518, -6.979700088500977, -6.950699806213379, -7.54640007019043, -8.305800437927246, -7.79640007019043, -7.006700038909912, -7.9253997802734375, -7.720300197601318, -6.105800151824951, -8.249699592590332, -6.691999912261963, -8.460100173950195, -8.460399627685547, -5.410900115966797, -7.732100009918213, -7.531499862670898, -8.546600341796875, -7.857100009918213, -6.63100004196167, -4.7982001304626465, -5.966000080108643, -5.3302001953125, -5.936299800872803, -5.432199954986572, -6.422800064086914, -6.9456000328063965, -7.268700122833252, -6.701200008392334, -5.997700214385986, -4.965400218963623, -6.14709997177124, -6.760300159454346, -6.8917999267578125, -5.332699775695801, -5.05649995803833, -5.854300022125244, -5.959700107574463, -6.098299980163574, -6.149099826812744, -5.248600006103516, -6.329500198364258, -5.633699893951416, -5.8394999504089355, -5.902900218963623, -5.926000118255615, -5.796500205993652, -5.855899810791016, -5.860000133514404, -6.112100124359131, -5.887899875640869, -5.959499835968018, -5.524600028991699, -5.772200107574463, -5.852700233459473, -5.9191999435424805, -5.890999794006348, -5.97760009765625, -5.898499965667725, -5.92080020904541, -5.990600109100342, -5.5690999031066895, -6.627099990844727, -5.502200126647949, -4.279399871826172, -6.597099781036377, -7.059500217437744, -7.168499946594238, -5.641499996185303, -7.06220006942749, -7.133699893951416, -7.303999900817871, -7.44379997253418, -7.396500110626221, -7.553500175476074, -5.01039981842041, -7.678999900817871, -5.441500186920166, -7.057300090789795, -7.367000102996826, -7.059199810028076, -5.9730000495910645, -6.730500221252441, -7.213900089263916, -7.700399875640869, -6.714000225067139, -7.991700172424316, -7.770400047302246, -8.080499649047852, -4.627600193023682, -8.186100006103516, -6.830599784851074, -6.482399940490723, -6.1585001945495605, -4.415999889373779, -4.627900123596191, -5.226799964904785, -5.285999774932861, -5.501200199127197, -5.131499767303467, -5.630899906158447, -5.3078999519348145, -4.419000148773193, -5.012400150299072, -5.502799987792969, -5.10860013961792, -6.491700172424316, -4.075200080871582, -4.288899898529053, -5.130099773406982, -4.673900127410889, -6.261300086975098, -4.632699966430664, -4.82289981842041, -4.51200008392334, -5.615200042724609, -4.465099811553955, -5.198599815368652, -4.883299827575684, -5.36929988861084, -5.056700229644775, -5.333099842071533, -5.429299831390381, -5.344799995422363, -5.453100204467773, -5.892399787902832, -6.7322998046875, -6.831200122833252, -4.9928998947143555, -7.013299942016602, -6.056000232696533, -7.119500160217285, -6.970399856567383, -7.299799919128418, -7.334400177001953, -7.302000045776367, -7.271900177001953, -7.406199932098389, -7.339099884033203, -7.408699989318848, -6.402200222015381, -7.708499908447266, -7.708000183105469, -7.758999824523926, -7.991300106048584, -7.9918999671936035, -7.9934000968933105, -7.995200157165527, -6.504300117492676, -8.061400413513184, -7.996600151062012, -7.244699954986572, -8.062999725341797, -8.064399719238281, -8.133199691772461, -4.502500057220459, -6.811800003051758, -5.205900192260742, -7.226399898529053, -6.487100124359131, -5.689899921417236, -5.8429999351501465, -6.684199810028076, -6.717599868774414, -6.558300018310547, -5.973400115966797, -6.259399890899658, -5.923999786376953, -4.224100112915039, -5.723999977111816, -6.222799777984619, -5.450900077819824, -5.715799808502197, -5.88040018081665, -6.711299896240234, -6.6234002113342285, -5.17110013961792, -5.770299911499023, -5.274700164794922, -5.231400012969971, -5.979899883270264, -5.103099822998047, -5.505300045013428, -5.509099960327148, -5.506499767303467, -5.812600135803223, -5.411300182342529, -5.453000068664551, -5.816400051116943, -5.521100044250488, -5.504300117492676, -5.593200206756592, -5.657800197601318, -5.684000015258789, -5.683499813079834, -5.80649995803833, -5.8053998947143555, -5.86329984664917, -4.024799823760986, -5.241700172424316, -5.416600227355957, -5.717899799346924, -5.668700218200684, -6.732800006866455, -6.732999801635742, -6.440299987792969, -7.061200141906738, -5.205100059509277, -6.480000019073486, -6.184199810028076, -7.415500164031982, -7.298699855804443, -7.377200126647949, -6.984099864959717, -7.417200088500977, -7.228000164031982, -7.301300048828125, -6.836400032043457, -6.075900077819824, -7.379899978637695, -7.554800033569336, -7.7179999351501465, -6.895400047302246, -7.571599960327148, -7.3983001708984375, -7.844399929046631, -7.912399768829346, -7.788300037384033, -5.46750020980835, -5.612400054931641, -6.501100063323975, -4.502500057220459, -6.548999786376953, -6.587699890136719, -5.187300205230713, -4.749499797821045, -5.586299896240234, -6.874000072479248, -6.78000020980835, -5.478099822998047, -5.110099792480469, -5.672800064086914, -5.271299839019775, -6.269499778747559, -5.0756001472473145, -6.03439998626709, -5.914000034332275, -5.412799835205078, -5.840099811553955, -5.637199878692627, -5.637899875640869, -5.050300121307373, -4.887499809265137, -5.673600196838379, -5.756899833679199, -5.667399883270264, -5.368599891662598, -5.498799800872803, -5.784200191497803, -5.792300224304199, -1.8034000396728516, -5.184599876403809, -4.80210018157959, -6.0100998878479, -4.237100124359131, -6.943999767303467, -6.3856000900268555, -7.082200050354004, -6.217100143432617, -7.241000175476074, -7.304500102996826, -7.682199954986572, -7.768899917602539, -7.8769001960754395, -7.88070011138916, -7.6996002197265625, -2.952699899673462, -6.892300128936768, -7.991099834442139, -7.993000030517578, -7.367800235748291, -8.127900123596191, -8.276000022888184, -8.280500411987305, -8.286199569702148, -8.294400215148926, -8.282099723815918, -8.285799980163574, -8.462499618530273, -8.464900016784668, -7.164700031280518, -7.2266998291015625, -6.589000225067139, -6.4868998527526855, -5.543300151824951, -4.155600070953369, -6.023399829864502, -6.711400032043457, -6.049900054931641, -5.668000221252441, -6.2820000648498535, -4.6031999588012695, -6.5945000648498535, -4.451300144195557, -5.726099967956543, -5.541999816894531, -6.44320011138916, -6.355000019073486, -5.625100135803223, -5.254799842834473, -4.8815999031066895, -4.859899997711182, -5.142499923706055, -5.1545000076293945, -5.295300006866455, -5.326000213623047, -5.6407999992370605, -5.684700012207031, -5.284999847412109, -5.747700214385986, -5.9197998046875, -5.963600158691406, -5.784200191497803, -5.90880012512207, -5.861999988555908, -5.870200157165527, -5.8053998947143555, -5.891300201416016, -5.896599769592285, -5.896500110626221, -5.835899829864502, -6.354400157928467, -6.769100189208984, -6.772299766540527, -5.151299953460693, -7.291100025177002, -7.128799915313721, -7.291900157928467, -7.292399883270264, -7.244200229644775, -7.367499828338623, -7.504899978637695, -7.506400108337402, -7.66349983215332, -7.664700031280518, -7.759500026702881, -7.764999866485596, -7.679200172424316, -7.600900173187256, -7.0767998695373535, -7.866700172424316, -7.867499828338623, -5.544400215148926, -7.869200229644775, -7.407700061798096, -7.983399868011475, -7.987199783325195, -7.54580020904541, -7.993599891662598, -7.54640007019043, -5.493800163269043, -7.360599994659424, -7.54640007019043, -6.68120002746582, -6.90369987487793, -5.90880012512207, -6.52239990234375, -4.162099838256836, -5.7596001625061035, -7.257999897003174, -5.891300201416016, -6.704400062561035, -7.028500080108643, -5.073599815368652, -7.019000053405762, -4.713799953460693, -5.799799919128418, -6.6528000831604, -5.002500057220459, -5.853499889373779, -6.67710018157959, -4.261000156402588, -5.594600200653076, -5.261099815368652, -6.676599979400635, -6.463399887084961, -4.959400177001953, -5.792300224304199, -5.553699970245361, -6.378399848937988, -4.996500015258789, -5.527100086212158, -5.654200077056885, -5.513500213623047, -5.17579984664917, -5.338799953460693, -5.404699802398682, -5.737599849700928, -5.8470001220703125, -5.96019983291626, -5.808599948883057, -5.821499824523926, -5.8856000900268555, -6.369999885559082, -6.573599815368652, -7.043600082397461, -6.418700218200684, -7.121799945831299, -6.6554999351501465, -7.255099773406982, -6.6209001541137695, -7.27869987487793, -5.547100067138672, -6.176799774169922, -7.461900234222412, -5.084499835968018, -7.521100044250488, -6.643499851226807, -7.650100231170654, -7.792500019073486, -6.707300186157227, -6.446100234985352, -7.2027997970581055, -7.795199871063232, -7.795499801635742, -7.878600120544434, -6.198400020599365, -7.968299865722656, -5.906300067901611, -5.982800006866455, -7.5680999755859375, -8.176199913024902, -6.2555999755859375, -5.0258002281188965, -6.1315999031066895, -6.5391998291015625, -6.638000011444092, -5.810999870300293, -5.898799896240234, -4.799099922180176, -4.870800018310547, -5.012700080871582, -6.01669979095459, -6.037199974060059, -6.419099807739258, -6.428699970245361, -6.079599857330322, -6.221499919891357, -4.924600124359131, -5.141900062561035, -5.702199935913086, -5.053199768066406, -5.91349983215332, -5.789700031280518, -5.259500026702881, -5.888700008392334, -5.740799903869629, -5.681300163269043, -5.72160005569458, -5.8632001876831055, -5.89870023727417, -5.769199848175049, -5.848100185394287, -5.943999767303467, -5.961599826812744, -5.886600017547607, -5.944300174713135, -5.973999977111816, -5.989999771118164, -6.30109977722168, -6.255000114440918, -6.682499885559082, -7.02269983291626, -6.626699924468994, -7.44789981842041, -7.447999954223633, -7.491300106048584, -6.968400001525879, -6.537799835205078, -7.071000099182129, -7.870800018310547, -7.670000076293945, -7.67110013961792, -7.931399822235107, -7.9969000816345215, -7.081399917602539, -6.582399845123291, -8.065099716186523, -8.138099670410156, -8.138500213623047, -7.835400104522705, -8.141799926757812, -7.891600131988525, -7.892600059509277, -8.21780014038086, -6.112800121307373, -8.220600128173828, -8.303799629211426, -5.111000061035156, -5.686399936676025, -6.627399921417236, -6.8109002113342285, -6.929299831390381, -6.536399841308594, -6.525300025939941, -7.020999908447266, -7.02370023727417, -7.429800033569336, -4.999300003051758, -5.198200225830078, -6.2368998527526855, -5.388700008392334, -6.242700099945068, -4.784299850463867, -5.585899829864502, -5.269000053405762, -6.252900123596191, -4.947800159454346, -5.70989990234375, -6.219200134277344, -5.695499897003174, -5.8368000984191895, -5.709799766540527, -6.1072998046875, -5.097799777984619, -5.781899929046631, -5.884399890899658, -5.931000232696533, -6.115900039672852, -5.836599826812744, -6.2032999992370605, -5.9045000076293945, -5.88070011138916, -5.934999942779541, -6.024899959564209, -5.819399833679199, -5.896299839019775, -5.943999767303467, -6.057700157165527, -5.9791998863220215, -6.0630998611450195, -6.098199844360352, -6.7778000831604, -7.309000015258789, -7.308800220489502, -7.308800220489502, -7.431399822235107, -7.31879997253418, -7.499599933624268, -7.071400165557861, -7.654600143432617, -7.129899978637695, -7.7393999099731445, -5.526100158691406, -7.85260009765625, -6.216899871826172, -7.955900192260742, -7.689799785614014, -8.055500030517578, -8.05620002746582, -8.05620002746582, -8.056099891662598, -8.059900283813477, -8.059100151062012, -8.058600425720215, -7.953000068664551, -7.700300216674805, -8.09469985961914, -8.190999984741211, -8.197999954223633, -8.192399978637695, -6.843299865722656, -6.674799919128418, -7.290299892425537, -7.57390022277832, -7.3429999351501465, -6.873300075531006, -6.911600112915039, -6.308899879455566, -5.737599849700928, -7.258399963378906, -6.313000202178955, -5.736999988555908, -5.039000034332275, -5.452099800109863, -4.619800090789795, -4.611999988555908, -7.110400199890137, -4.971700191497803, -6.192399978637695, -6.02839994430542, -5.681000232696533, -5.533599853515625, -4.8902997970581055, -5.616799831390381, -5.11269998550415, -5.380799770355225, -5.441400051116943, -5.567500114440918, -5.241199970245361, -5.905900001525879, -5.6855998039245605, -5.635700225830078, -6.46619987487793, -5.008800029754639, -5.481800079345703, -5.425899982452393, -5.4893999099731445, -6.061800003051758, -5.087399959564209, -5.4721999168396, -5.513599872589111, -5.650700092315674, -5.662799835205078, -5.687099933624268, -5.80709981918335, -5.75570011138916, -6.277100086212158, -6.989799976348877, -6.51609992980957, -7.1732001304626465, -7.426799774169922, -7.493000030517578, -6.3846001625061035, -7.605100154876709, -7.6427998542785645, -7.508600234985352, -7.775899887084961, -7.780200004577637, -5.037499904632568, -8.22249984741211, -8.293000221252441, -8.377099990844727, -8.165200233459473, -8.381999969482422, -7.186100006103516, -7.7316999435424805, -8.560099601745605, -8.476300239562988, -8.660799980163574, -8.663700103759766, -8.564599990844727, -8.659799575805664, -8.407699584960938, -8.775799751281738, -8.776300430297852, -8.672699928283691, -8.204000473022461, -4.800600051879883, -6.590700149536133, -6.905700206756592, -7.389500141143799, -7.916200160980225, -7.332300186157227, -4.6041998863220215, -7.389100074768066, -7.927599906921387, -7.305699825286865, -5.632299900054932, -5.909900188446045, -6.86959981918335, -5.236999988555908, -6.706099987030029, -5.439799785614014, -4.951700210571289, -5.774700164794922, -4.985199928283691, -5.991700172424316, -5.584000110626221, -6.840700149536133, -5.842400074005127, -5.587399959564209, -5.648200035095215, -6.717700004577637, -5.664299964904785, -5.463600158691406, -5.981299877166748, -5.861199855804443, -5.514500141143799, -5.636499881744385, -5.914299964904785, -5.949699878692627, -5.889900207519531, -6.021900177001953, -5.736100196838379, -5.595699787139893, -5.622200012207031, -5.660900115966797, -5.958499908447266, -5.908899784088135, -5.884099960327148, -5.925600051879883, -5.934000015258789, -5.581600189208984, -5.6184000968933105, -7.156599998474121, -7.230400085449219, -7.310500144958496, -6.1255998611450195, -7.315000057220459, -5.850599765777588, -7.442800045013428, -7.593999862670898, -7.843100070953369, -7.843400001525879, -7.719299793243408, -7.720699787139893, -7.463900089263916, -7.916800022125244, -7.934100151062012, -7.094200134277344, -7.9959001541137695, -7.998000144958496, -7.926300048828125, -7.5721001625061035, -8.08240032196045, -6.679299831390381, -7.394599914550781, -7.44320011138916, -7.317299842834473, -7.937900066375732, -8.179100036621094, -6.748000144958496, -8.013199806213379, -7.690400123596191, -6.568399906158447, -6.138800144195557, -4.6975998878479, -5.87060022354126, -5.119900226593018, -5.526199817657471, -7.098299980163574, -5.077099800109863, -5.765399932861328, -6.909999847412109, -6.253900051116943, -5.463399887084961, -4.861599922180176, -5.604100227355957, -5.764400005340576, -6.116199970245361, -5.03439998626709, -5.125800132751465, -5.7733001708984375, -4.6230998039245605, -5.584000110626221, -6.202700138092041, -5.968800067901611, -5.211900234222412, -5.938600063323975, -5.579899787902832, -5.685100078582764, -5.242599964141846, -5.5802001953125, -5.739200115203857, -5.658999919891357, -5.644899845123291, -5.587699890136719, -5.687699794769287, -5.723999977111816, -5.729499816894531, -5.732999801635742]}, \"token.table\": {\"Topic\": [3, 10, 6, 7, 13, 1, 2, 3, 5, 7, 8, 10, 11, 12, 14, 12, 2, 4, 5, 7, 12, 14, 6, 8, 10, 1, 2, 3, 4, 5, 6, 7, 8, 9, 11, 12, 13, 14, 15, 1, 3, 4, 5, 7, 8, 9, 10, 11, 12, 13, 14, 15, 9, 7, 9, 10, 12, 13, 6, 1, 2, 3, 4, 5, 6, 7, 8, 9, 10, 11, 12, 13, 14, 15, 1, 2, 3, 4, 5, 6, 7, 8, 9, 10, 11, 12, 13, 14, 15, 2, 3, 4, 6, 8, 15, 13, 1, 2, 4, 5, 9, 10, 12, 14, 15, 1, 2, 3, 4, 5, 8, 11, 12, 14, 15, 10, 1, 2, 3, 4, 5, 7, 8, 9, 11, 12, 13, 14, 15, 1, 2, 3, 4, 5, 7, 8, 9, 10, 11, 12, 13, 14, 15, 12, 4, 5, 8, 12, 14, 2, 3, 4, 6, 7, 8, 10, 11, 13, 14, 15, 4, 15, 2, 4, 7, 14, 1, 4, 5, 6, 7, 8, 9, 10, 11, 12, 13, 14, 15, 10, 6, 7, 8, 13, 15, 12, 12, 10, 11, 14, 1, 2, 5, 9, 10, 11, 12, 13, 14, 2, 13, 14, 2, 4, 7, 14, 15, 1, 2, 3, 5, 6, 7, 8, 9, 10, 11, 12, 13, 14, 12, 4, 5, 8, 9, 12, 2, 13, 11, 1, 2, 3, 4, 5, 6, 7, 8, 9, 10, 11, 12, 13, 14, 15, 1, 2, 3, 4, 5, 6, 7, 8, 9, 10, 11, 12, 13, 14, 15, 1, 3, 5, 13, 2, 15, 7, 1, 2, 3, 4, 5, 6, 8, 9, 10, 11, 12, 13, 14, 15, 1, 2, 3, 5, 6, 7, 8, 9, 10, 11, 12, 13, 14, 15, 1, 2, 3, 4, 5, 6, 8, 9, 11, 12, 13, 14, 15, 1, 5, 6, 11, 12, 1, 3, 4, 5, 8, 9, 12, 4, 10, 12, 9, 4, 7, 7, 7, 7, 10, 4, 2, 6, 1, 8, 10, 11, 14, 1, 8, 10, 11, 13, 14, 7, 10, 11, 12, 14, 1, 2, 4, 5, 6, 8, 9, 10, 11, 12, 13, 14, 15, 1, 2, 6, 7, 8, 12, 13, 14, 15, 1, 2, 3, 4, 5, 6, 7, 8, 9, 10, 11, 12, 13, 14, 15, 1, 2, 14, 1, 2, 4, 5, 6, 7, 8, 9, 10, 12, 13, 15, 14, 1, 2, 3, 4, 6, 7, 8, 9, 14, 15, 8, 12, 5, 1, 2, 3, 4, 5, 6, 7, 8, 9, 10, 11, 12, 13, 14, 15, 14, 7, 1, 5, 9, 12, 14, 3, 4, 5, 7, 8, 9, 12, 13, 14, 15, 1, 3, 4, 5, 8, 9, 10, 13, 14, 15, 11, 3, 4, 5, 6, 9, 11, 12, 13, 15, 3, 3, 4, 7, 9, 11, 12, 3, 5, 9, 2, 3, 4, 5, 6, 7, 8, 9, 13, 15, 3, 2, 5, 1, 3, 4, 5, 6, 7, 8, 9, 10, 11, 12, 13, 14, 15, 1, 2, 3, 4, 5, 6, 7, 8, 10, 11, 12, 13, 14, 15, 10, 11, 1, 5, 8, 10, 11, 12, 13, 14, 3, 6, 7, 14, 1, 11, 13, 1, 11, 12, 14, 3, 4, 7, 8, 13, 14, 7, 8, 1, 2, 3, 4, 5, 6, 8, 9, 10, 11, 12, 13, 14, 2, 6, 15, 13, 1, 2, 3, 4, 5, 6, 7, 8, 9, 10, 11, 12, 13, 14, 15, 6, 12, 13, 2, 3, 4, 5, 6, 7, 8, 9, 10, 11, 12, 14, 15, 2, 3, 4, 5, 6, 7, 8, 11, 12, 13, 14, 15, 1, 2, 3, 4, 5, 7, 8, 10, 11, 12, 13, 14, 15, 13, 1, 2, 3, 5, 6, 7, 9, 12, 15, 4, 1, 5, 1, 2, 3, 4, 5, 8, 9, 10, 11, 12, 13, 14, 15, 7, 8, 8, 10, 3, 7, 11, 4, 5, 6, 15, 9, 3, 2, 3, 5, 6, 7, 8, 12, 13, 14, 1, 2, 3, 4, 5, 6, 7, 8, 9, 10, 11, 12, 13, 14, 15, 14, 5, 9, 2, 3, 4, 5, 6, 7, 8, 13, 15, 2, 3, 6, 1, 3, 8, 8, 1, 5, 10, 11, 12, 13, 14, 15, 12, 2, 3, 5, 6, 8, 9, 11, 12, 15, 3, 15, 5, 8, 13, 1, 3, 5, 7, 11, 14, 15, 1, 2, 3, 4, 5, 6, 7, 8, 9, 10, 11, 12, 13, 14, 15, 9, 3, 11, 9, 8, 12, 13, 14, 15, 1, 5, 9, 12, 14, 10, 6, 15, 2, 7, 13, 11, 14, 1, 2, 3, 4, 5, 6, 7, 9, 10, 11, 12, 13, 14, 10, 2, 4, 10, 14, 1, 2, 3, 4, 5, 6, 8, 9, 10, 11, 12, 13, 14, 15, 2, 4, 6, 14, 1, 2, 3, 4, 5, 6, 7, 8, 9, 10, 11, 12, 13, 14, 15, 1, 5, 6, 10, 11, 12, 13, 14, 1, 2, 10, 11, 14, 15, 4, 11, 4, 3, 6, 7, 8, 12, 13, 14, 15, 1, 2, 3, 4, 5, 7, 8, 9, 11, 12, 14, 15, 1, 5, 1, 2, 3, 4, 5, 7, 8, 9, 10, 11, 12, 13, 14, 15, 1, 4, 5, 6, 7, 8, 9, 11, 12, 13, 14, 1, 4, 5, 7, 9, 12, 13, 15, 2, 3, 7, 10, 13, 14, 15, 1, 2, 3, 4, 13, 14, 15, 1, 2, 3, 4, 6, 7, 8, 10, 11, 13, 14, 15, 10, 3, 3, 5, 12, 15, 3, 1, 2, 3, 4, 5, 6, 7, 8, 9, 10, 11, 12, 13, 14, 15, 1, 3, 4, 5, 7, 8, 9, 10, 11, 12, 13, 15, 1, 1, 2, 3, 4, 5, 6, 7, 9, 10, 11, 12, 13, 14, 15, 2, 3, 10, 13, 14, 4, 7, 10, 7, 3, 11, 1, 2, 3, 4, 5, 6, 7, 10, 12, 13, 14, 15, 4, 2, 3, 4, 5, 6, 7, 8, 11, 12, 13, 14, 15, 1, 2, 3, 4, 5, 6, 7, 9, 10, 11, 12, 13, 14, 1, 2, 3, 4, 5, 6, 7, 8, 9, 10, 11, 12, 13, 14, 15, 1, 2, 3, 4, 5, 6, 7, 8, 9, 10, 11, 12, 13, 14, 15, 4, 8, 9, 5, 9, 11, 12, 14, 15, 1, 2, 4, 5, 6, 8, 9, 10, 11, 12, 14, 2, 4, 14, 11, 2, 6, 13, 15, 10, 13, 14, 7, 1, 5, 9, 14, 1, 2, 3, 4, 5, 6, 7, 8, 9, 11, 12, 13, 14, 15, 1, 3, 4, 5, 7, 8, 10, 11, 15, 1, 2, 3, 4, 5, 6, 7, 8, 9, 10, 11, 12, 13, 14, 15, 1, 2, 3, 4, 5, 7, 11, 12, 13, 14, 15, 2, 6, 6, 2, 6, 9, 1, 2, 3, 5, 6, 7, 8, 9, 11, 12, 13, 14, 15, 1, 4, 8, 9, 11, 12, 14, 15, 2, 6, 1, 2, 3, 4, 5, 6, 7, 8, 9, 10, 11, 12, 13, 14, 15, 2, 4, 5, 6, 8, 11, 14, 8, 14, 1, 2, 3, 4, 5, 8, 9, 11, 12, 14, 15, 1, 2, 3, 4, 5, 6, 7, 8, 9, 10, 11, 12, 13, 14, 15, 2, 3, 6, 13, 14, 12, 7, 15, 1, 2, 5, 9, 11, 12, 13, 14, 15, 1, 4, 5, 6, 9, 11, 12, 14, 15, 10, 11, 1, 12, 14, 5, 8, 4, 4, 4, 13, 14, 15, 4, 4, 7, 14, 15, 4, 7, 4, 2, 6, 6, 7, 13, 14, 15, 14, 1, 2, 3, 4, 5, 6, 7, 8, 9, 10, 11, 12, 13, 14, 15, 1, 2, 3, 4, 5, 6, 7, 8, 9, 10, 11, 12, 13, 14, 15, 1, 2, 3, 4, 5, 6, 7, 8, 9, 11, 12, 13, 14, 15, 1, 9, 12, 1, 2, 3, 4, 5, 6, 8, 9, 11, 12, 13, 14, 15, 1, 2, 3, 5, 6, 7, 8, 9, 10, 11, 12, 13, 14, 15, 7, 4, 13, 14, 15, 4, 13, 1, 3, 4, 5, 8, 9, 11, 12, 14, 15, 3, 15, 3, 5, 9, 10, 11, 15, 3, 3, 5, 2, 4, 6, 14, 15, 1, 5, 9, 11, 14, 7, 5, 1, 2, 3, 4, 5, 6, 7, 8, 9, 10, 11, 13, 14, 15, 7, 8, 13, 4, 5, 1, 2, 3, 4, 5, 6, 7, 10, 11, 12, 13, 14, 15, 2, 3, 4, 6, 7, 8, 9, 10, 11, 12, 13, 14, 15, 3, 10, 12, 14, 1, 2, 3, 4, 5, 6, 7, 8, 9, 10, 11, 12, 13, 14, 15, 6, 13, 4, 7, 10, 12, 10, 3, 15, 5, 2, 3, 6, 7, 14, 15, 3, 6, 11, 4, 1, 2, 3, 4, 5, 6, 7, 8, 9, 10, 11, 12, 13, 14, 15, 1, 5, 9, 10, 11, 12, 14, 2, 3, 4, 6, 7, 8, 11, 12, 13, 14, 15, 1, 2, 3, 4, 5, 6, 7, 8, 9, 10, 11, 12, 13, 14, 15, 2, 3, 4, 5, 7, 8, 9, 10, 11, 14, 15, 3, 5, 10, 11, 12, 13, 14, 5, 10, 1, 2, 9, 10, 11, 13, 1, 5, 10, 4, 7, 8, 9, 12, 14, 15, 1, 3, 5, 7, 8, 11, 12, 13, 14, 1, 2, 3, 4, 5, 6, 8, 9, 10, 11, 12, 13, 14, 15, 2, 3, 6, 7, 4, 10, 12, 13, 1, 3, 4, 5, 7, 8, 10, 11, 12, 13, 14, 1, 2, 3, 4, 6, 7, 8, 9, 11, 12, 13, 14, 15, 1, 2, 4, 5, 9, 10, 11, 12, 14, 15, 1, 3, 4, 5, 6, 7, 8, 10, 11, 12, 13, 14, 15, 14, 1, 2, 3, 4, 5, 6, 7, 8, 9, 10, 11, 12, 13, 14, 15, 1, 2, 3, 4, 5, 6, 7, 8, 9, 10, 11, 12, 13, 14, 15, 9, 5, 12, 14, 2, 1, 4, 11, 13, 14, 15, 1, 2, 4, 5, 11, 13, 14, 15, 12, 1, 4, 5, 8, 9, 11, 12, 13, 14, 15, 1, 2, 4, 5, 6, 7, 8, 9, 13, 14, 15, 1, 2, 3, 6, 7, 8, 9, 15, 7, 12, 6, 10, 12, 1, 13, 1, 2, 3, 4, 5, 6, 7, 8, 9, 10, 11, 12, 13, 14, 15, 1, 2, 3, 4, 5, 6, 7, 9, 10, 11, 12, 13, 14, 4, 11, 13, 14, 15, 1, 3, 10, 11, 14, 4, 6, 1, 3, 5, 6, 8, 9, 10, 11, 12, 13, 14, 1, 4, 5, 6, 8, 9, 10, 11, 12, 14, 14, 1, 2, 5, 7, 8, 10, 11, 12, 13, 14, 1, 7, 9, 11, 13, 14, 15, 14, 1, 5, 13, 1, 2, 3, 4, 5, 6, 7, 8, 9, 10, 11, 12, 13, 14, 15, 8, 1, 2, 3, 5, 8, 10, 11, 13, 14, 1, 2, 3, 4, 5, 7, 8, 9, 10, 11, 12, 13, 14, 15, 1, 8, 14, 1, 2, 3, 4, 5, 6, 7, 8, 9, 10, 11, 12, 13, 14, 15, 1, 2, 3, 4, 5, 6, 8, 9, 12, 13, 15, 1, 9, 1, 2, 3, 4, 5, 6, 7, 8, 9, 10, 11, 13, 14, 15, 1, 1, 2, 3, 4, 5, 6, 7, 8, 9, 10, 11, 12, 13, 14, 15, 9, 11, 8, 9, 4, 3, 2, 7, 1, 2, 3, 4, 5, 6, 7, 8, 9, 11, 12, 13, 14, 15, 14, 15, 1, 2, 3, 4, 5, 6, 7, 8, 9, 10, 11, 12, 13, 14, 15, 1, 5, 9, 12, 2, 4, 5, 8, 11, 12, 14, 15, 4, 1, 2, 4, 5, 7, 14, 15, 2, 6, 7, 15, 7, 1, 3, 15, 5, 1, 2, 3, 4, 6, 14, 1, 3, 4, 5, 7, 8, 10, 11, 12, 13, 14, 15, 1, 2, 3, 4, 5, 7, 8, 9, 10, 11, 12, 13, 14, 15, 2, 3, 4, 5, 6, 7, 10, 13, 14, 15, 6, 8, 15, 6, 3, 5, 15, 1, 3, 5, 8, 9, 11, 12, 13, 14, 8, 13, 2, 4, 6, 7, 10, 13, 14, 15, 1, 2, 3, 4, 5, 6, 7, 8, 9, 10, 11, 12, 13, 14, 15, 1, 4, 5, 7, 9, 12, 14, 15, 12, 12, 7, 1, 2, 4, 5, 9, 12, 15, 1, 4, 5, 6, 7, 8, 9, 12, 13, 14, 15, 2, 4, 5, 6, 8, 12, 14, 15, 1, 5, 10, 11, 14, 1, 5, 10, 1, 3, 4, 5, 6, 7, 8, 9, 10, 12, 13, 14, 15, 3, 5, 10, 15, 1, 3, 5, 8, 10, 11, 12, 14, 1, 1, 11, 2, 3, 6, 7, 10, 11, 14, 15, 2, 7, 4, 7, 11, 13, 14, 2, 1, 5, 5, 1, 2, 3, 4, 5, 6, 7, 8, 9, 10, 11, 12, 13, 14, 15, 1, 5, 1, 2, 3, 4, 5, 8, 9, 12, 13, 14, 15, 13, 14, 15, 3, 1, 3, 9, 8, 13, 6, 1, 2, 3, 4, 5, 6, 7, 8, 9, 11, 13, 14, 15, 10, 12, 6, 1, 2, 3, 4, 5, 6, 7, 8, 9, 10, 11, 12, 13, 14, 15, 3, 5, 9, 10, 11, 12, 13, 15, 1, 2, 3, 5, 6, 9, 10, 11, 12, 13, 14, 15, 13, 1, 2, 3, 4, 6, 7, 8, 10, 11, 12, 13, 14, 15, 1, 2, 3, 4, 5, 6, 7, 8, 9, 10, 11, 12, 13, 14, 15, 1, 3, 1, 2, 3, 4, 5, 6, 7, 8, 9, 10, 11, 12, 13, 14, 15, 1, 2, 3, 4, 5, 7, 8, 9, 10, 11, 12, 13, 14, 15, 3, 4, 3, 3, 4, 5, 8, 15, 6, 9, 1, 5, 14, 14, 3, 8, 5, 9, 4, 5, 9, 10, 11, 12, 15, 1, 2, 3, 4, 5, 6, 7, 8, 9, 10, 11, 12, 13, 14, 15, 1, 2, 3, 4, 5, 6, 7, 8, 9, 10, 11, 12, 13, 14, 15, 1, 2, 3, 4, 5, 7, 8, 9, 10, 11, 12, 13, 14, 1, 4, 5, 9, 1, 4, 3, 6, 10, 11, 12, 14, 2, 3, 5, 8, 11, 13, 14, 15, 2, 1, 4, 5, 11, 12, 14, 1, 14, 9, 5, 9, 13, 11, 12, 15, 10, 12, 1, 2, 3, 4, 5, 6, 7, 10, 11, 12, 13, 14, 15, 2, 10, 12, 13, 13, 15, 14, 1, 1, 7, 1, 5, 11, 12, 14, 9, 14, 12, 3, 3, 7, 1, 3, 10, 1, 11, 11, 6, 3, 3, 6, 1, 5, 9, 10, 11, 12, 13, 14, 1, 2, 3, 4, 5, 6, 7, 8, 10, 13, 14, 15, 10, 2, 3, 7, 9, 10, 13, 2, 2, 4, 6, 7, 13, 14, 15, 3, 2, 6, 13, 1, 2, 3, 5, 7, 10, 11, 12, 14, 15, 7, 1, 2, 1, 5, 8, 10, 11, 12, 1, 5, 13, 9, 1, 3, 5, 6, 10, 11, 13, 1, 2, 3, 4, 5, 6, 7, 8, 9, 11, 12, 13, 14, 15, 2, 3, 6, 1, 3, 5, 8, 9, 12, 2, 3, 6, 9, 13, 15, 6, 10, 1, 4, 6, 4, 1, 1, 3, 4, 5, 6, 8, 9, 10, 11, 12, 13, 14, 15, 1, 5, 9, 11, 12, 1, 2, 3, 4, 5, 7, 8, 9, 11, 12, 13, 14, 15, 2, 8, 14, 1, 2, 3, 4, 5, 7, 8, 10, 11, 12, 13, 14, 15, 1, 2, 3, 4, 5, 6, 7, 8, 9, 10, 11, 12, 13, 14, 15, 5, 11, 1, 2, 3, 4, 5, 6, 7, 10, 13, 14, 1, 3, 4, 5, 15, 5, 13, 1, 2, 3, 4, 5, 7, 8, 10, 11, 12, 13, 14, 15, 11, 14, 1, 5, 9, 10, 12, 13, 13, 2, 3, 7, 1, 4, 5, 10, 14, 1, 1, 2, 3, 4, 5, 7, 8, 9, 10, 11, 12, 13, 14, 15, 1, 2, 3, 4, 5, 7, 8, 9, 11, 12, 14, 15, 1, 2, 3, 4, 5, 6, 7, 8, 9, 10, 11, 12, 13, 14, 15, 4, 1, 2, 3, 4, 5, 6, 7, 8, 9, 10, 11, 12, 13, 14, 15, 4, 4, 7, 15, 11, 1, 2, 3, 4, 5, 6, 7, 8, 9, 10, 11, 12, 13, 14, 15, 11, 2, 3, 4, 6, 7, 12, 14, 15, 9, 1, 2, 3, 4, 5, 6, 7, 8, 9, 10, 11, 12, 13, 14, 15, 7, 1, 5, 11, 15, 1, 2, 4, 5, 6, 7, 8, 9, 10, 11, 12, 13, 14, 15, 9, 10, 1, 2, 3, 4, 5, 9, 10, 11, 12, 14, 15, 10, 11, 12, 15, 1, 2, 5, 10, 11, 12, 14, 2, 3, 6, 14, 1, 2, 3, 4, 5, 6, 7, 8, 9, 10, 11, 12, 13, 14, 15, 5, 1, 2, 3, 4, 5, 6, 7, 8, 9, 10, 11, 13, 14, 15, 1, 11, 10, 1, 10, 14, 2, 14, 6, 6, 14, 12, 6, 1, 13, 10, 12, 1, 3, 4, 5, 6, 7, 8, 9, 10, 11, 13, 14, 15, 1, 5, 1, 4, 5, 7, 8, 9, 11, 12, 13, 14, 15, 1, 5, 9, 4, 4, 1, 2, 3, 5, 6, 7, 8, 9, 10, 11, 12, 14, 15, 1, 5, 6, 9, 11, 12, 14, 15, 15, 15, 1, 2, 4, 5, 7, 10, 11, 14, 2, 2, 7, 13, 1, 2, 3, 4, 6, 7, 8, 9, 10, 11, 13, 14, 15, 2, 3, 4, 5, 6, 7, 8, 9, 10, 11, 13, 14, 15, 1, 2, 4, 13, 15, 2, 3, 4, 5, 6, 7, 8, 10, 12, 14, 15, 10, 1, 4, 5, 7, 10, 11, 12, 14, 4, 1, 3, 5, 6, 7, 8, 9, 10, 11, 12, 14, 1, 10, 11, 12, 14, 15, 2, 6, 15, 2, 6, 9, 12, 15, 7, 8, 10, 12, 1, 8, 11, 12, 14, 1, 2, 4, 5, 6, 7, 11, 13, 2, 3, 6, 7, 10, 12, 13, 15, 7, 8, 14, 10, 14, 1, 5, 8, 9, 10, 11, 12, 13, 14, 15, 1, 5, 12, 13, 5, 13, 1, 2, 4, 5, 7, 8, 9, 10, 11, 12, 13, 14, 1, 2, 3, 4, 5, 6, 7, 8, 9, 10, 11, 12, 13, 14, 15, 3, 4, 5, 13, 1, 2, 5, 8, 9, 10, 11, 12, 14, 15, 15, 1, 2, 3, 4, 5, 6, 7, 8, 9, 10, 11, 12, 13, 14, 15, 1, 2, 3, 4, 5, 6, 7, 10, 11, 12, 13, 14, 15, 1, 2, 3, 4, 5, 6, 7, 8, 9, 10, 11, 12, 13, 14, 15, 10, 1, 5, 7, 9, 12, 13, 14, 1, 2, 3, 5, 6, 7, 8, 9, 10, 11, 12, 13, 14, 15, 1, 3, 4, 5, 7, 9, 10, 11, 12, 14, 3, 15, 6, 8, 1, 2, 3, 4, 5, 9, 10, 12, 14, 3, 1, 2, 3, 4, 5, 6, 7, 8, 9, 10, 11, 12, 13, 14, 15, 1, 4, 5, 8, 12, 13, 14, 1, 2, 3, 4, 5, 6, 7, 8, 9, 10, 11, 12, 13, 14, 15, 4, 7, 10, 1, 7, 10, 7, 1, 2, 3, 4, 5, 6, 7, 8, 9, 10, 11, 12, 13, 14, 15, 5, 1, 12, 14, 1, 3, 5, 9, 12, 15, 2, 3, 4, 6, 7, 8, 9, 13, 15, 5, 13, 6, 1, 2, 3, 4, 5, 6, 7, 8, 9, 11, 12, 13, 14, 15, 5, 7, 13, 1, 2, 3, 4, 5, 6, 7, 10, 11, 13, 14, 15, 10, 1, 2, 3, 8, 10, 11, 12, 13, 14, 15, 10, 11, 11, 1, 2, 3, 4, 5, 6, 7, 8, 9, 10, 11, 12, 13, 14, 15, 1, 5, 7, 8, 10, 11, 12, 14, 2, 4, 9, 14, 12, 5, 10, 11, 12, 13, 14, 2, 4, 7, 4, 15, 1, 4, 5, 8, 9, 10, 11, 12, 13, 14, 15, 8, 13, 1, 3, 4, 7, 9, 10, 11, 14, 15, 3, 6, 1, 2, 3, 4, 5, 6, 7, 8, 9, 11, 12, 13, 14, 15, 1, 2, 3, 5, 7, 8, 9, 10, 11, 12, 14, 15, 2, 4, 10, 7, 5, 10, 12, 14, 1, 2, 3, 4, 5, 6, 7, 8, 9, 10, 11, 12, 13, 14, 15, 1, 2, 5, 6, 7, 8, 11, 13, 15, 9, 11, 13, 14, 2, 3, 4, 6, 7, 8, 13, 14, 3, 3, 2, 3, 6, 7, 10, 2, 3, 4, 6, 13, 11, 1, 2, 3, 4, 5, 6, 7, 8, 9, 10, 11, 12, 13, 14, 15, 7, 14, 1, 3, 4, 5, 7, 8, 10, 11, 12, 13, 14, 7, 3, 3, 4, 5, 6, 10, 12, 15, 3, 6, 15, 2, 4, 10, 7, 9, 14, 13, 12, 9, 1, 4, 5, 8, 9, 11, 12, 13, 14, 15, 1, 2, 3, 4, 5, 6, 8, 9, 10, 11, 12, 14, 15, 1, 2, 4, 5, 7, 9, 10, 11, 12, 14, 15, 2, 7, 14, 1, 4, 5, 6, 7, 8, 9, 10, 11, 12, 13, 14, 3, 4, 6, 1, 2, 4, 5, 6, 8, 13, 15, 1, 2, 3, 4, 5, 6, 7, 8, 9, 10, 11, 12, 13, 14, 15, 2, 6, 15, 15, 1, 4, 5, 8, 10, 11, 12, 14, 15, 1, 11, 4, 1, 5, 9, 10, 11, 12, 14, 1, 2, 3, 4, 5, 6, 7, 9, 10, 11, 12, 13, 14, 15, 12, 15, 2, 1, 5, 7, 11, 14, 1, 2, 4, 5, 6, 7, 9, 10, 11, 13, 14, 15, 2, 4, 6, 7, 2, 4, 5, 12, 14, 15, 1, 2, 3, 4, 5, 6, 7, 9, 10, 11, 12, 13, 14, 15, 1, 4, 5, 7, 8, 11, 13, 14, 15, 2, 7, 8, 13, 1, 2, 3, 7, 11, 1, 2, 3, 4, 5, 6, 7, 8, 10, 11, 12, 13, 14, 15, 1, 2, 3, 4, 5, 6, 7, 8, 10, 11, 12, 13, 14, 15, 4, 8, 10, 6, 1, 5, 1, 2, 4, 11, 1, 3, 10, 11, 1, 3, 4, 10, 14, 7, 1, 9, 14, 1, 2, 3, 4, 5, 6, 7, 8, 9, 11, 12, 13, 14, 15, 10, 12, 1, 11, 1, 2, 3, 4, 5, 6, 7, 8, 9, 10, 11, 12, 13, 14, 15, 1, 5, 9, 11, 11, 3, 1, 2, 3, 6, 7, 14, 15, 3, 15, 10, 2, 4, 8, 10, 12, 13, 12, 12, 14, 1, 2, 3, 4, 5, 6, 7, 8, 9, 10, 11, 12, 14, 15, 1, 5, 11, 7, 8, 13, 7, 1, 2, 3, 4, 5, 6, 7, 8, 9, 10, 11, 12, 13, 14, 15, 2, 3, 6, 7, 14, 15, 1, 2, 3, 4, 6, 7, 9, 10, 11, 12, 13, 14, 1, 2, 3, 4, 5, 6, 7, 8, 9, 10, 11, 12, 13, 14, 15, 10, 12, 3, 1, 3, 5, 6, 7, 8, 9, 10, 11, 12, 13, 14, 5, 14, 15, 4, 5, 8, 12, 14, 2, 4, 6, 7, 9, 13, 14, 15, 13, 1, 2, 3, 4, 5, 6, 7, 8, 9, 10, 11, 12, 14, 15, 1, 2, 3, 4, 5, 6, 7, 8, 9, 10, 11, 12, 13, 14, 15, 5, 9, 10, 11, 13, 1, 5, 12, 13, 1, 9, 14, 5, 14, 14, 1, 5, 10, 11, 12, 13, 14, 1, 5, 10, 11, 12, 13, 14, 14, 2, 1, 13, 1, 1, 5, 5, 10, 10, 12, 5, 11, 5, 14, 1, 2, 3, 4, 5, 6, 7, 8, 9, 10, 11, 12, 13, 14, 15, 10, 11, 14, 11, 15, 9, 4, 5, 7, 8, 11, 12, 13, 14, 15, 4, 7, 8, 8, 12, 1, 3, 4, 5, 9, 1, 2, 5, 11, 13, 15, 1, 2, 3, 4, 5, 6, 7, 8, 9, 10, 11, 12, 13, 14, 15, 1, 2, 3, 4, 5, 7, 8, 9, 12, 13, 15, 2, 4, 6, 7, 8, 11, 12, 13, 14, 15, 3, 5, 15, 1, 2, 3, 4, 5, 6, 7, 8, 9, 10, 11, 12, 13, 14, 15, 3, 7, 15, 1, 2, 3, 4, 5, 7, 8, 10, 11, 12, 13, 14, 15, 1, 2, 3, 4, 5, 6, 7, 8, 9, 10, 11, 12, 13, 14, 15, 1, 5, 7, 3, 8, 1, 4, 5, 7, 12, 14, 15, 1, 10, 14, 15, 1, 2, 3, 4, 5, 7, 8, 9, 10, 11, 12, 13, 14, 15, 11, 12, 1, 2, 4, 5, 7, 1, 2, 3, 4, 5, 6, 7, 8, 9, 10, 11, 12, 13, 14, 15, 15, 1, 2, 4, 5, 6, 7, 9, 11, 12, 13, 14, 15, 14, 1, 2, 5, 6, 7, 10, 11, 12, 13, 14, 15, 1, 2, 4, 5, 7, 9, 10, 11, 12, 13, 14, 3, 5, 6, 10, 15, 1, 2, 3, 4, 6, 7, 10, 12, 14, 15, 1, 11, 14, 2, 6, 9, 14, 3, 4, 5, 8, 15, 1, 3, 4, 5, 7, 10, 11, 12, 13, 14, 15, 1, 2, 3, 4, 5, 6, 7, 8, 9, 11, 12, 13, 14, 15, 1, 4, 5, 8, 11, 12, 13, 14, 15, 1, 2, 3, 4, 5, 6, 7, 9, 11, 13, 14, 15, 1, 8, 10, 14, 1, 2, 3, 4, 5, 6, 7, 8, 9, 10, 11, 12, 14, 15, 1, 2, 4, 6, 7, 8, 9, 10, 11, 13, 14, 15, 1, 1, 11, 1, 2, 3, 4, 5, 6, 7, 8, 9, 10, 11, 12, 13, 14, 15, 4, 7, 10, 4, 7, 8, 11, 13, 15, 2, 4, 6, 9, 11, 12, 13, 14, 15, 1, 2, 3, 4, 5, 6, 7, 8, 9, 12, 13, 14, 15, 1, 2, 3, 4, 5, 6, 7, 8, 9, 10, 11, 12, 13, 14, 15, 1, 2, 3, 6, 7, 12, 13, 14, 15, 1, 2, 3, 4, 5, 6, 7, 8, 9, 10, 11, 12, 13, 14, 15, 1, 6, 9, 10, 11, 12, 14, 5, 11, 14, 13, 2, 7, 5, 15, 1, 2, 3, 4, 5, 8, 9, 10, 11, 12, 13, 14, 15, 1, 4, 5, 8, 9, 12, 15, 3, 1, 3, 4, 5, 8, 9, 12, 13, 14, 15, 9, 1, 5, 11, 12, 7, 14, 2, 3, 4, 6, 7, 8, 9, 12, 13, 15, 6, 15, 4, 6, 15, 2, 5, 7, 9, 10, 11, 11, 12, 4, 1, 2, 3, 4, 5, 6, 7, 10, 12, 13, 14, 15, 3, 5, 8, 15, 11, 14, 1, 2, 4, 5, 7, 8, 9, 10, 11, 12, 13, 1, 5, 11, 12, 2, 3, 4, 6, 8, 15, 1, 2, 3, 4, 5, 6, 7, 8, 9, 11, 12, 13, 14, 15, 1, 3, 4, 5, 8, 9, 11, 12, 13, 15, 9, 12, 2, 9, 14, 5, 8, 1, 4, 5, 9, 10, 11, 12, 13, 14, 4, 7, 15, 13, 3, 10, 1, 2, 3, 4, 5, 6, 7, 8, 9, 10, 11, 12, 13, 14, 7, 10, 1, 2, 4, 5, 6, 7, 10, 11, 12, 13, 14, 15, 2, 3, 4, 6, 7, 8, 11, 13, 14, 15, 2, 3, 4, 5, 6, 7, 8, 9, 10, 11, 12, 13, 14, 15, 8, 1, 4, 5, 12, 15, 13, 1, 2, 3, 4, 5, 8, 9, 11, 12, 15, 9, 8, 15, 5, 13, 1, 4, 5, 7, 11, 8, 8, 2, 3, 4, 7, 9, 15, 1, 2, 4, 5, 6, 7, 8, 9, 10, 11, 12, 13, 14, 15, 8, 12, 13, 15, 1, 4, 5, 8, 14, 8, 15, 2, 4, 10, 12, 15, 3, 4, 5, 4, 12, 5, 7, 9, 13, 13, 2, 4, 6, 7, 11, 12, 13, 1, 2, 3, 4, 5, 7, 8, 9, 10, 11, 12, 13, 14, 15, 8, 1, 2, 3, 4, 5, 6, 7, 9, 10, 11, 12, 13, 14, 15, 1, 3, 5, 7, 8, 9, 10, 11, 12, 13, 14, 15, 10, 12, 13, 2, 3, 4, 5, 7, 8, 10, 11, 12, 13, 14, 15, 2, 10, 7, 10, 11, 10, 1, 2, 3, 4, 5, 6, 7, 8, 9, 12, 13, 14, 15, 2, 3, 4, 5, 6, 7, 8, 10, 11, 12, 13, 14, 15, 10, 8, 2, 3, 5, 6, 7, 8, 9, 12, 13, 14, 15, 4, 6, 1, 2, 5, 10, 12, 5, 1, 2, 3, 4, 5, 10, 15, 1, 2, 3, 4, 5, 6, 7, 8, 12, 13, 14, 15, 3, 4, 5, 8, 9, 11, 12, 13, 14, 15, 1, 2, 4, 5, 8, 10, 11, 13, 15, 1, 2, 3, 4, 5, 9, 12, 14, 15, 1, 2, 3, 4, 5, 12, 9, 1, 2, 4, 5, 6, 7, 8, 9, 10, 11, 12, 13, 14, 15, 1, 2, 10, 11, 12, 14, 1, 3, 5, 8, 10, 11, 12, 13, 14, 1, 2, 4, 5, 6, 7, 8, 10, 11, 13, 14, 15, 2, 4, 5, 6, 7, 8, 10, 11, 12, 13, 14, 15, 4, 5, 14, 7, 3, 5, 7, 8, 12, 13, 14, 15, 1, 2, 3, 4, 5, 6, 7, 8, 9, 10, 11, 12, 13, 14, 15, 1, 2, 5, 8, 13, 1, 2, 3, 4, 5, 6, 7, 8, 9, 10, 11, 12, 13, 14, 15, 14, 10, 11, 14, 1, 2, 3, 4, 5, 6, 7, 8, 9, 10, 11, 12, 13, 14, 15, 1, 12, 15, 9, 8, 1, 2, 3, 4, 5, 6, 7, 8, 9, 10, 11, 12, 13, 14, 15, 13, 14, 3, 5, 9, 12, 13, 1, 3, 4, 5, 6, 7, 8, 11, 12, 14, 15, 3, 8, 14, 1, 2, 3, 4, 5, 7, 8, 9, 10, 11, 14, 15, 9, 1, 5, 12, 11, 2, 2, 7, 15, 8, 1, 4, 5, 11, 14, 1, 2, 3, 4, 5, 6, 7, 8, 9, 11, 12, 13, 14, 15, 2, 3, 7, 13, 1, 2, 4, 5, 6, 8, 9, 11, 12, 13, 15, 1, 2, 3, 4, 5, 7, 8, 9, 11, 12, 14, 15, 2, 3, 4, 5, 6, 7, 8, 9, 12, 13, 14, 15, 1, 2, 3, 4, 5, 6, 7, 9, 10, 11, 12, 13, 14, 15, 1, 2, 3, 4, 5, 7, 9, 10, 11, 12, 14, 15, 1, 2, 3, 5, 8, 10, 11, 12, 14, 13, 1, 2, 3, 5, 6, 8, 9, 10, 11, 12, 13, 14, 1, 5, 9, 11, 12, 13, 15, 1, 4, 5, 6, 7, 8, 9, 11, 12, 13, 4, 5, 8, 9, 1, 2, 3, 4, 5, 6, 8, 9, 10, 11, 12, 13, 14, 15, 1, 3, 4, 5, 6, 8, 9, 10, 11, 12, 13, 14, 12, 13, 1, 5, 6, 11, 12, 10, 12, 13, 14, 15, 8, 2, 4, 7, 14, 13, 5, 14, 1, 2, 3, 4, 5, 6, 7, 8, 11, 12, 13, 15, 1, 5, 7, 9, 10, 11, 14, 2, 3, 4, 6, 7, 9, 13, 14, 15, 5, 6, 9, 13, 14, 1, 2, 3, 4, 5, 6, 7, 8, 9, 11, 12, 13, 14, 15, 7, 7, 12, 1, 2, 3, 4, 5, 6, 7, 8, 9, 10, 11, 12, 13, 14, 15, 7, 10, 5, 2, 15, 1, 4, 5, 7, 8, 9, 12, 13, 1, 4, 10, 11, 1, 3, 5, 12, 1, 10, 11, 6, 1, 2, 3, 4, 5, 6, 7, 8, 12, 13, 14, 15, 1, 5, 1, 4, 5, 8, 9, 11, 12, 13, 2, 3, 4, 6, 7, 10, 14, 15, 3, 13, 15, 3, 7, 13, 15, 1, 2, 3, 5, 7, 8, 9, 10, 14, 15, 1, 9, 10, 2, 6, 15, 4, 8, 11, 14, 1, 9, 10, 11, 1, 3, 4, 5, 6, 7, 8, 9, 10, 11, 12, 13, 14, 15, 1, 2, 3, 4, 5, 6, 7, 8, 10, 11, 12, 14, 1, 2, 3, 4, 5, 6, 7, 8, 9, 10, 11, 12, 13, 14, 15, 15, 1, 3, 5, 6, 7, 8, 9, 10, 11, 12, 13, 14, 1, 3, 5, 7, 8, 10, 11, 12, 14, 15, 1, 5, 9, 13, 2, 4, 5, 8, 10, 13, 7, 2, 4, 6, 7, 15, 6, 8, 1, 2, 3, 4, 5, 6, 7, 8, 9, 13, 14, 15, 13, 15, 14, 5, 12, 1, 1, 4, 5, 6, 7, 8, 9, 10, 11, 12, 13, 14, 15, 8, 5, 8, 11, 12, 13, 1, 10, 11, 13, 13, 2, 3, 6, 9, 10, 12, 1, 7, 1], \"Freq\": [0.9742677807807922, 0.9312803149223328, 0.9717154502868652, 0.007361480500549078, 0.007361480500549078, 0.0615106076002121, 0.010854813270270824, 0.0289461687207222, 0.02170962654054165, 0.003618271090090275, 0.003618271090090275, 0.0180913545191288, 0.7345090508460999, 0.0434192530810833, 0.0759836956858635, 0.9437666535377502, 0.05034845694899559, 0.025174228474497795, 0.16363248229026794, 0.03776134178042412, 0.012587114237248898, 0.692291259765625, 0.9598858952522278, 0.00834683421999216, 0.01669366843998432, 0.007452592719346285, 0.3756106495857239, 0.023848295211791992, 0.02981037087738514, 0.011924147605895996, 0.07899747788906097, 0.02682933397591114, 0.0044715553522109985, 0.017886221408843994, 0.005962073802947998, 0.011924147605895996, 0.0044715553522109985, 0.3234425187110901, 0.07750695943832397, 0.042750246822834015, 0.01603134162724018, 0.03206268325448036, 0.005343780852854252, 0.005343780852854252, 0.347345769405365, 0.33665817975997925, 0.010687561705708504, 0.01603134162724018, 0.12290696054697037, 0.021375123411417007, 0.03740646690130234, 0.005343780852854252, 0.8731065392494202, 0.06736070662736893, 0.044907137751579285, 0.8083284497261047, 0.033680353313684464, 0.033680353313684464, 0.9470696449279785, 0.2363000214099884, 0.022202687337994576, 0.007929530926048756, 0.022202687337994576, 0.10308390110731125, 0.014273155480623245, 0.01585906185209751, 0.03171812370419502, 0.03330402821302414, 0.09991209208965302, 0.3155953288078308, 0.030132217332720757, 0.004757718648761511, 0.05392080917954445, 0.00634362455457449, 0.33198028802871704, 0.08187855035066605, 0.01637570932507515, 0.004466102458536625, 0.142915278673172, 0.004466102458536625, 0.01637570932507515, 0.005954803433269262, 0.05805933475494385, 0.0535932295024395, 0.1369604766368866, 0.0684802383184433, 0.01637570932507515, 0.04912712797522545, 0.011909606866538525, 0.09467761963605881, 0.01456578727811575, 0.007282893639057875, 0.8448156714439392, 0.007282893639057875, 0.0291315745562315, 0.9112600684165955, 0.005202202126383781, 0.010404404252767563, 0.03641541302204132, 0.7231060862541199, 0.03641541302204132, 0.010404404252767563, 0.03121321275830269, 0.11965064704418182, 0.015606606379151344, 0.03088708408176899, 0.043241918087005615, 0.06177416816353798, 0.012354834005236626, 0.07412900030612946, 0.03706450015306473, 0.12972575426101685, 0.5436127185821533, 0.043241918087005615, 0.02470966801047325, 0.8877293467521667, 0.04068942368030548, 0.0027126281056553125, 0.0027126281056553125, 0.3445037603378296, 0.07595358788967133, 0.04611467942595482, 0.016275769099593163, 0.01085051242262125, 0.013563140295445919, 0.016275769099593163, 0.029838910326361656, 0.39604371786117554, 0.005425256211310625, 0.05818789079785347, 0.0032326607033610344, 0.019395964220166206, 0.04525724798440933, 0.08081651479005814, 0.04848990961909294, 0.10991045832633972, 0.05172257125377655, 0.009697982110083103, 0.009697982110083103, 0.035559266805648804, 0.4816664159297943, 0.019395964220166206, 0.029093945398926735, 0.9439137578010559, 0.041982442140579224, 0.013994148001074791, 0.013994148001074791, 0.8956254720687866, 0.013994148001074791, 0.06251703202724457, 0.006698253098875284, 0.44431746006011963, 0.0022327511105686426, 0.13396506011486053, 0.02009475976228714, 0.01116375532001257, 0.004465502221137285, 0.026793012395501137, 0.14289607107639313, 0.14289607107639313, 0.8558389544487, 0.1006869375705719, 0.08582956343889236, 0.8726005554199219, 0.014304927550256252, 0.014304927550256252, 0.2997964024543762, 0.07494910061359406, 0.4143019914627075, 0.020819194614887238, 0.006245758850127459, 0.027064954861998558, 0.03955646976828575, 0.006245758850127459, 0.014573437161743641, 0.04580222815275192, 0.008327677845954895, 0.031228793784976006, 0.008327677845954895, 0.9612129926681519, 0.0065453373827040195, 0.019636010751128197, 0.03272668644785881, 0.2552681565284729, 0.6807150840759277, 0.9500883221626282, 0.9495735168457031, 0.7481095790863037, 0.025796882808208466, 0.20637506246566772, 0.004200231283903122, 0.004200231283903122, 0.02100115641951561, 0.0378020815551281, 0.5964328646659851, 0.04200231283903122, 0.17640972137451172, 0.05880323797464371, 0.05040277540683746, 0.9482583403587341, 0.043102651834487915, 0.9887406229972839, 0.27049848437309265, 0.00470432173460722, 0.19758151471614838, 0.5221797227859497, 0.00235216086730361, 0.5923459529876709, 0.008615941740572453, 0.002153985435143113, 0.04307970777153969, 0.006461956072598696, 0.021539853885769844, 0.010769926942884922, 0.06246557459235191, 0.025847824290394783, 0.030155794695019722, 0.17878077924251556, 0.002153985435143113, 0.017231883481144905, 0.9727460145950317, 0.006082626990973949, 0.030413135886192322, 0.024330507963895798, 0.024330507963895798, 0.9002287983894348, 0.9495289325714111, 0.9237505793571472, 0.9780554175376892, 0.05018895864486694, 0.15056687593460083, 0.0702645406126976, 0.0458870455622673, 0.054490868002176285, 0.030113374814391136, 0.21222758293151855, 0.017207643017172813, 0.01864161342382431, 0.02294352278113365, 0.1892840713262558, 0.03154734522104263, 0.020075581967830658, 0.05305689573287964, 0.03298131376504898, 0.0012043255846947432, 0.7045304775238037, 0.004817302338778973, 0.034925442188978195, 0.007225953973829746, 0.05178600177168846, 0.08309847116470337, 0.0060216281563043594, 0.024086512625217438, 0.0012043255846947432, 0.0060216281563043594, 0.003612976986914873, 0.021677860990166664, 0.015656232833862305, 0.03372111916542053, 0.6991996765136719, 0.0032826275564730167, 0.28887122869491577, 0.0032826275564730167, 0.04470691457390785, 0.8941382765769958, 0.971230149269104, 0.15591652691364288, 0.002887343056499958, 0.03176077455282211, 0.005774686112999916, 0.043310146778821945, 0.008662029169499874, 0.011549372225999832, 0.07218357920646667, 0.07795826345682144, 0.10394434630870819, 0.051972173154354095, 0.008662029169499874, 0.38401663303375244, 0.043310146778821945, 0.12875883281230927, 0.06066522002220154, 0.032189708203077316, 0.048284564167261124, 0.008666460402309895, 0.008666460402309895, 0.007428394630551338, 0.032189708203077316, 0.05199876055121422, 0.15971048176288605, 0.02723744697868824, 0.0012380657717585564, 0.43208494782447815, 0.0012380657717585564, 0.462873250246048, 0.0023028519935905933, 0.023028520867228508, 0.0023028519935905933, 0.14968538284301758, 0.004605703987181187, 0.029937075451016426, 0.10132548958063126, 0.009211407974362373, 0.11514259874820709, 0.011514260433614254, 0.018422815948724747, 0.06908556073904037, 0.11368946731090546, 0.8301135301589966, 0.001804594649001956, 0.001804594649001956, 0.052333246916532516, 0.8278913497924805, 0.01724773645401001, 0.025871604681015015, 0.01724773645401001, 0.060367077589035034, 0.008623868227005005, 0.01724773645401001, 0.9353147745132446, 0.870912492275238, 0.05443203076720238, 0.9761579036712646, 0.058105915784835815, 0.929694652557373, 0.9760777354240417, 0.9500195980072021, 0.9225775599479675, 0.05766109749674797, 0.8765838146209717, 0.04662065580487251, 0.909102737903595, 0.004643331281840801, 0.009286662563681602, 0.2507398724555969, 0.08357996493577957, 0.6454230546951294, 0.018587134778499603, 0.002065237145870924, 0.3283727169036865, 0.2726113200187683, 0.002065237145870924, 0.37174269556999207, 0.889324963092804, 0.043031852692365646, 0.014343950897455215, 0.02868790179491043, 0.014343950897455215, 0.17413586378097534, 0.0013930868590250611, 0.1769220381975174, 0.40817445516586304, 0.0055723474361002445, 0.0417926050722599, 0.0571165606379509, 0.004179260693490505, 0.03064791113138199, 0.04318569228053093, 0.015323955565690994, 0.036220259964466095, 0.0055723474361002445, 0.013036458753049374, 0.24769271910190582, 0.04562760517001152, 0.039109375327825546, 0.006518229376524687, 0.019554687663912773, 0.5866406559944153, 0.006518229376524687, 0.03259114921092987, 0.06137190759181976, 0.15106931328773499, 0.011802289634943008, 0.011802289634943008, 0.016523204743862152, 0.002360458020120859, 0.42016151547431946, 0.016523204743862152, 0.06137190759181976, 0.011802289634943008, 0.11330198496580124, 0.011802289634943008, 0.009441832080483437, 0.10386014729738235, 0.004720916040241718, 0.02372688613831997, 0.02372688613831997, 0.9253485202789307, 0.016314417123794556, 0.053021859377622604, 0.03670744225382805, 0.004078604280948639, 0.024471627548336983, 0.004078604280948639, 0.4078604578971863, 0.3058953285217285, 0.004078604280948639, 0.012235813774168491, 0.020393023267388344, 0.10604371875524521, 0.9230234026908875, 0.113275445997715, 0.1029776781797409, 0.005148883908987045, 0.015446651726961136, 0.015446651726961136, 0.01029776781797409, 0.37071964144706726, 0.3089330494403839, 0.03089330345392227, 0.02059553563594818, 0.9289342164993286, 0.048891276121139526, 0.9273485541343689, 0.026944048702716827, 0.026944048702716827, 0.4364936053752899, 0.06197131425142288, 0.05119369179010391, 0.03233285993337631, 0.008083214983344078, 0.06197131425142288, 0.13472025096416473, 0.03233285993337631, 0.008083214983344078, 0.043110478669404984, 0.0377216674387455, 0.016166429966688156, 0.021555239334702492, 0.866909384727478, 0.9501215219497681, 0.0304078571498394, 0.9426435232162476, 0.96977698802948, 0.952768087387085, 0.023238245397806168, 0.6898988485336304, 0.008570171892642975, 0.02999560348689556, 0.11141224205493927, 0.012855258770287037, 0.004285085946321487, 0.08998680859804153, 0.025710517540574074, 0.01714034378528595, 0.004285085946321487, 0.1760370135307312, 0.00567861320450902, 0.06814336031675339, 0.02271445281803608, 0.017035840079188347, 0.4770035147666931, 0.02271445281803608, 0.08517919480800629, 0.11925087869167328, 0.00567861320450902, 0.969169557094574, 0.7636293172836304, 0.1533517837524414, 0.0031296282541006804, 0.0031296282541006804, 0.050074052065610886, 0.0031296282541006804, 0.006259256508201361, 0.0031296282541006804, 0.015648141503334045, 0.9228686690330505, 0.7115765810012817, 0.06305108964443207, 0.00900729838758707, 0.15312407910823822, 0.01801459677517414, 0.03602919355034828, 0.9141206741333008, 0.023438991978764534, 0.04687798395752907, 0.03785179927945137, 0.009462949819862843, 0.02365737408399582, 0.009462949819862843, 0.3406662046909332, 0.028388850390911102, 0.03785179927945137, 0.014194425195455551, 0.014194425195455551, 0.48734191060066223, 0.9800296425819397, 0.9588966369628906, 0.019569318741559982, 0.43025824427604675, 0.0434604287147522, 0.01738417148590088, 0.12168920040130615, 0.00217302143573761, 0.00869208574295044, 0.00217302143573761, 0.01303812861442566, 0.04128740727901459, 0.2194751650094986, 0.056498557329177856, 0.01738417148590088, 0.015211150050163269, 0.00434604287147522, 0.10350825637578964, 0.00279752048663795, 0.19302891194820404, 0.03916528448462486, 0.03636776655912399, 0.016785122454166412, 0.01958264224231243, 0.06714048981666565, 0.0111900819465518, 0.0055950409732759, 0.321714848279953, 0.00279752048663795, 0.0111900819465518, 0.16505371034145355, 0.8794634938240051, 0.07647508382797241, 0.027563419193029404, 0.018375612795352936, 0.001837561372667551, 0.20029418170452118, 0.6541718244552612, 0.003675122745335102, 0.001837561372667551, 0.09004050493240356, 0.023877782747149467, 0.9312335252761841, 0.023877782747149467, 0.023877782747149467, 0.0076674772426486015, 0.9661021828651428, 0.0076674772426486015, 0.0057634273543953896, 0.9567289352416992, 0.023053709417581558, 0.0057634273543953896, 0.9229153990745544, 0.0014605593169108033, 0.0014605593169108033, 0.9902592301368713, 0.0029211186338216066, 0.0014605593169108033, 0.01602434180676937, 0.9774848818778992, 0.09694870561361313, 0.007755896542221308, 0.019389741122722626, 0.0775589644908905, 0.32186970114707947, 0.015511793084442616, 0.019389741122722626, 0.3063579201698303, 0.015511793084442616, 0.015511793084442616, 0.003877948271110654, 0.003877948271110654, 0.09307076036930084, 0.09005510061979294, 0.887686014175415, 0.012865014374256134, 0.8988982439041138, 0.00819630827754736, 0.08196308463811874, 0.00819630827754736, 0.22130033373832703, 0.0874272882938385, 0.04098154231905937, 0.04098154231905937, 0.14480145275592804, 0.00819630827754736, 0.002732102759182453, 0.051909953355789185, 0.02732102759182453, 0.22949664294719696, 0.024588925763964653, 0.01639261655509472, 0.021301720291376114, 0.915973961353302, 0.04260344058275223, 0.08827207237482071, 0.06750217080116272, 0.031154848635196686, 0.00519247492775321, 0.04673227295279503, 0.04153979942202568, 0.10384949296712875, 0.02596237324178219, 0.031154848635196686, 0.015577424317598343, 0.08827207237482071, 0.01038494985550642, 0.44136035442352295, 0.12055495381355286, 0.017471732571721077, 0.008735866285860538, 0.022713251411914825, 0.683144748210907, 0.03144911676645279, 0.0017471732571721077, 0.006988693028688431, 0.0034943465143442154, 0.03319629281759262, 0.008735866285860538, 0.061151064932346344, 0.07696127891540527, 0.028860479593276978, 0.00962015986442566, 0.020843680948019028, 0.14269904792308807, 0.08658143877983093, 0.0657377615571022, 0.056117601692676544, 0.25493425130844116, 0.18278303742408752, 0.030463840812444687, 0.006413440220057964, 0.035273920744657516, 0.9684762954711914, 0.645443856716156, 0.00679414626210928, 0.01358829252421856, 0.12908877432346344, 0.00679414626210928, 0.033970728516578674, 0.12908877432346344, 0.020382437855005264, 0.00679414626210928, 0.8922804594039917, 0.037753891199827194, 0.9438472390174866, 0.03855175897479057, 0.02141764387488365, 0.0428352877497673, 0.00856705754995346, 0.06425293534994125, 0.00428352877497673, 0.00856705754995346, 0.37695053219795227, 0.20132586359977722, 0.09423763304948807, 0.08995410799980164, 0.00856705754995346, 0.03855175897479057, 0.005801099818199873, 0.9803858995437622, 0.9296268224716187, 0.040418557822704315, 0.9261584281921387, 0.02987607754766941, 0.02987607754766941, 0.8313660621643066, 0.02445194311439991, 0.09780777245759964, 0.02445194311439991, 0.9619061946868896, 0.9742596745491028, 0.014800015836954117, 0.016914304345846176, 0.008457152172923088, 0.8288008570671082, 0.008457152172923088, 0.004228576086461544, 0.10148581862449646, 0.008457152172923088, 0.006342863664031029, 0.019562073051929474, 0.010867818258702755, 0.019562073051929474, 0.14997589588165283, 0.3260345458984375, 0.019562073051929474, 0.008694254793226719, 0.04999196529388428, 0.030429890379309654, 0.0065206908620893955, 0.052165526896715164, 0.06738047301769257, 0.008694254793226719, 0.18040578067302704, 0.04781839996576309, 0.9462187886238098, 0.9267920851707458, 0.06178613752126694, 0.25969555974006653, 0.006183227524161339, 0.012366455048322678, 0.012366455048322678, 0.28752008080482483, 0.04328259453177452, 0.018549682572484016, 0.31843623518943787, 0.04019097983837128, 0.14844931662082672, 0.005118941888213158, 0.8395064473152161, 0.021949876099824905, 0.010974938049912453, 0.9548196196556091, 0.9724447727203369, 0.009650129824876785, 0.009650129824876785, 0.009650129824876785, 0.009650129824876785, 0.8202610611915588, 0.01930025964975357, 0.09650129824876785, 0.009650129824876785, 0.9854465126991272, 0.02599147893488407, 0.10396591573953629, 0.08663826435804367, 0.008663826622068882, 0.05198295786976814, 0.06064678728580475, 0.02599147893488407, 0.008663826622068882, 0.6324593424797058, 0.06573948264122009, 0.9203528165817261, 0.9907397627830505, 0.04457417130470276, 0.9360576272010803, 0.014680862426757812, 0.7340431213378906, 0.1247873306274414, 0.014680862426757812, 0.05872344970703125, 0.03670215606689453, 0.007340431213378906, 0.14004753530025482, 0.013129455968737602, 0.013129455968737602, 0.042306024581193924, 0.04814133793115616, 0.005835313815623522, 0.08752970397472382, 0.021882425993680954, 0.2582126259803772, 0.005835313815623522, 0.04376485198736191, 0.12254159152507782, 0.023341255262494087, 0.05543547868728638, 0.11816510558128357, 0.8749444484710693, 0.9793941974639893, 0.9867691993713379, 0.9586466550827026, 0.012023791670799255, 0.012023791670799255, 0.06011895835399628, 0.04809516668319702, 0.8657130002975464, 0.022156812250614166, 0.132940873503685, 0.7976452112197876, 0.022156812250614166, 0.022156812250614166, 0.9314083456993103, 0.059562716633081436, 0.8934407234191895, 0.11762918531894684, 0.8704559803009033, 0.8695138692855835, 0.9607301354408264, 0.012161141261458397, 0.2506469488143921, 0.022786086425185204, 0.01614014431834221, 0.0028482608031481504, 0.21077130734920502, 0.009494203142821789, 0.0009494203259237111, 0.0037976813036948442, 0.03417913243174553, 0.16045203804969788, 0.2534952163696289, 0.03133086860179901, 0.0018988406518474221, 0.9131348729133606, 0.08591614663600922, 0.04909493774175644, 0.7732452750205994, 0.07364241033792496, 0.0017353052971884608, 0.010411832481622696, 0.0008676526485942304, 0.15270687639713287, 0.0017353052971884608, 0.32363444566726685, 0.0034706105943769217, 0.0008676526485942304, 0.0008676526485942304, 0.0017353052971884608, 0.0008676526485942304, 0.13275085389614105, 0.0850299596786499, 0.28285476565361023, 0.06915008276700974, 0.05186256021261215, 0.8470885157585144, 0.017287520691752434, 0.03562904894351959, 0.08709323406219482, 0.02375270053744316, 0.079175665974617, 0.08313445001840591, 0.03760844096541405, 0.01385574135929346, 0.00593817513436079, 0.01187635026872158, 0.05938174948096275, 0.38598138093948364, 0.01583513431251049, 0.06531992554664612, 0.05542296543717384, 0.04354661703109741, 0.0641779750585556, 0.020702572539448738, 0.002070257207378745, 0.060037460178136826, 0.8384541869163513, 0.002070257207378745, 0.00414051441475749, 0.006210771389305592, 0.037645552307367325, 0.002352847019210458, 0.002352847019210458, 0.938785970211029, 0.004705694038420916, 0.01176423579454422, 0.9839943647384644, 0.007288847118616104, 0.9818291664123535, 0.05728998780250549, 0.10980581492185593, 0.01909666322171688, 0.02387082949280739, 0.00477416580542922, 0.5108357667922974, 0.00954833161085844, 0.2578049600124359, 0.4455978572368622, 0.005063612014055252, 0.002531806007027626, 0.060763344168663025, 0.126590296626091, 0.002531806007027626, 0.010127224028110504, 0.18229003250598907, 0.005063612014055252, 0.01265903003513813, 0.13924932479858398, 0.005063612014055252, 0.8116229176521301, 0.16232459247112274, 0.0630747601389885, 0.0021749918814748526, 0.013049950823187828, 0.00869996752589941, 0.5850728154182434, 0.00869996752589941, 0.02392490953207016, 0.14137446880340576, 0.0021749918814748526, 0.06524975597858429, 0.0608997717499733, 0.004349983762949705, 0.0021749918814748526, 0.019574925303459167, 0.5646658539772034, 0.03821047395467758, 0.11887702345848083, 0.004245608113706112, 0.004245608113706112, 0.004245608113706112, 0.08066654950380325, 0.0636841207742691, 0.02547364868223667, 0.008491216227412224, 0.08915776759386063, 0.27325594425201416, 0.03463808074593544, 0.6157881021499634, 0.0038486754056066275, 0.050032779574394226, 0.0038486754056066275, 0.0038486754056066275, 0.01539470162242651, 0.8804145455360413, 0.0287091713398695, 0.044658709317445755, 0.0031899078749120235, 0.006379815749824047, 0.0287091713398695, 0.0031899078749120235, 0.02899348735809326, 0.02899348735809326, 0.0048322477377951145, 0.0628192201256752, 0.1691286712884903, 0.11114170402288437, 0.5895342230796814, 0.012986591085791588, 0.03030204586684704, 0.008657727390527725, 0.008657727390527725, 0.8311418294906616, 0.008657727390527725, 0.025973182171583176, 0.021644318476319313, 0.008657727390527725, 0.03030204586684704, 0.004328863695263863, 0.012986591085791588, 0.948681116104126, 0.9680703282356262, 0.7165488600730896, 0.014189086854457855, 0.007094543427228928, 0.24830901622772217, 0.910205066204071, 0.015220772475004196, 0.5163354277610779, 0.024587402120232582, 0.03980817273259163, 0.002341657178476453, 0.02341657318174839, 0.07142055034637451, 0.0011708285892382264, 0.007024971768260002, 0.03863734379410744, 0.016391601413488388, 0.002341657178476453, 0.021074915304780006, 0.07610385864973068, 0.1451827585697174, 0.05266406387090683, 0.05266406387090683, 0.005266406573355198, 0.16852501034736633, 0.005266406573355198, 0.0684632882475853, 0.010532813146710396, 0.005266406573355198, 0.08426250517368317, 0.07372969388961792, 0.44237813353538513, 0.03159843757748604, 0.9842021465301514, 0.007110430393368006, 0.8461412191390991, 0.02488650754094124, 0.00829550251364708, 0.0011850717710331082, 0.05332823097705841, 0.00829550251364708, 0.0023701435420662165, 0.014220860786736012, 0.004740287084132433, 0.013035789132118225, 0.009480574168264866, 0.0011850717710331082, 0.005925358738750219, 0.9310131072998047, 0.03944970667362213, 0.02366982400417328, 0.8716657757759094, 0.051274459809064865, 0.028669776394963264, 0.9317677617073059, 0.028669776394963264, 0.9542154669761658, 0.012010108679533005, 0.9728188514709473, 0.003038432914763689, 0.24307462573051453, 0.006076865829527378, 0.4284190237522125, 0.02126902900636196, 0.006076865829527378, 0.09722985327243805, 0.030384328216314316, 0.01823059655725956, 0.00911529827862978, 0.10938358306884766, 0.027345895767211914, 0.8367099761962891, 0.09102509170770645, 0.003250896232202649, 0.2308136373758316, 0.029258066788315773, 0.039010755717754364, 0.022756272926926613, 0.003250896232202649, 0.013003584928810596, 0.006501792464405298, 0.07477061450481415, 0.4811326265335083, 0.006501792464405298, 0.08719797432422638, 0.0062284269370138645, 0.0031142134685069323, 0.03425634652376175, 0.47336044907569885, 0.0062284269370138645, 0.04359898716211319, 0.0031142134685069323, 0.031142134219408035, 0.12768274545669556, 0.0934264063835144, 0.0031142134685069323, 0.08408376574516296, 0.05164844170212746, 0.07747265696525574, 0.014346788637340069, 0.195116326212883, 0.021520184352993965, 0.024389540776610374, 0.04590972512960434, 0.06886458396911621, 0.0057387156412005424, 0.008608072996139526, 0.02295486256480217, 0.010042752139270306, 0.06742990761995316, 0.12481706589460373, 0.25967687368392944, 0.0703561007976532, 0.049036070704460144, 0.2068042904138565, 0.03198004513978958, 0.07248810678720474, 0.1918802708387375, 0.012792018242180347, 0.0469040684401989, 0.10020413994789124, 0.02771603874862194, 0.05969608575105667, 0.04264006018638611, 0.021320030093193054, 0.03624405339360237, 0.025584036484360695, 0.027288202196359634, 0.9550870656967163, 0.9054268598556519, 0.07544894516468048, 0.7167649865150452, 0.03772447258234024, 0.03772447258234024, 0.11317342519760132, 0.012574824504554272, 0.09832803905010223, 0.0032776014413684607, 0.0032776014413684607, 0.08194003254175186, 0.009832804091274738, 0.006555202882736921, 0.009832804091274738, 0.07210723310709, 0.27859610319137573, 0.009832804091274738, 0.4228105843067169, 0.0716729685664177, 0.8600756525993347, 0.03583648428320885, 0.9558396935462952, 0.017294801771640778, 0.7609713077545166, 0.161418154835701, 0.04611947014927864, 0.046450138092041016, 0.046450138092041016, 0.8825526237487793, 0.9546173214912415, 0.8317417502403259, 0.07426265627145767, 0.014852531254291534, 0.05941012501716614, 0.001522329286672175, 0.21312609314918518, 0.03501357138156891, 0.0243572685867548, 0.06698248535394669, 0.028924256563186646, 0.2664076089859009, 0.06089317053556442, 0.004566987510770559, 0.013700962997972965, 0.050236865878105164, 0.03805823251605034, 0.018267950043082237, 0.17811252176761627, 0.00701821269467473, 0.06316391378641129, 0.0491274893283844, 0.00701821269467473, 0.8211308717727661, 0.00701821269467473, 0.00701821269467473, 0.021054638549685478, 0.00701821269467473, 0.14175863564014435, 0.03998320549726486, 0.06906189769506454, 0.03453094884753227, 0.2907869517803192, 0.01999160274863243, 0.07451415807008743, 0.009087092243134975, 0.01817418448626995, 0.01635676622390747, 0.09268833696842194, 0.0908709242939949, 0.01817418448626995, 0.04543546214699745, 0.03816578909754753, 0.10870059579610825, 0.012077843770384789, 0.20532335340976715, 0.4891526699066162, 0.006038921885192394, 0.024155687540769577, 0.018116766586899757, 0.030194610357284546, 0.006038921885192394, 0.030194610357284546, 0.07246706634759903, 0.97669917345047, 0.010069063864648342, 0.9541508555412292, 0.021620288491249084, 0.9729129672050476, 0.0021620288025587797, 0.004430269822478294, 0.022151349112391472, 0.008860539644956589, 0.026581618934869766, 0.022151349112391472, 0.013290809467434883, 0.044302698224782944, 0.004430269822478294, 0.03101189061999321, 0.09303566813468933, 0.7088431715965271, 0.004430269822478294, 0.013290809467434883, 0.05521629378199577, 0.004247407428920269, 0.5733999609947205, 0.11467999964952469, 0.004247407428920269, 0.05946370214223862, 0.004247407428920269, 0.1826385110616684, 0.07713018357753754, 0.8998521566390991, 0.05005677416920662, 0.3084579408168793, 0.004058657214045525, 0.035175029188394547, 0.0013528857380151749, 0.017587514594197273, 0.3585147261619568, 0.0013528857380151749, 0.009470200166106224, 0.0013528857380151749, 0.029763486236333847, 0.009470200166106224, 0.0013528857380151749, 0.024351943284273148, 0.14475877583026886, 0.016187958419322968, 0.6960822343826294, 0.11331570893526077, 0.0485638752579689, 0.016187958419322968, 0.032375916838645935, 0.0485638752579689, 0.962794840335846, 0.023482801392674446, 0.48453596234321594, 0.0027069048956036568, 0.0054138097912073135, 0.06496571749448776, 0.021655239164829254, 0.10827618837356567, 0.00812071468681097, 0.07579333335161209, 0.01353452354669571, 0.1651211977005005, 0.04872428625822067, 0.05806376039981842, 0.02510865218937397, 0.0015692907618358731, 0.04707872495055199, 0.16163694858551025, 0.0031385815236717463, 0.20714639127254486, 0.06904879212379456, 0.0062771630473434925, 0.010985035449266434, 0.0925881564617157, 0.04080155864357948, 0.04550943151116371, 0.05806376039981842, 0.16948340833187103, 0.12175922095775604, 0.004870368633419275, 0.8474441766738892, 0.0194814745336771, 0.004870368633419275, 0.9374411702156067, 0.954436182975769, 0.9477704167366028, 0.34728744626045227, 0.0036175777204334736, 0.03979335352778435, 0.4937993586063385, 0.0018087888602167368, 0.04160214215517044, 0.0018087888602167368, 0.06692518293857574, 0.0018087888602167368, 0.201897531747818, 0.013765741139650345, 0.020648611709475517, 0.004588580224663019, 0.5368639230728149, 0.016060031950473785, 0.039002932608127594, 0.1514231562614441, 0.013765741139650345, 0.9404629468917847, 0.952126681804657, 0.8739010095596313, 0.015067258849740028, 0.10547081381082535, 0.9768915176391602, 0.9698013663291931, 0.9697737097740173, 0.9376706480979919, 0.3659491539001465, 0.004752586595714092, 0.2043612152338028, 0.41347500681877136, 0.9336043000221252, 0.5908045172691345, 0.006218994967639446, 0.3855776786804199, 0.006218994967639446, 0.8457022905349731, 0.13353194296360016, 0.9865929484367371, 0.9730605483055115, 0.9403704404830933, 0.35268357396125793, 0.031349651515483856, 0.5251066088676453, 0.023512236773967743, 0.047024473547935486, 0.9518172740936279, 0.19888384640216827, 0.004058854188770056, 0.01217656210064888, 0.05276510491967201, 0.04058854281902313, 0.028411978855729103, 0.004058854188770056, 0.07711822539567947, 0.2557078003883362, 0.056823957711458206, 0.07305937260389328, 0.16641302406787872, 0.004058854188770056, 0.020294271409511566, 0.008117708377540112, 0.0740668922662735, 0.05507538467645645, 0.03798302263021469, 0.04178132489323616, 0.043680477887392044, 0.1595287024974823, 0.24878880381584167, 0.007596604526042938, 0.02468896470963955, 0.02848726697266102, 0.039882175624370575, 0.02468896470963955, 0.011394906789064407, 0.07216774672269821, 0.12914228439331055, 0.013707763515412807, 0.3720678687095642, 0.009791259653866291, 0.08616308867931366, 0.003916503861546516, 0.15176452696323395, 0.1458897739648819, 0.000979125965386629, 0.001958251930773258, 0.003916503861546516, 0.009791259653866291, 0.009791259653866291, 0.174284428358078, 0.015666015446186066, 0.15653374791145325, 0.7304908633232117, 0.07826687395572662, 0.018871884793043137, 0.003145314287394285, 0.003145314287394285, 0.03145314380526543, 0.00629062857478857, 0.09435942769050598, 0.531558096408844, 0.04403439909219742, 0.003145314287394285, 0.12266725301742554, 0.009435942396521568, 0.05661565437912941, 0.07234222441911697, 0.30756494402885437, 0.007186096627265215, 0.012934974394738674, 0.07186096906661987, 0.012934974394738674, 0.005748877301812172, 0.002874438650906086, 0.16959187388420105, 0.010060535743832588, 0.29750439524650574, 0.08479593694210052, 0.010060535743832588, 0.004311657976359129, 0.001437219325453043, 0.9508447647094727, 0.7737011909484863, 0.11658511310815811, 0.04239458590745926, 0.05299323424696922, 0.9486741423606873, 0.025639841333031654, 0.21706070005893707, 0.31643787026405334, 0.007845567539334297, 0.03661264851689339, 0.010460756719112396, 0.30597713589668274, 0.010460756719112396, 0.020921513438224792, 0.03138227015733719, 0.044458214193582535, 0.039347294718027115, 0.957450807094574, 0.8964391350746155, 0.04482195898890495, 0.029881305992603302, 0.0074703264981508255, 0.0074703264981508255, 0.0074703264981508255, 0.978884220123291, 0.02216191031038761, 0.964043140411377, 0.9173703193664551, 0.01118744257837534, 0.01118744257837534, 0.02237488515675068, 0.02237488515675068, 0.12865613400936127, 0.8070248365402222, 0.011696011759340763, 0.011696011759340763, 0.035088036209344864, 0.9632205963134766, 0.9273199439048767, 0.012186601758003235, 0.12051194906234741, 0.008124400861561298, 0.15436361730098724, 0.05416267365217209, 0.0907224789261818, 0.159779891371727, 0.13540668785572052, 0.04062200337648392, 0.004062200430780649, 0.0013540667714551091, 0.05687080696225166, 0.08936841040849686, 0.07176554203033447, 0.04604055732488632, 0.7481590509414673, 0.20142744481563568, 0.8912779092788696, 0.05570486932992935, 0.9381442666053772, 0.16590552031993866, 0.019908662885427475, 0.3849008083343506, 0.05308976769447327, 0.016590552404522896, 0.11945197731256485, 0.04645354673266411, 0.013272441923618317, 0.029862994328141212, 0.006636220961809158, 0.12940630316734314, 0.013272441923618317, 0.2927873730659485, 0.0015409862389788032, 0.016950849443674088, 0.17104947566986084, 0.010786904022097588, 0.03852465748786926, 0.046229586005210876, 0.0015409862389788032, 0.007704931311309338, 0.0030819724779576063, 0.08475424349308014, 0.3174431622028351, 0.007704931311309338, 0.015499158762395382, 0.030998317524790764, 0.9299495220184326, 0.015499158762395382, 0.16694839298725128, 0.01615629531443119, 0.0013463579816743731, 0.006731790024787188, 0.05654703453183174, 0.01615629531443119, 0.00942450575530529, 0.02154172770678997, 0.05923975259065628, 0.03231259062886238, 0.4254491329193115, 0.1211722195148468, 0.05250796303153038, 0.004039073828607798, 0.00942450575530529, 0.9261990785598755, 0.03859162703156471, 0.00931475032120943, 0.00931475032120943, 0.8662717342376709, 0.10246224701404572, 0.913260817527771, 0.0537053719162941, 0.9129912853240967, 0.9314273595809937, 0.8366220593452454, 0.0023767671082168818, 0.01188383623957634, 0.06417271494865417, 0.07605654746294022, 0.007130301557481289, 0.9599955081939697, 0.035555388778448105, 0.9847984313964844, 0.8794899582862854, 0.14617756009101868, 0.026279112324118614, 0.014782000333070755, 0.05912800133228302, 0.1084013357758522, 0.004927333444356918, 0.0722675621509552, 0.0032848890405148268, 0.0032848890405148268, 0.06405533850193024, 0.16424445807933807, 0.027921557426452637, 0.009854666888713837, 0.2710033357143402, 0.02299422398209572, 0.003179633989930153, 0.006359267979860306, 0.009538901969790459, 0.17805950343608856, 0.03179633989930153, 0.7662917375564575, 0.003179633989930153, 0.5661084055900574, 0.0020327051170170307, 0.034555986523628235, 0.3618215322494507, 0.006098115351051092, 0.0010163525585085154, 0.0010163525585085154, 0.0010163525585085154, 0.003049057675525546, 0.006098115351051092, 0.015245288610458374, 0.01147814467549324, 0.8353539109230042, 0.05228932946920395, 0.0012753494083881378, 0.005101397633552551, 0.024231640622019768, 0.025506990030407906, 0.0012753494083881378, 0.01147814467549324, 0.003826048457995057, 0.005101397633552551, 0.003826048457995057, 0.007652096915990114, 0.0012753494083881378, 0.008927445858716965, 0.02410697191953659, 0.6026743054389954, 0.06749952584505081, 0.04339255020022392, 0.014464183710515499, 0.009642789140343666, 0.028928367421030998, 0.057856734842061996, 0.033749762922525406, 0.004821394570171833, 0.10607067495584488, 0.0027892659418284893, 0.01394632924348116, 0.050206784158945084, 0.0836779773235321, 0.8200441598892212, 0.005578531883656979, 0.01394632924348116, 0.06482086330652237, 0.9074920415878296, 0.012389249168336391, 0.006194624584168196, 0.012389249168336391, 0.012389249168336391, 0.9477775692939758, 0.006194624584168196, 0.8976916074752808, 0.0448845811188221, 0.02244229055941105, 0.005748347379267216, 0.05173512548208237, 0.816265344619751, 0.08622521162033081, 0.005748347379267216, 0.011496694758534431, 0.017245041206479073, 0.015197721309959888, 0.026596011593937874, 0.026596011593937874, 0.003799430327489972, 0.8054792284965515, 0.04179373383522034, 0.05699145421385765, 0.011398290283977985, 0.011398290283977985, 0.0851837769150734, 0.012169111520051956, 0.003042277880012989, 0.24642449617385864, 0.054760999977588654, 0.0425918884575367, 0.1308179497718811, 0.015211389400064945, 0.003042277880012989, 0.03042277880012989, 0.31031233072280884, 0.024338223040103912, 0.018253667280077934, 0.027380499988794327, 0.8275145888328552, 0.0033367525320500135, 0.15349061787128448, 0.013347010128200054, 0.05724278464913368, 0.6678324937820435, 0.22897113859653473, 0.019080927595496178, 0.030415352433919907, 0.020276902243494987, 0.025346126407384872, 0.025346126407384872, 0.03548457846045494, 0.17235367000102997, 0.11152295768260956, 0.06589993089437485, 0.4866456389427185, 0.020276902243494987, 0.005069225560873747, 0.0009708533179946244, 0.21261687576770782, 0.0009708533179946244, 0.009708533063530922, 0.5349401831626892, 0.004854266531765461, 0.17184104025363922, 0.04465925320982933, 0.0009708533179946244, 0.013591946102678776, 0.0009708533179946244, 0.0038834132719784975, 0.0009708533179946244, 0.030332176014780998, 0.00356849143281579, 0.005352736916393042, 0.05709586292505264, 0.04103764891624451, 0.08921228349208832, 0.00713698286563158, 0.6512496471405029, 0.11062323302030563, 0.005352736916393042, 0.0060875494964420795, 0.009131324477493763, 0.012175098992884159, 0.0030437747482210398, 0.009131324477493763, 0.06087549403309822, 0.06087549403309822, 0.4656975269317627, 0.06087549403309822, 0.2252393215894699, 0.082181915640831, 0.0030437747482210398, 0.9469186067581177, 0.9516826272010803, 0.024605730548501015, 0.08919577300548553, 0.039984311908483505, 0.006151432637125254, 0.11072579026222229, 0.01845429837703705, 0.021530015394091606, 0.05997646972537041, 0.05382503569126129, 0.23683016002178192, 0.047673605382442474, 0.10765007138252258, 0.06766576319932938, 0.0968850702047348, 0.01845429837703705, 0.11291706562042236, 0.09140904992818832, 0.0537700317800045, 0.0537700317800045, 0.3871442377567291, 0.01613100990653038, 0.05108153074979782, 0.01881951093673706, 0.01613100990653038, 0.02688501589000225, 0.06452403962612152, 0.03763902187347412, 0.005377002991735935, 0.05914703384041786, 0.00806550495326519, 0.8518439531326294, 0.9626668095588684, 0.1855635941028595, 0.7886452674865723, 0.9475499391555786, 0.003713562386110425, 0.6090242266654968, 0.003713562386110425, 0.15968318283557892, 0.17453743517398834, 0.044562749564647675, 0.0026104196440428495, 0.0013052098220214248, 0.22580130398273468, 0.0013052098220214248, 0.0013052098220214248, 0.019578147679567337, 0.666962206363678, 0.07831259071826935, 0.9295413494110107, 0.027182161808013916, 0.05776209384202957, 0.06455763429403305, 0.006795540452003479, 0.07814871519804001, 0.0033977702260017395, 0.0033977702260017395, 0.21745729446411133, 0.5402454733848572, 0.0033977702260017395, 0.0023679931182414293, 0.016575951129198074, 0.12076765298843384, 0.004735986236482859, 0.011839965358376503, 0.03315190225839615, 0.7767017483711243, 0.0023679931182414293, 0.011839965358376503, 0.016575951129198074, 0.0023679931182414293, 0.001889545121230185, 0.041569992899894714, 0.009447725489735603, 0.00755818048492074, 0.9145398139953613, 0.005668635480105877, 0.001889545121230185, 0.017005905508995056, 0.9848028421401978, 0.9466891288757324, 0.9033811688423157, 0.9207139015197754, 0.9102092981338501, 0.9498838782310486, 0.9048203825950623, 0.028394166380167007, 0.5230504274368286, 0.0388551726937294, 0.020922016352415085, 0.004483289550989866, 0.04184403270483017, 0.11507109552621841, 0.0059777190908789635, 0.007472149096429348, 0.01643872819840908, 0.10461008548736572, 0.004483289550989866, 0.004483289550989866, 0.05529390275478363, 0.028394166380167007, 0.13922592997550964, 0.10237200558185577, 0.024569282308220863, 0.004094880074262619, 0.5077651739120483, 0.004094880074262619, 0.03275904059410095, 0.004094880074262619, 0.03275904059410095, 0.11875152587890625, 0.004094880074262619, 0.024569282308220863, 0.004094880074262619, 0.3696116805076599, 0.0031323025468736887, 0.01879381574690342, 0.3884055018424988, 0.216128870844841, 0.020070815458893776, 0.005017703864723444, 0.04515933617949486, 0.9132221341133118, 0.010035407729446888, 0.9139096140861511, 0.043519504368305206, 0.19018307328224182, 0.007409729994833469, 0.033343784511089325, 0.0012349550379440188, 0.012349550612270832, 0.004939820151776075, 0.06915748119354248, 0.10003135353326797, 0.125965416431427, 0.007409729994833469, 0.4458187520503998, 0.15085871517658234, 0.003428607014939189, 0.037714678794145584, 0.013714428059756756, 0.003428607014939189, 0.05485771223902702, 0.037714678794145584, 0.5760059952735901, 0.05485771223902702, 0.06514353305101395, 0.9476147294044495, 0.1581496000289917, 0.02999388985335827, 0.02999388985335827, 0.0027267171535640955, 0.0027267171535640955, 0.19905035197734833, 0.1690564751625061, 0.0027267171535640955, 0.024540456011891365, 0.37628698348999023, 0.04777801036834717, 0.11148202419281006, 0.7007441520690918, 0.015926003456115723, 0.07963001728057861, 0.031852006912231445, 0.015926003456115723, 0.9183506965637207, 0.16063432395458221, 0.8120957612991333, 0.017848258838057518, 0.09795401245355606, 0.006873966194689274, 0.06530267745256424, 0.024058880284428596, 0.11342044174671173, 0.013747932389378548, 0.013747932389378548, 0.09795401245355606, 0.017184915021061897, 0.020621897652745247, 0.13060535490512848, 0.16669367253780365, 0.012029440142214298, 0.034369830042123795, 0.18559707701206207, 0.9749135375022888, 0.005478086415678263, 0.0018260288052260876, 0.0018260288052260876, 0.00730411522090435, 0.0018260288052260876, 0.0803452655673027, 0.8509294390678406, 0.003652057610452175, 0.04565072059631348, 0.11441248655319214, 0.004086160100996494, 0.05312008410692215, 0.04903392493724823, 0.0960247665643692, 0.024516962468624115, 0.05924932286143303, 0.04290468245744705, 0.008172320201992989, 0.32076358795166016, 0.08989552408456802, 0.032689280807971954, 0.04903392493724823, 0.05720624327659607, 0.01120610348880291, 0.01120610348880291, 0.9637249112129211, 0.13831236958503723, 0.05532494932413101, 0.010059081949293613, 0.022632934153079987, 0.09053173661231995, 0.007544311229139566, 0.005029540974646807, 0.037721555680036545, 0.04778064042329788, 0.027662474662065506, 0.1307680606842041, 0.30680200457572937, 0.09556128084659576, 0.020118163898587227, 0.007544311229139566, 0.012852169573307037, 0.002142028184607625, 0.5719215273857117, 0.04712462052702904, 0.0085681127384305, 0.010710140690207481, 0.014994197525084019, 0.00428405636921525, 0.002142028184607625, 0.05140867829322815, 0.2677535116672516, 0.9252501130104065, 0.8532673120498657, 0.00947551243007183, 0.23688781261444092, 0.021658314391970634, 0.02571924775838852, 0.008121867664158344, 0.33299657702445984, 0.05414578318595886, 0.2098149210214615, 0.014890090562403202, 0.004060933832079172, 0.01895102486014366, 0.021658314391970634, 0.014890090562403202, 0.02707289159297943, 0.9735912680625916, 0.02482033148407936, 0.6039614081382751, 0.014478527009487152, 0.06825590878725052, 0.026888692751526833, 0.03723049536347389, 0.03516213595867157, 0.016546888276934624, 0.004136722069233656, 0.004136722069233656, 0.008273444138467312, 0.02275197021663189, 0.016546888276934624, 0.03929885849356651, 0.07239263504743576, 0.8979119062423706, 0.05986079201102257, 0.03772536292672157, 0.9054086804389954, 0.892223060131073, 0.9376790523529053, 0.14245249330997467, 0.8547149896621704, 0.048934295773506165, 0.0293605774641037, 0.548064112663269, 0.01468028873205185, 0.019573718309402466, 0.03914743661880493, 0.019573718309402466, 0.019573718309402466, 0.03914743661880493, 0.034254007041454315, 0.09297516196966171, 0.019573718309402466, 0.009786859154701233, 0.0587211549282074, 0.03356394171714783, 0.9397903680801392, 0.3329862356185913, 0.003040970303118229, 0.009122910909354687, 0.003040970303118229, 0.09122911095619202, 0.0015204851515591145, 0.0015204851515591145, 0.009122910909354687, 0.10643395781517029, 0.0015204851515591145, 0.06538086384534836, 0.02584824711084366, 0.25088006258010864, 0.016725337132811546, 0.08514717221260071, 0.022806216031312943, 0.002850777003914118, 0.9635626077651978, 0.00855233147740364, 0.017783015966415405, 0.6935375928878784, 0.07113206386566162, 0.026674523949623108, 0.08002357184886932, 0.008891507983207703, 0.07113206386566162, 0.026674523949623108, 0.8913629651069641, 0.03096229024231434, 0.010320763103663921, 0.06708496063947678, 0.06192458048462868, 0.7379345893859863, 0.07740572094917297, 0.005160381551831961, 0.4931441843509674, 0.4931441843509674, 0.0032658553682267666, 0.006531710736453533, 0.9543177485466003, 0.008093276061117649, 0.008093276061117649, 0.9711930751800537, 0.9413709044456482, 0.9251830577850342, 0.9611793160438538, 0.002396955853328109, 0.016778690740466118, 0.01438173558562994, 0.002396955853328109, 0.006291619967669249, 0.0020972066558897495, 0.0020972066558897495, 0.11744356900453568, 0.0020972066558897495, 0.0020972066558897495, 0.7424111366271973, 0.006291619967669249, 0.027263686060905457, 0.0880826786160469, 0.0020972066558897495, 0.0020972066558897495, 0.027807312086224556, 0.013903656043112278, 0.06256645172834396, 0.02433139644563198, 0.03128322586417198, 0.0868978500366211, 0.4171096682548523, 0.0034759140107780695, 0.04171096533536911, 0.12165698409080505, 0.08342193067073822, 0.05561462417244911, 0.0034759140107780695, 0.027807312086224556, 0.8513234853744507, 0.0016246631275862455, 0.0016246631275862455, 0.006498652510344982, 0.016246631741523743, 0.10560310631990433, 0.00487398961558938, 0.0016246631275862455, 0.00487398961558938, 0.006498652510344982, 0.023304861038923264, 0.04660972207784653, 0.9088895320892334, 0.9927652478218079, 0.037585340440273285, 0.07517068088054657, 0.8832555413246155, 0.5427019000053406, 0.003155243583023548, 0.053639139980077744, 0.01893146149814129, 0.034707680344581604, 0.03155243769288063, 0.18300412595272064, 0.009465730749070644, 0.11989925801753998, 0.9799936413764954, 0.9464900493621826, 0.7662782669067383, 0.005057942122220993, 0.04805045202374458, 0.13150650262832642, 0.0025289710611104965, 0.0025289710611104965, 0.03540559485554695, 0.0075869131833314896, 0.0189142357558012, 0.4642585217952728, 0.006877904292196035, 0.025792140513658524, 0.01375580858439207, 0.04642585292458534, 0.21321502327919006, 0.012036331929266453, 0.0017194760730490088, 0.03610899671912193, 0.01375580858439207, 0.02063371241092682, 0.06362061202526093, 0.04642585292458534, 0.017194760963320732, 0.0032111455220729113, 0.36928173899650574, 0.4784606993198395, 0.03532260283827782, 0.019266873598098755, 0.009633436799049377, 0.08027864247560501, 0.0032111455220729113, 0.946722149848938, 0.9295645356178284, 0.9451390504837036, 0.06366459280252457, 0.00795807410031557, 0.023874223232269287, 0.14324533939361572, 0.6048136353492737, 0.13528726994991302, 0.00795807410031557, 0.04669154807925224, 0.024719055742025375, 0.07690373063087463, 0.005493123549968004, 0.0164793711155653, 0.10986246913671494, 0.010986247099936008, 0.01922593265771866, 0.6701610684394836, 0.00823968555778265, 0.00823968555778265, 0.9764555096626282, 0.0303016509860754, 0.0151508254930377, 0.0151508254930377, 0.6893625259399414, 0.0151508254930377, 0.03787706419825554, 0.1893853098154068, 0.5011705160140991, 0.45218390226364136, 0.030145592987537384, 0.007536398246884346, 0.003768199123442173, 0.9366397857666016, 0.024016404524445534, 0.9859235882759094, 0.08569726347923279, 0.10712157934904099, 0.07206360995769501, 0.06037761643528938, 0.001947665004990995, 0.001947665004990995, 0.00779066001996398, 0.001947665004990995, 0.00584299536421895, 0.12659822404384613, 0.00389533000998199, 0.021424315869808197, 0.5005499124526978, 0.22158600389957428, 0.05539650097489357, 0.011079300194978714, 0.7090752124786377, 0.015566438436508179, 0.001729604322463274, 0.001729604322463274, 0.008648021146655083, 0.057076942175626755, 0.8665317296981812, 0.001729604322463274, 0.046699315309524536, 0.9463887214660645, 0.012456914409995079, 0.9716393351554871, 0.818516731262207, 0.003512947354465723, 0.10011900216341019, 0.008782368153333664, 0.0017564736772328615, 0.003512947354465723, 0.003512947354465723, 0.05796363204717636, 0.9539551734924316, 0.9555116891860962, 0.04126392677426338, 0.7977692484855652, 0.013754641637206078, 0.06877321004867554, 0.05501856654882431, 0.963660478591919, 0.9019003510475159, 0.06442145258188248, 0.978697657585144, 0.13359588384628296, 0.0038170251064002514, 0.29009389877319336, 0.015268100425601006, 0.04007876291871071, 0.0019085125532001257, 0.0782490149140358, 0.10496819019317627, 0.0038170251064002514, 0.015268100425601006, 0.026719175279140472, 0.04580429941415787, 0.19848529994487762, 0.03817025199532509, 0.0038170251064002514, 0.036385808140039444, 0.9460310339927673, 0.0625237300992012, 0.0007355732377618551, 0.0007355732377618551, 0.0007355732377618551, 0.023538343608379364, 0.00662015937268734, 0.897399365901947, 0.004413439426571131, 0.0007355732377618551, 0.0007355732377618551, 0.0007355732377618551, 0.0612354651093483, 0.0612354651093483, 0.8266787528991699, 0.9712982773780823, 0.010179226286709309, 0.005089613143354654, 0.9772056937217712, 0.967724621295929, 0.9141566753387451, 0.9671813249588013, 0.005886441562324762, 0.5650984048843384, 0.005886441562324762, 0.1098802462220192, 0.0019621471874415874, 0.1412746012210846, 0.0392429456114769, 0.003924294374883175, 0.0019621471874415874, 0.0019621471874415874, 0.005886441562324762, 0.05886441841721535, 0.05886441841721535, 0.8866497278213501, 0.07388748228549957, 0.9517074227333069, 0.04262388125061989, 0.020577047020196915, 0.06761029362678528, 0.03380514681339264, 0.10288523137569427, 0.08524776250123978, 0.019107257947325706, 0.17049552500247955, 0.0029395781457424164, 0.005879156291484833, 0.11464354395866394, 0.17637468874454498, 0.02351662516593933, 0.02498641423881054, 0.10876438766717911, 0.01714392378926277, 0.46288594603538513, 0.01142928283661604, 0.04571713134646416, 0.06571837514638901, 0.34002116322517395, 0.05428909510374069, 0.00285732070915401, 0.03505667671561241, 0.007011334877461195, 0.03505667671561241, 0.04907934367656708, 0.01402266975492239, 0.021034004166722298, 0.20683437585830688, 0.3190157413482666, 0.17177771031856537, 0.12970969080924988, 0.007011334877461195, 0.0035056674387305975, 0.9690426588058472, 0.02064376324415207, 0.006881254259496927, 0.006881254259496927, 0.02752501703798771, 0.03440627083182335, 0.06193128973245621, 0.006881254259496927, 0.006881254259496927, 0.006881254259496927, 0.02752501703798771, 0.7294129729270935, 0.006881254259496927, 0.04816878214478493, 0.05376151576638222, 0.006720189470797777, 0.12992365658283234, 0.01792050525546074, 0.08512239903211594, 0.0022400631569325924, 0.0022400631569325924, 0.09184259176254272, 0.02240063063800335, 0.0022400631569325924, 0.3875309228897095, 0.09632271528244019, 0.00896025262773037, 0.01568044163286686, 0.07616214454174042, 0.925430953502655, 0.9285202026367188, 0.3101642429828644, 0.0017723670462146401, 0.07621178030967712, 0.015951303765177727, 0.1435617357492447, 0.010634202510118484, 0.053171008825302124, 0.017723670229315758, 0.008861835114657879, 0.031902607530355453, 0.19673274457454681, 0.033674973994493484, 0.0017723670462146401, 0.09748018532991409, 0.0035447340924292803, 0.04888271912932396, 0.018331019207835197, 0.5392374992370605, 0.04429996386170387, 0.013748264871537685, 0.01680343598127365, 0.09012751281261444, 0.0015275849727913737, 0.0015275849727913737, 0.022913774475455284, 0.07179649919271469, 0.04429996386170387, 0.010693094693124294, 0.07637924700975418, 0.9799414277076721, 0.007367980666458607, 0.933174729347229, 0.15367592871189117, 0.015897510573267937, 0.021196680143475533, 0.0026495850179344416, 0.8001746535301208, 0.9373471140861511, 0.9169303774833679, 0.8020073175430298, 0.16337186098098755, 0.9081226587295532, 0.9781230092048645, 0.9339669346809387, 0.048308633267879486, 0.0075403074733912945, 0.9877802729606628, 0.024845870211720467, 0.22361283004283905, 0.018634403124451637, 0.006211467552930117, 0.09938348084688187, 0.6025123596191406, 0.006211467552930117, 0.01339024305343628, 0.01339024305343628, 0.1115853562951088, 0.004463414195924997, 0.04017072916030884, 0.01339024305343628, 0.01339024305343628, 0.08480487018823624, 0.02678048610687256, 0.008926828391849995, 0.02231707237660885, 0.02678048610687256, 0.5088292360305786, 0.0446341447532177, 0.07141462713479996, 0.012450149282813072, 0.052290625870227814, 0.012450149282813072, 0.07719092071056366, 0.11952143162488937, 0.047310564666986465, 0.10956130921840668, 0.04980059713125229, 0.009960118681192398, 0.009960118681192398, 0.04980059713125229, 0.3162337839603424, 0.07221086323261261, 0.024900298565626144, 0.03486041724681854, 0.32646846771240234, 0.018895279616117477, 0.0010497377952560782, 0.0020994755905121565, 0.05563610419631004, 0.016795804724097252, 0.008397902362048626, 0.004198951181024313, 0.3369658291339874, 0.11757063120603561, 0.04303925111889839, 0.013646591454744339, 0.05563610419631004, 0.0902433842420578, 0.1353650838136673, 0.0451216921210289, 0.7219470739364624, 0.9085697531700134, 0.05047609657049179, 0.013981557451188564, 0.013981557451188564, 0.08388934284448624, 0.04194467142224312, 0.09787090122699738, 0.7410225868225098, 0.005538981407880783, 0.14401352405548096, 0.011077962815761566, 0.07200676202774048, 0.005538981407880783, 0.022155925631523132, 0.005538981407880783, 0.7311455607414246, 0.9845759272575378, 0.2614167630672455, 0.05027245357632637, 0.010054490529000759, 0.020108981058001518, 0.030163472518324852, 0.6233783960342407, 0.9089690446853638, 0.06733103841543198, 0.9338696599006653, 0.06613512337207794, 0.03306756168603897, 0.8597566485404968, 0.0628986805677414, 0.912030816078186, 0.01572467014193535, 0.8866417407989502, 0.07388681173324585, 0.008356192149221897, 0.8374761343002319, 0.0009284657426178455, 0.001856931485235691, 0.007427725940942764, 0.006499260198324919, 0.08820424973964691, 0.009284657426178455, 0.01856931485235691, 0.003713862970471382, 0.001856931485235691, 0.01392698660492897, 0.0027853972278535366, 0.9661814570426941, 0.02557377703487873, 0.9462297558784485, 0.02557377703487873, 0.8648428916931152, 0.0997895672917366, 0.9452624917030334, 0.9560088515281677, 0.9317822456359863, 0.038824260234832764, 0.023959996178746223, 0.8865198493003845, 0.03593999519944191, 0.023959996178746223, 0.011979998089373112, 0.8801990747451782, 0.9317674040794373, 0.9861810803413391, 0.9551129341125488, 0.029972108080983162, 0.9291353225708008, 0.9405254125595093, 0.022939644753932953, 0.9050620794296265, 0.8918370604515076, 0.038775522261857986, 0.9675968289375305, 0.9645451903343201, 0.9809346199035645, 0.9495099186897278, 0.027128854766488075, 0.5699519515037537, 0.25712117552757263, 0.05999494343996048, 0.008570706471800804, 0.06428029388189316, 0.012856059707701206, 0.012856059707701206, 0.012856059707701206, 0.005352621898055077, 0.31045207381248474, 0.008028932847082615, 0.026763109490275383, 0.0026763109490275383, 0.09099457412958145, 0.22481012344360352, 0.008028932847082615, 0.005352621898055077, 0.23016273975372314, 0.0026763109490275383, 0.08296564221382141, 0.9611523151397705, 0.22189971804618835, 0.05120762810111046, 0.6941478252410889, 0.00568973645567894, 0.00568973645567894, 0.01706920936703682, 0.9587304592132568, 0.5622090101242065, 0.0025908248499035835, 0.4067595303058624, 0.005181649699807167, 0.0025908248499035835, 0.015544950030744076, 0.0025908248499035835, 0.91774582862854, 0.021770179271697998, 0.9578878879547119, 0.9347939491271973, 0.12906990945339203, 0.013352058827877045, 0.013352058827877045, 0.004450686275959015, 0.013352058827877045, 0.02670411765575409, 0.7299125790596008, 0.004450686275959015, 0.06230960786342621, 0.9203997254371643, 0.954245924949646, 0.9821448922157288, 0.9778991341590881, 0.9053961634635925, 0.0051442962139844894, 0.0051442962139844894, 0.0051442962139844894, 0.030865777283906937, 0.041154369711875916, 0.7139145731925964, 0.2748255133628845, 0.00789728481322527, 0.8762051463127136, 0.37600845098495483, 0.010846396908164024, 0.10846397280693054, 0.0018077328568324447, 0.0018077328568324447, 0.3163532614707947, 0.1807732880115509, 0.08740784227848053, 0.0655558854341507, 0.07575346529483795, 0.016024772077798843, 0.517163097858429, 0.004370392300188541, 0.016024772077798843, 0.06264229118824005, 0.008740784600377083, 0.04224712401628494, 0.023308757692575455, 0.008740784600377083, 0.023308757692575455, 0.04807431250810623, 0.006682178471237421, 0.0400930717587471, 0.9421871900558472, 0.8369229435920715, 0.01442970521748066, 0.02885941043496132, 0.01442970521748066, 0.04328911751508713, 0.04328911751508713, 0.34564265608787537, 0.008939034305512905, 0.0595935620367527, 0.008939034305512905, 0.5542201399803162, 0.02085774764418602, 0.9372772574424744, 0.033474188297986984, 0.9255542755126953, 0.9129446148872375, 0.04347355291247368, 0.8900334239006042, 0.9556814432144165, 0.08632908016443253, 0.09228280931711197, 0.01786118932068348, 0.18158875405788422, 0.0029768648091703653, 0.026791783049702644, 0.03572237864136696, 0.029768647626042366, 0.06549102813005447, 0.4018767476081848, 0.023814918473362923, 0.0029768648091703653, 0.03274551406502724, 0.06214842200279236, 0.04661131650209427, 0.7069382667541504, 0.023305658251047134, 0.14760249853134155, 0.43192389607429504, 0.0062901536002755165, 0.012580307200551033, 0.07967527955770493, 0.2872503399848938, 0.04822451248764992, 0.00209671794436872, 0.012580307200551033, 0.03145076707005501, 0.00419343588873744, 0.07757855951786041, 0.00209671794436872, 0.0062901536002755165, 0.012315300293266773, 0.9605934023857117, 0.012315300293266773, 0.09045235812664032, 0.2204776257276535, 0.00282663619145751, 0.008479908108711243, 0.04239954054355621, 0.1780780702829361, 0.00282663619145751, 0.18655797839164734, 0.13850517570972443, 0.00565327238291502, 0.00282663619145751, 0.1130654439330101, 0.008479908108711243, 0.09939785301685333, 0.06310974806547165, 0.05995425954461098, 0.05837651342153549, 0.07730943709611893, 0.031554874032735825, 0.044176820665597916, 0.07415395230054855, 0.009466461837291718, 0.009466461837291718, 0.1845960021018982, 0.1735517978668213, 0.012621949426829815, 0.03944358974695206, 0.05995425954461098, 0.9258280396461487, 0.03703312203288078, 0.016450561583042145, 0.030844802036881447, 0.006168960593640804, 0.411264032125473, 0.008225280791521072, 0.002056320197880268, 0.5099673867225647, 0.008225280791521072, 0.004112640395760536, 0.9208270907402039, 0.022614736109972, 0.7495169639587402, 0.006461353041231632, 0.012922706082463264, 0.2035326212644577, 0.9294286370277405, 0.05996313691139221, 0.009404273703694344, 0.040751852095127106, 0.16614216566085815, 0.009404273703694344, 0.04702136665582657, 0.02194330468773842, 0.40751850605010986, 0.009404273703694344, 0.009404273703694344, 0.06896467506885529, 0.07523418962955475, 0.009404273703694344, 0.12852507829666138, 0.04083724319934845, 0.8984193205833435, 0.03643523529171944, 0.054652851074934006, 0.674051821231842, 0.03643523529171944, 0.07287047058343887, 0.09108808636665344, 0.9363747239112854, 0.9474850296974182, 0.013933603651821613, 0.013933603651821613, 0.8296021223068237, 0.009017414413392544, 0.12624379992485046, 0.009017414413392544, 0.018034828826785088, 0.9665402770042419, 0.05029525235295296, 0.7376636862754822, 0.002794180763885379, 0.002794180763885379, 0.008382542058825493, 0.09779632836580276, 0.013970904052257538, 0.019559264183044434, 0.002794180763885379, 0.002794180763885379, 0.013970904052257538, 0.005588361527770758, 0.030735988169908524, 0.008382542058825493, 0.04563320800662041, 0.1635189950466156, 0.007605534512549639, 0.1635189950466156, 0.011408302001655102, 0.03422490507364273, 0.09506917744874954, 0.3156296908855438, 0.0038027672562748194, 0.030422138050198555, 0.09887194633483887, 0.02661937102675438, 0.009234321303665638, 0.05848403647542, 0.015390535816550255, 0.006156214512884617, 0.03078107163310051, 0.021546751260757446, 0.06002309173345566, 0.3739900290966034, 0.004617160651832819, 0.10311659425497055, 0.12004618346691132, 0.05848403647542, 0.08772605657577515, 0.02770296484231949, 0.023085804656147957, 0.9212719798088074, 0.07425367087125778, 0.04527662694454193, 0.09236431866884232, 0.07968686521053314, 0.05070982500910759, 0.01629958674311638, 0.03803236782550812, 0.041654497385025024, 0.1159081682562828, 0.027165977284312248, 0.07244260609149933, 0.09417539089918137, 0.041654497385025024, 0.12134136259555817, 0.08874218910932541, 0.9106854796409607, 0.9032105207443237, 0.02508918009698391, 0.02508918009698391, 0.9766147136688232, 0.05375615879893303, 0.1000976711511612, 0.2502441704273224, 0.13531722128391266, 0.09824401140213013, 0.014829284511506557, 0.072292760014534, 0.03151223063468933, 0.007414642255753279, 0.04634151607751846, 0.04634151607751846, 0.0333658903837204, 0.027804909273982048, 0.05931713804602623, 0.025951247662305832, 0.9427093863487244, 0.6709334254264832, 0.23872163891792297, 0.01759001612663269, 0.005025718826800585, 0.05025718733668327, 0.012564296834170818, 0.0025128594134002924, 0.0025128594134002924, 0.9257473945617676, 0.032574910670518875, 0.06264405697584152, 0.002505762269720435, 0.47108331322669983, 0.06514982134103775, 0.04760948568582535, 0.00501152453944087, 0.08519592136144638, 0.007517287041991949, 0.01002304907888174, 0.01002304907888174, 0.04510372132062912, 0.007517287041991949, 0.02004609815776348, 0.12779387831687927, 0.9674607515335083, 0.16205984354019165, 0.8214757442474365, 0.005588270258158445, 0.9616730809211731, 0.0797266811132431, 0.07334854453802109, 0.0382688045501709, 0.022323470562696457, 0.009567201137542725, 0.41776779294013977, 0.012756268493831158, 0.03189067170023918, 0.06378134340047836, 0.028701605275273323, 0.03507973998785019, 0.009567201137542725, 0.17220962047576904, 0.0031890671234577894, 0.998955249786377, 0.0007782045286148787, 0.035923685878515244, 0.059872809797525406, 0.003991520497947931, 0.027940645813941956, 0.09579649567604065, 0.007983040995895863, 0.09579649567604065, 0.011974561959505081, 0.5787705183029175, 0.0678558498620987, 0.007983040995895863, 0.02327267825603485, 0.02327267825603485, 0.907634437084198, 0.02327267825603485, 0.0314263217151165, 0.007856580428779125, 0.0471394807100296, 0.01571316085755825, 0.01571316085755825, 0.6835224628448486, 0.1885579228401184, 0.10228580981492996, 0.03835717961192131, 0.8438578844070435, 0.006392863113433123, 0.41652438044548035, 0.03759245201945305, 0.019548075273633003, 0.07819230109453201, 0.12480694055557251, 0.004511094186455011, 0.0285702645778656, 0.013533283025026321, 0.09322928637266159, 0.004511094186455011, 0.06014792621135712, 0.05112573504447937, 0.01503698155283928, 0.04511094465851784, 0.009022188372910023, 0.9558292627334595, 0.016325589269399643, 0.41630250215530396, 0.03809303790330887, 0.005441862624138594, 0.009523259475827217, 0.4299071729183197, 0.01768605411052704, 0.010883725248277187, 0.002720931312069297, 0.021767450496554375, 0.004081397317349911, 0.014965122565627098, 0.009523259475827217, 0.004081397317349911, 0.0212152898311615, 0.9546880722045898, 0.931216835975647, 0.11909837275743484, 0.7939891815185547, 0.039699457585811615, 0.012909500859677792, 0.9811220765113831, 0.9629361629486084, 0.9568647742271423, 0.9699743390083313, 0.9440233111381531, 0.9395871758460999, 0.9251929521560669, 0.9403279423713684, 0.016763072460889816, 0.9722581505775452, 0.03021964430809021, 0.006043928675353527, 0.0030219643376767635, 0.09065893292427063, 0.009065893478691578, 0.11181268095970154, 0.6920298337936401, 0.009065893478691578, 0.018131786957383156, 0.0030219643376767635, 0.012087857350707054, 0.009065893478691578, 0.006043928675353527, 0.8909448981285095, 0.059396326541900635, 0.3975745439529419, 0.14647482335567474, 0.23947471380233765, 0.0929998904466629, 0.002324997214600444, 0.09067489206790924, 0.004649994429200888, 0.009299988858401775, 0.002324997214600444, 0.006974991876631975, 0.004649994429200888, 0.9460844397544861, 0.04300383850932121, 0.004778204020112753, 0.9413691163063049, 0.9096530079841614, 0.0516727976500988, 0.0375802181661129, 0.4556601345539093, 0.0281851626932621, 0.009395054541528225, 0.0469752699136734, 0.0234876349568367, 0.01879010908305645, 0.0422777459025383, 0.0469752699136734, 0.0422777459025383, 0.0328826904296875, 0.1644134521484375, 0.5552589297294617, 0.22389471530914307, 0.004477894399315119, 0.1656820923089981, 0.026867367327213287, 0.013433683663606644, 0.004477894399315119, 0.946693480014801, 0.930923581123352, 0.9478647112846375, 0.014955232851207256, 0.003738808212801814, 0.011216424405574799, 0.007477616425603628, 0.8935751914978027, 0.014955232851207256, 0.029910465702414513, 0.022432848811149597, 0.961012065410614, 0.06833402812480927, 0.06833402812480927, 0.8541753888130188, 0.003377959132194519, 0.2921934723854065, 0.018578775227069855, 0.020267754793167114, 0.5117607712745667, 0.06755918264389038, 0.011822856962680817, 0.003377959132194519, 0.011822856962680817, 0.0016889795660972595, 0.020267754793167114, 0.020267754793167114, 0.020267754793167114, 0.15588894486427307, 0.014768426306545734, 0.20511703193187714, 0.014768426306545734, 0.13291583955287933, 0.0722011923789978, 0.1772211194038391, 0.011486553587019444, 0.02133217081427574, 0.019691234454512596, 0.0065637449733912945, 0.10501991957426071, 0.06399651616811752, 0.002817313652485609, 0.9804251194000244, 0.005634627304971218, 0.002817313652485609, 0.005634627304971218, 0.22869065403938293, 0.5876079201698303, 0.007940647192299366, 0.00317625910975039, 0.12228596955537796, 0.014293165877461433, 0.001588129554875195, 0.011116907000541687, 0.00476438831537962, 0.007940647192299366, 0.00952877663075924, 0.940388023853302, 0.004655543249100447, 0.647120475769043, 0.004655543249100447, 0.22812160849571228, 0.06517760455608368, 0.03258880227804184, 0.009311086498200893, 0.004655543249100447, 0.9594448804855347, 0.08104199171066284, 0.002251166384667158, 0.03601866215467453, 0.006753499154001474, 0.002251166384667158, 0.002251166384667158, 0.002251166384667158, 0.4592379331588745, 0.1868468075990677, 0.20935846865177155, 0.011255831457674503, 0.0035406071692705154, 0.4177916347980499, 0.042487286031246185, 0.5133880376815796, 0.021243643015623093, 0.8776627779006958, 0.03937122970819473, 0.9449095726013184, 0.004374581389129162, 0.9469608068466187, 0.005442303605377674, 0.005442303605377674, 0.016326909884810448, 0.016326909884810448, 0.00926273688673973, 0.9633246660232544, 0.004631368443369865, 0.013894105330109596, 0.08385201543569565, 0.011978860013186932, 0.023957720026373863, 0.023957720026373863, 0.8385201692581177, 0.09227278083562851, 0.006151518784463406, 0.01845455728471279, 0.7320307493209839, 0.012303037568926811, 0.012303037568926811, 0.11072733998298645, 0.006151518784463406, 0.6248590350151062, 0.00743879796937108, 0.11654116958379745, 0.0024795993231236935, 0.00743879796937108, 0.22564354538917542, 0.009918397292494774, 0.0024795993231236935, 0.007825537584722042, 0.978192150592804, 0.007825537584722042, 0.9552905559539795, 0.03618524968624115, 0.5433716177940369, 0.16863256692886353, 0.002342119114473462, 0.10071112215518951, 0.03981602564454079, 0.004684238228946924, 0.11242171376943588, 0.009368476457893848, 0.011710595339536667, 0.007026357110589743, 0.5560173988342285, 0.3965395390987396, 0.02586127445101738, 0.017240850254893303, 0.09763024747371674, 0.8298571109771729, 0.06031301990151405, 0.0037695637438446283, 0.04146520048379898, 0.015078254975378513, 0.007539127487689257, 0.015078254975378513, 0.015078254975378513, 0.30156511068344116, 0.10554778575897217, 0.26763904094696045, 0.08293040096759796, 0.0866999700665474, 0.0743103176355362, 0.01857757940888405, 0.0030962631572037935, 0.006192526314407587, 0.04334768280386925, 0.009288789704442024, 0.04025141894817352, 0.006192526314407587, 0.030962631106376648, 0.27866366505622864, 0.3158188462257385, 0.0371551588177681, 0.012385052628815174, 0.11765799671411514, 0.0030962631572037935, 0.013410764746367931, 0.026821529492735863, 0.9253427386283875, 0.013410764746367931, 0.06126194819808006, 0.017503412440419197, 0.1531548649072647, 0.03063097409904003, 0.09189292043447495, 0.004375853110104799, 0.05251023918390274, 0.5557333827018738, 0.013127559795975685, 0.013127559795975685, 0.9208535552024841, 0.07498019933700562, 0.12031706422567368, 0.07498019933700562, 0.015693530440330505, 0.04882431402802467, 0.07672392576932907, 0.043593138456344604, 0.02266843244433403, 0.005231176503002644, 0.008718627505004406, 0.08718627691268921, 0.034874510020017624, 0.047080591320991516, 0.14124177396297455, 0.1952972561120987, 0.01241513155400753, 0.3078952729701996, 0.0049660527147352695, 0.0769738182425499, 0.047177501022815704, 0.029796317219734192, 0.09187197685241699, 0.0049660527147352695, 0.007449079304933548, 0.0049660527147352695, 0.009932105429470539, 0.3277594745159149, 0.07200776785612106, 0.050873763859272, 0.10988732427358627, 0.004069901071488857, 0.0630834624171257, 0.010174752213060856, 0.0630834624171257, 0.03866405785083771, 0.01627960428595543, 0.006104851607233286, 0.12209703028202057, 0.03255920857191086, 0.006104851607233286, 0.006104851607233286, 0.36018624901771545, 0.10988732427358627, 0.8758115768432617, 0.4344490170478821, 0.08061940968036652, 0.04030970484018326, 0.013436567969620228, 0.013436567969620228, 0.3941393196582794, 0.022394279018044472, 0.06868403404951096, 0.30678868293762207, 0.02289467863738537, 0.004578935913741589, 0.011447339318692684, 0.40523582696914673, 0.0022894679568707943, 0.004578935913741589, 0.03892095386981964, 0.02747361548244953, 0.020605210214853287, 0.02518414705991745, 0.03663148730993271, 0.02518414705991745, 0.05483013018965721, 0.005483013112097979, 0.008224519900977612, 0.046605613082647324, 0.04934711754322052, 0.0027415065560489893, 0.0027415065560489893, 0.0301565732806921, 0.6168389916419983, 0.1809394359588623, 0.9650232791900635, 0.9286442399024963, 0.05130612477660179, 0.9235102534294128, 0.0849810317158699, 0.04575901851058006, 0.6275522708892822, 0.006537002511322498, 0.006537002511322498, 0.07844403386116028, 0.013074005022644997, 0.026148010045289993, 0.10459204018115997, 0.910681962966919, 0.09119194746017456, 0.04306286573410034, 0.03293042629957199, 0.08359261602163315, 0.4280955195426941, 0.015198658220469952, 0.06332774460315704, 0.002533109625801444, 0.007599329110234976, 0.002533109625801444, 0.050662193447351456, 0.017731767147779465, 0.007599329110234976, 0.1469203531742096, 0.007599329110234976, 0.03063885122537613, 0.09191655367612839, 0.027234535664319992, 0.6638417840003967, 0.01021295040845871, 0.09872519224882126, 0.0748949721455574, 0.03826494142413139, 0.1466822773218155, 0.044642433524131775, 0.048468928784132004, 0.062499407678842545, 0.07780538499355316, 0.19387571513652802, 0.03316295146942139, 0.03316295146942139, 0.005101992283016443, 0.10714183747768402, 0.0867338702082634, 0.030611954629421234, 0.0433669351041317, 0.04591793194413185, 0.009909965097904205, 0.977783203125, 0.006606643553823233, 0.013218780048191547, 0.9517521262168884, 0.013218780048191547, 0.9520368576049805, 0.3105727732181549, 0.06177137792110443, 0.02916981652379036, 0.12697449326515198, 0.10295229405164719, 0.03431743383407593, 0.08750945329666138, 0.0394650474190712, 0.006863486487418413, 0.02402220293879509, 0.02402220293879509, 0.027453945949673653, 0.017158716917037964, 0.07206660509109497, 0.03431743383407593, 0.941287636756897, 0.0464593842625618, 0.9059579372406006, 0.0232296921312809, 0.0746583566069603, 0.7679145336151123, 0.021330958232283592, 0.010665479116141796, 0.010665479116141796, 0.10665479302406311, 0.30653953552246094, 0.012597515247762203, 0.037792544811964035, 0.033593375235795975, 0.37162670493125916, 0.006298757623881102, 0.0020995859522372484, 0.10078012198209763, 0.12597516179084778, 0.1229933351278305, 0.819955587387085, 0.9115225672721863, 0.047046951949596405, 0.04151201620697975, 0.05258188769221306, 0.019372275099158287, 0.047046951949596405, 0.038744550198316574, 0.013837338425219059, 0.36253827810287476, 0.18542033433914185, 0.0027674678713083267, 0.011069871485233307, 0.0027674678713083267, 0.00830240361392498, 0.166048064827919, 0.04927036166191101, 0.9032899737358093, 0.03284690901637077, 0.001350622856989503, 0.6442470550537109, 0.03241494670510292, 0.01890871860086918, 0.20259341597557068, 0.01890871860086918, 0.04321993142366409, 0.014856850728392601, 0.001350622856989503, 0.001350622856989503, 0.002701245713979006, 0.01755809597671032, 0.9131886959075928, 0.015259044244885445, 0.007629522122442722, 0.003814761061221361, 0.007629522122442722, 0.06485094130039215, 0.07629521936178207, 0.7591374516487122, 0.011444282718002796, 0.01907380484044552, 0.026703327894210815, 0.9323621392250061, 0.9588409662246704, 0.9588813185691833, 0.09839572012424469, 0.06708799302577972, 0.03279857337474823, 0.02087181992828846, 0.22809918224811554, 0.02981688641011715, 0.052179548889398575, 0.12672176957130432, 0.055161237716674805, 0.014908443205058575, 0.11032247543334961, 0.03578026220202446, 0.007454221602529287, 0.019380975514650345, 0.10286825895309448, 0.012029883451759815, 0.03608964756131172, 0.012029883451759815, 0.012029883451759815, 0.006014941725879908, 0.8902113437652588, 0.006014941725879908, 0.02405976690351963, 0.03739526867866516, 0.91618412733078, 0.00934881716966629, 0.03739526867866516, 0.9547219276428223, 0.006819707807153463, 0.06819707900285721, 0.013639415614306927, 0.8967915773391724, 0.0034098539035767317, 0.0034098539035767317, 0.013551997020840645, 0.06775998324155807, 0.9079837799072266, 0.041281722486019135, 0.9081979393959045, 0.2786485254764557, 0.004846061114221811, 0.37556976079940796, 0.0024230305571109056, 0.007269091904163361, 0.01211515348404646, 0.2592642903327942, 0.0024230305571109056, 0.0363454595208168, 0.016961215063929558, 0.0024230305571109056, 0.93619304895401, 0.024636657908558846, 0.2677573263645172, 0.02091854065656662, 0.0041837082244455814, 0.008367416448891163, 0.07112303376197815, 0.0041837082244455814, 0.029285956174135208, 0.008367416448891163, 0.5899028182029724, 0.9519622921943665, 0.958285391330719, 0.0025994942989200354, 0.12997470796108246, 0.09878078103065491, 0.02599494159221649, 0.012997470796108246, 0.4653094708919525, 0.02599494159221649, 0.16376814246177673, 0.0025994942989200354, 0.0025994942989200354, 0.007798482663929462, 0.015596965327858925, 0.015596965327858925, 0.03119393065571785, 0.04652414843440056, 0.007443863898515701, 0.035358354449272156, 0.08188249915838242, 0.05768994241952896, 0.16376499831676483, 0.06141187623143196, 0.027914488688111305, 0.05024608224630356, 0.024192556738853455, 0.04094124957919121, 0.40196865797042847, 0.05567198246717453, 0.8907517194747925, 0.9198032021522522, 0.9815722703933716, 0.00955864880234003, 0.03823459520936012, 0.9271889328956604, 0.01911729760468006, 0.027973521500825882, 0.03596595674753189, 0.20980142056941986, 0.031969740986824036, 0.03596595674753189, 0.0039962176233530045, 0.02997163124382496, 0.07393002510070801, 0.0039962176233530045, 0.0039962176233530045, 0.023977303877472878, 0.08991489559412003, 0.019981088116765022, 0.013986760750412941, 0.393627405166626, 0.0034260242246091366, 0.020556146278977394, 0.01713012158870697, 0.6715007424354553, 0.027408193796873093, 0.020556146278977394, 0.010278073139488697, 0.09592867642641068, 0.12333687394857407, 0.9569786190986633, 0.020361248403787613, 0.9323976039886475, 0.04661988094449043, 0.005850216373801231, 0.877532422542572, 0.023400865495204926, 0.029251081869006157, 0.011700432747602463, 0.011700432747602463, 0.029251081869006157, 0.005850216373801231, 0.992925763130188, 0.9907289147377014, 0.9535520672798157, 0.006314914673566818, 0.018944744020700455, 0.012629829347133636, 0.006314914673566818, 0.963646411895752, 0.017845304682850838, 0.9629338979721069, 0.012036673724651337, 0.012036673724651337, 0.964814305305481, 0.10278892517089844, 0.062347378581762314, 0.020220771431922913, 0.17356161773204803, 0.2594999074935913, 0.01685064285993576, 0.1196395680308342, 0.00842532142996788, 0.003370128571987152, 0.020220771431922913, 0.040441542863845825, 0.0353863500058651, 0.040441542863845825, 0.05560712143778801, 0.0421266071498394, 0.899243175983429, 0.0848342627286911, 0.013352597132325172, 0.006676298566162586, 0.020028894767165184, 0.020028894767165184, 0.013352597132325172, 0.013352597132325172, 0.006676298566162586, 0.08679188042879105, 0.13352596759796143, 0.6542772650718689, 0.020028894767165184, 0.9509401321411133, 0.9417411088943481, 0.7708219289779663, 0.003308248706161976, 0.006616497412323952, 0.019849492236971855, 0.002205499215051532, 0.002205499215051532, 0.19298116862773895, 0.2505660057067871, 0.003739790990948677, 0.7404786348342896, 0.9418789148330688, 0.9177535772323608, 0.0417160727083683, 0.09267974644899368, 0.8341177701950073, 0.04633987322449684, 0.911239743232727, 0.9147367477416992, 0.8869738578796387, 0.22054675221443176, 0.04831023886799812, 0.08191736042499542, 0.1428302824497223, 0.2835600972175598, 0.00420089066028595, 0.10502225905656815, 0.0168035626411438, 0.01470311637967825, 0.07771646976470947, 0.22151601314544678, 0.007466831710189581, 0.004977887962013483, 0.07466831803321838, 0.27876171469688416, 0.004977887962013483, 0.0024889439810067415, 0.009955775924026966, 0.0024889439810067415, 0.014933663420379162, 0.014933663420379162, 0.35094109177589417, 0.009955775924026966, 0.5260764360427856, 0.0021738694049417973, 0.05652060732245445, 0.20869147777557373, 0.017390955239534378, 0.015217086300253868, 0.06086834520101547, 0.0043477388098835945, 0.041303519159555435, 0.06086834520101547, 0.0021738694049417973, 0.1571080982685089, 0.8304285407066345, 0.9077833294868469, 0.26955336332321167, 0.00508591253310442, 0.4043300449848175, 0.03560138866305351, 0.00254295626655221, 0.01017182506620884, 0.1017182469367981, 0.00508591253310442, 0.03560138866305351, 0.09663233906030655, 0.00254295626655221, 0.025429561734199524, 0.05292971804738045, 0.8204106092453003, 0.1058594360947609, 0.014630512334406376, 0.7482461929321289, 0.010450365953147411, 0.012540439143776894, 0.19646687805652618, 0.0020900731906294823, 0.008360292762517929, 0.0041801463812589645, 0.1560177206993103, 0.08887085318565369, 0.017774170264601707, 0.02764870971441269, 0.003949815407395363, 0.025673801079392433, 0.08689594268798828, 0.01579926162958145, 0.01579926162958145, 0.05924723297357559, 0.07899631559848785, 0.013824354857206345, 0.005924723576754332, 0.3772073984146118, 0.02764870971441269, 0.9761560559272766, 0.9369404911994934, 0.03346215933561325, 0.9085693359375, 0.018851708620786667, 0.01256780605763197, 0.006283903028815985, 0.01256780605763197, 0.01256780605763197, 0.8734624981880188, 0.006283903028815985, 0.05655512586236, 0.006283903028815985, 0.04949529469013214, 0.9333398938179016, 0.8775532841682434, 0.010845651850104332, 0.021691303700208664, 0.010845651850104332, 0.04338260740041733, 0.0650739073753357, 0.16268476843833923, 0.6832760572433472, 0.16652783751487732, 0.18100853264331818, 0.014480682089924812, 0.11101856082677841, 0.335469126701355, 0.014480682089924812, 0.0048268940299749374, 0.009653788059949875, 0.012067235074937344, 0.0024134470149874687, 0.02654791623353958, 0.05068238824605942, 0.04585549235343933, 0.01930757611989975, 0.9192278981208801, 0.035354919731616974, 0.9447777271270752, 0.05491983890533447, 0.009153306484222412, 0.009153306484222412, 0.9061773419380188, 0.009153306484222412, 0.024858258664608, 0.6601248979568481, 0.024858258664608, 0.019334200769662857, 0.027620287612080574, 0.198866069316864, 0.005524057429283857, 0.0027620287146419287, 0.008286086842417717, 0.0027620287146419287, 0.016572173684835434, 0.008286086842417717, 0.9834903478622437, 0.002770395250990987, 0.002770395250990987, 0.005540790501981974, 0.002839705441147089, 0.03691617026925087, 0.002839705441147089, 0.002839705441147089, 0.9427822232246399, 0.011358821764588356, 0.07293707132339478, 0.01683163084089756, 0.0018701812950894237, 0.3291518986225128, 0.18140758574008942, 0.0018701812950894237, 0.0018701812950894237, 0.035533443093299866, 0.009350906126201153, 0.11595124006271362, 0.01683163084089756, 0.013091268949210644, 0.19075849652290344, 0.01496145036071539, 0.022582001984119415, 0.6774600744247437, 0.011291000992059708, 0.1580740064382553, 0.05645500496029854, 0.022582001984119415, 0.011291000992059708, 0.011291000992059708, 0.011291000992059708, 0.006873027887195349, 0.8728745579719543, 0.08247634023427963, 0.027492111548781395, 0.046970367431640625, 0.03131357952952385, 0.03131357952952385, 0.829809844493866, 0.03131357952952385, 0.0051772138103842735, 0.3140842914581299, 0.006902951281517744, 0.1915569007396698, 0.010354427620768547, 0.04659492149949074, 0.0051772138103842735, 0.01898311637341976, 0.02933754399418831, 0.010354427620768547, 0.03624049574136734, 0.0604008249938488, 0.2001855969429016, 0.06730377674102783, 0.002173490123823285, 0.07389866560697556, 0.04129631072282791, 0.12606242299079895, 0.10867450386285782, 0.002173490123823285, 0.48686179518699646, 0.002173490123823285, 0.010867450386285782, 0.00434698024764657, 0.00869396049529314, 0.04346980154514313, 0.039122823625802994, 0.05216376110911369, 0.9042418599128723, 0.03229435160756111, 0.03229435160756111, 0.9789981245994568, 0.9629043340682983, 0.022656572982668877, 0.023179223760962486, 0.0077264076098799706, 0.0077264076098799706, 0.9580745697021484, 0.055441029369831085, 0.009240171872079372, 0.018480343744158745, 0.9055368304252625, 0.08216919749975204, 0.0164338406175375, 0.032867681235075, 0.0164338406175375, 0.8381258249282837, 0.9679867029190063, 0.9085966944694519, 0.03365173190832138, 0.03365173190832138, 0.2456052005290985, 0.029325993731617928, 0.007331498432904482, 0.029325993731617928, 0.058651987463235855, 0.009164373390376568, 0.005498623941093683, 0.003665749216452241, 0.11730397492647171, 0.012830122373998165, 0.034824617207050323, 0.020161621272563934, 0.33358317613601685, 0.09164372831583023, 0.8321049809455872, 0.12607650458812714, 0.030224021524190903, 0.9369446635246277, 0.15933531522750854, 0.020619863644242287, 0.06373412162065506, 0.05811052396893501, 0.0731067880988121, 0.018745331093668938, 0.03374159336090088, 0.04123972728848457, 0.01687079668045044, 0.035616129636764526, 0.14433903992176056, 0.054361458867788315, 0.013121731579303741, 0.2605600953102112, 0.007498132064938545, 0.0452694334089756, 0.8827539682388306, 0.0452694334089756, 0.0226347167044878, 0.9739978313446045, 0.9958664178848267, 0.004422706551849842, 0.8978094458580017, 0.004422706551849842, 0.004422706551849842, 0.06191789358854294, 0.01769082620739937, 0.004422706551849842, 0.01560262218117714, 0.9751639366149902, 0.9248571395874023, 0.03570536896586418, 0.011901789344847202, 0.10711610317230225, 0.04760715737938881, 0.05950894579291344, 0.7141073346138, 0.9099650979042053, 0.9088093042373657, 0.07573410868644714, 0.32251331210136414, 0.017380956560373306, 0.015449739061295986, 0.028968259692192078, 0.025105824694037437, 0.03283069655299187, 0.019312173128128052, 0.05214286968111992, 0.038624346256256104, 0.025105824694037437, 0.3070635497570038, 0.027037043124437332, 0.07145503908395767, 0.015449739061295986, 0.9207692742347717, 0.04384615644812584, 0.014615384861826897, 0.11611777544021606, 0.7338643670082092, 0.1439860463142395, 0.9454663991928101, 0.024734623730182648, 0.0027482914738357067, 0.04122437164187431, 0.054965827614068985, 0.07970045506954193, 0.005496582947671413, 0.15940091013908386, 0.049469247460365295, 0.005496582947671413, 0.035727787762880325, 0.05221753939986229, 0.027482913807034492, 0.1484077423810959, 0.005496582947671413, 0.31055694818496704, 0.1441289782524109, 0.013102633878588676, 0.8307070136070251, 0.002620526822283864, 0.002620526822283864, 0.002620526822283864, 0.02046225778758526, 0.09719572216272354, 0.005115564446896315, 0.5320186614990234, 0.06650233268737793, 0.02557782083749771, 0.015346692875027657, 0.056271206587553024, 0.005115564446896315, 0.04092451557517052, 0.04092451557517052, 0.09719572216272354, 0.0054504177533090115, 0.051778972148895264, 0.021801671013236046, 0.034065112471580505, 0.09538231790065765, 0.2820591330528259, 0.066767618060112, 0.01907646283507347, 0.2466314136981964, 0.0054504177533090115, 0.009538231417536736, 0.12127179652452469, 0.016351254656910896, 0.012263440527021885, 0.012263440527021885, 0.886641800403595, 0.07388681918382645, 0.9848405122756958, 0.08456242829561234, 0.00604017311707139, 0.02416069246828556, 0.018120519816875458, 0.05436155945062637, 0.018120519816875458, 0.01208034623414278, 0.513414740562439, 0.018120519816875458, 0.1268436312675476, 0.07248207926750183, 0.04832138493657112, 0.046563927084207535, 0.8381507396697998, 0.046563927084207535, 0.019930120557546616, 0.03986024111509323, 0.9234288930892944, 0.006643373053520918, 0.006643373053520918, 0.9779950976371765, 0.038300517946481705, 0.009575129486620426, 0.11490155011415482, 0.009575129486620426, 0.7660103440284729, 0.028725387528538704, 0.019150258973240852, 0.8682922720909119, 0.03901591897010803, 0.05267149209976196, 0.3296845257282257, 0.07998263835906982, 0.03706512227654457, 0.017557164654135704, 0.017557164654135704, 0.019507959485054016, 0.05657308176159859, 0.005852387752383947, 0.1170477569103241, 0.03706512227654457, 0.05267149209976196, 0.1365557163953781, 0.1101551428437233, 0.1360740065574646, 0.03725835680961609, 0.03401850163936615, 0.014579357579350471, 0.043738070875406265, 0.26404836773872375, 0.006479714531451464, 0.00971957203000784, 0.01781921461224556, 0.14255371689796448, 0.06479714065790176, 0.029158715158700943, 0.08261635899543762, 0.00971957203000784, 0.8064600229263306, 0.012407077476382256, 0.012407077476382256, 0.11166369915008545, 0.06203538551926613, 0.07958129793405533, 0.8594779968261719, 0.04774877801537514, 0.015916258096694946, 0.930630624294281, 0.026589447632431984, 0.026589447632431984, 0.9242454767227173, 0.031870532780885696, 0.9538806676864624, 0.1676241159439087, 0.016033612191677094, 0.18657293915748596, 0.5670068264007568, 0.001457601087167859, 0.010203207843005657, 0.04955843463540077, 0.2517634332180023, 0.08392114192247391, 0.14386481046676636, 0.40042373538017273, 0.0023977470118552446, 0.01678422838449478, 0.09830762445926666, 0.9560562968254089, 0.9394999146461487, 0.9022926688194275, 0.957570493221283, 0.9376959800720215, 0.9338381886482239, 0.9719091653823853, 0.9357369542121887, 0.9610766172409058, 0.6183381676673889, 0.36466094851493835, 0.019940365105867386, 0.9571375250816345, 0.9349659085273743, 0.042498450726270676, 0.0643765926361084, 0.17353691160678864, 0.09936387091875076, 0.018193384632468224, 0.1287531852722168, 0.023791350424289703, 0.26170486211776733, 0.030788805335760117, 0.005597964860498905, 0.01119592972099781, 0.057379137724637985, 0.06717557460069656, 0.013994911685585976, 0.03358778730034828, 0.009796437807381153, 0.008108248002827168, 0.9486650824546814, 0.03243299201130867, 0.03979199007153511, 0.9550077319145203, 0.9053736329078674, 0.006447569001466036, 0.0021491895895451307, 0.027939464896917343, 0.9026596546173096, 0.017193516716361046, 0.025790276005864143, 0.0021491895895451307, 0.0042983791790902615, 0.008596758358180523, 0.007422809489071369, 0.007422809489071369, 0.9723880290985107, 0.8962602019309998, 0.068943090736866, 0.23833638429641724, 0.02508804015815258, 0.01254402007907629, 0.02508804015815258, 0.6899210810661316, 0.11735441535711288, 0.050294749438762665, 0.10058949887752533, 0.03352983295917511, 0.6538317799568176, 0.016764916479587555, 0.04609209671616554, 0.0023046047426760197, 0.03226446732878685, 0.0023046047426760197, 0.26502954959869385, 0.0023046047426760197, 0.0023046047426760197, 0.5461913347244263, 0.0645289346575737, 0.004609209485352039, 0.0023046047426760197, 0.016132233664393425, 0.0023046047426760197, 0.004609209485352039, 0.009218418970704079, 0.042030300945043564, 0.009340067394077778, 0.004670033697038889, 0.06538046896457672, 0.10741077363491058, 0.672484815120697, 0.023350168019533157, 0.004670033697038889, 0.023350168019533157, 0.004670033697038889, 0.03269023448228836, 0.2055700570344925, 0.006631292402744293, 0.7161795496940613, 0.00994693860411644, 0.0033156462013721466, 0.03978775441646576, 0.0033156462013721466, 0.006631292402744293, 0.0033156462013721466, 0.0033156462013721466, 0.9427608847618103, 0.014964458532631397, 0.014964458532631397, 0.03149626776576042, 0.034995853900909424, 0.04199502244591713, 0.09448880702257156, 0.07349129021167755, 0.034995853900909424, 0.04199502244591713, 0.09798838943243027, 0.003499585436657071, 0.003499585436657071, 0.048994194716215134, 0.4234498143196106, 0.020997511222958565, 0.006999170873314142, 0.038495440036058426, 0.9358870983123779, 0.023997105658054352, 0.8942726254463196, 0.024181261658668518, 0.0034544658847153187, 0.06218038871884346, 0.07945271581411362, 0.06563485413789749, 0.1554509699344635, 0.03109019435942173, 0.02763572707772255, 0.020726796239614487, 0.02763572707772255, 0.03799912706017494, 0.02763572707772255, 0.4318082332611084, 0.125393807888031, 0.005279739387333393, 0.07259641587734222, 0.02507876232266426, 0.10427485406398773, 0.0013199348468333483, 0.23494839668273926, 0.02375882677733898, 0.02243889309465885, 0.021118957549333572, 0.1610320508480072, 0.0448777861893177, 0.021118957549333572, 0.10163497924804688, 0.03431830555200577, 0.8752121925354004, 0.044882677495479584, 0.06732401251792908, 0.9315589070320129, 0.04990494251251221, 0.02246679738163948, 0.11554352939128876, 0.7831283807754517, 0.032095424830913544, 0.025676339864730835, 0.0032095424830913544, 0.016047712415456772, 0.12391877919435501, 0.8261252045631409, 0.864815890789032, 0.108101986348629, 0.009559194557368755, 0.0031863979529589415, 0.006372795905917883, 0.08921914547681808, 0.01593198999762535, 0.01911838911473751, 0.1274559199810028, 0.38874056935310364, 0.04142317548394203, 0.0031863979529589415, 0.1561335027217865, 0.02549118362367153, 0.06691435724496841, 0.04779596999287605, 0.9768372178077698, 0.009867042303085327, 0.0034050485119223595, 0.010215145535767078, 0.3234795928001404, 0.020430291071534157, 0.6367440819740295, 0.03665291145443916, 0.15687446296215057, 0.12168767303228378, 0.0029322330374270678, 0.05131407827138901, 0.030788445845246315, 0.02932232990860939, 0.024923980236053467, 0.0073305824771523476, 0.023457864299416542, 0.27856212854385376, 0.10556038469076157, 0.0073305824771523476, 0.0014661165187135339, 0.12022155523300171, 0.9647597670555115, 0.02510925568640232, 0.0903933197259903, 0.5775128602981567, 0.015065553598105907, 0.02510925568640232, 0.015065553598105907, 0.02510925568640232, 0.015065553598105907, 0.005021851044148207, 0.03515295684337616, 0.02510925568640232, 0.14061182737350464, 0.9809163212776184, 0.005795283243060112, 0.0019317611586302519, 0.009658805094659328, 0.0019317611586302519, 0.1217009499669075, 0.019317610189318657, 0.0019317611586302519, 0.0038635223172605038, 0.01352232787758112, 0.8113396763801575, 0.005795283243060112, 0.006750853266566992, 0.023627985268831253, 0.03712969273328781, 0.010126279667019844, 0.19239932298660278, 0.027003413066267967, 0.06750853359699249, 0.003375426633283496, 0.006750853266566992, 0.003375426633283496, 0.6177030801773071, 0.7991236448287964, 0.023973708972334862, 0.005327490624040365, 0.0026637453120201826, 0.16515220701694489, 0.010104333981871605, 0.8757088780403137, 0.037049222737550735, 0.0033681110944598913, 0.04883761331439018, 0.0016840555472299457, 0.0016840555472299457, 0.0033681110944598913, 0.006736222188919783, 0.011788388714194298, 0.016401078552007675, 0.9717638492584229, 0.004100269638001919, 0.0830264464020729, 0.9075649976730347, 0.002862981054931879, 0.005725962109863758, 0.8769769072532654, 0.001612089923582971, 0.006448359694331884, 0.001612089923582971, 0.10801002383232117, 0.18920570611953735, 0.010367436334490776, 0.46912649273872375, 0.007775577250868082, 0.005183718167245388, 0.007775577250868082, 0.03628602623939514, 0.005183718167245388, 0.03369416669011116, 0.12181737273931503, 0.11144993454217911, 0.02732675150036812, 0.1717681586742401, 0.021471019834280014, 0.01366337575018406, 0.04099012911319733, 0.019519109278917313, 0.454795241355896, 0.019519109278917313, 0.11125891655683517, 0.02927866205573082, 0.001951910788193345, 0.00390382157638669, 0.07026878744363785, 0.009759554639458656, 0.02243693172931671, 0.43271225690841675, 0.04166858643293381, 0.012821103446185589, 0.01602637954056263, 0.003205275861546397, 0.02243693172931671, 0.285269558429718, 0.1634690761566162, 0.1153869777917862, 0.023504754528403282, 0.006410387810319662, 0.41240161657333374, 0.0769246518611908, 0.0021367957815527916, 0.0021367957815527916, 0.006410387810319662, 0.004273591563105583, 0.010683979839086533, 0.2799202501773834, 0.05983028560876846, 0.05293902009725571, 0.013234755024313927, 0.8205548524856567, 0.09264328330755234, 0.17814041674137115, 0.023327913135290146, 0.006362157873809338, 0.02969007007777691, 0.038172949105501175, 0.048776544630527496, 0.023327913135290146, 0.0508972629904747, 0.2905385494232178, 0.06574229896068573, 0.11876028031110764, 0.048776544630527496, 0.06998373568058014, 0.006362157873809338, 0.030890975147485733, 0.061781950294971466, 0.0556037537753582, 0.012356390245258808, 0.04942556098103523, 0.030890975147485733, 0.5683939456939697, 0.012356390245258808, 0.01853458397090435, 0.01853458397090435, 0.006178195122629404, 0.15445487201213837, 0.9683018326759338, 0.9285231828689575, 0.026529233902692795, 0.06894480437040329, 0.03848082199692726, 0.0481010265648365, 0.05451449751853943, 0.08016837388277054, 0.017637042328715324, 0.009620205499231815, 0.03367071971297264, 0.009620205499231815, 0.096202053129673, 0.2405051290988922, 0.036877453327178955, 0.02405051328241825, 0.2164546251296997, 0.02405051328241825, 0.020268909633159637, 0.06080673262476921, 0.9019665122032166, 0.011003375984728336, 0.11003376543521881, 0.7922431230545044, 0.011003375984728336, 0.055016882717609406, 0.011003375984728336, 0.5027291178703308, 0.07540936768054962, 0.05027291551232338, 0.011171759106218815, 0.0027929397765547037, 0.011171759106218815, 0.30443042516708374, 0.0027929397765547037, 0.03351527452468872, 0.008588559925556183, 0.0515313558280468, 0.18608546257019043, 0.05725706368684769, 0.02003997191786766, 0.08302274346351624, 0.22616539895534515, 0.008588559925556183, 0.005725706461817026, 0.011451412923634052, 0.0257656779140234, 0.008588559925556183, 0.3063252866268158, 0.14165644347667694, 0.020236635580658913, 0.022766215726733208, 0.035414110869169235, 0.40473270416259766, 0.035414110869169235, 0.022766215726733208, 0.002529579447582364, 0.022766215726733208, 0.06576906889677048, 0.10118317604064941, 0.04806200787425041, 0.022766215726733208, 0.030354952439665794, 0.025295794010162354, 0.0013154310872778296, 0.827406108379364, 0.04340922459959984, 0.0026308621745556593, 0.013154310174286366, 0.003946293145418167, 0.007892586290836334, 0.09208017587661743, 0.006577155087143183, 0.02642671950161457, 0.06606680154800415, 0.04459508880972862, 0.16021199524402618, 0.12387525290250778, 0.0016516699688509107, 0.07267347723245621, 0.03138172999024391, 0.008258350193500519, 0.019820040091872215, 0.05285343900322914, 0.029730061069130898, 0.03138172999024391, 0.23453713953495026, 0.09744852781295776, 0.08716776221990585, 0.10611727833747864, 0.018949514254927635, 0.06442834436893463, 0.15159611403942108, 0.5571157336235046, 0.011369707994163036, 0.03521992638707161, 0.9391980171203613, 0.011739975772798061, 0.8995192646980286, 0.9409473538398743, 0.03801807388663292, 0.978544294834137, 0.9309789538383484, 0.2477891445159912, 0.007508762180805206, 0.0025029208045452833, 0.010011683218181133, 0.20023365318775177, 0.04004673287272453, 0.28533294796943665, 0.005005841609090567, 0.012514603324234486, 0.02502920664846897, 0.017520444467663765, 0.007508762180805206, 0.14016355574131012, 0.03202544152736664, 0.04803815856575966, 0.06405088305473328, 0.03202544152736664, 0.6565214991569519, 0.03202544152736664, 0.12810176610946655, 0.968981146812439, 0.012188130058348179, 0.10359910130500793, 0.006094065029174089, 0.05179955065250397, 0.009141096845269203, 0.11274019628763199, 0.05484658479690552, 0.009141096845269203, 0.009141096845269203, 0.6307356953620911, 0.9671247601509094, 0.14028166234493256, 0.009352111257612705, 0.04676055535674095, 0.7949294447898865, 0.9700406193733215, 0.009510202333331108, 0.15623126924037933, 0.02659255638718605, 0.04986104369163513, 0.03324069455265999, 0.07312953472137451, 0.16620348393917084, 0.0033240695483982563, 0.016620347276329994, 0.4354531168937683, 0.03324069455265999, 0.9370861649513245, 0.0564509741961956, 0.017979128286242485, 0.8989564180374146, 0.07191651314496994, 0.0025688668247312307, 0.012844334356486797, 0.0051377336494624615, 0.0051377336494624615, 0.0025688668247312307, 0.9684627652168274, 0.9587974548339844, 0.9865315556526184, 0.9252030849456787, 0.038429804146289825, 0.45781591534614563, 0.010025165975093842, 0.05179668962955475, 0.021721193566918373, 0.030075497925281525, 0.12197285145521164, 0.005012582987546921, 0.015037748962640762, 0.033417221158742905, 0.1954907327890396, 0.020050331950187683, 0.04848279431462288, 0.07272419333457947, 0.07272419333457947, 0.7999660968780518, 0.9341692924499512, 0.05307780206203461, 0.03375634551048279, 0.006751269102096558, 0.006751269102096558, 0.13502538204193115, 0.27680203318595886, 0.006751269102096558, 0.013502538204193115, 0.4658375680446625, 0.006751269102096558, 0.013502538204193115, 0.02700507640838623, 0.8627524971961975, 0.03671287000179291, 0.018356435000896454, 0.05506930872797966, 0.01912817731499672, 0.00478204432874918, 0.033474311232566833, 0.769909143447876, 0.00478204432874918, 0.16258950531482697, 0.029462384060025215, 0.24306467175483704, 0.056469570845365524, 0.05401436984539032, 0.019641589373350143, 0.34127262234687805, 0.014731192030012608, 0.14485672116279602, 0.004910397343337536, 0.009820794686675072, 0.007365596015006304, 0.04910397529602051, 0.007365596015006304, 0.0220967885106802, 0.05931651592254639, 0.014829128980636597, 0.03707282245159149, 0.09638933837413788, 0.007414564490318298, 0.007414564490318298, 0.022243693470954895, 0.29658257961273193, 0.4300447404384613, 0.029658257961273193, 0.025561213493347168, 0.9457648992538452, 0.02424222230911255, 0.9454466700553894, 0.9382868409156799, 0.9382216930389404, 0.04079224914312363, 0.4783724248409271, 0.017938965931534767, 0.035877931863069534, 0.023918621242046356, 0.035877931863069534, 0.06278637796640396, 0.26908448338508606, 0.026908449828624725, 0.04783724248409271, 0.14546385407447815, 0.7909596562385559, 0.05454894155263901, 0.9697933793067932, 0.0612727627158165, 0.8578186631202698, 0.010762562975287437, 0.08512209355831146, 0.002935244468972087, 0.1585032045841217, 0.007827319204807281, 0.010762562975287437, 0.6252070665359497, 0.005870488937944174, 0.003913659602403641, 0.015654638409614563, 0.008805734105408192, 0.004892074503004551, 0.052834402769804, 0.003913659602403641, 0.9928463101387024, 0.9487846493721008, 0.01520388014614582, 0.05321358144283295, 0.01520388014614582, 0.09122328460216522, 0.07601939886808395, 0.00760194007307291, 0.03800969943404198, 0.00760194007307291, 0.03040776029229164, 0.1292329877614975, 0.022805821150541306, 0.5093299746513367, 0.09208554029464722, 0.056274496018886566, 0.005115863401442766, 0.6036718487739563, 0.005115863401442766, 0.09208554029464722, 0.010231726802885532, 0.03581104427576065, 0.005115863401442766, 0.09208554029464722, 0.05652805417776108, 0.026002906262874603, 0.0033916833344846964, 0.004522244445979595, 0.5030996799468994, 0.03165571019053459, 0.3233404755592346, 0.0011305611114948988, 0.004522244445979595, 0.0011305611114948988, 0.0022611222229897976, 0.0022611222229897976, 0.029394589364528656, 0.010175050236284733, 0.9617931842803955, 0.11464288830757141, 0.04299108311533928, 0.816830575466156, 0.9496301412582397, 0.9579758048057556, 0.9157758951187134, 0.013058914802968502, 0.004352971911430359, 0.021764857694506645, 0.4048263728618622, 0.026117829605937004, 0.3264728784561157, 0.03482377529144287, 0.03482377529144287, 0.013058914802968502, 0.12188320606946945, 0.8939819931983948, 0.9469931125640869, 0.9333965182304382, 0.9524562358856201, 0.9133731126785278, 0.22116874158382416, 0.678250789642334, 0.014744582585990429, 0.014744582585990429, 0.04423375055193901, 0.972594678401947, 0.9429843425750732, 0.004338398110121489, 0.6724517345428467, 0.013015194796025753, 0.04338398203253746, 0.09544476121664047, 0.1648591309785843, 0.04883486032485962, 0.019533945247530937, 0.3548666536808014, 0.09766972064971924, 0.032556574791669846, 0.13022629916667938, 0.04883486032485962, 0.009766972623765469, 0.003255657386034727, 0.013022629544138908, 0.08464709669351578, 0.05860183387994766, 0.009766972623765469, 0.09115840494632721, 0.0540042519569397, 0.1080085039138794, 0.8100637793540955, 0.018001416698098183, 0.020627373829483986, 0.020627373829483986, 0.020627373829483986, 0.8869770169258118, 0.020627373829483986, 0.9610705375671387, 0.016570180654525757, 0.1246185451745987, 0.008901325054466724, 0.01780265010893345, 0.008901325054466724, 0.8367245197296143, 0.017574140802025795, 0.017574140802025795, 0.9314294457435608, 0.8772438168525696, 0.9623759984970093, 0.018309297040104866, 0.018309297040104866, 0.03661859408020973, 0.8971555233001709, 0.9425840377807617, 0.03898879513144493, 0.00556982820853591, 0.02227931283414364, 0.6126810908317566, 0.01670948415994644, 0.027849139645695686, 0.26735174655914307, 0.06692434102296829, 0.005577028263360262, 0.09295047074556351, 0.16545183956623077, 0.07064235955476761, 0.00185900938231498, 0.01487207505851984, 0.013013065792620182, 0.11154056340456009, 0.08923245221376419, 0.044616226106882095, 0.027885140851140022, 0.2528252899646759, 0.044616226106882095, 0.9628390073776245, 0.012489610351622105, 0.001387734548188746, 0.002775469096377492, 0.015265079215168953, 0.09436594694852829, 0.06244805082678795, 0.09436594694852829, 0.07077445834875107, 0.14154891669750214, 0.1665281355381012, 0.18040548264980316, 0.002775469096377492, 0.14154891669750214, 0.012489610351622105, 0.04503937438130379, 0.018015749752521515, 0.009007874876260757, 0.063055120408535, 0.009007874876260757, 0.04503937438130379, 0.5855118632316589, 0.09908661991357803, 0.09908661991357803, 0.018015749752521515, 0.8953213691711426, 0.0639515221118927, 0.7488887310028076, 0.1032949909567833, 0.12911874055862427, 0.010355978272855282, 0.025889944285154343, 0.08802581578493118, 0.6161807179450989, 0.06213586777448654, 0.07766983658075333, 0.005177989136427641, 0.010355978272855282, 0.005177989136427641, 0.0362459234893322, 0.010355978272855282, 0.051779888570308685, 0.047060079872608185, 0.8941414952278137, 0.06081279367208481, 0.88178551197052, 0.030406396836042404, 0.976201057434082, 0.03400743007659912, 0.15172545611858368, 0.00523191224783659, 0.05493507906794548, 0.12294993549585342, 0.1857328861951828, 0.07324676960706711, 0.00523191224783659, 0.007847867906093597, 0.02092764899134636, 0.22758817672729492, 0.02354360558092594, 0.08371059596538544, 0.0884099081158638, 0.004420495126396418, 0.004420495126396418, 0.008840990252792835, 0.004420495126396418, 0.6011873483657837, 0.132614865899086, 0.004420495126396418, 0.004420495126396418, 0.02210247702896595, 0.01326148584485054, 0.03978445753455162, 0.07072792202234268, 0.9209184050559998, 0.950903594493866, 0.2609882354736328, 0.01815570332109928, 0.006808388512581587, 0.2110600471496582, 0.01588623970746994, 0.07262281328439713, 0.02950301766395569, 0.0521976463496685, 0.23148520290851593, 0.00226946291513741, 0.09304797649383545, 0.862837016582489, 0.10354044288396835, 0.016656765714287758, 0.09161221235990524, 0.008328382857143879, 0.17489604651927948, 0.6995841860771179, 0.9555051922798157, 0.038285594433546066, 0.009571398608386517, 0.7465690970420837, 0.038285594433546066, 0.019142797216773033, 0.05742839351296425, 0.08614259213209152, 0.1625092774629593, 0.003693392500281334, 0.003693392500281334, 0.003693392500281334, 0.051707495003938675, 0.007386785000562668, 0.03693392500281334, 0.04062731936573982, 0.014773570001125336, 0.6352635025978088, 0.003693392500281334, 0.03693392500281334, 0.011416289024055004, 0.1883687674999237, 0.039957012981176376, 0.01712443307042122, 0.022832578048110008, 0.01712443307042122, 0.005708144512027502, 0.057081446051597595, 0.05137329921126366, 0.5936470031738281, 0.017109772190451622, 0.034219544380903244, 0.034219544380903244, 0.008554886095225811, 0.0598842017352581, 0.5902871489524841, 0.10265862941741943, 0.13687817752361298, 0.008554886095225811, 0.008869725279510021, 0.01182630006223917, 0.005913150031119585, 0.10939327627420425, 0.7982752919197083, 0.029565751552581787, 0.01182630006223917, 0.014782875776290894, 0.005913150031119585, 0.0774204358458519, 0.0059554181061685085, 0.0059554181061685085, 0.0059554181061685085, 0.8516247868537903, 0.04168792814016342, 0.8766216039657593, 0.050762806087732315, 0.023689309135079384, 0.006768374238163233, 0.06091536581516266, 0.010152560658752918, 0.03045768290758133, 0.04061024263501167, 0.0033841871190816164, 0.04399443045258522, 0.6294587850570679, 0.06768374145030975, 0.006768374238163233, 0.010152560658752918, 0.01692093536257744, 0.030627330765128136, 0.012250931933522224, 0.006125465966761112, 0.8881925940513611, 0.012250931933522224, 0.030627330765128136, 0.04765869304537773, 0.02647705189883709, 0.15886230766773224, 0.015886232256889343, 0.0052954102866351604, 0.037067871540784836, 0.19593018293380737, 0.503063976764679, 0.0052954102866351604, 0.017080659046769142, 0.1571420580148697, 0.34844544529914856, 0.02049678936600685, 0.03757745027542114, 0.1400613933801651, 0.006832263432443142, 0.013664526864886284, 0.003416131716221571, 0.04782584309577942, 0.0819871574640274, 0.11956460773944855, 0.05022559314966202, 0.23857156932353973, 0.004185466095805168, 0.029298262670636177, 0.03766919672489166, 0.002092733047902584, 0.006278199143707752, 0.002092733047902584, 0.01883459836244583, 0.029298262670636177, 0.5692234039306641, 0.016741864383220673, 0.12415656447410583, 0.024831313639879227, 0.819433331489563, 0.9706169962882996, 0.009754865430295467, 0.009754865430295467, 0.09754865616559982, 0.058529190719127655, 0.019509730860590935, 0.7803892493247986, 0.009754865430295467, 0.009754865430295467, 0.09487681090831757, 0.08569518476724625, 0.059680577367544174, 0.08110437542200089, 0.14996658265590668, 0.015302712097764015, 0.03825677931308746, 0.024484338238835335, 0.03672650828957558, 0.10405844449996948, 0.14231522381305695, 0.06274111568927765, 0.006121084559708834, 0.0795741006731987, 0.01836325414478779, 0.31730619072914124, 0.01269224751740694, 0.6282662153244019, 0.019038371741771698, 0.01269224751740694, 0.0014278523158282042, 0.11422818899154663, 0.012850671075284481, 0.017134228721261024, 0.004283557180315256, 0.1427852362394333, 0.2784312069416046, 0.08995469659566879, 0.0028557046316564083, 0.03569630905985832, 0.014278523623943329, 0.11137247830629349, 0.031412750482559204, 0.12422315031290054, 0.018562080338597298, 0.9279358983039856, 0.012949801981449127, 0.9582853317260742, 0.012949801981449127, 0.07945934683084488, 0.002407859079539776, 0.0072235772386193275, 0.004815718159079552, 0.03371002525091171, 0.002407859079539776, 0.1565108448266983, 0.019262872636318207, 0.009631436318159103, 0.014447154477238655, 0.040933605283498764, 0.08186721056699753, 0.07464363425970078, 0.46230894327163696, 0.0072235772386193275, 0.015047399327158928, 0.9479861855506897, 0.015047399327158928, 0.9343627095222473, 0.9669400453567505, 0.08253591507673264, 0.022509794682264328, 0.2000870555639267, 0.042518500238657, 0.05502394214272499, 0.03251414746046066, 0.012505440972745419, 0.01750761829316616, 0.010004352778196335, 0.03251414746046066, 0.047520674765110016, 0.24510665237903595, 0.05502394214272499, 0.0025010881945490837, 0.14006094634532928, 0.8645920157432556, 0.10807400196790695, 0.024883484467864037, 0.04976696893572807, 0.7962715029716492, 0.024883484467864037, 0.04976696893572807, 0.051510829478502274, 0.6321783661842346, 0.018731210380792618, 0.009365605190396309, 0.018731210380792618, 0.09365604817867279, 0.032779619097709656, 0.032779619097709656, 0.0046828025951981544, 0.014048407785594463, 0.08897324651479721, 0.009753662161529064, 0.9802430868148804, 0.004876831080764532, 0.14596527814865112, 0.19565558433532715, 0.05279595032334328, 0.0031056441366672516, 0.07764110714197159, 0.4037337601184845, 0.006211288273334503, 0.024845153093338013, 0.006211288273334503, 0.06832417100667953, 0.009316932410001755, 0.0031056441366672516, 0.916740894317627, 0.02839474193751812, 0.05678948387503624, 0.8944343328475952, 0.9735906720161438, 0.9446717500686646, 0.9440591931343079, 0.02776644565165043, 0.018510963767766953, 0.9665010571479797, 0.8142249584197998, 0.05088905990123749, 0.030533436685800552, 0.07124468684196472, 0.030533436685800552, 0.059631913900375366, 0.03100859560072422, 0.24091294407844543, 0.07394357770681381, 0.10733744502067566, 0.038164425641298294, 0.07871413230895996, 0.06917302310466766, 0.07871413230895996, 0.07632885128259659, 0.05724664032459259, 0.004770553205162287, 0.011926382780075073, 0.06917302310466766, 0.06465154141187668, 0.009235935285687447, 0.009235935285687447, 0.9143575429916382, 0.06416458636522293, 0.004277639091014862, 0.03849875181913376, 0.6159800291061401, 0.004277639091014862, 0.055609311908483505, 0.02138819545507431, 0.017110556364059448, 0.14971737563610077, 0.01283291820436716, 0.01283291820436716, 0.007295201066881418, 0.04133947193622589, 0.21156083047389984, 0.03404426947236061, 0.3428744375705719, 0.0024317335337400436, 0.03404426947236061, 0.009726934134960175, 0.004863467067480087, 0.0024317335337400436, 0.0024317335337400436, 0.3039667010307312, 0.028286930173635483, 0.004040990024805069, 0.09294276684522629, 0.004040990024805069, 0.016163960099220276, 0.004040990024805069, 0.5455336570739746, 0.012122970074415207, 0.008081980049610138, 0.004040990024805069, 0.23033642768859863, 0.04445089027285576, 0.08842240273952484, 0.13754595816135406, 0.003274903865531087, 0.06549807637929916, 0.009824711829423904, 0.4650363326072693, 0.03274903818964958, 0.022924326360225677, 0.003274903865531087, 0.006549807731062174, 0.05894826725125313, 0.01964942365884781, 0.0818725973367691, 0.006549807731062174, 0.2189648151397705, 0.024721834808588028, 0.01059507206082344, 0.02119014412164688, 0.07416550070047379, 0.03531690686941147, 0.01059507206082344, 0.03178521618247032, 0.10948240756988525, 0.40967610478401184, 0.028253525495529175, 0.024721834808588028, 0.04419897496700287, 0.008036176674067974, 0.004018088337033987, 0.09643412381410599, 0.004018088337033987, 0.020090442150831223, 0.032144706696271896, 0.6589665412902832, 0.1325969249010086, 0.9114596843719482, 0.5372495651245117, 0.009949065744876862, 0.0033163551706820726, 0.039796262979507446, 0.1227051392197609, 0.0033163551706820726, 0.006632710341364145, 0.01658177562057972, 0.01658177562057972, 0.1658177524805069, 0.0431126169860363, 0.03647990524768829, 0.22487987577915192, 0.6388632655143738, 0.030665436759591103, 0.005110905971378088, 0.04599815607070923, 0.04599815607070923, 0.005110905971378088, 0.10878106951713562, 0.025595545768737793, 0.06398886442184448, 0.006398886442184448, 0.006398886442184448, 0.6526864171028137, 0.04479220509529114, 0.012797772884368896, 0.03839331865310669, 0.025595545768737793, 0.9457019567489624, 0.03544800728559494, 0.9216482639312744, 0.01772400364279747, 0.11080875247716904, 0.006331928540021181, 0.01899578608572483, 0.3450901210308075, 0.05065542832016945, 0.015829822048544884, 0.02849367819726467, 0.022161750122904778, 0.0031659642700105906, 0.16146418452262878, 0.015829822048544884, 0.015829822048544884, 0.1551322489976883, 0.05065542832016945, 0.10026410967111588, 0.001496479264460504, 0.013468313962221146, 0.02693662792444229, 0.010475355200469494, 0.010475355200469494, 0.002992958528921008, 0.020950710400938988, 0.661443829536438, 0.014964792877435684, 0.011971834115684032, 0.12420777976512909, 0.9658594727516174, 0.9611901640892029, 0.37710753083229065, 0.6137859225273132, 0.0031557115726172924, 0.0015778557863086462, 0.0015778557863086462, 0.9478563666343689, 0.06841052323579788, 0.8893368244171143, 0.945722758769989, 0.9082545638084412, 0.9683972001075745, 0.026126258075237274, 0.07837877422571182, 0.05225251615047455, 0.8360402584075928, 0.9574307203292847, 0.9686119556427002, 0.9568514823913574, 0.00694876816123724, 0.09728275239467621, 0.0023162560537457466, 0.3034295439720154, 0.08338521420955658, 0.0648551657795906, 0.0324275828897953, 0.05790640041232109, 0.018530048429965973, 0.01621379144489765, 0.1806679666042328, 0.1297103315591812, 0.008458727039396763, 0.02114681899547577, 0.15648645162582397, 0.004229363519698381, 0.050752364099025726, 0.2114681899547577, 0.5413585305213928, 0.3452901840209961, 0.0031677999068051577, 0.019006798043847084, 0.6082175374031067, 0.0031677999068051577, 0.0031677999068051577, 0.0031677999068051577, 0.0031677999068051577, 0.01267119962722063, 0.02769782952964306, 0.02769782952964306, 0.05539565905928612, 0.8586326837539673, 0.920701801776886, 0.0033710370771586895, 0.5382422804832458, 0.015731506049633026, 0.08090489357709885, 0.0022473579738289118, 0.039328765124082565, 0.048318199813365936, 0.0011236789869144559, 0.02134990133345127, 0.0011236789869144559, 0.017978863790631294, 0.0011236789869144559, 0.20788061618804932, 0.02134990133345127, 0.9695606827735901, 0.9800175428390503, 0.9587914943695068, 0.028165996074676514, 0.25104475021362305, 0.0979686826467514, 0.062455035746097565, 0.013470694422721863, 0.026941388845443726, 0.06000582128763199, 0.009796868078410625, 0.0012246085098013282, 0.007347651291638613, 0.07102729380130768, 0.08327338099479675, 0.03551364690065384, 0.23267562687397003, 0.018369128927588463, 0.14336581528186798, 0.8028485774993896, 0.9903839230537415, 0.048828743398189545, 0.9277461171150208, 0.0033988982904702425, 0.2821085453033447, 0.040786780416965485, 0.1699449121952057, 0.397671103477478, 0.01699449121952057, 0.020393390208482742, 0.0645790696144104, 0.050872765481472015, 0.8139642477035522, 0.016957588493824005, 0.08478794246912003, 0.8814020752906799, 0.018362542614340782, 0.036725085228681564, 0.055087629705667496, 0.014103048481047153, 0.1269274353981018, 0.8532344698905945, 0.9674698114395142, 0.021859973669052124, 0.39852413535118103, 0.048764556646347046, 0.0016815364360809326, 0.0016815364360809326, 0.4388810098171234, 0.010089218616485596, 0.005044609308242798, 0.010089218616485596, 0.015133827924728394, 0.015133827924728394, 0.03194919228553772, 0.07060232013463974, 0.9252619743347168, 0.19506113231182098, 0.024382641538977623, 0.024382641538977623, 0.0162550937384367, 0.6583313345909119, 0.0162550937384367, 0.0650203749537468, 0.00812754686921835, 0.8808742761611938, 0.047799378633499146, 0.00682848272845149, 0.020485447719693184, 0.04097089543938637, 0.00682848272845149, 0.9277849197387695, 0.9205344319343567, 0.035609886050224304, 0.8012224435806274, 0.14243954420089722, 0.02382502891123295, 0.007941676303744316, 0.6671007871627808, 0.285900354385376, 0.14939825236797333, 0.005746086593717337, 0.06033390760421753, 0.2700660526752472, 0.02011130191385746, 0.0028730432968586683, 0.18962085247039795, 0.2643199861049652, 0.025857388973236084, 0.008619129657745361, 0.050324197858572006, 0.20129679143428802, 0.7297008633613586, 0.1803203970193863, 0.7985617518424988, 0.01288002822548151, 0.7382382750511169, 0.21092522144317627, 0.017577102407813072, 0.017577102407813072, 0.04855891689658165, 0.825501561164856, 0.04855891689658165, 0.04855891689658165, 0.03360220044851303, 0.20908035337924957, 0.026135044172406197, 0.02986862324178219, 0.0037335779052227736, 0.007467155810445547, 0.07093797624111176, 0.026135044172406197, 0.014934311620891094, 0.1418759524822235, 0.395759254693985, 0.02986862324178219, 0.0037335779052227736, 0.011200733482837677, 0.6625543236732483, 0.005044830031692982, 0.0016816100105643272, 0.006726440042257309, 0.21356447041034698, 0.0033632200211286545, 0.0033632200211286545, 0.01177127007395029, 0.010089660063385963, 0.03699541836977005, 0.042040251195430756, 0.0033632200211286545, 0.08754336088895798, 0.0019454079447314143, 0.14785100519657135, 0.06419846415519714, 0.10116121172904968, 0.009727039374411106, 0.02529030293226242, 0.11088825017213821, 0.03112652711570263, 0.048635199666023254, 0.029181119054555893, 0.07781631499528885, 0.013617855496704578, 0.027235710993409157, 0.2256673276424408, 0.9084798097610474, 0.01829487644135952, 0.007840661332011223, 0.08102016896009445, 0.0026135537773370743, 0.01829487644135952, 0.07840660959482193, 0.0026135537773370743, 0.010454215109348297, 0.039203304797410965, 0.08363372087478638, 0.6429342031478882, 0.013067768886685371, 0.03438183292746544, 0.09741518646478653, 0.06303335726261139, 0.09741518646478653, 0.6303336024284363, 0.005730305332690477, 0.011460610665380955, 0.02292122133076191, 0.02292122133076191, 0.005730305332690477, 0.32569006085395813, 0.0443347729742527, 0.6240971684455872, 0.9126220345497131, 0.03463117405772209, 0.005771862342953682, 0.011543724685907364, 0.9234979748725891, 0.011543724685907364, 0.005771862342953682, 0.9842680096626282, 0.9407621026039124, 0.0022399097215384245, 0.031358737498521805, 0.011199548840522766, 0.011199548840522766, 0.91913241147995, 0.9705968499183655, 0.004183637909591198, 0.03765273839235306, 0.2593855559825897, 0.008367275819182396, 0.025101827457547188, 0.14642731845378876, 0.06693820655345917, 0.04183637723326683, 0.012550913728773594, 0.3095892071723938, 0.025101827457547188, 0.06693820655345917, 0.046880561858415604, 0.8907306790351868, 0.9314102530479431, 0.9068586230278015, 0.03778577595949173, 0.9251832962036133, 0.14671866595745087, 0.0014820066280663013, 0.14227263629436493, 0.005928026512265205, 0.0014820066280663013, 0.0014820066280663013, 0.0014820066280663013, 0.0014820066280663013, 0.22971102595329285, 0.4594220519065857, 0.0014820066280663013, 0.004446019884198904, 0.004446019884198904, 0.9540702700614929, 0.014601126313209534, 0.16061238944530487, 0.0438033789396286, 0.014601126313209534, 0.7446573972702026, 0.00548889534547925, 0.06037784740328789, 0.9166455268859863, 0.0109777906909585, 0.9118750691413879, 0.9626457095146179, 0.006016535684466362, 0.012033071368932724, 0.006016535684466362, 0.006016535684466362, 0.9871599078178406, 0.8916807174682617, 0.09386113286018372, 0.9678475856781006], \"Term\": [\"ERA\", \"ETHER\", \"MHz\", \"MHz\", \"MHz\", \"absolute\", \"absolute\", \"absolute\", \"absolute\", \"absolute\", \"absolute\", \"absolute\", \"absolute\", \"absolute\", \"absolute\", \"abstinence\", \"academic\", \"academic\", \"academic\", \"academic\", \"academic\", \"academic\", \"accelerator\", \"accelerator\", \"accelerator\", \"access\", \"access\", \"access\", \"access\", \"access\", \"access\", \"access\", \"access\", \"access\", \"access\", \"access\", \"access\", \"access\", \"access\", \"accident\", \"accident\", \"accident\", \"accident\", \"accident\", \"accident\", \"accident\", \"accident\", \"accident\", \"accident\", \"accident\", \"accident\", \"accident\", \"accuire\", \"acid\", \"acid\", \"acid\", \"acid\", \"acid\", \"acidophilous\", \"act\", \"act\", \"act\", \"act\", \"act\", \"act\", \"act\", \"act\", \"act\", \"act\", \"act\", \"act\", \"act\", \"act\", \"act\", \"action\", \"action\", \"action\", \"action\", \"action\", \"action\", \"action\", \"action\", \"action\", \"action\", \"action\", \"action\", \"action\", \"action\", \"action\", \"adapter\", \"adapter\", \"adapter\", \"adapter\", \"adapter\", \"adapter\", \"adb\", \"administration\", \"administration\", \"administration\", \"administration\", \"administration\", \"administration\", \"administration\", \"administration\", \"administration\", \"afraid\", \"afraid\", \"afraid\", \"afraid\", \"afraid\", \"afraid\", \"afraid\", \"afraid\", \"afraid\", \"afraid\", \"afterlife\", \"agency\", \"agency\", \"agency\", \"agency\", \"agency\", \"agency\", \"agency\", \"agency\", \"agency\", \"agency\", \"agency\", \"agency\", \"agency\", \"air\", \"air\", \"air\", \"air\", \"air\", \"air\", \"air\", \"air\", \"air\", \"air\", \"air\", \"air\", \"air\", \"air\", \"albican\", \"alcohol\", \"alcohol\", \"alcohol\", \"alcohol\", \"alcohol\", \"algorithm\", \"algorithm\", \"algorithm\", \"algorithm\", \"algorithm\", \"algorithm\", \"algorithm\", \"algorithm\", \"algorithm\", \"algorithm\", \"algorithm\", \"algorythm\", \"algorythm\", \"allocation\", \"allocation\", \"allocation\", \"allocation\", \"american\", \"american\", \"american\", \"american\", \"american\", \"american\", \"american\", \"american\", \"american\", \"american\", \"american\", \"american\", \"american\", \"amino\", \"amp\", \"amp\", \"amp\", \"amp\", \"amp\", \"anal\", \"analgesic\", \"anecdotal\", \"anecdotal\", \"anecdotal\", \"animal\", \"animal\", \"animal\", \"animal\", \"animal\", \"animal\", \"animal\", \"animal\", \"animal\", \"animation\", \"animation\", \"anonymity\", \"anonymous\", \"anonymous\", \"anonymous\", \"anonymous\", \"anonymous\", \"anti\", \"anti\", \"anti\", \"anti\", \"anti\", \"anti\", \"anti\", \"anti\", \"anti\", \"anti\", \"anti\", \"anti\", \"anti\", \"antibiotic\", \"apartment\", \"apartment\", \"apartment\", \"apartment\", \"apartment\", \"api\", \"apocalypse\", \"apostle\", \"appear\", \"appear\", \"appear\", \"appear\", \"appear\", \"appear\", \"appear\", \"appear\", \"appear\", \"appear\", \"appear\", \"appear\", \"appear\", \"appear\", \"appear\", \"application\", \"application\", \"application\", \"application\", \"application\", \"application\", \"application\", \"application\", \"application\", \"application\", \"application\", \"application\", \"application\", \"application\", \"application\", \"arab\", \"arab\", \"arab\", \"arab\", \"arcade\", \"arcade\", \"args\", \"argue\", \"argue\", \"argue\", \"argue\", \"argue\", \"argue\", \"argue\", \"argue\", \"argue\", \"argue\", \"argue\", \"argue\", \"argue\", \"argue\", \"argument\", \"argument\", \"argument\", \"argument\", \"argument\", \"argument\", \"argument\", \"argument\", \"argument\", \"argument\", \"argument\", \"argument\", \"argument\", \"argument\", \"arm\", \"arm\", \"arm\", \"arm\", \"arm\", \"arm\", \"arm\", \"arm\", \"arm\", \"arm\", \"arm\", \"arm\", \"arm\", \"armenian\", \"armenian\", \"armenian\", \"armenian\", \"armenian\", \"arrest\", \"arrest\", \"arrest\", \"arrest\", \"arrest\", \"arrest\", \"arrest\", \"asking\", \"aspartame\", \"aspartame\", \"assailant\", \"asteroid\", \"asteroid\", \"astronaut\", \"astronomer\", \"astronomy\", \"astronomy\", \"asymmetric\", \"asynchronous\", \"asynchronous\", \"atheism\", \"atheism\", \"atheism\", \"atheism\", \"atheism\", \"atheist\", \"atheist\", \"atheist\", \"atheist\", \"atheist\", \"atheist\", \"atmosphere\", \"atmosphere\", \"atmosphere\", \"atmosphere\", \"atmosphere\", \"attack\", \"attack\", \"attack\", \"attack\", \"attack\", \"attack\", \"attack\", \"attack\", \"attack\", \"attack\", \"attack\", \"attack\", \"attack\", \"audio\", \"audio\", \"audio\", \"audio\", \"audio\", \"audio\", \"audio\", \"audio\", \"audio\", \"author\", \"author\", \"author\", \"author\", \"author\", \"author\", \"author\", \"author\", \"author\", \"author\", \"author\", \"author\", \"author\", \"author\", \"author\", \"authorization\", \"authorization\", \"authorization\", \"auto\", \"auto\", \"auto\", \"auto\", \"auto\", \"auto\", \"auto\", \"auto\", \"auto\", \"auto\", \"auto\", \"auto\", \"autobahn\", \"automatic\", \"automatic\", \"automatic\", \"automatic\", \"automatic\", \"automatic\", \"automatic\", \"automatic\", \"automatic\", \"automatic\", \"automotive\", \"automotive\", \"autonomy\", \"average\", \"average\", \"average\", \"average\", \"average\", \"average\", \"average\", \"average\", \"average\", \"average\", \"average\", \"average\", \"average\", \"average\", \"average\", \"awd\", \"aweto\", \"azeri\", \"azeri\", \"backcountry\", \"balcony\", \"balcony\", \"ball\", \"ball\", \"ball\", \"ball\", \"ball\", \"ball\", \"ball\", \"ball\", \"ball\", \"ball\", \"ban\", \"ban\", \"ban\", \"ban\", \"ban\", \"ban\", \"ban\", \"ban\", \"ban\", \"ban\", \"baptism\", \"baseball\", \"baseball\", \"baseball\", \"baseball\", \"baseball\", \"baseball\", \"baseball\", \"baseball\", \"baseball\", \"baseman\", \"bat\", \"bat\", \"bat\", \"bat\", \"bat\", \"bat\", \"batter\", \"batter\", \"batter\", \"battery\", \"battery\", \"battery\", \"battery\", \"battery\", \"battery\", \"battery\", \"battery\", \"battery\", \"battery\", \"batting\", \"baud\", \"baud\", \"bear\", \"bear\", \"bear\", \"bear\", \"bear\", \"bear\", \"bear\", \"bear\", \"bear\", \"bear\", \"bear\", \"bear\", \"bear\", \"bear\", \"beat\", \"beat\", \"beat\", \"beat\", \"beat\", \"beat\", \"beat\", \"beat\", \"beat\", \"beat\", \"beat\", \"beat\", \"beat\", \"beat\", \"bee\", \"bee\", \"belief\", \"belief\", \"belief\", \"belief\", \"belief\", \"belief\", \"belief\", \"belief\", \"benchmark\", \"benchmark\", \"benchmark\", \"benchmark\", \"bible\", \"bible\", \"bible\", \"biblical\", \"biblical\", \"biblical\", \"biblical\", \"bigs\", \"bike\", \"bike\", \"bike\", \"bike\", \"bike\", \"biker\", \"biker\", \"bill\", \"bill\", \"bill\", \"bill\", \"bill\", \"bill\", \"bill\", \"bill\", \"bill\", \"bill\", \"bill\", \"bill\", \"bill\", \"bios\", \"bios\", \"bios\", \"blaster\", \"block\", \"block\", \"block\", \"block\", \"block\", \"block\", \"block\", \"block\", \"block\", \"block\", \"block\", \"block\", \"block\", \"block\", \"block\", \"bloom\", \"bloom\", \"bloom\", \"blue\", \"blue\", \"blue\", \"blue\", \"blue\", \"blue\", \"blue\", \"blue\", \"blue\", \"blue\", \"blue\", \"blue\", \"blue\", \"board\", \"board\", \"board\", \"board\", \"board\", \"board\", \"board\", \"board\", \"board\", \"board\", \"board\", \"board\", \"body\", \"body\", \"body\", \"body\", \"body\", \"body\", \"body\", \"body\", \"body\", \"body\", \"body\", \"body\", \"body\", \"boiler\", \"bomb\", \"bomb\", \"bomb\", \"bomb\", \"bomb\", \"bomb\", \"bomb\", \"bomb\", \"bomb\", \"bona\", \"bosnian\", \"bosnian\", \"brain\", \"brain\", \"brain\", \"brain\", \"brain\", \"brain\", \"brain\", \"brain\", \"brain\", \"brain\", \"brain\", \"brain\", \"brain\", \"brake\", \"brake\", \"braking\", \"braking\", \"breaker\", \"breaker\", \"breaker\", \"brute\", \"brute\", \"brute\", \"brute\", \"bubblejet\", \"bullpen\", \"bus\", \"bus\", \"bus\", \"bus\", \"bus\", \"bus\", \"bus\", \"bus\", \"bus\", \"business\", \"business\", \"business\", \"business\", \"business\", \"business\", \"business\", \"business\", \"business\", \"business\", \"business\", \"business\", \"business\", \"business\", \"business\", \"busmastering\", \"butcher\", \"butcher\", \"cable\", \"cable\", \"cable\", \"cable\", \"cable\", \"cable\", \"cable\", \"cable\", \"cable\", \"cache\", \"cache\", \"cache\", \"cage\", \"cage\", \"cage\", \"cager\", \"cancer\", \"cancer\", \"cancer\", \"cancer\", \"cancer\", \"cancer\", \"cancer\", \"cancer\", \"candida\", \"cap\", \"cap\", \"cap\", \"cap\", \"cap\", \"cap\", \"cap\", \"cap\", \"cap\", \"capacitor\", \"capacitor\", \"captain\", \"carcinogenic\", \"carcinogenic\", \"career\", \"career\", \"career\", \"career\", \"career\", \"career\", \"career\", \"carry\", \"carry\", \"carry\", \"carry\", \"carry\", \"carry\", \"carry\", \"carry\", \"carry\", \"carry\", \"carry\", \"carry\", \"carry\", \"carry\", \"carry\", \"cary\", \"catcher\", \"catholic\", \"ccw\", \"cellular\", \"cellular\", \"cellular\", \"cellular\", \"cellular\", \"censor\", \"censor\", \"censor\", \"censor\", \"censor\", \"cereal\", \"champions\", \"champions\", \"char\", \"char\", \"charcoal\", \"chastity\", \"chastity\", \"child\", \"child\", \"child\", \"child\", \"child\", \"child\", \"child\", \"child\", \"child\", \"child\", \"child\", \"child\", \"child\", \"chimp\", \"chinese\", \"chinese\", \"chinese\", \"chinese\", \"chip\", \"chip\", \"chip\", \"chip\", \"chip\", \"chip\", \"chip\", \"chip\", \"chip\", \"chip\", \"chip\", \"chip\", \"chip\", \"chip\", \"chipset\", \"chipset\", \"chipset\", \"chipset\", \"choose\", \"choose\", \"choose\", \"choose\", \"choose\", \"choose\", \"choose\", \"choose\", \"choose\", \"choose\", \"choose\", \"choose\", \"choose\", \"choose\", \"choose\", \"christian\", \"christian\", \"christian\", \"christian\", \"christian\", \"christian\", \"christian\", \"christian\", \"church\", \"church\", \"church\", \"church\", \"church\", \"church\", \"cipher\", \"cipher\", \"ciphertext\", \"circuit\", \"circuit\", \"circuit\", \"circuit\", \"circuit\", \"circuit\", \"circuit\", \"circuit\", \"citizen\", \"citizen\", \"citizen\", \"citizen\", \"citizen\", \"citizen\", \"citizen\", \"citizen\", \"citizen\", \"citizen\", \"citizen\", \"citizen\", \"citizenship\", \"citizenship\", \"city\", \"city\", \"city\", \"city\", \"city\", \"city\", \"city\", \"city\", \"city\", \"city\", \"city\", \"city\", \"city\", \"city\", \"civil\", \"civil\", \"civil\", \"civil\", \"civil\", \"civil\", \"civil\", \"civil\", \"civil\", \"civil\", \"civil\", \"civilian\", \"civilian\", \"civilian\", \"civilian\", \"civilian\", \"civilian\", \"civilian\", \"civilian\", \"client\", \"client\", \"client\", \"client\", \"client\", \"client\", \"client\", \"clipper\", \"clipper\", \"clipper\", \"clipper\", \"clipper\", \"clipper\", \"clipper\", \"clock\", \"clock\", \"clock\", \"clock\", \"clock\", \"clock\", \"clock\", \"clock\", \"clock\", \"clock\", \"clock\", \"clock\", \"clutchless\", \"cmap\", \"coach\", \"coach\", \"coach\", \"coach\", \"coaching\", \"code\", \"code\", \"code\", \"code\", \"code\", \"code\", \"code\", \"code\", \"code\", \"code\", \"code\", \"code\", \"code\", \"code\", \"code\", \"cold\", \"cold\", \"cold\", \"cold\", \"cold\", \"cold\", \"cold\", \"cold\", \"cold\", \"cold\", \"cold\", \"cold\", \"collaborator\", \"color\", \"color\", \"color\", \"color\", \"color\", \"color\", \"color\", \"color\", \"color\", \"color\", \"color\", \"color\", \"color\", \"color\", \"colormap\", \"colormap\", \"colormap\", \"combustion\", \"combustion\", \"comet\", \"comet\", \"comet\", \"comic_strip\", \"commandment\", \"commandment\", \"commercial\", \"commercial\", \"commercial\", \"commercial\", \"commercial\", \"commercial\", \"commercial\", \"commercial\", \"commercial\", \"commercial\", \"commercial\", \"commercial\", \"commerical\", \"communication\", \"communication\", \"communication\", \"communication\", \"communication\", \"communication\", \"communication\", \"communication\", \"communication\", \"communication\", \"communication\", \"communication\", \"community\", \"community\", \"community\", \"community\", \"community\", \"community\", \"community\", \"community\", \"community\", \"community\", \"community\", \"community\", \"community\", \"company\", \"company\", \"company\", \"company\", \"company\", \"company\", \"company\", \"company\", \"company\", \"company\", \"company\", \"company\", \"company\", \"company\", \"company\", \"compare\", \"compare\", \"compare\", \"compare\", \"compare\", \"compare\", \"compare\", \"compare\", \"compare\", \"compare\", \"compare\", \"compare\", \"compare\", \"compare\", \"compare\", \"compartment\", \"compartment\", \"computergenerated\", \"conceal\", \"conceal\", \"conceal\", \"conceal\", \"conceal\", \"conceal\", \"conclusion\", \"conclusion\", \"conclusion\", \"conclusion\", \"conclusion\", \"conclusion\", \"conclusion\", \"conclusion\", \"conclusion\", \"conclusion\", \"conclusion\", \"cone\", \"cone\", \"cone\", \"congregation\", \"connector\", \"connector\", \"connector\", \"connector\", \"consecration\", \"consecration\", \"consecration\", \"constellation\", \"constitution\", \"constitution\", \"constitution\", \"constitution\", \"contact\", \"contact\", \"contact\", \"contact\", \"contact\", \"contact\", \"contact\", \"contact\", \"contact\", \"contact\", \"contact\", \"contact\", \"contact\", \"contact\", \"contest\", \"contest\", \"contest\", \"contest\", \"contest\", \"contest\", \"contest\", \"contest\", \"contest\", \"continue\", \"continue\", \"continue\", \"continue\", \"continue\", \"continue\", \"continue\", \"continue\", \"continue\", \"continue\", \"continue\", \"continue\", \"continue\", \"continue\", \"continue\", \"contract\", \"contract\", \"contract\", \"contract\", \"contract\", \"contract\", \"contract\", \"contract\", \"contract\", \"contract\", \"contract\", \"contrib\", \"contrib\", \"controler\", \"controller\", \"controller\", \"controller\", \"cool\", \"cool\", \"cool\", \"cool\", \"cool\", \"cool\", \"cool\", \"cool\", \"cool\", \"cool\", \"cool\", \"cool\", \"cool\", \"cop\", \"cop\", \"cop\", \"cop\", \"cop\", \"cop\", \"cop\", \"cop\", \"coprocessor\", \"coprocessor\", \"copy\", \"copy\", \"copy\", \"copy\", \"copy\", \"copy\", \"copy\", \"copy\", \"copy\", \"copy\", \"copy\", \"copy\", \"copy\", \"copy\", \"copy\", \"corporate\", \"corporate\", \"corporate\", \"corporate\", \"corporate\", \"corporate\", \"corporate\", \"countersteere\", \"countersteere\", \"court\", \"court\", \"court\", \"court\", \"court\", \"court\", \"court\", \"court\", \"court\", \"court\", \"court\", \"cover\", \"cover\", \"cover\", \"cover\", \"cover\", \"cover\", \"cover\", \"cover\", \"cover\", \"cover\", \"cover\", \"cover\", \"cover\", \"cover\", \"cover\", \"cpu\", \"cpu\", \"cpu\", \"cpu\", \"cpu\", \"cramm\", \"crater\", \"crease\", \"crime\", \"crime\", \"crime\", \"crime\", \"crime\", \"crime\", \"crime\", \"crime\", \"crime\", \"criminal\", \"criminal\", \"criminal\", \"criminal\", \"criminal\", \"criminal\", \"criminal\", \"criminal\", \"criminal\", \"crohn\", \"crucify\", \"cruel\", \"cruel\", \"cruel\", \"cruelty\", \"cruiser\", \"cryptanalysis\", \"cryptanalyst\", \"crypto\", \"crypto\", \"crypto\", \"crypto\", \"cryptographically\", \"cryptography\", \"cryptography\", \"cryptography\", \"cryptography\", \"cryptology\", \"cryptology\", \"cryptosystem\", \"cview\", \"cyl\", \"cylinder\", \"cylinder\", \"cylinder\", \"cylinder\", \"cylinder\", \"cypherpunk\", \"dangerous\", \"dangerous\", \"dangerous\", \"dangerous\", \"dangerous\", \"dangerous\", \"dangerous\", \"dangerous\", \"dangerous\", \"dangerous\", \"dangerous\", \"dangerous\", \"dangerous\", \"dangerous\", \"dangerous\", \"date\", \"date\", \"date\", \"date\", \"date\", \"date\", \"date\", \"date\", \"date\", \"date\", \"date\", \"date\", \"date\", \"date\", \"date\", \"datum\", \"datum\", \"datum\", \"datum\", \"datum\", \"datum\", \"datum\", \"datum\", \"datum\", \"datum\", \"datum\", \"datum\", \"datum\", \"datum\", \"deadly\", \"deadly\", \"deadly\", \"dealer\", \"dealer\", \"dealer\", \"dealer\", \"dealer\", \"dealer\", \"dealer\", \"dealer\", \"dealer\", \"dealer\", \"dealer\", \"dealer\", \"dealer\", \"death\", \"death\", \"death\", \"death\", \"death\", \"death\", \"death\", \"death\", \"death\", \"death\", \"death\", \"death\", \"death\", \"death\", \"decimal\", \"decrypt\", \"decrypt\", \"decrypt\", \"decrypt\", \"decryption\", \"decryption\", \"defense\", \"defense\", \"defense\", \"defense\", \"defense\", \"defense\", \"defense\", \"defense\", \"defense\", \"defense\", \"defenseman\", \"defenseman\", \"defensive\", \"defensive\", \"defensive\", \"defensive\", \"defensive\", \"defensive\", \"defensively\", \"deficit\", \"deficit\", \"demo\", \"demo\", \"demo\", \"demo\", \"demo\", \"democracy\", \"democracy\", \"democracy\", \"democracy\", \"democracy\", \"denizen\", \"deputy\", \"design\", \"design\", \"design\", \"design\", \"design\", \"design\", \"design\", \"design\", \"design\", \"design\", \"design\", \"design\", \"design\", \"design\", \"detector\", \"detector\", \"detector\", \"detention\", \"detention\", \"deterrent\", \"development\", \"development\", \"development\", \"development\", \"development\", \"development\", \"development\", \"development\", \"development\", \"development\", \"development\", \"development\", \"device\", \"device\", \"device\", \"device\", \"device\", \"device\", \"device\", \"device\", \"device\", \"device\", \"device\", \"device\", \"device\", \"diagnose\", \"diagnose\", \"diagnose\", \"diagnose\", \"die\", \"die\", \"die\", \"die\", \"die\", \"die\", \"die\", \"die\", \"die\", \"die\", \"die\", \"die\", \"die\", \"die\", \"die\", \"diesel\", \"diesel\", \"diet\", \"diet\", \"diet\", \"diet\", \"dietary\", \"diode\", \"diode\", \"diplomat\", \"directory\", \"directory\", \"directory\", \"directory\", \"directory\", \"directory\", \"disappointment\", \"disappointment\", \"disciple\", \"discs\", \"discussion\", \"discussion\", \"discussion\", \"discussion\", \"discussion\", \"discussion\", \"discussion\", \"discussion\", \"discussion\", \"discussion\", \"discussion\", \"discussion\", \"discussion\", \"discussion\", \"discussion\", \"disease\", \"disease\", \"disease\", \"disease\", \"disease\", \"disease\", \"disease\", \"disk\", \"disk\", \"disk\", \"disk\", \"disk\", \"disk\", \"disk\", \"disk\", \"disk\", \"disk\", \"disk\", \"display\", \"display\", \"display\", \"display\", \"display\", \"display\", \"display\", \"display\", \"display\", \"display\", \"display\", \"display\", \"display\", \"display\", \"display\", \"division\", \"division\", \"division\", \"division\", \"division\", \"division\", \"division\", \"division\", \"division\", \"division\", \"division\", \"doctor\", \"doctor\", \"doctor\", \"doctor\", \"doctor\", \"doctor\", \"doctor\", \"doctrinal\", \"doctrinal\", \"doctrine\", \"doctrine\", \"doctrine\", \"doctrine\", \"doctrine\", \"doctrine\", \"documentary\", \"documentary\", \"documentary\", \"dod\", \"dod\", \"dod\", \"dod\", \"dod\", \"dod\", \"dod\", \"dog\", \"dog\", \"dog\", \"dog\", \"dog\", \"dog\", \"dog\", \"dog\", \"dog\", \"door\", \"door\", \"door\", \"door\", \"door\", \"door\", \"door\", \"door\", \"door\", \"door\", \"door\", \"door\", \"door\", \"door\", \"dos\", \"dos\", \"dos\", \"dos\", \"dose\", \"dose\", \"dose\", \"dose\", \"drink\", \"drink\", \"drink\", \"drink\", \"drink\", \"drink\", \"drink\", \"drink\", \"drink\", \"drink\", \"drink\", \"driver\", \"driver\", \"driver\", \"driver\", \"driver\", \"driver\", \"driver\", \"driver\", \"driver\", \"driver\", \"driver\", \"driver\", \"driver\", \"drug\", \"drug\", \"drug\", \"drug\", \"drug\", \"drug\", \"drug\", \"drug\", \"drug\", \"drug\", \"eat\", \"eat\", \"eat\", \"eat\", \"eat\", \"eat\", \"eat\", \"eat\", \"eat\", \"eat\", \"eat\", \"eat\", \"eavesdrop\", \"eff\", \"effect\", \"effect\", \"effect\", \"effect\", \"effect\", \"effect\", \"effect\", \"effect\", \"effect\", \"effect\", \"effect\", \"effect\", \"effect\", \"effect\", \"effect\", \"effort\", \"effort\", \"effort\", \"effort\", \"effort\", \"effort\", \"effort\", \"effort\", \"effort\", \"effort\", \"effort\", \"effort\", \"effort\", \"effort\", \"effort\", \"egotism\", \"embargo\", \"empirical\", \"empirical\", \"emulator\", \"encrypt\", \"encrypt\", \"encrypt\", \"encrypt\", \"encrypt\", \"encrypt\", \"encryption\", \"encryption\", \"encryption\", \"encryption\", \"encryption\", \"encryption\", \"encryption\", \"encryption\", \"endometriosis\", \"enforcement\", \"enforcement\", \"enforcement\", \"enforcement\", \"enforcement\", \"enforcement\", \"enforcement\", \"enforcement\", \"enforcement\", \"enforcement\", \"engine\", \"engine\", \"engine\", \"engine\", \"engine\", \"engine\", \"engine\", \"engine\", \"engine\", \"engine\", \"engine\", \"entry\", \"entry\", \"entry\", \"entry\", \"entry\", \"entry\", \"entry\", \"entry\", \"entrys\", \"entryway\", \"envelop\", \"environmentalism\", \"epidemic\", \"equality\", \"erotica\", \"error\", \"error\", \"error\", \"error\", \"error\", \"error\", \"error\", \"error\", \"error\", \"error\", \"error\", \"error\", \"error\", \"error\", \"error\", \"escape\", \"escape\", \"escape\", \"escape\", \"escape\", \"escape\", \"escape\", \"escape\", \"escape\", \"escape\", \"escape\", \"escape\", \"escape\", \"escrow\", \"escrow\", \"escrow\", \"escrow\", \"escrow\", \"eternal\", \"eternal\", \"eternal\", \"eternal\", \"eternal\", \"ether\", \"ether\", \"evidence\", \"evidence\", \"evidence\", \"evidence\", \"evidence\", \"evidence\", \"evidence\", \"evidence\", \"evidence\", \"evidence\", \"evidence\", \"evil\", \"evil\", \"evil\", \"evil\", \"evil\", \"evil\", \"evil\", \"evil\", \"evil\", \"evil\", \"excommunication\", \"existence\", \"existence\", \"existence\", \"existence\", \"existence\", \"existence\", \"existence\", \"existence\", \"existence\", \"existence\", \"explosive\", \"explosive\", \"explosive\", \"explosive\", \"explosive\", \"explosive\", \"explosive\", \"exportable\", \"extermination\", \"extermination\", \"extermination\", \"face\", \"face\", \"face\", \"face\", \"face\", \"face\", \"face\", \"face\", \"face\", \"face\", \"face\", \"face\", \"face\", \"face\", \"face\", \"fairing\", \"faith\", \"faith\", \"faith\", \"faith\", \"faith\", \"faith\", \"faith\", \"faith\", \"faith\", \"fall\", \"fall\", \"fall\", \"fall\", \"fall\", \"fall\", \"fall\", \"fall\", \"fall\", \"fall\", \"fall\", \"fall\", \"fall\", \"fall\", \"fallacy\", \"fallacy\", \"fallacy\", \"family\", \"family\", \"family\", \"family\", \"family\", \"family\", \"family\", \"family\", \"family\", \"family\", \"family\", \"family\", \"family\", \"family\", \"family\", \"fan\", \"fan\", \"fan\", \"fan\", \"fan\", \"fan\", \"fan\", \"fan\", \"fan\", \"fan\", \"fan\", \"fasad\", \"fasst\", \"fast\", \"fast\", \"fast\", \"fast\", \"fast\", \"fast\", \"fast\", \"fast\", \"fast\", \"fast\", \"fast\", \"fast\", \"fast\", \"fast\", \"fatwa\", \"fax\", \"fax\", \"fax\", \"fax\", \"fax\", \"fax\", \"fax\", \"fax\", \"fax\", \"fax\", \"fax\", \"fax\", \"fax\", \"fax\", \"fax\", \"felon\", \"felon\", \"felony\", \"felony\", \"fide\", \"fielder\", \"filename\", \"filename\", \"finish\", \"finish\", \"finish\", \"finish\", \"finish\", \"finish\", \"finish\", \"finish\", \"finish\", \"finish\", \"finish\", \"finish\", \"finish\", \"finish\", \"finnish\", \"finnish\", \"fire\", \"fire\", \"fire\", \"fire\", \"fire\", \"fire\", \"fire\", \"fire\", \"fire\", \"fire\", \"fire\", \"fire\", \"fire\", \"fire\", \"fire\", \"firearm\", \"firearm\", \"firearm\", \"firearm\", \"firm\", \"firm\", \"firm\", \"firm\", \"firm\", \"firm\", \"firm\", \"firm\", \"flattery\", \"flight\", \"flight\", \"flight\", \"flight\", \"flight\", \"flight\", \"flight\", \"floppy\", \"floppy\", \"floppy\", \"floppy\", \"flyby\", \"flyer\", \"flyer\", \"flyer\", \"fmg\", \"foke\", \"font\", \"font\", \"font\", \"font\", \"font\", \"food\", \"food\", \"food\", \"food\", \"food\", \"food\", \"food\", \"food\", \"food\", \"food\", \"food\", \"food\", \"foot\", \"foot\", \"foot\", \"foot\", \"foot\", \"foot\", \"foot\", \"foot\", \"foot\", \"foot\", \"foot\", \"foot\", \"foot\", \"foot\", \"format\", \"format\", \"format\", \"format\", \"format\", \"format\", \"format\", \"format\", \"format\", \"format\", \"forsale\", \"forsale\", \"forsale\", \"fpu\", \"franchise\", \"franchise\", \"franchise\", \"freedom\", \"freedom\", \"freedom\", \"freedom\", \"freedom\", \"freedom\", \"freedom\", \"freedom\", \"freedom\", \"freeway\", \"freon\", \"ftp\", \"ftp\", \"ftp\", \"ftp\", \"ftp\", \"ftp\", \"ftp\", \"ftp\", \"function\", \"function\", \"function\", \"function\", \"function\", \"function\", \"function\", \"function\", \"function\", \"function\", \"function\", \"function\", \"function\", \"function\", \"function\", \"fund\", \"fund\", \"fund\", \"fund\", \"fund\", \"fund\", \"fund\", \"fund\", \"fungal\", \"fungus\", \"galaxy\", \"gang\", \"gang\", \"gang\", \"gang\", \"gang\", \"gang\", \"gang\", \"gas\", \"gas\", \"gas\", \"gas\", \"gas\", \"gas\", \"gas\", \"gas\", \"gas\", \"gas\", \"gas\", \"gcc\", \"gear\", \"gear\", \"gear\", \"gear\", \"gear\", \"gear\", \"gear\", \"genocide\", \"genocide\", \"genocide\", \"genocide\", \"genocide\", \"ghetto\", \"ghetto\", \"glutamate\", \"goal\", \"goal\", \"goal\", \"goal\", \"goal\", \"goal\", \"goal\", \"goal\", \"goal\", \"goal\", \"goal\", \"goal\", \"goal\", \"goalie\", \"goalie\", \"goalie\", \"goalie\", \"god\", \"god\", \"god\", \"god\", \"god\", \"god\", \"god\", \"god\", \"goose\", \"gospel\", \"gospel\", \"graphic\", \"graphic\", \"graphic\", \"graphic\", \"graphic\", \"graphic\", \"graphic\", \"graphic\", \"graphical\", \"gravitational\", \"gravity\", \"gravity\", \"gravity\", \"gravity\", \"gravity\", \"grayscale\", \"grenade\", \"grenade\", \"gridlock\", \"ground\", \"ground\", \"ground\", \"ground\", \"ground\", \"ground\", \"ground\", \"ground\", \"ground\", \"ground\", \"ground\", \"ground\", \"ground\", \"ground\", \"ground\", \"guerilla\", \"guerilla\", \"gun\", \"gun\", \"gun\", \"gun\", \"gun\", \"gun\", \"gun\", \"gun\", \"gun\", \"gun\", \"gun\", \"ham\", \"ham\", \"ham\", \"hander\", \"handgun\", \"handgun\", \"handgun\", \"handlebar\", \"happend\", \"harddisk\", \"hardware\", \"hardware\", \"hardware\", \"hardware\", \"hardware\", \"hardware\", \"hardware\", \"hardware\", \"hardware\", \"hardware\", \"hardware\", \"hardware\", \"hardware\", \"harvard\", \"harvard\", \"hdd\", \"head\", \"head\", \"head\", \"head\", \"head\", \"head\", \"head\", \"head\", \"head\", \"head\", \"head\", \"head\", \"head\", \"head\", \"head\", \"health\", \"health\", \"health\", \"health\", \"health\", \"health\", \"health\", \"health\", \"heart\", \"heart\", \"heart\", \"heart\", \"heart\", \"heart\", \"heart\", \"heart\", \"heart\", \"heart\", \"heart\", \"heart\", \"heartless\", \"heat\", \"heat\", \"heat\", \"heat\", \"heat\", \"heat\", \"heat\", \"heat\", \"heat\", \"heat\", \"heat\", \"heat\", \"heat\", \"hell\", \"hell\", \"hell\", \"hell\", \"hell\", \"hell\", \"hell\", \"hell\", \"hell\", \"hell\", \"hell\", \"hell\", \"hell\", \"hell\", \"hell\", \"henrik\", \"hernia\", \"history\", \"history\", \"history\", \"history\", \"history\", \"history\", \"history\", \"history\", \"history\", \"history\", \"history\", \"history\", \"history\", \"history\", \"history\", \"hit\", \"hit\", \"hit\", \"hit\", \"hit\", \"hit\", \"hit\", \"hit\", \"hit\", \"hit\", \"hit\", \"hit\", \"hit\", \"hit\", \"hitter\", \"hitter\", \"hitting\", \"hockey\", \"hockey\", \"hockey\", \"hockey\", \"hockey\", \"hog\", \"holster\", \"homeland\", \"homeland\", \"homeopathic\", \"homeopathy\", \"homer\", \"homer\", \"homicide\", \"homicide\", \"hospital\", \"hospital\", \"hospital\", \"hospital\", \"hospital\", \"hospital\", \"hospital\", \"hot\", \"hot\", \"hot\", \"hot\", \"hot\", \"hot\", \"hot\", \"hot\", \"hot\", \"hot\", \"hot\", \"hot\", \"hot\", \"hot\", \"hot\", \"hour\", \"hour\", \"hour\", \"hour\", \"hour\", \"hour\", \"hour\", \"hour\", \"hour\", \"hour\", \"hour\", \"hour\", \"hour\", \"hour\", \"hour\", \"human\", \"human\", \"human\", \"human\", \"human\", \"human\", \"human\", \"human\", \"human\", \"human\", \"human\", \"human\", \"human\", \"hunting\", \"hunting\", \"hunting\", \"hunting\", \"hypocrite\", \"hypocrite\", \"hypothesis\", \"hypothesis\", \"hypothesis\", \"hypothesis\", \"hypothesis\", \"hypothesis\", \"ice\", \"ice\", \"ice\", \"ice\", \"ice\", \"ice\", \"ice\", \"ice\", \"icon\", \"identity\", \"identity\", \"identity\", \"identity\", \"identity\", \"identity\", \"ideological\", \"ideological\", \"iftccu\", \"ignite\", \"ignite\", \"ignite\", \"illness\", \"illness\", \"illness\", \"ima\", \"ima\", \"image\", \"image\", \"image\", \"image\", \"image\", \"image\", \"image\", \"image\", \"image\", \"image\", \"image\", \"image\", \"image\", \"imake\", \"immune\", \"immune\", \"immune\", \"impedance\", \"impedance\", \"implimente\", \"imprison\", \"imprisonment\", \"imprisonment\", \"income\", \"income\", \"income\", \"income\", \"income\", \"incompatability\", \"inductive\", \"infection\", \"infield\", \"inflatable\", \"inflatable\", \"infringe\", \"infringe\", \"inhibitor\", \"inimitable\", \"inimitable\", \"iniquity\", \"injector\", \"inning\", \"innings\", \"innings\", \"innocent\", \"innocent\", \"innocent\", \"innocent\", \"innocent\", \"innocent\", \"innocent\", \"innocent\", \"input\", \"input\", \"input\", \"input\", \"input\", \"input\", \"input\", \"input\", \"input\", \"input\", \"input\", \"input\", \"instinctive\", \"int\", \"int\", \"int\", \"int\", \"int\", \"int\", \"interactive\", \"interface\", \"interface\", \"interface\", \"interface\", \"interface\", \"interface\", \"interface\", \"interlaced\", \"interleave\", \"interleave\", \"interoperate\", \"interpretation\", \"interpretation\", \"interpretation\", \"interpretation\", \"interpretation\", \"interpretation\", \"interpretation\", \"interpretation\", \"interpretation\", \"inverter\", \"ioccc\", \"iranian\", \"irq\", \"islamic\", \"islamic\", \"islamic\", \"islamic\", \"islamic\", \"islamic\", \"israeli\", \"israeli\", \"israeli\", \"israelis\", \"jewish\", \"jewish\", \"jewish\", \"jewish\", \"jewish\", \"jewish\", \"jewish\", \"job\", \"job\", \"job\", \"job\", \"job\", \"job\", \"job\", \"job\", \"job\", \"job\", \"job\", \"job\", \"job\", \"job\", \"jumper\", \"jumper\", \"jumper\", \"jury\", \"jury\", \"jury\", \"jury\", \"jury\", \"jury\", \"keyboard\", \"keyboard\", \"keyboard\", \"keyboard\", \"keyboard\", \"keyboard\", \"keycode\", \"keycode\", \"keyphrase\", \"keyseach\", \"keyseach\", \"keyspace\", \"kibbutz\", \"kid\", \"kid\", \"kid\", \"kid\", \"kid\", \"kid\", \"kid\", \"kid\", \"kid\", \"kid\", \"kid\", \"kid\", \"kid\", \"knife\", \"knife\", \"knife\", \"knife\", \"knife\", \"land\", \"land\", \"land\", \"land\", \"land\", \"land\", \"land\", \"land\", \"land\", \"land\", \"land\", \"land\", \"land\", \"lane\", \"lane\", \"lane\", \"language\", \"language\", \"language\", \"language\", \"language\", \"language\", \"language\", \"language\", \"language\", \"language\", \"language\", \"language\", \"language\", \"later\", \"later\", \"later\", \"later\", \"later\", \"later\", \"later\", \"later\", \"later\", \"later\", \"later\", \"later\", \"later\", \"later\", \"later\", \"laughter\", \"laughter\", \"launch\", \"launch\", \"launch\", \"launch\", \"launch\", \"launch\", \"launch\", \"launch\", \"launch\", \"layman\", \"league\", \"league\", \"league\", \"league\", \"league\", \"lebanese\", \"lebanese\", \"left\", \"left\", \"left\", \"left\", \"left\", \"left\", \"left\", \"left\", \"left\", \"left\", \"left\", \"left\", \"left\", \"legalization\", \"legalization\", \"lethal\", \"lethal\", \"lethal\", \"lethal\", \"lethal\", \"lethal\", \"lexicon\", \"lib\", \"lib\", \"lib\", \"libertarian\", \"libertarian\", \"libertarian\", \"libertarian\", \"libertarian\", \"libertarianism\", \"library\", \"library\", \"library\", \"library\", \"library\", \"library\", \"library\", \"library\", \"library\", \"library\", \"library\", \"library\", \"library\", \"library\", \"license\", \"license\", \"license\", \"license\", \"license\", \"license\", \"license\", \"license\", \"license\", \"license\", \"license\", \"license\", \"light\", \"light\", \"light\", \"light\", \"light\", \"light\", \"light\", \"light\", \"light\", \"light\", \"light\", \"light\", \"light\", \"light\", \"light\", \"lighten\", \"likely\", \"likely\", \"likely\", \"likely\", \"likely\", \"likely\", \"likely\", \"likely\", \"likely\", \"likely\", \"likely\", \"likely\", \"likely\", \"likely\", \"likely\", \"liquor\", \"liter\", \"liter\", \"liter\", \"liturgy\", \"major\", \"major\", \"major\", \"major\", \"major\", \"major\", \"major\", \"major\", \"major\", \"major\", \"major\", \"major\", \"major\", \"major\", \"major\", \"malpractice\", \"manager\", \"manager\", \"manager\", \"manager\", \"manager\", \"manager\", \"manager\", \"manager\", \"manditory\", \"market\", \"market\", \"market\", \"market\", \"market\", \"market\", \"market\", \"market\", \"market\", \"market\", \"market\", \"market\", \"market\", \"market\", \"market\", \"martian\", \"massacre\", \"massacre\", \"massacre\", \"matchup\", \"material\", \"material\", \"material\", \"material\", \"material\", \"material\", \"material\", \"material\", \"material\", \"material\", \"material\", \"material\", \"material\", \"material\", \"max\", \"max\", \"medical\", \"medical\", \"medical\", \"medical\", \"medical\", \"medical\", \"medical\", \"medical\", \"medical\", \"medical\", \"medical\", \"medication\", \"medication\", \"medication\", \"medication\", \"medicine\", \"medicine\", \"medicine\", \"medicine\", \"medicine\", \"medicine\", \"medicine\", \"meg\", \"meg\", \"meg\", \"meg\", \"member\", \"member\", \"member\", \"member\", \"member\", \"member\", \"member\", \"member\", \"member\", \"member\", \"member\", \"member\", \"member\", \"member\", \"member\", \"memoir\", \"memory\", \"memory\", \"memory\", \"memory\", \"memory\", \"memory\", \"memory\", \"memory\", \"memory\", \"memory\", \"memory\", \"memory\", \"memory\", \"memory\", \"messiah\", \"messiah\", \"metabolic\", \"metaphor\", \"metaphor\", \"metaphor\", \"methodology\", \"methodology\", \"mfm\", \"mhz\", \"microcircuit\", \"microdistrict\", \"microsecond\", \"mideast\", \"midi\", \"migraine\", \"migraine\", \"mile\", \"mile\", \"mile\", \"mile\", \"mile\", \"mile\", \"mile\", \"mile\", \"mile\", \"mile\", \"mile\", \"mile\", \"mile\", \"militarily\", \"militarily\", \"military\", \"military\", \"military\", \"military\", \"military\", \"military\", \"military\", \"military\", \"military\", \"military\", \"military\", \"militia\", \"militia\", \"militia\", \"mime\", \"minivan\", \"minor\", \"minor\", \"minor\", \"minor\", \"minor\", \"minor\", \"minor\", \"minor\", \"minor\", \"minor\", \"minor\", \"minor\", \"minor\", \"minority\", \"minority\", \"minority\", \"minority\", \"minority\", \"minority\", \"minority\", \"minus\", \"misconduct\", \"misfire\", \"mission\", \"mission\", \"mission\", \"mission\", \"mission\", \"mission\", \"mission\", \"mission\", \"mit\", \"mixer\", \"mixer\", \"mixer\", \"mode\", \"mode\", \"mode\", \"mode\", \"mode\", \"mode\", \"mode\", \"mode\", \"mode\", \"mode\", \"mode\", \"mode\", \"mode\", \"model\", \"model\", \"model\", \"model\", \"model\", \"model\", \"model\", \"model\", \"model\", \"model\", \"model\", \"model\", \"model\", \"modem\", \"modem\", \"modem\", \"modem\", \"modem\", \"monitor\", \"monitor\", \"monitor\", \"monitor\", \"monitor\", \"monitor\", \"monitor\", \"monitor\", \"monitor\", \"monitor\", \"monitor\", \"monosodium\", \"moon\", \"moon\", \"moon\", \"moon\", \"moon\", \"moon\", \"moon\", \"moon\", \"moonbase\", \"moral\", \"moral\", \"moral\", \"moral\", \"moral\", \"moral\", \"moral\", \"moral\", \"moral\", \"moral\", \"moral\", \"morality\", \"morality\", \"morality\", \"morality\", \"morality\", \"mosfet\", \"motherboard\", \"motherboard\", \"motherboard\", \"motif\", \"motif\", \"motif\", \"motif\", \"motif\", \"motorcycle\", \"motorcycle\", \"motorcycle\", \"motorcycle\", \"motto\", \"motto\", \"motto\", \"motto\", \"motto\", \"mountain\", \"mountain\", \"mountain\", \"mountain\", \"mountain\", \"mountain\", \"mountain\", \"mountain\", \"mouse\", \"mouse\", \"mouse\", \"mouse\", \"mouse\", \"mouse\", \"mouse\", \"mouse\", \"mph\", \"mph\", \"mph\", \"msg\", \"msg\", \"murder\", \"murder\", \"murder\", \"murder\", \"murder\", \"murder\", \"murder\", \"murder\", \"murder\", \"murder\", \"muslim\", \"muslim\", \"muslim\", \"muslim\", \"napalm\", \"napalm\", \"natural\", \"natural\", \"natural\", \"natural\", \"natural\", \"natural\", \"natural\", \"natural\", \"natural\", \"natural\", \"natural\", \"natural\", \"nature\", \"nature\", \"nature\", \"nature\", \"nature\", \"nature\", \"nature\", \"nature\", \"nature\", \"nature\", \"nature\", \"nature\", \"nature\", \"nature\", \"nature\", \"negotiation\", \"negotiation\", \"negotiation\", \"negotiation\", \"neighbor\", \"neighbor\", \"neighbor\", \"neighbor\", \"neighbor\", \"neighbor\", \"neighbor\", \"neighbor\", \"neighbor\", \"neighbor\", \"neon\", \"net\", \"net\", \"net\", \"net\", \"net\", \"net\", \"net\", \"net\", \"net\", \"net\", \"net\", \"net\", \"net\", \"net\", \"net\", \"network\", \"network\", \"network\", \"network\", \"network\", \"network\", \"network\", \"network\", \"network\", \"network\", \"network\", \"network\", \"network\", \"newsgroup\", \"newsgroup\", \"newsgroup\", \"newsgroup\", \"newsgroup\", \"newsgroup\", \"newsgroup\", \"newsgroup\", \"newsgroup\", \"newsgroup\", \"newsgroup\", \"newsgroup\", \"newsgroup\", \"newsgroup\", \"newsgroup\", \"nosebleed\", \"nuclear\", \"nuclear\", \"nuclear\", \"nuclear\", \"nuclear\", \"nuclear\", \"nuclear\", \"object\", \"object\", \"object\", \"object\", \"object\", \"object\", \"object\", \"object\", \"object\", \"object\", \"object\", \"object\", \"object\", \"object\", \"objective\", \"objective\", \"objective\", \"objective\", \"objective\", \"objective\", \"objective\", \"objective\", \"objective\", \"objective\", \"obp\", \"octopus\", \"odometer\", \"odometer\", \"offense\", \"offense\", \"offense\", \"offense\", \"offense\", \"offense\", \"offense\", \"offense\", \"offense\", \"offensively\", \"official\", \"official\", \"official\", \"official\", \"official\", \"official\", \"official\", \"official\", \"official\", \"official\", \"official\", \"official\", \"official\", \"official\", \"official\", \"oil\", \"oil\", \"oil\", \"oil\", \"oil\", \"oil\", \"oil\", \"open\", \"open\", \"open\", \"open\", \"open\", \"open\", \"open\", \"open\", \"open\", \"open\", \"open\", \"open\", \"open\", \"open\", \"open\", \"orbit\", \"orbit\", \"orbit\", \"orbital\", \"orbital\", \"orbital\", \"orbiter\", \"organization\", \"organization\", \"organization\", \"organization\", \"organization\", \"organization\", \"organization\", \"organization\", \"organization\", \"organization\", \"organization\", \"organization\", \"organization\", \"organization\", \"organization\", \"ottoman\", \"outbreak\", \"outbreak\", \"outbreak\", \"outlet\", \"outlet\", \"outlet\", \"outlet\", \"outlet\", \"outlet\", \"output\", \"output\", \"output\", \"output\", \"output\", \"output\", \"output\", \"output\", \"output\", \"oven\", \"oven\", \"oversampling\", \"owner\", \"owner\", \"owner\", \"owner\", \"owner\", \"owner\", \"owner\", \"owner\", \"owner\", \"owner\", \"owner\", \"owner\", \"owner\", \"owner\", \"ozone\", \"ozone\", \"ozone\", \"package\", \"package\", \"package\", \"package\", \"package\", \"package\", \"package\", \"package\", \"package\", \"package\", \"package\", \"package\", \"paganism\", \"pain\", \"pain\", \"pain\", \"pain\", \"pain\", \"pain\", \"pain\", \"pain\", \"pain\", \"pain\", \"pantheism\", \"parable\", \"parish\", \"pass\", \"pass\", \"pass\", \"pass\", \"pass\", \"pass\", \"pass\", \"pass\", \"pass\", \"pass\", \"pass\", \"pass\", \"pass\", \"pass\", \"pass\", \"passage\", \"passage\", \"passage\", \"passage\", \"passage\", \"passage\", \"passage\", \"passage\", \"patent\", \"patent\", \"patent\", \"patent\", \"pathogen\", \"patient\", \"patient\", \"patient\", \"patient\", \"patient\", \"patient\", \"payload\", \"payload\", \"payload\", \"pcb\", \"pcb\", \"peace\", \"peace\", \"peace\", \"peace\", \"peace\", \"peace\", \"peace\", \"peace\", \"peace\", \"peace\", \"peace\", \"pedal\", \"pedal\", \"penalty\", \"penalty\", \"penalty\", \"penalty\", \"penalty\", \"penalty\", \"penalty\", \"penalty\", \"penalty\", \"pennant\", \"pentium\", \"performance\", \"performance\", \"performance\", \"performance\", \"performance\", \"performance\", \"performance\", \"performance\", \"performance\", \"performance\", \"performance\", \"performance\", \"performance\", \"performance\", \"period\", \"period\", \"period\", \"period\", \"period\", \"period\", \"period\", \"period\", \"period\", \"period\", \"period\", \"period\", \"permutation\", \"permutation\", \"phenylalanine\", \"photography\", \"physician\", \"physician\", \"physician\", \"physician\", \"pick\", \"pick\", \"pick\", \"pick\", \"pick\", \"pick\", \"pick\", \"pick\", \"pick\", \"pick\", \"pick\", \"pick\", \"pick\", \"pick\", \"pick\", \"pin\", \"pin\", \"pin\", \"pin\", \"pin\", \"pin\", \"pin\", \"pin\", \"pin\", \"pistol\", \"pistol\", \"piston\", \"piston\", \"pitch\", \"pitch\", \"pitch\", \"pitch\", \"pitch\", \"pitch\", \"pitch\", \"pitch\", \"pitcher\", \"pitching\", \"pixel\", \"pixel\", \"pixel\", \"pixel\", \"pixel\", \"pixmap\", \"pixmap\", \"plaintext\", \"plaintext\", \"plaintext\", \"plaintiff\", \"plan\", \"plan\", \"plan\", \"plan\", \"plan\", \"plan\", \"plan\", \"plan\", \"plan\", \"plan\", \"plan\", \"plan\", \"plan\", \"plan\", \"plan\", \"planetary\", \"planetary\", \"plant\", \"plant\", \"plant\", \"plant\", \"plant\", \"plant\", \"plant\", \"plant\", \"plant\", \"plant\", \"plant\", \"plasma\", \"platoon\", \"player\", \"player\", \"player\", \"player\", \"player\", \"player\", \"player\", \"playoff\", \"playoff\", \"playoff\", \"plotting\", \"plugger\", \"plugger\", \"plutonium\", \"plutonium\", \"plutonium\", \"poer\", \"pogrom\", \"poisonous\", \"police\", \"police\", \"police\", \"police\", \"police\", \"police\", \"police\", \"police\", \"police\", \"police\", \"policy\", \"policy\", \"policy\", \"policy\", \"policy\", \"policy\", \"policy\", \"policy\", \"policy\", \"policy\", \"policy\", \"policy\", \"policy\", \"political\", \"political\", \"political\", \"political\", \"political\", \"political\", \"political\", \"political\", \"political\", \"political\", \"political\", \"polygon\", \"polygon\", \"poo\", \"population\", \"population\", \"population\", \"population\", \"population\", \"population\", \"population\", \"population\", \"population\", \"population\", \"population\", \"population\", \"popup\", \"popup\", \"popup\", \"port\", \"port\", \"port\", \"port\", \"port\", \"port\", \"port\", \"port\", \"posting\", \"posting\", \"posting\", \"posting\", \"posting\", \"posting\", \"posting\", \"posting\", \"posting\", \"posting\", \"posting\", \"posting\", \"posting\", \"posting\", \"posting\", \"postscript\", \"powerpc\", \"powerpc\", \"powerplay\", \"pray\", \"pray\", \"pray\", \"pray\", \"pray\", \"pray\", \"pray\", \"pray\", \"pray\", \"prayer\", \"prayer\", \"predicate\", \"premise\", \"premise\", \"premise\", \"premise\", \"premise\", \"premise\", \"premise\", \"press\", \"press\", \"press\", \"press\", \"press\", \"press\", \"press\", \"press\", \"press\", \"press\", \"press\", \"press\", \"press\", \"press\", \"prevention\", \"prevention\", \"previewer\", \"priest\", \"priest\", \"priest\", \"priest\", \"priest\", \"print\", \"print\", \"print\", \"print\", \"print\", \"print\", \"print\", \"print\", \"print\", \"print\", \"print\", \"print\", \"printer\", \"printer\", \"printer\", \"printer\", \"privacy\", \"privacy\", \"privacy\", \"privacy\", \"privacy\", \"privacy\", \"private\", \"private\", \"private\", \"private\", \"private\", \"private\", \"private\", \"private\", \"private\", \"private\", \"private\", \"private\", \"private\", \"private\", \"prize\", \"prize\", \"prize\", \"prize\", \"prize\", \"prize\", \"prize\", \"prize\", \"prize\", \"probe\", \"probe\", \"probe\", \"probe\", \"proceeding\", \"proceeding\", \"proceeding\", \"proceeding\", \"proceeding\", \"product\", \"product\", \"product\", \"product\", \"product\", \"product\", \"product\", \"product\", \"product\", \"product\", \"product\", \"product\", \"product\", \"product\", \"project\", \"project\", \"project\", \"project\", \"project\", \"project\", \"project\", \"project\", \"project\", \"project\", \"project\", \"project\", \"project\", \"project\", \"projector\", \"projector\", \"projector\", \"promiscuous\", \"propaganda\", \"propaganda\", \"prophecy\", \"prophecy\", \"prophecy\", \"prophecy\", \"prophet\", \"prophet\", \"prophet\", \"prophet\", \"proposition\", \"proposition\", \"proposition\", \"proposition\", \"proposition\", \"propulsion\", \"prosecution\", \"prosecution\", \"prosecution\", \"protect\", \"protect\", \"protect\", \"protect\", \"protect\", \"protect\", \"protect\", \"protect\", \"protect\", \"protect\", \"protect\", \"protect\", \"protect\", \"protect\", \"protein\", \"protein\", \"protestant\", \"protestant\", \"prove\", \"prove\", \"prove\", \"prove\", \"prove\", \"prove\", \"prove\", \"prove\", \"prove\", \"prove\", \"prove\", \"prove\", \"prove\", \"prove\", \"prove\", \"province\", \"province\", \"province\", \"province\", \"psalm\", \"pt\", \"pub\", \"pub\", \"pub\", \"pub\", \"pub\", \"pub\", \"pub\", \"puck\", \"puck\", \"puke\", \"pump\", \"pump\", \"pump\", \"pump\", \"pump\", \"pump\", \"purse\", \"quack\", \"quack\", \"quote\", \"quote\", \"quote\", \"quote\", \"quote\", \"quote\", \"quote\", \"quote\", \"quote\", \"quote\", \"quote\", \"quote\", \"quote\", \"quote\", \"racist\", \"racist\", \"racist\", \"radar\", \"radar\", \"radar\", \"radii\", \"radio\", \"radio\", \"radio\", \"radio\", \"radio\", \"radio\", \"radio\", \"radio\", \"radio\", \"radio\", \"radio\", \"radio\", \"radio\", \"radio\", \"radio\", \"ram\", \"ram\", \"ram\", \"ram\", \"ram\", \"ram\", \"random\", \"random\", \"random\", \"random\", \"random\", \"random\", \"random\", \"random\", \"random\", \"random\", \"random\", \"random\", \"rate\", \"rate\", \"rate\", \"rate\", \"rate\", \"rate\", \"rate\", \"rate\", \"rate\", \"rate\", \"rate\", \"rate\", \"rate\", \"rate\", \"rate\", \"rayssd\", \"rayssd\", \"rbi\", \"reaction\", \"reaction\", \"reaction\", \"reaction\", \"reaction\", \"reaction\", \"reaction\", \"reaction\", \"reaction\", \"reaction\", \"reaction\", \"reaction\", \"realm\", \"realm\", \"realm\", \"rear\", \"rear\", \"rear\", \"rear\", \"rear\", \"reboot\", \"receiver\", \"receiver\", \"receiver\", \"receiver\", \"receiver\", \"receiver\", \"receiver\", \"reciever\", \"record\", \"record\", \"record\", \"record\", \"record\", \"record\", \"record\", \"record\", \"record\", \"record\", \"record\", \"record\", \"record\", \"record\", \"reference\", \"reference\", \"reference\", \"reference\", \"reference\", \"reference\", \"reference\", \"reference\", \"reference\", \"reference\", \"reference\", \"reference\", \"reference\", \"reference\", \"reference\", \"reform\", \"reform\", \"reform\", \"reform\", \"reform\", \"refugee\", \"refugee\", \"refugee\", \"refugee\", \"regulated\", \"regulated\", \"regulated\", \"rein\", \"rein\", \"reincarnation\", \"religion\", \"religion\", \"religion\", \"religion\", \"religion\", \"religion\", \"religion\", \"religious\", \"religious\", \"religious\", \"religious\", \"religious\", \"religious\", \"religious\", \"remailer\", \"renderer\", \"renounce\", \"repeater\", \"repress\", \"repression\", \"republic\", \"residency\", \"residue\", \"restaurant\", \"restaurant\", \"resurrection\", \"resurrection\", \"retaliation\", \"retaliation\", \"return\", \"return\", \"return\", \"return\", \"return\", \"return\", \"return\", \"return\", \"return\", \"return\", \"return\", \"return\", \"return\", \"return\", \"return\", \"revelation\", \"revelation\", \"revelation\", \"revolver\", \"revolver\", \"reword\", \"ride\", \"ride\", \"ride\", \"ride\", \"ride\", \"ride\", \"ride\", \"ride\", \"ride\", \"rider\", \"rider\", \"rider\", \"riding\", \"riding\", \"rifle\", \"rifle\", \"rifle\", \"rifle\", \"rifle\", \"river\", \"river\", \"river\", \"river\", \"river\", \"river\", \"road\", \"road\", \"road\", \"road\", \"road\", \"road\", \"road\", \"road\", \"road\", \"road\", \"road\", \"road\", \"road\", \"road\", \"road\", \"rocket\", \"rocket\", \"rocket\", \"rocket\", \"rocket\", \"rocket\", \"rocket\", \"rocket\", \"rocket\", \"rocket\", \"rocket\", \"rom\", \"rom\", \"rom\", \"rom\", \"rom\", \"rom\", \"rom\", \"rom\", \"rom\", \"rom\", \"rookie\", \"rookie\", \"rookie\", \"room\", \"room\", \"room\", \"room\", \"room\", \"room\", \"room\", \"room\", \"room\", \"room\", \"room\", \"room\", \"room\", \"room\", \"room\", \"roster\", \"roster\", \"roughing\", \"round\", \"round\", \"round\", \"round\", \"round\", \"round\", \"round\", \"round\", \"round\", \"round\", \"round\", \"round\", \"round\", \"rule\", \"rule\", \"rule\", \"rule\", \"rule\", \"rule\", \"rule\", \"rule\", \"rule\", \"rule\", \"rule\", \"rule\", \"rule\", \"rule\", \"rule\", \"ruling\", \"ruling\", \"ruling\", \"runner\", \"runner\", \"russian\", \"russian\", \"russian\", \"russian\", \"russian\", \"russian\", \"russian\", \"sabbath\", \"sabbath\", \"safeguard\", \"safeguard\", \"safety\", \"safety\", \"safety\", \"safety\", \"safety\", \"safety\", \"safety\", \"safety\", \"safety\", \"safety\", \"safety\", \"safety\", \"safety\", \"safety\", \"salvation\", \"salvation\", \"satellite\", \"satellite\", \"satellite\", \"satellite\", \"satellite\", \"save\", \"save\", \"save\", \"save\", \"save\", \"save\", \"save\", \"save\", \"save\", \"save\", \"save\", \"save\", \"save\", \"save\", \"save\", \"schematic\", \"scheme\", \"scheme\", \"scheme\", \"scheme\", \"scheme\", \"scheme\", \"scheme\", \"scheme\", \"scheme\", \"scheme\", \"scheme\", \"scheme\", \"schismatic\", \"science\", \"science\", \"science\", \"science\", \"science\", \"science\", \"science\", \"science\", \"science\", \"science\", \"science\", \"scientific\", \"scientific\", \"scientific\", \"scientific\", \"scientific\", \"scientific\", \"scientific\", \"scientific\", \"scientific\", \"scientific\", \"scientific\", \"score\", \"score\", \"score\", \"score\", \"score\", \"screen\", \"screen\", \"screen\", \"screen\", \"screen\", \"screen\", \"screen\", \"screen\", \"screen\", \"screen\", \"scripture\", \"scripture\", \"scripture\", \"scsi\", \"scsi\", \"scsi\", \"scsi\", \"season\", \"season\", \"season\", \"season\", \"season\", \"secret\", \"secret\", \"secret\", \"secret\", \"secret\", \"secret\", \"secret\", \"secret\", \"secret\", \"secret\", \"secret\", \"section\", \"section\", \"section\", \"section\", \"section\", \"section\", \"section\", \"section\", \"section\", \"section\", \"section\", \"section\", \"section\", \"section\", \"secure\", \"secure\", \"secure\", \"secure\", \"secure\", \"secure\", \"secure\", \"secure\", \"secure\", \"security\", \"security\", \"security\", \"security\", \"security\", \"security\", \"security\", \"security\", \"security\", \"security\", \"security\", \"security\", \"seizure\", \"seizure\", \"seizure\", \"seizure\", \"self\", \"self\", \"self\", \"self\", \"self\", \"self\", \"self\", \"self\", \"self\", \"self\", \"self\", \"self\", \"self\", \"self\", \"semi\", \"semi\", \"semi\", \"semi\", \"semi\", \"semi\", \"semi\", \"semi\", \"semi\", \"semi\", \"semi\", \"semi\", \"semitic\", \"semitism\", \"semitism\", \"sense\", \"sense\", \"sense\", \"sense\", \"sense\", \"sense\", \"sense\", \"sense\", \"sense\", \"sense\", \"sense\", \"sense\", \"sense\", \"sense\", \"sense\", \"sensitivity\", \"sensitivity\", \"sensitivity\", \"sensor\", \"sensor\", \"sensor\", \"sensor\", \"sensor\", \"sensor\", \"serial\", \"serial\", \"serial\", \"serial\", \"serial\", \"serial\", \"serial\", \"serial\", \"serial\", \"series\", \"series\", \"series\", \"series\", \"series\", \"series\", \"series\", \"series\", \"series\", \"series\", \"series\", \"series\", \"series\", \"serve\", \"serve\", \"serve\", \"serve\", \"serve\", \"serve\", \"serve\", \"serve\", \"serve\", \"serve\", \"serve\", \"serve\", \"serve\", \"serve\", \"serve\", \"server\", \"server\", \"server\", \"server\", \"server\", \"server\", \"server\", \"server\", \"server\", \"service\", \"service\", \"service\", \"service\", \"service\", \"service\", \"service\", \"service\", \"service\", \"service\", \"service\", \"service\", \"service\", \"service\", \"service\", \"sex\", \"sex\", \"sex\", \"sex\", \"sex\", \"sex\", \"sex\", \"shameful\", \"shameful\", \"shameful\", \"shaped\", \"shareware\", \"shareware\", \"shelling\", \"shoei\", \"shoot\", \"shoot\", \"shoot\", \"shoot\", \"shoot\", \"shoot\", \"shoot\", \"shoot\", \"shoot\", \"shoot\", \"shoot\", \"shoot\", \"shoot\", \"shooting\", \"shooting\", \"shooting\", \"shooting\", \"shooting\", \"shooting\", \"shooting\", \"shortstop\", \"shot\", \"shot\", \"shot\", \"shot\", \"shot\", \"shot\", \"shot\", \"shot\", \"shot\", \"shot\", \"shotgun\", \"shout\", \"shout\", \"shout\", \"shout\", \"shuttle\", \"shuttle\", \"signal\", \"signal\", \"signal\", \"signal\", \"signal\", \"signal\", \"signal\", \"signal\", \"signal\", \"signal\", \"simm\", \"simm\", \"simms\", \"simms\", \"simms\", \"sin\", \"sin\", \"sin\", \"sin\", \"sin\", \"sin\", \"sinful\", \"sinus\", \"sipp\", \"site\", \"site\", \"site\", \"site\", \"site\", \"site\", \"site\", \"site\", \"site\", \"site\", \"site\", \"site\", \"skate\", \"skate\", \"skate\", \"skate\", \"skepticism\", \"skepticism\", \"sky\", \"sky\", \"sky\", \"sky\", \"sky\", \"sky\", \"sky\", \"sky\", \"sky\", \"sky\", \"sky\", \"slavery\", \"slavery\", \"slavery\", \"slavery\", \"slot\", \"slot\", \"slot\", \"slot\", \"slot\", \"slot\", \"slow\", \"slow\", \"slow\", \"slow\", \"slow\", \"slow\", \"slow\", \"slow\", \"slow\", \"slow\", \"slow\", \"slow\", \"slow\", \"slow\", \"smoke\", \"smoke\", \"smoke\", \"smoke\", \"smoke\", \"smoke\", \"smoke\", \"smoke\", \"smoke\", \"smoke\", \"smokeless\", \"smokeless\", \"smuggle\", \"smuggle\", \"smuggler\", \"socialism\", \"socialism\", \"society\", \"society\", \"society\", \"society\", \"society\", \"society\", \"society\", \"society\", \"society\", \"solar\", \"solar\", \"solar\", \"sore\", \"soup\", \"soup\", \"space\", \"space\", \"space\", \"space\", \"space\", \"space\", \"space\", \"space\", \"space\", \"space\", \"space\", \"space\", \"space\", \"space\", \"spacecraft\", \"spasm\", \"speaker\", \"speaker\", \"speaker\", \"speaker\", \"speaker\", \"speaker\", \"speaker\", \"speaker\", \"speaker\", \"speaker\", \"speaker\", \"speaker\", \"spec\", \"spec\", \"spec\", \"spec\", \"spec\", \"spec\", \"spec\", \"spec\", \"spec\", \"spec\", \"speed\", \"speed\", \"speed\", \"speed\", \"speed\", \"speed\", \"speed\", \"speed\", \"speed\", \"speed\", \"speed\", \"speed\", \"speed\", \"speed\", \"speedo\", \"spending\", \"spending\", \"spending\", \"sperm\", \"spline\", \"spoof\", \"sport\", \"sport\", \"sport\", \"sport\", \"sport\", \"sport\", \"sport\", \"sport\", \"sport\", \"sport\", \"sporting\", \"sporty\", \"sprint\", \"sprocket\", \"sprout\", \"spy\", \"spy\", \"spy\", \"spy\", \"spy\", \"squid\", \"stalk\", \"stat\", \"stat\", \"stat\", \"stat\", \"stat\", \"stat\", \"station\", \"station\", \"station\", \"station\", \"station\", \"station\", \"station\", \"station\", \"station\", \"station\", \"station\", \"station\", \"station\", \"station\", \"steam\", \"steam\", \"steam\", \"steam\", \"steer\", \"steer\", \"steer\", \"steer\", \"steer\", \"steering\", \"steering\", \"stereo\", \"stereo\", \"stereo\", \"stereo\", \"stereo\", \"stimulus\", \"stimulus\", \"stimulus\", \"stolen\", \"stool\", \"stove\", \"stove\", \"stove\", \"stove\", \"strawberry\", \"stream\", \"stream\", \"stream\", \"stream\", \"stream\", \"stream\", \"stream\", \"strong\", \"strong\", \"strong\", \"strong\", \"strong\", \"strong\", \"strong\", \"strong\", \"strong\", \"strong\", \"strong\", \"strong\", \"strong\", \"strong\", \"stud\", \"study\", \"study\", \"study\", \"study\", \"study\", \"study\", \"study\", \"study\", \"study\", \"study\", \"study\", \"study\", \"study\", \"study\", \"substance\", \"substance\", \"substance\", \"substance\", \"substance\", \"substance\", \"substance\", \"substance\", \"substance\", \"substance\", \"subvert\", \"subvert\", \"sugar\", \"sugar\", \"sugar\", \"summer\", \"summer\", \"summer\", \"summer\", \"summer\", \"summer\", \"summer\", \"summer\", \"summer\", \"summer\", \"summer\", \"summer\", \"sunrise\", \"sunrise\", \"sunset\", \"sunset\", \"sunset\", \"superstition\", \"supply\", \"supply\", \"supply\", \"supply\", \"supply\", \"supply\", \"supply\", \"supply\", \"supply\", \"supply\", \"supply\", \"supply\", \"supply\", \"surface\", \"surface\", \"surface\", \"surface\", \"surface\", \"surface\", \"surface\", \"surface\", \"surface\", \"surface\", \"surface\", \"surface\", \"surface\", \"swelling\", \"swerve\", \"switch\", \"switch\", \"switch\", \"switch\", \"switch\", \"switch\", \"switch\", \"switch\", \"switch\", \"switch\", \"switch\", \"symmetric\", \"symmetric\", \"symptom\", \"symptom\", \"symptom\", \"symptom\", \"symptom\", \"syrian\", \"talent\", \"talent\", \"talent\", \"talent\", \"talent\", \"talent\", \"talent\", \"tank\", \"tank\", \"tank\", \"tank\", \"tank\", \"tank\", \"tank\", \"tank\", \"tank\", \"tank\", \"tank\", \"tank\", \"tap\", \"tap\", \"tap\", \"tap\", \"tap\", \"tap\", \"tap\", \"tap\", \"tap\", \"tap\", \"taste\", \"taste\", \"taste\", \"taste\", \"taste\", \"taste\", \"taste\", \"taste\", \"taste\", \"tax\", \"tax\", \"tax\", \"tax\", \"tax\", \"tax\", \"tax\", \"tax\", \"tax\", \"taxis\", \"taxis\", \"taxis\", \"taxis\", \"taxis\", \"taxis\", \"tcsh\", \"teach\", \"teach\", \"teach\", \"teach\", \"teach\", \"teach\", \"teach\", \"teach\", \"teach\", \"teach\", \"teach\", \"teach\", \"teach\", \"teach\", \"teaching\", \"teaching\", \"teaching\", \"teaching\", \"teaching\", \"teaching\", \"tear\", \"tear\", \"tear\", \"tear\", \"tear\", \"tear\", \"tear\", \"tear\", \"tear\", \"technical\", \"technical\", \"technical\", \"technical\", \"technical\", \"technical\", \"technical\", \"technical\", \"technical\", \"technical\", \"technical\", \"technical\", \"technology\", \"technology\", \"technology\", \"technology\", \"technology\", \"technology\", \"technology\", \"technology\", \"technology\", \"technology\", \"technology\", \"technology\", \"telecommunication\", \"telecommunication\", \"telecommunication\", \"telescope\", \"temperature\", \"temperature\", \"temperature\", \"temperature\", \"temperature\", \"temperature\", \"temperature\", \"temperature\", \"term\", \"term\", \"term\", \"term\", \"term\", \"term\", \"term\", \"term\", \"term\", \"term\", \"term\", \"term\", \"term\", \"term\", \"term\", \"territory\", \"territory\", \"territory\", \"territory\", \"territory\", \"test\", \"test\", \"test\", \"test\", \"test\", \"test\", \"test\", \"test\", \"test\", \"test\", \"test\", \"test\", \"test\", \"test\", \"test\", \"theistic\", \"theology\", \"theology\", \"theology\", \"theory\", \"theory\", \"theory\", \"theory\", \"theory\", \"theory\", \"theory\", \"theory\", \"theory\", \"theory\", \"theory\", \"theory\", \"theory\", \"theory\", \"theory\", \"therapy\", \"therapy\", \"therapy\", \"thine\", \"throttle\", \"throw\", \"throw\", \"throw\", \"throw\", \"throw\", \"throw\", \"throw\", \"throw\", \"throw\", \"throw\", \"throw\", \"throw\", \"throw\", \"throw\", \"throw\", \"thruster\", \"thruster\", \"thug\", \"thug\", \"thug\", \"thug\", \"thug\", \"tie\", \"tie\", \"tie\", \"tie\", \"tie\", \"tie\", \"tie\", \"tie\", \"tie\", \"tie\", \"tie\", \"tire\", \"tire\", \"tire\", \"title\", \"title\", \"title\", \"title\", \"title\", \"title\", \"title\", \"title\", \"title\", \"title\", \"title\", \"title\", \"titty\", \"tobacco\", \"tobacco\", \"tobacco\", \"tomb\", \"toner\", \"toolkit\", \"toolkit\", \"toolkit\", \"torque\", \"torture\", \"torture\", \"torture\", \"torture\", \"torture\", \"total\", \"total\", \"total\", \"total\", \"total\", \"total\", \"total\", \"total\", \"total\", \"total\", \"total\", \"total\", \"total\", \"total\", \"tower\", \"tower\", \"tower\", \"tower\", \"town\", \"town\", \"town\", \"town\", \"town\", \"town\", \"town\", \"town\", \"town\", \"town\", \"town\", \"trade\", \"trade\", \"trade\", \"trade\", \"trade\", \"trade\", \"trade\", \"trade\", \"trade\", \"trade\", \"trade\", \"trade\", \"traffic\", \"traffic\", \"traffic\", \"traffic\", \"traffic\", \"traffic\", \"traffic\", \"traffic\", \"traffic\", \"traffic\", \"traffic\", \"traffic\", \"transfer\", \"transfer\", \"transfer\", \"transfer\", \"transfer\", \"transfer\", \"transfer\", \"transfer\", \"transfer\", \"transfer\", \"transfer\", \"transfer\", \"transfer\", \"transfer\", \"treat\", \"treat\", \"treat\", \"treat\", \"treat\", \"treat\", \"treat\", \"treat\", \"treat\", \"treat\", \"treat\", \"treat\", \"treatment\", \"treatment\", \"treatment\", \"treatment\", \"treatment\", \"treatment\", \"treatment\", \"treatment\", \"treatment\", \"trestle\", \"trial\", \"trial\", \"trial\", \"trial\", \"trial\", \"trial\", \"trial\", \"trial\", \"trial\", \"trial\", \"trial\", \"trial\", \"troop\", \"troop\", \"troop\", \"troop\", \"troop\", \"troop\", \"troop\", \"truck\", \"truck\", \"truck\", \"truck\", \"truck\", \"truck\", \"truck\", \"truck\", \"truck\", \"truck\", \"truetype\", \"trunk\", \"trunk\", \"trunk\", \"trust\", \"trust\", \"trust\", \"trust\", \"trust\", \"trust\", \"trust\", \"trust\", \"trust\", \"trust\", \"trust\", \"trust\", \"trust\", \"trust\", \"truth\", \"truth\", \"truth\", \"truth\", \"truth\", \"truth\", \"truth\", \"truth\", \"truth\", \"truth\", \"truth\", \"truth\", \"tumor\", \"turbine\", \"turkish\", \"turkish\", \"turkish\", \"turkish\", \"turkish\", \"turmeric\", \"typewriter\", \"typewriter\", \"ultrasound\", \"unapproved\", \"unassisted\", \"unauthorized\", \"unauthorized\", \"unauthorized\", \"unauthorized\", \"unconventional\", \"unemployment\", \"unicorn\", \"unit\", \"unit\", \"unit\", \"unit\", \"unit\", \"unit\", \"unit\", \"unit\", \"unit\", \"unit\", \"unit\", \"unit\", \"universe\", \"universe\", \"universe\", \"universe\", \"universe\", \"universe\", \"universe\", \"upgrade\", \"upgrade\", \"upgrade\", \"upgrade\", \"upgrade\", \"upgrade\", \"upgrade\", \"upgrade\", \"upgrade\", \"uranium\", \"uranium\", \"uranium\", \"uranium\", \"usefull\", \"user\", \"user\", \"user\", \"user\", \"user\", \"user\", \"user\", \"user\", \"user\", \"user\", \"user\", \"user\", \"user\", \"user\", \"uudecode\", \"uuencode\", \"vaginal\", \"value\", \"value\", \"value\", \"value\", \"value\", \"value\", \"value\", \"value\", \"value\", \"value\", \"value\", \"value\", \"value\", \"value\", \"value\", \"vandalize\", \"vandalize\", \"vat\", \"vcr\", \"vcr\", \"vehicle\", \"vehicle\", \"vehicle\", \"vehicle\", \"vehicle\", \"vehicle\", \"vehicle\", \"vehicle\", \"venture\", \"venture\", \"venture\", \"venture\", \"verdict\", \"verdict\", \"verdict\", \"verdict\", \"verse\", \"verse\", \"verse\", \"vesa\", \"video\", \"video\", \"video\", \"video\", \"video\", \"video\", \"video\", \"video\", \"video\", \"video\", \"video\", \"video\", \"village\", \"village\", \"violent\", \"violent\", \"violent\", \"violent\", \"violent\", \"violent\", \"violent\", \"violent\", \"visual\", \"visual\", \"visual\", \"visual\", \"visual\", \"visual\", \"vitality\", \"vnet\", \"volt\", \"volt\", \"volt\", \"voltage\", \"voltage\", \"voltage\", \"voltage\", \"vote\", \"vote\", \"vote\", \"vote\", \"vote\", \"vote\", \"vote\", \"vote\", \"vote\", \"vote\", \"voting\", \"voting\", \"voting\", \"vram\", \"vram\", \"vram\", \"wagon\", \"wagon\", \"wagon\", \"wagon\", \"waiting\", \"waiting\", \"waiting\", \"waiting\", \"walk\", \"walk\", \"walk\", \"walk\", \"walk\", \"walk\", \"walk\", \"walk\", \"walk\", \"walk\", \"walk\", \"walk\", \"walk\", \"walk\", \"war\", \"war\", \"war\", \"war\", \"war\", \"war\", \"war\", \"war\", \"war\", \"war\", \"war\", \"war\", \"watch\", \"watch\", \"watch\", \"watch\", \"watch\", \"watch\", \"watch\", \"watch\", \"watch\", \"watch\", \"watch\", \"watch\", \"watch\", \"watch\", \"watch\", \"wate\", \"water\", \"water\", \"water\", \"water\", \"water\", \"water\", \"water\", \"water\", \"water\", \"water\", \"water\", \"water\", \"wave\", \"wave\", \"wave\", \"wave\", \"wave\", \"wave\", \"wave\", \"wave\", \"wave\", \"wave\", \"weapon\", \"weapon\", \"weapon\", \"westerner\", \"wheel\", \"wheel\", \"wheel\", \"wheel\", \"wheel\", \"wheel\", \"whitespace\", \"widget\", \"widget\", \"widget\", \"widget\", \"widget\", \"winbench\", \"winmark\", \"wire\", \"wire\", \"wire\", \"wire\", \"wire\", \"wire\", \"wire\", \"wire\", \"wire\", \"wire\", \"wire\", \"wire\", \"wireframe\", \"wireframe\", \"wiretapping\", \"withdrawal\", \"withdrawal\", \"wod\", \"woman\", \"woman\", \"woman\", \"woman\", \"woman\", \"woman\", \"woman\", \"woman\", \"woman\", \"woman\", \"woman\", \"woman\", \"woman\", \"won\", \"wood\", \"wood\", \"wood\", \"wood\", \"wood\", \"worship\", \"worship\", \"worship\", \"worship\", \"xputimage\", \"xterm\", \"xterm\", \"xterm\", \"xterm\", \"xterm\", \"yeast\", \"zionism\", \"zionism\", \"zionist\"]}, \"R\": 30, \"lambda.step\": 0.01, \"plot.opts\": {\"xlab\": \"PC1\", \"ylab\": \"PC2\"}, \"topic.order\": [1, 2, 3, 4, 5, 6, 7, 8, 9, 10, 11, 12, 13, 14, 15]};\n",
       "\n",
       "function LDAvis_load_lib(url, callback){\n",
       "  var s = document.createElement('script');\n",
       "  s.src = url;\n",
       "  s.async = true;\n",
       "  s.onreadystatechange = s.onload = callback;\n",
       "  s.onerror = function(){console.warn(\"failed to load library \" + url);};\n",
       "  document.getElementsByTagName(\"head\")[0].appendChild(s);\n",
       "}\n",
       "\n",
       "if(typeof(LDAvis) !== \"undefined\"){\n",
       "   // already loaded: just create the visualization\n",
       "   !function(LDAvis){\n",
       "       new LDAvis(\"#\" + \"ldavis_el30211403611650554642883994828\", ldavis_el30211403611650554642883994828_data);\n",
       "   }(LDAvis);\n",
       "}else if(typeof define === \"function\" && define.amd){\n",
       "   // require.js is available: use it to load d3/LDAvis\n",
       "   require.config({paths: {d3: \"https://cdnjs.cloudflare.com/ajax/libs/d3/3.5.5/d3.min\"}});\n",
       "   require([\"d3\"], function(d3){\n",
       "      window.d3 = d3;\n",
       "      LDAvis_load_lib(\"https://cdn.rawgit.com/bmabey/pyLDAvis/files/ldavis.v1.0.0.js\", function(){\n",
       "        new LDAvis(\"#\" + \"ldavis_el30211403611650554642883994828\", ldavis_el30211403611650554642883994828_data);\n",
       "      });\n",
       "    });\n",
       "}else{\n",
       "    // require.js not available: dynamically load d3 & LDAvis\n",
       "    LDAvis_load_lib(\"https://cdnjs.cloudflare.com/ajax/libs/d3/3.5.5/d3.min.js\", function(){\n",
       "         LDAvis_load_lib(\"https://cdn.rawgit.com/bmabey/pyLDAvis/files/ldavis.v1.0.0.js\", function(){\n",
       "                 new LDAvis(\"#\" + \"ldavis_el30211403611650554642883994828\", ldavis_el30211403611650554642883994828_data);\n",
       "            })\n",
       "         });\n",
       "}\n",
       "</script>"
      ],
      "text/plain": [
       "PreparedData(topic_coordinates=              x         y  topics  cluster       Freq\n",
       "topic                                                \n",
       "0     -0.165172 -0.009005       1        1   9.890993\n",
       "1      0.210324 -0.086305       2        1  11.468842\n",
       "2      0.027332  0.092841       3        1   5.261435\n",
       "3      0.035697 -0.014281       4        1   5.317083\n",
       "4     -0.126074  0.014068       5        1   8.836571\n",
       "5      0.207948  0.001581       6        1   5.144165\n",
       "6      0.102244 -0.096669       7        1   6.921488\n",
       "7      0.062263  0.126715       8        1   6.011785\n",
       "8     -0.125939  0.202763       9        1   3.704819\n",
       "9     -0.101050 -0.138455      10        1   3.602280\n",
       "10    -0.148983 -0.105547      11        1   9.638060\n",
       "11    -0.102006  0.009522      12        1   6.920025\n",
       "12     0.073450  0.020448      13        1   3.924373\n",
       "13    -0.044228 -0.108582      14        1   8.099239\n",
       "14     0.094196  0.090905      15        1   5.258833, topic_info=     Category         Freq        Term        Total  loglift  logprob\n",
       "2152  Default  3855.000000         max  3855.000000  30.0000  30.0000\n",
       "1217  Default  1359.000000         gun  1359.000000  29.0000  29.0000\n",
       "1908  Default   906.000000      player   906.000000  28.0000  28.0000\n",
       "46    Default   684.000000        bike   684.000000  27.0000  27.0000\n",
       "78    Default  1030.000000      driver  1030.000000  26.0000  26.0000\n",
       "1427  Default  1152.000000        chip  1152.000000  25.0000  25.0000\n",
       "1083  Default   620.000000      season   620.000000  24.0000  24.0000\n",
       "24    Default   983.000000        disk   983.000000  23.0000  23.0000\n",
       "1276  Default   586.000000      weapon   586.000000  22.0000  22.0000\n",
       "41    Default   884.000000       speed   884.000000  21.0000  21.0000\n",
       "1020  Default  1077.000000       image  1077.000000  20.0000  20.0000\n",
       "1045  Default  1022.000000       space  1022.000000  19.0000  19.0000\n",
       "427   Default   952.000000       human   952.000000  18.0000  18.0000\n",
       "2335  Default   462.000000  controller   462.000000  17.0000  17.0000\n",
       "326   Default   766.000000  encryption   766.000000  16.0000  16.0000\n",
       "874   Default   476.000000        food   476.000000  15.0000  15.0000\n",
       "848   Default   529.000000       entry   529.000000  14.0000  14.0000\n",
       "145   Default   552.000000       crime   552.000000  13.0000  13.0000\n",
       "2373  Default   350.000000     firearm   350.000000  12.0000  12.0000\n",
       "2408  Default   472.000000         bus   472.000000  11.0000  11.0000\n",
       "850   Default   629.000000     monitor   629.000000  10.0000  10.0000\n",
       "268   Default   465.000000        ride   465.000000   9.0000   9.0000\n",
       "382   Default   572.000000       board   572.000000   8.0000   8.0000\n",
       "2970  Default   633.000000     turkish   633.000000   7.0000   7.0000\n",
       "845   Default   843.000000       color   843.000000   6.0000   6.0000\n",
       "1696  Default   633.000000     israeli   633.000000   5.0000   5.0000\n",
       "2434  Default   760.000000      server   760.000000   4.0000   4.0000\n",
       "1104  Default   735.000000      memory   735.000000   3.0000   3.0000\n",
       "2896  Default   554.000000    armenian   554.000000   2.0000   2.0000\n",
       "1641  Default   686.000000    religion   686.000000   1.0000   1.0000\n",
       "...       ...          ...         ...          ...      ...      ...\n",
       "2291  Topic15   206.980255        shot   328.188171   2.4843  -5.0771\n",
       "2365  Topic15   103.990326         amp   152.780518   2.5606  -5.7654\n",
       "7533  Topic15    33.103580       skate    41.251747   2.7252  -6.9100\n",
       "2763  Topic15    63.801128      goalie    90.258408   2.5984  -6.2539\n",
       "159   Topic15   140.656189     penalty   239.022415   2.4150  -5.4634\n",
       "1078  Topic15   256.756958        goal   513.435303   2.2523  -4.8616\n",
       "1981  Topic15   122.190559     clipper   206.943024   2.4184  -5.6041\n",
       "2692  Topic15   104.091209         tap   175.188278   2.4247  -5.7644\n",
       "2909  Topic15    73.221756         cap   115.422440   2.4902  -6.1162\n",
       "759   Topic15   216.007843      period   537.355347   2.0339  -5.0344\n",
       "2472  Topic15   197.126099        pick   500.473267   2.0136  -5.1258\n",
       "4433  Topic15   103.171623     battery   211.350586   2.2281  -5.7733\n",
       "1427  Topic15   325.910065        chip  1152.534912   1.6822  -4.6231\n",
       "2801  Topic15   124.674889       round   289.480347   2.1029  -5.5840\n",
       "2249  Topic15    67.153229     speaker   131.545364   2.2729  -6.2027\n",
       "1744  Topic15    84.853874        blue   192.586395   2.1256  -5.9688\n",
       "1479  Topic15   180.871155     company   697.020081   1.5962  -5.2119\n",
       "4169  Topic15    87.455032      crypto   210.411743   2.0673  -5.9386\n",
       "2569  Topic15   125.188293       trade   411.229248   1.7559  -5.5799\n",
       "959   Topic15   112.680710       radio   363.862427   1.7730  -5.6851\n",
       "1908  Topic15   175.408051      player   906.824219   1.3024  -5.2426\n",
       "2711  Topic15   125.143646         fan   466.847260   1.6287  -5.5802\n",
       "378   Topic15   106.746216      series   349.301880   1.7598  -5.7392\n",
       "368   Topic15   115.668282       watch   514.031006   1.4537  -5.6590\n",
       "550   Topic15   117.308083     contact   656.888123   1.2226  -5.6449\n",
       "1508  Topic15   124.207161        code   854.095947   1.0172  -5.5877\n",
       "263   Topic15   112.389015         net   573.484741   1.3155  -5.6877\n",
       "1799  Topic15   108.381538        face   581.905701   1.2646  -5.7240\n",
       "1462  Topic15   107.785812       cover   637.230530   1.1683  -5.7295\n",
       "314   Topic15   107.412651        copy   739.160706   1.0164  -5.7330\n",
       "\n",
       "[1094 rows x 6 columns], token_table=       Topic      Freq         Term\n",
       "term                               \n",
       "7163       3  0.974268          ERA\n",
       "4887      10  0.931280        ETHER\n",
       "1986       6  0.971715          MHz\n",
       "1986       7  0.007361          MHz\n",
       "1986      13  0.007361          MHz\n",
       "628        1  0.061511     absolute\n",
       "628        2  0.010855     absolute\n",
       "628        3  0.028946     absolute\n",
       "628        5  0.021710     absolute\n",
       "628        7  0.003618     absolute\n",
       "628        8  0.003618     absolute\n",
       "628       10  0.018091     absolute\n",
       "628       11  0.734509     absolute\n",
       "628       12  0.043419     absolute\n",
       "628       14  0.075984     absolute\n",
       "9865      12  0.943767   abstinence\n",
       "1431       2  0.050348     academic\n",
       "1431       4  0.025174     academic\n",
       "1431       5  0.163632     academic\n",
       "1431       7  0.037761     academic\n",
       "1431      12  0.012587     academic\n",
       "1431      14  0.692291     academic\n",
       "2664       6  0.959886  accelerator\n",
       "2664       8  0.008347  accelerator\n",
       "2664      10  0.016694  accelerator\n",
       "1432       1  0.007453       access\n",
       "1432       2  0.375611       access\n",
       "1432       3  0.023848       access\n",
       "1432       4  0.029810       access\n",
       "1432       5  0.011924       access\n",
       "...      ...       ...          ...\n",
       "1877       6  0.005928        woman\n",
       "1877       7  0.001482        woman\n",
       "1877       8  0.001482        woman\n",
       "1877       9  0.001482        woman\n",
       "1877      10  0.001482        woman\n",
       "1877      11  0.229711        woman\n",
       "1877      12  0.459422        woman\n",
       "1877      13  0.001482        woman\n",
       "1877      14  0.004446        woman\n",
       "1877      15  0.004446        woman\n",
       "10581      8  0.954070          won\n",
       "6091       5  0.014601         wood\n",
       "6091       8  0.160612         wood\n",
       "6091      11  0.043803         wood\n",
       "6091      12  0.014601         wood\n",
       "6091      13  0.744657         wood\n",
       "207        1  0.005489      worship\n",
       "207       10  0.060378      worship\n",
       "207       11  0.916646      worship\n",
       "207       13  0.010978      worship\n",
       "2435      13  0.911875    xputimage\n",
       "1150       2  0.962646        xterm\n",
       "1150       3  0.006017        xterm\n",
       "1150       6  0.012033        xterm\n",
       "1150       9  0.006017        xterm\n",
       "1150      10  0.006017        xterm\n",
       "2106      12  0.987160        yeast\n",
       "6480       1  0.891681      zionism\n",
       "6480       7  0.093861      zionism\n",
       "5131       1  0.967848      zionist\n",
       "\n",
       "[5453 rows x 3 columns], R=30, lambda_step=0.01, plot_opts={'xlab': 'PC1', 'ylab': 'PC2'}, topic_order=[1, 2, 3, 4, 5, 6, 7, 8, 9, 10, 11, 12, 13, 14, 15])"
      ]
     },
     "execution_count": 35,
     "metadata": {},
     "output_type": "execute_result"
    }
   ],
   "source": [
    "pyLDAvis.enable_notebook()\n",
    "pyLDAvis.gensim.prepare(result_lda_model, doc_term_matrix, dictionary,sort_topics=False)"
   ]
  },
  {
   "cell_type": "markdown",
   "metadata": {},
   "source": [
    "##### spot cheks"
   ]
  },
  {
   "cell_type": "code",
   "execution_count": 36,
   "metadata": {},
   "outputs": [],
   "source": [
    "def top_topic(doc2bow, lda_model):\n",
    "    print('='*100)\n",
    "    for index, score in sorted(lda_model[doc2bow], key=lambda tup: -1*tup[1]):\n",
    "        print(\"Score: \", round(score, 2),\" Topic: \", result_lda_model.print_topic(index, 7))"
   ]
  },
  {
   "cell_type": "code",
   "execution_count": 42,
   "metadata": {},
   "outputs": [
    {
     "name": "stdout",
     "output_type": "stream",
     "text": [
      "Re: Is MSG sensitivity superstition?\n",
      "\n",
      " Distribution: world In article (Doug Bank) writes: |> |> Here is another anecdotal story. I am a picky eater and never wanted to |> try chinese food, however, I finally tried some in order to please a |> girl I was seeing at the time. I had never heard of Chinese restaurant |> syndrome. A group of us went to the restaurant and all shared 6 different |> dishes. It didnt taste great, but I decided it wasnt so bad. We went |> home and went to bed early. I woke up at 2 AM and puked my guts outs. |> I threw up for so long that (Im not kidding) I pulled a muscle in |> my tongue. Dry heaves and everything. No one else got sick, and Im |> not allergic to anything that I know of. |> |> Suffice to say that I wont go into a chinese restaurant unless I am |> physically threatened. The smell of the food makes me ill (and that *is* |> a psycholgical reaction). When I have been dragged in to suffer |> through beef and broccoli without any sauces, I insist on no MSG. |> I havent gotten sick yet. |> |> -- I had a similar reaction to Chinese food but came to a completly different conclusion. Ive eaten Chinese food for ages and never had problems. I went with some Chinese Malaysian friends to a swanky Chinses rest. and they ordered lots of stuff I had never seen before. The only thing I can remember of that meal was the first course, scallops served in the shell with a soy-type sauce. I thought, \"Well, Ive only had scallops once and I was sick after but that could have been a coincidence\". That night as I sat on the bathroom floor, sweating and emptying my stomach the hard way, I decided I would never touch another scallop. I may not be allergic but I dont want to take the chance. Amy Mossman  \n",
      "\n",
      "\n",
      "====================================================================================================\n",
      "Score:  0.96  Topic:  0.016*\"food\" + 0.014*\"human\" + 0.009*\"moral\" + 0.007*\"atheist\" + 0.007*\"effect\" + 0.007*\"eat\" + 0.006*\"animal\"\n",
      "Score:  0.03  Topic:  0.008*\"drug\" + 0.007*\"woman\" + 0.007*\"doctor\" + 0.006*\"child\" + 0.006*\"patient\" + 0.006*\"disease\" + 0.005*\"objective\"\n"
     ]
    }
   ],
   "source": [
    "ind = 30\n",
    "\n",
    "doc2bow = df_data['doc2bow'].iloc[ind]\n",
    "\n",
    "print( df_data['text'].iloc[ind], '\\n\\n')\n",
    "top_topic(doc2bow, result_lda_model)"
   ]
  },
  {
   "cell_type": "markdown",
   "metadata": {},
   "source": [
    "# Find the most representative document for each topic"
   ]
  },
  {
   "cell_type": "code",
   "execution_count": 43,
   "metadata": {},
   "outputs": [
    {
     "data": {
      "text/html": [
       "<div>\n",
       "<style scoped>\n",
       "    .dataframe tbody tr th:only-of-type {\n",
       "        vertical-align: middle;\n",
       "    }\n",
       "\n",
       "    .dataframe tbody tr th {\n",
       "        vertical-align: top;\n",
       "    }\n",
       "\n",
       "    .dataframe thead th {\n",
       "        text-align: right;\n",
       "    }\n",
       "</style>\n",
       "<table border=\"1\" class=\"dataframe\">\n",
       "  <thead>\n",
       "    <tr style=\"text-align: right;\">\n",
       "      <th></th>\n",
       "      <th>topic</th>\n",
       "      <th>topic words</th>\n",
       "    </tr>\n",
       "  </thead>\n",
       "  <tbody>\n",
       "    <tr>\n",
       "      <th>0</th>\n",
       "      <td>Topic 1</td>\n",
       "      <td>['israeli', 'war', 'human', 'member', 'anti', 'child', 'political', 'turkish', 'murder', 'action', 'fire', 'death', 'arab', 'jewish', 'land', 'arm...</td>\n",
       "    </tr>\n",
       "    <tr>\n",
       "      <th>1</th>\n",
       "      <td>Topic 2</td>\n",
       "      <td>['image', 'color', 'display', 'server', 'application', 'disk', 'format', 'screen', 'user', 'package', 'graphic', 'code', 'widget', 'font', 'datum'...</td>\n",
       "    </tr>\n",
       "    <tr>\n",
       "      <th>2</th>\n",
       "      <td>Topic 3</td>\n",
       "      <td>['player', 'season', 'monitor', 'hit', 'score', 'fan', 'baseball', 'league', 'record', 'average', 'ball', 'stat', 'ground', 'pitch', 'tie', 'major...</td>\n",
       "    </tr>\n",
       "    <tr>\n",
       "      <th>3</th>\n",
       "      <td>Topic 4</td>\n",
       "      <td>['launch', 'algorithm', 'security', 'market', 'secret', 'chip', 'private', 'encryption', 'encrypt', 'space', 'commercial', 'moon', 'company', 'sec...</td>\n",
       "    </tr>\n",
       "    <tr>\n",
       "      <th>4</th>\n",
       "      <td>Topic 5</td>\n",
       "      <td>['armenian', 'turkish', 'job', 'attack', 'tax', 'city', 'village', 'russian', 'child', 'american', 'israeli', 'official', 'health', 'continue', 'c...</td>\n",
       "    </tr>\n",
       "    <tr>\n",
       "      <th>5</th>\n",
       "      <td>Topic 6</td>\n",
       "      <td>['driver', 'controller', 'speed', 'bus', 'board', 'chip', 'disk', 'scsi', 'ram', 'memory', 'mode', 'video', 'fast', 'motherboard', 'rom', 'rate', ...</td>\n",
       "    </tr>\n",
       "    <tr>\n",
       "      <th>6</th>\n",
       "      <td>Topic 7</td>\n",
       "      <td>['space', 'entry', 'orbit', 'copy', 'launch', 'mission', 'section', 'project', 'test', 'satellite', 'return', 'rule', 'author', 'output', 'object'...</td>\n",
       "    </tr>\n",
       "    <tr>\n",
       "      <th>7</th>\n",
       "      <td>Topic 8</td>\n",
       "      <td>['bike', 'ride', 'engine', 'speed', 'light', 'road', 'mile', 'dog', 'motorcycle', 'tire', 'oil', 'driver', 'dealer', 'brake', 'wheel', 'radar', 'f...</td>\n",
       "    </tr>\n",
       "    <tr>\n",
       "      <th>8</th>\n",
       "      <td>Topic 9</td>\n",
       "      <td>['max', 'gun', 'weapon', 'firearm', 'crime', 'criminal', 'handgun', 'rate', 'carry', 'self', 'police', 'homicide', 'safety', 'death', 'defense', '...</td>\n",
       "    </tr>\n",
       "    <tr>\n",
       "      <th>9</th>\n",
       "      <td>Topic 10</td>\n",
       "      <td>['food', 'human', 'moral', 'atheist', 'effect', 'eat', 'animal', 'msg', 'religion', 'morality', 'belief', 'study', 'diet', 'vote', 'nature', 'sens...</td>\n",
       "    </tr>\n",
       "    <tr>\n",
       "      <th>10</th>\n",
       "      <td>Topic 11</td>\n",
       "      <td>['god', 'faith', 'truth', 'christian', 'church', 'religion', 'sin', 'belief', 'die', 'scripture', 'death', 'absolute', 'act', 'choose', 'save', 't...</td>\n",
       "    </tr>\n",
       "    <tr>\n",
       "      <th>11</th>\n",
       "      <td>Topic 12</td>\n",
       "      <td>['drug', 'woman', 'doctor', 'child', 'patient', 'disease', 'objective', 'pain', 'treatment', 'apartment', 'sex', 'morality', 'medical', 'kid', 'st...</td>\n",
       "    </tr>\n",
       "    <tr>\n",
       "      <th>12</th>\n",
       "      <td>Topic 13</td>\n",
       "      <td>['water', 'gas', 'keyboard', 'tank', 'fire', 'cool', 'chip', 'air', 'signal', 'hot', 'serial', 'circuit', 'heat', 'ground', 'cable', 'switch', 'je...</td>\n",
       "    </tr>\n",
       "    <tr>\n",
       "      <th>13</th>\n",
       "      <td>Topic 14</td>\n",
       "      <td>['encryption', 'science', 'evidence', 'argument', 'privacy', 'technology', 'anonymous', 'access', 'device', 'theory', 'posting', 'value', 'user', ...</td>\n",
       "    </tr>\n",
       "    <tr>\n",
       "      <th>14</th>\n",
       "      <td>Topic 15</td>\n",
       "      <td>['chip', 'hockey', 'goal', 'period', 'shot', 'playoff', 'pick', 'company', 'player', 'penalty', 'ice', 'trade', 'fan', 'puck', 'round', 'code', 'c...</td>\n",
       "    </tr>\n",
       "  </tbody>\n",
       "</table>\n",
       "</div>"
      ],
      "text/plain": [
       "       topic  \\\n",
       "0    Topic 1   \n",
       "1    Topic 2   \n",
       "2    Topic 3   \n",
       "3    Topic 4   \n",
       "4    Topic 5   \n",
       "5    Topic 6   \n",
       "6    Topic 7   \n",
       "7    Topic 8   \n",
       "8    Topic 9   \n",
       "9   Topic 10   \n",
       "10  Topic 11   \n",
       "11  Topic 12   \n",
       "12  Topic 13   \n",
       "13  Topic 14   \n",
       "14  Topic 15   \n",
       "\n",
       "                                                                                                                                              topic words  \n",
       "0   ['israeli', 'war', 'human', 'member', 'anti', 'child', 'political', 'turkish', 'murder', 'action', 'fire', 'death', 'arab', 'jewish', 'land', 'arm...  \n",
       "1   ['image', 'color', 'display', 'server', 'application', 'disk', 'format', 'screen', 'user', 'package', 'graphic', 'code', 'widget', 'font', 'datum'...  \n",
       "2   ['player', 'season', 'monitor', 'hit', 'score', 'fan', 'baseball', 'league', 'record', 'average', 'ball', 'stat', 'ground', 'pitch', 'tie', 'major...  \n",
       "3   ['launch', 'algorithm', 'security', 'market', 'secret', 'chip', 'private', 'encryption', 'encrypt', 'space', 'commercial', 'moon', 'company', 'sec...  \n",
       "4   ['armenian', 'turkish', 'job', 'attack', 'tax', 'city', 'village', 'russian', 'child', 'american', 'israeli', 'official', 'health', 'continue', 'c...  \n",
       "5   ['driver', 'controller', 'speed', 'bus', 'board', 'chip', 'disk', 'scsi', 'ram', 'memory', 'mode', 'video', 'fast', 'motherboard', 'rom', 'rate', ...  \n",
       "6   ['space', 'entry', 'orbit', 'copy', 'launch', 'mission', 'section', 'project', 'test', 'satellite', 'return', 'rule', 'author', 'output', 'object'...  \n",
       "7   ['bike', 'ride', 'engine', 'speed', 'light', 'road', 'mile', 'dog', 'motorcycle', 'tire', 'oil', 'driver', 'dealer', 'brake', 'wheel', 'radar', 'f...  \n",
       "8   ['max', 'gun', 'weapon', 'firearm', 'crime', 'criminal', 'handgun', 'rate', 'carry', 'self', 'police', 'homicide', 'safety', 'death', 'defense', '...  \n",
       "9   ['food', 'human', 'moral', 'atheist', 'effect', 'eat', 'animal', 'msg', 'religion', 'morality', 'belief', 'study', 'diet', 'vote', 'nature', 'sens...  \n",
       "10  ['god', 'faith', 'truth', 'christian', 'church', 'religion', 'sin', 'belief', 'die', 'scripture', 'death', 'absolute', 'act', 'choose', 'save', 't...  \n",
       "11  ['drug', 'woman', 'doctor', 'child', 'patient', 'disease', 'objective', 'pain', 'treatment', 'apartment', 'sex', 'morality', 'medical', 'kid', 'st...  \n",
       "12  ['water', 'gas', 'keyboard', 'tank', 'fire', 'cool', 'chip', 'air', 'signal', 'hot', 'serial', 'circuit', 'heat', 'ground', 'cable', 'switch', 'je...  \n",
       "13  ['encryption', 'science', 'evidence', 'argument', 'privacy', 'technology', 'anonymous', 'access', 'device', 'theory', 'posting', 'value', 'user', ...  \n",
       "14  ['chip', 'hockey', 'goal', 'period', 'shot', 'playoff', 'pick', 'company', 'player', 'penalty', 'ice', 'trade', 'fan', 'puck', 'round', 'code', 'c...  "
      ]
     },
     "execution_count": 43,
     "metadata": {},
     "output_type": "execute_result"
    }
   ],
   "source": [
    "# get topic ID and corresponding topic words\n",
    "number_of_topic_words = 20\n",
    "\n",
    "dict_topics = dict(result_lda_model.show_topics(num_topics=num_topics,formatted=False,num_words=number_of_topic_words))\n",
    "\n",
    "df_topics = pd.DataFrame({'topic': list(dict_topics.keys()), \n",
    "                          'topic words': list(dict_topics.values())}, index=range(len(dict_topics)))\n",
    "\n",
    "df_topics['topic'] = df_topics['topic'].apply(lambda x: 'Topic ' + str(x + 1))\n",
    "df_topics['topic words'] = df_topics['topic words'].apply(lambda x: str(list(dict(x).keys())))\n",
    "df_topics"
   ]
  },
  {
   "cell_type": "code",
   "execution_count": 44,
   "metadata": {},
   "outputs": [
    {
     "data": {
      "text/html": [
       "<div>\n",
       "<style scoped>\n",
       "    .dataframe tbody tr th:only-of-type {\n",
       "        vertical-align: middle;\n",
       "    }\n",
       "\n",
       "    .dataframe tbody tr th {\n",
       "        vertical-align: top;\n",
       "    }\n",
       "\n",
       "    .dataframe thead th {\n",
       "        text-align: right;\n",
       "    }\n",
       "</style>\n",
       "<table border=\"1\" class=\"dataframe\">\n",
       "  <thead>\n",
       "    <tr style=\"text-align: right;\">\n",
       "      <th></th>\n",
       "      <th>topic coherence score</th>\n",
       "      <th>topic words</th>\n",
       "    </tr>\n",
       "  </thead>\n",
       "  <tbody>\n",
       "    <tr>\n",
       "      <th>0</th>\n",
       "      <td>0.807277</td>\n",
       "      <td>['driver', 'controller', 'speed', 'bus', 'board', 'chip', 'disk', 'scsi', 'ram', 'memory', 'mode', 'video', 'fast', 'motherboard', 'rom', 'rate', ...</td>\n",
       "    </tr>\n",
       "    <tr>\n",
       "      <th>1</th>\n",
       "      <td>0.750944</td>\n",
       "      <td>['image', 'color', 'display', 'server', 'application', 'disk', 'format', 'screen', 'user', 'package', 'graphic', 'code', 'widget', 'font', 'datum'...</td>\n",
       "    </tr>\n",
       "    <tr>\n",
       "      <th>2</th>\n",
       "      <td>0.699479</td>\n",
       "      <td>['player', 'season', 'monitor', 'hit', 'score', 'fan', 'baseball', 'league', 'record', 'average', 'ball', 'stat', 'ground', 'pitch', 'tie', 'major...</td>\n",
       "    </tr>\n",
       "    <tr>\n",
       "      <th>3</th>\n",
       "      <td>0.686363</td>\n",
       "      <td>['max', 'gun', 'weapon', 'firearm', 'crime', 'criminal', 'handgun', 'rate', 'carry', 'self', 'police', 'homicide', 'safety', 'death', 'defense', '...</td>\n",
       "    </tr>\n",
       "    <tr>\n",
       "      <th>4</th>\n",
       "      <td>0.683801</td>\n",
       "      <td>['god', 'faith', 'truth', 'christian', 'church', 'religion', 'sin', 'belief', 'die', 'scripture', 'death', 'absolute', 'act', 'choose', 'save', 't...</td>\n",
       "    </tr>\n",
       "  </tbody>\n",
       "</table>\n",
       "</div>"
      ],
      "text/plain": [
       "   topic coherence score  \\\n",
       "0               0.807277   \n",
       "1               0.750944   \n",
       "2               0.699479   \n",
       "3               0.686363   \n",
       "4               0.683801   \n",
       "\n",
       "                                                                                                                                             topic words  \n",
       "0  ['driver', 'controller', 'speed', 'bus', 'board', 'chip', 'disk', 'scsi', 'ram', 'memory', 'mode', 'video', 'fast', 'motherboard', 'rom', 'rate', ...  \n",
       "1  ['image', 'color', 'display', 'server', 'application', 'disk', 'format', 'screen', 'user', 'package', 'graphic', 'code', 'widget', 'font', 'datum'...  \n",
       "2  ['player', 'season', 'monitor', 'hit', 'score', 'fan', 'baseball', 'league', 'record', 'average', 'ball', 'stat', 'ground', 'pitch', 'tie', 'major...  \n",
       "3  ['max', 'gun', 'weapon', 'firearm', 'crime', 'criminal', 'handgun', 'rate', 'carry', 'self', 'police', 'homicide', 'safety', 'death', 'defense', '...  \n",
       "4  ['god', 'faith', 'truth', 'christian', 'church', 'religion', 'sin', 'belief', 'die', 'scripture', 'death', 'absolute', 'act', 'choose', 'save', 't...  "
      ]
     },
     "execution_count": 44,
     "metadata": {},
     "output_type": "execute_result"
    }
   ],
   "source": [
    "# get topic words and topic average cohearance score\n",
    "list_tmp = result_lda_model.top_topics(doc_term_matrix, dictionary=dictionary, topn=number_of_topic_words, \n",
    "                                       coherence='c_v', texts=df_data['list_of_lemmas'])\n",
    "list_tmp = [(s,wd) for (wd, s) in list_tmp]\n",
    "dict_scores = dict(list_tmp)\n",
    "df_scores = pd.DataFrame({'topic coherence score': list(dict_scores.keys()), \n",
    "                          'topic words': list(dict_scores.values())}, index=range(len(dict_scores)))\n",
    "df_scores['topic words'] = df_scores['topic words'].apply(lambda x: str(list(dict(x).values())))\n",
    "df_scores.head()"
   ]
  },
  {
   "cell_type": "code",
   "execution_count": 45,
   "metadata": {},
   "outputs": [
    {
     "name": "stdout",
     "output_type": "stream",
     "text": [
      "Can assign names to the topics based on the words related to each topic:\n"
     ]
    },
    {
     "data": {
      "text/html": [
       "<div>\n",
       "<style scoped>\n",
       "    .dataframe tbody tr th:only-of-type {\n",
       "        vertical-align: middle;\n",
       "    }\n",
       "\n",
       "    .dataframe tbody tr th {\n",
       "        vertical-align: top;\n",
       "    }\n",
       "\n",
       "    .dataframe thead th {\n",
       "        text-align: right;\n",
       "    }\n",
       "</style>\n",
       "<table border=\"1\" class=\"dataframe\">\n",
       "  <thead>\n",
       "    <tr style=\"text-align: right;\">\n",
       "      <th></th>\n",
       "      <th>topic</th>\n",
       "      <th>topic words</th>\n",
       "      <th>topic coherence score</th>\n",
       "    </tr>\n",
       "  </thead>\n",
       "  <tbody>\n",
       "    <tr>\n",
       "      <th>5</th>\n",
       "      <td>Topic 6</td>\n",
       "      <td>['driver', 'controller', 'speed', 'bus', 'board', 'chip', 'disk', 'scsi', 'ram', 'memory', 'mode', 'video', 'fast', 'motherboard', 'rom', 'rate', ...</td>\n",
       "      <td>0.807277</td>\n",
       "    </tr>\n",
       "    <tr>\n",
       "      <th>1</th>\n",
       "      <td>Topic 2</td>\n",
       "      <td>['image', 'color', 'display', 'server', 'application', 'disk', 'format', 'screen', 'user', 'package', 'graphic', 'code', 'widget', 'font', 'datum'...</td>\n",
       "      <td>0.750944</td>\n",
       "    </tr>\n",
       "    <tr>\n",
       "      <th>2</th>\n",
       "      <td>Topic 3</td>\n",
       "      <td>['player', 'season', 'monitor', 'hit', 'score', 'fan', 'baseball', 'league', 'record', 'average', 'ball', 'stat', 'ground', 'pitch', 'tie', 'major...</td>\n",
       "      <td>0.699479</td>\n",
       "    </tr>\n",
       "    <tr>\n",
       "      <th>8</th>\n",
       "      <td>Topic 9</td>\n",
       "      <td>['max', 'gun', 'weapon', 'firearm', 'crime', 'criminal', 'handgun', 'rate', 'carry', 'self', 'police', 'homicide', 'safety', 'death', 'defense', '...</td>\n",
       "      <td>0.686363</td>\n",
       "    </tr>\n",
       "    <tr>\n",
       "      <th>10</th>\n",
       "      <td>Topic 11</td>\n",
       "      <td>['god', 'faith', 'truth', 'christian', 'church', 'religion', 'sin', 'belief', 'die', 'scripture', 'death', 'absolute', 'act', 'choose', 'save', 't...</td>\n",
       "      <td>0.683801</td>\n",
       "    </tr>\n",
       "    <tr>\n",
       "      <th>0</th>\n",
       "      <td>Topic 1</td>\n",
       "      <td>['israeli', 'war', 'human', 'member', 'anti', 'child', 'political', 'turkish', 'murder', 'action', 'fire', 'death', 'arab', 'jewish', 'land', 'arm...</td>\n",
       "      <td>0.572023</td>\n",
       "    </tr>\n",
       "    <tr>\n",
       "      <th>7</th>\n",
       "      <td>Topic 8</td>\n",
       "      <td>['bike', 'ride', 'engine', 'speed', 'light', 'road', 'mile', 'dog', 'motorcycle', 'tire', 'oil', 'driver', 'dealer', 'brake', 'wheel', 'radar', 'f...</td>\n",
       "      <td>0.566373</td>\n",
       "    </tr>\n",
       "    <tr>\n",
       "      <th>14</th>\n",
       "      <td>Topic 15</td>\n",
       "      <td>['chip', 'hockey', 'goal', 'period', 'shot', 'playoff', 'pick', 'company', 'player', 'penalty', 'ice', 'trade', 'fan', 'puck', 'round', 'code', 'c...</td>\n",
       "      <td>0.500432</td>\n",
       "    </tr>\n",
       "    <tr>\n",
       "      <th>3</th>\n",
       "      <td>Topic 4</td>\n",
       "      <td>['launch', 'algorithm', 'security', 'market', 'secret', 'chip', 'private', 'encryption', 'encrypt', 'space', 'commercial', 'moon', 'company', 'sec...</td>\n",
       "      <td>0.455938</td>\n",
       "    </tr>\n",
       "    <tr>\n",
       "      <th>4</th>\n",
       "      <td>Topic 5</td>\n",
       "      <td>['armenian', 'turkish', 'job', 'attack', 'tax', 'city', 'village', 'russian', 'child', 'american', 'israeli', 'official', 'health', 'continue', 'c...</td>\n",
       "      <td>0.453490</td>\n",
       "    </tr>\n",
       "    <tr>\n",
       "      <th>6</th>\n",
       "      <td>Topic 7</td>\n",
       "      <td>['space', 'entry', 'orbit', 'copy', 'launch', 'mission', 'section', 'project', 'test', 'satellite', 'return', 'rule', 'author', 'output', 'object'...</td>\n",
       "      <td>0.412928</td>\n",
       "    </tr>\n",
       "    <tr>\n",
       "      <th>9</th>\n",
       "      <td>Topic 10</td>\n",
       "      <td>['food', 'human', 'moral', 'atheist', 'effect', 'eat', 'animal', 'msg', 'religion', 'morality', 'belief', 'study', 'diet', 'vote', 'nature', 'sens...</td>\n",
       "      <td>0.398640</td>\n",
       "    </tr>\n",
       "    <tr>\n",
       "      <th>12</th>\n",
       "      <td>Topic 13</td>\n",
       "      <td>['water', 'gas', 'keyboard', 'tank', 'fire', 'cool', 'chip', 'air', 'signal', 'hot', 'serial', 'circuit', 'heat', 'ground', 'cable', 'switch', 'je...</td>\n",
       "      <td>0.370370</td>\n",
       "    </tr>\n",
       "    <tr>\n",
       "      <th>13</th>\n",
       "      <td>Topic 14</td>\n",
       "      <td>['encryption', 'science', 'evidence', 'argument', 'privacy', 'technology', 'anonymous', 'access', 'device', 'theory', 'posting', 'value', 'user', ...</td>\n",
       "      <td>0.363048</td>\n",
       "    </tr>\n",
       "    <tr>\n",
       "      <th>11</th>\n",
       "      <td>Topic 12</td>\n",
       "      <td>['drug', 'woman', 'doctor', 'child', 'patient', 'disease', 'objective', 'pain', 'treatment', 'apartment', 'sex', 'morality', 'medical', 'kid', 'st...</td>\n",
       "      <td>0.341967</td>\n",
       "    </tr>\n",
       "  </tbody>\n",
       "</table>\n",
       "</div>"
      ],
      "text/plain": [
       "       topic  \\\n",
       "5    Topic 6   \n",
       "1    Topic 2   \n",
       "2    Topic 3   \n",
       "8    Topic 9   \n",
       "10  Topic 11   \n",
       "0    Topic 1   \n",
       "7    Topic 8   \n",
       "14  Topic 15   \n",
       "3    Topic 4   \n",
       "4    Topic 5   \n",
       "6    Topic 7   \n",
       "9   Topic 10   \n",
       "12  Topic 13   \n",
       "13  Topic 14   \n",
       "11  Topic 12   \n",
       "\n",
       "                                                                                                                                              topic words  \\\n",
       "5   ['driver', 'controller', 'speed', 'bus', 'board', 'chip', 'disk', 'scsi', 'ram', 'memory', 'mode', 'video', 'fast', 'motherboard', 'rom', 'rate', ...   \n",
       "1   ['image', 'color', 'display', 'server', 'application', 'disk', 'format', 'screen', 'user', 'package', 'graphic', 'code', 'widget', 'font', 'datum'...   \n",
       "2   ['player', 'season', 'monitor', 'hit', 'score', 'fan', 'baseball', 'league', 'record', 'average', 'ball', 'stat', 'ground', 'pitch', 'tie', 'major...   \n",
       "8   ['max', 'gun', 'weapon', 'firearm', 'crime', 'criminal', 'handgun', 'rate', 'carry', 'self', 'police', 'homicide', 'safety', 'death', 'defense', '...   \n",
       "10  ['god', 'faith', 'truth', 'christian', 'church', 'religion', 'sin', 'belief', 'die', 'scripture', 'death', 'absolute', 'act', 'choose', 'save', 't...   \n",
       "0   ['israeli', 'war', 'human', 'member', 'anti', 'child', 'political', 'turkish', 'murder', 'action', 'fire', 'death', 'arab', 'jewish', 'land', 'arm...   \n",
       "7   ['bike', 'ride', 'engine', 'speed', 'light', 'road', 'mile', 'dog', 'motorcycle', 'tire', 'oil', 'driver', 'dealer', 'brake', 'wheel', 'radar', 'f...   \n",
       "14  ['chip', 'hockey', 'goal', 'period', 'shot', 'playoff', 'pick', 'company', 'player', 'penalty', 'ice', 'trade', 'fan', 'puck', 'round', 'code', 'c...   \n",
       "3   ['launch', 'algorithm', 'security', 'market', 'secret', 'chip', 'private', 'encryption', 'encrypt', 'space', 'commercial', 'moon', 'company', 'sec...   \n",
       "4   ['armenian', 'turkish', 'job', 'attack', 'tax', 'city', 'village', 'russian', 'child', 'american', 'israeli', 'official', 'health', 'continue', 'c...   \n",
       "6   ['space', 'entry', 'orbit', 'copy', 'launch', 'mission', 'section', 'project', 'test', 'satellite', 'return', 'rule', 'author', 'output', 'object'...   \n",
       "9   ['food', 'human', 'moral', 'atheist', 'effect', 'eat', 'animal', 'msg', 'religion', 'morality', 'belief', 'study', 'diet', 'vote', 'nature', 'sens...   \n",
       "12  ['water', 'gas', 'keyboard', 'tank', 'fire', 'cool', 'chip', 'air', 'signal', 'hot', 'serial', 'circuit', 'heat', 'ground', 'cable', 'switch', 'je...   \n",
       "13  ['encryption', 'science', 'evidence', 'argument', 'privacy', 'technology', 'anonymous', 'access', 'device', 'theory', 'posting', 'value', 'user', ...   \n",
       "11  ['drug', 'woman', 'doctor', 'child', 'patient', 'disease', 'objective', 'pain', 'treatment', 'apartment', 'sex', 'morality', 'medical', 'kid', 'st...   \n",
       "\n",
       "    topic coherence score  \n",
       "5                0.807277  \n",
       "1                0.750944  \n",
       "2                0.699479  \n",
       "8                0.686363  \n",
       "10               0.683801  \n",
       "0                0.572023  \n",
       "7                0.566373  \n",
       "14               0.500432  \n",
       "3                0.455938  \n",
       "4                0.453490  \n",
       "6                0.412928  \n",
       "9                0.398640  \n",
       "12               0.370370  \n",
       "13               0.363048  \n",
       "11               0.341967  "
      ]
     },
     "execution_count": 45,
     "metadata": {},
     "output_type": "execute_result"
    }
   ],
   "source": [
    "# add topic score to the df_topics to distinguish between human interpretable topics and jargons of statistical analysis\n",
    "# Higher the topic coherence, the topic is more human interpretable. \n",
    "print('Can assign names to the topics based on the words related to each topic:')\n",
    "df_topics = df_topics.merge(df_scores, on='topic words')\n",
    "df_topics.sort_values(by='topic coherence score',ascending=False,inplace=True)\n",
    "df_topics"
   ]
  },
  {
   "cell_type": "code",
   "execution_count": 46,
   "metadata": {},
   "outputs": [
    {
     "data": {
      "text/plain": [
       "0                                          [(7, 0.9481344)]\n",
       "1                         [(5, 0.7443766), (4, 0.23011875)]\n",
       "10      [(7, 0.8123107), (3, 0.11521114), (9, 0.042724926)]\n",
       "100                      [(3, 0.60184705), (14, 0.2896117)]\n",
       "1000                                      [(5, 0.93777215)]\n",
       "Name: infered_topics, dtype: object"
      ]
     },
     "execution_count": 46,
     "metadata": {},
     "output_type": "execute_result"
    }
   ],
   "source": [
    "#disstribution of topics for each document\n",
    "df_data['infered_topics'] = df_data['doc2bow'].apply(lambda d: sorted(result_lda_model[d],key=lambda x:x[1],reverse=True))\n",
    "df_data['infered_topics'].head()"
   ]
  },
  {
   "cell_type": "code",
   "execution_count": 47,
   "metadata": {},
   "outputs": [],
   "source": [
    "# select a dominent topic for each document\n",
    "df_data['top_topic'] = df_data['infered_topics'].apply(lambda x: 'Topic ' + str(x[0][0] + 1))\n",
    "df_data['top_topic_score'] = df_data['infered_topics'].apply(lambda x: x[0][1] )"
   ]
  },
  {
   "cell_type": "code",
   "execution_count": 48,
   "metadata": {},
   "outputs": [],
   "source": [
    "df_data = df_data.sort_values(by=['top_topic', 'top_topic_score'], ascending=[True, False])"
   ]
  },
  {
   "cell_type": "code",
   "execution_count": 49,
   "metadata": {},
   "outputs": [
    {
     "data": {
      "text/html": [
       "<div>\n",
       "<style scoped>\n",
       "    .dataframe tbody tr th:only-of-type {\n",
       "        vertical-align: middle;\n",
       "    }\n",
       "\n",
       "    .dataframe tbody tr th {\n",
       "        vertical-align: top;\n",
       "    }\n",
       "\n",
       "    .dataframe thead th {\n",
       "        text-align: right;\n",
       "    }\n",
       "</style>\n",
       "<table border=\"1\" class=\"dataframe\">\n",
       "  <thead>\n",
       "    <tr style=\"text-align: right;\">\n",
       "      <th></th>\n",
       "      <th>top_topic</th>\n",
       "      <th>top_topic_score</th>\n",
       "      <th>text</th>\n",
       "    </tr>\n",
       "  </thead>\n",
       "  <tbody>\n",
       "    <tr>\n",
       "      <th>0</th>\n",
       "      <td>Topic 1</td>\n",
       "      <td>0.997843</td>\n",
       "      <td>Re: Death Penalty / Gulf War\\n\\n\\n In article mathew writes: &gt; writes: &gt;&gt;In article mathew writes: &gt;&gt;&gt; Yes. Fortunately we have right-thinking fol...</td>\n",
       "    </tr>\n",
       "    <tr>\n",
       "      <th>1</th>\n",
       "      <td>Topic 10</td>\n",
       "      <td>0.992980</td>\n",
       "      <td>Re: Is MSG sensitivity superstition?\\n\\n In article (OPIRG) writes: &gt;In article (David Thomas) writes: &gt; &gt;&gt;&gt;In article (Charles Packer) writes: &gt;&gt;...</td>\n",
       "    </tr>\n",
       "    <tr>\n",
       "      <th>2</th>\n",
       "      <td>Topic 11</td>\n",
       "      <td>0.997482</td>\n",
       "      <td>THE EMPTY TOMB...\\n\\n THE EMPTY TOMB: CAN WE TRUST IT? by the late Wilbur M. Smith, D.D. (1894-1977) When Jesus was on Earth, He made an amazing p...</td>\n",
       "    </tr>\n",
       "    <tr>\n",
       "      <th>3</th>\n",
       "      <td>Topic 12</td>\n",
       "      <td>0.991106</td>\n",
       "      <td>Need advice with doctor-patient relationship problem\\n\\n\\n\\n\\n\\n\\n\\n\\n\\n\\n\\n\\n\\n\\n\\n\\n I need advice with a situation which occurred between me an...</td>\n",
       "    </tr>\n",
       "    <tr>\n",
       "      <th>4</th>\n",
       "      <td>Topic 13</td>\n",
       "      <td>0.997136</td>\n",
       "      <td>Re: What do Nuclear Site's Cooling Towers do?\\n\\n (John Nagle) writes: &gt;&gt;Great Explaination, however you left off one detail, why do you always &gt;&gt;...</td>\n",
       "    </tr>\n",
       "    <tr>\n",
       "      <th>5</th>\n",
       "      <td>Topic 14</td>\n",
       "      <td>0.998883</td>\n",
       "      <td>Re: Clipper Chip. LONG follow up.\\n\\n\\n Organization: Curtin University of Technology In article (Jim Gillogly) writes: &gt; This document is in the ...</td>\n",
       "    </tr>\n",
       "    <tr>\n",
       "      <th>6</th>\n",
       "      <td>Topic 15</td>\n",
       "      <td>0.992531</td>\n",
       "      <td>Sweden-Finland, April 15\\n\\n Played in Scandinavium, Gothenburg, April 15 1993: ================================================== SWEDEN - FINLAN...</td>\n",
       "    </tr>\n",
       "    <tr>\n",
       "      <th>7</th>\n",
       "      <td>Topic 2</td>\n",
       "      <td>0.992924</td>\n",
       "      <td>Re: Laser vs Bubblejet?\\n\\n Here is a different viewpoint. &gt; FYI: The actual horizontal dot placement resoution of an HP &gt; deskjet is 1/600th inch...</td>\n",
       "    </tr>\n",
       "    <tr>\n",
       "      <th>8</th>\n",
       "      <td>Topic 3</td>\n",
       "      <td>0.998071</td>\n",
       "      <td>(ATAS) N.L. games 8/2-8/5 &amp; standings of all\\n\\n Philadelphia at Chicago: Teams tied for 1st after Sunday Dick Redding battled Chet Brewer in the ...</td>\n",
       "    </tr>\n",
       "    <tr>\n",
       "      <th>9</th>\n",
       "      <td>Topic 4</td>\n",
       "      <td>0.991275</td>\n",
       "      <td>Re: Once tapped, your code is no good any more.\\n\\n In (David Sternlight) writes: &gt;In article (Shaen Bernhardt) writes: &gt;&gt; &gt;&gt;I wish I could agree ...</td>\n",
       "    </tr>\n",
       "    <tr>\n",
       "      <th>10</th>\n",
       "      <td>Topic 5</td>\n",
       "      <td>0.999064</td>\n",
       "      <td>CLINTON: Press Briefing by George Stephanopoulos 4.14.93\\n\\n\\n\\n\\n THE WHITE HOUSE Office of the Press Secretary _________________________________...</td>\n",
       "    </tr>\n",
       "    <tr>\n",
       "      <th>11</th>\n",
       "      <td>Topic 6</td>\n",
       "      <td>0.999136</td>\n",
       "      <td>Re: Drive/Controller Compatibility\\n\\n Organization: University of North Texas Thanks to all who responded to my original post. I got the number f...</td>\n",
       "    </tr>\n",
       "    <tr>\n",
       "      <th>12</th>\n",
       "      <td>Topic 7</td>\n",
       "      <td>0.999364</td>\n",
       "      <td>Reposting: 10th International Obfuscated C Code Contest rules (1 of 2)\\n\\n Keywords: ioccc We have received a number of requests for a reposting o...</td>\n",
       "    </tr>\n",
       "    <tr>\n",
       "      <th>13</th>\n",
       "      <td>Topic 8</td>\n",
       "      <td>0.992646</td>\n",
       "      <td>Guzzi 850-T tires, plus fairing question\\n\\n I have a question about tires for my Guzzi. It is a 75 850-T. The tires that were on it when I just b...</td>\n",
       "    </tr>\n",
       "    <tr>\n",
       "      <th>14</th>\n",
       "      <td>Topic 9</td>\n",
       "      <td>0.998767</td>\n",
       "      <td>roman.bmp 12/14 \\n\\n\\n ------------ Part 12 of 14 ------------ MAX&gt;AX&gt;AX&gt;AX&gt;AX&gt;AX&gt;AX&gt;AX&gt;AX&gt;AX&gt;AX&gt;AX&gt;AX&gt;AX&gt;AX&gt; MAX&gt;AX&gt;AX&gt;AX&gt;AX&gt;AX&gt;AX&gt;AX&gt;AX&gt;AX&gt;AX&gt;AX...</td>\n",
       "    </tr>\n",
       "  </tbody>\n",
       "</table>\n",
       "</div>"
      ],
      "text/plain": [
       "   top_topic  top_topic_score  \\\n",
       "0    Topic 1         0.997843   \n",
       "1   Topic 10         0.992980   \n",
       "2   Topic 11         0.997482   \n",
       "3   Topic 12         0.991106   \n",
       "4   Topic 13         0.997136   \n",
       "5   Topic 14         0.998883   \n",
       "6   Topic 15         0.992531   \n",
       "7    Topic 2         0.992924   \n",
       "8    Topic 3         0.998071   \n",
       "9    Topic 4         0.991275   \n",
       "10   Topic 5         0.999064   \n",
       "11   Topic 6         0.999136   \n",
       "12   Topic 7         0.999364   \n",
       "13   Topic 8         0.992646   \n",
       "14   Topic 9         0.998767   \n",
       "\n",
       "                                                                                                                                                     text  \n",
       "0   Re: Death Penalty / Gulf War\\n\\n\\n In article mathew writes: > writes: >>In article mathew writes: >>> Yes. Fortunately we have right-thinking fol...  \n",
       "1   Re: Is MSG sensitivity superstition?\\n\\n In article (OPIRG) writes: >In article (David Thomas) writes: > >>>In article (Charles Packer) writes: >>...  \n",
       "2   THE EMPTY TOMB...\\n\\n THE EMPTY TOMB: CAN WE TRUST IT? by the late Wilbur M. Smith, D.D. (1894-1977) When Jesus was on Earth, He made an amazing p...  \n",
       "3   Need advice with doctor-patient relationship problem\\n\\n\\n\\n\\n\\n\\n\\n\\n\\n\\n\\n\\n\\n\\n\\n\\n I need advice with a situation which occurred between me an...  \n",
       "4   Re: What do Nuclear Site's Cooling Towers do?\\n\\n (John Nagle) writes: >>Great Explaination, however you left off one detail, why do you always >>...  \n",
       "5   Re: Clipper Chip. LONG follow up.\\n\\n\\n Organization: Curtin University of Technology In article (Jim Gillogly) writes: > This document is in the ...  \n",
       "6   Sweden-Finland, April 15\\n\\n Played in Scandinavium, Gothenburg, April 15 1993: ================================================== SWEDEN - FINLAN...  \n",
       "7   Re: Laser vs Bubblejet?\\n\\n Here is a different viewpoint. > FYI: The actual horizontal dot placement resoution of an HP > deskjet is 1/600th inch...  \n",
       "8   (ATAS) N.L. games 8/2-8/5 & standings of all\\n\\n Philadelphia at Chicago: Teams tied for 1st after Sunday Dick Redding battled Chet Brewer in the ...  \n",
       "9   Re: Once tapped, your code is no good any more.\\n\\n In (David Sternlight) writes: >In article (Shaen Bernhardt) writes: >> >>I wish I could agree ...  \n",
       "10  CLINTON: Press Briefing by George Stephanopoulos 4.14.93\\n\\n\\n\\n\\n THE WHITE HOUSE Office of the Press Secretary _________________________________...  \n",
       "11  Re: Drive/Controller Compatibility\\n\\n Organization: University of North Texas Thanks to all who responded to my original post. I got the number f...  \n",
       "12  Reposting: 10th International Obfuscated C Code Contest rules (1 of 2)\\n\\n Keywords: ioccc We have received a number of requests for a reposting o...  \n",
       "13  Guzzi 850-T tires, plus fairing question\\n\\n I have a question about tires for my Guzzi. It is a 75 850-T. The tires that were on it when I just b...  \n",
       "14  roman.bmp 12/14 \\n\\n\\n ------------ Part 12 of 14 ------------ MAX>AX>AX>AX>AX>AX>AX>AX>AX>AX>AX>AX>AX>AX>AX> MAX>AX>AX>AX>AX>AX>AX>AX>AX>AX>AX>AX...  "
      ]
     },
     "execution_count": 49,
     "metadata": {},
     "output_type": "execute_result"
    }
   ],
   "source": [
    "df_representative_text = df_data.groupby('top_topic')[['top_topic_score', 'text']].first().reset_index()\n",
    "df_representative_text"
   ]
  },
  {
   "cell_type": "code",
   "execution_count": 62,
   "metadata": {},
   "outputs": [
    {
     "name": "stdout",
     "output_type": "stream",
     "text": [
      "Topic 12 \n",
      "\n",
      "Topic words:\n",
      " ['drug', 'woman', 'doctor', 'child', 'patient', 'disease', 'objective', 'pain', 'treatment', 'apartment', 'sex', 'morality', 'medical', 'kid', 'study', 'hour', 'neighbor', 'family', 'room', 'head'] \n",
      "\n",
      "\n",
      "Need advice with doctor-patient relationship problem\n",
      "\n",
      "\n",
      "\n",
      "\n",
      "\n",
      "\n",
      "\n",
      "\n",
      "\n",
      "\n",
      "\n",
      "\n",
      "\n",
      "\n",
      "\n",
      "\n",
      " I need advice with a situation which occurred between me and a physican which upset me. I saw this doctor for a problem with recurring pain. He suggested medication and a course of treatment, and told me that I need to call him 7 days after I begin the medication so that he may monitor its effectiveness, as well as my general health. I did exactly as he asked, and made the call (reaching his secretary). I explained to her that I was following up at the doctors request, and that I was worried because the pain episodes were becoming more frequent and the medication did not seem effective. The doctor called me back, and his first words were, \"Whatever you want, youd better make it quick. Im very busy and dont have time to chit- chat with you!\" I told him I was simply following his instructions to call on the 7th day to status him, and that I was feeling worse. I then asked if perhaps there was a better time for us to talk when he had more time. He responded, \"Just spit it out now because no time is a good time.\" (Said in a raised voice.) I started to feel upset and tried to explain quickly what was going on with my condition but my nervousness interfered with my choice of words and I kind of stuttered and then said \"well, never mind\" and he said hell talk to various colleagues about other medications and hell call me some other time. This doctor called me that evening and said because I didnt express myself well, he was confused about what I wanted. At this point I was pretty upset and I told him (in an amazingly polite voice considering how angry I felt) that his earlier manner had hurt my feelings. He told me that he just doesnt have time to \"rap with patients\" and thought that was what I wanted. I told him that to assume I was calling to \"rap\" was insulting, and said again that I was just following through on his orders. He responded that he resented the implication that he felt I was making that he was not interested in learning about what his patients have to say about their condition status. He then gave me this apology: \"I am sorry that there was a miscommunication and you mistakenly thought I was insulting. I am not trying to insult you but I am not that knowledgeable about pain, and I dont have a lot of time to deal with that.\" He then told me to call him the next day for further instructions on how do deal with my pain and medication. I am still upset and have not yet called. My questions: (1) Should I continue to have this doctor manage my care? (2) Since I am in pain off and on, I realize that this may cause me to be more anxietous so am I perhaps over-reacting or overly sensitive? If this doctor refers me to his colleague who knows more about the type of pain I have, he still wants me to status him on my condition but now I am afraid to call him. --Marlena \n"
     ]
    }
   ],
   "source": [
    "#spot check\n",
    "topic = 'Topic 12'\n",
    "\n",
    "topic_words = df_topics[df_topics['topic'] == topic]['topic words'].values[0]\n",
    "\n",
    "text = df_representative_text[df_representative_text['top_topic'] == topic]['text'].values[0]\n",
    "print (topic, '\\n\\nTopic words:\\n', topic_words, '\\n\\n')\n",
    "print (text)"
   ]
  },
  {
   "cell_type": "code",
   "execution_count": null,
   "metadata": {},
   "outputs": [],
   "source": []
  }
 ],
 "metadata": {
  "kernelspec": {
   "display_name": "Python 3",
   "language": "python",
   "name": "python3"
  },
  "language_info": {
   "codemirror_mode": {
    "name": "ipython",
    "version": 3
   },
   "file_extension": ".py",
   "mimetype": "text/x-python",
   "name": "python",
   "nbconvert_exporter": "python",
   "pygments_lexer": "ipython3",
   "version": "3.7.3"
  },
  "toc": {
   "base_numbering": 1,
   "nav_menu": {},
   "number_sections": true,
   "sideBar": true,
   "skip_h1_title": false,
   "title_cell": "Table of Contents",
   "title_sidebar": "Contents",
   "toc_cell": false,
   "toc_position": {
    "height": "calc(100% - 180px)",
    "left": "10px",
    "top": "150px",
    "width": "250px"
   },
   "toc_section_display": true,
   "toc_window_display": true
  }
 },
 "nbformat": 4,
 "nbformat_minor": 2
}
