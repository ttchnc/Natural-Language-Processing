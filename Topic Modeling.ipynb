{
 "cells": [
  {
   "cell_type": "markdown",
   "metadata": {},
   "source": [
    "# Data \n",
    "Source: 'https://raw.githubusercontent.com/selva86/datasets/master/newsgroups.json'\n",
    "\n",
    "Goal:    **Model email topics**\n",
    "\n",
    "Explanations and theory: https://www.machinelearningplus.com/nlp/topic-modeling-gensim-python/"
   ]
  },
  {
   "cell_type": "markdown",
   "metadata": {},
   "source": [
    "# Load data and python libraries"
   ]
  },
  {
   "cell_type": "code",
   "execution_count": 1,
   "metadata": {},
   "outputs": [],
   "source": [
    "%matplotlib inline \n",
    "\n",
    "import warnings\n",
    "warnings.filterwarnings('ignore')\n",
    "\n",
    "import pandas as pd\n",
    "pd.set_option('max_colwidth',150)\n",
    "\n",
    "import numpy as np\n",
    "import collections\n",
    "\n",
    "# text processing libraries\n",
    "import re\n",
    "import spacy\n",
    "from spacy.lang.en.stop_words import STOP_WORDS\n",
    "import en_core_web_md \n",
    "# Initialize spacy 'en' model, keeping only tagger component (for efficiency)\n",
    "nlp = en_core_web_md.load(disable=['parser', 'ner'])\n",
    "\n",
    "# topic modeling libraries\n",
    "from gensim import models, corpora\n",
    "from gensim.models.coherencemodel import CoherenceModel\n",
    "import pyLDAvis.gensim \n",
    "\n",
    "# data visualization libraries\n",
    "import matplotlib.pyplot as plt\n",
    "import seaborn as sns\n",
    "\n",
    "# progress meter for loops\n",
    "from tqdm._tqdm_notebook import tqdm_notebook,tnrange,tqdm"
   ]
  },
  {
   "cell_type": "code",
   "execution_count": 2,
   "metadata": {},
   "outputs": [
    {
     "name": "stdout",
     "output_type": "stream",
     "text": [
      "['rec.autos' 'comp.sys.mac.hardware' 'rec.motorcycles' 'misc.forsale'\n",
      " 'comp.os.ms-windows.misc' 'alt.atheism' 'comp.graphics'\n",
      " 'rec.sport.baseball' 'rec.sport.hockey' 'sci.electronics' 'sci.space'\n",
      " 'talk.politics.misc' 'sci.med' 'talk.politics.mideast'\n",
      " 'soc.religion.christian' 'comp.windows.x' 'comp.sys.ibm.pc.hardware'\n",
      " 'talk.politics.guns' 'talk.religion.misc' 'sci.crypt']\n",
      "\n",
      "Dataset size: (11314, 3)\n"
     ]
    },
    {
     "data": {
      "text/html": [
       "<div>\n",
       "<style scoped>\n",
       "    .dataframe tbody tr th:only-of-type {\n",
       "        vertical-align: middle;\n",
       "    }\n",
       "\n",
       "    .dataframe tbody tr th {\n",
       "        vertical-align: top;\n",
       "    }\n",
       "\n",
       "    .dataframe thead th {\n",
       "        text-align: right;\n",
       "    }\n",
       "</style>\n",
       "<table border=\"1\" class=\"dataframe\">\n",
       "  <thead>\n",
       "    <tr style=\"text-align: right;\">\n",
       "      <th></th>\n",
       "      <th>content</th>\n",
       "      <th>target</th>\n",
       "      <th>target_names</th>\n",
       "    </tr>\n",
       "  </thead>\n",
       "  <tbody>\n",
       "    <tr>\n",
       "      <th>0</th>\n",
       "      <td>From: lerxst@wam.umd.edu (where's my thing)\\nSubject: WHAT car is this!?\\nNntp-Posting-Host: rac3.wam.umd.edu\\nOrganization: University of Marylan...</td>\n",
       "      <td>7</td>\n",
       "      <td>rec.autos</td>\n",
       "    </tr>\n",
       "    <tr>\n",
       "      <th>1</th>\n",
       "      <td>From: guykuo@carson.u.washington.edu (Guy Kuo)\\nSubject: SI Clock Poll - Final Call\\nSummary: Final call for SI clock reports\\nKeywords: SI,accele...</td>\n",
       "      <td>4</td>\n",
       "      <td>comp.sys.mac.hardware</td>\n",
       "    </tr>\n",
       "    <tr>\n",
       "      <th>10</th>\n",
       "      <td>From: irwin@cmptrc.lonestar.org (Irwin Arnstein)\\nSubject: Re: Recommendation on Duc\\nSummary: What's it worth?\\nDistribution: usa\\nExpires: Sat, ...</td>\n",
       "      <td>8</td>\n",
       "      <td>rec.motorcycles</td>\n",
       "    </tr>\n",
       "    <tr>\n",
       "      <th>100</th>\n",
       "      <td>From: tchen@magnus.acs.ohio-state.edu (Tsung-Kun Chen)\\nSubject: ** Software forsale (lots) **\\nNntp-Posting-Host: magnusug.magnus.acs.ohio-state....</td>\n",
       "      <td>6</td>\n",
       "      <td>misc.forsale</td>\n",
       "    </tr>\n",
       "    <tr>\n",
       "      <th>1000</th>\n",
       "      <td>From: dabl2@nlm.nih.gov (Don A.B. Lindbergh)\\nSubject: Diamond SS24X, Win 3.1, Mouse cursor\\nOrganization: National Library of Medicine\\nLines: 10...</td>\n",
       "      <td>2</td>\n",
       "      <td>comp.os.ms-windows.misc</td>\n",
       "    </tr>\n",
       "  </tbody>\n",
       "</table>\n",
       "</div>"
      ],
      "text/plain": [
       "                                                                                                                                                    content  \\\n",
       "0     From: lerxst@wam.umd.edu (where's my thing)\\nSubject: WHAT car is this!?\\nNntp-Posting-Host: rac3.wam.umd.edu\\nOrganization: University of Marylan...   \n",
       "1     From: guykuo@carson.u.washington.edu (Guy Kuo)\\nSubject: SI Clock Poll - Final Call\\nSummary: Final call for SI clock reports\\nKeywords: SI,accele...   \n",
       "10    From: irwin@cmptrc.lonestar.org (Irwin Arnstein)\\nSubject: Re: Recommendation on Duc\\nSummary: What's it worth?\\nDistribution: usa\\nExpires: Sat, ...   \n",
       "100   From: tchen@magnus.acs.ohio-state.edu (Tsung-Kun Chen)\\nSubject: ** Software forsale (lots) **\\nNntp-Posting-Host: magnusug.magnus.acs.ohio-state....   \n",
       "1000  From: dabl2@nlm.nih.gov (Don A.B. Lindbergh)\\nSubject: Diamond SS24X, Win 3.1, Mouse cursor\\nOrganization: National Library of Medicine\\nLines: 10...   \n",
       "\n",
       "      target             target_names  \n",
       "0          7                rec.autos  \n",
       "1          4    comp.sys.mac.hardware  \n",
       "10         8          rec.motorcycles  \n",
       "100        6             misc.forsale  \n",
       "1000       2  comp.os.ms-windows.misc  "
      ]
     },
     "execution_count": 2,
     "metadata": {},
     "output_type": "execute_result"
    }
   ],
   "source": [
    "df = pd.read_json('https://raw.githubusercontent.com/selva86/datasets/master/newsgroups.json')\n",
    "print(df.target_names.unique())\n",
    "\n",
    "print('\\nDataset size:', df.shape)\n",
    "df.head()"
   ]
  },
  {
   "attachments": {},
   "cell_type": "markdown",
   "metadata": {},
   "source": [
    "# Data cleaning and preparations"
   ]
  },
  {
   "cell_type": "code",
   "execution_count": 3,
   "metadata": {},
   "outputs": [
    {
     "data": {
      "text/plain": [
       "11314"
      ]
     },
     "execution_count": 3,
     "metadata": {},
     "output_type": "execute_result"
    }
   ],
   "source": [
    "# data for analysis\n",
    "df = df[df['content'].isnull() == False]\n",
    "len(df)"
   ]
  },
  {
   "cell_type": "code",
   "execution_count": 4,
   "metadata": {},
   "outputs": [
    {
     "name": "stdout",
     "output_type": "stream",
     "text": [
      "From: markm@bigfoot.sps.mot.com (Mark Monninger)\n",
      "Subject: Re: No-Haggle Deals...Save $$???\n",
      "Nntp-Posting-Host: 223.250.10.7\n",
      "Reply-To: rapw20@email.sps.mot.com\n",
      "Organization: SPS\n",
      "Distribution: usa\n",
      "Lines: 3\n",
      "\n",
      "You can be sure they wouldn't do it if it wasn't to their advantage.\n",
      "\n",
      "Mark\n",
      "\n"
     ]
    }
   ],
   "source": [
    "# content text example\n",
    "print(df['content'].iloc[104])"
   ]
  },
  {
   "cell_type": "code",
   "execution_count": 5,
   "metadata": {},
   "outputs": [
    {
     "data": {
      "text/plain": [
       "\"From: markm@bigfoot.sps.mot.com (Mark Monninger)\\nSubject: Re: No-Haggle Deals...Save $$???\\nNntp-Posting-Host: 223.250.10.7\\nReply-To: rapw20@email.sps.mot.com\\nOrganization: SPS\\nDistribution: usa\\nLines: 3\\n\\nYou can be sure they wouldn't do it if it wasn't to their advantage.\\n\\nMark\\n\""
      ]
     },
     "execution_count": 5,
     "metadata": {},
     "output_type": "execute_result"
    }
   ],
   "source": [
    "df['content'].iloc[104]"
   ]
  },
  {
   "cell_type": "code",
   "execution_count": 6,
   "metadata": {},
   "outputs": [
    {
     "name": "stdout",
     "output_type": "stream",
     "text": [
      "Every email has subject:\n"
     ]
    },
    {
     "data": {
      "text/plain": [
       "True    11314\n",
       "Name: content, dtype: int64"
      ]
     },
     "execution_count": 6,
     "metadata": {},
     "output_type": "execute_result"
    }
   ],
   "source": [
    "print('Every email has subject:')\n",
    "df['content'].str.contains('Subject: ').value_counts()"
   ]
  },
  {
   "cell_type": "code",
   "execution_count": 7,
   "metadata": {},
   "outputs": [
    {
     "name": "stdout",
     "output_type": "stream",
     "text": [
      "Extracted subject example:\n",
      " ==============================\n",
      " Re: No-Haggle Deals...Save $$???\n",
      "\n",
      "==============================\n",
      "An email has extracted subject:\n"
     ]
    },
    {
     "data": {
      "text/plain": [
       "True    11314\n",
       "Name: subject, dtype: int64"
      ]
     },
     "execution_count": 7,
     "metadata": {},
     "output_type": "execute_result"
    }
   ],
   "source": [
    "# extract Subject of each email\n",
    "df['subject'] = df['content'].str.split('Subject: ').str.get(1)\n",
    "df['subject'] = df['subject'].str.replace(r'\\n+.+','')\n",
    "print('Extracted subject example:\\n', '='*30 + '\\n', df['subject'].iloc[104])\n",
    "print('='*30)\n",
    "\n",
    "#check that all subjects where extracted\n",
    "print('An email has extracted subject:')\n",
    "(df['subject'].isnull() == False).value_counts()"
   ]
  },
  {
   "cell_type": "code",
   "execution_count": 8,
   "metadata": {},
   "outputs": [
    {
     "name": "stdout",
     "output_type": "stream",
     "text": [
      "Every email has words \"Lines: \":\n"
     ]
    },
    {
     "data": {
      "text/plain": [
       "True     11276\n",
       "False       38\n",
       "Name: content, dtype: int64"
      ]
     },
     "execution_count": 8,
     "metadata": {},
     "output_type": "execute_result"
    }
   ],
   "source": [
    "# extract text of each email\n",
    "print('Every email has words \"Lines: \":')\n",
    "df['content'].str.contains('Lines: ').value_counts()"
   ]
  },
  {
   "cell_type": "code",
   "execution_count": 9,
   "metadata": {},
   "outputs": [
    {
     "name": "stdout",
     "output_type": "stream",
     "text": [
      "Extracted subject example:\n",
      " ==============================\n",
      " \n",
      "\n",
      "You can be sure they wouldn't do it if it wasn't to their advantage.\n",
      "\n",
      "Mark\n",
      "\n",
      "==============================\n",
      "An email has extracted text:\n"
     ]
    },
    {
     "data": {
      "text/plain": [
       "True     11273\n",
       "False       41\n",
       "Name: text, dtype: int64"
      ]
     },
     "execution_count": 9,
     "metadata": {},
     "output_type": "execute_result"
    }
   ],
   "source": [
    "# extract text of each email\n",
    "df['text'] = df['content'].str.split(r'Lines: \\d+').str.get(1)\n",
    "print('Extracted subject example:\\n', '='*30 + '\\n', df['text'].iloc[104])\n",
    "print('='*30)\n",
    "\n",
    "#check that all texts where extracted\n",
    "print('An email has extracted text:')\n",
    "(df['text'].isnull() == False).value_counts()"
   ]
  },
  {
   "cell_type": "code",
   "execution_count": 10,
   "metadata": {},
   "outputs": [
    {
     "data": {
      "text/plain": [
       "11273"
      ]
     },
     "execution_count": 10,
     "metadata": {},
     "output_type": "execute_result"
    }
   ],
   "source": [
    "# delete records with no extracted text of email\n",
    "df = df[df['text'].isnull() == False]\n",
    "len(df)"
   ]
  },
  {
   "cell_type": "code",
   "execution_count": 11,
   "metadata": {},
   "outputs": [
    {
     "name": "stdout",
     "output_type": "stream",
     "text": [
      "\n",
      "NNTP-Posting-Host: carson.u.washington.edu\n",
      "\n",
      "A fair number of brave souls who upgraded their SI clock oscillator have\n",
      "shared their experiences for this poll. Please send a brief message detailing\n",
      "your experiences with the procedure. Top speed attained, CPU rated speed,\n",
      "add on cards and adapters, heat sinks, hour of usage per day, floppy disk\n",
      "functionality with 800 and 1.4 m floppies are especially requested.\n",
      "\n",
      "I will be summarizing in the next two days, so please add to the network\n",
      "knowledge base if you have done the clock upgrade and haven't answered this\n",
      "poll. Thanks.\n",
      "\n",
      "Guy Kuo <guykuo@u.washington.edu>\n",
      "\n"
     ]
    }
   ],
   "source": [
    "# spot check\n",
    "print(df[df['text'].str.contains('@') == True]['text'].iloc[0])"
   ]
  },
  {
   "cell_type": "code",
   "execution_count": 12,
   "metadata": {},
   "outputs": [],
   "source": [
    "# additional text cleaning\n",
    "\n",
    "# remove text related to \"Posting-Host\"\n",
    "df['text'] = df['text'].str.replace(r'NNTP-Posting-Host: \\S*\\s?', '', re.I)\n",
    "\n",
    "# remove Emails\n",
    "df['text'] = df['text'].str.replace(r'\\S*@\\S*\\s?', '')\n",
    "\n",
    "# remove new line characters\n",
    "df['text'] = df['text'].str.replace(r'\\s+', ' ')\n",
    "\n",
    "# remove single quotes\n",
    "df['text'] = df['text'].str.replace(r\"\\'\", '')"
   ]
  },
  {
   "cell_type": "code",
   "execution_count": 13,
   "metadata": {},
   "outputs": [
    {
     "name": "stdout",
     "output_type": "stream",
     "text": [
      "Message text contains emails:\n"
     ]
    },
    {
     "data": {
      "text/plain": [
       "False    11273\n",
       "Name: text, dtype: int64"
      ]
     },
     "execution_count": 13,
     "metadata": {},
     "output_type": "execute_result"
    }
   ],
   "source": [
    "# spot check\n",
    "print('Message text contains emails:')\n",
    "df['text'].str.contains('@').value_counts()"
   ]
  },
  {
   "cell_type": "code",
   "execution_count": 14,
   "metadata": {},
   "outputs": [],
   "source": [
    "# add message subject to the message text for topic modeling\n",
    "df['text'] = df['subject'] + '\\n' + df['text']"
   ]
  },
  {
   "cell_type": "code",
   "execution_count": 15,
   "metadata": {},
   "outputs": [
    {
     "name": "stdout",
     "output_type": "stream",
     "text": [
      "Text Length in Characters:\n"
     ]
    },
    {
     "data": {
      "text/plain": [
       "count    11273.000000\n",
       "mean      1605.498359\n",
       "std       3437.286153\n",
       "min          7.000000\n",
       "25%        535.000000\n",
       "50%        919.000000\n",
       "75%       1574.000000\n",
       "max      64788.000000\n",
       "Name: Text Length in Characters, dtype: float64"
      ]
     },
     "execution_count": 15,
     "metadata": {},
     "output_type": "execute_result"
    }
   ],
   "source": [
    "# review text length analysis\n",
    "df['Text Length in Characters'] = df['text'].apply(len)\n",
    "\n",
    "print(\"Text Length in Characters:\")\n",
    "df['Text Length in Characters'].describe()"
   ]
  },
  {
   "cell_type": "code",
   "execution_count": 16,
   "metadata": {},
   "outputs": [],
   "source": [
    "del df['Text Length in Characters']"
   ]
  },
  {
   "cell_type": "code",
   "execution_count": 17,
   "metadata": {},
   "outputs": [],
   "source": [
    "df_data = df.copy()"
   ]
  },
  {
   "cell_type": "markdown",
   "metadata": {},
   "source": [
    "# Data preprocessing"
   ]
  },
  {
   "cell_type": "code",
   "execution_count": 18,
   "metadata": {},
   "outputs": [],
   "source": [
    "# create spacy \"nlp\" object\n",
    "df_data['doc'] = df_data['text'].apply(lambda x: nlp(x))\n",
    "\n",
    "# delete stop words, select POSs that are letters and correspond to words with at least 3 characters \n",
    "df_data['list_of_POSs'] = df_data['doc'].apply(lambda x: [word.pos_\n",
    "                                    for word in x if (word.is_stop==False) & (len(word.text)>2) & (word.is_alpha)])"
   ]
  },
  {
   "cell_type": "markdown",
   "metadata": {},
   "source": [
    "##### Selecting most informative POSs by total frequencies"
   ]
  },
  {
   "cell_type": "code",
   "execution_count": 19,
   "metadata": {},
   "outputs": [
    {
     "name": "stdout",
     "output_type": "stream",
     "text": [
      "Total number of POSs:  16\n",
      "POS = ADP means conjunction, subordinating or preposition\n",
      "POS = INTJ means interjection\n"
     ]
    },
    {
     "data": {
      "text/html": [
       "<div>\n",
       "<style scoped>\n",
       "    .dataframe tbody tr th:only-of-type {\n",
       "        vertical-align: middle;\n",
       "    }\n",
       "\n",
       "    .dataframe tbody tr th {\n",
       "        vertical-align: top;\n",
       "    }\n",
       "\n",
       "    .dataframe thead th {\n",
       "        text-align: right;\n",
       "    }\n",
       "</style>\n",
       "<table border=\"1\" class=\"dataframe\">\n",
       "  <thead>\n",
       "    <tr style=\"text-align: right;\">\n",
       "      <th></th>\n",
       "      <th>Frequency</th>\n",
       "    </tr>\n",
       "  </thead>\n",
       "  <tbody>\n",
       "    <tr>\n",
       "      <th>NOUN</th>\n",
       "      <td>531906</td>\n",
       "    </tr>\n",
       "    <tr>\n",
       "      <th>VERB</th>\n",
       "      <td>280760</td>\n",
       "    </tr>\n",
       "    <tr>\n",
       "      <th>PROPN</th>\n",
       "      <td>269443</td>\n",
       "    </tr>\n",
       "    <tr>\n",
       "      <th>ADJ</th>\n",
       "      <td>156607</td>\n",
       "    </tr>\n",
       "    <tr>\n",
       "      <th>ADV</th>\n",
       "      <td>44235</td>\n",
       "    </tr>\n",
       "    <tr>\n",
       "      <th>ADP</th>\n",
       "      <td>5711</td>\n",
       "    </tr>\n",
       "    <tr>\n",
       "      <th>INTJ</th>\n",
       "      <td>5221</td>\n",
       "    </tr>\n",
       "    <tr>\n",
       "      <th>X</th>\n",
       "      <td>3545</td>\n",
       "    </tr>\n",
       "    <tr>\n",
       "      <th>NUM</th>\n",
       "      <td>1233</td>\n",
       "    </tr>\n",
       "    <tr>\n",
       "      <th>CCONJ</th>\n",
       "      <td>380</td>\n",
       "    </tr>\n",
       "    <tr>\n",
       "      <th>DET</th>\n",
       "      <td>324</td>\n",
       "    </tr>\n",
       "    <tr>\n",
       "      <th>PRON</th>\n",
       "      <td>144</td>\n",
       "    </tr>\n",
       "    <tr>\n",
       "      <th>PART</th>\n",
       "      <td>108</td>\n",
       "    </tr>\n",
       "    <tr>\n",
       "      <th>PUNCT</th>\n",
       "      <td>83</td>\n",
       "    </tr>\n",
       "    <tr>\n",
       "      <th>SYM</th>\n",
       "      <td>9</td>\n",
       "    </tr>\n",
       "    <tr>\n",
       "      <th>AUX</th>\n",
       "      <td>3</td>\n",
       "    </tr>\n",
       "  </tbody>\n",
       "</table>\n",
       "</div>"
      ],
      "text/plain": [
       "       Frequency\n",
       "NOUN      531906\n",
       "VERB      280760\n",
       "PROPN     269443\n",
       "ADJ       156607\n",
       "ADV        44235\n",
       "ADP         5711\n",
       "INTJ        5221\n",
       "X           3545\n",
       "NUM         1233\n",
       "CCONJ        380\n",
       "DET          324\n",
       "PRON         144\n",
       "PART         108\n",
       "PUNCT         83\n",
       "SYM            9\n",
       "AUX            3"
      ]
     },
     "execution_count": 19,
     "metadata": {},
     "output_type": "execute_result"
    }
   ],
   "source": [
    "# POS is more about the context of the features than frequencies of features\n",
    "\n",
    "# get all POSs in each review in a list\n",
    "tmp_list = df_data['list_of_POSs'].tolist()\n",
    "list_of_POSs = [POS for sublist in tmp_list for POS in sublist]\n",
    "\n",
    "#count POSs' total frequencies in the corpus\n",
    "POS_freq_counter = collections.Counter(list_of_POSs)\n",
    "s_POS_freq = pd.Series(POS_freq_counter)\n",
    "\n",
    "#sort POSs document frequencies in the corpus \n",
    "s_tmp = s_POS_freq.sort_values(ascending=False)\n",
    "\n",
    "print('Total number of POSs: ', len(set(s_POS_freq)))\n",
    "print('POS = ADP means conjunction, subordinating or preposition')\n",
    "print('POS = INTJ means interjection')\n",
    "pd.DataFrame(s_tmp, columns=['Frequency'])"
   ]
  },
  {
   "cell_type": "code",
   "execution_count": 20,
   "metadata": {},
   "outputs": [
    {
     "name": "stdout",
     "output_type": "stream",
     "text": [
      "selecting POSs:\n"
     ]
    },
    {
     "data": {
      "text/plain": [
       "['NOUN', 'VERB', 'ADJ', 'ADV']"
      ]
     },
     "execution_count": 20,
     "metadata": {},
     "output_type": "execute_result"
    }
   ],
   "source": [
    "# selecting POSs\n",
    "selected_POSs = ['NOUN', 'VERB', 'ADJ', 'ADV']\n",
    "\n",
    "print('selecting POSs:')\n",
    "selected_POSs "
   ]
  },
  {
   "cell_type": "markdown",
   "metadata": {},
   "source": [
    "##### Selecting most informative lemmas"
   ]
  },
  {
   "cell_type": "code",
   "execution_count": 21,
   "metadata": {},
   "outputs": [],
   "source": [
    "# lemmatize words with selected POSs, \n",
    "# lemmas that are not stop-words and have at least 3 characters\n",
    "df_data['list_of_lemmas'] = df_data['doc'].apply(lambda x: [word.lemma_\n",
    "                                                                for word in x if (word.is_stop==False) & \\\n",
    "                                                                                 (len(word.text)>2) & \\\n",
    "                                                                                 (word.is_alpha) & \\\n",
    "                                                                                 (word.pos_ in selected_POSs)])"
   ]
  },
  {
   "cell_type": "code",
   "execution_count": 22,
   "metadata": {},
   "outputs": [
    {
     "name": "stdout",
     "output_type": "stream",
     "text": [
      "** Software forsale (lots) **\n",
      "\n",
      " 1. Software publishing SuperBase 4 windows v.1.3 --->$80 2. OCR System ReadRight v.3.1 for Windows --->$65 3. OCR System ReadRight v.2.01 for DOS --->$65 4. Unregistered Zortech 32 bit C++ Compiler v.3.1 --->$ 250 with Multiscope windows Debugger, WhiteWater Resource Toolkit, Library Source Code 5. Glockenspiel/ImageSoft Commonview 2 Windows Applications Framework for Borland C++ --->$70 6. Spontaneous Assembly Library With Source Code --->$50 7. Microsoft Macro Assembly 6.0 --->$50 8. Microsoft Windows v.3.1 SDK Documentation --->$125 9. Microsoft FoxPro V.2.0 --->$75 10. WordPerfect 5.0 Developers Toolkit --->$20 11. Kedwell Software DataBoss v.3.5 C Code Generator --->$100 12. Kedwell InstallBoss v.2.0 Installation Generator --->$35 13. Liant Software C++/Views v.2.1 Windows Application Framework with Source Code --->$195 14. IBM OS/2 2.0 & Developers Toolkit --->$95 15. CBTree DOS/Windows Library with Source Code --->$120 16. Symantec TimeLine for Windows --->$90 17. TimeSlip TimeSheet Professional for Windows --->$30 Many More Software/Books Available,Price Negotiable \n",
      "\n",
      "#Lemmas:\n",
      "\n",
      "['software', 'forsale', 'lot', 'software', 'publish', 'window', 'ocr', 'system', 'unregistered', 'bit', 'window', 'spontaneous', 'documentation', 'installation', 'price', 'negotiable']\n",
      "\n",
      "#POSs:\n",
      "\n",
      "{'NOUN', 'ADJ', 'VERB', 'PROPN'}\n",
      "Only lemmas with POSs: {'NOUN', 'VERB', 'ADJ'}  were selected\n"
     ]
    }
   ],
   "source": [
    "# example of an email\n",
    "ind = 3\n",
    "\n",
    "print(df_data['text'].iloc[ind])\n",
    "print('\\n#Lemmas:\\n')\n",
    "print(df_data['list_of_lemmas'].iloc[ind])\n",
    "\n",
    "set_POSs = set(df_data['list_of_POSs'].apply(set).iloc[ind])\n",
    "print('\\n#POSs:\\n')\n",
    "print(set_POSs)\n",
    "print('Only lemmas with POSs:', set_POSs & set(selected_POSs), ' were selected')"
   ]
  },
  {
   "cell_type": "code",
   "execution_count": 23,
   "metadata": {},
   "outputs": [
    {
     "name": "stdout",
     "output_type": "stream",
     "text": [
      "Total number of unique lemmas:  32205\n",
      "\n",
      "Distribution of lemmas' document counts: \n",
      "count    32205.000000\n",
      "mean        21.334451\n",
      "std        109.287340\n",
      "min          1.000000\n",
      "50%          2.000000\n",
      "55.0%        2.000000\n",
      "65%          4.000000\n",
      "75%          7.000000\n",
      "85%         16.400000\n",
      "95%         82.000000\n",
      "97%        145.000000\n",
      "99%        395.960000\n",
      "max       6470.000000\n",
      "dtype: float64\n"
     ]
    },
    {
     "data": {
      "text/html": [
       "<div>\n",
       "<style scoped>\n",
       "    .dataframe tbody tr th:only-of-type {\n",
       "        vertical-align: middle;\n",
       "    }\n",
       "\n",
       "    .dataframe tbody tr th {\n",
       "        vertical-align: top;\n",
       "    }\n",
       "\n",
       "    .dataframe thead th {\n",
       "        text-align: right;\n",
       "    }\n",
       "</style>\n",
       "<table border=\"1\" class=\"dataframe\">\n",
       "  <thead>\n",
       "    <tr style=\"text-align: right;\">\n",
       "      <th></th>\n",
       "      <th>Most freq words</th>\n",
       "      <th>M_freq</th>\n",
       "      <th>Least freq words</th>\n",
       "      <th>L_freq</th>\n",
       "    </tr>\n",
       "  </thead>\n",
       "  <tbody>\n",
       "    <tr>\n",
       "      <th>0</th>\n",
       "      <td>write</td>\n",
       "      <td>6470</td>\n",
       "      <td>cum</td>\n",
       "      <td>1</td>\n",
       "    </tr>\n",
       "    <tr>\n",
       "      <th>1</th>\n",
       "      <td>article</td>\n",
       "      <td>4930</td>\n",
       "      <td>woodlouse</td>\n",
       "      <td>1</td>\n",
       "    </tr>\n",
       "    <tr>\n",
       "      <th>2</th>\n",
       "      <td>know</td>\n",
       "      <td>3799</td>\n",
       "      <td>crumenam</td>\n",
       "      <td>1</td>\n",
       "    </tr>\n",
       "    <tr>\n",
       "      <th>3</th>\n",
       "      <td>think</td>\n",
       "      <td>3242</td>\n",
       "      <td>populum</td>\n",
       "      <td>1</td>\n",
       "    </tr>\n",
       "    <tr>\n",
       "      <th>4</th>\n",
       "      <td>good</td>\n",
       "      <td>2789</td>\n",
       "      <td>ignorantium</td>\n",
       "      <td>1</td>\n",
       "    </tr>\n",
       "    <tr>\n",
       "      <th>5</th>\n",
       "      <td>time</td>\n",
       "      <td>2695</td>\n",
       "      <td>EXTENDED</td>\n",
       "      <td>1</td>\n",
       "    </tr>\n",
       "    <tr>\n",
       "      <th>6</th>\n",
       "      <td>people</td>\n",
       "      <td>2455</td>\n",
       "      <td>arguer</td>\n",
       "      <td>1</td>\n",
       "    </tr>\n",
       "    <tr>\n",
       "      <th>7</th>\n",
       "      <td>use</td>\n",
       "      <td>2366</td>\n",
       "      <td>falseness</td>\n",
       "      <td>1</td>\n",
       "    </tr>\n",
       "    <tr>\n",
       "      <th>8</th>\n",
       "      <td>want</td>\n",
       "      <td>2307</td>\n",
       "      <td>equivocation</td>\n",
       "      <td>1</td>\n",
       "    </tr>\n",
       "    <tr>\n",
       "      <th>9</th>\n",
       "      <td>work</td>\n",
       "      <td>2244</td>\n",
       "      <td>having</td>\n",
       "      <td>1</td>\n",
       "    </tr>\n",
       "    <tr>\n",
       "      <th>10</th>\n",
       "      <td>say</td>\n",
       "      <td>2194</td>\n",
       "      <td>INTERROGATION</td>\n",
       "      <td>1</td>\n",
       "    </tr>\n",
       "    <tr>\n",
       "      <th>11</th>\n",
       "      <td>look</td>\n",
       "      <td>2174</td>\n",
       "      <td>antiquitam</td>\n",
       "      <td>1</td>\n",
       "    </tr>\n",
       "    <tr>\n",
       "      <th>12</th>\n",
       "      <td>way</td>\n",
       "      <td>2174</td>\n",
       "      <td>numeram</td>\n",
       "      <td>1</td>\n",
       "    </tr>\n",
       "    <tr>\n",
       "      <th>13</th>\n",
       "      <td>need</td>\n",
       "      <td>2139</td>\n",
       "      <td>ruinous</td>\n",
       "      <td>1</td>\n",
       "    </tr>\n",
       "    <tr>\n",
       "      <th>14</th>\n",
       "      <td>get</td>\n",
       "      <td>2136</td>\n",
       "      <td>lazarum</td>\n",
       "      <td>1</td>\n",
       "    </tr>\n",
       "    <tr>\n",
       "      <th>15</th>\n",
       "      <td>go</td>\n",
       "      <td>2092</td>\n",
       "      <td>perjurer</td>\n",
       "      <td>1</td>\n",
       "    </tr>\n",
       "    <tr>\n",
       "      <th>16</th>\n",
       "      <td>thing</td>\n",
       "      <td>2051</td>\n",
       "      <td>legalist</td>\n",
       "      <td>1</td>\n",
       "    </tr>\n",
       "    <tr>\n",
       "      <th>17</th>\n",
       "      <td>come</td>\n",
       "      <td>2008</td>\n",
       "      <td>petitio</td>\n",
       "      <td>1</td>\n",
       "    </tr>\n",
       "    <tr>\n",
       "      <th>18</th>\n",
       "      <td>find</td>\n",
       "      <td>1991</td>\n",
       "      <td>studen</td>\n",
       "      <td>1</td>\n",
       "    </tr>\n",
       "    <tr>\n",
       "      <th>19</th>\n",
       "      <td>year</td>\n",
       "      <td>1980</td>\n",
       "      <td>shouldn</td>\n",
       "      <td>1</td>\n",
       "    </tr>\n",
       "  </tbody>\n",
       "</table>\n",
       "</div>"
      ],
      "text/plain": [
       "   Most freq words  M_freq Least freq words  L_freq\n",
       "0            write    6470              cum       1\n",
       "1          article    4930        woodlouse       1\n",
       "2             know    3799         crumenam       1\n",
       "3            think    3242          populum       1\n",
       "4             good    2789      ignorantium       1\n",
       "5             time    2695         EXTENDED       1\n",
       "6           people    2455           arguer       1\n",
       "7              use    2366        falseness       1\n",
       "8             want    2307     equivocation       1\n",
       "9             work    2244           having       1\n",
       "10             say    2194    INTERROGATION       1\n",
       "11            look    2174       antiquitam       1\n",
       "12             way    2174          numeram       1\n",
       "13            need    2139          ruinous       1\n",
       "14             get    2136          lazarum       1\n",
       "15              go    2092         perjurer       1\n",
       "16           thing    2051         legalist       1\n",
       "17            come    2008          petitio       1\n",
       "18            find    1991           studen       1\n",
       "19            year    1980          shouldn       1"
      ]
     },
     "execution_count": 23,
     "metadata": {},
     "output_type": "execute_result"
    }
   ],
   "source": [
    "# reducing dimensionality of word dictionary in LDA model\n",
    "# deleting too frequent and too infrequent lemmas based on document frequency\n",
    "\n",
    "# get all unique lemmas from each review in a list\n",
    "tmp_list = df_data['list_of_lemmas'].apply(set).apply(list).tolist()\n",
    "list_of_lemmas = [lemma for sublist in tmp_list for lemma in sublist]\n",
    "\n",
    "# count lemmas' document frequencies in the corpus\n",
    "lemma_freq_counter = collections.Counter(list_of_lemmas)\n",
    "s_lemma_freq = pd.Series(lemma_freq_counter)\n",
    "\n",
    "# analyze lemmas' document frequencies in the corpus \n",
    "s_tmp = s_lemma_freq.sort_values(ascending=False)\n",
    "df_tmp = pd.DataFrame({'Most freq words': list(s_tmp.index[:20]),\n",
    "                       'M_freq': list(s_tmp.iloc[:20]),\n",
    "                       'Least freq words': list(s_tmp.index[-20:]),\n",
    "                       'L_freq': list(s_tmp.iloc[-20:])})\n",
    "\n",
    "print('Total number of unique lemmas: ', len(s_lemma_freq))\n",
    "print (\"\\nDistribution of lemmas' document counts: \")\n",
    "print(s_lemma_freq.describe(percentiles=[0.55, 0.65, 0.75, 0.85, 0.95, 0.97, 0.99]))\n",
    "df_tmp"
   ]
  },
  {
   "cell_type": "code",
   "execution_count": 24,
   "metadata": {},
   "outputs": [
    {
     "name": "stdout",
     "output_type": "stream",
     "text": [
      "Upper bound for lemma document frequency:  500\n",
      "Lower bound for lemma document frequency:  3\n",
      "Number of selected lemmas:  11810\n",
      "\n",
      "Example of selected lemmas:\n"
     ]
    },
    {
     "data": {
      "text/plain": [
       "['doc', 'tote', 'inhale', 'strictly', 'destructive']"
      ]
     },
     "execution_count": 24,
     "metadata": {},
     "output_type": "execute_result"
    }
   ],
   "source": [
    "# select lemmas \n",
    "up_pst = 500 #s_lemma_freq.quantile(0.99)\n",
    "low_pst = 3 #s_lemma_freq.quantile(0.50)\n",
    "\n",
    "selected_lemmas = set(s_lemma_freq[(s_lemma_freq > low_pst)&(s_lemma_freq < up_pst)].index)\n",
    "print ('Upper bound for lemma document frequency: ', up_pst)\n",
    "print ('Lower bound for lemma document frequency: ', low_pst)\n",
    "print('Number of selected lemmas: ', len(selected_lemmas))\n",
    "\n",
    "print(\"\\nExample of selected lemmas:\")\n",
    "list(selected_lemmas)[:5]"
   ]
  },
  {
   "cell_type": "code",
   "execution_count": 25,
   "metadata": {},
   "outputs": [],
   "source": [
    "# select lemmas in each document if they belong to chosen list of lemmas\n",
    "df_data['selected_list_of_lemmas'] = df_data['list_of_lemmas'].apply(lambda x: \n",
    "                                                                     [l for l in x if l in selected_lemmas])"
   ]
  },
  {
   "cell_type": "code",
   "execution_count": 26,
   "metadata": {},
   "outputs": [
    {
     "name": "stdout",
     "output_type": "stream",
     "text": [
      "** Software forsale (lots) **\n",
      "\n",
      " 1. Software publishing SuperBase 4 windows v.1.3 --->$80 2. OCR System ReadRight v.3.1 for Windows --->$65 3. OCR System ReadRight v.2.01 for DOS --->$65 4. Unregistered Zortech 32 bit C++ Compiler v.3.1 --->$ 250 with Multiscope windows Debugger, WhiteWater Resource Toolkit, Library Source Code 5. Glockenspiel/ImageSoft Commonview 2 Windows Applications Framework for Borland C++ --->$70 6. Spontaneous Assembly Library With Source Code --->$50 7. Microsoft Macro Assembly 6.0 --->$50 8. Microsoft Windows v.3.1 SDK Documentation --->$125 9. Microsoft FoxPro V.2.0 --->$75 10. WordPerfect 5.0 Developers Toolkit --->$20 11. Kedwell Software DataBoss v.3.5 C Code Generator --->$100 12. Kedwell InstallBoss v.2.0 Installation Generator --->$35 13. Liant Software C++/Views v.2.1 Windows Application Framework with Source Code --->$195 14. IBM OS/2 2.0 & Developers Toolkit --->$95 15. CBTree DOS/Windows Library with Source Code --->$120 16. Symantec TimeLine for Windows --->$90 17. TimeSlip TimeSheet Professional for Windows --->$30 Many More Software/Books Available,Price Negotiable \n",
      "\n",
      "#Selected lemmas:\n",
      "\n",
      "['forsale', 'publish', 'unregistered', 'spontaneous', 'documentation', 'installation', 'negotiable']\n"
     ]
    }
   ],
   "source": [
    "# example of an email\n",
    "ind = 3\n",
    "\n",
    "print(df_data['text'].iloc[ind])\n",
    "print('\\n#Selected lemmas:\\n')\n",
    "print(df_data['selected_list_of_lemmas'].iloc[ind])"
   ]
  },
  {
   "cell_type": "markdown",
   "metadata": {},
   "source": [
    "# Create document-term matrix for the LDA model "
   ]
  },
  {
   "cell_type": "code",
   "execution_count": 27,
   "metadata": {},
   "outputs": [],
   "source": [
    "# create a vocabulary for the LDA model \n",
    "dictionary = corpora.Dictionary(df_data['selected_list_of_lemmas'])"
   ]
  },
  {
   "cell_type": "code",
   "execution_count": 28,
   "metadata": {},
   "outputs": [
    {
     "name": "stdout",
     "output_type": "stream",
     "text": [
      "Number of texts processed:  11273\n",
      "Number of extracted tokens/words:  11810\n",
      "\n",
      "Each text is represented by list of  11810  tuples: \n",
      "\t\t(token's index in bag-of-words dictionary, token's term frequency)\n"
     ]
    }
   ],
   "source": [
    "print('Number of texts processed: ', dictionary.num_docs)\n",
    "print('Number of extracted tokens/words: ', len(dictionary.token2id))\n",
    "print('\\nEach text is represented by list of ', len(dictionary.token2id), \n",
    "      \" tuples: \\n\\t\\t(token's index in bag-of-words dictionary, token's term frequency)\")"
   ]
  },
  {
   "cell_type": "code",
   "execution_count": 29,
   "metadata": {},
   "outputs": [
    {
     "data": {
      "text/html": [
       "<div>\n",
       "<style scoped>\n",
       "    .dataframe tbody tr th:only-of-type {\n",
       "        vertical-align: middle;\n",
       "    }\n",
       "\n",
       "    .dataframe tbody tr th {\n",
       "        vertical-align: top;\n",
       "    }\n",
       "\n",
       "    .dataframe thead th {\n",
       "        text-align: right;\n",
       "    }\n",
       "</style>\n",
       "<table border=\"1\" class=\"dataframe\">\n",
       "  <thead>\n",
       "    <tr style=\"text-align: right;\">\n",
       "      <th></th>\n",
       "      <th>selected_list_of_lemmas</th>\n",
       "      <th>doc2bow</th>\n",
       "    </tr>\n",
       "  </thead>\n",
       "  <tbody>\n",
       "    <tr>\n",
       "      <th>0</th>\n",
       "      <td>[enlighten, sport, late, early, door, addition, bumper, separate, rest, body, model, engine, spec, production, history, funky, neighborhood]</td>\n",
       "      <td>[(0, 1), (1, 1), (2, 1), (3, 1), (4, 1), (5, 1), (6, 1), (7, 1), (8, 1), (9, 1), (10, 1), (11, 1), (12, 1), (13, 1), (14, 1), (15, 1), (16, 1)]</td>\n",
       "    </tr>\n",
       "    <tr>\n",
       "      <th>1</th>\n",
       "      <td>[fair, brave, soul, upgrade, clock, oscillator, share, poll, brief, detail, procedure, speed, attain, cpu, rate, speed, adapter, heat, sink, hour,...</td>\n",
       "      <td>[(17, 1), (18, 1), (19, 1), (20, 1), (21, 2), (22, 1), (23, 1), (24, 1), (25, 1), (26, 1), (27, 2), (28, 1), (29, 1), (30, 1), (31, 1), (32, 1), (...</td>\n",
       "    </tr>\n",
       "    <tr>\n",
       "      <th>10</th>\n",
       "      <td>[recommendation, model, clock, paint, bronze, brown, orange, fade, leak, oil, pop, accel, shop, fix, tran, oil, leak, bike, owner, nice, stable, m...</td>\n",
       "      <td>[(10, 1), (21, 1), (45, 1), (46, 2), (47, 1), (48, 1), (49, 1), (50, 1), (51, 1), (52, 1), (53, 1), (54, 2), (55, 1), (56, 1), (57, 2), (58, 1), (...</td>\n",
       "    </tr>\n",
       "    <tr>\n",
       "      <th>100</th>\n",
       "      <td>[forsale, publish, unregistered, spontaneous, documentation, installation, negotiable]</td>\n",
       "      <td>[(66, 1), (67, 1), (68, 1), (69, 1), (70, 1), (71, 1), (72, 1)]</td>\n",
       "    </tr>\n",
       "    <tr>\n",
       "      <th>1000</th>\n",
       "      <td>[diamond, cursor, Anybody, mouse, cursor, distortion, driver, driver, indication, menu, recently, deliver, late, driver]</td>\n",
       "      <td>[(9, 1), (73, 1), (74, 2), (75, 1), (76, 1), (77, 1), (78, 3), (79, 1), (80, 1), (81, 1), (82, 1)]</td>\n",
       "    </tr>\n",
       "  </tbody>\n",
       "</table>\n",
       "</div>"
      ],
      "text/plain": [
       "                                                                                                                                    selected_list_of_lemmas  \\\n",
       "0              [enlighten, sport, late, early, door, addition, bumper, separate, rest, body, model, engine, spec, production, history, funky, neighborhood]   \n",
       "1     [fair, brave, soul, upgrade, clock, oscillator, share, poll, brief, detail, procedure, speed, attain, cpu, rate, speed, adapter, heat, sink, hour,...   \n",
       "10    [recommendation, model, clock, paint, bronze, brown, orange, fade, leak, oil, pop, accel, shop, fix, tran, oil, leak, bike, owner, nice, stable, m...   \n",
       "100                                                                  [forsale, publish, unregistered, spontaneous, documentation, installation, negotiable]   \n",
       "1000                               [diamond, cursor, Anybody, mouse, cursor, distortion, driver, driver, indication, menu, recently, deliver, late, driver]   \n",
       "\n",
       "                                                                                                                                                    doc2bow  \n",
       "0           [(0, 1), (1, 1), (2, 1), (3, 1), (4, 1), (5, 1), (6, 1), (7, 1), (8, 1), (9, 1), (10, 1), (11, 1), (12, 1), (13, 1), (14, 1), (15, 1), (16, 1)]  \n",
       "1     [(17, 1), (18, 1), (19, 1), (20, 1), (21, 2), (22, 1), (23, 1), (24, 1), (25, 1), (26, 1), (27, 2), (28, 1), (29, 1), (30, 1), (31, 1), (32, 1), (...  \n",
       "10    [(10, 1), (21, 1), (45, 1), (46, 2), (47, 1), (48, 1), (49, 1), (50, 1), (51, 1), (52, 1), (53, 1), (54, 2), (55, 1), (56, 1), (57, 2), (58, 1), (...  \n",
       "100                                                                                         [(66, 1), (67, 1), (68, 1), (69, 1), (70, 1), (71, 1), (72, 1)]  \n",
       "1000                                                     [(9, 1), (73, 1), (74, 2), (75, 1), (76, 1), (77, 1), (78, 3), (79, 1), (80, 1), (81, 1), (82, 1)]  "
      ]
     },
     "execution_count": 29,
     "metadata": {},
     "output_type": "execute_result"
    }
   ],
   "source": [
    "# count the number of occurrences of each distinct token in each document\n",
    "df_data['doc2bow'] = df_data['selected_list_of_lemmas'].apply(lambda x: dictionary.doc2bow(x))\n",
    "df_data[['selected_list_of_lemmas','doc2bow']].head()"
   ]
  },
  {
   "cell_type": "code",
   "execution_count": 30,
   "metadata": {},
   "outputs": [],
   "source": [
    "# create document-term matrix for LDA\n",
    "doc_term_matrix = list(df_data['doc2bow'].values)"
   ]
  },
  {
   "cell_type": "markdown",
   "metadata": {},
   "source": [
    "# Estimate the number of topics in a corpus (through topic coherence)"
   ]
  },
  {
   "cell_type": "code",
   "execution_count": 31,
   "metadata": {},
   "outputs": [
    {
     "name": "stderr",
     "output_type": "stream",
     "text": [
      "100%|██████████| 33/33 [44:35<00:00, 84.97s/it]\n"
     ]
    }
   ],
   "source": [
    "LDA = models.LdaMulticore\n",
    "num_topics_list = np.arange(3,36)\n",
    "\n",
    "coherenceList_cv = []\n",
    "\n",
    "\n",
    "# for each number of topics calculate Coherence Score\n",
    "for num_topics in tqdm(num_topics_list):\n",
    "    #LDA model\n",
    "    lda= LDA(corpus=doc_term_matrix, num_topics=num_topics, id2word = dictionary, \n",
    "             passes=20,chunksize=4000,random_state=3,workers=2)\n",
    "    \n",
    "    #C_v coherence score\n",
    "    cm_cv = CoherenceModel(model=lda, corpus=doc_term_matrix,\n",
    "                           texts=df_data['selected_list_of_lemmas'], dictionary=dictionary, coherence='c_v')\n",
    "    \n",
    "    #append model coherence value \n",
    "    coherenceList_cv.append(cm_cv.get_coherence())"
   ]
  },
  {
   "cell_type": "code",
   "execution_count": 32,
   "metadata": {},
   "outputs": [
    {
     "data": {
      "text/plain": [
       "Text(0.5, 1.05, 'Topic Coherence\\n  C_v Score')"
      ]
     },
     "execution_count": 32,
     "metadata": {},
     "output_type": "execute_result"
    },
    {
     "data": {
      "image/png": "[encoded data removed]",
      "text/plain": [
       "<Figure size 720x360 with 1 Axes>"
      ]
     },
     "metadata": {
      "needs_background": "light"
     },
     "output_type": "display_data"
    }
   ],
   "source": [
    "df_plot = pd.DataFrame({'Number of topics':num_topics_list,\n",
    "                         'Coherence Score':coherenceList_cv})\n",
    "f, ax = plt.subplots(figsize=(10, 5))\n",
    "plt.style.use('seaborn-whitegrid')\n",
    "\n",
    "sns.set_context(\"notebook\", font_scale=1.1, rc={\"lines.linewidth\": 1.5})\n",
    "sns.pointplot(x ='Number of topics', y = 'Coherence Score', data=df_plot)\n",
    "\n",
    "plt.axhline(y=0.547)\n",
    "\n",
    "ax.grid(True, ls='--', alpha=0.5)\n",
    "plt.title('Topic Coherence\\n  C_v Score', y=1.05, fontsize=18)"
   ]
  },
  {
   "cell_type": "markdown",
   "metadata": {},
   "source": [
    "# Define multicore LDA model"
   ]
  },
  {
   "cell_type": "code",
   "execution_count": 33,
   "metadata": {},
   "outputs": [],
   "source": [
    "# define the model with chosen number of topics\n",
    "num_topics = 15\n",
    "\n",
    "\n",
    "LDA = models.LdaMulticore\n",
    "result_lda_model= LDA(corpus=doc_term_matrix, \n",
    "               num_topics=num_topics,\n",
    "               id2word = dictionary, \n",
    "               passes=20,\n",
    "               chunksize=4000,\n",
    "               random_state=3)"
   ]
  },
  {
   "cell_type": "code",
   "execution_count": 34,
   "metadata": {},
   "outputs": [
    {
     "name": "stdout",
     "output_type": "stream",
     "text": [
      "\n",
      "Coherence Score:  0.5442771519896923\n"
     ]
    }
   ],
   "source": [
    "# compute estimated Coherence Score\n",
    "coherence_model_lda = CoherenceModel(model=result_lda_model, \n",
    "                                     corpus=doc_term_matrix,\n",
    "                                     texts=df_data['selected_list_of_lemmas'], \n",
    "                                     dictionary=dictionary, \n",
    "                                     coherence='c_v')\n",
    "coherence_lda = coherence_model_lda.get_coherence()\n",
    "print('\\nCoherence Score: ', coherence_lda)"
   ]
  },
  {
   "cell_type": "markdown",
   "metadata": {},
   "source": [
    "##### Interactive visualization of topics using pyLDAviz"
   ]
  },
  {
   "cell_type": "code",
   "execution_count": 35,
   "metadata": {},
   "outputs": [
    {
     "data": {
      "text/html": [
       "\n",
       "<link rel=\"stylesheet\" type=\"text/css\" href=\"https://cdn.rawgit.com/bmabey/pyLDAvis/files/ldavis.v1.0.0.css\">\n",
       "\n",
       "\n",
       "<div id=\"ldavis_el39631403591203468322784348803\"></div>\n",
       "<script type=\"text/javascript\">\n",
       "\n",
       "var ldavis_el39631403591203468322784348803_data = {\"mdsDat\": {\"x\": [-0.16517254407455878, 0.21032338300390332, 0.02733167476862711, 0.035697309096777215, -0.1260744107963551, 0.20794792836037715, 0.10224314312883906, 0.06226314894326895, -0.12593896438281454, -0.10105037218122122, -0.14898332619380478, -0.10200621578075778, 0.07345002825497686, -0.04422715413933544, 0.0941963719920779], \"y\": [-0.009005716634324725, -0.08630486617224246, 0.09284107368673944, -0.014280884516719399, 0.014067162258988568, 0.0015813001608745221, -0.09667013647566358, 0.12671498941084786, 0.20276297995350015, -0.13845438771987825, -0.10554720813751568, 0.009523059664964166, 0.020448676605061913, -0.10858110523148211, 0.09090506314684987], \"topics\": [1, 2, 3, 4, 5, 6, 7, 8, 9, 10, 11, 12, 13, 14, 15], \"cluster\": [1, 1, 1, 1, 1, 1, 1, 1, 1, 1, 1, 1, 1, 1, 1], \"Freq\": [9.890976905822754, 11.468851089477539, 5.261434078216553, 5.317089080810547, 8.836576461791992, 5.144165992736816, 6.921494960784912, 6.011788368225098, 3.704817533493042, 3.602278709411621, 9.6380615234375, 6.92009162902832, 3.9243736267089844, 8.099174499511719, 5.25883150100708]}, \"tinfo\": {\"Category\": [\"Default\", \"Default\", \"Default\", \"Default\", \"Default\", \"Default\", \"Default\", \"Default\", \"Default\", \"Default\", \"Default\", \"Default\", \"Default\", \"Default\", \"Default\", \"Default\", \"Default\", \"Default\", \"Default\", \"Default\", \"Default\", \"Default\", \"Default\", \"Default\", \"Default\", \"Default\", \"Default\", \"Default\", \"Default\", \"Default\", \"Topic1\", \"Topic1\", \"Topic1\", \"Topic1\", \"Topic1\", \"Topic1\", \"Topic1\", \"Topic1\", \"Topic1\", \"Topic1\", \"Topic1\", \"Topic1\", \"Topic1\", \"Topic1\", \"Topic1\", \"Topic1\", \"Topic1\", \"Topic1\", \"Topic1\", \"Topic1\", \"Topic1\", \"Topic1\", \"Topic1\", \"Topic1\", \"Topic1\", \"Topic1\", \"Topic1\", \"Topic1\", \"Topic1\", \"Topic1\", \"Topic1\", \"Topic1\", \"Topic1\", \"Topic1\", \"Topic1\", \"Topic1\", \"Topic1\", \"Topic1\", \"Topic1\", \"Topic1\", \"Topic1\", \"Topic1\", \"Topic1\", \"Topic1\", \"Topic1\", \"Topic1\", \"Topic1\", \"Topic1\", \"Topic1\", \"Topic1\", \"Topic1\", \"Topic1\", \"Topic1\", \"Topic1\", \"Topic1\", \"Topic1\", \"Topic1\", \"Topic1\", \"Topic1\", \"Topic1\", \"Topic1\", \"Topic1\", \"Topic1\", \"Topic1\", \"Topic1\", \"Topic1\", \"Topic1\", \"Topic1\", \"Topic1\", \"Topic1\", \"Topic1\", \"Topic1\", \"Topic1\", \"Topic1\", \"Topic1\", \"Topic1\", \"Topic1\", \"Topic1\", \"Topic1\", \"Topic1\", \"Topic1\", \"Topic1\", \"Topic2\", \"Topic2\", \"Topic2\", \"Topic2\", \"Topic2\", \"Topic2\", \"Topic2\", \"Topic2\", \"Topic2\", \"Topic2\", \"Topic2\", \"Topic2\", \"Topic2\", \"Topic2\", \"Topic2\", \"Topic2\", \"Topic2\", \"Topic2\", \"Topic2\", \"Topic2\", \"Topic2\", \"Topic2\", \"Topic2\", \"Topic2\", \"Topic2\", \"Topic2\", \"Topic2\", \"Topic2\", \"Topic2\", \"Topic2\", \"Topic2\", \"Topic2\", \"Topic2\", \"Topic2\", \"Topic2\", \"Topic2\", \"Topic2\", \"Topic2\", \"Topic2\", \"Topic2\", \"Topic2\", \"Topic2\", \"Topic2\", \"Topic2\", \"Topic2\", \"Topic2\", \"Topic2\", \"Topic2\", \"Topic2\", \"Topic2\", \"Topic2\", \"Topic2\", \"Topic2\", \"Topic2\", \"Topic2\", \"Topic2\", \"Topic2\", \"Topic2\", \"Topic2\", \"Topic2\", \"Topic2\", \"Topic2\", \"Topic2\", \"Topic2\", \"Topic3\", \"Topic3\", \"Topic3\", \"Topic3\", \"Topic3\", \"Topic3\", \"Topic3\", \"Topic3\", \"Topic3\", \"Topic3\", \"Topic3\", \"Topic3\", \"Topic3\", \"Topic3\", \"Topic3\", \"Topic3\", \"Topic3\", \"Topic3\", \"Topic3\", \"Topic3\", \"Topic3\", \"Topic3\", \"Topic3\", \"Topic3\", \"Topic3\", \"Topic3\", \"Topic3\", \"Topic3\", \"Topic3\", \"Topic3\", \"Topic3\", \"Topic3\", \"Topic3\", \"Topic3\", \"Topic3\", \"Topic3\", \"Topic3\", \"Topic3\", \"Topic3\", \"Topic3\", \"Topic3\", \"Topic3\", \"Topic3\", \"Topic3\", \"Topic3\", \"Topic3\", \"Topic3\", \"Topic3\", \"Topic3\", \"Topic3\", \"Topic3\", \"Topic3\", \"Topic3\", \"Topic3\", \"Topic3\", \"Topic3\", \"Topic3\", \"Topic3\", \"Topic3\", \"Topic3\", \"Topic3\", \"Topic3\", \"Topic3\", \"Topic3\", \"Topic4\", \"Topic4\", \"Topic4\", \"Topic4\", \"Topic4\", \"Topic4\", \"Topic4\", \"Topic4\", \"Topic4\", \"Topic4\", \"Topic4\", \"Topic4\", \"Topic4\", \"Topic4\", \"Topic4\", \"Topic4\", \"Topic4\", \"Topic4\", \"Topic4\", \"Topic4\", \"Topic4\", \"Topic4\", \"Topic4\", \"Topic4\", \"Topic4\", \"Topic4\", \"Topic4\", \"Topic4\", \"Topic4\", \"Topic4\", \"Topic4\", \"Topic4\", \"Topic4\", \"Topic4\", \"Topic4\", \"Topic4\", \"Topic4\", \"Topic4\", \"Topic4\", \"Topic4\", \"Topic4\", \"Topic4\", \"Topic4\", \"Topic4\", \"Topic4\", \"Topic4\", \"Topic4\", \"Topic4\", \"Topic4\", \"Topic4\", \"Topic4\", \"Topic4\", \"Topic4\", \"Topic4\", \"Topic4\", \"Topic4\", \"Topic4\", \"Topic4\", \"Topic4\", \"Topic4\", \"Topic4\", \"Topic4\", \"Topic4\", \"Topic4\", \"Topic4\", \"Topic4\", \"Topic4\", \"Topic4\", \"Topic4\", \"Topic4\", \"Topic4\", \"Topic4\", \"Topic4\", \"Topic4\", \"Topic4\", \"Topic4\", \"Topic4\", \"Topic4\", \"Topic4\", \"Topic4\", \"Topic5\", \"Topic5\", \"Topic5\", \"Topic5\", \"Topic5\", \"Topic5\", \"Topic5\", \"Topic5\", \"Topic5\", \"Topic5\", \"Topic5\", \"Topic5\", \"Topic5\", \"Topic5\", \"Topic5\", \"Topic5\", \"Topic5\", \"Topic5\", \"Topic5\", \"Topic5\", \"Topic5\", \"Topic5\", \"Topic5\", \"Topic5\", \"Topic5\", \"Topic5\", \"Topic5\", \"Topic5\", \"Topic5\", \"Topic5\", \"Topic5\", \"Topic5\", \"Topic5\", \"Topic5\", \"Topic5\", \"Topic5\", \"Topic5\", \"Topic5\", \"Topic5\", \"Topic5\", \"Topic5\", \"Topic5\", \"Topic5\", \"Topic5\", \"Topic5\", \"Topic5\", \"Topic5\", \"Topic5\", \"Topic5\", \"Topic5\", \"Topic5\", \"Topic5\", \"Topic5\", \"Topic5\", \"Topic5\", \"Topic5\", \"Topic5\", \"Topic5\", \"Topic5\", \"Topic5\", \"Topic5\", \"Topic5\", \"Topic5\", \"Topic5\", \"Topic5\", \"Topic5\", \"Topic5\", \"Topic5\", \"Topic5\", \"Topic5\", \"Topic5\", \"Topic5\", \"Topic5\", \"Topic6\", \"Topic6\", \"Topic6\", \"Topic6\", \"Topic6\", \"Topic6\", \"Topic6\", \"Topic6\", \"Topic6\", \"Topic6\", \"Topic6\", \"Topic6\", \"Topic6\", \"Topic6\", \"Topic6\", \"Topic6\", \"Topic6\", \"Topic6\", \"Topic6\", \"Topic6\", \"Topic6\", \"Topic6\", \"Topic6\", \"Topic6\", \"Topic6\", \"Topic6\", \"Topic6\", \"Topic6\", \"Topic6\", \"Topic6\", \"Topic6\", \"Topic6\", \"Topic6\", \"Topic6\", \"Topic6\", \"Topic6\", \"Topic6\", \"Topic6\", \"Topic6\", \"Topic6\", \"Topic6\", \"Topic6\", \"Topic6\", \"Topic6\", \"Topic6\", \"Topic6\", \"Topic6\", \"Topic6\", \"Topic6\", \"Topic6\", \"Topic6\", \"Topic6\", \"Topic6\", \"Topic6\", \"Topic6\", \"Topic6\", \"Topic6\", \"Topic6\", \"Topic6\", \"Topic6\", \"Topic6\", \"Topic6\", \"Topic6\", \"Topic6\", \"Topic7\", \"Topic7\", \"Topic7\", \"Topic7\", \"Topic7\", \"Topic7\", \"Topic7\", \"Topic7\", \"Topic7\", \"Topic7\", \"Topic7\", \"Topic7\", \"Topic7\", \"Topic7\", \"Topic7\", \"Topic7\", \"Topic7\", \"Topic7\", \"Topic7\", \"Topic7\", \"Topic7\", \"Topic7\", \"Topic7\", \"Topic7\", \"Topic7\", \"Topic7\", \"Topic7\", \"Topic7\", \"Topic7\", \"Topic7\", \"Topic7\", \"Topic7\", \"Topic7\", \"Topic7\", \"Topic7\", \"Topic7\", \"Topic7\", \"Topic7\", \"Topic7\", \"Topic7\", \"Topic7\", \"Topic7\", \"Topic7\", \"Topic7\", \"Topic7\", \"Topic7\", \"Topic7\", \"Topic7\", \"Topic7\", \"Topic7\", \"Topic7\", \"Topic7\", \"Topic7\", \"Topic7\", \"Topic7\", \"Topic7\", \"Topic7\", \"Topic7\", \"Topic7\", \"Topic7\", \"Topic7\", \"Topic7\", \"Topic7\", \"Topic7\", \"Topic7\", \"Topic7\", \"Topic7\", \"Topic7\", \"Topic7\", \"Topic7\", \"Topic7\", \"Topic7\", \"Topic7\", \"Topic8\", \"Topic8\", \"Topic8\", \"Topic8\", \"Topic8\", \"Topic8\", \"Topic8\", \"Topic8\", \"Topic8\", \"Topic8\", \"Topic8\", \"Topic8\", \"Topic8\", \"Topic8\", \"Topic8\", \"Topic8\", \"Topic8\", \"Topic8\", \"Topic8\", \"Topic8\", \"Topic8\", \"Topic8\", \"Topic8\", \"Topic8\", \"Topic8\", \"Topic8\", \"Topic8\", \"Topic8\", \"Topic8\", \"Topic8\", \"Topic8\", \"Topic8\", \"Topic8\", \"Topic8\", \"Topic8\", \"Topic8\", \"Topic8\", \"Topic8\", \"Topic8\", \"Topic8\", \"Topic8\", \"Topic8\", \"Topic8\", \"Topic8\", \"Topic8\", \"Topic8\", \"Topic8\", \"Topic8\", \"Topic8\", \"Topic8\", \"Topic8\", \"Topic8\", \"Topic8\", \"Topic8\", \"Topic8\", \"Topic8\", \"Topic8\", \"Topic8\", \"Topic8\", \"Topic8\", \"Topic8\", \"Topic8\", \"Topic9\", \"Topic9\", \"Topic9\", \"Topic9\", \"Topic9\", \"Topic9\", \"Topic9\", \"Topic9\", \"Topic9\", \"Topic9\", \"Topic9\", \"Topic9\", \"Topic9\", \"Topic9\", \"Topic9\", \"Topic9\", \"Topic9\", \"Topic9\", \"Topic9\", \"Topic9\", \"Topic9\", \"Topic9\", \"Topic9\", \"Topic9\", \"Topic9\", \"Topic9\", \"Topic9\", \"Topic9\", \"Topic9\", \"Topic9\", \"Topic9\", \"Topic9\", \"Topic9\", \"Topic9\", \"Topic9\", \"Topic9\", \"Topic9\", \"Topic9\", \"Topic9\", \"Topic9\", \"Topic9\", \"Topic9\", \"Topic9\", \"Topic9\", \"Topic9\", \"Topic9\", \"Topic9\", \"Topic9\", \"Topic9\", \"Topic9\", \"Topic9\", \"Topic9\", \"Topic9\", \"Topic9\", \"Topic9\", \"Topic9\", \"Topic9\", \"Topic9\", \"Topic9\", \"Topic9\", \"Topic9\", \"Topic9\", \"Topic9\", \"Topic9\", \"Topic9\", \"Topic9\", \"Topic9\", \"Topic9\", \"Topic9\", \"Topic9\", \"Topic10\", \"Topic10\", \"Topic10\", \"Topic10\", \"Topic10\", \"Topic10\", \"Topic10\", \"Topic10\", \"Topic10\", \"Topic10\", \"Topic10\", \"Topic10\", \"Topic10\", \"Topic10\", \"Topic10\", \"Topic10\", \"Topic10\", \"Topic10\", \"Topic10\", \"Topic10\", \"Topic10\", \"Topic10\", \"Topic10\", \"Topic10\", \"Topic10\", \"Topic10\", \"Topic10\", \"Topic10\", \"Topic10\", \"Topic10\", \"Topic10\", \"Topic10\", \"Topic10\", \"Topic10\", \"Topic10\", \"Topic10\", \"Topic10\", \"Topic10\", \"Topic10\", \"Topic10\", \"Topic10\", \"Topic10\", \"Topic10\", \"Topic10\", \"Topic10\", \"Topic10\", \"Topic10\", \"Topic10\", \"Topic10\", \"Topic10\", \"Topic10\", \"Topic10\", \"Topic10\", \"Topic10\", \"Topic10\", \"Topic10\", \"Topic10\", \"Topic10\", \"Topic10\", \"Topic10\", \"Topic10\", \"Topic10\", \"Topic10\", \"Topic10\", \"Topic10\", \"Topic10\", \"Topic10\", \"Topic10\", \"Topic10\", \"Topic10\", \"Topic10\", \"Topic10\", \"Topic10\", \"Topic11\", \"Topic11\", \"Topic11\", \"Topic11\", \"Topic11\", \"Topic11\", \"Topic11\", \"Topic11\", \"Topic11\", \"Topic11\", \"Topic11\", \"Topic11\", \"Topic11\", \"Topic11\", \"Topic11\", \"Topic11\", \"Topic11\", \"Topic11\", \"Topic11\", \"Topic11\", \"Topic11\", \"Topic11\", \"Topic11\", \"Topic11\", \"Topic11\", \"Topic11\", \"Topic11\", \"Topic11\", \"Topic11\", \"Topic11\", \"Topic11\", \"Topic11\", \"Topic11\", \"Topic11\", \"Topic11\", \"Topic11\", \"Topic11\", \"Topic11\", \"Topic11\", \"Topic11\", \"Topic11\", \"Topic11\", \"Topic11\", \"Topic11\", \"Topic11\", \"Topic11\", \"Topic11\", \"Topic11\", \"Topic11\", \"Topic11\", \"Topic11\", \"Topic11\", \"Topic11\", \"Topic11\", \"Topic11\", \"Topic11\", \"Topic11\", \"Topic11\", \"Topic11\", \"Topic11\", \"Topic11\", \"Topic11\", \"Topic11\", \"Topic11\", \"Topic11\", \"Topic12\", \"Topic12\", \"Topic12\", \"Topic12\", \"Topic12\", \"Topic12\", \"Topic12\", \"Topic12\", \"Topic12\", \"Topic12\", \"Topic12\", \"Topic12\", \"Topic12\", \"Topic12\", \"Topic12\", \"Topic12\", \"Topic12\", \"Topic12\", \"Topic12\", \"Topic12\", \"Topic12\", \"Topic12\", \"Topic12\", \"Topic12\", \"Topic12\", \"Topic12\", \"Topic12\", \"Topic12\", \"Topic12\", \"Topic12\", \"Topic12\", \"Topic12\", \"Topic12\", \"Topic12\", \"Topic12\", \"Topic12\", \"Topic12\", \"Topic12\", \"Topic12\", \"Topic12\", \"Topic12\", \"Topic12\", \"Topic12\", \"Topic12\", \"Topic12\", \"Topic12\", \"Topic12\", \"Topic12\", \"Topic12\", \"Topic12\", \"Topic12\", \"Topic12\", \"Topic12\", \"Topic12\", \"Topic12\", \"Topic12\", \"Topic12\", \"Topic12\", \"Topic12\", \"Topic12\", \"Topic12\", \"Topic12\", \"Topic12\", \"Topic12\", \"Topic12\", \"Topic12\", \"Topic12\", \"Topic12\", \"Topic12\", \"Topic12\", \"Topic12\", \"Topic12\", \"Topic12\", \"Topic12\", \"Topic13\", \"Topic13\", \"Topic13\", \"Topic13\", \"Topic13\", \"Topic13\", \"Topic13\", \"Topic13\", \"Topic13\", \"Topic13\", \"Topic13\", \"Topic13\", \"Topic13\", \"Topic13\", \"Topic13\", \"Topic13\", \"Topic13\", \"Topic13\", \"Topic13\", \"Topic13\", \"Topic13\", \"Topic13\", \"Topic13\", \"Topic13\", \"Topic13\", \"Topic13\", \"Topic13\", \"Topic13\", \"Topic13\", \"Topic13\", \"Topic13\", \"Topic13\", \"Topic13\", \"Topic13\", \"Topic13\", \"Topic13\", \"Topic13\", \"Topic13\", \"Topic13\", \"Topic13\", \"Topic13\", \"Topic13\", \"Topic13\", \"Topic13\", \"Topic13\", \"Topic13\", \"Topic13\", \"Topic13\", \"Topic13\", \"Topic13\", \"Topic13\", \"Topic13\", \"Topic13\", \"Topic13\", \"Topic13\", \"Topic13\", \"Topic13\", \"Topic13\", \"Topic13\", \"Topic13\", \"Topic13\", \"Topic13\", \"Topic13\", \"Topic13\", \"Topic13\", \"Topic13\", \"Topic13\", \"Topic13\", \"Topic13\", \"Topic13\", \"Topic13\", \"Topic13\", \"Topic13\", \"Topic13\", \"Topic13\", \"Topic14\", \"Topic14\", \"Topic14\", \"Topic14\", \"Topic14\", \"Topic14\", \"Topic14\", \"Topic14\", \"Topic14\", \"Topic14\", \"Topic14\", \"Topic14\", \"Topic14\", \"Topic14\", \"Topic14\", \"Topic14\", \"Topic14\", \"Topic14\", \"Topic14\", \"Topic14\", \"Topic14\", \"Topic14\", \"Topic14\", \"Topic14\", \"Topic14\", \"Topic14\", \"Topic14\", \"Topic14\", \"Topic14\", \"Topic14\", \"Topic14\", \"Topic14\", \"Topic14\", \"Topic14\", \"Topic14\", \"Topic14\", \"Topic14\", \"Topic14\", \"Topic14\", \"Topic14\", \"Topic14\", \"Topic14\", \"Topic14\", \"Topic14\", \"Topic14\", \"Topic14\", \"Topic14\", \"Topic14\", \"Topic14\", \"Topic14\", \"Topic14\", \"Topic14\", \"Topic14\", \"Topic14\", \"Topic14\", \"Topic14\", \"Topic14\", \"Topic14\", \"Topic14\", \"Topic14\", \"Topic14\", \"Topic14\", \"Topic14\", \"Topic14\", \"Topic14\", \"Topic14\", \"Topic14\", \"Topic14\", \"Topic14\", \"Topic14\", \"Topic14\", \"Topic14\", \"Topic14\", \"Topic14\", \"Topic14\", \"Topic14\", \"Topic15\", \"Topic15\", \"Topic15\", \"Topic15\", \"Topic15\", \"Topic15\", \"Topic15\", \"Topic15\", \"Topic15\", \"Topic15\", \"Topic15\", \"Topic15\", \"Topic15\", \"Topic15\", \"Topic15\", \"Topic15\", \"Topic15\", \"Topic15\", \"Topic15\", \"Topic15\", \"Topic15\", \"Topic15\", \"Topic15\", \"Topic15\", \"Topic15\", \"Topic15\", \"Topic15\", \"Topic15\", \"Topic15\", \"Topic15\", \"Topic15\", \"Topic15\", \"Topic15\", \"Topic15\", \"Topic15\", \"Topic15\", \"Topic15\", \"Topic15\", \"Topic15\", \"Topic15\", \"Topic15\", \"Topic15\", \"Topic15\", \"Topic15\", \"Topic15\", \"Topic15\", \"Topic15\", \"Topic15\", \"Topic15\", \"Topic15\", \"Topic15\", \"Topic15\", \"Topic15\", \"Topic15\", \"Topic15\", \"Topic15\", \"Topic15\", \"Topic15\", \"Topic15\", \"Topic15\", \"Topic15\", \"Topic15\", \"Topic15\", \"Topic15\", \"Topic15\", \"Topic15\", \"Topic15\", \"Topic15\", \"Topic15\"], \"Freq\": [3855.0, 1359.0, 906.0, 684.0, 1030.0, 1152.0, 620.0, 983.0, 586.0, 884.0, 1077.0, 1022.0, 952.0, 462.0, 766.0, 476.0, 529.0, 552.0, 350.0, 472.0, 629.0, 465.0, 572.0, 633.0, 843.0, 633.0, 760.0, 735.0, 554.0, 686.0, 40.6231689453125, 48.24649429321289, 36.563201904296875, 27.764545440673828, 84.62384796142578, 23.706876754760742, 22.675575256347656, 41.46022033691406, 39.478450775146484, 17.857040405273438, 17.81810188293457, 197.9241943359375, 15.898163795471191, 14.922025680541992, 34.99506378173828, 11.9210205078125, 16.401460647583008, 12.800516128540039, 34.700927734375, 10.967344284057617, 10.962732315063477, 10.966920852661133, 10.96431827545166, 10.95020580291748, 62.947547912597656, 23.65571403503418, 12.727216720581055, 10.879352569580078, 15.36506175994873, 18.050369262695312, 176.0991668701172, 42.29045104980469, 40.211669921875, 23.406293869018555, 26.88711166381836, 26.698041915893555, 57.992225646972656, 37.797325134277344, 47.522499084472656, 96.25092315673828, 91.7463150024414, 46.60047912597656, 451.87115478515625, 58.238250732421875, 79.90060424804688, 56.083892822265625, 393.9983825683594, 38.571529388427734, 213.25726318359375, 54.4850959777832, 275.3294982910156, 45.40857696533203, 231.8292694091797, 242.07022094726562, 171.8419189453125, 95.42407989501953, 161.87034606933594, 132.93072509765625, 132.9041290283203, 276.9503479003906, 201.44602966308594, 179.14080810546875, 128.67501831054688, 123.99871826171875, 205.6985321044922, 198.48170471191406, 160.2419891357422, 311.4714660644531, 239.30838012695312, 176.44168090820312, 207.69554138183594, 132.9586639404297, 223.25833129882812, 218.5352783203125, 171.18356323242188, 264.2662353515625, 214.30734252929688, 192.08839416503906, 191.21852111816406, 180.9763641357422, 175.40711975097656, 166.98245239257812, 122.15962219238281, 355.4760437011719, 50.139286041259766, 97.35753631591797, 72.28305053710938, 347.6841125488281, 50.03657150268555, 38.26285934448242, 47.74665069580078, 49.46171569824219, 108.35323333740234, 36.088809967041016, 28.43159294128418, 159.73703002929688, 400.8301696777344, 49.07986831665039, 26.421899795532227, 26.400541305541992, 21.67145538330078, 33.826961517333984, 68.42404174804688, 24.334457397460938, 27.139421463012695, 150.59974670410156, 174.46290588378906, 29.845834732055664, 110.03306579589844, 25.139108657836914, 102.00662231445312, 99.3050537109375, 419.692138671875, 118.12149047851562, 519.8013305664062, 203.13023376464844, 714.4879150390625, 275.7637023925781, 901.660888671875, 523.5923461914062, 655.4063110351562, 629.4713134765625, 466.48883056640625, 351.79437255859375, 248.08575439453125, 128.62437438964844, 585.3743286132812, 82.2190170288086, 358.2842102050781, 303.0201416015625, 476.9007263183594, 263.91864013671875, 557.491943359375, 267.0650329589844, 478.78515625, 440.82452392578125, 291.9353332519531, 239.1251983642578, 350.34210205078125, 287.5133361816406, 252.22174072265625, 379.95904541015625, 305.5266418457031, 273.60260009765625, 270.2682189941406, 252.3531951904297, 110.5324478149414, 127.73155212402344, 120.68453216552734, 84.1618423461914, 75.37646484375, 58.11258316040039, 133.3666229248047, 37.775733947753906, 33.89877700805664, 33.87457275390625, 30.969919204711914, 29.052148818969727, 36.50019073486328, 25.221609115600586, 21.326568603515625, 20.39773178100586, 24.03036117553711, 19.38726234436035, 18.456844329833984, 17.473051071166992, 17.432371139526367, 34.85142517089844, 16.465965270996094, 63.10957717895508, 26.552324295043945, 39.313255310058594, 15.510842323303223, 15.483924865722656, 14.542097091674805, 15.438019752502441, 56.07666015625, 57.67513656616211, 61.79594421386719, 544.3701782226562, 119.78655242919922, 150.19454956054688, 38.84086227416992, 698.7100830078125, 299.7237854003906, 243.8384246826172, 231.84217834472656, 160.76683044433594, 369.5044860839844, 155.1300811767578, 100.13858032226562, 353.1723327636719, 267.490234375, 100.99858856201172, 135.27203369140625, 77.93067169189453, 71.58195495605469, 125.10445404052734, 79.20439147949219, 162.4925537109375, 95.53215026855469, 112.31694793701172, 169.2538604736328, 152.1949005126953, 120.76595306396484, 134.68661499023438, 96.84464263916016, 104.85594940185547, 101.0728759765625, 97.06067657470703, 81.71482849121094, 134.62176513671875, 57.537384033203125, 32.869632720947266, 79.86198425292969, 23.74493408203125, 17.042186737060547, 16.02832794189453, 36.69389343261719, 22.326093673706055, 10.96943473815918, 14.742461204528809, 13.819230079650879, 13.780149459838867, 10.938117980957031, 28.302249908447266, 10.04653263092041, 97.66344451904297, 20.861204147338867, 20.85798454284668, 36.07619094848633, 8.035645484924316, 8.008069038391113, 8.006352424621582, 8.007048606872559, 16.003562927246094, 7.0582146644592285, 7.062117099761963, 7.03765869140625, 7.043557167053223, 60.68860626220703, 15.741147994995117, 9.657125473022461, 38.036598205566406, 10.486053466796875, 23.806913375854492, 24.64604377746582, 48.32727813720703, 33.98017501831055, 17.098560333251953, 72.67342376708984, 30.795207977294922, 139.17767333984375, 77.67813873291016, 163.5028839111328, 41.95013427734375, 60.327274322509766, 115.17218017578125, 94.83220672607422, 188.10736083984375, 180.78904724121094, 198.5227508544922, 103.8902587890625, 200.2349090576172, 43.44599151611328, 192.849609375, 141.46163940429688, 135.18348693847656, 46.38624572753906, 175.61219787597656, 116.4884033203125, 80.59960174560547, 118.12982940673828, 127.05977630615234, 114.60548400878906, 130.75779724121094, 108.79655456542969, 173.24905395507812, 109.45968627929688, 92.8438720703125, 102.31529998779297, 176.18887329101562, 162.26321411132812, 136.2086639404297, 124.99640655517578, 126.66255950927734, 113.64736938476562, 111.0872573852539, 113.82856750488281, 102.9013671875, 105.03160858154297, 68.66008758544922, 41.11149215698242, 34.30654525756836, 30.427783966064453, 86.87541961669922, 23.569564819335938, 23.524269104003906, 22.566816329956055, 18.624073028564453, 62.24717330932617, 21.294483184814453, 20.368568420410156, 51.88207244873047, 53.408809661865234, 29.437801361083984, 13.775045394897461, 22.92530632019043, 50.49819564819336, 20.151010513305664, 24.73979949951172, 124.32196044921875, 14.569611549377441, 69.17887115478516, 11.805314064025879, 11.80213451385498, 249.08311462402344, 24.447755813598633, 29.879138946533203, 10.827292442321777, 21.576698303222656, 73.52967071533203, 459.6583251953125, 142.97607421875, 270.0186462402344, 147.28353881835938, 243.83810424804688, 90.55018615722656, 53.679874420166016, 38.85885238647461, 68.54676055908203, 138.51332092285156, 388.8675537109375, 119.2931900024414, 64.61048126220703, 56.65174865722656, 269.3484802246094, 355.0066223144531, 159.8799591064453, 143.873291015625, 125.26378631591797, 119.05317687988281, 292.98541259765625, 99.40082550048828, 199.33924865722656, 162.2591552734375, 152.2869110107422, 148.81773376464844, 169.38681030273438, 159.61927795410156, 158.9560089111328, 123.54230499267578, 154.58218383789062, 143.90557861328125, 222.30482482910156, 173.54632568359375, 160.13021850585938, 149.82339477539062, 154.1050262451172, 141.32615661621094, 152.9659423828125, 149.5935821533203, 139.496826171875, 123.7815933227539, 42.96958541870117, 132.3455047607422, 449.55615234375, 44.28082275390625, 27.886219024658203, 25.0067138671875, 115.13642883300781, 27.810752868652344, 25.8917293548584, 21.837522506713867, 18.98909568786621, 19.908397674560547, 17.015565872192383, 216.42904663085938, 15.009364128112793, 140.63714599609375, 27.94669532775879, 20.504249572753906, 27.894826889038086, 82.65132904052734, 38.74946594238281, 23.896465301513672, 14.691537857055664, 39.39585876464844, 10.978004455566406, 13.697456359863281, 10.045367240905762, 317.3612060546875, 9.039098739624023, 35.05876159667969, 49.6633186340332, 68.66071319580078, 392.1607666015625, 317.26171875, 174.3123779296875, 164.29843139648438, 132.48207092285156, 191.74818420410156, 116.3701400756836, 160.73851013183594, 390.9717712402344, 215.99571228027344, 132.26895141601562, 196.17384338378906, 49.204498291015625, 551.3952026367188, 445.31329345703125, 192.01358032226562, 303.0160217285156, 61.9492301940918, 315.74920654296875, 261.0675964355469, 356.2584533691406, 118.20770263671875, 373.3580017089844, 179.2925567626953, 245.75369262695312, 151.15940856933594, 206.63999938964844, 156.7254180908203, 142.36070251464844, 154.90464782714844, 139.0133514404297, 120.54519653320312, 52.04500961303711, 47.14333724975586, 296.3250427246094, 39.29407501220703, 102.35299682617188, 35.337703704833984, 41.0185546875, 29.505128860473633, 28.502178192138672, 29.440975189208984, 30.340499877929688, 26.528263092041016, 28.36829948425293, 26.460708618164062, 72.397705078125, 19.607080459594727, 19.61813735961914, 18.641429901123047, 14.77800464630127, 14.768293380737305, 14.746886253356934, 14.720098495483398, 65.37539672851562, 13.776745796203613, 14.699373245239258, 31.176969528198242, 13.754812240600586, 13.735517501831055, 12.823038101196289, 483.9200439453125, 48.069091796875, 239.4939422607422, 31.7551326751709, 66.50779724121094, 147.5974884033203, 126.64544677734375, 54.60758972167969, 52.81570053100586, 61.938358306884766, 111.16593170166016, 83.5174789428711, 116.79389953613281, 639.2479248046875, 142.64979553222656, 86.62982177734375, 187.44676208496094, 143.82208251953125, 121.99983215332031, 53.14688491821289, 58.0307731628418, 247.97915649414062, 136.19703674316406, 223.5765838623047, 233.45721435546875, 110.4451675415039, 265.4289245605469, 177.52377319335938, 176.84683227539062, 177.31826782226562, 130.5550079345703, 195.0265350341797, 187.04823303222656, 130.0658721923828, 174.74632263183594, 177.70492553710938, 162.5875701904297, 152.4130401611328, 148.47988891601562, 148.55145263671875, 131.3578338623047, 131.50279235839844, 124.0959701538086, 677.689453125, 200.70164489746094, 168.50074768066406, 124.65601348876953, 130.94503784179688, 45.18296813964844, 45.17347717285156, 60.533241271972656, 32.535133361816406, 208.1862030029297, 58.1756477355957, 78.20221710205078, 22.827552795410156, 25.657346725463867, 23.719127655029297, 35.14038848876953, 22.78950309753418, 27.53714942932129, 25.591079711914062, 40.73590087890625, 87.15096282958984, 23.656330108642578, 19.859790802001953, 16.86952781677246, 38.402732849121094, 19.528797149658203, 23.225406646728516, 14.86656665802002, 13.889182090759277, 15.724470138549805, 160.13772583007812, 138.5266876220703, 56.963043212890625, 420.3069152832031, 54.301048278808594, 52.23989486694336, 211.9257354736328, 328.31005859375, 142.192626953125, 39.23262023925781, 43.10014724731445, 158.444580078125, 228.92391967773438, 130.40957641601562, 194.8533477783203, 71.8092041015625, 236.97242736816406, 90.84427642822266, 102.46276092529297, 169.130126953125, 110.3226547241211, 135.13726806640625, 135.03787231445312, 243.03477478027344, 285.9980773925781, 130.3072052001953, 119.89830780029297, 131.12234497070312, 176.77223205566406, 155.19686889648438, 116.65995025634766, 115.72344970703125, 3850.71923828125, 130.9473419189453, 191.95681762695312, 57.35550308227539, 337.7560729980469, 22.5433349609375, 39.400638580322266, 19.632600784301758, 46.63395309448242, 16.750024795532227, 15.71906566619873, 10.775334358215332, 9.880146980285645, 8.86811637878418, 8.834589958190918, 10.588825225830078, 1220.090087890625, 23.738075256347656, 7.911211013793945, 7.8965959548950195, 14.754905700683594, 6.899842739105225, 5.949863433837891, 5.923460006713867, 5.889577388763428, 5.841562747955322, 5.91399621963501, 5.892350673675537, 4.937719821929932, 4.925840854644775, 18.077537536621094, 16.992250442504883, 32.14963150024414, 35.60411071777344, 91.4813003540039, 366.4453125, 56.59957504272461, 28.445598602294922, 55.11731719970703, 80.75445556640625, 43.70088577270508, 234.21827697753906, 31.973512649536133, 272.6365661621094, 76.19503021240234, 91.59940338134766, 37.19580078125, 40.624698638916016, 84.29351806640625, 122.06798553466797, 177.29144287109375, 181.18545532226562, 136.58444213867188, 134.95201110839844, 117.22552490234375, 113.68415832519531, 82.98230743408203, 79.41793060302734, 118.43883514404297, 74.56970977783203, 62.77831268310547, 60.089141845703125, 71.89818572998047, 63.47489929199219, 66.51528930664062, 65.9681396484375, 70.38796997070312, 64.5958480834961, 64.25454711914062, 64.25827026367188, 66.3831558227539, 39.52691650390625, 26.108016967773438, 26.023691177368164, 131.6417999267578, 15.490549087524414, 18.22014045715332, 15.478538513183594, 15.470673561096191, 16.23386573791504, 14.351855278015137, 12.508907318115234, 12.490616798400879, 10.674342155456543, 10.66125202178955, 9.697291374206543, 9.643917083740234, 10.507960319519043, 11.363386154174805, 19.193910598754883, 8.711115837097168, 8.704630851745605, 88.85265350341797, 8.689746856689453, 13.786458969116211, 7.751976490020752, 7.722641468048096, 12.007816314697266, 7.673296928405762, 12.000897407531738, 93.4617919921875, 14.450849533081055, 12.000123023986816, 28.506628036499023, 22.8206787109375, 61.71452331542969, 33.4129524230957, 353.97735595703125, 71.64595794677734, 16.012096405029297, 62.803443908691406, 27.85330581665039, 20.143648147583008, 142.27658081054688, 20.334766387939453, 203.88414001464844, 68.82579040527344, 29.32809829711914, 152.75836181640625, 65.2226333618164, 28.623003005981445, 320.66058349609375, 84.50103759765625, 117.95404815673828, 28.63894271850586, 35.444950103759766, 159.4823455810547, 69.34317779541016, 88.02592468261719, 38.58707809448242, 153.67860412597656, 90.40377807617188, 79.60887908935547, 91.6353988647461, 128.4487762451172, 109.12801361083984, 102.17420959472656, 73.24272155761719, 65.64964294433594, 58.6267204284668, 68.21686553955078, 67.34329986572266, 63.16172409057617, 104.11386108398438, 84.933837890625, 53.08456039428711, 99.16349029541016, 49.09162902832031, 78.25904846191406, 42.96727752685547, 81.01200103759766, 41.96371841430664, 237.07215881347656, 126.3067398071289, 34.938987731933594, 376.5396728515625, 32.9310302734375, 79.19879150390625, 28.944252014160156, 25.102581024169922, 74.30472564697266, 96.4851303100586, 45.27022933959961, 25.0356388092041, 25.02712631225586, 23.031139373779297, 123.60028839111328, 21.055801391601562, 165.54293823242188, 153.3479766845703, 31.417007446289062, 17.104461669921875, 116.73909759521484, 399.3056640625, 132.1414337158203, 87.90616607666016, 79.63919830322266, 182.09255981445312, 166.78762817382812, 500.8712463378906, 466.2179260253906, 404.56427001953125, 148.23231506347656, 145.2212371826172, 99.12772369384766, 98.17855834960938, 139.19273376464844, 120.78467559814453, 441.80828857421875, 355.52996826171875, 203.019775390625, 388.509033203125, 164.3490753173828, 186.0151824951172, 316.0747985839844, 168.47886657714844, 195.33218383789062, 207.3139190673828, 199.11965942382812, 172.83155822753906, 166.8062286376953, 189.85975646972656, 175.4558868408203, 159.41653442382812, 156.6243896484375, 168.8224639892578, 159.36712646484375, 154.7078399658203, 109.30850219726562, 80.088134765625, 83.86244201660156, 54.6934814453125, 38.91965866088867, 57.83120346069336, 25.439220428466797, 25.437456130981445, 24.358415603637695, 41.08999252319336, 63.20716094970703, 37.08427810668945, 16.666147232055664, 20.37269401550293, 20.349586486816406, 15.685914039611816, 14.692561149597168, 36.702030181884766, 60.44767379760742, 13.72343921661377, 12.757730484008789, 12.752618789672852, 17.26657485961914, 12.710163116455078, 16.32268524169922, 16.306711196899414, 11.779744148254395, 96.68211364746094, 11.747036933898926, 10.809203147888184, 263.2798767089844, 148.08819580078125, 57.790653228759766, 48.0995979309082, 42.72883605957031, 63.29123306274414, 64.00303649902344, 38.987159729003906, 38.881553649902344, 25.903148651123047, 294.39935302734375, 241.28091430664062, 85.39813995361328, 199.43992614746094, 84.90174865722656, 365.01025390625, 163.7414093017578, 224.79173278808594, 84.04051971435547, 309.9326477050781, 144.6424102783203, 86.91937255859375, 146.74790954589844, 127.40602111816406, 144.6965789794922, 97.21666717529297, 266.778076171875, 134.59414672851562, 121.48246002197266, 115.95658874511719, 96.384521484375, 127.42940521240234, 88.31005096435547, 119.0731201171875, 121.93071746826172, 115.49063873291016, 105.56629943847656, 129.6464385986328, 120.0468521118164, 114.45709228515625, 102.15800476074219, 110.49897003173828, 101.60477447509766, 98.10247039794922, 28.19588279724121, 16.57564926147461, 16.58024024963379, 16.579679489135742, 14.66650104522705, 16.41512107849121, 13.69998550415039, 21.021820068359375, 11.732586860656738, 19.828189849853516, 10.778450012207031, 98.58210754394531, 9.624907493591309, 49.40544891357422, 8.680747032165527, 11.326961517333984, 7.857288837432861, 7.851894378662109, 7.852224826812744, 7.853071689605713, 7.823261737823486, 7.829575538635254, 7.833362579345703, 8.705316543579102, 11.208939552307129, 7.555713176727295, 6.861597537994385, 6.814349174499512, 6.852555751800537, 26.407625198364258, 31.256431579589844, 16.88998031616211, 12.718791007995605, 16.021764755249023, 25.627206802368164, 24.664045333862305, 45.063758850097656, 79.78824615478516, 17.436355590820312, 44.87970733642578, 79.83494567871094, 160.44960021972656, 106.1500244140625, 243.99847412109375, 245.9216766357422, 20.218765258789062, 171.6278839111328, 50.629817962646484, 59.655555725097656, 84.4334716796875, 97.84262084960938, 186.178955078125, 90.03361511230469, 149.0552978515625, 113.9964828491211, 107.2997817993164, 94.58509826660156, 131.0727081298828, 67.42985534667969, 84.05099487304688, 88.34678649902344, 38.50559997558594, 165.37405395507812, 103.04550170898438, 108.97061157226562, 102.26795959472656, 57.69575881958008, 152.87240600585938, 104.04573059082031, 99.8237533569336, 87.03084564208984, 85.98248291015625, 83.92318725585938, 74.4300537109375, 78.35787963867188, 96.0125732421875, 47.07552719116211, 75.59773254394531, 39.18616485595703, 30.408058166503906, 28.461801528930664, 86.22193145751953, 25.442333221435547, 24.501352310180664, 28.01973533630371, 21.447280883789062, 21.356969833374023, 331.6205749511719, 13.723115921020508, 12.788178443908691, 11.75634765625, 14.532015800476074, 11.699624061584473, 38.684452056884766, 22.416894912719727, 9.790397644042969, 10.646095275878906, 8.853080749511719, 8.827133178710938, 9.746541023254395, 8.861404418945312, 11.402511596679688, 7.890911102294922, 7.88720178604126, 8.748405456542969, 13.978205680847168, 420.289306640625, 70.1634750366211, 51.20350646972656, 31.56401252746582, 18.641075134277344, 33.421566009521484, 511.4836730957031, 31.576778411865234, 18.430164337158203, 34.323612213134766, 182.9481658935547, 138.60671997070312, 53.08720779418945, 271.6563415527344, 62.51757049560547, 221.78993225097656, 361.355224609375, 158.6705780029297, 349.4561462402344, 127.72577667236328, 192.01686096191406, 54.64155578613281, 148.29022216796875, 191.35760498046875, 180.0650634765625, 61.79729461669922, 177.19662475585938, 216.58645629882812, 129.0491485595703, 145.5266571044922, 205.81884765625, 182.1791229248047, 138.0041961669922, 133.197998046875, 141.40611267089844, 123.91674041748047, 164.9189910888672, 189.77462768554688, 184.80459594726562, 177.80308532714844, 132.0272979736328, 138.7452850341797, 142.2356414794922, 136.45176696777344, 135.3029327392578, 124.96544647216797, 120.4534912109375, 25.870155334472656, 24.02853775024414, 22.179101943969727, 72.53440856933594, 22.080488204956055, 95.5005111694336, 19.430601119995117, 16.704755783081055, 13.021191596984863, 13.017891883850098, 14.737626075744629, 14.716559410095215, 19.024900436401367, 12.096504211425781, 11.888876914978027, 27.536836624145508, 11.175651550292969, 11.1528902053833, 11.981603622436523, 17.074758529663086, 10.250466346740723, 41.694705963134766, 20.391376495361328, 19.423442840576172, 22.02900505065918, 11.843670845031738, 9.305468559265137, 38.92872619628906, 10.984925270080566, 15.170034408569336, 46.5850715637207, 71.58184814453125, 302.4977722167969, 93.6021499633789, 198.30990600585938, 132.09376525878906, 27.422012329101562, 206.98019409179688, 103.9903335571289, 33.10358428955078, 63.80118179321289, 140.65602111816406, 256.7568054199219, 122.1904067993164, 104.09077453613281, 73.22174072265625, 216.00767517089844, 197.12599182128906, 103.17172241210938, 325.90985107421875, 124.67481231689453, 67.15315246582031, 84.85382843017578, 180.8708038330078, 87.45486450195312, 125.18849182128906, 112.68070983886719, 175.4086456298828, 125.14373779296875, 106.74620819091797, 115.66828918457031, 117.30821228027344, 124.20670318603516, 112.38892364501953, 108.38146209716797, 107.7856674194336, 107.41273498535156], \"Term\": [\"max\", \"gun\", \"player\", \"bike\", \"driver\", \"chip\", \"season\", \"disk\", \"weapon\", \"speed\", \"image\", \"space\", \"human\", \"controller\", \"encryption\", \"food\", \"entry\", \"crime\", \"firearm\", \"bus\", \"monitor\", \"ride\", \"board\", \"turkish\", \"color\", \"israeli\", \"server\", \"memory\", \"armenian\", \"religion\", \"collaborator\", \"zionist\", \"iranian\", \"fatwa\", \"propaganda\", \"semitic\", \"libertarianism\", \"infringe\", \"ghetto\", \"kibbutz\", \"imprison\", \"militia\", \"equality\", \"goose\", \"semitism\", \"repression\", \"renounce\", \"deterrent\", \"regulated\", \"foke\", \"keyphrase\", \"wod\", \"mideast\", \"fasad\", \"racist\", \"imprisonment\", \"repress\", \"henrik\", \"militarily\", \"hypocrite\", \"islamic\", \"grenade\", \"documentary\", \"inimitable\", \"prosecution\", \"ideological\", \"cruel\", \"zionism\", \"verdict\", \"arrest\", \"libertarian\", \"slavery\", \"israeli\", \"jury\", \"torture\", \"constitution\", \"war\", \"ruling\", \"arab\", \"homeland\", \"anti\", \"citizenship\", \"murder\", \"political\", \"freedom\", \"bomb\", \"trial\", \"innocent\", \"civil\", \"member\", \"arm\", \"court\", \"muslim\", \"minority\", \"land\", \"bear\", \"society\", \"human\", \"turkish\", \"citizen\", \"jewish\", \"genocide\", \"action\", \"fire\", \"military\", \"child\", \"death\", \"crime\", \"weapon\", \"organization\", \"history\", \"quote\", \"icon\", \"printer\", \"irq\", \"contrib\", \"postscript\", \"modem\", \"reboot\", \"imake\", \"gcc\", \"interactive\", \"pixmap\", \"grayscale\", \"api\", \"xterm\", \"font\", \"baud\", \"previewer\", \"toner\", \"cview\", \"mit\", \"lib\", \"renderer\", \"emulator\", \"pixel\", \"motif\", \"graphical\", \"animation\", \"plotting\", \"toolkit\", \"shareware\", \"widget\", \"colormap\", \"screen\", \"pub\", \"color\", \"client\", \"image\", \"format\", \"display\", \"server\", \"graphic\", \"directory\", \"dos\", \"visual\", \"application\", \"demo\", \"port\", \"ftp\", \"package\", \"library\", \"disk\", \"manager\", \"user\", \"code\", \"fax\", \"print\", \"error\", \"hardware\", \"mouse\", \"datum\", \"memory\", \"site\", \"function\", \"access\", \"pt\", \"pitcher\", \"pitching\", \"rbi\", \"catcher\", \"inning\", \"hitter\", \"batting\", \"ERA\", \"bullpen\", \"shortstop\", \"obp\", \"defensively\", \"infield\", \"platoon\", \"fielder\", \"pennant\", \"hitting\", \"hernia\", \"baseman\", \"bigs\", \"innings\", \"interlaced\", \"rookie\", \"disappointment\", \"roster\", \"hander\", \"coaching\", \"cmap\", \"offensively\", \"runner\", \"homer\", \"breaker\", \"season\", \"defensive\", \"pitch\", \"batter\", \"player\", \"score\", \"baseball\", \"league\", \"ball\", \"monitor\", \"stat\", \"career\", \"hit\", \"fan\", \"coach\", \"tie\", \"talent\", \"outlet\", \"division\", \"bat\", \"average\", \"offense\", \"finish\", \"record\", \"ground\", \"defense\", \"major\", \"minor\", \"pick\", \"total\", \"compare\", \"cryptosystem\", \"cipher\", \"ciphertext\", \"cryptanalysis\", \"plaintext\", \"moonbase\", \"truetype\", \"mime\", \"decryption\", \"plugger\", \"sipp\", \"cryptanalyst\", \"cryptographically\", \"asking\", \"lighten\", \"projector\", \"minivan\", \"patent\", \"ether\", \"keyseach\", \"liter\", \"keyspace\", \"fide\", \"bona\", \"flattery\", \"detention\", \"predicate\", \"asymmetric\", \"discs\", \"stolen\", \"allocation\", \"permutation\", \"liquor\", \"cryptology\", \"commerical\", \"cone\", \"symmetric\", \"venture\", \"brute\", \"algorythm\", \"decrypt\", \"popup\", \"moon\", \"firm\", \"encrypt\", \"wagon\", \"prize\", \"scheme\", \"cryptography\", \"market\", \"secret\", \"algorithm\", \"random\", \"launch\", \"corporate\", \"security\", \"commercial\", \"secure\", \"spy\", \"private\", \"development\", \"contract\", \"escrow\", \"agency\", \"fund\", \"unit\", \"station\", \"encryption\", \"trust\", \"sport\", \"technical\", \"chip\", \"space\", \"company\", \"model\", \"attack\", \"technology\", \"product\", \"design\", \"plan\", \"captain\", \"vat\", \"republic\", \"embargo\", \"syrian\", \"deficit\", \"shelling\", \"gridlock\", \"cruelty\", \"unemployment\", \"azeri\", \"diplomat\", \"autonomy\", \"guerilla\", \"stimulus\", \"rein\", \"sprocket\", \"socialism\", \"laughter\", \"deputy\", \"bosnian\", \"lebanese\", \"memoir\", \"negotiation\", \"fmg\", \"ottoman\", \"village\", \"withdrawal\", \"butcher\", \"residency\", \"retaliation\", \"income\", \"armenian\", \"taxis\", \"tax\", \"massacre\", \"russian\", \"extermination\", \"refugee\", \"province\", \"democracy\", \"administration\", \"turkish\", \"mountain\", \"reform\", \"spending\", \"city\", \"job\", \"civilian\", \"town\", \"troop\", \"summer\", \"attack\", \"territory\", \"american\", \"health\", \"community\", \"fund\", \"official\", \"serve\", \"population\", \"escape\", \"peace\", \"effort\", \"child\", \"israeli\", \"continue\", \"business\", \"plan\", \"trade\", \"pass\", \"package\", \"press\", \"fpu\", \"promiscuous\", \"MHz\", \"controller\", \"interleave\", \"harddisk\", \"mfm\", \"accelerator\", \"vesa\", \"injector\", \"pentium\", \"hdd\", \"controler\", \"acidophilous\", \"motherboard\", \"microsecond\", \"jumper\", \"powerpc\", \"mhz\", \"keycode\", \"simm\", \"benchmark\", \"diesel\", \"cyl\", \"asynchronous\", \"winbench\", \"hog\", \"oversampling\", \"scsi\", \"envelop\", \"coprocessor\", \"simms\", \"bios\", \"bus\", \"ram\", \"cpu\", \"cache\", \"meg\", \"clock\", \"adapter\", \"slot\", \"board\", \"rom\", \"connector\", \"pin\", \"chipset\", \"driver\", \"speed\", \"upgrade\", \"mode\", \"vram\", \"memory\", \"video\", \"disk\", \"spec\", \"chip\", \"performance\", \"fast\", \"floppy\", \"rate\", \"interface\", \"transfer\", \"datum\", \"slow\", \"spacecraft\", \"uuencode\", \"astronaut\", \"orbit\", \"propulsion\", \"shuttle\", \"denizen\", \"telescope\", \"entrys\", \"whitespace\", \"orbiter\", \"comic_strip\", \"photography\", \"astronomer\", \"galaxy\", \"orbital\", \"args\", \"uudecode\", \"martian\", \"ioccc\", \"flyby\", \"crater\", \"gravitational\", \"comet\", \"decimal\", \"constellation\", \"inflatable\", \"aweto\", \"plasma\", \"radii\", \"entry\", \"astronomy\", \"mission\", \"asteroid\", \"payload\", \"char\", \"probe\", \"ozone\", \"planetary\", \"atmosphere\", \"polygon\", \"filename\", \"contest\", \"space\", \"flight\", \"solar\", \"satellite\", \"rocket\", \"int\", \"proceeding\", \"gravity\", \"launch\", \"surface\", \"project\", \"section\", \"stream\", \"copy\", \"author\", \"object\", \"output\", \"material\", \"test\", \"return\", \"title\", \"contact\", \"rule\", \"reference\", \"open\", \"appear\", \"datum\", \"date\", \"cover\", \"function\", \"bike\", \"tire\", \"brake\", \"mph\", \"rider\", \"throttle\", \"torque\", \"biker\", \"freeway\", \"motorcycle\", \"steering\", \"lane\", \"unassisted\", \"cager\", \"winmark\", \"compartment\", \"handlebar\", \"fairing\", \"squid\", \"countersteere\", \"cage\", \"cruiser\", \"speedo\", \"won\", \"pedal\", \"stud\", \"braking\", \"sporty\", \"stalk\", \"swerve\", \"wheel\", \"rear\", \"automotive\", \"ride\", \"odometer\", \"trunk\", \"dog\", \"engine\", \"dod\", \"riding\", \"steer\", \"radar\", \"mile\", \"detector\", \"oil\", \"sensor\", \"road\", \"gear\", \"truck\", \"dealer\", \"wave\", \"cop\", \"traffic\", \"light\", \"speed\", \"left\", \"foot\", \"owner\", \"driver\", \"fast\", \"vehicle\", \"head\", \"max\", \"homicide\", \"handgun\", \"shotgun\", \"firearm\", \"assailant\", \"smuggle\", \"backcountry\", \"pistol\", \"bubblejet\", \"ccw\", \"iftccu\", \"manditory\", \"titty\", \"holster\", \"thine\", \"gun\", \"felony\", \"computergenerated\", \"reword\", \"felon\", \"sporting\", \"accuire\", \"tcsh\", \"incompatability\", \"poisonous\", \"cary\", \"israelis\", \"fasst\", \"egotism\", \"plutonium\", \"waiting\", \"thug\", \"censor\", \"knife\", \"weapon\", \"conceal\", \"deadly\", \"rifle\", \"violent\", \"explosive\", \"criminal\", \"hunting\", \"crime\", \"gang\", \"semi\", \"lethal\", \"shooting\", \"ban\", \"safety\", \"carry\", \"rate\", \"self\", \"police\", \"defense\", \"shoot\", \"license\", \"bill\", \"death\", \"auto\", \"accident\", \"automatic\", \"citizen\", \"dangerous\", \"owner\", \"vote\", \"fire\", \"city\", \"protect\", \"likely\", \"superstition\", \"glutamate\", \"instinctive\", \"amino\", \"msg\", \"paganism\", \"cereal\", \"dietary\", \"chimp\", \"phenylalanine\", \"inhibitor\", \"residue\", \"afterlife\", \"clutchless\", \"spasm\", \"monosodium\", \"crohn\", \"turmeric\", \"nosebleed\", \"sunrise\", \"ETHER\", \"metabolic\", \"sensitivity\", \"pantheism\", \"doctrinal\", \"environmentalism\", \"swelling\", \"harvard\", \"puke\", \"rayssd\", \"diet\", \"soup\", \"ima\", \"sunset\", \"bee\", \"seizure\", \"protein\", \"food\", \"acid\", \"aspartame\", \"chinese\", \"vandalize\", \"sabbath\", \"animal\", \"metaphor\", \"moral\", \"taste\", \"voting\", \"eat\", \"substance\", \"sugar\", \"human\", \"reaction\", \"morality\", \"anecdotal\", \"dose\", \"atheist\", \"sky\", \"brain\", \"restaurant\", \"effect\", \"nature\", \"natural\", \"vote\", \"religion\", \"belief\", \"study\", \"existence\", \"language\", \"heart\", \"term\", \"light\", \"act\", \"catholic\", \"disciple\", \"apostle\", \"salvation\", \"liturgy\", \"gospel\", \"psalm\", \"commandment\", \"tomb\", \"scripture\", \"bible\", \"baptism\", \"sin\", \"iniquity\", \"chastity\", \"plaintiff\", \"sinful\", \"theology\", \"resurrection\", \"messiah\", \"parable\", \"parish\", \"congregation\", \"prophecy\", \"crucify\", \"biblical\", \"doctrine\", \"protestant\", \"malpractice\", \"revelation\", \"church\", \"prayer\", \"skepticism\", \"shameful\", \"eternal\", \"worship\", \"god\", \"faith\", \"christian\", \"passage\", \"teaching\", \"priest\", \"prophet\", \"pray\", \"verse\", \"truth\", \"belief\", \"absolute\", \"religion\", \"interpretation\", \"teach\", \"die\", \"evil\", \"choose\", \"death\", \"act\", \"hell\", \"religious\", \"save\", \"jewish\", \"quote\", \"fall\", \"child\", \"body\", \"woman\", \"infection\", \"candida\", \"yeast\", \"sinus\", \"antibiotic\", \"migraine\", \"entryway\", \"fungal\", \"abstinence\", \"balcony\", \"therapy\", \"smokeless\", \"tumor\", \"endometriosis\", \"fungus\", \"stool\", \"vaginal\", \"immune\", \"diagnose\", \"pathogen\", \"analgesic\", \"sperm\", \"pogrom\", \"anal\", \"epidemic\", \"purse\", \"albican\", \"physician\", \"microdistrict\", \"cramm\", \"patient\", \"apartment\", \"illness\", \"quack\", \"bloom\", \"tobacco\", \"alcohol\", \"outbreak\", \"medication\", \"prevention\", \"doctor\", \"disease\", \"cancer\", \"pain\", \"shout\", \"drug\", \"treatment\", \"objective\", \"symptom\", \"woman\", \"medical\", \"medicine\", \"sex\", \"neighbor\", \"morality\", \"hospital\", \"child\", \"kid\", \"room\", \"treat\", \"drink\", \"hour\", \"afraid\", \"health\", \"family\", \"beat\", \"walk\", \"study\", \"head\", \"body\", \"door\", \"later\", \"evidence\", \"throw\", \"unconventional\", \"sore\", \"heartless\", \"boiler\", \"turbine\", \"spoof\", \"repeater\", \"carcinogenic\", \"freon\", \"piston\", \"midi\", \"tower\", \"strawberry\", \"stove\", \"lexicon\", \"charcoal\", \"adb\", \"xputimage\", \"trestle\", \"poer\", \"happend\", \"sprout\", \"westerner\", \"apocalypse\", \"reciever\", \"interoperate\", \"blaster\", \"erotica\", \"shaped\", \"ignite\", \"uranium\", \"combustion\", \"typewriter\", \"thruster\", \"impedance\", \"mixer\", \"steam\", \"temperature\", \"napalm\", \"volt\", \"receiver\", \"cool\", \"heat\", \"gas\", \"water\", \"oven\", \"tank\", \"wood\", \"pump\", \"voltage\", \"plant\", \"keyboard\", \"audio\", \"air\", \"hot\", \"circuit\", \"tear\", \"signal\", \"cylinder\", \"cold\", \"nuclear\", \"river\", \"fire\", \"cable\", \"serial\", \"switch\", \"smoke\", \"chip\", \"ground\", \"jewish\", \"supply\", \"input\", \"block\", \"wire\", \"unit\", \"anonymity\", \"homeopathy\", \"methodology\", \"microcircuit\", \"remailer\", \"cypherpunk\", \"fallacy\", \"ultrasound\", \"schismatic\", \"eff\", \"wiretapping\", \"inductive\", \"privacy\", \"reincarnation\", \"excommunication\", \"busmastering\", \"unicorn\", \"implimente\", \"authorization\", \"legalization\", \"vitality\", \"smuggler\", \"usefull\", \"autobahn\", \"theistic\", \"exportable\", \"awd\", \"poo\", \"homeopathic\", \"layman\", \"subvert\", \"science\", \"motto\", \"proposition\", \"safeguard\", \"consecration\", \"telecommunication\", \"encryption\", \"unauthorized\", \"realm\", \"empirical\", \"scientific\", \"atheism\", \"hypothesis\", \"technology\", \"premise\", \"anonymous\", \"evidence\", \"enforcement\", \"argument\", \"universe\", \"theory\", \"academic\", \"communication\", \"posting\", \"atheist\", \"identity\", \"newsgroup\", \"access\", \"conclusion\", \"agency\", \"device\", \"protect\", \"existence\", \"argue\", \"policy\", \"escrow\", \"discussion\", \"value\", \"user\", \"datum\", \"network\", \"prove\", \"service\", \"strong\", \"sense\", \"puck\", \"flyer\", \"schematic\", \"spline\", \"minus\", \"defenseman\", \"eavesdrop\", \"revolver\", \"octopus\", \"matchup\", \"shoei\", \"misconduct\", \"misfire\", \"crease\", \"vcr\", \"inverter\", \"sprint\", \"finnish\", \"wate\", \"powerplay\", \"vnet\", \"diode\", \"roughing\", \"capacitor\", \"arcade\", \"wireframe\", \"pcb\", \"neon\", \"mosfet\", \"forsale\", \"unapproved\", \"champions\", \"franchise\", \"cellular\", \"hockey\", \"stereo\", \"playoff\", \"ice\", \"ham\", \"shot\", \"amp\", \"skate\", \"goalie\", \"penalty\", \"goal\", \"clipper\", \"tap\", \"cap\", \"period\", \"pick\", \"battery\", \"chip\", \"round\", \"speaker\", \"blue\", \"company\", \"crypto\", \"trade\", \"radio\", \"player\", \"fan\", \"series\", \"watch\", \"contact\", \"code\", \"net\", \"face\", \"cover\", \"copy\"], \"Total\": [3855.0, 1359.0, 906.0, 684.0, 1030.0, 1152.0, 620.0, 983.0, 586.0, 884.0, 1077.0, 1022.0, 952.0, 462.0, 766.0, 476.0, 529.0, 552.0, 350.0, 472.0, 629.0, 465.0, 572.0, 633.0, 843.0, 633.0, 760.0, 735.0, 554.0, 686.0, 41.658103942871094, 49.594566345214844, 37.672637939453125, 28.75949478149414, 88.27456665039062, 24.78565216064453, 23.796207427978516, 43.592647552490234, 41.6381950378418, 18.83472442626953, 18.828271865844727, 209.2836151123047, 16.844158172607422, 15.84971809387207, 37.69426345825195, 12.850188255310059, 17.73259925842285, 13.857137680053711, 37.60887908935547, 11.889535903930664, 11.884765625, 11.889531135559082, 11.88940715789795, 11.888673782348633, 68.42102813720703, 25.757089614868164, 13.863764762878418, 11.886350631713867, 16.83605194091797, 19.81135368347168, 194.3900146484375, 46.56833267211914, 44.558712005615234, 25.789457321166992, 29.716142654418945, 29.703964233398438, 66.3690185546875, 42.616146087646484, 54.45867919921875, 115.95721435546875, 110.89647674560547, 54.476802825927734, 633.1287841796875, 69.30148315429688, 98.2529296875, 67.32855224609375, 594.6676025390625, 44.560611724853516, 304.6339416503906, 67.33104705810547, 464.25579833984375, 55.44444274902344, 426.9637756347656, 460.0090637207031, 316.93255615234375, 147.1855010986328, 301.53582763671875, 233.35293579101562, 235.53741455078125, 665.0270385742188, 434.2440185546875, 369.42529296875, 232.00711059570312, 223.31918334960938, 476.9359130859375, 460.1886901855469, 334.467529296875, 952.618408203125, 633.7713623046875, 394.97467041015625, 553.178955078125, 265.3787536621094, 671.7265014648438, 657.6845703125, 430.1081237792969, 1053.2750244140625, 695.7879028320312, 552.8557739257812, 586.4468383789062, 582.7941284179688, 564.2168579101562, 517.8079833984375, 123.91123962402344, 360.9593811035156, 51.13002014160156, 99.31413269042969, 73.75872039794922, 354.9481201171875, 51.125003814697266, 39.3300895690918, 49.157386779785156, 51.10926055908203, 112.0743179321289, 37.35755920410156, 29.488317489624023, 166.20860290527344, 417.1958923339844, 51.100406646728516, 27.519699096679688, 27.522789001464844, 22.60907745361328, 35.37937545776367, 71.76895904541016, 25.545509338378906, 28.49454116821289, 158.3553009033203, 183.74571228027344, 31.448022842407227, 116.00215148925781, 26.54269027709961, 108.04409790039062, 105.21311950683594, 446.4466247558594, 126.74365997314453, 593.8046875, 226.10589599609375, 843.8309936523438, 313.4886474609375, 1077.0457763671875, 615.51220703125, 784.0989379882812, 760.206787109375, 569.3224487304688, 420.73944091796875, 299.69256591796875, 146.44546508789062, 830.34033203125, 89.38594818115234, 478.45220947265625, 395.417724609375, 740.399169921875, 357.8866271972656, 983.91064453125, 397.95306396484375, 889.9332275390625, 854.0956420898438, 483.47454833984375, 362.05267333984375, 669.1514892578125, 509.6458435058594, 403.29119873046875, 1021.3184814453125, 735.0424194335938, 598.493408203125, 581.5723876953125, 670.906494140625, 111.46074676513672, 128.91197204589844, 122.13230895996094, 85.29300689697266, 76.57796478271484, 59.12729263305664, 135.722412109375, 38.77433395385742, 34.89800262451172, 34.89829635620117, 31.992372512817383, 30.05109405517578, 37.79813766479492, 26.174915313720703, 22.299123764038086, 21.329261779785156, 25.211088180541992, 20.36060333251953, 19.385683059692383, 18.420822143554688, 18.41988754272461, 36.86112594604492, 17.434022903442383, 66.82500457763672, 28.125139236450195, 41.671688079833984, 16.472797393798828, 16.47980308532715, 15.494745254516602, 16.471172332763672, 60.114295959472656, 62.1007080078125, 66.94319915771484, 620.3128051757812, 133.86297607421875, 170.93386840820312, 42.6639518737793, 906.823974609375, 375.4112548828125, 319.52691650390625, 309.53265380859375, 233.36758422851562, 629.6716918945312, 230.49978637695312, 136.23175048828125, 654.628173828125, 466.84722900390625, 140.953369140625, 213.54730224609375, 104.47795867919922, 93.76042175292969, 207.4088897705078, 111.0211181640625, 371.1394958496094, 152.9752197265625, 204.3556671142578, 512.6112670898438, 523.9680786132812, 382.3813781738281, 539.4730834960938, 212.87791442871094, 500.47320556640625, 419.2386474609375, 469.04241943359375, 83.11459350585938, 137.19635009765625, 59.0736083984375, 34.02865982055664, 83.07970428466797, 25.014545440673828, 17.97612190246582, 16.9965763092041, 39.001922607421875, 23.971651077270508, 11.889318466186523, 15.997138023376465, 14.99569320678711, 14.968268394470215, 11.940049171447754, 30.965259552001953, 10.993236541748047, 106.96572875976562, 22.9782772064209, 23.002561569213867, 39.857948303222656, 8.988452911376953, 8.966394424438477, 8.96581745147705, 8.975048065185547, 17.951805114746094, 7.976747512817383, 7.985568523406982, 7.959182262420654, 7.9795613288879395, 69.90617370605469, 17.96240997314453, 10.980772972106934, 44.933189392089844, 11.951606750488281, 27.904592514038086, 28.974267959594727, 58.97081756591797, 40.89665985107422, 19.863601684570312, 94.35189056396484, 37.78605270385742, 214.79811096191406, 112.46708679199219, 269.28350830078125, 56.89232635498047, 88.56629180908203, 199.13009643554688, 160.79769897460938, 399.0805969238281, 385.82373046875, 447.8782043457031, 195.48211669921875, 486.30621337890625, 61.7744255065918, 467.9903564453125, 329.1173095703125, 311.985595703125, 67.82164764404297, 534.7075805664062, 301.37652587890625, 165.5926971435547, 319.253662109375, 368.64581298828125, 311.4156188964844, 431.73162841796875, 307.15802001953125, 766.1583862304688, 315.8596496582031, 229.72836303710938, 292.7288818359375, 1152.53466796875, 1022.0615844726562, 697.0199584960938, 609.4082641601562, 717.8306274414062, 477.8430480957031, 579.4620361328125, 738.5160522460938, 593.4492797851562, 105.9814224243164, 69.66996002197266, 42.18500900268555, 35.31855392456055, 31.39700698852539, 90.24491882324219, 24.526226043701172, 24.522384643554688, 23.5440673828125, 19.615697860717773, 65.7724838256836, 22.54604148864746, 21.566862106323242, 54.96647644042969, 56.901798248291016, 31.376943588256836, 14.69883918762207, 24.514467239379883, 54.00571060180664, 21.567533493041992, 26.487342834472656, 133.41531372070312, 15.693182945251465, 74.56697845458984, 12.747366905212402, 12.748496055603027, 269.11297607421875, 26.464990615844727, 32.36972427368164, 11.755440711975098, 23.5302677154541, 83.47245025634766, 554.1410522460938, 167.9143524169922, 338.22930908203125, 178.9462432861328, 311.5710144042969, 112.05574035644531, 62.8288459777832, 44.179927825927734, 85.49923706054688, 192.2261962890625, 633.7713623046875, 162.56150817871094, 80.59916687011719, 69.78192901611328, 459.7718505859375, 686.4371337890625, 259.8297424316406, 233.77389526367188, 195.66000366210938, 193.1251983642578, 717.8306274414062, 157.57647705078125, 480.325927734375, 349.9784240722656, 321.1083068847656, 311.4156188964844, 394.7715759277344, 395.322509765625, 393.2430419921875, 244.20736694335938, 412.70623779296875, 371.9543762207031, 1053.2750244140625, 633.1287841796875, 550.23095703125, 460.0738220214844, 593.4492797851562, 411.2291259765625, 670.7608642578125, 740.399169921875, 414.34521484375, 124.9036636352539, 43.92245864868164, 135.8422393798828, 462.5285949707031, 45.93439865112305, 28.950109481811523, 25.962263107299805, 119.80592346191406, 28.94147491455078, 26.955713272094727, 22.95767593383789, 19.964120864868164, 20.961050033569336, 17.950105667114258, 228.59332275390625, 15.964460372924805, 149.65182495117188, 29.884506225585938, 21.946674346923828, 29.873767852783203, 88.57243347167969, 41.87993621826172, 25.912357330322266, 15.95116138458252, 42.899444580078125, 11.96781063079834, 14.935770034790039, 10.970657348632812, 349.2863464355469, 9.962573051452637, 38.89528274536133, 55.62005615234375, 77.7302017211914, 472.9726257324219, 381.6026611328125, 205.3232421875, 195.3529052734375, 156.4244842529297, 231.0074920654297, 137.30807495117188, 209.11557006835938, 572.3529663085938, 301.6003723144531, 173.4625244140625, 291.88348388671875, 57.845211029052734, 1030.021728515625, 884.5164184570312, 315.67657470703125, 592.0736083984375, 77.63958740234375, 735.0424194335938, 594.6941528320312, 983.91064453125, 195.47042846679688, 1152.53466796875, 384.6902160644531, 738.7463989257812, 306.19854736328125, 733.8887939453125, 385.9774475097656, 305.3524475097656, 1021.3184814453125, 407.2990417480469, 121.87178802490234, 53.06025314331055, 48.15187454223633, 302.7254638671875, 40.289791107177734, 105.15019226074219, 36.33641815185547, 42.241153717041016, 30.46293830871582, 29.4635066986084, 30.460996627807617, 31.439430236816406, 27.506877899169922, 29.473058700561523, 27.509166717529297, 75.64991760253906, 20.59243392944336, 20.627891540527344, 19.6390323638916, 15.71921157836914, 15.718029975891113, 15.716078758239746, 15.69838809967041, 69.75985717773438, 14.723742485046387, 15.713094711303711, 33.36433792114258, 14.734953880310059, 14.722265243530273, 13.749820709228516, 529.2276611328125, 52.02812576293945, 267.4647521972656, 34.419898986816406, 73.78984832763672, 170.02574157714844, 145.4962615966797, 60.88850784301758, 58.93840408325195, 69.71575164794922, 133.66587829589844, 98.27835083007812, 142.4864044189453, 1022.0615844726562, 193.78399658203125, 109.99298858642578, 293.68182373046875, 214.13125610351562, 175.75503540039062, 63.870033264160156, 72.70269012451172, 486.30621337890625, 226.21893310546875, 460.08953857421875, 512.3182373046875, 179.53871154785156, 739.1605224609375, 423.6462707519531, 436.7825927734375, 476.28436279296875, 313.5710754394531, 700.3522338867188, 714.54541015625, 321.9942932128906, 656.8880004882812, 757.6126708984375, 617.3109130859375, 784.0073852539062, 697.3643188476562, 1021.3184814453125, 526.5509033203125, 637.2302856445312, 581.5723876953125, 684.6692504882812, 205.0511932373047, 172.38113403320312, 127.78675842285156, 134.71990966796875, 46.538570404052734, 46.55970001220703, 62.40506362915039, 33.67369079589844, 215.91891479492188, 60.349369049072266, 81.19981384277344, 23.750587463378906, 26.736738204956055, 24.727054595947266, 36.64588165283203, 23.767093658447266, 28.72049903869629, 26.732616424560547, 42.58435821533203, 91.11670684814453, 24.747337341308594, 20.794496536254883, 17.818395614624023, 40.589927673339844, 20.77190399169922, 24.74110984802246, 15.83961009979248, 14.846484184265137, 16.82610321044922, 173.2543182373047, 150.52593994140625, 61.360633850097656, 465.291748046875, 58.47256088256836, 56.420658111572266, 263.1973571777344, 422.29864501953125, 173.96304321289062, 43.51416015625, 48.47927474975586, 215.29864501953125, 330.9105224609375, 173.7598419189453, 293.74468994140625, 90.8812026977539, 433.91387939453125, 132.00596618652344, 156.2772216796875, 317.9332275390625, 174.51075744628906, 235.43777465820312, 247.4639129638672, 649.7499389648438, 884.5164184570312, 319.00390625, 287.6941833496094, 361.341064453125, 1030.021728515625, 738.7463989257812, 294.2132263183594, 680.3699340820312, 3855.025146484375, 132.62051391601562, 196.47850036621094, 58.93754196166992, 350.7813720703125, 23.56174659729004, 41.25031661987305, 20.62328338623047, 49.11286926269531, 17.673229217529297, 16.690185546875, 11.778939247131348, 10.80207633972168, 9.81737995147705, 9.815352439880371, 11.772721290588379, 1359.4832763671875, 26.507352828979492, 8.835604667663574, 8.836125373840332, 16.705413818359375, 7.830129623413086, 6.872009754180908, 6.844454288482666, 6.816636562347412, 6.764569282531738, 6.857574939727783, 6.847707748413086, 5.859825611114502, 5.869615077972412, 21.57967185974121, 20.59352684020996, 40.18728256225586, 45.13282012939453, 128.72409057617188, 586.4468383789062, 79.52388763427734, 38.330379486083984, 79.71922302246094, 123.0383071899414, 62.79035186767578, 435.86419677734375, 44.3245735168457, 552.8557739257812, 125.65853118896484, 161.85948181152344, 54.89190673828125, 62.45032501220703, 176.09921264648438, 313.83392333984375, 685.4813232421875, 733.8887939453125, 471.5379333496094, 476.0895690917969, 382.3813781738281, 399.53350830078125, 262.9663391113281, 257.86822509765625, 695.7879028320312, 245.18186950683594, 187.1334228515625, 194.21678161621094, 394.97467041015625, 246.37503051757812, 361.341064453125, 348.0628356933594, 657.6845703125, 459.7718505859375, 545.590087890625, 552.1610107421875, 67.60901641845703, 40.57109069824219, 27.050861358642578, 27.04915428161621, 138.1778106689453, 16.425954818725586, 19.32556915283203, 16.42466163635254, 16.426925659179688, 17.3950252532959, 15.468551635742188, 13.526494026184082, 13.517631530761719, 11.595043182373047, 11.593778610229492, 10.633907318115234, 10.633061408996582, 11.605132102966309, 12.55978012084961, 21.249433517456055, 9.664113998413086, 9.664772033691406, 98.67329406738281, 9.652900695800781, 15.427132606506348, 8.688908576965332, 8.686979293823242, 13.534093856811523, 8.649983406066895, 13.534214973449707, 107.35662841796875, 16.320465087890625, 13.534215927124023, 32.88780975341797, 26.152305603027344, 75.55857849121094, 39.658470153808594, 476.8246765136719, 89.07271575927734, 18.371536254882812, 81.47476196289062, 34.87580871582031, 24.209402084350586, 238.0820770263672, 25.18924903869629, 444.2142639160156, 116.89226531982422, 39.7422981262207, 328.5395812988281, 111.01398468017578, 38.72404861450195, 952.618408203125, 165.55816650390625, 282.43768310546875, 38.76432418823242, 52.408390045166016, 484.20489501953125, 148.12025451660156, 233.452392578125, 63.07233428955078, 650.2548217773438, 322.9697570800781, 265.28271484375, 348.0628356933594, 686.0584106445312, 544.19921875, 720.5985717773438, 366.7406311035156, 353.7772216796875, 285.2524719238281, 653.4788818359375, 649.7499389648438, 630.5541381835938, 105.3944320678711, 86.31208038330078, 54.18915557861328, 101.34748077392578, 50.173309326171875, 80.2767105102539, 44.14793395996094, 83.26319122314453, 43.13927459716797, 243.88638305664062, 130.4209747314453, 36.11338806152344, 389.2767639160156, 34.1051139831543, 82.22909545898438, 30.05759620666504, 26.07432746887207, 77.22125244140625, 100.2990493774414, 47.13581848144531, 26.073144912719727, 26.07204818725586, 24.062610626220703, 129.42623901367188, 22.05588722229004, 173.50790405273438, 161.4302978515625, 33.08626174926758, 18.033126831054688, 123.3311767578125, 425.0169677734375, 141.42758178710938, 94.20130157470703, 85.17904663085938, 199.29432678222656, 182.18601989746094, 578.166748046875, 547.6362915039062, 483.03173828125, 166.2526092529297, 163.25283813476562, 109.2501220703125, 108.22309112548828, 159.13670349121094, 141.8132781982422, 668.2346801757812, 544.19921875, 276.375, 686.0584106445312, 224.68435668945312, 295.491943359375, 742.7445678710938, 291.66357421875, 505.20574951171875, 695.7879028320312, 630.5541381835938, 446.41607666015625, 417.05792236328125, 682.0740356445312, 553.178955078125, 517.8079833984375, 489.4570007324219, 1053.2750244140625, 623.6904296875, 674.7614135742188, 110.52758026123047, 81.18163299560547, 85.09276580810547, 55.75099182128906, 40.092769622802734, 59.655052185058594, 26.407873153686523, 26.40695571899414, 25.4300594329834, 43.0325927734375, 66.45680236816406, 39.121849060058594, 17.60093879699707, 21.51602554321289, 21.51549530029297, 16.62554931640625, 15.644723892211914, 39.10262680053711, 64.5197525024414, 14.663984298706055, 13.690381050109863, 13.689566612243652, 18.58461570739746, 13.682962417602539, 17.578405380249023, 17.58312225341797, 12.713047981262207, 104.61747741699219, 12.711575508117676, 11.734091758728027, 293.2682189941406, 164.4029541015625, 63.594459533691406, 52.816436767578125, 46.94465637207031, 70.4356918334961, 71.45858764648438, 43.04842758178711, 42.96892547607422, 28.284666061401367, 358.5178527832031, 314.5020751953125, 103.62567901611328, 262.1399841308594, 106.9278793334961, 560.46142578125, 248.874755859375, 364.7630920410156, 120.07150268554688, 674.7614135742188, 250.5312957763672, 127.28189849853516, 263.8592834472656, 228.527099609375, 282.43768310546875, 160.99276733398438, 1053.2750244140625, 335.92413330078125, 285.7484436035156, 283.15069580078125, 197.2689971923828, 401.6018981933594, 161.8800811767578, 349.9784240722656, 397.65087890625, 357.45965576171875, 267.8398742675781, 720.5985717773438, 680.3699340820312, 623.6904296875, 328.7015075683594, 633.816650390625, 809.744384765625, 399.826171875, 29.24492645263672, 17.529504776000977, 17.543079376220703, 17.553342819213867, 15.605650901794434, 17.47151756286621, 14.620330810546875, 22.434507369995117, 12.678418159484863, 21.4500675201416, 11.698043823242188, 108.27271270751953, 10.609129905700684, 54.61705017089844, 9.611533164978027, 12.650744438171387, 8.779050827026367, 8.773130416870117, 8.777128219604492, 8.779245376586914, 8.751232147216797, 8.758740425109863, 8.765949249267578, 9.742888450622559, 12.66854190826416, 8.55803394317627, 7.787309646606445, 7.7363409996032715, 7.781931400299072, 30.241107940673828, 36.10390090942383, 19.50287628173828, 14.617631912231445, 18.505828857421875, 30.063251495361328, 29.267982482910156, 55.551177978515625, 102.51293182373047, 20.48545265197754, 56.164154052734375, 104.43718719482422, 225.71990966796875, 145.32232666015625, 364.09149169921875, 382.6207580566406, 24.39156150817871, 270.75372314453125, 68.48786163330078, 84.02098083496094, 125.91793060302734, 149.7836151123047, 335.6066589355469, 153.41586303710938, 309.3426818847656, 224.04367065429688, 209.46058654785156, 188.84283447265625, 300.8360595703125, 127.59309387207031, 189.8828125, 223.27122497558594, 59.64836120605469, 657.6845703125, 323.4556884765625, 358.04571533203125, 440.6329345703125, 134.8697509765625, 1152.53466796875, 523.9680786132812, 553.178955078125, 382.2693786621094, 373.6486511230469, 366.0186462402344, 239.02638244628906, 431.73162841796875, 97.09272003173828, 48.05097579956055, 77.46192932128906, 40.20704650878906, 31.378747940063477, 29.417268753051758, 89.23664855957031, 26.434677124023438, 25.486248016357422, 29.421430587768555, 22.546344757080078, 22.537702560424805, 352.14752197265625, 14.67681884765625, 13.718591690063477, 12.681998252868652, 15.676339149475098, 12.694825172424316, 42.14608383178711, 24.487335205078125, 10.778310775756836, 11.723441123962402, 9.775107383728027, 9.750524520874023, 10.776556968688965, 9.80013370513916, 12.68869400024414, 8.81263542175293, 8.809342384338379, 9.773777961730957, 15.636773109436035, 517.66015625, 83.48004913330078, 60.84979248046875, 37.001930236816406, 21.528366088867188, 40.271583557128906, 766.1583862304688, 38.275516510009766, 21.475753784179688, 43.11174392700195, 296.2579345703125, 215.36190795898438, 71.52253723144531, 477.8430480957031, 92.20255279541016, 425.1398010253906, 809.744384765625, 294.30987548828125, 807.709716796875, 236.4415283203125, 415.30572509765625, 79.44606018066406, 307.60699462890625, 506.35174560546875, 484.20489501953125, 99.4577407836914, 491.4115295410156, 670.906494140625, 305.1004943847656, 368.64581298828125, 648.93408203125, 545.590087890625, 366.7406311035156, 346.3385314941406, 401.7761535644531, 319.253662109375, 608.8477172851562, 816.5867309570312, 889.9332275390625, 1021.3184814453125, 402.7337646484375, 533.4654541015625, 605.4473266601562, 537.9204711914062, 623.686767578125, 128.18345642089844, 123.55924224853516, 26.949689865112305, 25.052799224853516, 23.23876190185547, 76.24405670166016, 23.233234405517578, 100.52265167236328, 20.459915161132812, 17.67751121520996, 13.963784217834473, 13.964614868164062, 15.825031280517578, 15.826601028442383, 20.479721069335938, 13.037799835205078, 12.856270790100098, 29.793846130371094, 12.10812759399414, 12.106935501098633, 13.035895347595215, 18.620098114013672, 11.18226146697998, 45.63461685180664, 22.36788558959961, 21.330787658691406, 24.223777770996094, 13.031375885009766, 10.254499435424805, 42.90947723388672, 12.11113166809082, 16.789012908935547, 53.21218490600586, 83.16836547851562, 377.4173278808594, 112.34276580810547, 267.3944091796875, 180.53846740722656, 32.66078186035156, 328.1879577636719, 152.78041076660156, 41.25171661376953, 90.25833892822266, 239.022216796875, 513.4352416992188, 206.94281005859375, 175.18826293945312, 115.42237091064453, 537.3550415039062, 500.47320556640625, 211.3505096435547, 1152.53466796875, 289.48028564453125, 131.54531860351562, 192.58636474609375, 697.0199584960938, 210.4116973876953, 411.2291259765625, 363.8623046875, 906.823974609375, 466.84722900390625, 349.3017883300781, 514.031005859375, 656.8880004882812, 854.0956420898438, 573.4843139648438, 581.90576171875, 637.2302856445312, 739.1605224609375], \"loglift\": [30.0, 29.0, 28.0, 27.0, 26.0, 25.0, 24.0, 23.0, 22.0, 21.0, 20.0, 19.0, 18.0, 17.0, 16.0, 15.0, 14.0, 13.0, 12.0, 11.0, 10.0, 9.0, 8.0, 7.0, 6.0, 5.0, 4.0, 3.0, 2.0, 1.0, 2.2883999347686768, 2.2860000133514404, 2.2836999893188477, 2.2783000469207764, 2.2713000774383545, 2.2690000534057617, 2.2653000354766846, 2.263400077819824, 2.2602999210357666, 2.260200023651123, 2.2583999633789062, 2.257699966430664, 2.25570011138916, 2.253200054168701, 2.2392001152038574, 2.2385001182556152, 2.2355000972747803, 2.2342000007629395, 2.233099937438965, 2.232800006866455, 2.232800006866455, 2.232800006866455, 2.2325000762939453, 2.231300115585327, 2.2302000522613525, 2.2283999919891357, 2.2279999256134033, 2.2249999046325684, 2.222100019454956, 2.2204999923706055, 2.2146999835968018, 2.2172000408172607, 2.210900068283081, 2.216599941253662, 2.2135000228881836, 2.206899881362915, 2.1786000728607178, 2.1935999393463135, 2.177299976348877, 2.1273000240325928, 2.124000072479248, 2.157399892807007, 1.9763000011444092, 2.1396000385284424, 2.106800079345703, 2.1308000087738037, 1.901900053024292, 2.1691999435424805, 1.9569000005722046, 2.101900100708008, 1.791100025177002, 2.1138999462127686, 1.7028000354766846, 1.6714999675750732, 1.7014000415802002, 1.8802000284194946, 1.691499948501587, 1.7508000135421753, 1.7412999868392944, 1.437600016593933, 1.5455000400543213, 1.5898000001907349, 1.7240999937057495, 1.7252000570297241, 1.472599983215332, 1.472599983215332, 1.5777000188827515, 1.1956000328063965, 1.3395999670028687, 1.507699966430664, 1.333899974822998, 1.6224000453948975, 1.2120000123977661, 1.2117999792099, 1.392199993133545, 0.9308000206947327, 1.1359000205993652, 1.2563999891281128, 1.1928999423980713, 1.1440999507904053, 1.1452000141143799, 1.1818000078201294, 2.1512999534606934, 2.1501998901367188, 2.1459999084472656, 2.1456000804901123, 2.1452999114990234, 2.14490008354187, 2.1440000534057617, 2.138000011444092, 2.136399984359741, 2.1328001022338867, 2.1317999362945557, 2.13100004196167, 2.128999948501587, 2.1257998943328857, 2.125499963760376, 2.125200033187866, 2.124799966812134, 2.1238999366760254, 2.123199939727783, 2.120699882507324, 2.117799997329712, 2.117000102996826, 2.11680006980896, 2.115299940109253, 2.1136999130249023, 2.1131999492645264, 2.1126999855041504, 2.1112000942230225, 2.1080000400543213, 2.1077001094818115, 2.1036999225616455, 2.095099925994873, 2.032399892807007, 2.0583999156951904, 1.9990999698638916, 2.0373001098632812, 1.9878000020980835, 2.0037999153137207, 1.986299991607666, 1.9767999649047852, 1.9663000106811523, 1.9866000413894653, 1.9766000509262085, 2.035799980163574, 1.815999984741211, 2.0820000171661377, 1.8762999773025513, 1.899399995803833, 1.7257000207901, 1.8609999418258667, 1.5973999500274658, 1.766700029373169, 1.5456000566482544, 1.50409996509552, 1.6611000299453735, 1.7506999969482422, 1.518399953842163, 1.5930999517440796, 1.6962000131607056, 1.1766999959945679, 1.287600040435791, 1.3827999830245972, 1.3991999626159668, 1.1877000331878662, 2.9363999366760254, 2.9356000423431396, 2.932800054550171, 2.9314000606536865, 2.928999900817871, 2.927500009536743, 2.927299976348877, 2.9186999797821045, 2.9156999588012695, 2.9149999618530273, 2.9123001098632812, 2.9110000133514404, 2.9098000526428223, 2.9077000617980957, 2.9001998901367188, 2.900099992752075, 2.8968000411987305, 2.8958001136779785, 2.895699977874756, 2.891900062561035, 2.889699935913086, 2.888700008392334, 2.8875999450683594, 2.8875999450683594, 2.887200117111206, 2.8864998817443848, 2.8845999240875244, 2.8824000358581543, 2.8812999725341797, 2.880000114440918, 2.875200033187866, 2.870800018310547, 2.864799976348877, 2.814199924468994, 2.833699941635132, 2.8153998851776123, 2.8508999347686768, 2.6840999126434326, 2.719599962234497, 2.6744000911712646, 2.6558001041412354, 2.5720999240875244, 2.4117000102996826, 2.548799991607666, 2.63700008392334, 2.327699899673462, 2.3877999782562256, 2.6113998889923096, 2.4881999492645264, 2.651599884033203, 2.6749000549316406, 2.439199924468994, 2.607100009918213, 2.118799924850464, 2.4739999771118164, 2.3461999893188477, 1.8365999460220337, 1.7085000276565552, 1.792199969291687, 1.5571000576019287, 2.1572000980377197, 1.3818000555038452, 1.5221999883651733, 1.3694000244140625, 2.91729998588562, 2.915299892425537, 2.907900094985962, 2.899600028991699, 2.894700050354004, 2.882200002670288, 2.8808999061584473, 2.8756000995635986, 2.873199939727783, 2.863100051879883, 2.8536999225616455, 2.85260009765625, 2.8524999618530273, 2.8515000343322754, 2.84660005569458, 2.8443000316619873, 2.8441998958587646, 2.8433001041412354, 2.837599992752075, 2.836400032043457, 2.8345999717712402, 2.822200059890747, 2.821199893951416, 2.8210999965667725, 2.8201000690460205, 2.8194000720977783, 2.8118999004364014, 2.8113999366760254, 2.811199903488159, 2.809499979019165, 2.792799949645996, 2.8022000789642334, 2.805799961090088, 2.7676000595092773, 2.8034000396728516, 2.775399923324585, 2.7725000381469727, 2.7351999282836914, 2.749000072479248, 2.7843000888824463, 2.6731998920440674, 2.7297000885009766, 2.5002999305725098, 2.564199924468994, 2.43530011177063, 2.6296000480651855, 2.550299882888794, 2.386699914932251, 2.4061999320983887, 2.1821000576019287, 2.1761999130249023, 2.1205999851226807, 2.3020999431610107, 2.0469000339508057, 2.5822999477386475, 2.0476999282836914, 2.089900016784668, 2.097899913787842, 2.5543999671936035, 1.8207999467849731, 1.9837000370025635, 2.214200019836426, 1.940000057220459, 1.8690999746322632, 1.9345999956130981, 1.739799976348877, 1.896399974822998, 1.44760000705719, 1.874500036239624, 2.0283000469207764, 1.8831000328063965, 1.0561000108718872, 1.0938999652862549, 1.3015999794006348, 1.350000023841858, 1.1994999647140503, 1.4981000423431396, 1.2825000286102295, 1.0642999410629272, 1.1821000576019287, 2.41729998588562, 2.4117000102996826, 2.4005000591278076, 2.397200107574463, 2.39490008354187, 2.388200044631958, 2.3864998817443848, 2.384700059890747, 2.3838999271392822, 2.3743999004364014, 2.3712000846862793, 2.3691999912261963, 2.3691000938415527, 2.368499994277954, 2.3629000186920166, 2.362499952316284, 2.3613998889923096, 2.3592000007629395, 2.359100103378296, 2.358299970626831, 2.3580000400543213, 2.3557000160217285, 2.3519999980926514, 2.351300001144409, 2.3494999408721924, 2.349100112915039, 2.348900079727173, 2.3469998836517334, 2.3461999893188477, 2.3440001010894775, 2.339600086212158, 2.2994000911712646, 2.239300012588501, 2.265500068664551, 2.2009999752044678, 2.2314999103546143, 2.1810998916625977, 2.213200092315674, 2.268899917602539, 2.2978999614715576, 2.2053000926971436, 2.098599910736084, 1.9378000497817993, 2.11680006980896, 2.205199956893921, 2.2177999019622803, 1.8914999961853027, 1.7668999433517456, 1.9407000541687012, 1.9407999515533447, 1.980299949645996, 1.9424999952316284, 1.5302000045776367, 1.965499997138977, 1.5468000173568726, 1.6576000452041626, 1.680299997329712, 1.6878999471664429, 1.5801000595092773, 1.5194000005722046, 1.5204999446868896, 1.7447999715805054, 1.4443000555038452, 1.476699948310852, 0.8707000017166138, 1.1319999694824219, 1.1919000148773193, 1.3042999505996704, 1.0779999494552612, 1.358199954032898, 0.9480999708175659, 0.8270000219345093, 1.3375999927520752, 2.9583001136779785, 2.9453999996185303, 2.941200017929077, 2.9388999938964844, 2.9305999279022217, 2.9298999309539795, 2.929800033569336, 2.9275999069213867, 2.927500009536743, 2.927000045776367, 2.91729998588562, 2.9172000885009766, 2.915800094604492, 2.913800001144409, 2.912600040435791, 2.905600070953369, 2.9052000045776367, 2.9003000259399414, 2.8993000984191895, 2.8987998962402344, 2.898099899291992, 2.8896000385284424, 2.8863000869750977, 2.884999990463257, 2.8821001052856445, 2.88100004196167, 2.8808000087738037, 2.879199981689453, 2.871500015258789, 2.869999885559082, 2.8635001182556152, 2.8540000915527344, 2.8431999683380127, 2.779900074005127, 2.7827000617980957, 2.8036000728607178, 2.7941999435424805, 2.8011999130249023, 2.7809998989105225, 2.8018999099731445, 2.704200029373169, 2.586199998855591, 2.633500099182129, 2.696199893951416, 2.569999933242798, 2.805500030517578, 2.342400074005127, 2.2809998989105225, 2.4702000617980957, 2.297499895095825, 2.741499900817871, 2.122299909591675, 2.1440000534057617, 1.9514000415802002, 2.4642999172210693, 1.8401000499725342, 2.203900098800659, 1.8667000532150269, 2.261399984359741, 1.6999000310897827, 2.065999984741211, 2.204200029373169, 1.0813000202178955, 1.892300009727478, 2.659600019454956, 2.65120005607605, 2.649399995803833, 2.649199962615967, 2.6454999446868896, 2.6435999870300293, 2.642699956893921, 2.641200065612793, 2.6386001110076904, 2.637399911880493, 2.6364998817443848, 2.634999990463257, 2.6342999935150146, 2.6322999000549316, 2.631700038909912, 2.6266000270843506, 2.621500015258789, 2.620300054550171, 2.6184000968933105, 2.608799934387207, 2.6082000732421875, 2.6068999767303467, 2.6061999797821045, 2.605600118637085, 2.604099988937378, 2.603800058364868, 2.6026999950408936, 2.6017000675201416, 2.6012001037597656, 2.600800037384033, 2.5810000896453857, 2.591399908065796, 2.5601000785827637, 2.5899999141693115, 2.5666000843048096, 2.529099941253662, 2.5318000316619873, 2.5617001056671143, 2.5608999729156494, 2.552299976348877, 2.4862000942230225, 2.5078001022338867, 2.4716999530792236, 2.2012999057769775, 2.3642001152038574, 2.43179988861084, 2.2214999198913574, 2.2725000381469727, 2.305500030517578, 2.4867000579833984, 2.4451000690460205, 1.996999979019165, 2.163100004196167, 1.9488999843597412, 1.884600043296814, 2.1847000122070312, 1.646399974822998, 1.8006999492645264, 1.7663999795913696, 1.6825000047683716, 1.7942999601364136, 1.3920999765396118, 1.330299973487854, 1.7640000581741333, 1.3464000225067139, 1.2204999923706055, 1.336400032043457, 1.0326999425888062, 1.1237000226974487, 0.7426000237464905, 1.282099962234497, 1.0923999547958374, 1.1259000301361084, 2.8011999130249023, 2.7899999618530273, 2.7887001037597656, 2.786600112915039, 2.7829999923706055, 2.781899929046631, 2.7811999320983887, 2.7809998989105225, 2.777100086212158, 2.7750000953674316, 2.7748000621795654, 2.7737998962402344, 2.7718000411987305, 2.77020001411438, 2.7697999477386475, 2.7695000171661377, 2.769399881362915, 2.769399881362915, 2.7678000926971436, 2.7671000957489014, 2.766900062561035, 2.766400098800659, 2.765500068664551, 2.756700038909912, 2.7560999393463135, 2.7497000694274902, 2.748199939727783, 2.747999906539917, 2.744800090789795, 2.7437000274658203, 2.7327001094818115, 2.7283999919891357, 2.7370998859405518, 2.7098000049591064, 2.7374000549316406, 2.734499931335449, 2.5947999954223633, 2.5597000122070312, 2.609800100326538, 2.707900047302246, 2.6937999725341797, 2.5048000812530518, 2.443000078201294, 2.5244998931884766, 2.4010000228881836, 2.575900077819824, 2.2065000534057617, 2.437700033187866, 2.3893001079559326, 2.180299997329712, 2.3529000282287598, 2.2562999725341797, 2.205699920654297, 1.8280999660491943, 1.6823999881744385, 1.916100025177002, 1.9362000226974487, 1.7977999448776245, 1.0490000247955322, 1.2511999607086182, 1.8863999843597412, 1.0399999618530273, 3.2943999767303467, 3.2827999591827393, 3.2723000049591064, 3.2683000564575195, 3.257699966430664, 3.2513999938964844, 3.2497000694274902, 3.246299982070923, 3.2437000274658203, 3.2418999671936035, 3.235599994659424, 3.2065000534057617, 3.2063000202178955, 3.1937999725341797, 3.1902999877929688, 3.1895999908447266, 3.1874001026153564, 3.1851999759674072, 3.184999942779541, 3.1830999851226807, 3.1714000701904297, 3.169100046157837, 3.151400089263916, 3.1510000228881836, 3.149399995803833, 3.1487998962402344, 3.1475000381469727, 3.1452999114990234, 3.124300003051758, 3.1201999187469482, 3.118499994277954, 3.103300094604492, 3.0724000930786133, 3.0583999156951904, 2.9539999961853027, 2.8252999782562256, 2.9554998874664307, 2.997299909591675, 2.926500082015991, 2.874500036239624, 2.9330999851226807, 2.674499988555908, 2.968899965286255, 2.588599920272827, 2.795300006866455, 2.7262001037597656, 2.906399965286255, 2.865499973297119, 2.558799982070923, 2.351300001144409, 1.9431999921798706, 1.8967000246047974, 2.05649995803833, 2.0348000526428223, 2.1131999492645264, 2.0387001037597656, 2.1421000957489014, 2.117799997329712, 1.524899959564209, 2.105299949645996, 2.2032999992370605, 2.1224000453948975, 1.5920000076293945, 1.9392999410629272, 1.6030999422073364, 1.6323000192642212, 1.0607999563217163, 1.3329999446868896, 1.156499981880188, 1.1446000337600708, 3.305299997329712, 3.297499895095825, 3.288100004196167, 3.2850000858306885, 3.275099992752075, 3.265000104904175, 3.264699935913086, 3.2643001079559326, 3.2636001110076904, 3.254499912261963, 3.248699903488159, 3.2453999519348145, 3.2446000576019287, 3.2409000396728516, 3.239799976348877, 3.2314000129699707, 3.2260000705718994, 3.224299907684326, 3.2235000133514404, 3.22189998626709, 3.2197999954223633, 3.2190001010894775, 3.2188000679016113, 3.2184998989105225, 3.211199998855591, 3.2095000743865967, 3.205899953842163, 3.203900098800659, 3.2037999629974365, 3.203399896621704, 3.184999942779541, 3.201900005340576, 3.2032999992370605, 3.1805999279022217, 3.187299966812134, 3.1212000846862793, 3.1521999835968018, 3.025700092315674, 3.1059000492095947, 3.1861000061035156, 3.0632998943328857, 3.09879994392395, 3.1398000717163086, 2.808799982070923, 3.109499931335449, 2.544800043106079, 2.7939000129699707, 3.019700050354004, 2.557800054550171, 2.791800022125244, 3.021399974822998, 2.234800100326538, 2.6510000228881836, 2.4504001140594482, 3.020900011062622, 2.932499885559082, 2.2130000591278076, 2.5645999908447266, 2.348299980163574, 2.832200050354004, 1.881100058555603, 2.050299882888794, 2.1198999881744385, 1.9889999628067017, 1.6482000350952148, 1.7167999744415283, 1.3702000379562378, 1.7127000093460083, 1.639299988746643, 1.7414000034332275, 1.0640000104904175, 1.0568000078201294, 1.0226999521255493, 2.327199935913086, 2.3234000205993652, 2.3189001083374023, 2.317699909210205, 2.317699909210205, 2.313999891281128, 2.312299966812134, 2.312000036239624, 2.311800003051758, 2.3111000061035156, 2.3073999881744385, 2.3064000606536865, 2.3062000274658203, 2.3043999671936035, 2.3018999099731445, 2.3017001152038574, 2.301500082015991, 2.3010001182556152, 2.3006999492645264, 2.299099922180176, 2.298799991607666, 2.2985000610351562, 2.295599937438965, 2.2934000492095947, 2.2929999828338623, 2.2925000190734863, 2.288100004196167, 2.2876999378204346, 2.286600112915039, 2.2844998836517334, 2.2769999504089355, 2.2715001106262207, 2.2702999114990234, 2.272200107574463, 2.2492001056671143, 2.2511000633239746, 2.1958999633789062, 2.178499937057495, 2.1621999740600586, 2.2246999740600586, 2.222399950027466, 2.2421998977661133, 2.242000102996826, 2.2054998874664307, 2.1789000034332275, 1.9256999492645264, 1.913699984550476, 2.0309998989105225, 1.770799994468689, 2.026700019836426, 1.8766000270843506, 1.4851000308990479, 1.7906999588012695, 1.38919997215271, 1.128600001335144, 1.1868000030517578, 1.3904999494552612, 1.4230999946594238, 1.0606000423431396, 1.1912000179290771, 1.1613999605178833, 1.2000000476837158, 0.5085999965667725, 0.9750000238418579, 0.866599977016449, 2.6596999168395996, 2.6572000980377197, 2.6561999320983887, 2.651599884033203, 2.6410000324249268, 2.639699935913086, 2.6333999633789062, 2.6333000659942627, 2.627700090408325, 2.624500036239624, 2.6205999851226807, 2.617300033569336, 2.6161999702453613, 2.6161000728607178, 2.615000009536743, 2.612600088119507, 2.6078999042510986, 2.6073999404907227, 2.6054999828338623, 2.6045000553131104, 2.6001999378204346, 2.5998001098632812, 2.5971999168395996, 2.5969998836517334, 2.59660005569458, 2.595400094985962, 2.5945000648498535, 2.591900110244751, 2.5917999744415283, 2.588599920272827, 2.5629000663757324, 2.566200017929077, 2.575000047683716, 2.577199935913086, 2.5766000747680664, 2.563800096511841, 2.5606000423431396, 2.5715999603271484, 2.5708000659942627, 2.5827999114990234, 2.4737000465393066, 2.4056999683380127, 2.477299928665161, 2.39739990234375, 2.4400999546051025, 2.2418999671936035, 2.2520999908447266, 2.1867001056671143, 2.313999891281128, 1.892699956893921, 2.1214001178741455, 2.289299964904785, 2.0840001106262207, 2.0864999294281006, 2.0018999576568604, 2.166300058364868, 1.2975000143051147, 1.756100058555603, 1.8154000043869019, 1.777999997138977, 1.9544999599456787, 1.5227999687194824, 2.06469988822937, 1.5925999879837036, 1.4886000156402588, 1.5408999919891357, 1.7396999597549438, 0.9555000066757202, 0.9359999895095825, 0.9753000140190125, 1.5020999908447266, 0.9240000247955322, 0.5950999855995178, 1.2656999826431274, 3.2014000415802, 3.181999921798706, 3.18149995803833, 3.1809000968933105, 3.1758999824523926, 3.175600051879883, 3.1728999614715576, 3.1728999614715576, 3.160399913787842, 3.1593000888824463, 3.156100034713745, 3.144200086593628, 3.1405999660491943, 3.137700080871582, 3.1361000537872314, 3.1273999214172363, 3.127000093460083, 3.127000093460083, 3.1266000270843506, 3.126499891281128, 3.1259000301361084, 3.1257998943328857, 3.125499963760376, 3.1254000663757324, 3.115600109100342, 3.1133999824523926, 3.1113998889923096, 3.1110999584198, 3.11080002784729, 3.102400064468384, 3.0938000679016113, 3.094099998474121, 3.09879994392395, 3.0938000679016113, 3.0782999992370605, 3.066800117492676, 3.028700113296509, 2.9874000549316406, 3.0768001079559326, 3.013700008392334, 2.9693000316619873, 2.8966000080108643, 2.9238998889923096, 2.8376998901367188, 2.7959001064300537, 3.050299882888794, 2.782099962234497, 2.935800075531006, 2.8954999446868896, 2.8382999897003174, 2.8120999336242676, 2.648699998855591, 2.7049999237060547, 2.5078001022338867, 2.562299966812134, 2.5690999031066895, 2.5464999675750732, 2.4072000980377197, 2.6001999378204346, 2.4230000972747803, 2.310800075531006, 2.800299882888794, 1.8573999404907227, 2.094099998474121, 2.0483999252319336, 1.7773000001907349, 2.3887999057769775, 1.2178000211715698, 1.621399998664856, 1.5256999731063843, 1.7581000328063965, 1.7688000202178955, 1.7652000188827515, 2.071199893951416, 1.5313999652862549, 2.50219988822937, 2.4928998947143555, 2.489000082015991, 2.4876999855041504, 2.4820001125335693, 2.4804000854492188, 2.4790000915527344, 2.475100040435791, 2.4739999771118164, 2.464600086212158, 2.463399887084961, 2.4595999717712402, 2.4532999992370605, 2.446199893951416, 2.44320011138916, 2.4375998973846436, 2.4375998973846436, 2.43179988861084, 2.4277000427246094, 2.425100088119507, 2.41729998588562, 2.4170000553131104, 2.414299964904785, 2.4138998985290527, 2.412899971008301, 2.4126999378204346, 2.4065001010894775, 2.402899980545044, 2.4028000831604004, 2.402600049972534, 2.4012999534606934, 2.305000066757202, 2.339600086212158, 2.3408000469207764, 2.3545000553131104, 2.3694000244140625, 2.3269999027252197, 2.109299898147583, 2.321000099182129, 2.3605000972747803, 2.285399913787842, 2.031399965286255, 2.072700023651123, 2.2153000831604004, 1.948699951171875, 2.1249001026153564, 1.8626999855041504, 1.7065999507904053, 1.8955999612808228, 1.6756000518798828, 1.8976000547409058, 1.7419999837875366, 2.1391000747680664, 1.7838000059127808, 1.5403000116348267, 1.5241999626159668, 2.0374999046325684, 1.493399977684021, 1.3827999830245972, 1.652999997138977, 1.583899974822998, 1.3651000261306763, 1.4164999723434448, 1.5360000133514404, 1.557800054550171, 1.469099998474121, 1.5670000314712524, 1.2072999477386475, 1.0541000366210938, 0.9416000247001648, 0.7652000188827515, 1.3981000185012817, 1.166700005531311, 1.0649000406265259, 1.141700029373169, 0.9853000044822693, 2.919800043106079, 2.919800043106079, 2.904400110244751, 2.9035000801086426, 2.8986001014709473, 2.895400047302246, 2.894399881362915, 2.8940000534057617, 2.8935999870300293, 2.888700008392334, 2.8754000663757324, 2.8750998973846436, 2.8740999698638916, 2.872499942779541, 2.8715999126434326, 2.870300054550171, 2.867000102996826, 2.866499900817871, 2.8650999069213867, 2.8631999492645264, 2.8608999252319336, 2.858599901199341, 2.858299970626831, 2.8550000190734863, 2.8526999950408936, 2.851599931716919, 2.8503000736236572, 2.8496999740600586, 2.848099946975708, 2.847899913787842, 2.8477001190185547, 2.843899965286255, 2.812299966812134, 2.7952001094818115, 2.7239999771118164, 2.7627999782562256, 2.646399974822998, 2.6328001022338867, 2.770400047302246, 2.484299898147583, 2.5606000423431396, 2.7251999378204346, 2.598400115966797, 2.4149999618530273, 2.2523000240325928, 2.4184000492095947, 2.4247000217437744, 2.4902000427246094, 2.033900022506714, 2.0136001110076904, 2.228100061416626, 1.6821999549865723, 2.1029000282287598, 2.272900104522705, 2.1256000995635986, 1.5961999893188477, 2.0673000812530518, 1.7559000253677368, 1.7730000019073486, 1.30239999294281, 1.6287000179290771, 1.7597999572753906, 1.4536999464035034, 1.222599983215332, 1.017199993133545, 1.315500020980835, 1.2646000385284424, 1.1683000326156616, 1.0163999795913696], \"logprob\": [30.0, 29.0, 28.0, 27.0, 26.0, 25.0, 24.0, 23.0, 22.0, 21.0, 20.0, 19.0, 18.0, 17.0, 16.0, 15.0, 14.0, 13.0, 12.0, 11.0, 10.0, 9.0, 8.0, 7.0, 6.0, 5.0, 4.0, 3.0, 2.0, 1.0, -7.337100028991699, -7.16510009765625, -7.442399978637695, -7.717599868774414, -6.6031999588012695, -7.8755998611450195, -7.920100212097168, -7.316699981689453, -7.365600109100342, -8.159000396728516, -8.161199569702148, -5.753499984741211, -8.275199890136719, -8.338600158691406, -7.486199855804443, -8.56309986114502, -8.244000434875488, -8.491900444030762, -7.49459981918335, -8.646499633789062, -8.646900177001953, -8.646499633789062, -8.64680004119873, -8.64799976348877, -6.899099826812744, -7.877799987792969, -8.497699737548828, -8.654500007629395, -8.309300422668457, -8.148200035095215, -5.8703999519348145, -7.296800136566162, -7.3471999168396, -7.888400077819824, -7.749800205230713, -7.756800174713135, -6.981100082397461, -7.409200191497803, -7.180200099945068, -6.474400043487549, -6.52239990234375, -7.19980001449585, -4.927999973297119, -6.976900100708008, -6.660600185394287, -7.014599800109863, -5.065100193023682, -7.388899803161621, -5.678899765014648, -7.043499946594238, -5.423399925231934, -7.2256999015808105, -5.595399856567383, -5.552199840545654, -5.894800186157227, -6.483099937438965, -5.954599857330322, -6.151599884033203, -6.151800155639648, -5.417600154876709, -5.735899925231934, -5.8531999588012695, -6.184100151062012, -6.221099853515625, -5.715000152587891, -5.750699996948242, -5.964700222015381, -5.300099849700928, -5.563600063323975, -5.8684000968933105, -5.7052998542785645, -6.151400089263916, -5.6331000328063965, -5.6545000076293945, -5.89870023727417, -5.464399814605713, -5.673999786376953, -5.783400058746338, -5.788000106811523, -5.8429999351501465, -5.874300003051758, -5.923500061035156, -6.384099960327148, -5.315999984741211, -7.274600028991699, -6.611000061035156, -6.90880012512207, -5.338099956512451, -7.276700019836426, -7.544899940490723, -7.323500156402588, -7.2881999015808105, -6.504000186920166, -7.603400230407715, -7.841899871826172, -6.115900039672852, -5.195899963378906, -7.296000003814697, -7.915200233459473, -7.915999889373779, -8.11340045928955, -7.6682000160217285, -6.963699817657471, -7.997499942779541, -7.888400077819824, -6.174799919128418, -6.027699947357178, -7.793399810791016, -6.48859977722168, -7.965000152587891, -6.5644001960754395, -6.59119987487793, -5.149899959564209, -6.417699813842773, -4.935999870300293, -5.8755998611450195, -4.617800235748291, -5.569900035858154, -4.385200023651123, -4.928699970245361, -4.70419979095459, -4.744500160217285, -5.0441999435424805, -5.326399803161621, -5.675600051879883, -6.332499980926514, -4.817200183868408, -6.78000020980835, -5.30810022354126, -5.475599765777588, -5.02209997177124, -5.613800048828125, -4.866000175476074, -5.601900100708008, -5.018199920654297, -5.100800037384033, -5.512899875640869, -5.712399959564209, -5.33050012588501, -5.52810001373291, -5.65910005569458, -5.249300003051758, -5.467400074005127, -5.577700138092041, -5.590000152587891, -5.658599853515625, -5.704899787902832, -5.560200214385986, -5.617000102996826, -5.977399826049805, -6.087699890136719, -6.347799777984619, -5.517099857330322, -6.778500080108643, -6.8867998123168945, -6.887499809265137, -6.977200031280518, -7.041100025177002, -6.812900066375732, -7.182499885559082, -7.350200176239014, -7.394800186157227, -7.230899810791016, -7.4456000328063965, -7.494699954986572, -7.549499988555908, -7.551799774169922, -6.859099864959717, -7.60890007019043, -6.2652997970581055, -7.131100177764893, -6.73859977722168, -7.668600082397461, -7.670400142669678, -7.733099937438965, -7.673299789428711, -6.383500099182129, -6.355400085449219, -6.286300182342529, -4.110599994659424, -5.624499797821045, -5.398200035095215, -6.750699996948242, -3.8608999252319336, -4.707300186157227, -4.913700103759766, -4.964099884033203, -5.3302001953125, -4.498000144958496, -5.365900039672852, -5.803599834442139, -4.5432000160217285, -4.821100234985352, -5.795100212097168, -5.502900123596191, -6.0543999671936035, -6.1392998695373535, -5.580999851226807, -6.038099765777588, -5.319499969482422, -5.8506999015808105, -5.688899993896484, -5.278800010681152, -5.385000228881836, -5.616300106048584, -5.507199764251709, -5.837100028991699, -5.757599830627441, -5.794300079345703, -5.834799766540527, -6.017499923706055, -5.518199920654297, -6.368299961090088, -6.928199768066406, -6.04040002822876, -7.253300189971924, -7.585000038146973, -7.646299839019775, -6.8180999755859375, -7.314899921417236, -8.02560043334961, -7.730000019073486, -7.794600009918213, -7.797500133514404, -8.028400421142578, -7.0777997970581055, -8.113499641418457, -5.839200019836426, -7.382800102233887, -7.382999897003174, -6.835100173950195, -8.336799621582031, -8.340299606323242, -8.340499877929688, -8.340399742126465, -7.647900104522705, -8.466500282287598, -8.465999603271484, -8.469400405883789, -8.468600273132324, -6.314899921417236, -7.664400100708008, -8.152999877929688, -6.782199859619141, -8.070699691772461, -7.250699996948242, -7.216100215911865, -6.542699813842773, -6.894899845123291, -7.581699848175049, -6.134699821472168, -6.993299961090088, -5.485000133514404, -6.0680999755859375, -5.32390022277832, -6.684199810028076, -6.320899963378906, -5.674300193786621, -5.868599891662598, -5.183700084686279, -5.223400115966797, -5.129799842834473, -5.777400016784668, -5.121200084686279, -6.649199962615967, -5.15880012512207, -5.468699932098389, -5.514100074768066, -6.583700180053711, -5.252399921417236, -5.662899971008301, -6.031199932098389, -5.648900032043457, -5.576000213623047, -5.679200172424316, -5.547399997711182, -5.731200218200684, -5.265999794006348, -5.725100040435791, -5.889800071716309, -5.792600154876709, -5.249100208282471, -5.331500053405762, -5.506499767303467, -5.592400074005127, -5.57919979095459, -5.687600135803223, -5.710400104522705, -5.685999870300293, -5.786900043487549, -6.274400234222412, -6.69950008392334, -7.212399959564209, -7.3933000564575195, -7.513299942016602, -6.464200019836426, -7.768700122833252, -7.770599842071533, -7.81220006942749, -8.004199981689453, -6.797599792480469, -7.870200157165527, -7.914700031280518, -6.979700088500977, -6.950699806213379, -7.54640007019043, -8.305800437927246, -7.79640007019043, -7.006700038909912, -7.9253997802734375, -7.720300197601318, -6.105800151824951, -8.249699592590332, -6.691999912261963, -8.460100173950195, -8.460399627685547, -5.410900115966797, -7.732100009918213, -7.531499862670898, -8.546600341796875, -7.857100009918213, -6.63100004196167, -4.7982001304626465, -5.966000080108643, -5.3302001953125, -5.936299800872803, -5.432199954986572, -6.422800064086914, -6.9456000328063965, -7.268700122833252, -6.701200008392334, -5.997700214385986, -4.965400218963623, -6.14709997177124, -6.760300159454346, -6.8917999267578125, -5.332699775695801, -5.05649995803833, -5.854300022125244, -5.959700107574463, -6.098299980163574, -6.149099826812744, -5.248600006103516, -6.329500198364258, -5.633699893951416, -5.8394999504089355, -5.902900218963623, -5.926000118255615, -5.796500205993652, -5.855899810791016, -5.860000133514404, -6.112100124359131, -5.887899875640869, -5.959499835968018, -5.524600028991699, -5.772200107574463, -5.852700233459473, -5.9191999435424805, -5.890999794006348, -5.97760009765625, -5.898499965667725, -5.92080020904541, -5.990600109100342, -5.5690999031066895, -6.627099990844727, -5.502200126647949, -4.279399871826172, -6.597099781036377, -7.059500217437744, -7.168499946594238, -5.641499996185303, -7.06220006942749, -7.133699893951416, -7.303999900817871, -7.44379997253418, -7.396500110626221, -7.553500175476074, -5.01039981842041, -7.678999900817871, -5.441500186920166, -7.057300090789795, -7.367000102996826, -7.059199810028076, -5.9730000495910645, -6.730500221252441, -7.213900089263916, -7.700399875640869, -6.714000225067139, -7.991700172424316, -7.770400047302246, -8.080499649047852, -4.627600193023682, -8.186100006103516, -6.830599784851074, -6.482399940490723, -6.1585001945495605, -4.415999889373779, -4.627900123596191, -5.226799964904785, -5.285999774932861, -5.501200199127197, -5.131499767303467, -5.630899906158447, -5.3078999519348145, -4.419000148773193, -5.012400150299072, -5.502799987792969, -5.10860013961792, -6.491700172424316, -4.075200080871582, -4.288899898529053, -5.130099773406982, -4.673900127410889, -6.261300086975098, -4.632699966430664, -4.82289981842041, -4.51200008392334, -5.615200042724609, -4.465099811553955, -5.198599815368652, -4.883299827575684, -5.36929988861084, -5.056700229644775, -5.333099842071533, -5.429299831390381, -5.344799995422363, -5.453100204467773, -5.892399787902832, -6.7322998046875, -6.831200122833252, -4.993000030517578, -7.013299942016602, -6.056000232696533, -7.119500160217285, -6.970399856567383, -7.299799919128418, -7.334400177001953, -7.302000045776367, -7.271900177001953, -7.406199932098389, -7.339099884033203, -7.408699989318848, -6.402200222015381, -7.708499908447266, -7.708000183105469, -7.758999824523926, -7.991300106048584, -7.9918999671936035, -7.9934000968933105, -7.995200157165527, -6.504300117492676, -8.061400413513184, -7.996600151062012, -7.244699954986572, -8.062999725341797, -8.064399719238281, -8.133199691772461, -4.502500057220459, -6.811800003051758, -5.205900192260742, -7.226399898529053, -6.487100124359131, -5.689899921417236, -5.8429999351501465, -6.684199810028076, -6.717599868774414, -6.558300018310547, -5.973400115966797, -6.259399890899658, -5.923999786376953, -4.224100112915039, -5.723999977111816, -6.222799777984619, -5.450900077819824, -5.715799808502197, -5.88040018081665, -6.711299896240234, -6.6234002113342285, -5.17110013961792, -5.770299911499023, -5.274700164794922, -5.231400012969971, -5.979899883270264, -5.103099822998047, -5.505300045013428, -5.509099960327148, -5.506499767303467, -5.812600135803223, -5.411300182342529, -5.453000068664551, -5.816400051116943, -5.521100044250488, -5.504300117492676, -5.593200206756592, -5.657800197601318, -5.684000015258789, -5.683499813079834, -5.80649995803833, -5.8053998947143555, -5.863399982452393, -4.024799823760986, -5.241700172424316, -5.416600227355957, -5.717899799346924, -5.668700218200684, -6.732800006866455, -6.732999801635742, -6.440299987792969, -7.061200141906738, -5.205100059509277, -6.480000019073486, -6.184199810028076, -7.415500164031982, -7.298699855804443, -7.377200126647949, -6.984099864959717, -7.417200088500977, -7.228000164031982, -7.301300048828125, -6.836400032043457, -6.075900077819824, -7.379899978637695, -7.554800033569336, -7.7179999351501465, -6.895400047302246, -7.571599960327148, -7.3983001708984375, -7.844399929046631, -7.912399768829346, -7.788300037384033, -5.46750020980835, -5.612400054931641, -6.501100063323975, -4.502500057220459, -6.548999786376953, -6.587699890136719, -5.187300205230713, -4.749499797821045, -5.586299896240234, -6.874000072479248, -6.78000020980835, -5.478099822998047, -5.110099792480469, -5.672800064086914, -5.271299839019775, -6.269499778747559, -5.0756001472473145, -6.03439998626709, -5.914000034332275, -5.412799835205078, -5.840099811553955, -5.637199878692627, -5.637899875640869, -5.050300121307373, -4.887499809265137, -5.673600196838379, -5.756899833679199, -5.667399883270264, -5.368599891662598, -5.498799800872803, -5.784200191497803, -5.792300224304199, -1.8034000396728516, -5.184599876403809, -4.80210018157959, -6.0100998878479, -4.237100124359131, -6.943999767303467, -6.3856000900268555, -7.082200050354004, -6.217100143432617, -7.241000175476074, -7.304500102996826, -7.682199954986572, -7.768899917602539, -7.8769001960754395, -7.88070011138916, -7.6996002197265625, -2.952699899673462, -6.892300128936768, -7.991099834442139, -7.993000030517578, -7.367800235748291, -8.127900123596191, -8.276000022888184, -8.280500411987305, -8.286199569702148, -8.294400215148926, -8.282099723815918, -8.285799980163574, -8.462499618530273, -8.464900016784668, -7.164700031280518, -7.2266998291015625, -6.589000225067139, -6.4868998527526855, -5.543300151824951, -4.155600070953369, -6.023399829864502, -6.711400032043457, -6.049900054931641, -5.668000221252441, -6.2820000648498535, -4.6031999588012695, -6.5945000648498535, -4.451300144195557, -5.726099967956543, -5.541999816894531, -6.44320011138916, -6.355000019073486, -5.625100135803223, -5.254799842834473, -4.8815999031066895, -4.859899997711182, -5.142499923706055, -5.1545000076293945, -5.295300006866455, -5.326000213623047, -5.6407999992370605, -5.684700012207031, -5.284999847412109, -5.747700214385986, -5.9197998046875, -5.963600158691406, -5.784200191497803, -5.90880012512207, -5.861999988555908, -5.870200157165527, -5.8053998947143555, -5.891300201416016, -5.896599769592285, -5.896500110626221, -5.835899829864502, -6.354400157928467, -6.769100189208984, -6.772299766540527, -5.151299953460693, -7.291100025177002, -7.128799915313721, -7.291900157928467, -7.292399883270264, -7.244200229644775, -7.367499828338623, -7.504899978637695, -7.506400108337402, -7.66349983215332, -7.664700031280518, -7.759500026702881, -7.764999866485596, -7.679200172424316, -7.600900173187256, -7.076700210571289, -7.866700172424316, -7.867499828338623, -5.544400215148926, -7.869200229644775, -7.407700061798096, -7.983399868011475, -7.987199783325195, -7.54580020904541, -7.993599891662598, -7.54640007019043, -5.493800163269043, -7.360599994659424, -7.54640007019043, -6.68120002746582, -6.90369987487793, -5.90880012512207, -6.52239990234375, -4.162099838256836, -5.7596001625061035, -7.257999897003174, -5.891300201416016, -6.704400062561035, -7.028500080108643, -5.073599815368652, -7.019000053405762, -4.713799953460693, -5.799799919128418, -6.6528000831604, -5.002500057220459, -5.853499889373779, -6.67710018157959, -4.261000156402588, -5.594600200653076, -5.261000156402588, -6.676599979400635, -6.463399887084961, -4.959400177001953, -5.792300224304199, -5.553699970245361, -6.378399848937988, -4.996500015258789, -5.527100086212158, -5.654200077056885, -5.513500213623047, -5.17579984664917, -5.338799953460693, -5.404699802398682, -5.737599849700928, -5.8470001220703125, -5.96019983291626, -5.808599948883057, -5.821499824523926, -5.8856000900268555, -6.369999885559082, -6.573599815368652, -7.043600082397461, -6.418700218200684, -7.121799945831299, -6.6554999351501465, -7.255099773406982, -6.6209001541137695, -7.27869987487793, -5.547100067138672, -6.176799774169922, -7.461900234222412, -5.084499835968018, -7.521100044250488, -6.643499851226807, -7.650100231170654, -7.792500019073486, -6.707300186157227, -6.446100234985352, -7.2027997970581055, -7.795199871063232, -7.795499801635742, -7.878600120544434, -6.198400020599365, -7.968299865722656, -5.906300067901611, -5.982800006866455, -7.5680999755859375, -8.176199913024902, -6.2555999755859375, -5.0258002281188965, -6.1315999031066895, -6.5391998291015625, -6.638000011444092, -5.810999870300293, -5.898799896240234, -4.799099922180176, -4.870800018310547, -5.012700080871582, -6.01669979095459, -6.037199974060059, -6.419099807739258, -6.428699970245361, -6.079599857330322, -6.221499919891357, -4.924600124359131, -5.141900062561035, -5.702199935913086, -5.053199768066406, -5.91349983215332, -5.789700031280518, -5.259500026702881, -5.888700008392334, -5.740799903869629, -5.681300163269043, -5.72160005569458, -5.8632001876831055, -5.89870023727417, -5.769199848175049, -5.848100185394287, -5.943999767303467, -5.961599826812744, -5.886600017547607, -5.944300174713135, -5.973999977111816, -5.989999771118164, -6.30109977722168, -6.255000114440918, -6.682499885559082, -7.02269983291626, -6.626699924468994, -7.44789981842041, -7.447999954223633, -7.491300106048584, -6.968400001525879, -6.537799835205078, -7.071000099182129, -7.870800018310547, -7.670000076293945, -7.67110013961792, -7.931399822235107, -7.9969000816345215, -7.081399917602539, -6.582399845123291, -8.065099716186523, -8.138099670410156, -8.138500213623047, -7.835400104522705, -8.141799926757812, -7.891600131988525, -7.892600059509277, -8.21780014038086, -6.112800121307373, -8.220600128173828, -8.303799629211426, -5.111000061035156, -5.686399936676025, -6.627399921417236, -6.8109002113342285, -6.929299831390381, -6.536499977111816, -6.525300025939941, -7.020999908447266, -7.02370023727417, -7.429800033569336, -4.999300003051758, -5.198200225830078, -6.2368998527526855, -5.388700008392334, -6.242700099945068, -4.784299850463867, -5.585899829864502, -5.269000053405762, -6.252900123596191, -4.947800159454346, -5.70989990234375, -6.219200134277344, -5.695499897003174, -5.8368000984191895, -5.70959997177124, -6.1072998046875, -5.097799777984619, -5.781899929046631, -5.884399890899658, -5.931000232696533, -6.115900039672852, -5.836599826812744, -6.203400135040283, -5.9045000076293945, -5.880799770355225, -5.934999942779541, -6.024899959564209, -5.819399833679199, -5.896299839019775, -5.943999767303467, -6.057700157165527, -5.9791998863220215, -6.0630998611450195, -6.098199844360352, -6.7778000831604, -7.309000015258789, -7.308800220489502, -7.308800220489502, -7.431399822235107, -7.31879997253418, -7.499599933624268, -7.071400165557861, -7.654600143432617, -7.129899978637695, -7.7393999099731445, -5.526100158691406, -7.85260009765625, -6.216899871826172, -7.955900192260742, -7.689799785614014, -8.055500030517578, -8.05620002746582, -8.05620002746582, -8.056099891662598, -8.059900283813477, -8.059100151062012, -8.058600425720215, -7.953000068664551, -7.700300216674805, -8.09469985961914, -8.190999984741211, -8.197999954223633, -8.192399978637695, -6.843299865722656, -6.674799919128418, -7.290299892425537, -7.57390022277832, -7.3429999351501465, -6.873300075531006, -6.911600112915039, -6.308899879455566, -5.737599849700928, -7.258399963378906, -6.313000202178955, -5.736999988555908, -5.039000034332275, -5.452099800109863, -4.619800090789795, -4.611999988555908, -7.110400199890137, -4.971700191497803, -6.192399978637695, -6.02839994430542, -5.681000232696533, -5.533599853515625, -4.8902997970581055, -5.616799831390381, -5.11269998550415, -5.380799770355225, -5.441400051116943, -5.567500114440918, -5.241199970245361, -5.905900001525879, -5.6855998039245605, -5.635700225830078, -6.46619987487793, -5.008800029754639, -5.481800079345703, -5.425899982452393, -5.4893999099731445, -6.061800003051758, -5.087399959564209, -5.4721999168396, -5.513599872589111, -5.650700092315674, -5.662799835205078, -5.687099933624268, -5.80709981918335, -5.75570011138916, -6.277100086212158, -6.989799976348877, -6.51609992980957, -7.1732001304626465, -7.426799774169922, -7.493000030517578, -6.3846001625061035, -7.605100154876709, -7.6427998542785645, -7.508600234985352, -7.775899887084961, -7.780200004577637, -5.037499904632568, -8.22249984741211, -8.293000221252441, -8.377099990844727, -8.165200233459473, -8.381999969482422, -7.186100006103516, -7.7316999435424805, -8.560099601745605, -8.476300239562988, -8.660799980163574, -8.663700103759766, -8.564599990844727, -8.659799575805664, -8.407699584960938, -8.775799751281738, -8.776300430297852, -8.672699928283691, -8.204000473022461, -4.800600051879883, -6.590700149536133, -6.905700206756592, -7.389500141143799, -7.916200160980225, -7.332300186157227, -4.6041998863220215, -7.389100074768066, -7.927499771118164, -7.305699825286865, -5.632299900054932, -5.909900188446045, -6.86959981918335, -5.236999988555908, -6.706099987030029, -5.439799785614014, -4.951700210571289, -5.774700164794922, -4.985199928283691, -5.991700172424316, -5.584000110626221, -6.840700149536133, -5.842400074005127, -5.587399959564209, -5.648200035095215, -6.717700004577637, -5.664299964904785, -5.463500022888184, -5.981299877166748, -5.861199855804443, -5.514500141143799, -5.636499881744385, -5.914299964904785, -5.949699878692627, -5.889900207519531, -6.021900177001953, -5.736100196838379, -5.595699787139893, -5.622200012207031, -5.660900115966797, -5.958499908447266, -5.908899784088135, -5.884099960327148, -5.925600051879883, -5.934000015258789, -5.581600189208984, -5.6184000968933105, -7.156599998474121, -7.230400085449219, -7.310500144958496, -6.1255998611450195, -7.315000057220459, -5.850599765777588, -7.442800045013428, -7.593999862670898, -7.843100070953369, -7.843400001525879, -7.719299793243408, -7.720699787139893, -7.463900089263916, -7.916800022125244, -7.934100151062012, -7.094200134277344, -7.9959001541137695, -7.998000144958496, -7.926300048828125, -7.5721001625061035, -8.08240032196045, -6.679299831390381, -7.394599914550781, -7.44320011138916, -7.317299842834473, -7.937900066375732, -8.179100036621094, -6.748000144958496, -8.013199806213379, -7.690400123596191, -6.568399906158447, -6.138800144195557, -4.6975998878479, -5.87060022354126, -5.119900226593018, -5.526199817657471, -7.098299980163574, -5.077099800109863, -5.765399932861328, -6.909999847412109, -6.253900051116943, -5.463399887084961, -4.861599922180176, -5.604100227355957, -5.764400005340576, -6.116199970245361, -5.03439998626709, -5.125800132751465, -5.7733001708984375, -4.6230998039245605, -5.584000110626221, -6.202700138092041, -5.968800067901611, -5.211900234222412, -5.938600063323975, -5.579899787902832, -5.685100078582764, -5.242599964141846, -5.5802001953125, -5.739200115203857, -5.658999919891357, -5.644899845123291, -5.587699890136719, -5.687699794769287, -5.723999977111816, -5.729499816894531, -5.732999801635742]}, \"token.table\": {\"Topic\": [3, 10, 6, 7, 13, 1, 2, 3, 5, 7, 8, 10, 11, 12, 14, 12, 2, 4, 5, 7, 12, 14, 6, 8, 10, 1, 2, 3, 4, 5, 6, 7, 8, 9, 11, 12, 13, 14, 15, 1, 3, 4, 5, 7, 8, 9, 10, 11, 12, 13, 14, 15, 9, 7, 9, 10, 12, 13, 6, 1, 2, 3, 4, 5, 6, 7, 8, 9, 10, 11, 12, 13, 14, 15, 1, 2, 3, 4, 5, 6, 7, 8, 9, 10, 11, 12, 13, 14, 15, 2, 3, 4, 6, 8, 15, 13, 1, 2, 4, 5, 9, 10, 12, 14, 15, 1, 2, 3, 4, 5, 8, 11, 12, 14, 15, 10, 1, 2, 3, 4, 5, 7, 8, 9, 11, 12, 13, 14, 15, 1, 2, 3, 4, 5, 7, 8, 9, 10, 11, 12, 13, 14, 15, 12, 4, 5, 8, 12, 14, 2, 3, 4, 6, 7, 8, 10, 11, 13, 14, 15, 4, 15, 2, 4, 7, 14, 1, 4, 5, 6, 7, 8, 9, 10, 11, 12, 13, 14, 15, 10, 6, 7, 8, 13, 15, 12, 12, 10, 11, 14, 1, 2, 5, 9, 10, 11, 12, 13, 14, 2, 13, 14, 2, 4, 7, 14, 15, 1, 2, 3, 5, 6, 7, 8, 9, 10, 11, 12, 13, 14, 12, 4, 5, 8, 9, 12, 2, 13, 11, 1, 2, 3, 4, 5, 6, 7, 8, 9, 10, 11, 12, 13, 14, 15, 1, 2, 3, 4, 5, 6, 7, 8, 9, 10, 11, 12, 13, 14, 15, 1, 3, 5, 13, 2, 15, 7, 1, 2, 3, 4, 5, 6, 8, 9, 10, 11, 12, 13, 14, 15, 1, 2, 3, 5, 6, 7, 8, 9, 10, 11, 12, 13, 14, 15, 1, 2, 3, 4, 5, 6, 8, 9, 11, 12, 13, 14, 15, 1, 5, 6, 11, 12, 1, 3, 4, 5, 8, 9, 12, 4, 10, 12, 9, 4, 7, 7, 7, 7, 10, 4, 2, 6, 1, 8, 10, 11, 14, 1, 8, 10, 11, 13, 14, 7, 10, 11, 12, 14, 1, 2, 4, 5, 6, 8, 9, 10, 11, 12, 13, 14, 15, 1, 2, 6, 7, 8, 12, 13, 14, 15, 1, 2, 3, 4, 5, 6, 7, 8, 9, 10, 11, 12, 13, 14, 15, 1, 2, 14, 1, 2, 4, 5, 6, 7, 8, 9, 10, 12, 13, 15, 14, 1, 2, 3, 4, 6, 7, 8, 9, 14, 15, 8, 12, 5, 1, 2, 3, 4, 5, 6, 7, 8, 9, 10, 11, 12, 13, 14, 15, 14, 7, 1, 5, 9, 12, 14, 3, 4, 5, 7, 8, 9, 12, 13, 14, 15, 1, 3, 4, 5, 8, 9, 10, 13, 14, 15, 11, 3, 4, 5, 6, 9, 11, 12, 13, 15, 3, 3, 4, 7, 9, 11, 12, 3, 5, 9, 2, 3, 4, 5, 6, 7, 8, 9, 13, 15, 3, 2, 5, 1, 3, 4, 5, 6, 7, 8, 9, 10, 11, 12, 13, 14, 15, 1, 2, 3, 4, 5, 6, 7, 8, 10, 11, 12, 13, 14, 15, 10, 11, 1, 5, 8, 10, 11, 12, 13, 14, 3, 6, 7, 14, 1, 11, 13, 1, 11, 12, 14, 3, 4, 7, 8, 13, 14, 7, 8, 1, 2, 3, 4, 5, 6, 8, 9, 10, 11, 12, 13, 14, 2, 6, 15, 13, 1, 2, 3, 4, 5, 6, 7, 8, 9, 10, 11, 12, 13, 14, 15, 6, 12, 13, 2, 3, 4, 5, 6, 7, 8, 9, 10, 11, 12, 14, 15, 2, 3, 4, 5, 6, 7, 8, 11, 12, 13, 14, 15, 1, 2, 3, 4, 5, 7, 8, 10, 11, 12, 13, 14, 15, 13, 1, 2, 3, 5, 6, 7, 9, 12, 15, 4, 1, 5, 1, 2, 3, 4, 5, 8, 9, 10, 11, 12, 13, 14, 15, 7, 8, 8, 10, 3, 7, 11, 4, 5, 6, 15, 9, 3, 2, 3, 5, 6, 7, 8, 12, 13, 14, 1, 2, 3, 4, 5, 6, 7, 8, 9, 10, 11, 12, 13, 14, 15, 14, 5, 9, 2, 3, 4, 5, 6, 7, 8, 13, 15, 2, 3, 6, 1, 3, 8, 8, 1, 5, 10, 11, 12, 13, 14, 15, 12, 2, 3, 5, 6, 8, 9, 11, 12, 15, 3, 15, 5, 8, 13, 1, 3, 5, 7, 11, 14, 15, 1, 2, 3, 4, 5, 6, 7, 8, 9, 10, 11, 12, 13, 14, 15, 9, 3, 11, 9, 8, 12, 13, 14, 15, 1, 5, 9, 12, 14, 10, 6, 15, 2, 7, 13, 11, 14, 1, 2, 3, 4, 5, 6, 7, 9, 10, 11, 12, 13, 14, 10, 2, 4, 10, 14, 1, 2, 3, 4, 5, 6, 8, 9, 10, 11, 12, 13, 14, 15, 2, 4, 6, 14, 1, 2, 3, 4, 5, 6, 7, 8, 9, 10, 11, 12, 13, 14, 15, 1, 5, 6, 10, 11, 12, 13, 14, 1, 2, 10, 11, 14, 15, 4, 11, 4, 3, 6, 7, 8, 12, 13, 14, 15, 1, 2, 3, 4, 5, 7, 8, 9, 11, 12, 14, 15, 1, 5, 1, 2, 3, 4, 5, 7, 8, 9, 10, 11, 12, 13, 14, 15, 1, 4, 5, 6, 7, 8, 9, 11, 12, 13, 14, 1, 4, 5, 7, 9, 12, 13, 15, 2, 3, 7, 10, 13, 14, 15, 1, 2, 3, 4, 13, 14, 15, 1, 2, 3, 4, 6, 7, 8, 10, 11, 13, 14, 15, 10, 3, 3, 5, 12, 15, 3, 1, 2, 3, 4, 5, 6, 7, 8, 9, 10, 11, 12, 13, 14, 15, 1, 3, 4, 5, 7, 8, 9, 10, 11, 12, 13, 15, 1, 1, 2, 3, 4, 5, 6, 7, 9, 10, 11, 12, 13, 14, 15, 2, 3, 10, 13, 14, 4, 7, 10, 7, 3, 11, 1, 2, 3, 4, 5, 6, 7, 10, 12, 13, 14, 15, 4, 2, 3, 4, 5, 6, 7, 8, 11, 12, 13, 14, 15, 1, 2, 3, 4, 5, 6, 7, 9, 10, 11, 12, 13, 14, 1, 2, 3, 4, 5, 6, 7, 8, 9, 10, 11, 12, 13, 14, 15, 1, 2, 3, 4, 5, 6, 7, 8, 9, 10, 11, 12, 13, 14, 15, 4, 8, 9, 5, 9, 11, 12, 14, 15, 1, 2, 4, 5, 6, 8, 9, 10, 11, 12, 14, 2, 4, 14, 11, 2, 6, 13, 15, 10, 13, 14, 7, 1, 5, 9, 14, 1, 2, 3, 4, 5, 6, 7, 8, 9, 11, 12, 13, 14, 15, 1, 3, 4, 5, 7, 8, 10, 11, 15, 1, 2, 3, 4, 5, 6, 7, 8, 9, 10, 11, 12, 13, 14, 15, 1, 2, 3, 4, 5, 7, 11, 12, 13, 14, 15, 2, 6, 6, 2, 6, 9, 1, 2, 3, 5, 6, 7, 8, 9, 11, 12, 13, 14, 15, 1, 4, 8, 9, 11, 12, 14, 15, 2, 6, 1, 2, 3, 4, 5, 6, 7, 8, 9, 10, 11, 12, 13, 14, 15, 2, 4, 5, 6, 8, 11, 14, 8, 14, 1, 2, 3, 4, 5, 8, 9, 11, 12, 14, 15, 1, 2, 3, 4, 5, 6, 7, 8, 9, 10, 11, 12, 13, 14, 15, 2, 3, 6, 13, 14, 12, 7, 15, 1, 2, 5, 9, 11, 12, 13, 14, 15, 1, 4, 5, 6, 9, 11, 12, 14, 15, 10, 11, 1, 12, 14, 5, 8, 4, 4, 4, 13, 14, 15, 4, 4, 7, 14, 15, 4, 7, 4, 2, 6, 6, 7, 13, 14, 15, 14, 1, 2, 3, 4, 5, 6, 7, 8, 9, 10, 11, 12, 13, 14, 15, 1, 2, 3, 4, 5, 6, 7, 8, 9, 10, 11, 12, 13, 14, 15, 1, 2, 3, 4, 5, 6, 7, 8, 9, 11, 12, 13, 14, 15, 1, 9, 12, 1, 2, 3, 4, 5, 6, 8, 9, 11, 12, 13, 14, 15, 1, 2, 3, 5, 6, 7, 8, 9, 10, 11, 12, 13, 14, 15, 7, 4, 13, 14, 15, 4, 13, 1, 3, 4, 5, 8, 9, 11, 12, 14, 15, 3, 15, 3, 5, 9, 10, 11, 15, 3, 3, 5, 2, 4, 6, 14, 15, 1, 5, 9, 11, 14, 7, 5, 1, 2, 3, 4, 5, 6, 7, 8, 9, 10, 11, 13, 14, 15, 7, 8, 13, 4, 5, 1, 2, 3, 4, 5, 6, 7, 10, 11, 12, 13, 14, 15, 2, 3, 4, 6, 7, 8, 9, 10, 11, 12, 13, 14, 15, 3, 10, 12, 14, 1, 2, 3, 4, 5, 6, 7, 8, 9, 10, 11, 12, 13, 14, 15, 6, 13, 4, 7, 10, 12, 10, 3, 15, 5, 2, 3, 6, 7, 14, 15, 3, 6, 11, 4, 1, 2, 3, 4, 5, 6, 7, 8, 9, 10, 11, 12, 13, 14, 15, 1, 5, 9, 10, 11, 12, 14, 2, 3, 4, 6, 7, 8, 11, 12, 13, 14, 15, 1, 2, 3, 4, 5, 6, 7, 8, 9, 10, 11, 12, 13, 14, 15, 2, 3, 4, 5, 7, 8, 9, 10, 11, 14, 15, 3, 5, 10, 11, 12, 13, 14, 5, 10, 1, 2, 9, 10, 11, 13, 1, 5, 10, 4, 7, 8, 9, 12, 14, 15, 1, 3, 5, 7, 8, 11, 12, 13, 14, 1, 2, 3, 4, 5, 6, 8, 9, 10, 11, 12, 13, 14, 15, 2, 3, 6, 7, 4, 10, 12, 13, 1, 3, 4, 5, 7, 8, 10, 11, 12, 13, 14, 1, 2, 3, 4, 6, 7, 8, 9, 11, 12, 13, 14, 15, 1, 2, 4, 5, 9, 10, 11, 12, 14, 15, 1, 3, 4, 5, 6, 7, 8, 10, 11, 12, 13, 14, 15, 14, 1, 2, 3, 4, 5, 6, 7, 8, 9, 10, 11, 12, 13, 14, 15, 1, 2, 3, 4, 5, 6, 7, 8, 9, 10, 11, 12, 13, 14, 15, 9, 5, 12, 14, 2, 1, 4, 11, 13, 14, 15, 1, 2, 4, 5, 11, 13, 14, 15, 12, 1, 4, 5, 8, 9, 11, 12, 13, 14, 15, 1, 2, 4, 5, 6, 7, 8, 9, 13, 14, 15, 1, 2, 3, 6, 7, 8, 9, 15, 7, 12, 6, 10, 12, 1, 13, 1, 2, 3, 4, 5, 6, 7, 8, 9, 10, 11, 12, 13, 14, 15, 1, 2, 3, 4, 5, 6, 7, 9, 10, 11, 12, 13, 14, 4, 11, 13, 14, 15, 1, 3, 10, 11, 14, 4, 6, 1, 3, 5, 6, 8, 9, 10, 11, 12, 13, 14, 1, 4, 5, 6, 8, 9, 10, 11, 12, 14, 14, 1, 2, 5, 7, 8, 10, 11, 12, 13, 14, 1, 7, 9, 11, 13, 14, 15, 14, 1, 5, 13, 1, 2, 3, 4, 5, 6, 7, 8, 9, 10, 11, 12, 13, 14, 15, 8, 1, 2, 3, 5, 8, 10, 11, 13, 14, 1, 2, 3, 4, 5, 7, 8, 9, 10, 11, 12, 13, 14, 15, 1, 8, 14, 1, 2, 3, 4, 5, 6, 7, 8, 9, 10, 11, 12, 13, 14, 15, 1, 2, 3, 4, 5, 6, 8, 9, 12, 13, 15, 1, 9, 1, 2, 3, 4, 5, 6, 7, 8, 9, 10, 11, 13, 14, 15, 1, 1, 2, 3, 4, 5, 6, 7, 8, 9, 10, 11, 12, 13, 14, 15, 9, 11, 8, 9, 4, 3, 2, 7, 1, 2, 3, 4, 5, 6, 7, 8, 9, 11, 12, 13, 14, 15, 14, 15, 1, 2, 3, 4, 5, 6, 7, 8, 9, 10, 11, 12, 13, 14, 15, 1, 5, 9, 12, 2, 4, 5, 8, 11, 12, 14, 15, 4, 1, 2, 4, 5, 7, 14, 15, 2, 6, 7, 15, 7, 1, 3, 15, 5, 1, 2, 3, 4, 6, 14, 1, 3, 4, 5, 7, 8, 10, 11, 12, 13, 14, 15, 1, 2, 3, 4, 5, 7, 8, 9, 10, 11, 12, 13, 14, 15, 2, 3, 4, 5, 6, 7, 10, 13, 14, 15, 6, 8, 15, 6, 3, 5, 15, 1, 3, 5, 8, 9, 11, 12, 13, 14, 8, 13, 2, 4, 6, 7, 10, 13, 14, 15, 1, 2, 3, 4, 5, 6, 7, 8, 9, 10, 11, 12, 13, 14, 15, 1, 4, 5, 7, 9, 12, 14, 15, 12, 12, 7, 1, 2, 4, 5, 9, 12, 15, 1, 4, 5, 6, 7, 8, 9, 12, 13, 14, 15, 2, 4, 5, 6, 8, 12, 14, 15, 1, 5, 10, 11, 14, 1, 5, 10, 1, 3, 4, 5, 6, 7, 8, 9, 10, 12, 13, 14, 15, 3, 5, 10, 15, 1, 3, 5, 8, 10, 11, 12, 14, 1, 1, 11, 2, 3, 6, 7, 10, 11, 14, 15, 2, 7, 4, 7, 11, 13, 14, 2, 1, 5, 5, 1, 2, 3, 4, 5, 6, 7, 8, 9, 10, 11, 12, 13, 14, 15, 1, 5, 1, 2, 3, 4, 5, 8, 9, 12, 13, 14, 15, 13, 14, 15, 3, 1, 3, 9, 8, 13, 6, 1, 2, 3, 4, 5, 6, 7, 8, 9, 11, 13, 14, 15, 10, 12, 6, 1, 2, 3, 4, 5, 6, 7, 8, 9, 10, 11, 12, 13, 14, 15, 3, 5, 9, 10, 11, 12, 13, 15, 1, 2, 3, 5, 6, 9, 10, 11, 12, 13, 14, 15, 13, 1, 2, 3, 4, 6, 7, 8, 10, 11, 12, 13, 14, 15, 1, 2, 3, 4, 5, 6, 7, 8, 9, 10, 11, 12, 13, 14, 15, 1, 3, 1, 2, 3, 4, 5, 6, 7, 8, 9, 10, 11, 12, 13, 14, 15, 1, 2, 3, 4, 5, 7, 8, 9, 10, 11, 12, 13, 14, 15, 3, 4, 3, 3, 4, 5, 8, 15, 6, 9, 1, 5, 14, 14, 3, 8, 5, 9, 4, 5, 9, 10, 11, 12, 15, 1, 2, 3, 4, 5, 6, 7, 8, 9, 10, 11, 12, 13, 14, 15, 1, 2, 3, 4, 5, 6, 7, 8, 9, 10, 11, 12, 13, 14, 15, 1, 2, 3, 4, 5, 7, 8, 9, 10, 11, 12, 13, 14, 1, 4, 5, 9, 1, 4, 3, 6, 10, 11, 12, 14, 2, 3, 5, 8, 11, 13, 14, 15, 2, 1, 4, 5, 11, 12, 14, 1, 14, 9, 5, 9, 13, 11, 12, 15, 10, 12, 1, 2, 3, 4, 5, 6, 7, 10, 11, 12, 13, 14, 15, 2, 10, 12, 13, 13, 15, 14, 1, 1, 7, 1, 5, 11, 12, 14, 9, 14, 12, 3, 3, 7, 1, 3, 10, 1, 11, 11, 6, 3, 3, 6, 1, 5, 9, 10, 11, 12, 13, 14, 1, 2, 3, 4, 5, 6, 7, 8, 10, 13, 14, 15, 10, 2, 3, 7, 9, 10, 13, 2, 2, 4, 6, 7, 13, 14, 15, 3, 2, 6, 13, 1, 2, 3, 5, 7, 10, 11, 12, 14, 15, 7, 1, 2, 1, 5, 8, 10, 11, 12, 1, 5, 13, 9, 1, 3, 5, 6, 10, 11, 13, 1, 2, 3, 4, 5, 6, 7, 8, 9, 11, 12, 13, 14, 15, 2, 3, 6, 1, 3, 5, 8, 9, 12, 2, 3, 6, 9, 13, 15, 6, 10, 1, 4, 6, 4, 1, 1, 3, 4, 5, 6, 8, 9, 10, 11, 12, 13, 14, 15, 1, 5, 9, 11, 12, 1, 2, 3, 4, 5, 7, 8, 9, 11, 12, 13, 14, 15, 2, 8, 14, 1, 2, 3, 4, 5, 7, 8, 10, 11, 12, 13, 14, 15, 1, 2, 3, 4, 5, 6, 7, 8, 9, 10, 11, 12, 13, 14, 15, 5, 11, 1, 2, 3, 4, 5, 6, 7, 10, 13, 14, 1, 3, 4, 5, 15, 5, 13, 1, 2, 3, 4, 5, 7, 8, 10, 11, 12, 13, 14, 15, 11, 14, 1, 5, 9, 10, 12, 13, 13, 2, 3, 7, 1, 4, 5, 10, 14, 1, 1, 2, 3, 4, 5, 7, 8, 9, 10, 11, 12, 13, 14, 15, 1, 2, 3, 4, 5, 7, 8, 9, 11, 12, 14, 15, 1, 2, 3, 4, 5, 6, 7, 8, 9, 10, 11, 12, 13, 14, 15, 4, 1, 2, 3, 4, 5, 6, 7, 8, 9, 10, 11, 12, 13, 14, 15, 4, 4, 7, 15, 11, 1, 2, 3, 4, 5, 6, 7, 8, 9, 10, 11, 12, 13, 14, 15, 11, 2, 3, 4, 6, 7, 12, 14, 15, 9, 1, 2, 3, 4, 5, 6, 7, 8, 9, 10, 11, 12, 13, 14, 15, 7, 1, 5, 11, 15, 1, 2, 4, 5, 6, 7, 8, 9, 10, 11, 12, 13, 14, 15, 9, 10, 1, 2, 3, 4, 5, 9, 10, 11, 12, 14, 15, 10, 11, 12, 15, 1, 2, 5, 10, 11, 12, 14, 2, 3, 6, 14, 1, 2, 3, 4, 5, 6, 7, 8, 9, 10, 11, 12, 13, 14, 15, 5, 1, 2, 3, 4, 5, 6, 7, 8, 9, 10, 11, 13, 14, 15, 1, 11, 10, 1, 10, 14, 2, 14, 6, 6, 14, 12, 6, 1, 13, 10, 12, 1, 3, 4, 5, 6, 7, 8, 9, 10, 11, 13, 14, 15, 1, 5, 1, 4, 5, 7, 8, 9, 11, 12, 13, 14, 15, 1, 5, 9, 4, 4, 1, 2, 3, 5, 6, 7, 8, 9, 10, 11, 12, 14, 15, 1, 5, 6, 9, 11, 12, 14, 15, 15, 15, 1, 2, 4, 5, 7, 10, 11, 14, 2, 2, 7, 13, 1, 2, 3, 4, 6, 7, 8, 9, 10, 11, 13, 14, 15, 2, 3, 4, 5, 6, 7, 8, 9, 10, 11, 13, 14, 15, 1, 2, 4, 13, 15, 2, 3, 4, 5, 6, 7, 8, 10, 12, 14, 15, 10, 1, 4, 5, 7, 10, 11, 12, 14, 4, 1, 3, 5, 6, 7, 8, 9, 10, 11, 12, 14, 1, 10, 11, 12, 14, 15, 2, 6, 15, 2, 6, 9, 12, 15, 7, 8, 10, 12, 1, 8, 11, 12, 14, 1, 2, 4, 5, 6, 7, 11, 13, 2, 3, 6, 7, 10, 12, 13, 15, 7, 8, 14, 10, 14, 1, 5, 8, 9, 10, 11, 12, 13, 14, 15, 1, 5, 12, 13, 5, 13, 1, 2, 4, 5, 7, 8, 9, 10, 11, 12, 13, 14, 1, 2, 3, 4, 5, 6, 7, 8, 9, 10, 11, 12, 13, 14, 15, 3, 4, 5, 13, 1, 2, 5, 8, 9, 10, 11, 12, 14, 15, 15, 1, 2, 3, 4, 5, 6, 7, 8, 9, 10, 11, 12, 13, 14, 15, 1, 2, 3, 4, 5, 6, 7, 10, 11, 12, 13, 14, 15, 1, 2, 3, 4, 5, 6, 7, 8, 9, 10, 11, 12, 13, 14, 15, 10, 1, 5, 7, 9, 12, 13, 14, 1, 2, 3, 5, 6, 7, 8, 9, 10, 11, 12, 13, 14, 15, 1, 3, 4, 5, 7, 9, 10, 11, 12, 14, 3, 15, 6, 8, 1, 2, 3, 4, 5, 9, 10, 12, 14, 3, 1, 2, 3, 4, 5, 6, 7, 8, 9, 10, 11, 12, 13, 14, 15, 1, 4, 5, 8, 12, 13, 14, 1, 2, 3, 4, 5, 6, 7, 8, 9, 10, 11, 12, 13, 14, 15, 4, 7, 10, 1, 7, 10, 7, 1, 2, 3, 4, 5, 6, 7, 8, 9, 10, 11, 12, 13, 14, 15, 5, 1, 12, 14, 1, 3, 5, 9, 12, 15, 2, 3, 4, 6, 7, 8, 9, 13, 15, 5, 13, 6, 1, 2, 3, 4, 5, 6, 7, 8, 9, 11, 12, 13, 14, 15, 5, 7, 13, 1, 2, 3, 4, 5, 6, 7, 10, 11, 13, 14, 15, 10, 1, 2, 3, 8, 10, 11, 12, 13, 14, 15, 10, 11, 11, 1, 2, 3, 4, 5, 6, 7, 8, 9, 10, 11, 12, 13, 14, 15, 1, 5, 7, 8, 10, 11, 12, 14, 2, 4, 9, 14, 12, 5, 10, 11, 12, 13, 14, 2, 4, 7, 4, 15, 1, 4, 5, 8, 9, 10, 11, 12, 13, 14, 15, 8, 13, 1, 3, 4, 7, 9, 10, 11, 14, 15, 3, 6, 1, 2, 3, 4, 5, 6, 7, 8, 9, 11, 12, 13, 14, 15, 1, 2, 3, 5, 7, 8, 9, 10, 11, 12, 14, 15, 2, 4, 10, 7, 5, 10, 12, 14, 1, 2, 3, 4, 5, 6, 7, 8, 9, 10, 11, 12, 13, 14, 15, 1, 2, 5, 6, 7, 8, 11, 13, 15, 9, 11, 13, 14, 2, 3, 4, 6, 7, 8, 13, 14, 3, 3, 2, 3, 6, 7, 10, 2, 3, 4, 6, 13, 11, 1, 2, 3, 4, 5, 6, 7, 8, 9, 10, 11, 12, 13, 14, 15, 7, 14, 1, 3, 4, 5, 7, 8, 10, 11, 12, 13, 14, 7, 3, 3, 4, 5, 6, 10, 12, 15, 3, 6, 15, 2, 4, 10, 7, 9, 14, 13, 12, 9, 1, 4, 5, 8, 9, 11, 12, 13, 14, 15, 1, 2, 3, 4, 5, 6, 8, 9, 10, 11, 12, 14, 15, 1, 2, 4, 5, 7, 9, 10, 11, 12, 14, 15, 2, 7, 14, 1, 4, 5, 6, 7, 8, 9, 10, 11, 12, 13, 14, 3, 4, 6, 1, 2, 4, 5, 6, 8, 13, 15, 1, 2, 3, 4, 5, 6, 7, 8, 9, 10, 11, 12, 13, 14, 15, 2, 6, 15, 15, 1, 4, 5, 8, 10, 11, 12, 14, 15, 1, 11, 4, 1, 5, 9, 10, 11, 12, 14, 1, 2, 3, 4, 5, 6, 7, 9, 10, 11, 12, 13, 14, 15, 12, 15, 2, 1, 5, 7, 11, 14, 1, 2, 4, 5, 6, 7, 9, 10, 11, 13, 14, 15, 2, 4, 6, 7, 2, 4, 5, 12, 14, 15, 1, 2, 3, 4, 5, 6, 7, 9, 10, 11, 12, 13, 14, 15, 1, 4, 5, 7, 8, 11, 13, 14, 15, 2, 7, 8, 13, 1, 2, 3, 7, 11, 1, 2, 3, 4, 5, 6, 7, 8, 10, 11, 12, 13, 14, 15, 1, 2, 3, 4, 5, 6, 7, 8, 10, 11, 12, 13, 14, 15, 4, 8, 10, 6, 1, 5, 1, 2, 4, 11, 1, 3, 10, 11, 1, 3, 4, 10, 14, 7, 1, 9, 14, 1, 2, 3, 4, 5, 6, 7, 8, 9, 11, 12, 13, 14, 15, 10, 12, 1, 11, 1, 2, 3, 4, 5, 6, 7, 8, 9, 10, 11, 12, 13, 14, 15, 1, 5, 9, 11, 11, 3, 1, 2, 3, 6, 7, 14, 15, 3, 15, 10, 2, 4, 8, 10, 12, 13, 12, 12, 14, 1, 2, 3, 4, 5, 6, 7, 8, 9, 10, 11, 12, 14, 15, 1, 5, 11, 7, 8, 13, 7, 1, 2, 3, 4, 5, 6, 7, 8, 9, 10, 11, 12, 13, 14, 15, 2, 3, 6, 7, 14, 15, 1, 2, 3, 4, 6, 7, 9, 10, 11, 12, 13, 14, 1, 2, 3, 4, 5, 6, 7, 8, 9, 10, 11, 12, 13, 14, 15, 10, 12, 3, 1, 3, 5, 6, 7, 8, 9, 10, 11, 12, 13, 14, 5, 14, 15, 4, 5, 8, 12, 14, 2, 4, 6, 7, 9, 13, 14, 15, 13, 1, 2, 3, 4, 5, 6, 7, 8, 9, 10, 11, 12, 14, 15, 1, 2, 3, 4, 5, 6, 7, 8, 9, 10, 11, 12, 13, 14, 15, 5, 9, 10, 11, 13, 1, 5, 12, 13, 1, 9, 14, 5, 14, 14, 1, 5, 10, 11, 12, 13, 14, 1, 5, 10, 11, 12, 13, 14, 14, 2, 1, 13, 1, 1, 5, 5, 10, 10, 12, 5, 11, 5, 14, 1, 2, 3, 4, 5, 6, 7, 8, 9, 10, 11, 12, 13, 14, 15, 10, 11, 14, 11, 15, 9, 4, 5, 7, 8, 11, 12, 13, 14, 15, 4, 7, 8, 8, 12, 1, 3, 4, 5, 9, 1, 2, 5, 11, 13, 15, 1, 2, 3, 4, 5, 6, 7, 8, 9, 10, 11, 12, 13, 14, 15, 1, 2, 3, 4, 5, 7, 8, 9, 12, 13, 15, 2, 4, 6, 7, 8, 11, 12, 13, 14, 15, 3, 5, 15, 1, 2, 3, 4, 5, 6, 7, 8, 9, 10, 11, 12, 13, 14, 15, 3, 7, 15, 1, 2, 3, 4, 5, 7, 8, 10, 11, 12, 13, 14, 15, 1, 2, 3, 4, 5, 6, 7, 8, 9, 10, 11, 12, 13, 14, 15, 1, 5, 7, 3, 8, 1, 4, 5, 7, 12, 14, 15, 1, 10, 14, 15, 1, 2, 3, 4, 5, 7, 8, 9, 10, 11, 12, 13, 14, 15, 11, 12, 1, 2, 4, 5, 7, 1, 2, 3, 4, 5, 6, 7, 8, 9, 10, 11, 12, 13, 14, 15, 15, 1, 2, 4, 5, 6, 7, 9, 11, 12, 13, 14, 15, 14, 1, 2, 5, 6, 7, 10, 11, 12, 13, 14, 15, 1, 2, 4, 5, 7, 9, 10, 11, 12, 13, 14, 3, 5, 6, 10, 15, 1, 2, 3, 4, 6, 7, 10, 12, 14, 15, 1, 11, 14, 2, 6, 9, 14, 3, 4, 5, 8, 15, 1, 3, 4, 5, 7, 10, 11, 12, 13, 14, 15, 1, 2, 3, 4, 5, 6, 7, 8, 9, 11, 12, 13, 14, 15, 1, 4, 5, 8, 11, 12, 13, 14, 15, 1, 2, 3, 4, 5, 6, 7, 9, 11, 13, 14, 15, 1, 8, 10, 14, 1, 2, 3, 4, 5, 6, 7, 8, 9, 10, 11, 12, 14, 15, 1, 2, 4, 6, 7, 8, 9, 10, 11, 13, 14, 15, 1, 1, 11, 1, 2, 3, 4, 5, 6, 7, 8, 9, 10, 11, 12, 13, 14, 15, 4, 7, 10, 4, 7, 8, 11, 13, 15, 2, 4, 6, 9, 11, 12, 13, 14, 15, 1, 2, 3, 4, 5, 6, 7, 8, 9, 12, 13, 14, 15, 1, 2, 3, 4, 5, 6, 7, 8, 9, 10, 11, 12, 13, 14, 15, 1, 2, 3, 6, 7, 12, 13, 14, 15, 1, 2, 3, 4, 5, 6, 7, 8, 9, 10, 11, 12, 13, 14, 15, 1, 6, 9, 10, 11, 12, 14, 5, 11, 14, 13, 2, 7, 5, 15, 1, 2, 3, 4, 5, 8, 9, 10, 11, 12, 13, 14, 15, 1, 4, 5, 8, 9, 12, 15, 3, 1, 3, 4, 5, 8, 9, 12, 13, 14, 15, 9, 1, 5, 11, 12, 7, 14, 2, 3, 4, 6, 7, 8, 9, 12, 13, 15, 6, 15, 4, 6, 15, 2, 5, 7, 9, 10, 11, 11, 12, 4, 1, 2, 3, 4, 5, 6, 7, 10, 12, 13, 14, 15, 3, 5, 8, 15, 11, 14, 1, 2, 4, 5, 7, 8, 9, 10, 11, 12, 13, 1, 5, 11, 12, 2, 3, 4, 6, 8, 15, 1, 2, 3, 4, 5, 6, 7, 8, 9, 11, 12, 13, 14, 15, 1, 3, 4, 5, 8, 9, 11, 12, 13, 15, 9, 12, 2, 9, 14, 5, 8, 1, 4, 5, 9, 10, 11, 12, 13, 14, 4, 7, 15, 13, 3, 10, 1, 2, 3, 4, 5, 6, 7, 8, 9, 10, 11, 12, 13, 14, 7, 10, 1, 2, 4, 5, 6, 7, 10, 11, 12, 13, 14, 15, 2, 3, 4, 6, 7, 8, 11, 13, 14, 15, 2, 3, 4, 5, 6, 7, 8, 9, 10, 11, 12, 13, 14, 15, 8, 1, 4, 5, 12, 15, 13, 1, 2, 3, 4, 5, 8, 9, 11, 12, 15, 9, 8, 15, 5, 13, 1, 4, 5, 7, 11, 8, 8, 2, 3, 4, 7, 9, 15, 1, 2, 4, 5, 6, 7, 8, 9, 10, 11, 12, 13, 14, 15, 8, 12, 13, 15, 1, 4, 5, 8, 14, 8, 15, 2, 4, 10, 12, 15, 3, 4, 5, 4, 12, 5, 7, 9, 13, 13, 2, 4, 6, 7, 11, 12, 13, 1, 2, 3, 4, 5, 7, 8, 9, 10, 11, 12, 13, 14, 15, 8, 1, 2, 3, 4, 5, 6, 7, 9, 10, 11, 12, 13, 14, 15, 1, 3, 5, 7, 8, 9, 10, 11, 12, 13, 14, 15, 10, 12, 13, 2, 3, 4, 5, 7, 8, 10, 11, 12, 13, 14, 15, 2, 10, 7, 10, 11, 10, 1, 2, 3, 4, 5, 6, 7, 8, 9, 12, 13, 14, 15, 2, 3, 4, 5, 6, 7, 8, 10, 11, 12, 13, 14, 15, 10, 8, 2, 3, 5, 6, 7, 8, 9, 12, 13, 14, 15, 4, 6, 1, 2, 5, 10, 12, 5, 1, 2, 3, 4, 5, 10, 15, 1, 2, 3, 4, 5, 6, 7, 8, 12, 13, 14, 15, 3, 4, 5, 8, 9, 11, 12, 13, 14, 15, 1, 2, 4, 5, 8, 10, 11, 13, 15, 1, 2, 3, 4, 5, 9, 12, 14, 15, 1, 2, 3, 4, 5, 12, 9, 1, 2, 4, 5, 6, 7, 8, 9, 10, 11, 12, 13, 14, 15, 1, 2, 10, 11, 12, 14, 1, 3, 5, 8, 10, 11, 12, 13, 14, 1, 2, 4, 5, 6, 7, 8, 10, 11, 13, 14, 15, 2, 4, 5, 6, 7, 8, 10, 11, 12, 13, 14, 15, 4, 5, 14, 7, 3, 5, 7, 8, 12, 13, 14, 15, 1, 2, 3, 4, 5, 6, 7, 8, 9, 10, 11, 12, 13, 14, 15, 1, 2, 5, 8, 13, 1, 2, 3, 4, 5, 6, 7, 8, 9, 10, 11, 12, 13, 14, 15, 14, 10, 11, 14, 1, 2, 3, 4, 5, 6, 7, 8, 9, 10, 11, 12, 13, 14, 15, 1, 12, 15, 9, 8, 1, 2, 3, 4, 5, 6, 7, 8, 9, 10, 11, 12, 13, 14, 15, 13, 14, 3, 5, 9, 12, 13, 1, 3, 4, 5, 6, 7, 8, 11, 12, 14, 15, 3, 8, 14, 1, 2, 3, 4, 5, 7, 8, 9, 10, 11, 14, 15, 9, 1, 5, 12, 11, 2, 2, 7, 15, 8, 1, 4, 5, 11, 14, 1, 2, 3, 4, 5, 6, 7, 8, 9, 11, 12, 13, 14, 15, 2, 3, 7, 13, 1, 2, 4, 5, 6, 8, 9, 11, 12, 13, 15, 1, 2, 3, 4, 5, 7, 8, 9, 11, 12, 14, 15, 2, 3, 4, 5, 6, 7, 8, 9, 12, 13, 14, 15, 1, 2, 3, 4, 5, 6, 7, 9, 10, 11, 12, 13, 14, 15, 1, 2, 3, 4, 5, 7, 9, 10, 11, 12, 14, 15, 1, 2, 3, 5, 8, 10, 11, 12, 14, 13, 1, 2, 3, 5, 6, 8, 9, 10, 11, 12, 13, 14, 1, 5, 9, 11, 12, 13, 15, 1, 4, 5, 6, 7, 8, 9, 11, 12, 13, 4, 5, 8, 9, 1, 2, 3, 4, 5, 6, 8, 9, 10, 11, 12, 13, 14, 15, 1, 3, 4, 5, 6, 8, 9, 10, 11, 12, 13, 14, 12, 13, 1, 5, 6, 11, 12, 10, 12, 13, 14, 15, 8, 2, 4, 7, 14, 13, 5, 14, 1, 2, 3, 4, 5, 6, 7, 8, 11, 12, 13, 15, 1, 5, 7, 9, 10, 11, 14, 2, 3, 4, 6, 7, 9, 13, 14, 15, 5, 6, 9, 13, 14, 1, 2, 3, 4, 5, 6, 7, 8, 9, 11, 12, 13, 14, 15, 7, 7, 12, 1, 2, 3, 4, 5, 6, 7, 8, 9, 10, 11, 12, 13, 14, 15, 7, 10, 5, 2, 15, 1, 4, 5, 7, 8, 9, 12, 13, 1, 4, 10, 11, 1, 3, 5, 12, 1, 10, 11, 6, 1, 2, 3, 4, 5, 6, 7, 8, 12, 13, 14, 15, 1, 5, 1, 4, 5, 8, 9, 11, 12, 13, 2, 3, 4, 6, 7, 10, 14, 15, 3, 13, 15, 3, 7, 13, 15, 1, 2, 3, 5, 7, 8, 9, 10, 14, 15, 1, 9, 10, 2, 6, 15, 4, 8, 11, 14, 1, 9, 10, 11, 1, 3, 4, 5, 6, 7, 8, 9, 10, 11, 12, 13, 14, 15, 1, 2, 3, 4, 5, 6, 7, 8, 10, 11, 12, 14, 1, 2, 3, 4, 5, 6, 7, 8, 9, 10, 11, 12, 13, 14, 15, 15, 1, 3, 5, 6, 7, 8, 9, 10, 11, 12, 13, 14, 1, 3, 5, 7, 8, 10, 11, 12, 14, 15, 1, 5, 9, 13, 2, 4, 5, 8, 10, 13, 7, 2, 4, 6, 7, 15, 6, 8, 1, 2, 3, 4, 5, 6, 7, 8, 9, 13, 14, 15, 13, 15, 14, 5, 12, 1, 1, 4, 5, 6, 7, 8, 9, 10, 11, 12, 13, 14, 15, 8, 5, 8, 11, 12, 13, 1, 10, 11, 13, 13, 2, 3, 6, 9, 10, 12, 1, 7, 1], \"Freq\": [0.9742677807807922, 0.9312804341316223, 0.9717154502868652, 0.007361480500549078, 0.007361480500549078, 0.06151062995195389, 0.010854816995561123, 0.028946178033947945, 0.021709633991122246, 0.003618272254243493, 0.003618272254243493, 0.018091361969709396, 0.734509289264679, 0.04341926798224449, 0.07598371803760529, 0.9437649846076965, 0.05034862458705902, 0.02517431229352951, 0.16363303363323212, 0.037761468440294266, 0.012587156146764755, 0.6922935843467712, 0.9598857760429382, 0.008346832357347012, 0.016693664714694023, 0.007452603429555893, 0.37561121582984924, 0.023848330602049828, 0.029810413718223572, 0.011924165301024914, 0.07899759709835052, 0.026829371228814125, 0.004471561871469021, 0.017886247485876083, 0.005962082650512457, 0.011924165301024914, 0.004471561871469021, 0.3234429955482483, 0.07750707864761353, 0.042750246822834015, 0.01603134162724018, 0.03206268325448036, 0.005343780852854252, 0.005343780852854252, 0.347345769405365, 0.33665817975997925, 0.010687561705708504, 0.01603134162724018, 0.12290696054697037, 0.021375123411417007, 0.03740646690130234, 0.005343780852854252, 0.8731070160865784, 0.06736069172620773, 0.04490713030099869, 0.8083283305168152, 0.03368034586310387, 0.03368034586310387, 0.9470696449279785, 0.23630009591579437, 0.022202692925930023, 0.007929532788693905, 0.022202692925930023, 0.10308393090963364, 0.014273160137236118, 0.01585906557738781, 0.03171813115477562, 0.033304039388895035, 0.0999121218919754, 0.315595418214798, 0.030132226645946503, 0.004757720045745373, 0.05392082780599594, 0.006343626417219639, 0.3319803476333618, 0.08187856525182724, 0.016375713050365448, 0.0044661033898591995, 0.14291530847549438, 0.0044661033898591995, 0.016375713050365448, 0.005954804364591837, 0.058059342205524445, 0.053593240678310394, 0.13696050643920898, 0.06848025321960449, 0.016375713050365448, 0.049127135425806046, 0.011909608729183674, 0.09467760473489761, 0.0145657854154706, 0.0072828927077353, 0.8448155522346497, 0.0072828927077353, 0.0291315708309412, 0.9112602472305298, 0.005202204454690218, 0.010404408909380436, 0.03641543164849281, 0.7231064438819885, 0.03641543164849281, 0.010404408909380436, 0.031213227659463882, 0.1196507066488266, 0.015606613829731941, 0.0308870617300272, 0.04324188455939293, 0.0617741234600544, 0.01235482469201088, 0.07412894815206528, 0.03706447407603264, 0.12972566485404968, 0.5436123013496399, 0.04324188455939293, 0.02470964938402176, 0.8877294659614563, 0.040689460933208466, 0.0027126308996230364, 0.0027126308996230364, 0.34450411796569824, 0.0759536623954773, 0.0461147241294384, 0.016275785863399506, 0.010850523598492146, 0.013563154265284538, 0.016275785863399506, 0.029838940128684044, 0.3960441052913666, 0.005425261799246073, 0.05818789824843407, 0.003232660936191678, 0.019395966082811356, 0.04525725170969963, 0.08081652224063873, 0.04848991334438324, 0.10991047322750092, 0.05172257497906685, 0.009697983041405678, 0.009697983041405678, 0.0355592705309391, 0.4816664755344391, 0.019395966082811356, 0.029093949124217033, 0.9439120888710022, 0.04198235645890236, 0.013994119130074978, 0.013994119130074978, 0.8956236243247986, 0.013994119130074978, 0.06251699477434158, 0.006698249373584986, 0.4443172216415405, 0.0022327499464154243, 0.13396498560905457, 0.020094748586416245, 0.011163749732077122, 0.004465499892830849, 0.026792997494339943, 0.14289599657058716, 0.14289599657058716, 0.8558367490768433, 0.10068667680025101, 0.08582933247089386, 0.8725981712341309, 0.014304888434708118, 0.014304888434708118, 0.2997964322566986, 0.07494910806417465, 0.4143020212650299, 0.020819196477532387, 0.006245758850127459, 0.027064954861998558, 0.03955647349357605, 0.006245758850127459, 0.014573438093066216, 0.04580223187804222, 0.00832767877727747, 0.031228795647621155, 0.00832767877727747, 0.9612130522727966, 0.006545341573655605, 0.01963602565228939, 0.0327267087996006, 0.2552683353424072, 0.6807155609130859, 0.9500866532325745, 0.9495717883110046, 0.7481105327606201, 0.02579691633582115, 0.2063753306865692, 0.0042002322152256966, 0.0042002322152256966, 0.021001160144805908, 0.037802089005708694, 0.5964329838752747, 0.042002320289611816, 0.1764097511768341, 0.0588032491505146, 0.05040278658270836, 0.9482582807540894, 0.04310264810919762, 0.9887456297874451, 0.27049925923347473, 0.004704334773123264, 0.19758206605911255, 0.5221811532974243, 0.002352167386561632, 0.5923458337783813, 0.008615939877927303, 0.002153984969481826, 0.04307970032095909, 0.006461954675614834, 0.021539850160479546, 0.010769925080239773, 0.06246556341648102, 0.025847818702459335, 0.030155789107084274, 0.17878074944019318, 0.002153984969481826, 0.017231879755854607, 0.9727439880371094, 0.006082615815103054, 0.030413078144192696, 0.024330463260412216, 0.024330463260412216, 0.9002271294593811, 0.9495285749435425, 0.9237506985664368, 0.978055477142334, 0.05018897354602814, 0.1505669206380844, 0.07026456296443939, 0.045887064188718796, 0.05449088662862778, 0.030113384127616882, 0.21222765743732452, 0.01720764860510826, 0.018641619011759758, 0.022943532094359398, 0.18928413093090057, 0.03154735639691353, 0.020075589418411255, 0.05305691435933113, 0.032981324940919876, 0.0012043254682794213, 0.7045304179191589, 0.004817301873117685, 0.0349254384636879, 0.007225952576845884, 0.051785994321107864, 0.08309845626354218, 0.006021627224981785, 0.02408650889992714, 0.0012043254682794213, 0.006021627224981785, 0.003612976288422942, 0.021677859127521515, 0.015656230971217155, 0.033721111714839935, 0.6991998553276062, 0.0032826282549649477, 0.28887128829956055, 0.0032826282549649477, 0.04470695182681084, 0.8941390514373779, 0.9712305068969727, 0.15591681003570557, 0.002887348411604762, 0.03176083043217659, 0.005774696823209524, 0.04331022500991821, 0.008662045001983643, 0.011549393646419048, 0.07218371331691742, 0.07795840501785278, 0.10394454002380371, 0.051972270011901855, 0.008662045001983643, 0.38401734828948975, 0.04331022500991821, 0.12875913083553314, 0.06066535785794258, 0.032189782708883286, 0.04828467220067978, 0.008666479960083961, 0.008666479960083961, 0.007428411394357681, 0.032189782708883286, 0.05199887976050377, 0.1597108393907547, 0.027237508445978165, 0.0012380685657262802, 0.43208593130111694, 0.0012380685657262802, 0.4628733992576599, 0.0023028526920825243, 0.023028526455163956, 0.0023028526920825243, 0.14968542754650116, 0.004605705384165049, 0.029937084764242172, 0.10132551938295364, 0.009211410768330097, 0.11514263600111008, 0.011514263227581978, 0.018422821536660194, 0.06908558309078217, 0.11368946731090546, 0.8301135301589966, 0.001804594649001956, 0.001804594649001956, 0.052333246916532516, 0.8278915882110596, 0.017247740179300308, 0.02587161213159561, 0.017247740179300308, 0.06036709249019623, 0.008623870089650154, 0.017247740179300308, 0.9353119134902954, 0.870912492275238, 0.05443203076720238, 0.9761585593223572, 0.05810592323541641, 0.9296947717666626, 0.9760783314704895, 0.9500201344490051, 0.9225779175758362, 0.05766111984848976, 0.8765813112258911, 0.046620648354291916, 0.9091026782989502, 0.004643346648663282, 0.009286693297326565, 0.2507407069206238, 0.08358024060726166, 0.6454252004623413, 0.018587172031402588, 0.0020652413368225098, 0.32837337255477905, 0.2726118564605713, 0.0020652413368225098, 0.37174344062805176, 0.8893255591392517, 0.043031882494688034, 0.014343960210680962, 0.028687920421361923, 0.014343960210680962, 0.17413578927516937, 0.001393086276948452, 0.17692196369171143, 0.4081742763519287, 0.005572345107793808, 0.04179259017109871, 0.057116538286209106, 0.004179258830845356, 0.030647898092865944, 0.04318567365407944, 0.015323949046432972, 0.0362202450633049, 0.005572345107793808, 0.013036461547017097, 0.2476927638053894, 0.045627616345882416, 0.03910938650369644, 0.006518230773508549, 0.01955469325184822, 0.5866407752037048, 0.006518230773508549, 0.03259115293622017, 0.06137195602059364, 0.15106943249702454, 0.011802298948168755, 0.011802298948168755, 0.016523219645023346, 0.0023604598827660084, 0.4201618432998657, 0.016523219645023346, 0.06137195602059364, 0.011802298948168755, 0.1133020743727684, 0.011802298948168755, 0.009441839531064034, 0.10386022925376892, 0.004720919765532017, 0.023726996034383774, 0.023726996034383774, 0.9253528714179993, 0.016314420849084854, 0.0530218668282032, 0.03670744597911835, 0.0040786052122712135, 0.024471629410982132, 0.0040786052122712135, 0.40786048769950867, 0.3058953881263733, 0.0040786052122712135, 0.012235814705491066, 0.020393025130033493, 0.1060437336564064, 0.9230272769927979, 0.11327548325061798, 0.10297771543264389, 0.0051488857716321945, 0.015446657314896584, 0.015446657314896584, 0.010297771543264389, 0.3707197606563568, 0.3089331388473511, 0.030893314629793167, 0.020595543086528778, 0.9289343357086182, 0.048891279846429825, 0.9273486137390137, 0.026944046840071678, 0.026944046840071678, 0.43649354577064514, 0.061971306800842285, 0.051193688064813614, 0.032332856208086014, 0.008083214052021503, 0.061971306800842285, 0.13472023606300354, 0.032332856208086014, 0.008083214052021503, 0.043110474944114685, 0.0377216674387455, 0.016166428104043007, 0.021555237472057343, 0.8669134974479675, 0.9501217603683472, 0.030407853424549103, 0.942643404006958, 0.9697777032852173, 0.9527661800384521, 0.023238200694322586, 0.6898987293243408, 0.0085701709613204, 0.029995596036314964, 0.11141221970319748, 0.012855255976319313, 0.0042850854806602, 0.08998679369688034, 0.025710511952638626, 0.0171403419226408, 0.0042850854806602, 0.17603713274002075, 0.005678616929799318, 0.06814340502023697, 0.022714467719197273, 0.017035851255059242, 0.4770038425922394, 0.022714467719197273, 0.08517925441265106, 0.11925096064805984, 0.005678616929799318, 0.9691696763038635, 0.7636289596557617, 0.15335170924663544, 0.0031296268571168184, 0.0031296268571168184, 0.050074029713869095, 0.0031296268571168184, 0.006259253714233637, 0.0031296268571168184, 0.01564813405275345, 0.9228686690330505, 0.7115763425827026, 0.06305106729269028, 0.009007295593619347, 0.15312401950359344, 0.018014591187238693, 0.036029182374477386, 0.9141206741333008, 0.023438991978764534, 0.04687798395752907, 0.037851814180612564, 0.009462953545153141, 0.023657383397221565, 0.009462953545153141, 0.3406663239002228, 0.02838885970413685, 0.037851814180612564, 0.014194429852068424, 0.014194429852068424, 0.48734208941459656, 0.9800297021865845, 0.9588964581489563, 0.019569315016269684, 0.43025830388069153, 0.043460432440042496, 0.017384173348546028, 0.12168921530246735, 0.0021730216685682535, 0.008692086674273014, 0.0021730216685682535, 0.013038130477070808, 0.041287411004304886, 0.21947519481182098, 0.05649856477975845, 0.017384173348546028, 0.015211151912808418, 0.004346043337136507, 0.10350818186998367, 0.002797518391162157, 0.1930287778377533, 0.03916525840759277, 0.036367740482091904, 0.016785111278295517, 0.019582629203796387, 0.06714044511318207, 0.011190073564648628, 0.005595036782324314, 0.3217146396636963, 0.002797518391162157, 0.011190073564648628, 0.165053591132164, 0.8794635534286499, 0.07647509127855301, 0.027563435956835747, 0.01837562397122383, 0.0018375623039901257, 0.20029430091381073, 0.6541721820831299, 0.0036751246079802513, 0.0018375623039901257, 0.09004055708646774, 0.023877782747149467, 0.9312335252761841, 0.023877782747149467, 0.023877782747149467, 0.007667478173971176, 0.9661022424697876, 0.007667478173971176, 0.005763426423072815, 0.9567287564277649, 0.02305370569229126, 0.005763426423072815, 0.922915518283844, 0.0014605592004954815, 0.0014605592004954815, 0.9902591705322266, 0.002921118400990963, 0.0014605592004954815, 0.016024339944124222, 0.9774847626686096, 0.09694874286651611, 0.007755899336189032, 0.019389748573303223, 0.07755899429321289, 0.321869820356369, 0.015511798672378063, 0.019389748573303223, 0.3063580095767975, 0.015511798672378063, 0.015511798672378063, 0.003877949668094516, 0.003877949668094516, 0.09307079017162323, 0.09005508571863174, 0.8876858353614807, 0.012865012511610985, 0.8988983631134033, 0.008196303620934486, 0.08196303993463516, 0.008196303620934486, 0.22130019962787628, 0.08742724359035492, 0.04098151996731758, 0.04098151996731758, 0.14480136334896088, 0.008196303620934486, 0.0027321013621985912, 0.0519099235534668, 0.027321012690663338, 0.22949650883674622, 0.02458891086280346, 0.016392607241868973, 0.02130167931318283, 0.9159721732139587, 0.04260335862636566, 0.0882720872759819, 0.06750218570232391, 0.031154854223132133, 0.005192475393414497, 0.046732280403375626, 0.04153980314731598, 0.10384951531887054, 0.025962378829717636, 0.031154854223132133, 0.015577427111566067, 0.0882720872759819, 0.010384950786828995, 0.4413604140281677, 0.12055497616529465, 0.017471736297011375, 0.008735868148505688, 0.022713256999850273, 0.6831448674201965, 0.031449124217033386, 0.0017471736064180732, 0.006988694425672293, 0.0034943472128361464, 0.03319630026817322, 0.008735868148505688, 0.06115107610821724, 0.07696125656366348, 0.02886047214269638, 0.009620157070457935, 0.02084367349743843, 0.1426990032196045, 0.08658141642808914, 0.06573773920536041, 0.05611758306622505, 0.254934161901474, 0.18278299272060394, 0.03046383149921894, 0.006413438357412815, 0.03527390956878662, 0.9684764742851257, 0.6454440355300903, 0.0067941476590931416, 0.013588295318186283, 0.12908880412578583, 0.0067941476590931416, 0.03397073596715927, 0.12908880412578583, 0.020382441580295563, 0.0067941476590931416, 0.8922778367996216, 0.0377538800239563, 0.9438470602035522, 0.03855175897479057, 0.02141764387488365, 0.0428352877497673, 0.00856705754995346, 0.06425292789936066, 0.00428352877497673, 0.00856705754995346, 0.3769505023956299, 0.20132584869861603, 0.09423762559890747, 0.08995410054922104, 0.00856705754995346, 0.03855175897479057, 0.005801098886877298, 0.9803857207298279, 0.9296268224716187, 0.040418557822704315, 0.9261583089828491, 0.029876073822379112, 0.029876073822379112, 0.8313637375831604, 0.02445187419652939, 0.09780749678611755, 0.02445187419652939, 0.9619068503379822, 0.974259614944458, 0.014800011180341244, 0.01691429875791073, 0.008457149378955364, 0.828800618648529, 0.008457149378955364, 0.004228574689477682, 0.10148578882217407, 0.008457149378955364, 0.0063428618013858795, 0.01956207863986492, 0.010867821052670479, 0.01956207863986492, 0.14997592568397522, 0.32603463530540466, 0.01956207863986492, 0.008694256655871868, 0.04999197646975517, 0.0304298996925354, 0.006520692724734545, 0.05216554179787636, 0.06738048791885376, 0.008694256655871868, 0.18040582537651062, 0.04781841114163399, 0.9462231397628784, 0.9267919659614563, 0.06178613007068634, 0.25969552993774414, 0.0061832270585000515, 0.012366454117000103, 0.012366454117000103, 0.28752005100250244, 0.04328259080648422, 0.018549680709838867, 0.3184362053871155, 0.04019097611308098, 0.14844928681850433, 0.005118940956890583, 0.8395063281059265, 0.021949870511889458, 0.010974935255944729, 0.95481938123703, 0.9724447131156921, 0.009650117717683315, 0.009650117717683315, 0.009650117717683315, 0.009650117717683315, 0.8202599883079529, 0.01930023543536663, 0.0965011790394783, 0.009650117717683315, 0.9854446053504944, 0.025991495698690414, 0.10396598279476166, 0.08663831651210785, 0.008663831278681755, 0.05198299139738083, 0.060646820813417435, 0.025991495698690414, 0.008663831278681755, 0.6324597001075745, 0.06573956459760666, 0.9203539490699768, 0.9907397031784058, 0.04457418993115425, 0.936057984828949, 0.014680865220725536, 0.734043300151825, 0.1247873529791832, 0.014680865220725536, 0.058723460882902145, 0.03670216351747513, 0.007340432610362768, 0.1400475800037384, 0.013129460625350475, 0.013129460625350475, 0.04230603948235512, 0.04814135655760765, 0.005835315678268671, 0.0875297337770462, 0.02188243344426155, 0.25821271538734436, 0.005835315678268671, 0.0437648668885231, 0.1225416287779808, 0.023341262713074684, 0.05543550103902817, 0.11816514283418655, 0.8749448657035828, 0.9793940186500549, 0.9867693781852722, 0.9586472511291504, 0.01202380284667015, 0.01202380284667015, 0.060119014233350754, 0.0480952113866806, 0.8657137751579285, 0.02215682528913021, 0.13294094800949097, 0.7976456880569458, 0.02215682528913021, 0.02215682528913021, 0.9314085245132446, 0.05956276133656502, 0.8934414386749268, 0.11762924492359161, 0.8704564571380615, 0.8695140480995178, 0.9607304930686951, 0.01216114591807127, 0.25064679980278015, 0.02278607152402401, 0.016140133142471313, 0.002848258940503001, 0.21077115833759308, 0.009494196623563766, 0.0009494196274317801, 0.0037976785097271204, 0.03417910635471344, 0.16045191884040833, 0.2534950375556946, 0.03133084997534752, 0.0018988392548635602, 0.9131349325180054, 0.0859161764383316, 0.04909495636820793, 0.7732455730438232, 0.07364244014024734, 0.0017353057628497481, 0.010411834344267845, 0.0008676528814248741, 0.15270690619945526, 0.0017353057628497481, 0.3236345052719116, 0.0034706115256994963, 0.0008676528814248741, 0.0008676528814248741, 0.0017353057628497481, 0.0008676528814248741, 0.13275088369846344, 0.0850299820303917, 0.282854825258255, 0.06915006041526794, 0.05186254903674126, 0.8470882773399353, 0.017287515103816986, 0.03562904894351959, 0.08709322661161423, 0.023752698674798012, 0.079175665974617, 0.08313444256782532, 0.03760844096541405, 0.01385574135929346, 0.005938174668699503, 0.011876349337399006, 0.059381745755672455, 0.38598135113716125, 0.01583513244986534, 0.06531991809606552, 0.05542296543717384, 0.043546613305807114, 0.0641779750585556, 0.020702572539448738, 0.0020702574402093887, 0.060037463903427124, 0.8384542465209961, 0.0020702574402093887, 0.0041405148804187775, 0.006210771854966879, 0.03764555603265762, 0.0023528472520411015, 0.0023528472520411015, 0.9387860298156738, 0.004705694504082203, 0.01176423579454422, 0.9839912056922913, 0.007288823835551739, 0.9818259477615356, 0.05729001387953758, 0.10980585962533951, 0.019096670672297478, 0.023870838806033134, 0.004774167668074369, 0.5108359456062317, 0.009548335336148739, 0.25780507922172546, 0.44559818506240845, 0.0050636157393455505, 0.0025318078696727753, 0.060763388872146606, 0.12659040093421936, 0.0025318078696727753, 0.010127231478691101, 0.18229016661643982, 0.0050636157393455505, 0.012659039348363876, 0.13924942910671234, 0.0050636157393455505, 0.8116232752799988, 0.16232465207576752, 0.0630747601389885, 0.0021749918814748526, 0.013049950823187828, 0.00869996752589941, 0.5850728154182434, 0.00869996752589941, 0.02392490953207016, 0.14137446880340576, 0.0021749918814748526, 0.06524975597858429, 0.0608997717499733, 0.004349983762949705, 0.0021749918814748526, 0.019574925303459167, 0.5646661520004272, 0.038210488855838776, 0.11887708306312561, 0.004245609976351261, 0.004245609976351261, 0.004245609976351261, 0.08066658675670624, 0.06368415057659149, 0.025473659858107567, 0.008491219952702522, 0.08915781229734421, 0.273255854845047, 0.034638065844774246, 0.6157878637313843, 0.0038486740086227655, 0.05003276467323303, 0.0038486740086227655, 0.0038486740086227655, 0.015394696034491062, 0.8804146647453308, 0.02870917320251465, 0.04465871304273605, 0.003189908107742667, 0.006379816215485334, 0.02870917320251465, 0.003189908107742667, 0.02899351716041565, 0.02899351716041565, 0.004832252860069275, 0.06281928718090057, 0.16912885010242462, 0.11114181578159332, 0.5895348787307739, 0.012986592017114162, 0.030302047729492188, 0.0086577283218503, 0.0086577283218503, 0.8311418890953064, 0.0086577283218503, 0.025973184034228325, 0.021644320338964462, 0.0086577283218503, 0.030302047729492188, 0.00432886416092515, 0.012986592017114162, 0.9486812353134155, 0.9680701494216919, 0.7165490388870239, 0.014189089648425579, 0.0070945448242127895, 0.24830907583236694, 0.910205066204071, 0.015220778062939644, 0.5163356065750122, 0.02458740957081318, 0.03980818763375282, 0.0023416581097990274, 0.023416580632328987, 0.0714205726981163, 0.0011708290548995137, 0.007024974562227726, 0.03863735869526863, 0.016391607001423836, 0.0023416581097990274, 0.021074922755360603, 0.07610388845205307, 0.145182803273201, 0.05266406014561653, 0.05266406014561653, 0.005266406107693911, 0.16852499544620514, 0.005266406107693911, 0.0684632807970047, 0.010532812215387821, 0.005266406107693911, 0.08426249772310257, 0.07372968643903732, 0.44237810373306274, 0.03159843757748604, 0.9842022657394409, 0.0071104285307228565, 0.84614098072052, 0.02488650009036064, 0.008295499719679356, 0.0011850714217871428, 0.05332821607589722, 0.008295499719679356, 0.0023701428435742855, 0.014220857061445713, 0.004740285687148571, 0.013035785406827927, 0.009480571374297142, 0.0011850714217871428, 0.005925357341766357, 0.9310130476951599, 0.03944970667362213, 0.02366982214152813, 0.8716663122177124, 0.05127448961138725, 0.02866978384554386, 0.9317679405212402, 0.02866978384554386, 0.9542157649993896, 0.012010108679533005, 0.9728188514709473, 0.003038430353626609, 0.2430744171142578, 0.006076860707253218, 0.42841866612434387, 0.02126901224255562, 0.006076860707253218, 0.09722977131605148, 0.030384302139282227, 0.018230581656098366, 0.009115290828049183, 0.1093834936618805, 0.027345873415470123, 0.836707592010498, 0.09102524071931839, 0.0032509013544768095, 0.23081399500370026, 0.029258111491799355, 0.03901081532239914, 0.022756310179829597, 0.0032509013544768095, 0.013003605417907238, 0.006501802708953619, 0.0747707337141037, 0.4811334013938904, 0.006501802708953619, 0.08719799667596817, 0.006228427868336439, 0.0031142139341682196, 0.034256353974342346, 0.473360538482666, 0.006228427868336439, 0.043598998337984085, 0.0031142139341682196, 0.031142139807343483, 0.12768277525901794, 0.0934264212846756, 0.0031142139341682196, 0.08408378064632416, 0.051648449152708054, 0.07747267186641693, 0.014346791431307793, 0.19511637091636658, 0.021520188078284264, 0.024389546364545822, 0.045909732580184937, 0.0688645988702774, 0.005738716572523117, 0.008608074858784676, 0.022954866290092468, 0.010042754001915455, 0.06742992252111435, 0.12481708824634552, 0.2596769332885742, 0.0703561082482338, 0.04903607815504074, 0.2068043202161789, 0.03198004886507988, 0.07248811423778534, 0.19188030064105988, 0.012792020104825497, 0.0469040721654892, 0.10020415484905243, 0.02771604247391224, 0.05969609320163727, 0.042640067636966705, 0.021320033818483353, 0.03624405711889267, 0.025584040209650993, 0.027288196608424187, 0.955086886882782, 0.9054275751113892, 0.07544902712106705, 0.7167657613754272, 0.037724513560533524, 0.037724513560533524, 0.11317354440689087, 0.012574837543070316, 0.09832825511693954, 0.003277608659118414, 0.003277608659118414, 0.08194021135568619, 0.009832825511693954, 0.006555217318236828, 0.009832825511693954, 0.07210738956928253, 0.2785967290401459, 0.009832825511693954, 0.42281150817871094, 0.07167278975248337, 0.8600735068321228, 0.035836394876241684, 0.9558397531509399, 0.017294801771640778, 0.7609713077545166, 0.161418154835701, 0.04611947014927864, 0.04645034298300743, 0.04645034298300743, 0.8825564980506897, 0.9546177983283997, 0.8317422270774841, 0.07426270097494125, 0.014852539636194706, 0.059410158544778824, 0.0015223295195028186, 0.21312613785266876, 0.035013578832149506, 0.024357272312045097, 0.06698250025510788, 0.028924260288476944, 0.26640766859054565, 0.06089318171143532, 0.004566988442093134, 0.013700965791940689, 0.05023687332868576, 0.038058239966630936, 0.018267953768372536, 0.17811255156993866, 0.007018213625997305, 0.06316392123699188, 0.0491274930536747, 0.007018213625997305, 0.8211309909820557, 0.007018213625997305, 0.007018213625997305, 0.021054640412330627, 0.007018213625997305, 0.14175865054130554, 0.03998320922255516, 0.06906190514564514, 0.03453095257282257, 0.2907869815826416, 0.01999160461127758, 0.07451416552066803, 0.00908709317445755, 0.0181741863489151, 0.01635676808655262, 0.09268835186958313, 0.0908709317445755, 0.0181741863489151, 0.04543546587228775, 0.03816579282283783, 0.10870044678449631, 0.012077827006578445, 0.20532307028770447, 0.4891520142555237, 0.006038913503289223, 0.02415565401315689, 0.018116740509867668, 0.030194567516446114, 0.006038913503289223, 0.030194567516446114, 0.07246696203947067, 0.9766988754272461, 0.010069060139358044, 0.9541506767272949, 0.021620284765958786, 0.9729128479957581, 0.002162028569728136, 0.004430269356817007, 0.022151347249746323, 0.008860538713634014, 0.026581617072224617, 0.022151347249746323, 0.013290808536112309, 0.044302694499492645, 0.004430269356817007, 0.031011885032057762, 0.09303565323352814, 0.7088431119918823, 0.004430269356817007, 0.013290808536112309, 0.055216286331415176, 0.004247406963258982, 0.5733999013900757, 0.1146799847483635, 0.004247406963258982, 0.05946369469165802, 0.004247406963258982, 0.1826384961605072, 0.07713017612695694, 0.8998520374298096, 0.050056785345077515, 0.30845803022384644, 0.004058658145368099, 0.03517504036426544, 0.0013528860872611403, 0.01758752018213272, 0.35851481556892395, 0.0013528860872611403, 0.009470202960073948, 0.0013528860872611403, 0.029763493686914444, 0.009470202960073948, 0.0013528860872611403, 0.024351950734853745, 0.14475882053375244, 0.01618792861700058, 0.6960809230804443, 0.11331550031900406, 0.04856378585100174, 0.01618792861700058, 0.03237585723400116, 0.04856378585100174, 0.962794840335846, 0.023482801392674446, 0.48453640937805176, 0.0027069072239100933, 0.005413814447820187, 0.06496577709913254, 0.021655257791280746, 0.10827629268169403, 0.008120722137391567, 0.07579340040683746, 0.013534536585211754, 0.16512134671211243, 0.048724330961704254, 0.05806378275156021, 0.025108661502599716, 0.0015692913439124823, 0.04707873985171318, 0.16163700819015503, 0.0031385826878249645, 0.20714646577835083, 0.06904882192611694, 0.006277165375649929, 0.010985040105879307, 0.09258819371461868, 0.040801577270030975, 0.045509450137615204, 0.05806378275156021, 0.1694834679365158, 0.12175922840833664, 0.004870369099080563, 0.8474442362785339, 0.01948147639632225, 0.004870369099080563, 0.9374393820762634, 0.9544365406036377, 0.947771430015564, 0.34728768467903137, 0.00361758004873991, 0.03979337960481644, 0.49379968643188477, 0.001808790024369955, 0.04160217195749283, 0.001808790024369955, 0.06692522764205933, 0.001808790024369955, 0.2018977552652359, 0.013765756040811539, 0.020648634061217308, 0.0045885853469371796, 0.5368644595146179, 0.01606004871428013, 0.03900297358632088, 0.15142330527305603, 0.013765756040811539, 0.9404629468917847, 0.9521267414093018, 0.8739017248153687, 0.015067270956933498, 0.10547089576721191, 0.9768915176391602, 0.9698013067245483, 0.9697707891464233, 0.937667727470398, 0.36594924330711365, 0.004752587527036667, 0.20436125993728638, 0.4134751260280609, 0.9336013793945312, 0.5908044576644897, 0.006218994501978159, 0.38557764887809753, 0.006218994501978159, 0.8457000255584717, 0.1335315853357315, 0.9865896701812744, 0.9730604887008667, 0.9403703808784485, 0.3526836633682251, 0.03134965896606445, 0.5251067876815796, 0.02351224422454834, 0.04702448844909668, 0.9518218636512756, 0.1988837867975235, 0.004058852791786194, 0.012176558375358582, 0.05276508629322052, 0.04058852791786194, 0.028411969542503357, 0.004058852791786194, 0.07711820304393768, 0.2557077407836914, 0.056823939085006714, 0.07305935025215149, 0.16641296446323395, 0.004058852791786194, 0.02029426395893097, 0.008117705583572388, 0.07406691461801529, 0.05507539585232735, 0.03798303380608559, 0.041781336069107056, 0.04368048906326294, 0.1595287322998047, 0.24878886342048645, 0.0075966063886880875, 0.024688970297574997, 0.028487274423241615, 0.03988218307495117, 0.024688970297574997, 0.011394909583032131, 0.0721677616238594, 0.12914231419563293, 0.013707770965993404, 0.3720680773258209, 0.009791265241801739, 0.08616313338279724, 0.003916506189852953, 0.1517646163702011, 0.14588984847068787, 0.0009791265474632382, 0.0019582530949264765, 0.003916506189852953, 0.009791265241801739, 0.009791265241801739, 0.17428451776504517, 0.015666024759411812, 0.15653380751609802, 0.7304911017417908, 0.07826690375804901, 0.018871886655688286, 0.003145314520224929, 0.003145314520224929, 0.03145314380526543, 0.006290629040449858, 0.09435943514108658, 0.5315581560134888, 0.04403440281748772, 0.003145314520224929, 0.12266726791858673, 0.009435943327844143, 0.05661566182971001, 0.07234223186969757, 0.30756500363349915, 0.007186098024249077, 0.012934976257383823, 0.07186097651720047, 0.012934976257383823, 0.0057488782331347466, 0.0028744391165673733, 0.16959190368652344, 0.010060536675155163, 0.2975044548511505, 0.08479595184326172, 0.010060536675155163, 0.004311658907681704, 0.0014372195582836866, 0.9508451819419861, 0.7736994028091431, 0.11658483743667603, 0.0423944853246212, 0.052993107587099075, 0.9486711621284485, 0.025639761239290237, 0.21706077456474304, 0.3164379894733429, 0.007845570333302021, 0.03661266341805458, 0.010460760444402695, 0.3059772551059723, 0.010460760444402695, 0.02092152088880539, 0.031382281333208084, 0.04445823282003403, 0.0393473282456398, 0.9574517011642456, 0.8964390754699707, 0.044821951538324356, 0.029881302267313004, 0.007470325566828251, 0.007470325566828251, 0.007470325566828251, 0.978884220123291, 0.02216191217303276, 0.9640432000160217, 0.9173701405525208, 0.01118744071573019, 0.01118744071573019, 0.02237488143146038, 0.02237488143146038, 0.12865611910820007, 0.8070247173309326, 0.011696010828018188, 0.011696010828018188, 0.035088032484054565, 0.9632209539413452, 0.9273197650909424, 0.01218660082668066, 0.12051193416118622, 0.008124399930238724, 0.15436360239982605, 0.05416266992688179, 0.0907224714756012, 0.1597798764705658, 0.13540667295455933, 0.04062199965119362, 0.004062199965119362, 0.0013540666550397873, 0.056870803236961365, 0.08936840295791626, 0.07176553457975388, 0.04604055732488632, 0.7481590509414673, 0.20142744481563568, 0.8912752866744995, 0.05570470541715622, 0.9381446838378906, 0.1659054160118103, 0.01990864984691143, 0.3849005699157715, 0.05308973416686058, 0.01659054309129715, 0.11945190280675888, 0.04645351693034172, 0.013272433541715145, 0.02986297570168972, 0.0066362167708575726, 0.12940622866153717, 0.013272433541715145, 0.2927878201007843, 0.0015409885672852397, 0.016950873658061028, 0.17104972898960114, 0.010786919854581356, 0.03852471336722374, 0.04622965678572655, 0.0015409885672852397, 0.00770494295284152, 0.0030819771345704794, 0.08475437015295029, 0.3174436390399933, 0.00770494295284152, 0.015499129891395569, 0.030998259782791138, 0.9299477934837341, 0.015499129891395569, 0.1669483780860901, 0.01615629531443119, 0.0013463578652590513, 0.0067317895591259, 0.05654703080654144, 0.01615629531443119, 0.009424504823982716, 0.02154172584414482, 0.059239745140075684, 0.03231259062886238, 0.42544910311698914, 0.1211722120642662, 0.05250795558094978, 0.004039073828607798, 0.009424504823982716, 0.9261990189552307, 0.03859162703156471, 0.009314748458564281, 0.009314748458564281, 0.8662716150283813, 0.10246223211288452, 0.913260817527771, 0.05370540916919708, 0.9129919409751892, 0.9314273595809937, 0.8366222977638245, 0.0023767678067088127, 0.011883839964866638, 0.06417272984981537, 0.076056569814682, 0.0071303038857877254, 0.9599952697753906, 0.03555538132786751, 0.9847984313964844, 0.8794873356819153, 0.1461777687072754, 0.0262791495770216, 0.014782021753489971, 0.059128087013959885, 0.10840149223804474, 0.004927340429276228, 0.07226765900850296, 0.0032848936971277, 0.0032848936971277, 0.0640554279088974, 0.16424468159675598, 0.02792159654200077, 0.009854680858552456, 0.27100372314453125, 0.022994255647063255, 0.00317962933331728, 0.00635925866663456, 0.00953888799995184, 0.17805923521518707, 0.03179629147052765, 0.7662906646728516, 0.00317962933331728, 0.5661083459854126, 0.002032704884186387, 0.034555982798337936, 0.3618214726448059, 0.006098114885389805, 0.0010163524420931935, 0.0010163524420931935, 0.0010163524420931935, 0.0030490574426949024, 0.006098114885389805, 0.015245286747813225, 0.011478143744170666, 0.8353537917137146, 0.052289318293333054, 0.001275349291972816, 0.005101397167891264, 0.02423163503408432, 0.025506984442472458, 0.001275349291972816, 0.011478143744170666, 0.003826047759503126, 0.005101397167891264, 0.003826047759503126, 0.007652095519006252, 0.001275349291972816, 0.00892744492739439, 0.02410697005689144, 0.6026742458343506, 0.06749951839447021, 0.043392546474933624, 0.014464182779192924, 0.009642788209021091, 0.02892836555838585, 0.0578567311167717, 0.03374975919723511, 0.004821394104510546, 0.10607066750526428, 0.0027892612852156162, 0.013946306891739368, 0.050206705927848816, 0.08367784321308136, 0.8200428485870361, 0.0055785225704312325, 0.013946306891739368, 0.06482086330652237, 0.9074920415878296, 0.012389248237013817, 0.006194624118506908, 0.012389248237013817, 0.012389248237013817, 0.9477774500846863, 0.006194624118506908, 0.8976920247077942, 0.04488459974527359, 0.022442299872636795, 0.005748347379267216, 0.05173512548208237, 0.816265344619751, 0.08622521162033081, 0.005748347379267216, 0.011496694758534431, 0.017245041206479073, 0.015197721309959888, 0.026596011593937874, 0.026596011593937874, 0.003799430327489972, 0.8054792284965515, 0.04179373383522034, 0.05699145421385765, 0.011398290283977985, 0.011398290283977985, 0.08518366515636444, 0.012169095687568188, 0.003042273921892047, 0.24642418324947357, 0.05476092919707298, 0.04259183257818222, 0.13081777095794678, 0.015211368910968304, 0.003042273921892047, 0.030422737821936607, 0.3103119432926178, 0.024338191375136375, 0.018253643065690994, 0.02738046459853649, 0.8275147080421448, 0.003336752764880657, 0.15349063277244568, 0.013347011059522629, 0.0572427436709404, 0.6678320169448853, 0.2289709746837616, 0.019080914556980133, 0.03041532076895237, 0.020276881754398346, 0.025346102192997932, 0.025346102192997932, 0.035484541207551956, 0.17235349118709564, 0.1115228459239006, 0.06589986383914948, 0.4866451323032379, 0.020276881754398346, 0.0050692204385995865, 0.0009708533179946244, 0.21261687576770782, 0.0009708533179946244, 0.009708533063530922, 0.5349401831626892, 0.004854266531765461, 0.17184104025363922, 0.04465925320982933, 0.0009708533179946244, 0.013591946102678776, 0.0009708533179946244, 0.0038834132719784975, 0.0009708533179946244, 0.03033214993774891, 0.003568488173186779, 0.0053527322597801685, 0.057095810770988464, 0.04103761538863182, 0.08921220898628235, 0.007136976346373558, 0.6512491106987, 0.11062313616275787, 0.0053527322597801685, 0.006087546702474356, 0.00913131982088089, 0.012175093404948711, 0.003043773351237178, 0.00913131982088089, 0.06087546423077583, 0.06087546423077583, 0.465697318315506, 0.06087546423077583, 0.22523921728134155, 0.08218187838792801, 0.003043773351237178, 0.9469193816184998, 0.951687216758728, 0.02460573799908161, 0.08919580280780792, 0.0399843230843544, 0.006151434499770403, 0.11072582006454468, 0.018454303964972496, 0.021530020982027054, 0.0599764883518219, 0.053825054317712784, 0.2368302345275879, 0.04767361655831337, 0.10765010863542557, 0.06766577810049057, 0.09688509255647659, 0.018454303964972496, 0.11291707307100296, 0.09140905737876892, 0.0537700355052948, 0.0537700355052948, 0.3871442675590515, 0.01613100990653038, 0.05108153447508812, 0.01881951279938221, 0.01613100990653038, 0.0268850177526474, 0.06452403962612152, 0.03763902559876442, 0.0053770034573972225, 0.05914703756570816, 0.00806550495326519, 0.8518446087837219, 0.9626668095588684, 0.18556427955627441, 0.7886481881141663, 0.9475499391555786, 0.0037135581951588392, 0.6090235710144043, 0.0037135581951588392, 0.1596830040216446, 0.17453724145889282, 0.044562701135873795, 0.0026104263961315155, 0.0013052131980657578, 0.22580187022686005, 0.0013052131980657578, 0.0013052131980657578, 0.019578197970986366, 0.6669639348983765, 0.07831279188394547, 0.929539680480957, 0.027182234451174736, 0.05776224657893181, 0.06455780565738678, 0.006795558612793684, 0.07814892381429672, 0.003397779306396842, 0.003397779306396842, 0.2174578756093979, 0.5402469038963318, 0.003397779306396842, 0.0023679924197494984, 0.016575947403907776, 0.12076761573553085, 0.004735984839498997, 0.01183996256440878, 0.03315189480781555, 0.7767015099525452, 0.0023679924197494984, 0.01183996256440878, 0.016575947403907776, 0.0023679924197494984, 0.0018895459361374378, 0.04157001152634621, 0.009447730146348476, 0.007558183744549751, 0.9145402312278748, 0.0056686378084123135, 0.0018895459361374378, 0.017005912959575653, 0.9848031997680664, 0.9466874003410339, 0.9033811092376709, 0.9207140207290649, 0.9102076888084412, 0.9498842358589172, 0.9048205018043518, 0.028394168242812157, 0.5230504870414734, 0.0388551764190197, 0.020922018215060234, 0.004483289550989866, 0.04184403643012047, 0.11507110297679901, 0.005977719556540251, 0.007472149562090635, 0.01643872819840908, 0.10461009293794632, 0.004483289550989866, 0.004483289550989866, 0.05529390648007393, 0.028394168242812157, 0.13922594487667084, 0.10237201303243637, 0.024569284170866013, 0.004094880539923906, 0.5077651739120483, 0.004094880539923906, 0.03275904431939125, 0.004094880539923906, 0.03275904431939125, 0.11875153332948685, 0.004094880539923906, 0.024569284170866013, 0.004094880539923906, 0.36961203813552856, 0.003132305573672056, 0.018793832510709763, 0.3884058892726898, 0.21612907946109772, 0.020070817321538925, 0.005017704330384731, 0.045159339904785156, 0.9132221937179565, 0.010035408660769463, 0.9139066338539124, 0.043519362807273865, 0.19018347561359406, 0.007409745827317238, 0.033343855291604996, 0.001234957599081099, 0.012349575757980347, 0.004939830396324396, 0.06915763020515442, 0.10003156960010529, 0.1259656846523285, 0.007409745827317238, 0.4458197057247162, 0.15085874497890472, 0.00342860771343112, 0.03771468624472618, 0.01371443085372448, 0.00342860771343112, 0.05485772341489792, 0.03771468624472618, 0.5760061144828796, 0.05485772341489792, 0.06514354795217514, 0.9476191401481628, 0.15814991295337677, 0.029993949458003044, 0.029993949458003044, 0.002726722741499543, 0.002726722741499543, 0.19905075430870056, 0.16905680298805237, 0.002726722741499543, 0.024540504440665245, 0.3762877285480499, 0.047778040170669556, 0.11148209869861603, 0.70074462890625, 0.01592601276934147, 0.07963006943464279, 0.03185202553868294, 0.01592601276934147, 0.9183548092842102, 0.1606343388557434, 0.8120958209037781, 0.017848260700702667, 0.09795400500297546, 0.006873965263366699, 0.06530267000198364, 0.024058878421783447, 0.11342042684555054, 0.013747930526733398, 0.013747930526733398, 0.09795400500297546, 0.017184913158416748, 0.020621895790100098, 0.13060534000396729, 0.16669365763664246, 0.012029439210891724, 0.034369826316833496, 0.18559706211090088, 0.9749134182929993, 0.005478088278323412, 0.0018260295037180185, 0.0018260295037180185, 0.007304118014872074, 0.0018260295037180185, 0.08034529536962509, 0.8509297370910645, 0.003652059007436037, 0.04565073549747467, 0.11441250145435333, 0.004086160566657782, 0.05312009155750275, 0.04903392866253853, 0.0960247814655304, 0.024516964331269264, 0.059249330312013626, 0.04290468990802765, 0.008172321133315563, 0.32076361775398254, 0.08989553898572922, 0.03268928453326225, 0.04903392866253853, 0.057206250727176666, 0.011206158436834812, 0.011206158436834812, 0.9637296199798584, 0.13831228017807007, 0.05532491207122803, 0.010059074498713017, 0.022632919251918793, 0.09053167700767517, 0.007544306106865406, 0.005029537249356508, 0.037721529603004456, 0.047780606895685196, 0.027662456035614014, 0.13076797127723694, 0.30680179595947266, 0.09556121379137039, 0.020118148997426033, 0.007544306106865406, 0.012852170504629612, 0.0021420284174382687, 0.5719215869903564, 0.047124624252319336, 0.008568113669753075, 0.010710141621530056, 0.014994198456406593, 0.004284056834876537, 0.0021420284174382687, 0.05140868201851845, 0.267753541469574, 0.9252504110336304, 0.8532677292823792, 0.009475511498749256, 0.23688778281211853, 0.021658312529325485, 0.02571924589574337, 0.00812186673283577, 0.33299654722213745, 0.054145779460668564, 0.2098148912191391, 0.014890089631080627, 0.004060933366417885, 0.018951022997498512, 0.021658312529325485, 0.014890089631080627, 0.027072889730334282, 0.9735915064811707, 0.02482033520936966, 0.6039614677429199, 0.014478528872132301, 0.06825591623783112, 0.02688869647681713, 0.03723050281405449, 0.03516213968396187, 0.016546890139579773, 0.004136722534894943, 0.004136722534894943, 0.008273445069789886, 0.022751973941922188, 0.016546890139579773, 0.03929886221885681, 0.07239264249801636, 0.8979125022888184, 0.05986083298921585, 0.037725381553173065, 0.9054091572761536, 0.8922203779220581, 0.9376789331436157, 0.14245253801345825, 0.8547151684761047, 0.048934292048215866, 0.02936057560145855, 0.5480640530586243, 0.014680287800729275, 0.019573716446757317, 0.03914743289351463, 0.019573716446757317, 0.019573716446757317, 0.03914743289351463, 0.03425400331616402, 0.09297515451908112, 0.019573716446757317, 0.009786858223378658, 0.0587211512029171, 0.03356397897005081, 0.9397913813591003, 0.33298638463020325, 0.003040971467271447, 0.009122914634644985, 0.003040971467271447, 0.0912291407585144, 0.0015204857336357236, 0.0015204857336357236, 0.009122914634644985, 0.10643400251865387, 0.0015204857336357236, 0.06538088619709015, 0.025848256424069405, 0.2508801519870758, 0.016725342720746994, 0.0851472020149231, 0.022806229069828987, 0.0028507786337286234, 0.9635631442070007, 0.00855233520269394, 0.01778298057615757, 0.6935362219810486, 0.07113192230463028, 0.02667446993291378, 0.08002341538667679, 0.008891490288078785, 0.07113192230463028, 0.02667446993291378, 0.8913601040840149, 0.03096230886876583, 0.010320769622921944, 0.06708500534296036, 0.06192461773753166, 0.7379350066184998, 0.07740577310323715, 0.005160384811460972, 0.49314406514167786, 0.49314406514167786, 0.0032658549025654793, 0.0065317098051309586, 0.9543180465698242, 0.008093283511698246, 0.008093283511698246, 0.9711940288543701, 0.9413709044456482, 0.9251832962036133, 0.9611791372299194, 0.002396955620497465, 0.01677868887782097, 0.014381732791662216, 0.002396955620497465, 0.006291620898991823, 0.002097206888720393, 0.002097206888720393, 0.11744358390569687, 0.002097206888720393, 0.002097206888720393, 0.7424112558364868, 0.006291620898991823, 0.027263689786195755, 0.0880826860666275, 0.002097206888720393, 0.002097206888720393, 0.02780730463564396, 0.01390365231782198, 0.06256643682718277, 0.024331392720341682, 0.031283218413591385, 0.0868978276848793, 0.41710957884788513, 0.003475913079455495, 0.04171095788478851, 0.12165696173906326, 0.08342191576957703, 0.05561460927128792, 0.003475913079455495, 0.02780730463564396, 0.8513234853744507, 0.0016246631275862455, 0.0016246631275862455, 0.006498652510344982, 0.016246631741523743, 0.10560310631990433, 0.00487398961558938, 0.0016246631275862455, 0.00487398961558938, 0.006498652510344982, 0.023304874077439308, 0.046609748154878616, 0.9088901281356812, 0.9927651286125183, 0.03758537769317627, 0.07517075538635254, 0.8832563161849976, 0.5427021980285645, 0.0031552454456686974, 0.05363917350769043, 0.018931472674012184, 0.034707698971033096, 0.031552452594041824, 0.183004230260849, 0.009465736337006092, 0.11989932507276535, 0.9799935817718506, 0.9464902877807617, 0.7662782669067383, 0.005057942122220993, 0.04805045202374458, 0.13150650262832642, 0.0025289710611104965, 0.0025289710611104965, 0.03540559485554695, 0.0075869131833314896, 0.01891424134373665, 0.4642586410045624, 0.006877905689179897, 0.02579214610159397, 0.013755811378359795, 0.04642586410045624, 0.21321506798267365, 0.012036334723234177, 0.0017194764222949743, 0.03610900416970253, 0.013755811378359795, 0.020633716136217117, 0.06362062692642212, 0.04642586410045624, 0.01719476468861103, 0.0032111427281051874, 0.3692814111709595, 0.47846025228500366, 0.03532256931066513, 0.019266856834292412, 0.009633428417146206, 0.08027856796979904, 0.0032111427281051874, 0.9467202425003052, 0.9295626282691956, 0.945139467716217, 0.06366460025310516, 0.007958075031638145, 0.023874225094914436, 0.14324535429477692, 0.6048136949539185, 0.13528726994991302, 0.007958075031638145, 0.04669155925512314, 0.024719061329960823, 0.07690374553203583, 0.005493124946951866, 0.0164793748408556, 0.10986249893903732, 0.010986249893903732, 0.019225936383008957, 0.670161247253418, 0.0082396874204278, 0.0082396874204278, 0.9764555096626282, 0.030301660299301147, 0.015150830149650574, 0.015150830149650574, 0.6893627643585205, 0.015150830149650574, 0.037877075374126434, 0.18938538432121277, 0.5011705160140991, 0.45218390226364136, 0.030145592987537384, 0.007536398246884346, 0.003768199123442173, 0.9366400241851807, 0.02401641011238098, 0.985923707485199, 0.08569727092981339, 0.10712159425020218, 0.0720636174082756, 0.06037762388586998, 0.0019476652378216386, 0.0019476652378216386, 0.007790660951286554, 0.0019476652378216386, 0.005842995829880238, 0.12659823894500732, 0.003895330475643277, 0.021424317732453346, 0.5005499720573425, 0.2215861678123474, 0.05539654195308685, 0.011079308576881886, 0.7090757489204407, 0.015566443093121052, 0.0017296047881245613, 0.0017296047881245613, 0.008648023940622807, 0.05707696080207825, 0.866532027721405, 0.0017296047881245613, 0.04669933021068573, 0.9463890790939331, 0.012456913478672504, 0.9716392159461975, 0.8185167908668518, 0.0035129478201270103, 0.10011900961399078, 0.008782369084656239, 0.0017564739100635052, 0.0035129478201270103, 0.0035129478201270103, 0.05796363577246666, 0.9539550542831421, 0.9555121064186096, 0.04126394912600517, 0.7977696657180786, 0.013754649087786674, 0.06877324730157852, 0.0550185963511467, 0.9636603593826294, 0.9019004702568054, 0.06442146003246307, 0.978697657585144, 0.13359592854976654, 0.0038170265033841133, 0.2900940179824829, 0.015268106013536453, 0.0400787778198719, 0.0019085132516920567, 0.07824904471635818, 0.10496822744607925, 0.0038170265033841133, 0.015268106013536453, 0.02671918459236622, 0.04580431804060936, 0.1984853744506836, 0.038170263171195984, 0.0038170265033841133, 0.03638581559062004, 0.9460311532020569, 0.062523752450943, 0.0007355735870078206, 0.0007355735870078206, 0.0007355735870078206, 0.02353835478425026, 0.006620162166655064, 0.8973997831344604, 0.004413441754877567, 0.0007355735870078206, 0.0007355735870078206, 0.0007355735870078206, 0.061235520988702774, 0.061235520988702774, 0.826679527759552, 0.9712982773780823, 0.010179230943322182, 0.005089615471661091, 0.9772061705589294, 0.9677245616912842, 0.914156973361969, 0.9671811461448669, 0.005886440631002188, 0.5650982856750488, 0.005886440631002188, 0.1098802238702774, 0.001962146954610944, 0.1412745714187622, 0.0392429381608963, 0.003924293909221888, 0.001962146954610944, 0.001962146954610944, 0.005886440631002188, 0.05886440724134445, 0.05886440724134445, 0.8866496682167053, 0.07388747483491898, 0.9517073035240173, 0.04262387007474899, 0.020577041432261467, 0.06761027872562408, 0.03380513936281204, 0.10288520157337189, 0.08524774014949799, 0.01910725235939026, 0.17049548029899597, 0.0029395772144198418, 0.0058791544288396835, 0.11464351415634155, 0.1763746440410614, 0.023516617715358734, 0.024986406788229942, 0.10876435786485672, 0.017143914476037025, 0.46288567781448364, 0.011429276317358017, 0.04571710526943207, 0.06571833789348602, 0.34002095460891724, 0.054289061576128006, 0.0028573190793395042, 0.035056665539741516, 0.0070113325491547585, 0.035056665539741516, 0.049079328775405884, 0.014022665098309517, 0.02103399857878685, 0.2068343162536621, 0.31901565194129944, 0.1717776507139206, 0.1297096610069275, 0.0070113325491547585, 0.0035056662745773792, 0.9690430760383606, 0.02064376510679722, 0.006881255190819502, 0.006881255190819502, 0.027525020763278008, 0.03440627455711365, 0.061931297183036804, 0.006881255190819502, 0.006881255190819502, 0.006881255190819502, 0.027525020763278008, 0.7294130325317383, 0.006881255190819502, 0.048168785870075226, 0.05376150459051132, 0.006720188073813915, 0.12992364168167114, 0.01792050153017044, 0.08512238413095474, 0.002240062691271305, 0.002240062691271305, 0.09184256941080093, 0.02240062691271305, 0.002240062691271305, 0.3875308334827423, 0.0963226929306984, 0.00896025076508522, 0.01568043977022171, 0.07616212964057922, 0.9254312515258789, 0.9285202622413635, 0.3101644217967987, 0.0017723682103678584, 0.0762118324637413, 0.015951313078403473, 0.14356182515621185, 0.010634209029376507, 0.05317104607820511, 0.017723681405186653, 0.008861840702593327, 0.031902626156806946, 0.19673286378383636, 0.033674996346235275, 0.0017723682103678584, 0.09748025238513947, 0.003544736420735717, 0.04888271167874336, 0.018331017345190048, 0.539237380027771, 0.044299956411123276, 0.013748262077569962, 0.016803432255983353, 0.09012749791145325, 0.00152758473996073, 0.00152758473996073, 0.022913770750164986, 0.0717964842915535, 0.044299956411123276, 0.010693092830479145, 0.07637923955917358, 0.9799413084983826, 0.007367979735136032, 0.933174729347229, 0.15367603302001953, 0.015897521749138832, 0.021196695044636726, 0.002649586880579591, 0.8001752495765686, 0.9373470544815063, 0.9169309139251709, 0.8020074367523193, 0.16337189078330994, 0.9081268310546875, 0.9781278967857361, 0.9339668154716492, 0.04830862954258919, 0.00754031166434288, 0.9877808094024658, 0.02484583668410778, 0.22361253201961517, 0.018634377047419548, 0.006211459171026945, 0.09938334673643112, 0.6025115251541138, 0.006211459171026945, 0.013390246778726578, 0.013390246778726578, 0.11158538609743118, 0.004463415592908859, 0.04017074033617973, 0.013390246778726578, 0.013390246778726578, 0.08480489253997803, 0.026780493557453156, 0.008926831185817719, 0.022317077964544296, 0.026780493557453156, 0.5088293552398682, 0.04463415592908859, 0.07141464948654175, 0.012450139969587326, 0.05229058861732483, 0.012450139969587326, 0.07719086855649948, 0.11952134966850281, 0.04731053486466408, 0.10956123471260071, 0.049800559878349304, 0.009960112161934376, 0.009960112161934376, 0.049800559878349304, 0.3162335753440857, 0.07221081107854843, 0.024900279939174652, 0.03486039116978645, 0.3264686167240143, 0.018895288929343224, 0.0010497382609173656, 0.002099476521834731, 0.055636126548051834, 0.01679581217467785, 0.008397906087338924, 0.004198953043669462, 0.33696597814559937, 0.11757068336009979, 0.043039269745349884, 0.013646597974002361, 0.055636126548051834, 0.0902433916926384, 0.1353650987148285, 0.0451216958463192, 0.7219471335411072, 0.9085699319839478, 0.050476107746362686, 0.013981606811285019, 0.013981606811285019, 0.08388964086771011, 0.04194482043385506, 0.09787125140428543, 0.7410251498222351, 0.005538985598832369, 0.14401362836360931, 0.011077971197664738, 0.07200681418180466, 0.005538985598832369, 0.022155942395329475, 0.005538985598832369, 0.7311460971832275, 0.9845757484436035, 0.26141756772994995, 0.05027260631322861, 0.010054521262645721, 0.020109042525291443, 0.030163563787937164, 0.6233803629875183, 0.9089695811271667, 0.06733108311891556, 0.9338701963424683, 0.06613514572381973, 0.033067572861909866, 0.8597568869590759, 0.06289856135845184, 0.9120291471481323, 0.01572464033961296, 0.8866416811943054, 0.07388680428266525, 0.008356191217899323, 0.8374760150909424, 0.0009284656262025237, 0.0018569312524050474, 0.00742772500962019, 0.0064992597326636314, 0.08820423483848572, 0.00928465649485588, 0.01856931298971176, 0.003713862504810095, 0.0018569312524050474, 0.013926984742283821, 0.002785396995022893, 0.9661813974380493, 0.02557372860610485, 0.9462279677391052, 0.02557372860610485, 0.8648432493209839, 0.09978960454463959, 0.9452670812606812, 0.9560091495513916, 0.9317823052406311, 0.03882426396012306, 0.02396000176668167, 0.8865200281143188, 0.03594000265002251, 0.02396000176668167, 0.011980000883340836, 0.8801994919776917, 0.931771993637085, 0.9861791729927063, 0.9551129341125488, 0.029972121119499207, 0.929135799407959, 0.9405255913734436, 0.02293964847922325, 0.9050621390342712, 0.8918372988700867, 0.03877553343772888, 0.9675968289375305, 0.9645450711250305, 0.9809345006942749, 0.9495097994804382, 0.027128851041197777, 0.569952130317688, 0.2571212649345398, 0.059994958341121674, 0.008570708334445953, 0.06428031623363495, 0.01285606250166893, 0.01285606250166893, 0.01285606250166893, 0.005352621898055077, 0.31045207381248474, 0.008028932847082615, 0.026763109490275383, 0.0026763109490275383, 0.09099457412958145, 0.22481012344360352, 0.008028932847082615, 0.005352621898055077, 0.23016273975372314, 0.0026763109490275383, 0.08296564221382141, 0.9611523747444153, 0.22189976274967194, 0.051207635551691055, 0.6941479444503784, 0.0056897373870015144, 0.0056897373870015144, 0.017069213092327118, 0.9587303400039673, 0.5622090101242065, 0.0025908248499035835, 0.4067595303058624, 0.005181649699807167, 0.0025908248499035835, 0.015544950030744076, 0.0025908248499035835, 0.9177457094192505, 0.02177017740905285, 0.9578877687454224, 0.9347941279411316, 0.1290699541568756, 0.013352064415812492, 0.013352064415812492, 0.004450688138604164, 0.013352064415812492, 0.026704128831624985, 0.7299128770828247, 0.004450688138604164, 0.0623096339404583, 0.9204006791114807, 0.9542463421821594, 0.9821451902389526, 0.9778990745544434, 0.9053962826728821, 0.005144297145307064, 0.005144297145307064, 0.005144297145307064, 0.030865782871842384, 0.04115437716245651, 0.7139148116111755, 0.2748256027698517, 0.007897287607192993, 0.8762056231498718, 0.3760085105895996, 0.010846399702131748, 0.10846399515867233, 0.001807733322493732, 0.001807733322493732, 0.31635332107543945, 0.18077333271503448, 0.08740785717964172, 0.06555589288473129, 0.07575348019599915, 0.016024773940443993, 0.5171631574630737, 0.004370392765849829, 0.016024773940443993, 0.06264229863882065, 0.008740785531699657, 0.04224713146686554, 0.023308761417865753, 0.008740785531699657, 0.023308761417865753, 0.04807432368397713, 0.006682177074253559, 0.040093064308166504, 0.9421869516372681, 0.8369229435920715, 0.01442970521748066, 0.02885941043496132, 0.01442970521748066, 0.04328911751508713, 0.04328911751508713, 0.34564271569252014, 0.008939036168158054, 0.059593573212623596, 0.008939036168158054, 0.5542202591896057, 0.02085775136947632, 0.9372771382331848, 0.033474184572696686, 0.925554633140564, 0.9129418134689331, 0.043473418802022934, 0.8900308012962341, 0.9556816220283508, 0.08632901310920715, 0.0922827422618866, 0.017861176282167435, 0.18158861994743347, 0.0029768627136945724, 0.026791764423251152, 0.03572235256433487, 0.029768627136945724, 0.0654909759759903, 0.40187644958496094, 0.02381490170955658, 0.0029768627136945724, 0.03274548798799515, 0.062148429453372955, 0.04661132022738457, 0.7069383859634399, 0.023305660113692284, 0.14760251343250275, 0.43192386627197266, 0.006290153134614229, 0.012580306269228458, 0.07967527210712433, 0.2872503399848938, 0.04822450876235962, 0.0020967177115380764, 0.012580306269228458, 0.03145076707005501, 0.004193435423076153, 0.07757855951786041, 0.0020967177115380764, 0.006290153134614229, 0.012315299361944199, 0.9605933427810669, 0.012315299361944199, 0.0904524028301239, 0.22047773003578186, 0.002826637588441372, 0.008479912765324116, 0.042399562895298004, 0.17807817459106445, 0.002826637588441372, 0.1865580826997757, 0.1385052502155304, 0.005653275176882744, 0.002826637588441372, 0.11306550353765488, 0.008479912765324116, 0.09939783066511154, 0.06310973316431046, 0.05995424836874008, 0.0583765022456646, 0.07730942219495773, 0.03155486658215523, 0.04417681321501732, 0.07415393739938736, 0.009466459974646568, 0.009466459974646568, 0.1845959722995758, 0.1735517680644989, 0.012621946632862091, 0.03944358229637146, 0.05995424836874008, 0.9258280396461487, 0.03703312203288078, 0.016450541093945503, 0.030844762921333313, 0.00616895267739892, 0.41126349568367004, 0.008225270546972752, 0.002056317636743188, 0.5099667310714722, 0.008225270546972752, 0.004112635273486376, 0.9208312034606934, 0.02261473797261715, 0.749517023563385, 0.006461353972554207, 0.012922707945108414, 0.2035326510667801, 0.9294285178184509, 0.05996313318610191, 0.009404273703694344, 0.040751852095127106, 0.16614216566085815, 0.009404273703694344, 0.04702136665582657, 0.02194330468773842, 0.40751850605010986, 0.009404273703694344, 0.009404273703694344, 0.06896467506885529, 0.07523418962955475, 0.009404273703694344, 0.12852507829666138, 0.04083743691444397, 0.8984236121177673, 0.036435242742300034, 0.0546528659760952, 0.6740520000457764, 0.036435242742300034, 0.07287048548460007, 0.09108810871839523, 0.936375081539154, 0.9474848508834839, 0.01393360085785389, 0.01393360085785389, 0.8296025395393372, 0.009017419070005417, 0.12624385952949524, 0.009017419070005417, 0.018034838140010834, 0.9665405750274658, 0.050295256078243256, 0.737663745880127, 0.0027941809967160225, 0.0027941809967160225, 0.008382542990148067, 0.09779633581638336, 0.013970904983580112, 0.019559266045689583, 0.0027941809967160225, 0.0027941809967160225, 0.013970904983580112, 0.005588361993432045, 0.030735990032553673, 0.008382542990148067, 0.045633215457201004, 0.163519024848938, 0.007605536375194788, 0.163519024848938, 0.011408303864300251, 0.03422491252422333, 0.09506919980049133, 0.3156297504901886, 0.003802768187597394, 0.030422145500779152, 0.09887196868658066, 0.026619376614689827, 0.009234321303665638, 0.05848403647542, 0.015390535816550255, 0.006156214512884617, 0.03078107163310051, 0.021546751260757446, 0.06002309173345566, 0.3739900290966034, 0.004617160651832819, 0.10311659425497055, 0.12004618346691132, 0.05848403647542, 0.08772605657577515, 0.02770296484231949, 0.023085804656147957, 0.9212692379951477, 0.07425370067358017, 0.04527664929628372, 0.0923643633723259, 0.07968690246343613, 0.05070984736084938, 0.016299594193696976, 0.03803238645195961, 0.04165451601147652, 0.11590822041034698, 0.027165988460183144, 0.07244263589382172, 0.09417542815208435, 0.04165451601147652, 0.12134141474962234, 0.08874223381280899, 0.9106826782226562, 0.903207540512085, 0.025089098140597343, 0.025089098140597343, 0.9766148924827576, 0.05375615879893303, 0.1000976711511612, 0.2502441704273224, 0.13531722128391266, 0.09824401140213013, 0.014829284511506557, 0.072292760014534, 0.03151223063468933, 0.007414642255753279, 0.04634151607751846, 0.04634151607751846, 0.0333658903837204, 0.027804909273982048, 0.05931713804602623, 0.025951247662305832, 0.9427095055580139, 0.6709333658218384, 0.23872162401676178, 0.01759001426398754, 0.0050257183611392975, 0.050257183611392975, 0.012564295902848244, 0.0025128591805696487, 0.0025128591805696487, 0.9257479310035706, 0.03257487341761589, 0.06264398992061615, 0.0025057594757527113, 0.47108277678489685, 0.06514974683523178, 0.04760942980647087, 0.005011518951505423, 0.08519582450389862, 0.0075172786600887775, 0.010023037903010845, 0.010023037903010845, 0.04510367289185524, 0.0075172786600887775, 0.02004607580602169, 0.12779372930526733, 0.967461109161377, 0.16205984354019165, 0.8214757442474365, 0.005588270258158445, 0.9616738557815552, 0.07972674071788788, 0.07334860414266586, 0.038268834352493286, 0.0223234873265028, 0.009567208588123322, 0.41776812076568604, 0.012756278738379478, 0.03189069777727127, 0.06378139555454254, 0.028701627627015114, 0.03507976606488228, 0.009567208588123322, 0.1722097545862198, 0.0031890696845948696, 0.9989558458328247, 0.0007782050524838269, 0.035923656076192856, 0.05987275764346123, 0.00399151723831892, 0.027940621599555016, 0.09579641371965408, 0.00798303447663784, 0.09579641371965408, 0.01197455171495676, 0.5787699818611145, 0.06785579770803452, 0.00798303447663784, 0.02327263168990612, 0.02327263168990612, 0.9076326489448547, 0.02327263168990612, 0.03142630681395531, 0.007856576703488827, 0.04713946208357811, 0.015713153406977654, 0.015713153406977654, 0.6835221648216248, 0.18855784833431244, 0.10228578001260757, 0.038357168436050415, 0.8438576459884644, 0.006392861250787973, 0.41652441024780273, 0.03759245574474335, 0.019548077136278152, 0.07819230854511261, 0.1248069554567337, 0.004511094652116299, 0.02857026644051075, 0.013533283956348896, 0.09322929382324219, 0.004511094652116299, 0.060147929936647415, 0.05112574249505997, 0.015036982484161854, 0.045110948383808136, 0.009022189304232597, 0.9558290243148804, 0.016325589269399643, 0.41630250215530396, 0.03809303790330887, 0.005441862624138594, 0.009523259475827217, 0.4299071729183197, 0.01768605411052704, 0.010883725248277187, 0.002720931312069297, 0.021767450496554375, 0.004081397317349911, 0.014965122565627098, 0.009523259475827217, 0.004081397317349911, 0.02121528796851635, 0.9546880125999451, 0.9312170147895813, 0.11909843236207962, 0.7939895391464233, 0.03969947621226311, 0.01290956698358059, 0.981127142906189, 0.9629361033439636, 0.9568647742271423, 0.9699792265892029, 0.944021463394165, 0.9395870566368103, 0.9251933097839355, 0.9403281807899475, 0.01676303893327713, 0.9722563028335571, 0.030219649896025658, 0.006043930072337389, 0.0030219650361686945, 0.09065894782543182, 0.009065894410014153, 0.11181270331144333, 0.6920299530029297, 0.009065894410014153, 0.018131788820028305, 0.0030219650361686945, 0.012087860144674778, 0.009065894410014153, 0.006043930072337389, 0.8909451961517334, 0.059396348893642426, 0.39757445454597473, 0.14647479355335236, 0.23947466909885406, 0.09299986809492111, 0.0023249967489391565, 0.09067487716674805, 0.004649993497878313, 0.009299986995756626, 0.0023249967489391565, 0.006974990479648113, 0.004649993497878313, 0.9460845589637756, 0.04300384595990181, 0.0047782049514353275, 0.9413660764694214, 0.9096502065658569, 0.051672808825969696, 0.0375802256166935, 0.45566022396087646, 0.028185168281197548, 0.009395056404173374, 0.046975281089544296, 0.023487640544772148, 0.01879011280834675, 0.042277753353118896, 0.046975281089544296, 0.042277753353118896, 0.0328826978802681, 0.1644134819507599, 0.5552590489387512, 0.22389478981494904, 0.004477895796298981, 0.1656821370124817, 0.026867374777793884, 0.013433687388896942, 0.004477895796298981, 0.9466941356658936, 0.9309243559837341, 0.9478654265403748, 0.014955241233110428, 0.003738810308277607, 0.011216430924832821, 0.007477620616555214, 0.8935756683349609, 0.014955241233110428, 0.029910482466220856, 0.022432861849665642, 0.9610118865966797, 0.06833405792713165, 0.06833405792713165, 0.8541757464408875, 0.003377958433702588, 0.2921934127807617, 0.018578771501779556, 0.020267751067876816, 0.5117607116699219, 0.06755916774272919, 0.011822854168713093, 0.003377958433702588, 0.011822854168713093, 0.001688979216851294, 0.020267751067876816, 0.020267751067876816, 0.020267751067876816, 0.15588892996311188, 0.014768424443900585, 0.20511700212955475, 0.014768424443900585, 0.13291582465171814, 0.0722011849284172, 0.17722108960151672, 0.011486552655696869, 0.021332168951630592, 0.019691232591867447, 0.00656374404206872, 0.10501990467309952, 0.06399650871753693, 0.0028173131868243217, 0.9804249405860901, 0.0056346263736486435, 0.0028173131868243217, 0.0056346263736486435, 0.22869060933589935, 0.5876078009605408, 0.007940646260976791, 0.003176258411258459, 0.12228594720363617, 0.01429316308349371, 0.0015881292056292295, 0.011116904206573963, 0.004764387384057045, 0.007940646260976791, 0.00952877476811409, 0.9403880834579468, 0.004655534401535988, 0.6471192836761475, 0.004655534401535988, 0.22812119126319885, 0.06517748534679413, 0.032588742673397064, 0.009311068803071976, 0.004655534401535988, 0.9594417810440063, 0.08104196935892105, 0.002251165919005871, 0.03601865470409393, 0.0067534977570176125, 0.002251165919005871, 0.002251165919005871, 0.002251165919005871, 0.45923784375190735, 0.1868467628955841, 0.20935842394828796, 0.011255829595029354, 0.003540604142472148, 0.4177912771701813, 0.0424872487783432, 0.5133875608444214, 0.0212436243891716, 0.8776634931564331, 0.03937122970819473, 0.9449095129966736, 0.0043745809234678745, 0.9469608664512634, 0.005442304071038961, 0.005442304071038961, 0.016326911747455597, 0.016326911747455597, 0.00926273688673973, 0.9633246064186096, 0.004631368443369865, 0.013894104398787022, 0.0838523730635643, 0.01197891030460596, 0.02395782060921192, 0.02395782060921192, 0.8385236859321594, 0.09227276593446732, 0.006151517853140831, 0.018454553559422493, 0.7320306301116943, 0.012303035706281662, 0.012303035706281662, 0.11072731763124466, 0.006151517853140831, 0.6248586773872375, 0.007438793778419495, 0.11654110252857208, 0.0024795979261398315, 0.007438793778419495, 0.22564341127872467, 0.009918391704559326, 0.0024795979261398315, 0.007825536653399467, 0.9781920909881592, 0.007825536653399467, 0.9552908539772034, 0.036185260862112045, 0.5433716177940369, 0.16863256692886353, 0.002342119114473462, 0.10071112215518951, 0.03981602564454079, 0.004684238228946924, 0.11242171376943588, 0.009368476457893848, 0.011710595339536667, 0.007026357110589743, 0.5560174584388733, 0.396539568901062, 0.02586127631366253, 0.017240850254893303, 0.09763025492429733, 0.8298571705818176, 0.060313012450933456, 0.003769563278183341, 0.04146519675850868, 0.015078253112733364, 0.007539126556366682, 0.015078253112733364, 0.015078253112733364, 0.3015650808811188, 0.10554777085781097, 0.26763901114463806, 0.08293039351701736, 0.0866999551653862, 0.07431036233901978, 0.018577590584754944, 0.0030962652526795864, 0.006192530505359173, 0.043347712606191635, 0.009288795292377472, 0.04025144502520561, 0.006192530505359173, 0.03096265159547329, 0.27866387367248535, 0.31581905484199524, 0.03715518116950989, 0.012385061010718346, 0.11765807867050171, 0.0030962652526795864, 0.013410761952400208, 0.026821523904800415, 0.9253425598144531, 0.013410761952400208, 0.06126188114285469, 0.017503393813967705, 0.15315470099449158, 0.030630940571427345, 0.09189282357692719, 0.004375848453491926, 0.052510183304548264, 0.555732786655426, 0.013127545826137066, 0.013127545826137066, 0.920854389667511, 0.0749802514910698, 0.12031715363264084, 0.0749802514910698, 0.0156935416162014, 0.04882435128092766, 0.07672398537397385, 0.04359317198395729, 0.022668449208140373, 0.005231180693954229, 0.008718634024262428, 0.08718634396791458, 0.03487453609704971, 0.0470806248486042, 0.1412418782711029, 0.19529740512371063, 0.012415150180459023, 0.3078957200050354, 0.004966059699654579, 0.07697393000125885, 0.04717756807804108, 0.029796360060572624, 0.09187211096286774, 0.004966059699654579, 0.007449090015143156, 0.004966059699654579, 0.009932119399309158, 0.3277599513530731, 0.07200787216424942, 0.050873856991529465, 0.10988753288984299, 0.004069908522069454, 0.06308358162641525, 0.010174771770834923, 0.06308358162641525, 0.03866413235664368, 0.016279634088277817, 0.006104862783104181, 0.12209725379943848, 0.032559268176555634, 0.006104862783104181, 0.006104862783104181, 0.360186904668808, 0.10988753288984299, 0.8758115172386169, 0.434449166059494, 0.0806194320321083, 0.04030971601605415, 0.013436572626233101, 0.013436572626233101, 0.39413946866989136, 0.022394288331270218, 0.06868405640125275, 0.30678877234458923, 0.022894686087965965, 0.004578936845064163, 0.011447343043982983, 0.4052359163761139, 0.0022894684225320816, 0.004578936845064163, 0.038920965045690536, 0.02747362293303013, 0.020605217665433884, 0.025184154510498047, 0.036631494760513306, 0.025184154510498047, 0.05483010783791542, 0.005483010783791542, 0.008224516175687313, 0.04660559073090553, 0.04934709891676903, 0.002741505391895771, 0.002741505391895771, 0.030156560242176056, 0.6168386936187744, 0.18093936145305634, 0.9650231003761292, 0.9286450743675232, 0.051306117326021194, 0.9235100746154785, 0.08498108386993408, 0.04575904458761215, 0.6275526285171509, 0.006537006236612797, 0.006537006236612797, 0.07844407856464386, 0.013074012473225594, 0.026148024946451187, 0.10459209978580475, 0.910681962966919, 0.09119197726249695, 0.04306287690997124, 0.032930437475442886, 0.08359264582395554, 0.42809566855430603, 0.015198662877082825, 0.06332775950431824, 0.002533110324293375, 0.007599331438541412, 0.002533110324293375, 0.05066220834851265, 0.017731772735714912, 0.007599331438541412, 0.14692041277885437, 0.007599331438541412, 0.03063885122537613, 0.09191655367612839, 0.027234535664319992, 0.6638417840003967, 0.01021295040845871, 0.09872519224882126, 0.0748949721455574, 0.03826494514942169, 0.14668229222297668, 0.04464243724942207, 0.0484689325094223, 0.06249941140413284, 0.07780539244413376, 0.1938757300376892, 0.03316295146942139, 0.03316295146942139, 0.0051019927486777306, 0.10714184492826462, 0.086733877658844, 0.030611956492066383, 0.043366938829422, 0.04591793566942215, 0.009909968823194504, 0.9777836203575134, 0.006606645882129669, 0.01321878470480442, 0.9517525434494019, 0.01321878470480442, 0.9520371556282043, 0.3105728030204773, 0.06177138537168503, 0.029169820249080658, 0.12697450816631317, 0.10295230895280838, 0.03431743383407593, 0.08750946074724197, 0.039465051144361496, 0.0068634869530797005, 0.02402220480144024, 0.02402220480144024, 0.027453947812318802, 0.017158716917037964, 0.07206661254167557, 0.03431743383407593, 0.9412875175476074, 0.04645930603146553, 0.9059564471244812, 0.023229653015732765, 0.0746583640575409, 0.7679146528244019, 0.02133096195757389, 0.010665480978786945, 0.010665480978786945, 0.1066548079252243, 0.3065395653247833, 0.012597516179084778, 0.037792548537254333, 0.033593375235795975, 0.37162673473358154, 0.006298758089542389, 0.0020995859522372484, 0.10078012943267822, 0.12597516179084778, 0.1229933574795723, 0.8199557065963745, 0.911522388458252, 0.0470469631254673, 0.04151202738285065, 0.05258190259337425, 0.019372278824448586, 0.0470469631254673, 0.03874455764889717, 0.013837342150509357, 0.3625383675098419, 0.18542039394378662, 0.0027674685698002577, 0.01106987427920103, 0.0027674685698002577, 0.00830240547657013, 0.1660481095314026, 0.0492703802883625, 0.903290331363678, 0.03284692019224167, 0.001350622856989503, 0.6442470550537109, 0.03241494670510292, 0.01890871860086918, 0.20259341597557068, 0.01890871860086918, 0.04321993142366409, 0.014856850728392601, 0.001350622856989503, 0.001350622856989503, 0.002701245713979006, 0.01755809597671032, 0.9131889343261719, 0.015259022824466228, 0.007629511412233114, 0.003814755706116557, 0.007629511412233114, 0.06485084444284439, 0.07629511505365372, 0.7591363787651062, 0.011444266885519028, 0.01907377876341343, 0.02670329064130783, 0.9323621988296509, 0.9588409662246704, 0.9588813185691833, 0.09839572012424469, 0.06708799302577972, 0.03279857337474823, 0.02087181992828846, 0.22809918224811554, 0.02981688641011715, 0.052179548889398575, 0.12672176957130432, 0.055161237716674805, 0.014908443205058575, 0.11032247543334961, 0.03578026220202446, 0.007454221602529287, 0.019380975514650345, 0.10286825895309448, 0.012029886245727539, 0.03608965873718262, 0.012029886245727539, 0.012029886245727539, 0.0060149431228637695, 0.8902115821838379, 0.0060149431228637695, 0.024059772491455078, 0.03739515319466591, 0.9161812663078308, 0.009348788298666477, 0.03739515319466591, 0.9547200798988342, 0.006819695699959993, 0.06819695979356766, 0.013639391399919987, 0.8967899680137634, 0.0034098478499799967, 0.0034098478499799967, 0.013551999814808369, 0.06775999814271927, 0.9079839587211609, 0.04128175228834152, 0.9081985354423523, 0.2786485552787781, 0.004846062045544386, 0.37556979060173035, 0.002423031022772193, 0.007269092835485935, 0.012115155346691608, 0.2592643201351166, 0.002423031022772193, 0.0363454632461071, 0.016961216926574707, 0.002423031022772193, 0.9361928701400757, 0.024636654183268547, 0.2677575349807739, 0.020918557420372963, 0.004183711484074593, 0.008367422968149185, 0.07112309336662292, 0.004183711484074593, 0.029285980388522148, 0.008367422968149185, 0.5899032950401306, 0.9519620537757874, 0.9582851529121399, 0.0025994942989200354, 0.12997470796108246, 0.09878078103065491, 0.02599494159221649, 0.012997470796108246, 0.4653094708919525, 0.02599494159221649, 0.16376814246177673, 0.0025994942989200354, 0.0025994942989200354, 0.007798482663929462, 0.015596965327858925, 0.015596965327858925, 0.03119393065571785, 0.04652417451143265, 0.007443868089467287, 0.03535837307572365, 0.0818825513124466, 0.05768997594714165, 0.1637651026248932, 0.06141190975904465, 0.02791450545191765, 0.05024610832333565, 0.02419257164001465, 0.0409412756562233, 0.4019688665866852, 0.0556718185544014, 0.8907490968704224, 0.9198032021522522, 0.981572687625885, 0.009558632038533688, 0.03823452815413475, 0.9271873235702515, 0.019117264077067375, 0.02797352522611618, 0.03596596047282219, 0.20980143547058105, 0.031969744712114334, 0.03596596047282219, 0.003996218089014292, 0.029971634969115257, 0.0739300325512886, 0.003996218089014292, 0.003996218089014292, 0.023977307602763176, 0.08991490304470062, 0.01998108997941017, 0.01398676261305809, 0.39362746477127075, 0.003426024690270424, 0.020556148141622543, 0.01713012345135212, 0.6715008020401001, 0.02740819752216339, 0.020556148141622543, 0.010278074070811272, 0.09592869132757187, 0.12333688884973526, 0.9569793343544006, 0.020361261442303658, 0.9323980212211609, 0.046619899570941925, 0.005850215908139944, 0.8775323629379272, 0.023400863632559776, 0.02925107814371586, 0.011700431816279888, 0.011700431816279888, 0.02925107814371586, 0.005850215908139944, 0.9929256439208984, 0.9907288551330566, 0.9535518884658813, 0.006314913276582956, 0.018944740295410156, 0.012629826553165913, 0.006314913276582956, 0.9636462926864624, 0.01784530095756054, 0.9629307389259338, 0.012036633677780628, 0.012036633677780628, 0.9648143649101257, 0.10278890281915665, 0.06234736740589142, 0.020220767706632614, 0.17356158792972565, 0.25949984788894653, 0.016850639134645462, 0.11963953822851181, 0.008425319567322731, 0.003370127873495221, 0.020220767706632614, 0.04044153541326523, 0.0353863425552845, 0.04044153541326523, 0.055607110261917114, 0.042126599699258804, 0.8992438912391663, 0.08483432978391647, 0.013352595269680023, 0.006676297634840012, 0.020028892904520035, 0.020028892904520035, 0.013352595269680023, 0.013352595269680023, 0.006676297634840012, 0.08679187297821045, 0.13352595269680023, 0.6542771458625793, 0.020028892904520035, 0.9509406089782715, 0.9417410492897034, 0.7708221673965454, 0.0033082496374845505, 0.006616499274969101, 0.019849497824907303, 0.002205499680712819, 0.002205499680712819, 0.19298122823238373, 0.25056618452072144, 0.0037397940177470446, 0.7404792308807373, 0.9418789148330688, 0.9177507162094116, 0.041715942323207855, 0.09267981350421906, 0.8341183662414551, 0.04633990675210953, 0.9112400412559509, 0.9147350788116455, 0.8869744539260864, 0.22054673731327057, 0.04831023886799812, 0.08191736042499542, 0.1428302675485611, 0.2835600972175598, 0.004200890194624662, 0.10502225160598755, 0.01680356077849865, 0.014703115448355675, 0.07771646976470947, 0.22151638567447662, 0.007466844283044338, 0.004977896343916655, 0.07466844469308853, 0.27876219153404236, 0.004977896343916655, 0.0024889481719583273, 0.00995579268783331, 0.0024889481719583273, 0.014933688566088676, 0.014933688566088676, 0.3509416878223419, 0.00995579268783331, 0.52607661485672, 0.0021738701034337282, 0.056520625948905945, 0.2086915373802185, 0.017390960827469826, 0.015217091888189316, 0.06086836755275726, 0.0043477402068674564, 0.04130353406071663, 0.06086836755275726, 0.0021738701034337282, 0.1571081578731537, 0.8304288387298584, 0.9077874422073364, 0.26955339312553406, 0.005085913464426994, 0.4043301045894623, 0.03560139238834381, 0.002542956732213497, 0.010171826928853989, 0.10171826183795929, 0.005085913464426994, 0.03560139238834381, 0.09663235396146774, 0.002542956732213497, 0.025429565459489822, 0.0529295839369297, 0.8204085230827332, 0.1058591678738594, 0.014630510471761227, 0.7482460737228394, 0.010450364090502262, 0.012540437281131744, 0.1964668482542038, 0.0020900729577988386, 0.008360291831195354, 0.004180145915597677, 0.15601803362369537, 0.08887102454900742, 0.017774205654859543, 0.027648763731122017, 0.003949823323637247, 0.02567385323345661, 0.08689611405134201, 0.01579929329454899, 0.01579929329454899, 0.05924735218286514, 0.07899647206068039, 0.013824381865561008, 0.005924735218286514, 0.3772081434726715, 0.027648763731122017, 0.9761557579040527, 0.9369403719902039, 0.03346215561032295, 0.9085701107978821, 0.018851716071367264, 0.012567810714244843, 0.006283905357122421, 0.012567810714244843, 0.012567810714244843, 0.8734628558158875, 0.006283905357122421, 0.05655514821410179, 0.006283905357122421, 0.04949529469013214, 0.9333398938179016, 0.8775506615638733, 0.010845686309039593, 0.021691372618079185, 0.010845686309039593, 0.04338274523615837, 0.065074123442173, 0.1626853048801422, 0.6832782626152039, 0.16652780771255493, 0.1810084879398346, 0.014480679295957088, 0.11101853847503662, 0.3354690670967102, 0.014480679295957088, 0.004826893098652363, 0.009653786197304726, 0.01206723228096962, 0.0024134465493261814, 0.026547910645604134, 0.05068237707018852, 0.045855484902858734, 0.01930757239460945, 0.9192259907722473, 0.035354845225811005, 0.94477778673172, 0.05491984635591507, 0.009153307415544987, 0.009153307415544987, 0.9061774611473083, 0.009153307415544987, 0.02485826052725315, 0.6601249575614929, 0.02485826052725315, 0.019334202632308006, 0.027620291337370872, 0.1988660842180252, 0.005524057894945145, 0.0027620289474725723, 0.008286086842417717, 0.0027620289474725723, 0.016572173684835434, 0.008286086842417717, 0.9834901690483093, 0.0027703947853296995, 0.0027703947853296995, 0.005540789570659399, 0.002839718945324421, 0.0369163453578949, 0.002839718945324421, 0.002839718945324421, 0.942786693572998, 0.011358875781297684, 0.07293706387281418, 0.01683162897825241, 0.00187018106225878, 0.32915186882019043, 0.18140757083892822, 0.00187018106225878, 0.00187018106225878, 0.03553343936800957, 0.009350905194878578, 0.11595122516155243, 0.01683162897825241, 0.01309126801788807, 0.19075846672058105, 0.01496144849807024, 0.022581955417990685, 0.677458643913269, 0.011290977708995342, 0.15807367861270905, 0.05645488575100899, 0.022581955417990685, 0.011290977708995342, 0.011290977708995342, 0.011290977708995342, 0.006873028818517923, 0.8728746771812439, 0.08247634768486023, 0.027492115274071693, 0.04697038233280182, 0.031313590705394745, 0.031313590705394745, 0.8298101425170898, 0.031313590705394745, 0.005177215673029423, 0.31408441066741943, 0.006902954541146755, 0.19155699014663696, 0.010354431346058846, 0.04659494385123253, 0.005177215673029423, 0.01898312382400036, 0.029337557032704353, 0.010354431346058846, 0.036240510642528534, 0.06040085107088089, 0.20018567144870758, 0.06730380654335022, 0.0021734898909926414, 0.07389865815639496, 0.04129631072282791, 0.12606242299079895, 0.10867449641227722, 0.0021734898909926414, 0.4868617653846741, 0.0021734898909926414, 0.010867449454963207, 0.004346979781985283, 0.008693959563970566, 0.04346979781985283, 0.039122819900512695, 0.05216376110911369, 0.9042391777038574, 0.03229425475001335, 0.03229425475001335, 0.9789980053901672, 0.9629047513008118, 0.022656582295894623, 0.023179225623607635, 0.007726408541202545, 0.007726408541202545, 0.958074688911438, 0.055441033095121384, 0.009240171872079372, 0.018480343744158745, 0.9055368900299072, 0.0821695476770401, 0.01643390953540802, 0.03286781907081604, 0.01643390953540802, 0.8381294012069702, 0.9679871201515198, 0.9085970520973206, 0.033651743084192276, 0.033651743084192276, 0.24560563266277313, 0.029326045885682106, 0.0073315114714205265, 0.029326045885682106, 0.05865209177136421, 0.009164389222860336, 0.005498633719980717, 0.0036657557357102633, 0.11730418354272842, 0.012830144725739956, 0.0348246805369854, 0.02016165666282177, 0.3335837721824646, 0.09164389222860336, 0.8321047425270081, 0.12607647478580475, 0.0302240252494812, 0.9369447827339172, 0.15933552384376526, 0.020619891583919525, 0.06373421102762222, 0.05811060592532158, 0.07310689240694046, 0.018745357170701027, 0.03374164178967476, 0.04123978316783905, 0.01687082089483738, 0.035616178065538406, 0.14433924853801727, 0.054361533373594284, 0.01312174927443266, 0.26056045293807983, 0.007498142309486866, 0.045269425958395004, 0.8827537894248962, 0.045269425958395004, 0.022634712979197502, 0.9739980101585388, 0.9958662986755371, 0.004422706551849842, 0.8978093862533569, 0.004422706551849842, 0.004422706551849842, 0.06191788986325264, 0.01769082620739937, 0.004422706551849842, 0.015602637082338333, 0.9751648306846619, 0.9248572587966919, 0.03570536896586418, 0.011901789344847202, 0.10711610317230225, 0.04760715737938881, 0.05950894579291344, 0.7141073346138, 0.9099635481834412, 0.9088079929351807, 0.07573399692773819, 0.3225133717060089, 0.017380960285663605, 0.015449742786586285, 0.028968267142772675, 0.025105832144618034, 0.032830704003572464, 0.0193121787160635, 0.052142880856990814, 0.038624357432127, 0.025105832144618034, 0.30706363916397095, 0.02703704871237278, 0.07145506143569946, 0.015449742786586285, 0.9207695722579956, 0.04384617134928703, 0.01461538951843977, 0.11611777544021606, 0.7338643670082092, 0.1439860463142395, 0.9454668760299683, 0.024734631180763245, 0.0027482924051582813, 0.04122438654303551, 0.05496584624052048, 0.07970047742128372, 0.005496584810316563, 0.15940095484256744, 0.04946926236152649, 0.005496584810316563, 0.03572780266404152, 0.05221755430102348, 0.02748292312026024, 0.14840778708457947, 0.005496584810316563, 0.3105570375919342, 0.1441289782524109, 0.013102633878588676, 0.8307070136070251, 0.002620526822283864, 0.002620526822283864, 0.002620526822283864, 0.02046222984790802, 0.0971955880522728, 0.005115557461977005, 0.5320179462432861, 0.06650224328041077, 0.025577787309885025, 0.015346672385931015, 0.056271132081747055, 0.005115557461977005, 0.04092445969581604, 0.04092445969581604, 0.0971955880522728, 0.005450417287647724, 0.05177896097302437, 0.021801669150590897, 0.03406510502099991, 0.09538229554891586, 0.28205907344818115, 0.0667676106095314, 0.019076459109783173, 0.24663136899471283, 0.005450417287647724, 0.009538229554891586, 0.1212717816233635, 0.016351250931620598, 0.012263438664376736, 0.012263438664376736, 0.8866417407989502, 0.07388681173324585, 0.9848403930664062, 0.08456242829561234, 0.00604017311707139, 0.02416069246828556, 0.018120519816875458, 0.05436155945062637, 0.018120519816875458, 0.01208034623414278, 0.513414740562439, 0.018120519816875458, 0.1268436312675476, 0.07248207926750183, 0.04832138493657112, 0.04656413942575455, 0.8381544947624207, 0.04656413942575455, 0.019930120557546616, 0.03986024111509323, 0.9234288930892944, 0.006643373053520918, 0.006643373053520918, 0.9779950380325317, 0.0383005328476429, 0.009575133211910725, 0.114901602268219, 0.009575133211910725, 0.7660107016563416, 0.02872540056705475, 0.01915026642382145, 0.868292510509491, 0.03901591897010803, 0.05267149209976196, 0.3296845257282257, 0.07998263835906982, 0.03706512227654457, 0.017557164654135704, 0.017557164654135704, 0.019507959485054016, 0.05657308176159859, 0.005852387752383947, 0.1170477569103241, 0.03706512227654457, 0.05267149209976196, 0.1365557163953781, 0.11015518754720688, 0.13607405126094818, 0.03725837171077728, 0.034018512815237045, 0.01457936316728592, 0.04373808950185776, 0.2640484571456909, 0.0064797168597579, 0.009719575755298138, 0.017819222062826157, 0.14255377650260925, 0.06479717046022415, 0.02915872633457184, 0.08261638879776001, 0.009719575755298138, 0.8064599633216858, 0.012407076545059681, 0.012407076545059681, 0.11166368424892426, 0.06203538179397583, 0.07958128303289413, 0.8594778180122375, 0.04774876683950424, 0.015916256234049797, 0.9306312799453735, 0.026589466258883476, 0.026589466258883476, 0.9242455363273621, 0.031870536506175995, 0.9538851976394653, 0.16762420535087585, 0.01603361964225769, 0.18657302856445312, 0.5670071244239807, 0.00145760178565979, 0.01020321249961853, 0.04955846071243286, 0.25176358222961426, 0.08392119407653809, 0.14386491477489471, 0.4004240036010742, 0.0023977484088391066, 0.016784239560365677, 0.09830768406391144, 0.956061065196991, 0.9394997358322144, 0.9022929668426514, 0.9575706720352173, 0.9376962184906006, 0.9338384866714478, 0.97190922498703, 0.9357369542121887, 0.9610768556594849, 0.6183376908302307, 0.36466068029403687, 0.019940368831157684, 0.9571377038955688, 0.934965968132019, 0.042498454451560974, 0.0643765926361084, 0.17353691160678864, 0.09936387091875076, 0.018193384632468224, 0.1287531852722168, 0.023791350424289703, 0.26170486211776733, 0.030788805335760117, 0.005597964860498905, 0.01119592972099781, 0.057379137724637985, 0.06717557460069656, 0.013994911685585976, 0.03358778730034828, 0.009796437807381153, 0.008108249865472317, 0.9486652612686157, 0.03243299946188927, 0.039792027324438095, 0.9550086259841919, 0.9053742289543152, 0.006447567604482174, 0.0021491891238838434, 0.027939459308981895, 0.9026594758033752, 0.017193512991070747, 0.025790270417928696, 0.0021491891238838434, 0.004298378247767687, 0.008596756495535374, 0.00742280762642622, 0.00742280762642622, 0.9723878502845764, 0.8962599635124207, 0.0689430758357048, 0.2383364886045456, 0.025088051334023476, 0.012544025667011738, 0.025088051334023476, 0.6899214386940002, 0.11735443770885468, 0.05029476061463356, 0.10058952122926712, 0.03352984040975571, 0.6538318991661072, 0.016764920204877853, 0.04609209671616554, 0.0023046047426760197, 0.03226446732878685, 0.0023046047426760197, 0.26502954959869385, 0.0023046047426760197, 0.0023046047426760197, 0.5461913347244263, 0.0645289346575737, 0.004609209485352039, 0.0023046047426760197, 0.016132233664393425, 0.0023046047426760197, 0.004609209485352039, 0.009218418970704079, 0.042030297219753265, 0.009340065531432629, 0.004670032765716314, 0.06538046151399612, 0.10741075873374939, 0.6724847555160522, 0.02335016429424286, 0.004670032765716314, 0.02335016429424286, 0.004670032765716314, 0.03269023075699806, 0.2055700421333313, 0.006631291471421719, 0.7161794900894165, 0.009946937672793865, 0.0033156457357108593, 0.03978775069117546, 0.0033156457357108593, 0.006631291471421719, 0.0033156457357108593, 0.0033156457357108593, 0.9427608847618103, 0.014964458532631397, 0.014964458532631397, 0.031496234238147736, 0.03499581664800644, 0.04199497774243355, 0.0944887027144432, 0.07349121570587158, 0.03499581664800644, 0.04199497774243355, 0.09798828512430191, 0.0034995817113667727, 0.0034995817113667727, 0.048994142562150955, 0.4234493672847748, 0.020997488871216774, 0.006999163422733545, 0.03849539905786514, 0.9358872175216675, 0.0239971075206995, 0.8942735195159912, 0.024181267246603966, 0.0034544665832072496, 0.062180399894714355, 0.07945273071527481, 0.06563486903905869, 0.1554509997367859, 0.031090199947357178, 0.027635732665657997, 0.020726799964904785, 0.027635732665657997, 0.03799913451075554, 0.027635732665657997, 0.43180832266807556, 0.12539389729499817, 0.005279742646962404, 0.0725964605808258, 0.025078777223825455, 0.1042749211192131, 0.001319935661740601, 0.2349485456943512, 0.023758841678500175, 0.022438906133174896, 0.021118970587849617, 0.16103215515613556, 0.04487781226634979, 0.021118970587849617, 0.10163504630327225, 0.03431832790374756, 0.8752124309539795, 0.04488268867135048, 0.06732402741909027, 0.9315587878227234, 0.04990493506193161, 0.022466788068413734, 0.11554348468780518, 0.783128023147583, 0.03209540992975235, 0.02567632868885994, 0.0032095410861074924, 0.016047704964876175, 0.1239187940955162, 0.8261253237724304, 0.8648197650909424, 0.1081024706363678, 0.009559196420013905, 0.0031863986514508724, 0.006372797302901745, 0.08921916037797928, 0.01593199372291565, 0.01911839284002781, 0.1274559497833252, 0.3887406289577484, 0.04142318293452263, 0.0031863986514508724, 0.1561335325241089, 0.02549118921160698, 0.06691437214612961, 0.04779598116874695, 0.9768372774124146, 0.009867043234407902, 0.003405045485123992, 0.010215137153863907, 0.3234793245792389, 0.020430274307727814, 0.6367435455322266, 0.03665291145443916, 0.15687446296215057, 0.12168767303228378, 0.0029322330374270678, 0.05131407827138901, 0.030788445845246315, 0.02932232990860939, 0.024923980236053467, 0.0073305824771523476, 0.023457864299416542, 0.27856212854385376, 0.10556038469076157, 0.0073305824771523476, 0.0014661165187135339, 0.12022155523300171, 0.9647606611251831, 0.02510921284556389, 0.09039316326379776, 0.5775119066238403, 0.015065527521073818, 0.02510921284556389, 0.015065527521073818, 0.02510921284556389, 0.015065527521073818, 0.005021842662245035, 0.035152897238731384, 0.02510921284556389, 0.14061158895492554, 0.9809211492538452, 0.005795307923108339, 0.0019317693077027798, 0.009658846072852612, 0.0019317693077027798, 0.12170146405696869, 0.019317692145705223, 0.0019317693077027798, 0.0038635386154055595, 0.013522384688258171, 0.8113431334495544, 0.005795307923108339, 0.006750874221324921, 0.023628059774637222, 0.037129808217287064, 0.010126311331987381, 0.19239990413188934, 0.027003496885299683, 0.0675087422132492, 0.0033754371106624603, 0.006750874221324921, 0.0033754371106624603, 0.6177049875259399, 0.7991236448287964, 0.023973708972334862, 0.005327490624040365, 0.0026637453120201826, 0.16515220701694489, 0.010104332119226456, 0.875708818435669, 0.03704921901226044, 0.0033681108616292477, 0.048837605863809586, 0.0016840554308146238, 0.0016840554308146238, 0.0033681108616292477, 0.006736221723258495, 0.011788387782871723, 0.016401080414652824, 0.9717639684677124, 0.004100270103663206, 0.08302643150091171, 0.9075648188591003, 0.0028629805892705917, 0.0057259611785411835, 0.8769769072532654, 0.001612089923582971, 0.006448359694331884, 0.001612089923582971, 0.10801002383232117, 0.1892055720090866, 0.01036742888391018, 0.4691261351108551, 0.007775571662932634, 0.00518371444195509, 0.007775571662932634, 0.03628600016236305, 0.00518371444195509, 0.03369414433836937, 0.12181728333234787, 0.11144986003637314, 0.027326764538884163, 0.17176823318004608, 0.02147102914750576, 0.013663382269442081, 0.04099014773964882, 0.01951911859214306, 0.4547954499721527, 0.01951911859214306, 0.11125896871089935, 0.029278676956892014, 0.0019519117195159197, 0.0039038234390318394, 0.07026882469654083, 0.00975955929607153, 0.02243693359196186, 0.43271228671073914, 0.041668590158224106, 0.012821104377508163, 0.01602638140320778, 0.003205276094377041, 0.02243693359196186, 0.2852695882320404, 0.1634690910577774, 0.11538699269294739, 0.02350475825369358, 0.006410388275980949, 0.41240164637565613, 0.07692465931177139, 0.002136796247214079, 0.002136796247214079, 0.006410388275980949, 0.004273592494428158, 0.010683980770409107, 0.2799203097820282, 0.05983029305934906, 0.05293905735015869, 0.013234764337539673, 0.8205553889274597, 0.09264335036277771, 0.17814049124717712, 0.023327922448515892, 0.0063621606677770615, 0.029690083116292953, 0.03817296400666237, 0.04877656325697899, 0.023327922448515892, 0.05089728534221649, 0.2905386686325073, 0.06574232131242752, 0.11876033246517181, 0.04877656325697899, 0.06998376548290253, 0.0063621606677770615, 0.030890991911292076, 0.06178198382258415, 0.055603787302970886, 0.01235639676451683, 0.04942558705806732, 0.030890991911292076, 0.5683942437171936, 0.01235639676451683, 0.018534595146775246, 0.018534595146775246, 0.006178198382258415, 0.15445496141910553, 0.9683021306991577, 0.9285232424736023, 0.026529235765337944, 0.06894486397504807, 0.03848085552453995, 0.048101067543029785, 0.05451454594731331, 0.08016844838857651, 0.017637059092521667, 0.009620213881134987, 0.03367074951529503, 0.009620213881134987, 0.09620213508605957, 0.24050533771514893, 0.03687748685479164, 0.024050533771514893, 0.21645480394363403, 0.024050533771514893, 0.020268909633159637, 0.060806725174188614, 0.9019664525985718, 0.011003375053405762, 0.11003375798463821, 0.7922430634498596, 0.011003375053405762, 0.05501687899231911, 0.011003375053405762, 0.5027291178703308, 0.07540936768054962, 0.05027291178703308, 0.01117175817489624, 0.00279293954372406, 0.01117175817489624, 0.30443039536476135, 0.00279293954372406, 0.03351527452468872, 0.008588561788201332, 0.05153137072920799, 0.186085507273674, 0.05725707858800888, 0.020039977505803108, 0.08302276581525803, 0.22616545855998993, 0.008588561788201332, 0.005725707858800888, 0.011451415717601776, 0.025765685364603996, 0.008588561788201332, 0.30632537603378296, 0.14165648818016052, 0.02023664116859436, 0.022766221314668655, 0.03541412204504013, 0.4047328233718872, 0.03541412204504013, 0.022766221314668655, 0.002529580146074295, 0.022766221314668655, 0.06576908379793167, 0.1011832058429718, 0.048062022775411606, 0.022766221314668655, 0.03035496175289154, 0.02529580146074295, 0.001315431552939117, 0.8274064660072327, 0.04340924322605133, 0.002630863105878234, 0.013154315762221813, 0.003946294542402029, 0.007892589084804058, 0.09208020567893982, 0.006577157881110907, 0.02642674185335636, 0.06606685370206833, 0.04459512606263161, 0.16021211445331573, 0.12387534976005554, 0.0016516713658347726, 0.07267353683710098, 0.031381756067276, 0.008258356712758541, 0.01982005685567856, 0.05285348370671272, 0.02973008342087269, 0.031381756067276, 0.23453733325004578, 0.09744860976934433, 0.08716767281293869, 0.10611716657876968, 0.018949493765830994, 0.06442827731370926, 0.15159595012664795, 0.5571151375770569, 0.011369696818292141, 0.03521993011236191, 0.9391981363296509, 0.011739976704120636, 0.8995196223258972, 0.9409472942352295, 0.03801807388663292, 0.9785443544387817, 0.9309797286987305, 0.24778898060321808, 0.007508757058531046, 0.002502918941900134, 0.010011675767600536, 0.20023351907730103, 0.040046703070402145, 0.2853327691555023, 0.005005837883800268, 0.012514594942331314, 0.025029189884662628, 0.01752043329179287, 0.007508757058531046, 0.14016346633434296, 0.032025452703237534, 0.04803818091750145, 0.06405090540647507, 0.032025452703237534, 0.6565217971801758, 0.032025452703237534, 0.12810181081295013, 0.9689809679985046, 0.012188137508928776, 0.1035991683602333, 0.006094068754464388, 0.05179958418011665, 0.009141103364527225, 0.11274027079343796, 0.054846618324518204, 0.009141103364527225, 0.009141103364527225, 0.6307361125946045, 0.9671254754066467, 0.14028146862983704, 0.00935209821909666, 0.04676048830151558, 0.7949283123016357, 0.970041036605835, 0.009510206058621407, 0.15623126924037933, 0.02659255638718605, 0.04986104369163513, 0.03324069455265999, 0.07312953472137451, 0.16620348393917084, 0.0033240695483982563, 0.016620347276329994, 0.4354531168937683, 0.03324069455265999, 0.9370861649513245, 0.0564509741961956, 0.017979126423597336, 0.898956298828125, 0.07191650569438934, 0.0025688663590699434, 0.012844331562519073, 0.005137732718139887, 0.005137732718139887, 0.0025688663590699434, 0.9684626460075378, 0.9587975144386292, 0.986529529094696, 0.9252002239227295, 0.038429830223321915, 0.4578162431716919, 0.010025173425674438, 0.05179672688245773, 0.021721208468079567, 0.030075518414378166, 0.1219729408621788, 0.005012586712837219, 0.015037759207189083, 0.033417243510484695, 0.19549088180065155, 0.020050346851348877, 0.048482831567525864, 0.07272424548864365, 0.07272424548864365, 0.7999666929244995, 0.9341697096824646, 0.0530778244137764, 0.033756356686353683, 0.006751270964741707, 0.006751270964741707, 0.13502542674541473, 0.276802122592926, 0.006751270964741707, 0.013502541929483414, 0.4658377170562744, 0.006751270964741707, 0.013502541929483414, 0.027005083858966827, 0.8627525568008423, 0.036712873727083206, 0.018356436863541603, 0.05506931245326996, 0.01912817917764187, 0.004782044794410467, 0.033474311232566833, 0.7699092030525208, 0.004782044794410467, 0.16258952021598816, 0.029462382197380066, 0.24306465685367584, 0.056469567120075226, 0.05401436612010002, 0.019641587510704994, 0.34127259254455566, 0.014731191098690033, 0.14485670626163483, 0.0049103968776762486, 0.009820793755352497, 0.0073655955493450165, 0.04910397157073021, 0.0073655955493450165, 0.02209678664803505, 0.0593164898455143, 0.014829122461378574, 0.03707280382514, 0.0963892936706543, 0.007414561230689287, 0.007414561230689287, 0.022243682295084, 0.29658243060112, 0.4300445318222046, 0.02965824492275715, 0.02556116320192814, 0.9457630515098572, 0.024242239072918892, 0.9454472661018372, 0.938291072845459, 0.9382215142250061, 0.04079223796725273, 0.4783723056316376, 0.01793896034359932, 0.03587792068719864, 0.02391861565411091, 0.03587792068719864, 0.06278636306524277, 0.2690844237804413, 0.02690844237804413, 0.04783723130822182, 0.14546382427215576, 0.7909594774246216, 0.05454893037676811, 0.9697934985160828, 0.0612727627158165, 0.8578186631202698, 0.010762561112642288, 0.08512207120656967, 0.002935243770480156, 0.15850317478179932, 0.007827317342162132, 0.010762561112642288, 0.6252069473266602, 0.005870487540960312, 0.003913658671081066, 0.015654634684324265, 0.008805731311440468, 0.004892073106020689, 0.05283438786864281, 0.003913658671081066, 0.992846667766571, 0.9487847089767456, 0.015203885734081268, 0.05321360006928444, 0.015203885734081268, 0.09122331440448761, 0.07601942867040634, 0.007601942867040634, 0.03800971433520317, 0.007601942867040634, 0.030407771468162537, 0.12923303246498108, 0.022805828601121902, 0.509330153465271, 0.09208554029464722, 0.056274496018886566, 0.005115863401442766, 0.6036718487739563, 0.005115863401442766, 0.09208554029464722, 0.010231726802885532, 0.03581104427576065, 0.005115863401442766, 0.09208554029464722, 0.056528061628341675, 0.0260029099881649, 0.0033916838001459837, 0.0045222449116408825, 0.5030997395515442, 0.03165571391582489, 0.3233405351638794, 0.0011305612279102206, 0.0045222449116408825, 0.0011305612279102206, 0.0022611224558204412, 0.0022611224558204412, 0.029394593089818954, 0.010175051167607307, 0.9617929458618164, 0.11464285850524902, 0.042991071939468384, 0.8168303966522217, 0.9496282935142517, 0.957976758480072, 0.9157761931419373, 0.013058900833129883, 0.004352967254817486, 0.021764835342764854, 0.40482592582702637, 0.026117801666259766, 0.32647252082824707, 0.034823738038539886, 0.034823738038539886, 0.013058900833129883, 0.1218830794095993, 0.8939826488494873, 0.9469929933547974, 0.9333966374397278, 0.9524561762809753, 0.9133733510971069, 0.22116832435131073, 0.6782495379447937, 0.01474455464631319, 0.01474455464631319, 0.044233664870262146, 0.972594678401947, 0.9429842233657837, 0.004338399041444063, 0.6724517941474915, 0.013015196658670902, 0.04338398948311806, 0.09544477611780167, 0.16485916078090668, 0.048834796994924545, 0.019533919170498848, 0.3548662066459656, 0.09766959398984909, 0.03255653381347656, 0.13022613525390625, 0.048834796994924545, 0.009766959585249424, 0.0032556531950831413, 0.013022612780332565, 0.08464698493480682, 0.05860175937414169, 0.009766959585249424, 0.09115829318761826, 0.054004255682229996, 0.10800851136445999, 0.8100638389587402, 0.018001418560743332, 0.020627371966838837, 0.020627371966838837, 0.020627371966838837, 0.886976957321167, 0.020627371966838837, 0.9610705375671387, 0.016570180654525757, 0.12461861968040466, 0.008901329711079597, 0.017802659422159195, 0.008901329711079597, 0.8367249965667725, 0.017574137076735497, 0.017574137076735497, 0.9314292669296265, 0.8772411942481995, 0.962374210357666, 0.018309300765395164, 0.018309300765395164, 0.03661860153079033, 0.89715576171875, 0.9425843954086304, 0.038988806307315826, 0.005569829605519772, 0.022279318422079086, 0.6126812100410461, 0.01670948788523674, 0.027849147096276283, 0.26735180616378784, 0.06692439317703247, 0.005577032454311848, 0.09295054525136948, 0.16545197367668152, 0.07064241170883179, 0.0018590108957141638, 0.01487208716571331, 0.013013076037168503, 0.11154065281152725, 0.08923251926898956, 0.04461625963449478, 0.027885163202881813, 0.25282546877861023, 0.04461625963449478, 0.9628390073776245, 0.012489616870880127, 0.001387735246680677, 0.002775470493361354, 0.015265087597072124, 0.09436599165201187, 0.062448084354400635, 0.09436599165201187, 0.07077449560165405, 0.1415489912033081, 0.16652822494506836, 0.18040557205677032, 0.002775470493361354, 0.1415489912033081, 0.012489616870880127, 0.04503937065601349, 0.018015747889876366, 0.009007873944938183, 0.063055120408535, 0.009007873944938183, 0.04503937065601349, 0.5855118036270142, 0.09908661246299744, 0.09908661246299744, 0.018015747889876366, 0.8953253626823425, 0.06395181268453598, 0.7488886117935181, 0.1032949835062027, 0.12911872565746307, 0.010355976410210133, 0.025889940559864044, 0.08802580088376999, 0.6161805987358093, 0.062135860323905945, 0.07766982167959213, 0.005177988205105066, 0.010355976410210133, 0.005177988205105066, 0.0362459160387516, 0.010355976410210133, 0.05177988111972809, 0.047060079872608185, 0.8941414952278137, 0.060812804847955704, 0.8817856907844543, 0.030406402423977852, 0.9762011766433716, 0.03400743380188942, 0.15172547101974487, 0.005231912713497877, 0.05493508279323578, 0.12294995039701462, 0.185732901096344, 0.0732467770576477, 0.005231912713497877, 0.007847868837416172, 0.02092765085399151, 0.2275882065296173, 0.02354360744357109, 0.08371060341596603, 0.08840993046760559, 0.0044204965233802795, 0.0044204965233802795, 0.008840993046760559, 0.0044204965233802795, 0.601187527179718, 0.1326148957014084, 0.0044204965233802795, 0.0044204965233802795, 0.022102482616901398, 0.013261489570140839, 0.039784468710422516, 0.07072794437408447, 0.9209185242652893, 0.9509034752845764, 0.2609882056713104, 0.018155701458454132, 0.0068083880469202995, 0.211060032248497, 0.01588623784482479, 0.07262280583381653, 0.02950301393866539, 0.052197642624378204, 0.23148518800735474, 0.0022694626823067665, 0.09304796904325485, 0.8628345727920532, 0.10354014486074448, 0.016656741499900818, 0.0916120782494545, 0.008328370749950409, 0.17489579319953918, 0.6995831727981567, 0.9555050730705261, 0.03828558698296547, 0.009571396745741367, 0.7465689778327942, 0.03828558698296547, 0.019142793491482735, 0.05742838233709335, 0.08614256978034973, 0.16250930726528168, 0.0036933934316039085, 0.0036933934316039085, 0.0036933934316039085, 0.05170750617980957, 0.007386786863207817, 0.036933932453393936, 0.04062732681632042, 0.014773573726415634, 0.6352636814117432, 0.0036933934316039085, 0.036933932453393936, 0.011416289955377579, 0.1883687824010849, 0.039957012981176376, 0.017124434933066368, 0.022832579910755157, 0.017124434933066368, 0.005708144977688789, 0.057081449776887894, 0.051373302936553955, 0.5936470627784729, 0.017109772190451622, 0.034219544380903244, 0.034219544380903244, 0.008554886095225811, 0.0598842017352581, 0.5902871489524841, 0.10265862941741943, 0.13687817752361298, 0.008554886095225811, 0.008869722485542297, 0.011826296336948872, 0.005913148168474436, 0.10939323902130127, 0.7982749938964844, 0.02956574037671089, 0.011826296336948872, 0.014782870188355446, 0.005913148168474436, 0.0774204209446907, 0.005955417174845934, 0.005955417174845934, 0.005955417174845934, 0.8516246676445007, 0.041687920689582825, 0.8766221404075623, 0.050762806087732315, 0.023689309135079384, 0.006768374238163233, 0.06091536581516266, 0.010152560658752918, 0.03045768290758133, 0.04061024263501167, 0.0033841871190816164, 0.04399443045258522, 0.6294587850570679, 0.06768374145030975, 0.006768374238163233, 0.010152560658752918, 0.01692093536257744, 0.030627338215708733, 0.012250935658812523, 0.0061254678294062614, 0.8881928324699402, 0.012250935658812523, 0.030627338215708733, 0.04765867814421654, 0.026477044448256493, 0.15886226296424866, 0.015886226668953896, 0.0052954088896512985, 0.03706786036491394, 0.1959301233291626, 0.5030638575553894, 0.0052954088896512985, 0.017080651596188545, 0.15714199841022491, 0.3484452962875366, 0.020496781915426254, 0.03757743164896965, 0.14006134867668152, 0.006832260638475418, 0.013664521276950836, 0.003416130319237709, 0.04782582446932793, 0.08198712766170502, 0.11956456303596497, 0.050225697457790375, 0.23857206106185913, 0.004185474943369627, 0.029298322275280952, 0.03766927123069763, 0.0020927374716848135, 0.006278212182223797, 0.0020927374716848135, 0.018834635615348816, 0.029298322275280952, 0.5692245364189148, 0.016741899773478508, 0.12415702641010284, 0.02483140490949154, 0.8194363713264465, 0.970617413520813, 0.009754867292940617, 0.009754867292940617, 0.09754867106676102, 0.05852920189499855, 0.019509734585881233, 0.7803893685340881, 0.009754867292940617, 0.009754867292940617, 0.09487682580947876, 0.08569519221782684, 0.05968058109283447, 0.08110438287258148, 0.14996659755706787, 0.01530271302908659, 0.03825678303837776, 0.024484341964125633, 0.036726512014865875, 0.10405845195055008, 0.14231523871421814, 0.06274112313985825, 0.006121085491031408, 0.0795741081237793, 0.018363256007432938, 0.317306250333786, 0.01269224938005209, 0.6282663345336914, 0.019038375467061996, 0.01269224938005209, 0.0014278528979048133, 0.11422823369503021, 0.012850676663219929, 0.01713423617184162, 0.004283559042960405, 0.14278529584407806, 0.27843132615089417, 0.08995473384857178, 0.0028557057958096266, 0.035696323961019516, 0.014278529211878777, 0.11137253046035767, 0.0314127653837204, 0.12422320991754532, 0.018562087789177895, 0.9279401898384094, 0.012949802912771702, 0.958285391330719, 0.012949802912771702, 0.0794595330953598, 0.0024078646674752235, 0.007223594002425671, 0.004815729334950447, 0.03371010720729828, 0.0024078646674752235, 0.15651120245456696, 0.01926291733980179, 0.009631458669900894, 0.014447188004851341, 0.040933698415756226, 0.08186739683151245, 0.0746438056230545, 0.4623100161552429, 0.007223594002425671, 0.015047368593513966, 0.9479842185974121, 0.015047368593513966, 0.9343634247779846, 0.9669398665428162, 0.08253587037324905, 0.022509781643748283, 0.20008695125579834, 0.04251847788691521, 0.0550239123404026, 0.03251412883400917, 0.012505434453487396, 0.017507608979940414, 0.010004347190260887, 0.03251412883400917, 0.047520652413368225, 0.2451065182685852, 0.0550239123404026, 0.002501086797565222, 0.14006087183952332, 0.864592432975769, 0.10807405412197113, 0.024883493781089783, 0.049766987562179565, 0.796271800994873, 0.024883493781089783, 0.049766987562179565, 0.05151083692908287, 0.6321784257888794, 0.018731212243437767, 0.009365606121718884, 0.018731212243437767, 0.09365606307983398, 0.032779622822999954, 0.032779622822999954, 0.004682803060859442, 0.014048409648239613, 0.0889732614159584, 0.009753662161529064, 0.9802430272102356, 0.004876831080764532, 0.1459653228521347, 0.19565564393997192, 0.05279596522450447, 0.003105645067989826, 0.07764112949371338, 0.40373384952545166, 0.006211290135979652, 0.02484516054391861, 0.006211290135979652, 0.06832419335842133, 0.009316935203969479, 0.003105645067989826, 0.9167415499687195, 0.02839469537138939, 0.05678939074277878, 0.8944329023361206, 0.9735907912254333, 0.9446716904640198, 0.9440589547157288, 0.02776644006371498, 0.018510960042476654, 0.9665010571479797, 0.8142250776290894, 0.050889067351818085, 0.03053344041109085, 0.07124469429254532, 0.03053344041109085, 0.05963190644979477, 0.031008591875433922, 0.24091289937496185, 0.07394356280565262, 0.10733743011951447, 0.038164421916007996, 0.07871411740779877, 0.06917301565408707, 0.07871411740779877, 0.07632884383201599, 0.057246629148721695, 0.0047705527395009995, 0.011926380917429924, 0.06917301565408707, 0.06465156376361847, 0.009235937148332596, 0.009235937148332596, 0.9143577814102173, 0.06416456401348114, 0.004277637694031, 0.038498736917972565, 0.615979790687561, 0.004277637694031, 0.055609289556741714, 0.021388188004493713, 0.017110550776124, 0.149717316031456, 0.012832912616431713, 0.012832912616431713, 0.0072952029295265675, 0.041339483112096786, 0.21156089007854462, 0.034044280648231506, 0.34287455677986145, 0.0024317344650626183, 0.034044280648231506, 0.009726937860250473, 0.0048634689301252365, 0.0024317344650626183, 0.0024317344650626183, 0.30396679043769836, 0.028286952525377274, 0.00404099328443408, 0.09294284135103226, 0.00404099328443408, 0.01616397313773632, 0.00404099328443408, 0.545534074306488, 0.012122979387640953, 0.00808198656886816, 0.00404099328443408, 0.23033662140369415, 0.04445092752575874, 0.08842241019010544, 0.13754597306251526, 0.0032749040983617306, 0.06549808382987976, 0.009824712760746479, 0.46503639221191406, 0.03274904191493988, 0.022924328222870827, 0.0032749040983617306, 0.006549808196723461, 0.058948274701833725, 0.019649425521492958, 0.0818726047873497, 0.006549808196723461, 0.21896468102931976, 0.024721818044781685, 0.010595064610242844, 0.021190129220485687, 0.0741654559969902, 0.03531688451766968, 0.010595064610242844, 0.03178519383072853, 0.10948234051465988, 0.40967583656311035, 0.028253506869077682, 0.024721818044781685, 0.044198937714099884, 0.008036170154809952, 0.004018085077404976, 0.09643404930830002, 0.004018085077404976, 0.02009042724967003, 0.03214468061923981, 0.6589660048484802, 0.13259682059288025, 0.9114598631858826, 0.5372495651245117, 0.009949066676199436, 0.0033163554035127163, 0.039796266704797745, 0.12270515412092209, 0.0033163554035127163, 0.006632710807025433, 0.01658177748322487, 0.01658177748322487, 0.16581778228282928, 0.0431126207113266, 0.03647990897297859, 0.2248798906803131, 0.6388633251190186, 0.030665438622236252, 0.005110906437039375, 0.04599815979599953, 0.04599815979599953, 0.005110906437039375, 0.10878104716539383, 0.025595540180802345, 0.06398884952068329, 0.006398885045200586, 0.006398885045200586, 0.6526862978935242, 0.04479219764471054, 0.012797770090401173, 0.03839331120252609, 0.025595540180802345, 0.9456989765167236, 0.03544800728559494, 0.9216482639312744, 0.01772400364279747, 0.11080870777368546, 0.006331926211714745, 0.018995778635144234, 0.34508997201919556, 0.05065540969371796, 0.015829816460609436, 0.028493668884038925, 0.02216174267232418, 0.0031659631058573723, 0.161464124917984, 0.015829816460609436, 0.015829816460609436, 0.15513218939304352, 0.05065540969371796, 0.10026417672634125, 0.0014964801957830787, 0.013468322344124317, 0.026936644688248634, 0.010475361719727516, 0.010475361719727516, 0.0029929603915661573, 0.020950723439455032, 0.6614442467689514, 0.01496480219066143, 0.01197184156626463, 0.12420786172151566, 0.9658575654029846, 0.9611902832984924, 0.3771075904369354, 0.6137860417366028, 0.0031557122711092234, 0.0015778561355546117, 0.0015778561355546117, 0.9478564858436584, 0.06841053068637848, 0.8893369436264038, 0.9457274675369263, 0.9082553386688232, 0.9683970808982849, 0.02612636238336563, 0.0783790871500969, 0.05225272476673126, 0.8360435962677002, 0.9574310183525085, 0.9686119556427002, 0.9568560719490051, 0.00694876117631793, 0.09728265553712845, 0.00231625372543931, 0.3034292459487915, 0.08338513225317001, 0.06485510617494583, 0.032427553087472916, 0.057906344532966614, 0.01853002980351448, 0.016213776543736458, 0.18066778779029846, 0.12971021234989166, 0.008458751253783703, 0.021146876737475395, 0.1564868986606598, 0.004229375626891851, 0.05075250566005707, 0.21146877110004425, 0.541360080242157, 0.3452901244163513, 0.0031677992083132267, 0.019006794318556786, 0.6082174181938171, 0.0031677992083132267, 0.0031677992083132267, 0.0031677992083132267, 0.0031677992083132267, 0.012671196833252907, 0.027697838842868805, 0.027697838842868805, 0.05539567768573761, 0.8586329817771912, 0.9207059741020203, 0.003371039405465126, 0.5382426381111145, 0.01573151722550392, 0.08090494573116302, 0.0022473596036434174, 0.03932879492640495, 0.04831823334097862, 0.0011236798018217087, 0.021349916234612465, 0.0011236798018217087, 0.01797887682914734, 0.0011236798018217087, 0.20788076519966125, 0.021349916234612465, 0.9695610404014587, 0.9800179600715637, 0.9587897062301636, 0.028166022151708603, 0.25104498863220215, 0.09796877205371857, 0.06245509162545204, 0.013470706529915333, 0.026941413059830666, 0.06000587344169617, 0.009796877391636372, 0.0012246096739545465, 0.007347657810896635, 0.07102736085653305, 0.08327345550060272, 0.035513680428266525, 0.23267583549022675, 0.018369145691394806, 0.14336584508419037, 0.802848756313324, 0.9903838038444519, 0.048828791826963425, 0.9277470111846924, 0.0033988954965025187, 0.282108336687088, 0.0407867468893528, 0.16994477808475494, 0.39767077565193176, 0.016994478181004524, 0.0203933734446764, 0.06457901746034622, 0.050872620195150375, 0.813961923122406, 0.016957540065050125, 0.08478769659996033, 0.8814021944999695, 0.01836254633963108, 0.03672509267926216, 0.05508763715624809, 0.014103052206337452, 0.1269274652004242, 0.8532346487045288, 0.9674696922302246, 0.021859975531697273, 0.3985241949558258, 0.048764560371637344, 0.0016815366689115763, 0.0016815366689115763, 0.4388810694217682, 0.01008921954780817, 0.005044609773904085, 0.01008921954780817, 0.015133829787373543, 0.015133829787373543, 0.03194919601082802, 0.07060232013463974, 0.9252619743347168, 0.19506120681762695, 0.02438265085220337, 0.02438265085220337, 0.016255099326372147, 0.658331573009491, 0.016255099326372147, 0.06502039730548859, 0.008127549663186073, 0.88087397813797, 0.04779936373233795, 0.006828480400145054, 0.020485442131757736, 0.04097088426351547, 0.006828480400145054, 0.9277891516685486, 0.920535147190094, 0.0356099009513855, 0.8012228012084961, 0.142439603805542, 0.023825041949748993, 0.00794168096035719, 0.6671012043952942, 0.2859005033969879, 0.1493983119726181, 0.005746088922023773, 0.06033393368124962, 0.27006617188453674, 0.020111311227083206, 0.0028730444610118866, 0.18962092697620392, 0.2643200755119324, 0.02585740014910698, 0.00861913338303566, 0.0503242164850235, 0.201296865940094, 0.7297011613845825, 0.1803203821182251, 0.798561692237854, 0.012880027294158936, 0.738236665725708, 0.21092475950717926, 0.01757706329226494, 0.01757706329226494, 0.04855894669890404, 0.8255020976066589, 0.04855894669890404, 0.04855894669890404, 0.033602166920900345, 0.20908014476299286, 0.026135018095374107, 0.02986859157681465, 0.0037335739471018314, 0.007467147894203663, 0.07093790918588638, 0.026135018095374107, 0.014934295788407326, 0.14187581837177277, 0.39575883746147156, 0.02986859157681465, 0.0037335739471018314, 0.011200722306966782, 0.6625550389289856, 0.005044835153967142, 0.0016816117567941546, 0.006726447027176619, 0.2135646790266037, 0.0033632235135883093, 0.0033632235135883093, 0.01177128218114376, 0.010089670307934284, 0.036995455622673035, 0.04204029217362404, 0.0033632235135883093, 0.08754336088895798, 0.0019454079447314143, 0.14785100519657135, 0.06419846415519714, 0.10116121172904968, 0.009727039374411106, 0.02529030293226242, 0.11088825017213821, 0.03112652711570263, 0.048635199666023254, 0.029181119054555893, 0.07781631499528885, 0.013617855496704578, 0.027235710993409157, 0.2256673276424408, 0.908480703830719, 0.01829487830400467, 0.007840662263333797, 0.08102017641067505, 0.002613554010167718, 0.01829487830400467, 0.07840661704540253, 0.002613554010167718, 0.010454216040670872, 0.03920330852270126, 0.08363372832536697, 0.642934262752533, 0.013067769818007946, 0.03438183292746544, 0.09741520136594772, 0.06303336471319199, 0.09741520136594772, 0.630333662033081, 0.005730305798351765, 0.01146061159670353, 0.02292122319340706, 0.02292122319340706, 0.005730305798351765, 0.32569020986557007, 0.04433479532599449, 0.624097466468811, 0.9126222133636475, 0.03463117033243179, 0.005771861877292395, 0.01154372375458479, 0.9234979152679443, 0.01154372375458479, 0.005771861877292395, 0.9842684268951416, 0.9407619833946228, 0.002239909488707781, 0.03135873004794121, 0.011199546977877617, 0.011199546977877617, 0.9191321730613708, 0.9705967903137207, 0.004183638375252485, 0.037652745842933655, 0.2593855857849121, 0.00836727675050497, 0.025101831182837486, 0.14642734825611115, 0.06693821400403976, 0.04183638468384743, 0.012550915591418743, 0.3095892667770386, 0.025101831182837486, 0.06693821400403976, 0.04688059538602829, 0.8907312750816345, 0.9314148426055908, 0.9068584442138672, 0.03778576850891113, 0.9251836538314819, 0.14671853184700012, 0.0014820053474977612, 0.14227251708507538, 0.005928021389991045, 0.0014820053474977612, 0.0014820053474977612, 0.0014820053474977612, 0.0014820053474977612, 0.22971081733703613, 0.45942163467407227, 0.0014820053474977612, 0.004446016158908606, 0.004446016158908606, 0.9540702104568481, 0.014601127244532108, 0.16061240434646606, 0.0438033826649189, 0.014601127244532108, 0.7446575164794922, 0.00548889534547925, 0.06037784740328789, 0.9166455268859863, 0.0109777906909585, 0.9118751883506775, 0.9626457095146179, 0.006016535684466362, 0.012033071368932724, 0.006016535684466362, 0.006016535684466362, 0.987157940864563, 0.8916808366775513, 0.09386114031076431, 0.9678479433059692], \"Term\": [\"ERA\", \"ETHER\", \"MHz\", \"MHz\", \"MHz\", \"absolute\", \"absolute\", \"absolute\", \"absolute\", \"absolute\", \"absolute\", \"absolute\", \"absolute\", \"absolute\", \"absolute\", \"abstinence\", \"academic\", \"academic\", \"academic\", \"academic\", \"academic\", \"academic\", \"accelerator\", \"accelerator\", \"accelerator\", \"access\", \"access\", \"access\", \"access\", \"access\", \"access\", \"access\", \"access\", \"access\", \"access\", \"access\", \"access\", \"access\", \"access\", \"accident\", \"accident\", \"accident\", \"accident\", \"accident\", \"accident\", \"accident\", \"accident\", \"accident\", \"accident\", \"accident\", \"accident\", \"accident\", \"accuire\", \"acid\", \"acid\", \"acid\", \"acid\", \"acid\", \"acidophilous\", \"act\", \"act\", \"act\", \"act\", \"act\", \"act\", \"act\", \"act\", \"act\", \"act\", \"act\", \"act\", \"act\", \"act\", \"act\", \"action\", \"action\", \"action\", \"action\", \"action\", \"action\", \"action\", \"action\", \"action\", \"action\", \"action\", \"action\", \"action\", \"action\", \"action\", \"adapter\", \"adapter\", \"adapter\", \"adapter\", \"adapter\", \"adapter\", \"adb\", \"administration\", \"administration\", \"administration\", \"administration\", \"administration\", \"administration\", \"administration\", \"administration\", \"administration\", \"afraid\", \"afraid\", \"afraid\", \"afraid\", \"afraid\", \"afraid\", \"afraid\", \"afraid\", \"afraid\", \"afraid\", \"afterlife\", \"agency\", \"agency\", \"agency\", \"agency\", \"agency\", \"agency\", \"agency\", \"agency\", \"agency\", \"agency\", \"agency\", \"agency\", \"agency\", \"air\", \"air\", \"air\", \"air\", \"air\", \"air\", \"air\", \"air\", \"air\", \"air\", \"air\", \"air\", \"air\", \"air\", \"albican\", \"alcohol\", \"alcohol\", \"alcohol\", \"alcohol\", \"alcohol\", \"algorithm\", \"algorithm\", \"algorithm\", \"algorithm\", \"algorithm\", \"algorithm\", \"algorithm\", \"algorithm\", \"algorithm\", \"algorithm\", \"algorithm\", \"algorythm\", \"algorythm\", \"allocation\", \"allocation\", \"allocation\", \"allocation\", \"american\", \"american\", \"american\", \"american\", \"american\", \"american\", \"american\", \"american\", \"american\", \"american\", \"american\", \"american\", \"american\", \"amino\", \"amp\", \"amp\", \"amp\", \"amp\", \"amp\", \"anal\", \"analgesic\", \"anecdotal\", \"anecdotal\", \"anecdotal\", \"animal\", \"animal\", \"animal\", \"animal\", \"animal\", \"animal\", \"animal\", \"animal\", \"animal\", \"animation\", \"animation\", \"anonymity\", \"anonymous\", \"anonymous\", \"anonymous\", \"anonymous\", \"anonymous\", \"anti\", \"anti\", \"anti\", \"anti\", \"anti\", \"anti\", \"anti\", \"anti\", \"anti\", \"anti\", \"anti\", \"anti\", \"anti\", \"antibiotic\", \"apartment\", \"apartment\", \"apartment\", \"apartment\", \"apartment\", \"api\", \"apocalypse\", \"apostle\", \"appear\", \"appear\", \"appear\", \"appear\", \"appear\", \"appear\", \"appear\", \"appear\", \"appear\", \"appear\", \"appear\", \"appear\", \"appear\", \"appear\", \"appear\", \"application\", \"application\", \"application\", \"application\", \"application\", \"application\", \"application\", \"application\", \"application\", \"application\", \"application\", \"application\", \"application\", \"application\", \"application\", \"arab\", \"arab\", \"arab\", \"arab\", \"arcade\", \"arcade\", \"args\", \"argue\", \"argue\", \"argue\", \"argue\", \"argue\", \"argue\", \"argue\", \"argue\", \"argue\", \"argue\", \"argue\", \"argue\", \"argue\", \"argue\", \"argument\", \"argument\", \"argument\", \"argument\", \"argument\", \"argument\", \"argument\", \"argument\", \"argument\", \"argument\", \"argument\", \"argument\", \"argument\", \"argument\", \"arm\", \"arm\", \"arm\", \"arm\", \"arm\", \"arm\", \"arm\", \"arm\", \"arm\", \"arm\", \"arm\", \"arm\", \"arm\", \"armenian\", \"armenian\", \"armenian\", \"armenian\", \"armenian\", \"arrest\", \"arrest\", \"arrest\", \"arrest\", \"arrest\", \"arrest\", \"arrest\", \"asking\", \"aspartame\", \"aspartame\", \"assailant\", \"asteroid\", \"asteroid\", \"astronaut\", \"astronomer\", \"astronomy\", \"astronomy\", \"asymmetric\", \"asynchronous\", \"asynchronous\", \"atheism\", \"atheism\", \"atheism\", \"atheism\", \"atheism\", \"atheist\", \"atheist\", \"atheist\", \"atheist\", \"atheist\", \"atheist\", \"atmosphere\", \"atmosphere\", \"atmosphere\", \"atmosphere\", \"atmosphere\", \"attack\", \"attack\", \"attack\", \"attack\", \"attack\", \"attack\", \"attack\", \"attack\", \"attack\", \"attack\", \"attack\", \"attack\", \"attack\", \"audio\", \"audio\", \"audio\", \"audio\", \"audio\", \"audio\", \"audio\", \"audio\", \"audio\", \"author\", \"author\", \"author\", \"author\", \"author\", \"author\", \"author\", \"author\", \"author\", \"author\", \"author\", \"author\", \"author\", \"author\", \"author\", \"authorization\", \"authorization\", \"authorization\", \"auto\", \"auto\", \"auto\", \"auto\", \"auto\", \"auto\", \"auto\", \"auto\", \"auto\", \"auto\", \"auto\", \"auto\", \"autobahn\", \"automatic\", \"automatic\", \"automatic\", \"automatic\", \"automatic\", \"automatic\", \"automatic\", \"automatic\", \"automatic\", \"automatic\", \"automotive\", \"automotive\", \"autonomy\", \"average\", \"average\", \"average\", \"average\", \"average\", \"average\", \"average\", \"average\", \"average\", \"average\", \"average\", \"average\", \"average\", \"average\", \"average\", \"awd\", \"aweto\", \"azeri\", \"azeri\", \"backcountry\", \"balcony\", \"balcony\", \"ball\", \"ball\", \"ball\", \"ball\", \"ball\", \"ball\", \"ball\", \"ball\", \"ball\", \"ball\", \"ban\", \"ban\", \"ban\", \"ban\", \"ban\", \"ban\", \"ban\", \"ban\", \"ban\", \"ban\", \"baptism\", \"baseball\", \"baseball\", \"baseball\", \"baseball\", \"baseball\", \"baseball\", \"baseball\", \"baseball\", \"baseball\", \"baseman\", \"bat\", \"bat\", \"bat\", \"bat\", \"bat\", \"bat\", \"batter\", \"batter\", \"batter\", \"battery\", \"battery\", \"battery\", \"battery\", \"battery\", \"battery\", \"battery\", \"battery\", \"battery\", \"battery\", \"batting\", \"baud\", \"baud\", \"bear\", \"bear\", \"bear\", \"bear\", \"bear\", \"bear\", \"bear\", \"bear\", \"bear\", \"bear\", \"bear\", \"bear\", \"bear\", \"bear\", \"beat\", \"beat\", \"beat\", \"beat\", \"beat\", \"beat\", \"beat\", \"beat\", \"beat\", \"beat\", \"beat\", \"beat\", \"beat\", \"beat\", \"bee\", \"bee\", \"belief\", \"belief\", \"belief\", \"belief\", \"belief\", \"belief\", \"belief\", \"belief\", \"benchmark\", \"benchmark\", \"benchmark\", \"benchmark\", \"bible\", \"bible\", \"bible\", \"biblical\", \"biblical\", \"biblical\", \"biblical\", \"bigs\", \"bike\", \"bike\", \"bike\", \"bike\", \"bike\", \"biker\", \"biker\", \"bill\", \"bill\", \"bill\", \"bill\", \"bill\", \"bill\", \"bill\", \"bill\", \"bill\", \"bill\", \"bill\", \"bill\", \"bill\", \"bios\", \"bios\", \"bios\", \"blaster\", \"block\", \"block\", \"block\", \"block\", \"block\", \"block\", \"block\", \"block\", \"block\", \"block\", \"block\", \"block\", \"block\", \"block\", \"block\", \"bloom\", \"bloom\", \"bloom\", \"blue\", \"blue\", \"blue\", \"blue\", \"blue\", \"blue\", \"blue\", \"blue\", \"blue\", \"blue\", \"blue\", \"blue\", \"blue\", \"board\", \"board\", \"board\", \"board\", \"board\", \"board\", \"board\", \"board\", \"board\", \"board\", \"board\", \"board\", \"body\", \"body\", \"body\", \"body\", \"body\", \"body\", \"body\", \"body\", \"body\", \"body\", \"body\", \"body\", \"body\", \"boiler\", \"bomb\", \"bomb\", \"bomb\", \"bomb\", \"bomb\", \"bomb\", \"bomb\", \"bomb\", \"bomb\", \"bona\", \"bosnian\", \"bosnian\", \"brain\", \"brain\", \"brain\", \"brain\", \"brain\", \"brain\", \"brain\", \"brain\", \"brain\", \"brain\", \"brain\", \"brain\", \"brain\", \"brake\", \"brake\", \"braking\", \"braking\", \"breaker\", \"breaker\", \"breaker\", \"brute\", \"brute\", \"brute\", \"brute\", \"bubblejet\", \"bullpen\", \"bus\", \"bus\", \"bus\", \"bus\", \"bus\", \"bus\", \"bus\", \"bus\", \"bus\", \"business\", \"business\", \"business\", \"business\", \"business\", \"business\", \"business\", \"business\", \"business\", \"business\", \"business\", \"business\", \"business\", \"business\", \"business\", \"busmastering\", \"butcher\", \"butcher\", \"cable\", \"cable\", \"cable\", \"cable\", \"cable\", \"cable\", \"cable\", \"cable\", \"cable\", \"cache\", \"cache\", \"cache\", \"cage\", \"cage\", \"cage\", \"cager\", \"cancer\", \"cancer\", \"cancer\", \"cancer\", \"cancer\", \"cancer\", \"cancer\", \"cancer\", \"candida\", \"cap\", \"cap\", \"cap\", \"cap\", \"cap\", \"cap\", \"cap\", \"cap\", \"cap\", \"capacitor\", \"capacitor\", \"captain\", \"carcinogenic\", \"carcinogenic\", \"career\", \"career\", \"career\", \"career\", \"career\", \"career\", \"career\", \"carry\", \"carry\", \"carry\", \"carry\", \"carry\", \"carry\", \"carry\", \"carry\", \"carry\", \"carry\", \"carry\", \"carry\", \"carry\", \"carry\", \"carry\", \"cary\", \"catcher\", \"catholic\", \"ccw\", \"cellular\", \"cellular\", \"cellular\", \"cellular\", \"cellular\", \"censor\", \"censor\", \"censor\", \"censor\", \"censor\", \"cereal\", \"champions\", \"champions\", \"char\", \"char\", \"charcoal\", \"chastity\", \"chastity\", \"child\", \"child\", \"child\", \"child\", \"child\", \"child\", \"child\", \"child\", \"child\", \"child\", \"child\", \"child\", \"child\", \"chimp\", \"chinese\", \"chinese\", \"chinese\", \"chinese\", \"chip\", \"chip\", \"chip\", \"chip\", \"chip\", \"chip\", \"chip\", \"chip\", \"chip\", \"chip\", \"chip\", \"chip\", \"chip\", \"chip\", \"chipset\", \"chipset\", \"chipset\", \"chipset\", \"choose\", \"choose\", \"choose\", \"choose\", \"choose\", \"choose\", \"choose\", \"choose\", \"choose\", \"choose\", \"choose\", \"choose\", \"choose\", \"choose\", \"choose\", \"christian\", \"christian\", \"christian\", \"christian\", \"christian\", \"christian\", \"christian\", \"christian\", \"church\", \"church\", \"church\", \"church\", \"church\", \"church\", \"cipher\", \"cipher\", \"ciphertext\", \"circuit\", \"circuit\", \"circuit\", \"circuit\", \"circuit\", \"circuit\", \"circuit\", \"circuit\", \"citizen\", \"citizen\", \"citizen\", \"citizen\", \"citizen\", \"citizen\", \"citizen\", \"citizen\", \"citizen\", \"citizen\", \"citizen\", \"citizen\", \"citizenship\", \"citizenship\", \"city\", \"city\", \"city\", \"city\", \"city\", \"city\", \"city\", \"city\", \"city\", \"city\", \"city\", \"city\", \"city\", \"city\", \"civil\", \"civil\", \"civil\", \"civil\", \"civil\", \"civil\", \"civil\", \"civil\", \"civil\", \"civil\", \"civil\", \"civilian\", \"civilian\", \"civilian\", \"civilian\", \"civilian\", \"civilian\", \"civilian\", \"civilian\", \"client\", \"client\", \"client\", \"client\", \"client\", \"client\", \"client\", \"clipper\", \"clipper\", \"clipper\", \"clipper\", \"clipper\", \"clipper\", \"clipper\", \"clock\", \"clock\", \"clock\", \"clock\", \"clock\", \"clock\", \"clock\", \"clock\", \"clock\", \"clock\", \"clock\", \"clock\", \"clutchless\", \"cmap\", \"coach\", \"coach\", \"coach\", \"coach\", \"coaching\", \"code\", \"code\", \"code\", \"code\", \"code\", \"code\", \"code\", \"code\", \"code\", \"code\", \"code\", \"code\", \"code\", \"code\", \"code\", \"cold\", \"cold\", \"cold\", \"cold\", \"cold\", \"cold\", \"cold\", \"cold\", \"cold\", \"cold\", \"cold\", \"cold\", \"collaborator\", \"color\", \"color\", \"color\", \"color\", \"color\", \"color\", \"color\", \"color\", \"color\", \"color\", \"color\", \"color\", \"color\", \"color\", \"colormap\", \"colormap\", \"colormap\", \"combustion\", \"combustion\", \"comet\", \"comet\", \"comet\", \"comic_strip\", \"commandment\", \"commandment\", \"commercial\", \"commercial\", \"commercial\", \"commercial\", \"commercial\", \"commercial\", \"commercial\", \"commercial\", \"commercial\", \"commercial\", \"commercial\", \"commercial\", \"commerical\", \"communication\", \"communication\", \"communication\", \"communication\", \"communication\", \"communication\", \"communication\", \"communication\", \"communication\", \"communication\", \"communication\", \"communication\", \"community\", \"community\", \"community\", \"community\", \"community\", \"community\", \"community\", \"community\", \"community\", \"community\", \"community\", \"community\", \"community\", \"company\", \"company\", \"company\", \"company\", \"company\", \"company\", \"company\", \"company\", \"company\", \"company\", \"company\", \"company\", \"company\", \"company\", \"company\", \"compare\", \"compare\", \"compare\", \"compare\", \"compare\", \"compare\", \"compare\", \"compare\", \"compare\", \"compare\", \"compare\", \"compare\", \"compare\", \"compare\", \"compare\", \"compartment\", \"compartment\", \"computergenerated\", \"conceal\", \"conceal\", \"conceal\", \"conceal\", \"conceal\", \"conceal\", \"conclusion\", \"conclusion\", \"conclusion\", \"conclusion\", \"conclusion\", \"conclusion\", \"conclusion\", \"conclusion\", \"conclusion\", \"conclusion\", \"conclusion\", \"cone\", \"cone\", \"cone\", \"congregation\", \"connector\", \"connector\", \"connector\", \"connector\", \"consecration\", \"consecration\", \"consecration\", \"constellation\", \"constitution\", \"constitution\", \"constitution\", \"constitution\", \"contact\", \"contact\", \"contact\", \"contact\", \"contact\", \"contact\", \"contact\", \"contact\", \"contact\", \"contact\", \"contact\", \"contact\", \"contact\", \"contact\", \"contest\", \"contest\", \"contest\", \"contest\", \"contest\", \"contest\", \"contest\", \"contest\", \"contest\", \"continue\", \"continue\", \"continue\", \"continue\", \"continue\", \"continue\", \"continue\", \"continue\", \"continue\", \"continue\", \"continue\", \"continue\", \"continue\", \"continue\", \"continue\", \"contract\", \"contract\", \"contract\", \"contract\", \"contract\", \"contract\", \"contract\", \"contract\", \"contract\", \"contract\", \"contract\", \"contrib\", \"contrib\", \"controler\", \"controller\", \"controller\", \"controller\", \"cool\", \"cool\", \"cool\", \"cool\", \"cool\", \"cool\", \"cool\", \"cool\", \"cool\", \"cool\", \"cool\", \"cool\", \"cool\", \"cop\", \"cop\", \"cop\", \"cop\", \"cop\", \"cop\", \"cop\", \"cop\", \"coprocessor\", \"coprocessor\", \"copy\", \"copy\", \"copy\", \"copy\", \"copy\", \"copy\", \"copy\", \"copy\", \"copy\", \"copy\", \"copy\", \"copy\", \"copy\", \"copy\", \"copy\", \"corporate\", \"corporate\", \"corporate\", \"corporate\", \"corporate\", \"corporate\", \"corporate\", \"countersteere\", \"countersteere\", \"court\", \"court\", \"court\", \"court\", \"court\", \"court\", \"court\", \"court\", \"court\", \"court\", \"court\", \"cover\", \"cover\", \"cover\", \"cover\", \"cover\", \"cover\", \"cover\", \"cover\", \"cover\", \"cover\", \"cover\", \"cover\", \"cover\", \"cover\", \"cover\", \"cpu\", \"cpu\", \"cpu\", \"cpu\", \"cpu\", \"cramm\", \"crater\", \"crease\", \"crime\", \"crime\", \"crime\", \"crime\", \"crime\", \"crime\", \"crime\", \"crime\", \"crime\", \"criminal\", \"criminal\", \"criminal\", \"criminal\", \"criminal\", \"criminal\", \"criminal\", \"criminal\", \"criminal\", \"crohn\", \"crucify\", \"cruel\", \"cruel\", \"cruel\", \"cruelty\", \"cruiser\", \"cryptanalysis\", \"cryptanalyst\", \"crypto\", \"crypto\", \"crypto\", \"crypto\", \"cryptographically\", \"cryptography\", \"cryptography\", \"cryptography\", \"cryptography\", \"cryptology\", \"cryptology\", \"cryptosystem\", \"cview\", \"cyl\", \"cylinder\", \"cylinder\", \"cylinder\", \"cylinder\", \"cylinder\", \"cypherpunk\", \"dangerous\", \"dangerous\", \"dangerous\", \"dangerous\", \"dangerous\", \"dangerous\", \"dangerous\", \"dangerous\", \"dangerous\", \"dangerous\", \"dangerous\", \"dangerous\", \"dangerous\", \"dangerous\", \"dangerous\", \"date\", \"date\", \"date\", \"date\", \"date\", \"date\", \"date\", \"date\", \"date\", \"date\", \"date\", \"date\", \"date\", \"date\", \"date\", \"datum\", \"datum\", \"datum\", \"datum\", \"datum\", \"datum\", \"datum\", \"datum\", \"datum\", \"datum\", \"datum\", \"datum\", \"datum\", \"datum\", \"deadly\", \"deadly\", \"deadly\", \"dealer\", \"dealer\", \"dealer\", \"dealer\", \"dealer\", \"dealer\", \"dealer\", \"dealer\", \"dealer\", \"dealer\", \"dealer\", \"dealer\", \"dealer\", \"death\", \"death\", \"death\", \"death\", \"death\", \"death\", \"death\", \"death\", \"death\", \"death\", \"death\", \"death\", \"death\", \"death\", \"decimal\", \"decrypt\", \"decrypt\", \"decrypt\", \"decrypt\", \"decryption\", \"decryption\", \"defense\", \"defense\", \"defense\", \"defense\", \"defense\", \"defense\", \"defense\", \"defense\", \"defense\", \"defense\", \"defenseman\", \"defenseman\", \"defensive\", \"defensive\", \"defensive\", \"defensive\", \"defensive\", \"defensive\", \"defensively\", \"deficit\", \"deficit\", \"demo\", \"demo\", \"demo\", \"demo\", \"demo\", \"democracy\", \"democracy\", \"democracy\", \"democracy\", \"democracy\", \"denizen\", \"deputy\", \"design\", \"design\", \"design\", \"design\", \"design\", \"design\", \"design\", \"design\", \"design\", \"design\", \"design\", \"design\", \"design\", \"design\", \"detector\", \"detector\", \"detector\", \"detention\", \"detention\", \"deterrent\", \"development\", \"development\", \"development\", \"development\", \"development\", \"development\", \"development\", \"development\", \"development\", \"development\", \"development\", \"development\", \"device\", \"device\", \"device\", \"device\", \"device\", \"device\", \"device\", \"device\", \"device\", \"device\", \"device\", \"device\", \"device\", \"diagnose\", \"diagnose\", \"diagnose\", \"diagnose\", \"die\", \"die\", \"die\", \"die\", \"die\", \"die\", \"die\", \"die\", \"die\", \"die\", \"die\", \"die\", \"die\", \"die\", \"die\", \"diesel\", \"diesel\", \"diet\", \"diet\", \"diet\", \"diet\", \"dietary\", \"diode\", \"diode\", \"diplomat\", \"directory\", \"directory\", \"directory\", \"directory\", \"directory\", \"directory\", \"disappointment\", \"disappointment\", \"disciple\", \"discs\", \"discussion\", \"discussion\", \"discussion\", \"discussion\", \"discussion\", \"discussion\", \"discussion\", \"discussion\", \"discussion\", \"discussion\", \"discussion\", \"discussion\", \"discussion\", \"discussion\", \"discussion\", \"disease\", \"disease\", \"disease\", \"disease\", \"disease\", \"disease\", \"disease\", \"disk\", \"disk\", \"disk\", \"disk\", \"disk\", \"disk\", \"disk\", \"disk\", \"disk\", \"disk\", \"disk\", \"display\", \"display\", \"display\", \"display\", \"display\", \"display\", \"display\", \"display\", \"display\", \"display\", \"display\", \"display\", \"display\", \"display\", \"display\", \"division\", \"division\", \"division\", \"division\", \"division\", \"division\", \"division\", \"division\", \"division\", \"division\", \"division\", \"doctor\", \"doctor\", \"doctor\", \"doctor\", \"doctor\", \"doctor\", \"doctor\", \"doctrinal\", \"doctrinal\", \"doctrine\", \"doctrine\", \"doctrine\", \"doctrine\", \"doctrine\", \"doctrine\", \"documentary\", \"documentary\", \"documentary\", \"dod\", \"dod\", \"dod\", \"dod\", \"dod\", \"dod\", \"dod\", \"dog\", \"dog\", \"dog\", \"dog\", \"dog\", \"dog\", \"dog\", \"dog\", \"dog\", \"door\", \"door\", \"door\", \"door\", \"door\", \"door\", \"door\", \"door\", \"door\", \"door\", \"door\", \"door\", \"door\", \"door\", \"dos\", \"dos\", \"dos\", \"dos\", \"dose\", \"dose\", \"dose\", \"dose\", \"drink\", \"drink\", \"drink\", \"drink\", \"drink\", \"drink\", \"drink\", \"drink\", \"drink\", \"drink\", \"drink\", \"driver\", \"driver\", \"driver\", \"driver\", \"driver\", \"driver\", \"driver\", \"driver\", \"driver\", \"driver\", \"driver\", \"driver\", \"driver\", \"drug\", \"drug\", \"drug\", \"drug\", \"drug\", \"drug\", \"drug\", \"drug\", \"drug\", \"drug\", \"eat\", \"eat\", \"eat\", \"eat\", \"eat\", \"eat\", \"eat\", \"eat\", \"eat\", \"eat\", \"eat\", \"eat\", \"eavesdrop\", \"eff\", \"effect\", \"effect\", \"effect\", \"effect\", \"effect\", \"effect\", \"effect\", \"effect\", \"effect\", \"effect\", \"effect\", \"effect\", \"effect\", \"effect\", \"effect\", \"effort\", \"effort\", \"effort\", \"effort\", \"effort\", \"effort\", \"effort\", \"effort\", \"effort\", \"effort\", \"effort\", \"effort\", \"effort\", \"effort\", \"effort\", \"egotism\", \"embargo\", \"empirical\", \"empirical\", \"emulator\", \"encrypt\", \"encrypt\", \"encrypt\", \"encrypt\", \"encrypt\", \"encrypt\", \"encryption\", \"encryption\", \"encryption\", \"encryption\", \"encryption\", \"encryption\", \"encryption\", \"encryption\", \"endometriosis\", \"enforcement\", \"enforcement\", \"enforcement\", \"enforcement\", \"enforcement\", \"enforcement\", \"enforcement\", \"enforcement\", \"enforcement\", \"enforcement\", \"engine\", \"engine\", \"engine\", \"engine\", \"engine\", \"engine\", \"engine\", \"engine\", \"engine\", \"engine\", \"engine\", \"entry\", \"entry\", \"entry\", \"entry\", \"entry\", \"entry\", \"entry\", \"entry\", \"entrys\", \"entryway\", \"envelop\", \"environmentalism\", \"epidemic\", \"equality\", \"erotica\", \"error\", \"error\", \"error\", \"error\", \"error\", \"error\", \"error\", \"error\", \"error\", \"error\", \"error\", \"error\", \"error\", \"error\", \"error\", \"escape\", \"escape\", \"escape\", \"escape\", \"escape\", \"escape\", \"escape\", \"escape\", \"escape\", \"escape\", \"escape\", \"escape\", \"escape\", \"escrow\", \"escrow\", \"escrow\", \"escrow\", \"escrow\", \"eternal\", \"eternal\", \"eternal\", \"eternal\", \"eternal\", \"ether\", \"ether\", \"evidence\", \"evidence\", \"evidence\", \"evidence\", \"evidence\", \"evidence\", \"evidence\", \"evidence\", \"evidence\", \"evidence\", \"evidence\", \"evil\", \"evil\", \"evil\", \"evil\", \"evil\", \"evil\", \"evil\", \"evil\", \"evil\", \"evil\", \"excommunication\", \"existence\", \"existence\", \"existence\", \"existence\", \"existence\", \"existence\", \"existence\", \"existence\", \"existence\", \"existence\", \"explosive\", \"explosive\", \"explosive\", \"explosive\", \"explosive\", \"explosive\", \"explosive\", \"exportable\", \"extermination\", \"extermination\", \"extermination\", \"face\", \"face\", \"face\", \"face\", \"face\", \"face\", \"face\", \"face\", \"face\", \"face\", \"face\", \"face\", \"face\", \"face\", \"face\", \"fairing\", \"faith\", \"faith\", \"faith\", \"faith\", \"faith\", \"faith\", \"faith\", \"faith\", \"faith\", \"fall\", \"fall\", \"fall\", \"fall\", \"fall\", \"fall\", \"fall\", \"fall\", \"fall\", \"fall\", \"fall\", \"fall\", \"fall\", \"fall\", \"fallacy\", \"fallacy\", \"fallacy\", \"family\", \"family\", \"family\", \"family\", \"family\", \"family\", \"family\", \"family\", \"family\", \"family\", \"family\", \"family\", \"family\", \"family\", \"family\", \"fan\", \"fan\", \"fan\", \"fan\", \"fan\", \"fan\", \"fan\", \"fan\", \"fan\", \"fan\", \"fan\", \"fasad\", \"fasst\", \"fast\", \"fast\", \"fast\", \"fast\", \"fast\", \"fast\", \"fast\", \"fast\", \"fast\", \"fast\", \"fast\", \"fast\", \"fast\", \"fast\", \"fatwa\", \"fax\", \"fax\", \"fax\", \"fax\", \"fax\", \"fax\", \"fax\", \"fax\", \"fax\", \"fax\", \"fax\", \"fax\", \"fax\", \"fax\", \"fax\", \"felon\", \"felon\", \"felony\", \"felony\", \"fide\", \"fielder\", \"filename\", \"filename\", \"finish\", \"finish\", \"finish\", \"finish\", \"finish\", \"finish\", \"finish\", \"finish\", \"finish\", \"finish\", \"finish\", \"finish\", \"finish\", \"finish\", \"finnish\", \"finnish\", \"fire\", \"fire\", \"fire\", \"fire\", \"fire\", \"fire\", \"fire\", \"fire\", \"fire\", \"fire\", \"fire\", \"fire\", \"fire\", \"fire\", \"fire\", \"firearm\", \"firearm\", \"firearm\", \"firearm\", \"firm\", \"firm\", \"firm\", \"firm\", \"firm\", \"firm\", \"firm\", \"firm\", \"flattery\", \"flight\", \"flight\", \"flight\", \"flight\", \"flight\", \"flight\", \"flight\", \"floppy\", \"floppy\", \"floppy\", \"floppy\", \"flyby\", \"flyer\", \"flyer\", \"flyer\", \"fmg\", \"foke\", \"font\", \"font\", \"font\", \"font\", \"font\", \"food\", \"food\", \"food\", \"food\", \"food\", \"food\", \"food\", \"food\", \"food\", \"food\", \"food\", \"food\", \"foot\", \"foot\", \"foot\", \"foot\", \"foot\", \"foot\", \"foot\", \"foot\", \"foot\", \"foot\", \"foot\", \"foot\", \"foot\", \"foot\", \"format\", \"format\", \"format\", \"format\", \"format\", \"format\", \"format\", \"format\", \"format\", \"format\", \"forsale\", \"forsale\", \"forsale\", \"fpu\", \"franchise\", \"franchise\", \"franchise\", \"freedom\", \"freedom\", \"freedom\", \"freedom\", \"freedom\", \"freedom\", \"freedom\", \"freedom\", \"freedom\", \"freeway\", \"freon\", \"ftp\", \"ftp\", \"ftp\", \"ftp\", \"ftp\", \"ftp\", \"ftp\", \"ftp\", \"function\", \"function\", \"function\", \"function\", \"function\", \"function\", \"function\", \"function\", \"function\", \"function\", \"function\", \"function\", \"function\", \"function\", \"function\", \"fund\", \"fund\", \"fund\", \"fund\", \"fund\", \"fund\", \"fund\", \"fund\", \"fungal\", \"fungus\", \"galaxy\", \"gang\", \"gang\", \"gang\", \"gang\", \"gang\", \"gang\", \"gang\", \"gas\", \"gas\", \"gas\", \"gas\", \"gas\", \"gas\", \"gas\", \"gas\", \"gas\", \"gas\", \"gas\", \"gcc\", \"gear\", \"gear\", \"gear\", \"gear\", \"gear\", \"gear\", \"gear\", \"genocide\", \"genocide\", \"genocide\", \"genocide\", \"genocide\", \"ghetto\", \"ghetto\", \"glutamate\", \"goal\", \"goal\", \"goal\", \"goal\", \"goal\", \"goal\", \"goal\", \"goal\", \"goal\", \"goal\", \"goal\", \"goal\", \"goal\", \"goalie\", \"goalie\", \"goalie\", \"goalie\", \"god\", \"god\", \"god\", \"god\", \"god\", \"god\", \"god\", \"god\", \"goose\", \"gospel\", \"gospel\", \"graphic\", \"graphic\", \"graphic\", \"graphic\", \"graphic\", \"graphic\", \"graphic\", \"graphic\", \"graphical\", \"gravitational\", \"gravity\", \"gravity\", \"gravity\", \"gravity\", \"gravity\", \"grayscale\", \"grenade\", \"grenade\", \"gridlock\", \"ground\", \"ground\", \"ground\", \"ground\", \"ground\", \"ground\", \"ground\", \"ground\", \"ground\", \"ground\", \"ground\", \"ground\", \"ground\", \"ground\", \"ground\", \"guerilla\", \"guerilla\", \"gun\", \"gun\", \"gun\", \"gun\", \"gun\", \"gun\", \"gun\", \"gun\", \"gun\", \"gun\", \"gun\", \"ham\", \"ham\", \"ham\", \"hander\", \"handgun\", \"handgun\", \"handgun\", \"handlebar\", \"happend\", \"harddisk\", \"hardware\", \"hardware\", \"hardware\", \"hardware\", \"hardware\", \"hardware\", \"hardware\", \"hardware\", \"hardware\", \"hardware\", \"hardware\", \"hardware\", \"hardware\", \"harvard\", \"harvard\", \"hdd\", \"head\", \"head\", \"head\", \"head\", \"head\", \"head\", \"head\", \"head\", \"head\", \"head\", \"head\", \"head\", \"head\", \"head\", \"head\", \"health\", \"health\", \"health\", \"health\", \"health\", \"health\", \"health\", \"health\", \"heart\", \"heart\", \"heart\", \"heart\", \"heart\", \"heart\", \"heart\", \"heart\", \"heart\", \"heart\", \"heart\", \"heart\", \"heartless\", \"heat\", \"heat\", \"heat\", \"heat\", \"heat\", \"heat\", \"heat\", \"heat\", \"heat\", \"heat\", \"heat\", \"heat\", \"heat\", \"hell\", \"hell\", \"hell\", \"hell\", \"hell\", \"hell\", \"hell\", \"hell\", \"hell\", \"hell\", \"hell\", \"hell\", \"hell\", \"hell\", \"hell\", \"henrik\", \"hernia\", \"history\", \"history\", \"history\", \"history\", \"history\", \"history\", \"history\", \"history\", \"history\", \"history\", \"history\", \"history\", \"history\", \"history\", \"history\", \"hit\", \"hit\", \"hit\", \"hit\", \"hit\", \"hit\", \"hit\", \"hit\", \"hit\", \"hit\", \"hit\", \"hit\", \"hit\", \"hit\", \"hitter\", \"hitter\", \"hitting\", \"hockey\", \"hockey\", \"hockey\", \"hockey\", \"hockey\", \"hog\", \"holster\", \"homeland\", \"homeland\", \"homeopathic\", \"homeopathy\", \"homer\", \"homer\", \"homicide\", \"homicide\", \"hospital\", \"hospital\", \"hospital\", \"hospital\", \"hospital\", \"hospital\", \"hospital\", \"hot\", \"hot\", \"hot\", \"hot\", \"hot\", \"hot\", \"hot\", \"hot\", \"hot\", \"hot\", \"hot\", \"hot\", \"hot\", \"hot\", \"hot\", \"hour\", \"hour\", \"hour\", \"hour\", \"hour\", \"hour\", \"hour\", \"hour\", \"hour\", \"hour\", \"hour\", \"hour\", \"hour\", \"hour\", \"hour\", \"human\", \"human\", \"human\", \"human\", \"human\", \"human\", \"human\", \"human\", \"human\", \"human\", \"human\", \"human\", \"human\", \"hunting\", \"hunting\", \"hunting\", \"hunting\", \"hypocrite\", \"hypocrite\", \"hypothesis\", \"hypothesis\", \"hypothesis\", \"hypothesis\", \"hypothesis\", \"hypothesis\", \"ice\", \"ice\", \"ice\", \"ice\", \"ice\", \"ice\", \"ice\", \"ice\", \"icon\", \"identity\", \"identity\", \"identity\", \"identity\", \"identity\", \"identity\", \"ideological\", \"ideological\", \"iftccu\", \"ignite\", \"ignite\", \"ignite\", \"illness\", \"illness\", \"illness\", \"ima\", \"ima\", \"image\", \"image\", \"image\", \"image\", \"image\", \"image\", \"image\", \"image\", \"image\", \"image\", \"image\", \"image\", \"image\", \"imake\", \"immune\", \"immune\", \"immune\", \"impedance\", \"impedance\", \"implimente\", \"imprison\", \"imprisonment\", \"imprisonment\", \"income\", \"income\", \"income\", \"income\", \"income\", \"incompatability\", \"inductive\", \"infection\", \"infield\", \"inflatable\", \"inflatable\", \"infringe\", \"infringe\", \"inhibitor\", \"inimitable\", \"inimitable\", \"iniquity\", \"injector\", \"inning\", \"innings\", \"innings\", \"innocent\", \"innocent\", \"innocent\", \"innocent\", \"innocent\", \"innocent\", \"innocent\", \"innocent\", \"input\", \"input\", \"input\", \"input\", \"input\", \"input\", \"input\", \"input\", \"input\", \"input\", \"input\", \"input\", \"instinctive\", \"int\", \"int\", \"int\", \"int\", \"int\", \"int\", \"interactive\", \"interface\", \"interface\", \"interface\", \"interface\", \"interface\", \"interface\", \"interface\", \"interlaced\", \"interleave\", \"interleave\", \"interoperate\", \"interpretation\", \"interpretation\", \"interpretation\", \"interpretation\", \"interpretation\", \"interpretation\", \"interpretation\", \"interpretation\", \"interpretation\", \"inverter\", \"ioccc\", \"iranian\", \"irq\", \"islamic\", \"islamic\", \"islamic\", \"islamic\", \"islamic\", \"islamic\", \"israeli\", \"israeli\", \"israeli\", \"israelis\", \"jewish\", \"jewish\", \"jewish\", \"jewish\", \"jewish\", \"jewish\", \"jewish\", \"job\", \"job\", \"job\", \"job\", \"job\", \"job\", \"job\", \"job\", \"job\", \"job\", \"job\", \"job\", \"job\", \"job\", \"jumper\", \"jumper\", \"jumper\", \"jury\", \"jury\", \"jury\", \"jury\", \"jury\", \"jury\", \"keyboard\", \"keyboard\", \"keyboard\", \"keyboard\", \"keyboard\", \"keyboard\", \"keycode\", \"keycode\", \"keyphrase\", \"keyseach\", \"keyseach\", \"keyspace\", \"kibbutz\", \"kid\", \"kid\", \"kid\", \"kid\", \"kid\", \"kid\", \"kid\", \"kid\", \"kid\", \"kid\", \"kid\", \"kid\", \"kid\", \"knife\", \"knife\", \"knife\", \"knife\", \"knife\", \"land\", \"land\", \"land\", \"land\", \"land\", \"land\", \"land\", \"land\", \"land\", \"land\", \"land\", \"land\", \"land\", \"lane\", \"lane\", \"lane\", \"language\", \"language\", \"language\", \"language\", \"language\", \"language\", \"language\", \"language\", \"language\", \"language\", \"language\", \"language\", \"language\", \"later\", \"later\", \"later\", \"later\", \"later\", \"later\", \"later\", \"later\", \"later\", \"later\", \"later\", \"later\", \"later\", \"later\", \"later\", \"laughter\", \"laughter\", \"launch\", \"launch\", \"launch\", \"launch\", \"launch\", \"launch\", \"launch\", \"launch\", \"launch\", \"layman\", \"league\", \"league\", \"league\", \"league\", \"league\", \"lebanese\", \"lebanese\", \"left\", \"left\", \"left\", \"left\", \"left\", \"left\", \"left\", \"left\", \"left\", \"left\", \"left\", \"left\", \"left\", \"legalization\", \"legalization\", \"lethal\", \"lethal\", \"lethal\", \"lethal\", \"lethal\", \"lethal\", \"lexicon\", \"lib\", \"lib\", \"lib\", \"libertarian\", \"libertarian\", \"libertarian\", \"libertarian\", \"libertarian\", \"libertarianism\", \"library\", \"library\", \"library\", \"library\", \"library\", \"library\", \"library\", \"library\", \"library\", \"library\", \"library\", \"library\", \"library\", \"library\", \"license\", \"license\", \"license\", \"license\", \"license\", \"license\", \"license\", \"license\", \"license\", \"license\", \"license\", \"license\", \"light\", \"light\", \"light\", \"light\", \"light\", \"light\", \"light\", \"light\", \"light\", \"light\", \"light\", \"light\", \"light\", \"light\", \"light\", \"lighten\", \"likely\", \"likely\", \"likely\", \"likely\", \"likely\", \"likely\", \"likely\", \"likely\", \"likely\", \"likely\", \"likely\", \"likely\", \"likely\", \"likely\", \"likely\", \"liquor\", \"liter\", \"liter\", \"liter\", \"liturgy\", \"major\", \"major\", \"major\", \"major\", \"major\", \"major\", \"major\", \"major\", \"major\", \"major\", \"major\", \"major\", \"major\", \"major\", \"major\", \"malpractice\", \"manager\", \"manager\", \"manager\", \"manager\", \"manager\", \"manager\", \"manager\", \"manager\", \"manditory\", \"market\", \"market\", \"market\", \"market\", \"market\", \"market\", \"market\", \"market\", \"market\", \"market\", \"market\", \"market\", \"market\", \"market\", \"market\", \"martian\", \"massacre\", \"massacre\", \"massacre\", \"matchup\", \"material\", \"material\", \"material\", \"material\", \"material\", \"material\", \"material\", \"material\", \"material\", \"material\", \"material\", \"material\", \"material\", \"material\", \"max\", \"max\", \"medical\", \"medical\", \"medical\", \"medical\", \"medical\", \"medical\", \"medical\", \"medical\", \"medical\", \"medical\", \"medical\", \"medication\", \"medication\", \"medication\", \"medication\", \"medicine\", \"medicine\", \"medicine\", \"medicine\", \"medicine\", \"medicine\", \"medicine\", \"meg\", \"meg\", \"meg\", \"meg\", \"member\", \"member\", \"member\", \"member\", \"member\", \"member\", \"member\", \"member\", \"member\", \"member\", \"member\", \"member\", \"member\", \"member\", \"member\", \"memoir\", \"memory\", \"memory\", \"memory\", \"memory\", \"memory\", \"memory\", \"memory\", \"memory\", \"memory\", \"memory\", \"memory\", \"memory\", \"memory\", \"memory\", \"messiah\", \"messiah\", \"metabolic\", \"metaphor\", \"metaphor\", \"metaphor\", \"methodology\", \"methodology\", \"mfm\", \"mhz\", \"microcircuit\", \"microdistrict\", \"microsecond\", \"mideast\", \"midi\", \"migraine\", \"migraine\", \"mile\", \"mile\", \"mile\", \"mile\", \"mile\", \"mile\", \"mile\", \"mile\", \"mile\", \"mile\", \"mile\", \"mile\", \"mile\", \"militarily\", \"militarily\", \"military\", \"military\", \"military\", \"military\", \"military\", \"military\", \"military\", \"military\", \"military\", \"military\", \"military\", \"militia\", \"militia\", \"militia\", \"mime\", \"minivan\", \"minor\", \"minor\", \"minor\", \"minor\", \"minor\", \"minor\", \"minor\", \"minor\", \"minor\", \"minor\", \"minor\", \"minor\", \"minor\", \"minority\", \"minority\", \"minority\", \"minority\", \"minority\", \"minority\", \"minority\", \"minus\", \"misconduct\", \"misfire\", \"mission\", \"mission\", \"mission\", \"mission\", \"mission\", \"mission\", \"mission\", \"mission\", \"mit\", \"mixer\", \"mixer\", \"mixer\", \"mode\", \"mode\", \"mode\", \"mode\", \"mode\", \"mode\", \"mode\", \"mode\", \"mode\", \"mode\", \"mode\", \"mode\", \"mode\", \"model\", \"model\", \"model\", \"model\", \"model\", \"model\", \"model\", \"model\", \"model\", \"model\", \"model\", \"model\", \"model\", \"modem\", \"modem\", \"modem\", \"modem\", \"modem\", \"monitor\", \"monitor\", \"monitor\", \"monitor\", \"monitor\", \"monitor\", \"monitor\", \"monitor\", \"monitor\", \"monitor\", \"monitor\", \"monosodium\", \"moon\", \"moon\", \"moon\", \"moon\", \"moon\", \"moon\", \"moon\", \"moon\", \"moonbase\", \"moral\", \"moral\", \"moral\", \"moral\", \"moral\", \"moral\", \"moral\", \"moral\", \"moral\", \"moral\", \"moral\", \"morality\", \"morality\", \"morality\", \"morality\", \"morality\", \"mosfet\", \"motherboard\", \"motherboard\", \"motherboard\", \"motif\", \"motif\", \"motif\", \"motif\", \"motif\", \"motorcycle\", \"motorcycle\", \"motorcycle\", \"motorcycle\", \"motto\", \"motto\", \"motto\", \"motto\", \"motto\", \"mountain\", \"mountain\", \"mountain\", \"mountain\", \"mountain\", \"mountain\", \"mountain\", \"mountain\", \"mouse\", \"mouse\", \"mouse\", \"mouse\", \"mouse\", \"mouse\", \"mouse\", \"mouse\", \"mph\", \"mph\", \"mph\", \"msg\", \"msg\", \"murder\", \"murder\", \"murder\", \"murder\", \"murder\", \"murder\", \"murder\", \"murder\", \"murder\", \"murder\", \"muslim\", \"muslim\", \"muslim\", \"muslim\", \"napalm\", \"napalm\", \"natural\", \"natural\", \"natural\", \"natural\", \"natural\", \"natural\", \"natural\", \"natural\", \"natural\", \"natural\", \"natural\", \"natural\", \"nature\", \"nature\", \"nature\", \"nature\", \"nature\", \"nature\", \"nature\", \"nature\", \"nature\", \"nature\", \"nature\", \"nature\", \"nature\", \"nature\", \"nature\", \"negotiation\", \"negotiation\", \"negotiation\", \"negotiation\", \"neighbor\", \"neighbor\", \"neighbor\", \"neighbor\", \"neighbor\", \"neighbor\", \"neighbor\", \"neighbor\", \"neighbor\", \"neighbor\", \"neon\", \"net\", \"net\", \"net\", \"net\", \"net\", \"net\", \"net\", \"net\", \"net\", \"net\", \"net\", \"net\", \"net\", \"net\", \"net\", \"network\", \"network\", \"network\", \"network\", \"network\", \"network\", \"network\", \"network\", \"network\", \"network\", \"network\", \"network\", \"network\", \"newsgroup\", \"newsgroup\", \"newsgroup\", \"newsgroup\", \"newsgroup\", \"newsgroup\", \"newsgroup\", \"newsgroup\", \"newsgroup\", \"newsgroup\", \"newsgroup\", \"newsgroup\", \"newsgroup\", \"newsgroup\", \"newsgroup\", \"nosebleed\", \"nuclear\", \"nuclear\", \"nuclear\", \"nuclear\", \"nuclear\", \"nuclear\", \"nuclear\", \"object\", \"object\", \"object\", \"object\", \"object\", \"object\", \"object\", \"object\", \"object\", \"object\", \"object\", \"object\", \"object\", \"object\", \"objective\", \"objective\", \"objective\", \"objective\", \"objective\", \"objective\", \"objective\", \"objective\", \"objective\", \"objective\", \"obp\", \"octopus\", \"odometer\", \"odometer\", \"offense\", \"offense\", \"offense\", \"offense\", \"offense\", \"offense\", \"offense\", \"offense\", \"offense\", \"offensively\", \"official\", \"official\", \"official\", \"official\", \"official\", \"official\", \"official\", \"official\", \"official\", \"official\", \"official\", \"official\", \"official\", \"official\", \"official\", \"oil\", \"oil\", \"oil\", \"oil\", \"oil\", \"oil\", \"oil\", \"open\", \"open\", \"open\", \"open\", \"open\", \"open\", \"open\", \"open\", \"open\", \"open\", \"open\", \"open\", \"open\", \"open\", \"open\", \"orbit\", \"orbit\", \"orbit\", \"orbital\", \"orbital\", \"orbital\", \"orbiter\", \"organization\", \"organization\", \"organization\", \"organization\", \"organization\", \"organization\", \"organization\", \"organization\", \"organization\", \"organization\", \"organization\", \"organization\", \"organization\", \"organization\", \"organization\", \"ottoman\", \"outbreak\", \"outbreak\", \"outbreak\", \"outlet\", \"outlet\", \"outlet\", \"outlet\", \"outlet\", \"outlet\", \"output\", \"output\", \"output\", \"output\", \"output\", \"output\", \"output\", \"output\", \"output\", \"oven\", \"oven\", \"oversampling\", \"owner\", \"owner\", \"owner\", \"owner\", \"owner\", \"owner\", \"owner\", \"owner\", \"owner\", \"owner\", \"owner\", \"owner\", \"owner\", \"owner\", \"ozone\", \"ozone\", \"ozone\", \"package\", \"package\", \"package\", \"package\", \"package\", \"package\", \"package\", \"package\", \"package\", \"package\", \"package\", \"package\", \"paganism\", \"pain\", \"pain\", \"pain\", \"pain\", \"pain\", \"pain\", \"pain\", \"pain\", \"pain\", \"pain\", \"pantheism\", \"parable\", \"parish\", \"pass\", \"pass\", \"pass\", \"pass\", \"pass\", \"pass\", \"pass\", \"pass\", \"pass\", \"pass\", \"pass\", \"pass\", \"pass\", \"pass\", \"pass\", \"passage\", \"passage\", \"passage\", \"passage\", \"passage\", \"passage\", \"passage\", \"passage\", \"patent\", \"patent\", \"patent\", \"patent\", \"pathogen\", \"patient\", \"patient\", \"patient\", \"patient\", \"patient\", \"patient\", \"payload\", \"payload\", \"payload\", \"pcb\", \"pcb\", \"peace\", \"peace\", \"peace\", \"peace\", \"peace\", \"peace\", \"peace\", \"peace\", \"peace\", \"peace\", \"peace\", \"pedal\", \"pedal\", \"penalty\", \"penalty\", \"penalty\", \"penalty\", \"penalty\", \"penalty\", \"penalty\", \"penalty\", \"penalty\", \"pennant\", \"pentium\", \"performance\", \"performance\", \"performance\", \"performance\", \"performance\", \"performance\", \"performance\", \"performance\", \"performance\", \"performance\", \"performance\", \"performance\", \"performance\", \"performance\", \"period\", \"period\", \"period\", \"period\", \"period\", \"period\", \"period\", \"period\", \"period\", \"period\", \"period\", \"period\", \"permutation\", \"permutation\", \"phenylalanine\", \"photography\", \"physician\", \"physician\", \"physician\", \"physician\", \"pick\", \"pick\", \"pick\", \"pick\", \"pick\", \"pick\", \"pick\", \"pick\", \"pick\", \"pick\", \"pick\", \"pick\", \"pick\", \"pick\", \"pick\", \"pin\", \"pin\", \"pin\", \"pin\", \"pin\", \"pin\", \"pin\", \"pin\", \"pin\", \"pistol\", \"pistol\", \"piston\", \"piston\", \"pitch\", \"pitch\", \"pitch\", \"pitch\", \"pitch\", \"pitch\", \"pitch\", \"pitch\", \"pitcher\", \"pitching\", \"pixel\", \"pixel\", \"pixel\", \"pixel\", \"pixel\", \"pixmap\", \"pixmap\", \"plaintext\", \"plaintext\", \"plaintext\", \"plaintiff\", \"plan\", \"plan\", \"plan\", \"plan\", \"plan\", \"plan\", \"plan\", \"plan\", \"plan\", \"plan\", \"plan\", \"plan\", \"plan\", \"plan\", \"plan\", \"planetary\", \"planetary\", \"plant\", \"plant\", \"plant\", \"plant\", \"plant\", \"plant\", \"plant\", \"plant\", \"plant\", \"plant\", \"plant\", \"plasma\", \"platoon\", \"player\", \"player\", \"player\", \"player\", \"player\", \"player\", \"player\", \"playoff\", \"playoff\", \"playoff\", \"plotting\", \"plugger\", \"plugger\", \"plutonium\", \"plutonium\", \"plutonium\", \"poer\", \"pogrom\", \"poisonous\", \"police\", \"police\", \"police\", \"police\", \"police\", \"police\", \"police\", \"police\", \"police\", \"police\", \"policy\", \"policy\", \"policy\", \"policy\", \"policy\", \"policy\", \"policy\", \"policy\", \"policy\", \"policy\", \"policy\", \"policy\", \"policy\", \"political\", \"political\", \"political\", \"political\", \"political\", \"political\", \"political\", \"political\", \"political\", \"political\", \"political\", \"polygon\", \"polygon\", \"poo\", \"population\", \"population\", \"population\", \"population\", \"population\", \"population\", \"population\", \"population\", \"population\", \"population\", \"population\", \"population\", \"popup\", \"popup\", \"popup\", \"port\", \"port\", \"port\", \"port\", \"port\", \"port\", \"port\", \"port\", \"posting\", \"posting\", \"posting\", \"posting\", \"posting\", \"posting\", \"posting\", \"posting\", \"posting\", \"posting\", \"posting\", \"posting\", \"posting\", \"posting\", \"posting\", \"postscript\", \"powerpc\", \"powerpc\", \"powerplay\", \"pray\", \"pray\", \"pray\", \"pray\", \"pray\", \"pray\", \"pray\", \"pray\", \"pray\", \"prayer\", \"prayer\", \"predicate\", \"premise\", \"premise\", \"premise\", \"premise\", \"premise\", \"premise\", \"premise\", \"press\", \"press\", \"press\", \"press\", \"press\", \"press\", \"press\", \"press\", \"press\", \"press\", \"press\", \"press\", \"press\", \"press\", \"prevention\", \"prevention\", \"previewer\", \"priest\", \"priest\", \"priest\", \"priest\", \"priest\", \"print\", \"print\", \"print\", \"print\", \"print\", \"print\", \"print\", \"print\", \"print\", \"print\", \"print\", \"print\", \"printer\", \"printer\", \"printer\", \"printer\", \"privacy\", \"privacy\", \"privacy\", \"privacy\", \"privacy\", \"privacy\", \"private\", \"private\", \"private\", \"private\", \"private\", \"private\", \"private\", \"private\", \"private\", \"private\", \"private\", \"private\", \"private\", \"private\", \"prize\", \"prize\", \"prize\", \"prize\", \"prize\", \"prize\", \"prize\", \"prize\", \"prize\", \"probe\", \"probe\", \"probe\", \"probe\", \"proceeding\", \"proceeding\", \"proceeding\", \"proceeding\", \"proceeding\", \"product\", \"product\", \"product\", \"product\", \"product\", \"product\", \"product\", \"product\", \"product\", \"product\", \"product\", \"product\", \"product\", \"product\", \"project\", \"project\", \"project\", \"project\", \"project\", \"project\", \"project\", \"project\", \"project\", \"project\", \"project\", \"project\", \"project\", \"project\", \"projector\", \"projector\", \"projector\", \"promiscuous\", \"propaganda\", \"propaganda\", \"prophecy\", \"prophecy\", \"prophecy\", \"prophecy\", \"prophet\", \"prophet\", \"prophet\", \"prophet\", \"proposition\", \"proposition\", \"proposition\", \"proposition\", \"proposition\", \"propulsion\", \"prosecution\", \"prosecution\", \"prosecution\", \"protect\", \"protect\", \"protect\", \"protect\", \"protect\", \"protect\", \"protect\", \"protect\", \"protect\", \"protect\", \"protect\", \"protect\", \"protect\", \"protect\", \"protein\", \"protein\", \"protestant\", \"protestant\", \"prove\", \"prove\", \"prove\", \"prove\", \"prove\", \"prove\", \"prove\", \"prove\", \"prove\", \"prove\", \"prove\", \"prove\", \"prove\", \"prove\", \"prove\", \"province\", \"province\", \"province\", \"province\", \"psalm\", \"pt\", \"pub\", \"pub\", \"pub\", \"pub\", \"pub\", \"pub\", \"pub\", \"puck\", \"puck\", \"puke\", \"pump\", \"pump\", \"pump\", \"pump\", \"pump\", \"pump\", \"purse\", \"quack\", \"quack\", \"quote\", \"quote\", \"quote\", \"quote\", \"quote\", \"quote\", \"quote\", \"quote\", \"quote\", \"quote\", \"quote\", \"quote\", \"quote\", \"quote\", \"racist\", \"racist\", \"racist\", \"radar\", \"radar\", \"radar\", \"radii\", \"radio\", \"radio\", \"radio\", \"radio\", \"radio\", \"radio\", \"radio\", \"radio\", \"radio\", \"radio\", \"radio\", \"radio\", \"radio\", \"radio\", \"radio\", \"ram\", \"ram\", \"ram\", \"ram\", \"ram\", \"ram\", \"random\", \"random\", \"random\", \"random\", \"random\", \"random\", \"random\", \"random\", \"random\", \"random\", \"random\", \"random\", \"rate\", \"rate\", \"rate\", \"rate\", \"rate\", \"rate\", \"rate\", \"rate\", \"rate\", \"rate\", \"rate\", \"rate\", \"rate\", \"rate\", \"rate\", \"rayssd\", \"rayssd\", \"rbi\", \"reaction\", \"reaction\", \"reaction\", \"reaction\", \"reaction\", \"reaction\", \"reaction\", \"reaction\", \"reaction\", \"reaction\", \"reaction\", \"reaction\", \"realm\", \"realm\", \"realm\", \"rear\", \"rear\", \"rear\", \"rear\", \"rear\", \"reboot\", \"receiver\", \"receiver\", \"receiver\", \"receiver\", \"receiver\", \"receiver\", \"receiver\", \"reciever\", \"record\", \"record\", \"record\", \"record\", \"record\", \"record\", \"record\", \"record\", \"record\", \"record\", \"record\", \"record\", \"record\", \"record\", \"reference\", \"reference\", \"reference\", \"reference\", \"reference\", \"reference\", \"reference\", \"reference\", \"reference\", \"reference\", \"reference\", \"reference\", \"reference\", \"reference\", \"reference\", \"reform\", \"reform\", \"reform\", \"reform\", \"reform\", \"refugee\", \"refugee\", \"refugee\", \"refugee\", \"regulated\", \"regulated\", \"regulated\", \"rein\", \"rein\", \"reincarnation\", \"religion\", \"religion\", \"religion\", \"religion\", \"religion\", \"religion\", \"religion\", \"religious\", \"religious\", \"religious\", \"religious\", \"religious\", \"religious\", \"religious\", \"remailer\", \"renderer\", \"renounce\", \"repeater\", \"repress\", \"repression\", \"republic\", \"residency\", \"residue\", \"restaurant\", \"restaurant\", \"resurrection\", \"resurrection\", \"retaliation\", \"retaliation\", \"return\", \"return\", \"return\", \"return\", \"return\", \"return\", \"return\", \"return\", \"return\", \"return\", \"return\", \"return\", \"return\", \"return\", \"return\", \"revelation\", \"revelation\", \"revelation\", \"revolver\", \"revolver\", \"reword\", \"ride\", \"ride\", \"ride\", \"ride\", \"ride\", \"ride\", \"ride\", \"ride\", \"ride\", \"rider\", \"rider\", \"rider\", \"riding\", \"riding\", \"rifle\", \"rifle\", \"rifle\", \"rifle\", \"rifle\", \"river\", \"river\", \"river\", \"river\", \"river\", \"river\", \"road\", \"road\", \"road\", \"road\", \"road\", \"road\", \"road\", \"road\", \"road\", \"road\", \"road\", \"road\", \"road\", \"road\", \"road\", \"rocket\", \"rocket\", \"rocket\", \"rocket\", \"rocket\", \"rocket\", \"rocket\", \"rocket\", \"rocket\", \"rocket\", \"rocket\", \"rom\", \"rom\", \"rom\", \"rom\", \"rom\", \"rom\", \"rom\", \"rom\", \"rom\", \"rom\", \"rookie\", \"rookie\", \"rookie\", \"room\", \"room\", \"room\", \"room\", \"room\", \"room\", \"room\", \"room\", \"room\", \"room\", \"room\", \"room\", \"room\", \"room\", \"room\", \"roster\", \"roster\", \"roughing\", \"round\", \"round\", \"round\", \"round\", \"round\", \"round\", \"round\", \"round\", \"round\", \"round\", \"round\", \"round\", \"round\", \"rule\", \"rule\", \"rule\", \"rule\", \"rule\", \"rule\", \"rule\", \"rule\", \"rule\", \"rule\", \"rule\", \"rule\", \"rule\", \"rule\", \"rule\", \"ruling\", \"ruling\", \"ruling\", \"runner\", \"runner\", \"russian\", \"russian\", \"russian\", \"russian\", \"russian\", \"russian\", \"russian\", \"sabbath\", \"sabbath\", \"safeguard\", \"safeguard\", \"safety\", \"safety\", \"safety\", \"safety\", \"safety\", \"safety\", \"safety\", \"safety\", \"safety\", \"safety\", \"safety\", \"safety\", \"safety\", \"safety\", \"salvation\", \"salvation\", \"satellite\", \"satellite\", \"satellite\", \"satellite\", \"satellite\", \"save\", \"save\", \"save\", \"save\", \"save\", \"save\", \"save\", \"save\", \"save\", \"save\", \"save\", \"save\", \"save\", \"save\", \"save\", \"schematic\", \"scheme\", \"scheme\", \"scheme\", \"scheme\", \"scheme\", \"scheme\", \"scheme\", \"scheme\", \"scheme\", \"scheme\", \"scheme\", \"scheme\", \"schismatic\", \"science\", \"science\", \"science\", \"science\", \"science\", \"science\", \"science\", \"science\", \"science\", \"science\", \"science\", \"scientific\", \"scientific\", \"scientific\", \"scientific\", \"scientific\", \"scientific\", \"scientific\", \"scientific\", \"scientific\", \"scientific\", \"scientific\", \"score\", \"score\", \"score\", \"score\", \"score\", \"screen\", \"screen\", \"screen\", \"screen\", \"screen\", \"screen\", \"screen\", \"screen\", \"screen\", \"screen\", \"scripture\", \"scripture\", \"scripture\", \"scsi\", \"scsi\", \"scsi\", \"scsi\", \"season\", \"season\", \"season\", \"season\", \"season\", \"secret\", \"secret\", \"secret\", \"secret\", \"secret\", \"secret\", \"secret\", \"secret\", \"secret\", \"secret\", \"secret\", \"section\", \"section\", \"section\", \"section\", \"section\", \"section\", \"section\", \"section\", \"section\", \"section\", \"section\", \"section\", \"section\", \"section\", \"secure\", \"secure\", \"secure\", \"secure\", \"secure\", \"secure\", \"secure\", \"secure\", \"secure\", \"security\", \"security\", \"security\", \"security\", \"security\", \"security\", \"security\", \"security\", \"security\", \"security\", \"security\", \"security\", \"seizure\", \"seizure\", \"seizure\", \"seizure\", \"self\", \"self\", \"self\", \"self\", \"self\", \"self\", \"self\", \"self\", \"self\", \"self\", \"self\", \"self\", \"self\", \"self\", \"semi\", \"semi\", \"semi\", \"semi\", \"semi\", \"semi\", \"semi\", \"semi\", \"semi\", \"semi\", \"semi\", \"semi\", \"semitic\", \"semitism\", \"semitism\", \"sense\", \"sense\", \"sense\", \"sense\", \"sense\", \"sense\", \"sense\", \"sense\", \"sense\", \"sense\", \"sense\", \"sense\", \"sense\", \"sense\", \"sense\", \"sensitivity\", \"sensitivity\", \"sensitivity\", \"sensor\", \"sensor\", \"sensor\", \"sensor\", \"sensor\", \"sensor\", \"serial\", \"serial\", \"serial\", \"serial\", \"serial\", \"serial\", \"serial\", \"serial\", \"serial\", \"series\", \"series\", \"series\", \"series\", \"series\", \"series\", \"series\", \"series\", \"series\", \"series\", \"series\", \"series\", \"series\", \"serve\", \"serve\", \"serve\", \"serve\", \"serve\", \"serve\", \"serve\", \"serve\", \"serve\", \"serve\", \"serve\", \"serve\", \"serve\", \"serve\", \"serve\", \"server\", \"server\", \"server\", \"server\", \"server\", \"server\", \"server\", \"server\", \"server\", \"service\", \"service\", \"service\", \"service\", \"service\", \"service\", \"service\", \"service\", \"service\", \"service\", \"service\", \"service\", \"service\", \"service\", \"service\", \"sex\", \"sex\", \"sex\", \"sex\", \"sex\", \"sex\", \"sex\", \"shameful\", \"shameful\", \"shameful\", \"shaped\", \"shareware\", \"shareware\", \"shelling\", \"shoei\", \"shoot\", \"shoot\", \"shoot\", \"shoot\", \"shoot\", \"shoot\", \"shoot\", \"shoot\", \"shoot\", \"shoot\", \"shoot\", \"shoot\", \"shoot\", \"shooting\", \"shooting\", \"shooting\", \"shooting\", \"shooting\", \"shooting\", \"shooting\", \"shortstop\", \"shot\", \"shot\", \"shot\", \"shot\", \"shot\", \"shot\", \"shot\", \"shot\", \"shot\", \"shot\", \"shotgun\", \"shout\", \"shout\", \"shout\", \"shout\", \"shuttle\", \"shuttle\", \"signal\", \"signal\", \"signal\", \"signal\", \"signal\", \"signal\", \"signal\", \"signal\", \"signal\", \"signal\", \"simm\", \"simm\", \"simms\", \"simms\", \"simms\", \"sin\", \"sin\", \"sin\", \"sin\", \"sin\", \"sin\", \"sinful\", \"sinus\", \"sipp\", \"site\", \"site\", \"site\", \"site\", \"site\", \"site\", \"site\", \"site\", \"site\", \"site\", \"site\", \"site\", \"skate\", \"skate\", \"skate\", \"skate\", \"skepticism\", \"skepticism\", \"sky\", \"sky\", \"sky\", \"sky\", \"sky\", \"sky\", \"sky\", \"sky\", \"sky\", \"sky\", \"sky\", \"slavery\", \"slavery\", \"slavery\", \"slavery\", \"slot\", \"slot\", \"slot\", \"slot\", \"slot\", \"slot\", \"slow\", \"slow\", \"slow\", \"slow\", \"slow\", \"slow\", \"slow\", \"slow\", \"slow\", \"slow\", \"slow\", \"slow\", \"slow\", \"slow\", \"smoke\", \"smoke\", \"smoke\", \"smoke\", \"smoke\", \"smoke\", \"smoke\", \"smoke\", \"smoke\", \"smoke\", \"smokeless\", \"smokeless\", \"smuggle\", \"smuggle\", \"smuggler\", \"socialism\", \"socialism\", \"society\", \"society\", \"society\", \"society\", \"society\", \"society\", \"society\", \"society\", \"society\", \"solar\", \"solar\", \"solar\", \"sore\", \"soup\", \"soup\", \"space\", \"space\", \"space\", \"space\", \"space\", \"space\", \"space\", \"space\", \"space\", \"space\", \"space\", \"space\", \"space\", \"space\", \"spacecraft\", \"spasm\", \"speaker\", \"speaker\", \"speaker\", \"speaker\", \"speaker\", \"speaker\", \"speaker\", \"speaker\", \"speaker\", \"speaker\", \"speaker\", \"speaker\", \"spec\", \"spec\", \"spec\", \"spec\", \"spec\", \"spec\", \"spec\", \"spec\", \"spec\", \"spec\", \"speed\", \"speed\", \"speed\", \"speed\", \"speed\", \"speed\", \"speed\", \"speed\", \"speed\", \"speed\", \"speed\", \"speed\", \"speed\", \"speed\", \"speedo\", \"spending\", \"spending\", \"spending\", \"sperm\", \"spline\", \"spoof\", \"sport\", \"sport\", \"sport\", \"sport\", \"sport\", \"sport\", \"sport\", \"sport\", \"sport\", \"sport\", \"sporting\", \"sporty\", \"sprint\", \"sprocket\", \"sprout\", \"spy\", \"spy\", \"spy\", \"spy\", \"spy\", \"squid\", \"stalk\", \"stat\", \"stat\", \"stat\", \"stat\", \"stat\", \"stat\", \"station\", \"station\", \"station\", \"station\", \"station\", \"station\", \"station\", \"station\", \"station\", \"station\", \"station\", \"station\", \"station\", \"station\", \"steam\", \"steam\", \"steam\", \"steam\", \"steer\", \"steer\", \"steer\", \"steer\", \"steer\", \"steering\", \"steering\", \"stereo\", \"stereo\", \"stereo\", \"stereo\", \"stereo\", \"stimulus\", \"stimulus\", \"stimulus\", \"stolen\", \"stool\", \"stove\", \"stove\", \"stove\", \"stove\", \"strawberry\", \"stream\", \"stream\", \"stream\", \"stream\", \"stream\", \"stream\", \"stream\", \"strong\", \"strong\", \"strong\", \"strong\", \"strong\", \"strong\", \"strong\", \"strong\", \"strong\", \"strong\", \"strong\", \"strong\", \"strong\", \"strong\", \"stud\", \"study\", \"study\", \"study\", \"study\", \"study\", \"study\", \"study\", \"study\", \"study\", \"study\", \"study\", \"study\", \"study\", \"study\", \"substance\", \"substance\", \"substance\", \"substance\", \"substance\", \"substance\", \"substance\", \"substance\", \"substance\", \"substance\", \"subvert\", \"subvert\", \"sugar\", \"sugar\", \"sugar\", \"summer\", \"summer\", \"summer\", \"summer\", \"summer\", \"summer\", \"summer\", \"summer\", \"summer\", \"summer\", \"summer\", \"summer\", \"sunrise\", \"sunrise\", \"sunset\", \"sunset\", \"sunset\", \"superstition\", \"supply\", \"supply\", \"supply\", \"supply\", \"supply\", \"supply\", \"supply\", \"supply\", \"supply\", \"supply\", \"supply\", \"supply\", \"supply\", \"surface\", \"surface\", \"surface\", \"surface\", \"surface\", \"surface\", \"surface\", \"surface\", \"surface\", \"surface\", \"surface\", \"surface\", \"surface\", \"swelling\", \"swerve\", \"switch\", \"switch\", \"switch\", \"switch\", \"switch\", \"switch\", \"switch\", \"switch\", \"switch\", \"switch\", \"switch\", \"symmetric\", \"symmetric\", \"symptom\", \"symptom\", \"symptom\", \"symptom\", \"symptom\", \"syrian\", \"talent\", \"talent\", \"talent\", \"talent\", \"talent\", \"talent\", \"talent\", \"tank\", \"tank\", \"tank\", \"tank\", \"tank\", \"tank\", \"tank\", \"tank\", \"tank\", \"tank\", \"tank\", \"tank\", \"tap\", \"tap\", \"tap\", \"tap\", \"tap\", \"tap\", \"tap\", \"tap\", \"tap\", \"tap\", \"taste\", \"taste\", \"taste\", \"taste\", \"taste\", \"taste\", \"taste\", \"taste\", \"taste\", \"tax\", \"tax\", \"tax\", \"tax\", \"tax\", \"tax\", \"tax\", \"tax\", \"tax\", \"taxis\", \"taxis\", \"taxis\", \"taxis\", \"taxis\", \"taxis\", \"tcsh\", \"teach\", \"teach\", \"teach\", \"teach\", \"teach\", \"teach\", \"teach\", \"teach\", \"teach\", \"teach\", \"teach\", \"teach\", \"teach\", \"teach\", \"teaching\", \"teaching\", \"teaching\", \"teaching\", \"teaching\", \"teaching\", \"tear\", \"tear\", \"tear\", \"tear\", \"tear\", \"tear\", \"tear\", \"tear\", \"tear\", \"technical\", \"technical\", \"technical\", \"technical\", \"technical\", \"technical\", \"technical\", \"technical\", \"technical\", \"technical\", \"technical\", \"technical\", \"technology\", \"technology\", \"technology\", \"technology\", \"technology\", \"technology\", \"technology\", \"technology\", \"technology\", \"technology\", \"technology\", \"technology\", \"telecommunication\", \"telecommunication\", \"telecommunication\", \"telescope\", \"temperature\", \"temperature\", \"temperature\", \"temperature\", \"temperature\", \"temperature\", \"temperature\", \"temperature\", \"term\", \"term\", \"term\", \"term\", \"term\", \"term\", \"term\", \"term\", \"term\", \"term\", \"term\", \"term\", \"term\", \"term\", \"term\", \"territory\", \"territory\", \"territory\", \"territory\", \"territory\", \"test\", \"test\", \"test\", \"test\", \"test\", \"test\", \"test\", \"test\", \"test\", \"test\", \"test\", \"test\", \"test\", \"test\", \"test\", \"theistic\", \"theology\", \"theology\", \"theology\", \"theory\", \"theory\", \"theory\", \"theory\", \"theory\", \"theory\", \"theory\", \"theory\", \"theory\", \"theory\", \"theory\", \"theory\", \"theory\", \"theory\", \"theory\", \"therapy\", \"therapy\", \"therapy\", \"thine\", \"throttle\", \"throw\", \"throw\", \"throw\", \"throw\", \"throw\", \"throw\", \"throw\", \"throw\", \"throw\", \"throw\", \"throw\", \"throw\", \"throw\", \"throw\", \"throw\", \"thruster\", \"thruster\", \"thug\", \"thug\", \"thug\", \"thug\", \"thug\", \"tie\", \"tie\", \"tie\", \"tie\", \"tie\", \"tie\", \"tie\", \"tie\", \"tie\", \"tie\", \"tie\", \"tire\", \"tire\", \"tire\", \"title\", \"title\", \"title\", \"title\", \"title\", \"title\", \"title\", \"title\", \"title\", \"title\", \"title\", \"title\", \"titty\", \"tobacco\", \"tobacco\", \"tobacco\", \"tomb\", \"toner\", \"toolkit\", \"toolkit\", \"toolkit\", \"torque\", \"torture\", \"torture\", \"torture\", \"torture\", \"torture\", \"total\", \"total\", \"total\", \"total\", \"total\", \"total\", \"total\", \"total\", \"total\", \"total\", \"total\", \"total\", \"total\", \"total\", \"tower\", \"tower\", \"tower\", \"tower\", \"town\", \"town\", \"town\", \"town\", \"town\", \"town\", \"town\", \"town\", \"town\", \"town\", \"town\", \"trade\", \"trade\", \"trade\", \"trade\", \"trade\", \"trade\", \"trade\", \"trade\", \"trade\", \"trade\", \"trade\", \"trade\", \"traffic\", \"traffic\", \"traffic\", \"traffic\", \"traffic\", \"traffic\", \"traffic\", \"traffic\", \"traffic\", \"traffic\", \"traffic\", \"traffic\", \"transfer\", \"transfer\", \"transfer\", \"transfer\", \"transfer\", \"transfer\", \"transfer\", \"transfer\", \"transfer\", \"transfer\", \"transfer\", \"transfer\", \"transfer\", \"transfer\", \"treat\", \"treat\", \"treat\", \"treat\", \"treat\", \"treat\", \"treat\", \"treat\", \"treat\", \"treat\", \"treat\", \"treat\", \"treatment\", \"treatment\", \"treatment\", \"treatment\", \"treatment\", \"treatment\", \"treatment\", \"treatment\", \"treatment\", \"trestle\", \"trial\", \"trial\", \"trial\", \"trial\", \"trial\", \"trial\", \"trial\", \"trial\", \"trial\", \"trial\", \"trial\", \"trial\", \"troop\", \"troop\", \"troop\", \"troop\", \"troop\", \"troop\", \"troop\", \"truck\", \"truck\", \"truck\", \"truck\", \"truck\", \"truck\", \"truck\", \"truck\", \"truck\", \"truck\", \"truetype\", \"trunk\", \"trunk\", \"trunk\", \"trust\", \"trust\", \"trust\", \"trust\", \"trust\", \"trust\", \"trust\", \"trust\", \"trust\", \"trust\", \"trust\", \"trust\", \"trust\", \"trust\", \"truth\", \"truth\", \"truth\", \"truth\", \"truth\", \"truth\", \"truth\", \"truth\", \"truth\", \"truth\", \"truth\", \"truth\", \"tumor\", \"turbine\", \"turkish\", \"turkish\", \"turkish\", \"turkish\", \"turkish\", \"turmeric\", \"typewriter\", \"typewriter\", \"ultrasound\", \"unapproved\", \"unassisted\", \"unauthorized\", \"unauthorized\", \"unauthorized\", \"unauthorized\", \"unconventional\", \"unemployment\", \"unicorn\", \"unit\", \"unit\", \"unit\", \"unit\", \"unit\", \"unit\", \"unit\", \"unit\", \"unit\", \"unit\", \"unit\", \"unit\", \"universe\", \"universe\", \"universe\", \"universe\", \"universe\", \"universe\", \"universe\", \"upgrade\", \"upgrade\", \"upgrade\", \"upgrade\", \"upgrade\", \"upgrade\", \"upgrade\", \"upgrade\", \"upgrade\", \"uranium\", \"uranium\", \"uranium\", \"uranium\", \"usefull\", \"user\", \"user\", \"user\", \"user\", \"user\", \"user\", \"user\", \"user\", \"user\", \"user\", \"user\", \"user\", \"user\", \"user\", \"uudecode\", \"uuencode\", \"vaginal\", \"value\", \"value\", \"value\", \"value\", \"value\", \"value\", \"value\", \"value\", \"value\", \"value\", \"value\", \"value\", \"value\", \"value\", \"value\", \"vandalize\", \"vandalize\", \"vat\", \"vcr\", \"vcr\", \"vehicle\", \"vehicle\", \"vehicle\", \"vehicle\", \"vehicle\", \"vehicle\", \"vehicle\", \"vehicle\", \"venture\", \"venture\", \"venture\", \"venture\", \"verdict\", \"verdict\", \"verdict\", \"verdict\", \"verse\", \"verse\", \"verse\", \"vesa\", \"video\", \"video\", \"video\", \"video\", \"video\", \"video\", \"video\", \"video\", \"video\", \"video\", \"video\", \"video\", \"village\", \"village\", \"violent\", \"violent\", \"violent\", \"violent\", \"violent\", \"violent\", \"violent\", \"violent\", \"visual\", \"visual\", \"visual\", \"visual\", \"visual\", \"visual\", \"vitality\", \"vnet\", \"volt\", \"volt\", \"volt\", \"voltage\", \"voltage\", \"voltage\", \"voltage\", \"vote\", \"vote\", \"vote\", \"vote\", \"vote\", \"vote\", \"vote\", \"vote\", \"vote\", \"vote\", \"voting\", \"voting\", \"voting\", \"vram\", \"vram\", \"vram\", \"wagon\", \"wagon\", \"wagon\", \"wagon\", \"waiting\", \"waiting\", \"waiting\", \"waiting\", \"walk\", \"walk\", \"walk\", \"walk\", \"walk\", \"walk\", \"walk\", \"walk\", \"walk\", \"walk\", \"walk\", \"walk\", \"walk\", \"walk\", \"war\", \"war\", \"war\", \"war\", \"war\", \"war\", \"war\", \"war\", \"war\", \"war\", \"war\", \"war\", \"watch\", \"watch\", \"watch\", \"watch\", \"watch\", \"watch\", \"watch\", \"watch\", \"watch\", \"watch\", \"watch\", \"watch\", \"watch\", \"watch\", \"watch\", \"wate\", \"water\", \"water\", \"water\", \"water\", \"water\", \"water\", \"water\", \"water\", \"water\", \"water\", \"water\", \"water\", \"wave\", \"wave\", \"wave\", \"wave\", \"wave\", \"wave\", \"wave\", \"wave\", \"wave\", \"wave\", \"weapon\", \"weapon\", \"weapon\", \"westerner\", \"wheel\", \"wheel\", \"wheel\", \"wheel\", \"wheel\", \"wheel\", \"whitespace\", \"widget\", \"widget\", \"widget\", \"widget\", \"widget\", \"winbench\", \"winmark\", \"wire\", \"wire\", \"wire\", \"wire\", \"wire\", \"wire\", \"wire\", \"wire\", \"wire\", \"wire\", \"wire\", \"wire\", \"wireframe\", \"wireframe\", \"wiretapping\", \"withdrawal\", \"withdrawal\", \"wod\", \"woman\", \"woman\", \"woman\", \"woman\", \"woman\", \"woman\", \"woman\", \"woman\", \"woman\", \"woman\", \"woman\", \"woman\", \"woman\", \"won\", \"wood\", \"wood\", \"wood\", \"wood\", \"wood\", \"worship\", \"worship\", \"worship\", \"worship\", \"xputimage\", \"xterm\", \"xterm\", \"xterm\", \"xterm\", \"xterm\", \"yeast\", \"zionism\", \"zionism\", \"zionist\"]}, \"R\": 30, \"lambda.step\": 0.01, \"plot.opts\": {\"xlab\": \"PC1\", \"ylab\": \"PC2\"}, \"topic.order\": [1, 2, 3, 4, 5, 6, 7, 8, 9, 10, 11, 12, 13, 14, 15]};\n",
       "\n",
       "function LDAvis_load_lib(url, callback){\n",
       "  var s = document.createElement('script');\n",
       "  s.src = url;\n",
       "  s.async = true;\n",
       "  s.onreadystatechange = s.onload = callback;\n",
       "  s.onerror = function(){console.warn(\"failed to load library \" + url);};\n",
       "  document.getElementsByTagName(\"head\")[0].appendChild(s);\n",
       "}\n",
       "\n",
       "if(typeof(LDAvis) !== \"undefined\"){\n",
       "   // already loaded: just create the visualization\n",
       "   !function(LDAvis){\n",
       "       new LDAvis(\"#\" + \"ldavis_el39631403591203468322784348803\", ldavis_el39631403591203468322784348803_data);\n",
       "   }(LDAvis);\n",
       "}else if(typeof define === \"function\" && define.amd){\n",
       "   // require.js is available: use it to load d3/LDAvis\n",
       "   require.config({paths: {d3: \"https://cdnjs.cloudflare.com/ajax/libs/d3/3.5.5/d3.min\"}});\n",
       "   require([\"d3\"], function(d3){\n",
       "      window.d3 = d3;\n",
       "      LDAvis_load_lib(\"https://cdn.rawgit.com/bmabey/pyLDAvis/files/ldavis.v1.0.0.js\", function(){\n",
       "        new LDAvis(\"#\" + \"ldavis_el39631403591203468322784348803\", ldavis_el39631403591203468322784348803_data);\n",
       "      });\n",
       "    });\n",
       "}else{\n",
       "    // require.js not available: dynamically load d3 & LDAvis\n",
       "    LDAvis_load_lib(\"https://cdnjs.cloudflare.com/ajax/libs/d3/3.5.5/d3.min.js\", function(){\n",
       "         LDAvis_load_lib(\"https://cdn.rawgit.com/bmabey/pyLDAvis/files/ldavis.v1.0.0.js\", function(){\n",
       "                 new LDAvis(\"#\" + \"ldavis_el39631403591203468322784348803\", ldavis_el39631403591203468322784348803_data);\n",
       "            })\n",
       "         });\n",
       "}\n",
       "</script>"
      ],
      "text/plain": [
       "PreparedData(topic_coordinates=              x         y  topics  cluster       Freq\n",
       "topic                                                \n",
       "0     -0.165173 -0.009006       1        1   9.890977\n",
       "1      0.210323 -0.086305       2        1  11.468851\n",
       "2      0.027332  0.092841       3        1   5.261434\n",
       "3      0.035697 -0.014281       4        1   5.317089\n",
       "4     -0.126074  0.014067       5        1   8.836576\n",
       "5      0.207948  0.001581       6        1   5.144166\n",
       "6      0.102243 -0.096670       7        1   6.921495\n",
       "7      0.062263  0.126715       8        1   6.011788\n",
       "8     -0.125939  0.202763       9        1   3.704818\n",
       "9     -0.101050 -0.138454      10        1   3.602279\n",
       "10    -0.148983 -0.105547      11        1   9.638062\n",
       "11    -0.102006  0.009523      12        1   6.920092\n",
       "12     0.073450  0.020449      13        1   3.924374\n",
       "13    -0.044227 -0.108581      14        1   8.099174\n",
       "14     0.094196  0.090905      15        1   5.258832, topic_info=     Category         Freq        Term        Total  loglift  logprob\n",
       "2152  Default  3855.000000         max  3855.000000  30.0000  30.0000\n",
       "1217  Default  1359.000000         gun  1359.000000  29.0000  29.0000\n",
       "1908  Default   906.000000      player   906.000000  28.0000  28.0000\n",
       "46    Default   684.000000        bike   684.000000  27.0000  27.0000\n",
       "78    Default  1030.000000      driver  1030.000000  26.0000  26.0000\n",
       "1427  Default  1152.000000        chip  1152.000000  25.0000  25.0000\n",
       "1083  Default   620.000000      season   620.000000  24.0000  24.0000\n",
       "24    Default   983.000000        disk   983.000000  23.0000  23.0000\n",
       "1276  Default   586.000000      weapon   586.000000  22.0000  22.0000\n",
       "41    Default   884.000000       speed   884.000000  21.0000  21.0000\n",
       "1020  Default  1077.000000       image  1077.000000  20.0000  20.0000\n",
       "1045  Default  1022.000000       space  1022.000000  19.0000  19.0000\n",
       "427   Default   952.000000       human   952.000000  18.0000  18.0000\n",
       "2335  Default   462.000000  controller   462.000000  17.0000  17.0000\n",
       "326   Default   766.000000  encryption   766.000000  16.0000  16.0000\n",
       "874   Default   476.000000        food   476.000000  15.0000  15.0000\n",
       "848   Default   529.000000       entry   529.000000  14.0000  14.0000\n",
       "145   Default   552.000000       crime   552.000000  13.0000  13.0000\n",
       "2373  Default   350.000000     firearm   350.000000  12.0000  12.0000\n",
       "2408  Default   472.000000         bus   472.000000  11.0000  11.0000\n",
       "850   Default   629.000000     monitor   629.000000  10.0000  10.0000\n",
       "268   Default   465.000000        ride   465.000000   9.0000   9.0000\n",
       "382   Default   572.000000       board   572.000000   8.0000   8.0000\n",
       "2970  Default   633.000000     turkish   633.000000   7.0000   7.0000\n",
       "845   Default   843.000000       color   843.000000   6.0000   6.0000\n",
       "1696  Default   633.000000     israeli   633.000000   5.0000   5.0000\n",
       "2434  Default   760.000000      server   760.000000   4.0000   4.0000\n",
       "1104  Default   735.000000      memory   735.000000   3.0000   3.0000\n",
       "2896  Default   554.000000    armenian   554.000000   2.0000   2.0000\n",
       "1641  Default   686.000000    religion   686.000000   1.0000   1.0000\n",
       "...       ...          ...         ...          ...      ...      ...\n",
       "2291  Topic15   206.980194        shot   328.187958   2.4843  -5.0771\n",
       "2365  Topic15   103.990334         amp   152.780411   2.5606  -5.7654\n",
       "7533  Topic15    33.103584       skate    41.251717   2.7252  -6.9100\n",
       "2763  Topic15    63.801182      goalie    90.258339   2.5984  -6.2539\n",
       "159   Topic15   140.656021     penalty   239.022217   2.4150  -5.4634\n",
       "1078  Topic15   256.756805        goal   513.435242   2.2523  -4.8616\n",
       "1981  Topic15   122.190407     clipper   206.942810   2.4184  -5.6041\n",
       "2692  Topic15   104.090775         tap   175.188263   2.4247  -5.7644\n",
       "2909  Topic15    73.221741         cap   115.422371   2.4902  -6.1162\n",
       "759   Topic15   216.007675      period   537.355042   2.0339  -5.0344\n",
       "2472  Topic15   197.125992        pick   500.473206   2.0136  -5.1258\n",
       "4433  Topic15   103.171722     battery   211.350510   2.2281  -5.7733\n",
       "1427  Topic15   325.909851        chip  1152.534668   1.6822  -4.6231\n",
       "2801  Topic15   124.674812       round   289.480286   2.1029  -5.5840\n",
       "2249  Topic15    67.153152     speaker   131.545319   2.2729  -6.2027\n",
       "1744  Topic15    84.853828        blue   192.586365   2.1256  -5.9688\n",
       "1479  Topic15   180.870804     company   697.019958   1.5962  -5.2119\n",
       "4169  Topic15    87.454865      crypto   210.411697   2.0673  -5.9386\n",
       "2569  Topic15   125.188492       trade   411.229126   1.7559  -5.5799\n",
       "959   Topic15   112.680710       radio   363.862305   1.7730  -5.6851\n",
       "1908  Topic15   175.408646      player   906.823975   1.3024  -5.2426\n",
       "2711  Topic15   125.143738         fan   466.847229   1.6287  -5.5802\n",
       "378   Topic15   106.746208      series   349.301788   1.7598  -5.7392\n",
       "368   Topic15   115.668289       watch   514.031006   1.4537  -5.6590\n",
       "550   Topic15   117.308212     contact   656.888000   1.2226  -5.6449\n",
       "1508  Topic15   124.206703        code   854.095642   1.0172  -5.5877\n",
       "263   Topic15   112.388924         net   573.484314   1.3155  -5.6877\n",
       "1799  Topic15   108.381462        face   581.905762   1.2646  -5.7240\n",
       "1462  Topic15   107.785667       cover   637.230286   1.1683  -5.7295\n",
       "314   Topic15   107.412735        copy   739.160522   1.0164  -5.7330\n",
       "\n",
       "[1094 rows x 6 columns], token_table=       Topic      Freq         Term\n",
       "term                               \n",
       "7163       3  0.974268          ERA\n",
       "4887      10  0.931280        ETHER\n",
       "1986       6  0.971715          MHz\n",
       "1986       7  0.007361          MHz\n",
       "1986      13  0.007361          MHz\n",
       "628        1  0.061511     absolute\n",
       "628        2  0.010855     absolute\n",
       "628        3  0.028946     absolute\n",
       "628        5  0.021710     absolute\n",
       "628        7  0.003618     absolute\n",
       "628        8  0.003618     absolute\n",
       "628       10  0.018091     absolute\n",
       "628       11  0.734509     absolute\n",
       "628       12  0.043419     absolute\n",
       "628       14  0.075984     absolute\n",
       "9865      12  0.943765   abstinence\n",
       "1431       2  0.050349     academic\n",
       "1431       4  0.025174     academic\n",
       "1431       5  0.163633     academic\n",
       "1431       7  0.037761     academic\n",
       "1431      12  0.012587     academic\n",
       "1431      14  0.692294     academic\n",
       "2664       6  0.959886  accelerator\n",
       "2664       8  0.008347  accelerator\n",
       "2664      10  0.016694  accelerator\n",
       "1432       1  0.007453       access\n",
       "1432       2  0.375611       access\n",
       "1432       3  0.023848       access\n",
       "1432       4  0.029810       access\n",
       "1432       5  0.011924       access\n",
       "...      ...       ...          ...\n",
       "1877       6  0.005928        woman\n",
       "1877       7  0.001482        woman\n",
       "1877       8  0.001482        woman\n",
       "1877       9  0.001482        woman\n",
       "1877      10  0.001482        woman\n",
       "1877      11  0.229711        woman\n",
       "1877      12  0.459422        woman\n",
       "1877      13  0.001482        woman\n",
       "1877      14  0.004446        woman\n",
       "1877      15  0.004446        woman\n",
       "10581      8  0.954070          won\n",
       "6091       5  0.014601         wood\n",
       "6091       8  0.160612         wood\n",
       "6091      11  0.043803         wood\n",
       "6091      12  0.014601         wood\n",
       "6091      13  0.744658         wood\n",
       "207        1  0.005489      worship\n",
       "207       10  0.060378      worship\n",
       "207       11  0.916646      worship\n",
       "207       13  0.010978      worship\n",
       "2435      13  0.911875    xputimage\n",
       "1150       2  0.962646        xterm\n",
       "1150       3  0.006017        xterm\n",
       "1150       6  0.012033        xterm\n",
       "1150       9  0.006017        xterm\n",
       "1150      10  0.006017        xterm\n",
       "2106      12  0.987158        yeast\n",
       "6480       1  0.891681      zionism\n",
       "6480       7  0.093861      zionism\n",
       "5131       1  0.967848      zionist\n",
       "\n",
       "[5453 rows x 3 columns], R=30, lambda_step=0.01, plot_opts={'xlab': 'PC1', 'ylab': 'PC2'}, topic_order=[1, 2, 3, 4, 5, 6, 7, 8, 9, 10, 11, 12, 13, 14, 15])"
      ]
     },
     "execution_count": 35,
     "metadata": {},
     "output_type": "execute_result"
    }
   ],
   "source": [
    "pyLDAvis.enable_notebook()\n",
    "pyLDAvis.gensim.prepare(result_lda_model, doc_term_matrix, dictionary,sort_topics=False)"
   ]
  },
  {
   "cell_type": "markdown",
   "metadata": {},
   "source": [
    "##### spot cheks"
   ]
  },
  {
   "cell_type": "code",
   "execution_count": 36,
   "metadata": {},
   "outputs": [],
   "source": [
    "def top_topic(doc2bow, lda_model):\n",
    "    print('='*100)\n",
    "    for index, score in sorted(lda_model[doc2bow], key=lambda tup: -1*tup[1]):\n",
    "        print(\"Score: \", round(score, 2),\" Topic: \", result_lda_model.print_topic(index, 7))"
   ]
  },
  {
   "cell_type": "code",
   "execution_count": 37,
   "metadata": {},
   "outputs": [
    {
     "name": "stdout",
     "output_type": "stream",
     "text": [
      "Re: Is MSG sensitivity superstition?\n",
      "\n",
      " Distribution: world In article (Doug Bank) writes: |> |> Here is another anecdotal story. I am a picky eater and never wanted to |> try chinese food, however, I finally tried some in order to please a |> girl I was seeing at the time. I had never heard of Chinese restaurant |> syndrome. A group of us went to the restaurant and all shared 6 different |> dishes. It didnt taste great, but I decided it wasnt so bad. We went |> home and went to bed early. I woke up at 2 AM and puked my guts outs. |> I threw up for so long that (Im not kidding) I pulled a muscle in |> my tongue. Dry heaves and everything. No one else got sick, and Im |> not allergic to anything that I know of. |> |> Suffice to say that I wont go into a chinese restaurant unless I am |> physically threatened. The smell of the food makes me ill (and that *is* |> a psycholgical reaction). When I have been dragged in to suffer |> through beef and broccoli without any sauces, I insist on no MSG. |> I havent gotten sick yet. |> |> -- I had a similar reaction to Chinese food but came to a completly different conclusion. Ive eaten Chinese food for ages and never had problems. I went with some Chinese Malaysian friends to a swanky Chinses rest. and they ordered lots of stuff I had never seen before. The only thing I can remember of that meal was the first course, scallops served in the shell with a soy-type sauce. I thought, \"Well, Ive only had scallops once and I was sick after but that could have been a coincidence\". That night as I sat on the bathroom floor, sweating and emptying my stomach the hard way, I decided I would never touch another scallop. I may not be allergic but I dont want to take the chance. Amy Mossman  \n",
      "\n",
      "\n",
      "====================================================================================================\n",
      "Score:  0.96  Topic:  0.016*\"food\" + 0.014*\"human\" + 0.009*\"moral\" + 0.007*\"atheist\" + 0.007*\"effect\" + 0.007*\"eat\" + 0.006*\"animal\"\n",
      "Score:  0.03  Topic:  0.008*\"drug\" + 0.007*\"woman\" + 0.007*\"doctor\" + 0.006*\"child\" + 0.006*\"patient\" + 0.006*\"disease\" + 0.005*\"objective\"\n"
     ]
    }
   ],
   "source": [
    "ind = 30\n",
    "\n",
    "doc2bow = df_data['doc2bow'].iloc[ind]\n",
    "\n",
    "print( df_data['text'].iloc[ind], '\\n\\n')\n",
    "top_topic(doc2bow, result_lda_model)"
   ]
  },
  {
   "cell_type": "markdown",
   "metadata": {},
   "source": [
    "# Find the most representative document for each topic"
   ]
  },
  {
   "cell_type": "code",
   "execution_count": 38,
   "metadata": {},
   "outputs": [
    {
     "data": {
      "text/html": [
       "<div>\n",
       "<style scoped>\n",
       "    .dataframe tbody tr th:only-of-type {\n",
       "        vertical-align: middle;\n",
       "    }\n",
       "\n",
       "    .dataframe tbody tr th {\n",
       "        vertical-align: top;\n",
       "    }\n",
       "\n",
       "    .dataframe thead th {\n",
       "        text-align: right;\n",
       "    }\n",
       "</style>\n",
       "<table border=\"1\" class=\"dataframe\">\n",
       "  <thead>\n",
       "    <tr style=\"text-align: right;\">\n",
       "      <th></th>\n",
       "      <th>topic</th>\n",
       "      <th>topic words</th>\n",
       "    </tr>\n",
       "  </thead>\n",
       "  <tbody>\n",
       "    <tr>\n",
       "      <th>0</th>\n",
       "      <td>Topic 1</td>\n",
       "      <td>['israeli', 'war', 'human', 'member', 'anti', 'child', 'political', 'turkish', 'murder', 'action', 'fire', 'death', 'arab', 'jewish', 'land', 'arm...</td>\n",
       "    </tr>\n",
       "    <tr>\n",
       "      <th>1</th>\n",
       "      <td>Topic 2</td>\n",
       "      <td>['image', 'color', 'display', 'server', 'application', 'disk', 'format', 'screen', 'user', 'package', 'graphic', 'code', 'widget', 'font', 'datum'...</td>\n",
       "    </tr>\n",
       "    <tr>\n",
       "      <th>2</th>\n",
       "      <td>Topic 3</td>\n",
       "      <td>['player', 'season', 'monitor', 'hit', 'score', 'fan', 'baseball', 'league', 'record', 'average', 'ball', 'stat', 'ground', 'pitch', 'tie', 'major...</td>\n",
       "    </tr>\n",
       "    <tr>\n",
       "      <th>3</th>\n",
       "      <td>Topic 4</td>\n",
       "      <td>['launch', 'algorithm', 'security', 'market', 'secret', 'chip', 'private', 'encryption', 'encrypt', 'space', 'commercial', 'moon', 'company', 'sec...</td>\n",
       "    </tr>\n",
       "    <tr>\n",
       "      <th>4</th>\n",
       "      <td>Topic 5</td>\n",
       "      <td>['armenian', 'turkish', 'job', 'attack', 'tax', 'city', 'village', 'russian', 'child', 'american', 'israeli', 'official', 'health', 'continue', 'c...</td>\n",
       "    </tr>\n",
       "    <tr>\n",
       "      <th>5</th>\n",
       "      <td>Topic 6</td>\n",
       "      <td>['driver', 'controller', 'speed', 'bus', 'board', 'chip', 'disk', 'scsi', 'ram', 'memory', 'mode', 'video', 'fast', 'motherboard', 'rom', 'rate', ...</td>\n",
       "    </tr>\n",
       "    <tr>\n",
       "      <th>6</th>\n",
       "      <td>Topic 7</td>\n",
       "      <td>['space', 'entry', 'orbit', 'copy', 'launch', 'mission', 'section', 'project', 'test', 'satellite', 'return', 'rule', 'author', 'output', 'object'...</td>\n",
       "    </tr>\n",
       "    <tr>\n",
       "      <th>7</th>\n",
       "      <td>Topic 8</td>\n",
       "      <td>['bike', 'ride', 'engine', 'speed', 'light', 'road', 'mile', 'dog', 'motorcycle', 'tire', 'oil', 'driver', 'dealer', 'brake', 'wheel', 'radar', 'f...</td>\n",
       "    </tr>\n",
       "    <tr>\n",
       "      <th>8</th>\n",
       "      <td>Topic 9</td>\n",
       "      <td>['max', 'gun', 'weapon', 'firearm', 'crime', 'criminal', 'handgun', 'rate', 'carry', 'self', 'police', 'homicide', 'safety', 'death', 'defense', '...</td>\n",
       "    </tr>\n",
       "    <tr>\n",
       "      <th>9</th>\n",
       "      <td>Topic 10</td>\n",
       "      <td>['food', 'human', 'moral', 'atheist', 'effect', 'eat', 'animal', 'msg', 'religion', 'morality', 'belief', 'study', 'diet', 'vote', 'nature', 'sens...</td>\n",
       "    </tr>\n",
       "    <tr>\n",
       "      <th>10</th>\n",
       "      <td>Topic 11</td>\n",
       "      <td>['god', 'faith', 'truth', 'christian', 'church', 'religion', 'sin', 'belief', 'die', 'scripture', 'death', 'absolute', 'act', 'choose', 'save', 't...</td>\n",
       "    </tr>\n",
       "    <tr>\n",
       "      <th>11</th>\n",
       "      <td>Topic 12</td>\n",
       "      <td>['drug', 'woman', 'doctor', 'child', 'patient', 'disease', 'objective', 'pain', 'treatment', 'apartment', 'sex', 'morality', 'medical', 'kid', 'st...</td>\n",
       "    </tr>\n",
       "    <tr>\n",
       "      <th>12</th>\n",
       "      <td>Topic 13</td>\n",
       "      <td>['water', 'gas', 'keyboard', 'tank', 'fire', 'cool', 'chip', 'air', 'signal', 'hot', 'serial', 'circuit', 'heat', 'ground', 'cable', 'switch', 'je...</td>\n",
       "    </tr>\n",
       "    <tr>\n",
       "      <th>13</th>\n",
       "      <td>Topic 14</td>\n",
       "      <td>['encryption', 'science', 'evidence', 'argument', 'privacy', 'technology', 'anonymous', 'access', 'device', 'theory', 'posting', 'value', 'user', ...</td>\n",
       "    </tr>\n",
       "    <tr>\n",
       "      <th>14</th>\n",
       "      <td>Topic 15</td>\n",
       "      <td>['chip', 'hockey', 'goal', 'period', 'shot', 'playoff', 'pick', 'company', 'player', 'penalty', 'ice', 'trade', 'fan', 'puck', 'round', 'code', 'c...</td>\n",
       "    </tr>\n",
       "  </tbody>\n",
       "</table>\n",
       "</div>"
      ],
      "text/plain": [
       "       topic  \\\n",
       "0    Topic 1   \n",
       "1    Topic 2   \n",
       "2    Topic 3   \n",
       "3    Topic 4   \n",
       "4    Topic 5   \n",
       "5    Topic 6   \n",
       "6    Topic 7   \n",
       "7    Topic 8   \n",
       "8    Topic 9   \n",
       "9   Topic 10   \n",
       "10  Topic 11   \n",
       "11  Topic 12   \n",
       "12  Topic 13   \n",
       "13  Topic 14   \n",
       "14  Topic 15   \n",
       "\n",
       "                                                                                                                                              topic words  \n",
       "0   ['israeli', 'war', 'human', 'member', 'anti', 'child', 'political', 'turkish', 'murder', 'action', 'fire', 'death', 'arab', 'jewish', 'land', 'arm...  \n",
       "1   ['image', 'color', 'display', 'server', 'application', 'disk', 'format', 'screen', 'user', 'package', 'graphic', 'code', 'widget', 'font', 'datum'...  \n",
       "2   ['player', 'season', 'monitor', 'hit', 'score', 'fan', 'baseball', 'league', 'record', 'average', 'ball', 'stat', 'ground', 'pitch', 'tie', 'major...  \n",
       "3   ['launch', 'algorithm', 'security', 'market', 'secret', 'chip', 'private', 'encryption', 'encrypt', 'space', 'commercial', 'moon', 'company', 'sec...  \n",
       "4   ['armenian', 'turkish', 'job', 'attack', 'tax', 'city', 'village', 'russian', 'child', 'american', 'israeli', 'official', 'health', 'continue', 'c...  \n",
       "5   ['driver', 'controller', 'speed', 'bus', 'board', 'chip', 'disk', 'scsi', 'ram', 'memory', 'mode', 'video', 'fast', 'motherboard', 'rom', 'rate', ...  \n",
       "6   ['space', 'entry', 'orbit', 'copy', 'launch', 'mission', 'section', 'project', 'test', 'satellite', 'return', 'rule', 'author', 'output', 'object'...  \n",
       "7   ['bike', 'ride', 'engine', 'speed', 'light', 'road', 'mile', 'dog', 'motorcycle', 'tire', 'oil', 'driver', 'dealer', 'brake', 'wheel', 'radar', 'f...  \n",
       "8   ['max', 'gun', 'weapon', 'firearm', 'crime', 'criminal', 'handgun', 'rate', 'carry', 'self', 'police', 'homicide', 'safety', 'death', 'defense', '...  \n",
       "9   ['food', 'human', 'moral', 'atheist', 'effect', 'eat', 'animal', 'msg', 'religion', 'morality', 'belief', 'study', 'diet', 'vote', 'nature', 'sens...  \n",
       "10  ['god', 'faith', 'truth', 'christian', 'church', 'religion', 'sin', 'belief', 'die', 'scripture', 'death', 'absolute', 'act', 'choose', 'save', 't...  \n",
       "11  ['drug', 'woman', 'doctor', 'child', 'patient', 'disease', 'objective', 'pain', 'treatment', 'apartment', 'sex', 'morality', 'medical', 'kid', 'st...  \n",
       "12  ['water', 'gas', 'keyboard', 'tank', 'fire', 'cool', 'chip', 'air', 'signal', 'hot', 'serial', 'circuit', 'heat', 'ground', 'cable', 'switch', 'je...  \n",
       "13  ['encryption', 'science', 'evidence', 'argument', 'privacy', 'technology', 'anonymous', 'access', 'device', 'theory', 'posting', 'value', 'user', ...  \n",
       "14  ['chip', 'hockey', 'goal', 'period', 'shot', 'playoff', 'pick', 'company', 'player', 'penalty', 'ice', 'trade', 'fan', 'puck', 'round', 'code', 'c...  "
      ]
     },
     "execution_count": 38,
     "metadata": {},
     "output_type": "execute_result"
    }
   ],
   "source": [
    "# get topic ID and corresponding topic words\n",
    "number_of_topic_words = 20\n",
    "\n",
    "dict_topics = dict(result_lda_model.show_topics(num_topics=num_topics,formatted=False,num_words=number_of_topic_words))\n",
    "\n",
    "df_topics = pd.DataFrame({'topic': list(dict_topics.keys()), \n",
    "                          'topic words': list(dict_topics.values())}, index=range(len(dict_topics)))\n",
    "\n",
    "df_topics['topic'] = df_topics['topic'].apply(lambda x: 'Topic ' + str(x + 1))\n",
    "df_topics['topic words'] = df_topics['topic words'].apply(lambda x: str(list(dict(x).keys())))\n",
    "df_topics"
   ]
  },
  {
   "cell_type": "code",
   "execution_count": 39,
   "metadata": {},
   "outputs": [
    {
     "data": {
      "text/html": [
       "<div>\n",
       "<style scoped>\n",
       "    .dataframe tbody tr th:only-of-type {\n",
       "        vertical-align: middle;\n",
       "    }\n",
       "\n",
       "    .dataframe tbody tr th {\n",
       "        vertical-align: top;\n",
       "    }\n",
       "\n",
       "    .dataframe thead th {\n",
       "        text-align: right;\n",
       "    }\n",
       "</style>\n",
       "<table border=\"1\" class=\"dataframe\">\n",
       "  <thead>\n",
       "    <tr style=\"text-align: right;\">\n",
       "      <th></th>\n",
       "      <th>topic coherence score</th>\n",
       "      <th>topic words</th>\n",
       "    </tr>\n",
       "  </thead>\n",
       "  <tbody>\n",
       "    <tr>\n",
       "      <th>0</th>\n",
       "      <td>0.807277</td>\n",
       "      <td>['driver', 'controller', 'speed', 'bus', 'board', 'chip', 'disk', 'scsi', 'ram', 'memory', 'mode', 'video', 'fast', 'motherboard', 'rom', 'rate', ...</td>\n",
       "    </tr>\n",
       "    <tr>\n",
       "      <th>1</th>\n",
       "      <td>0.750944</td>\n",
       "      <td>['image', 'color', 'display', 'server', 'application', 'disk', 'format', 'screen', 'user', 'package', 'graphic', 'code', 'widget', 'font', 'datum'...</td>\n",
       "    </tr>\n",
       "    <tr>\n",
       "      <th>2</th>\n",
       "      <td>0.699479</td>\n",
       "      <td>['player', 'season', 'monitor', 'hit', 'score', 'fan', 'baseball', 'league', 'record', 'average', 'ball', 'stat', 'ground', 'pitch', 'tie', 'major...</td>\n",
       "    </tr>\n",
       "    <tr>\n",
       "      <th>3</th>\n",
       "      <td>0.686363</td>\n",
       "      <td>['max', 'gun', 'weapon', 'firearm', 'crime', 'criminal', 'handgun', 'rate', 'carry', 'self', 'police', 'homicide', 'safety', 'death', 'defense', '...</td>\n",
       "    </tr>\n",
       "    <tr>\n",
       "      <th>4</th>\n",
       "      <td>0.683801</td>\n",
       "      <td>['god', 'faith', 'truth', 'christian', 'church', 'religion', 'sin', 'belief', 'die', 'scripture', 'death', 'absolute', 'act', 'choose', 'save', 't...</td>\n",
       "    </tr>\n",
       "  </tbody>\n",
       "</table>\n",
       "</div>"
      ],
      "text/plain": [
       "   topic coherence score  \\\n",
       "0               0.807277   \n",
       "1               0.750944   \n",
       "2               0.699479   \n",
       "3               0.686363   \n",
       "4               0.683801   \n",
       "\n",
       "                                                                                                                                             topic words  \n",
       "0  ['driver', 'controller', 'speed', 'bus', 'board', 'chip', 'disk', 'scsi', 'ram', 'memory', 'mode', 'video', 'fast', 'motherboard', 'rom', 'rate', ...  \n",
       "1  ['image', 'color', 'display', 'server', 'application', 'disk', 'format', 'screen', 'user', 'package', 'graphic', 'code', 'widget', 'font', 'datum'...  \n",
       "2  ['player', 'season', 'monitor', 'hit', 'score', 'fan', 'baseball', 'league', 'record', 'average', 'ball', 'stat', 'ground', 'pitch', 'tie', 'major...  \n",
       "3  ['max', 'gun', 'weapon', 'firearm', 'crime', 'criminal', 'handgun', 'rate', 'carry', 'self', 'police', 'homicide', 'safety', 'death', 'defense', '...  \n",
       "4  ['god', 'faith', 'truth', 'christian', 'church', 'religion', 'sin', 'belief', 'die', 'scripture', 'death', 'absolute', 'act', 'choose', 'save', 't...  "
      ]
     },
     "execution_count": 39,
     "metadata": {},
     "output_type": "execute_result"
    }
   ],
   "source": [
    "# get topic words and topic average coherence score\n",
    "list_tmp = result_lda_model.top_topics(doc_term_matrix, dictionary=dictionary, topn=number_of_topic_words, \n",
    "                                       coherence='c_v', texts=df_data['list_of_lemmas'])\n",
    "list_tmp = [(s,wd) for (wd, s) in list_tmp]\n",
    "dict_scores = dict(list_tmp)\n",
    "df_scores = pd.DataFrame({'topic coherence score': list(dict_scores.keys()), \n",
    "                          'topic words': list(dict_scores.values())}, index=range(len(dict_scores)))\n",
    "df_scores['topic words'] = df_scores['topic words'].apply(lambda x: str(list(dict(x).values())))\n",
    "df_scores.head()"
   ]
  },
  {
   "cell_type": "code",
   "execution_count": 40,
   "metadata": {},
   "outputs": [
    {
     "name": "stdout",
     "output_type": "stream",
     "text": [
      "Can assign names to the topics based on the words related to each topic:\n"
     ]
    },
    {
     "data": {
      "text/html": [
       "<div>\n",
       "<style scoped>\n",
       "    .dataframe tbody tr th:only-of-type {\n",
       "        vertical-align: middle;\n",
       "    }\n",
       "\n",
       "    .dataframe tbody tr th {\n",
       "        vertical-align: top;\n",
       "    }\n",
       "\n",
       "    .dataframe thead th {\n",
       "        text-align: right;\n",
       "    }\n",
       "</style>\n",
       "<table border=\"1\" class=\"dataframe\">\n",
       "  <thead>\n",
       "    <tr style=\"text-align: right;\">\n",
       "      <th></th>\n",
       "      <th>topic</th>\n",
       "      <th>topic words</th>\n",
       "      <th>topic coherence score</th>\n",
       "    </tr>\n",
       "  </thead>\n",
       "  <tbody>\n",
       "    <tr>\n",
       "      <th>5</th>\n",
       "      <td>Topic 6</td>\n",
       "      <td>['driver', 'controller', 'speed', 'bus', 'board', 'chip', 'disk', 'scsi', 'ram', 'memory', 'mode', 'video', 'fast', 'motherboard', 'rom', 'rate', ...</td>\n",
       "      <td>0.807277</td>\n",
       "    </tr>\n",
       "    <tr>\n",
       "      <th>1</th>\n",
       "      <td>Topic 2</td>\n",
       "      <td>['image', 'color', 'display', 'server', 'application', 'disk', 'format', 'screen', 'user', 'package', 'graphic', 'code', 'widget', 'font', 'datum'...</td>\n",
       "      <td>0.750944</td>\n",
       "    </tr>\n",
       "    <tr>\n",
       "      <th>2</th>\n",
       "      <td>Topic 3</td>\n",
       "      <td>['player', 'season', 'monitor', 'hit', 'score', 'fan', 'baseball', 'league', 'record', 'average', 'ball', 'stat', 'ground', 'pitch', 'tie', 'major...</td>\n",
       "      <td>0.699479</td>\n",
       "    </tr>\n",
       "    <tr>\n",
       "      <th>8</th>\n",
       "      <td>Topic 9</td>\n",
       "      <td>['max', 'gun', 'weapon', 'firearm', 'crime', 'criminal', 'handgun', 'rate', 'carry', 'self', 'police', 'homicide', 'safety', 'death', 'defense', '...</td>\n",
       "      <td>0.686363</td>\n",
       "    </tr>\n",
       "    <tr>\n",
       "      <th>10</th>\n",
       "      <td>Topic 11</td>\n",
       "      <td>['god', 'faith', 'truth', 'christian', 'church', 'religion', 'sin', 'belief', 'die', 'scripture', 'death', 'absolute', 'act', 'choose', 'save', 't...</td>\n",
       "      <td>0.683801</td>\n",
       "    </tr>\n",
       "    <tr>\n",
       "      <th>0</th>\n",
       "      <td>Topic 1</td>\n",
       "      <td>['israeli', 'war', 'human', 'member', 'anti', 'child', 'political', 'turkish', 'murder', 'action', 'fire', 'death', 'arab', 'jewish', 'land', 'arm...</td>\n",
       "      <td>0.572023</td>\n",
       "    </tr>\n",
       "    <tr>\n",
       "      <th>7</th>\n",
       "      <td>Topic 8</td>\n",
       "      <td>['bike', 'ride', 'engine', 'speed', 'light', 'road', 'mile', 'dog', 'motorcycle', 'tire', 'oil', 'driver', 'dealer', 'brake', 'wheel', 'radar', 'f...</td>\n",
       "      <td>0.566373</td>\n",
       "    </tr>\n",
       "    <tr>\n",
       "      <th>14</th>\n",
       "      <td>Topic 15</td>\n",
       "      <td>['chip', 'hockey', 'goal', 'period', 'shot', 'playoff', 'pick', 'company', 'player', 'penalty', 'ice', 'trade', 'fan', 'puck', 'round', 'code', 'c...</td>\n",
       "      <td>0.500432</td>\n",
       "    </tr>\n",
       "    <tr>\n",
       "      <th>3</th>\n",
       "      <td>Topic 4</td>\n",
       "      <td>['launch', 'algorithm', 'security', 'market', 'secret', 'chip', 'private', 'encryption', 'encrypt', 'space', 'commercial', 'moon', 'company', 'sec...</td>\n",
       "      <td>0.455938</td>\n",
       "    </tr>\n",
       "    <tr>\n",
       "      <th>4</th>\n",
       "      <td>Topic 5</td>\n",
       "      <td>['armenian', 'turkish', 'job', 'attack', 'tax', 'city', 'village', 'russian', 'child', 'american', 'israeli', 'official', 'health', 'continue', 'c...</td>\n",
       "      <td>0.453490</td>\n",
       "    </tr>\n",
       "    <tr>\n",
       "      <th>6</th>\n",
       "      <td>Topic 7</td>\n",
       "      <td>['space', 'entry', 'orbit', 'copy', 'launch', 'mission', 'section', 'project', 'test', 'satellite', 'return', 'rule', 'author', 'output', 'object'...</td>\n",
       "      <td>0.412928</td>\n",
       "    </tr>\n",
       "    <tr>\n",
       "      <th>9</th>\n",
       "      <td>Topic 10</td>\n",
       "      <td>['food', 'human', 'moral', 'atheist', 'effect', 'eat', 'animal', 'msg', 'religion', 'morality', 'belief', 'study', 'diet', 'vote', 'nature', 'sens...</td>\n",
       "      <td>0.398640</td>\n",
       "    </tr>\n",
       "    <tr>\n",
       "      <th>12</th>\n",
       "      <td>Topic 13</td>\n",
       "      <td>['water', 'gas', 'keyboard', 'tank', 'fire', 'cool', 'chip', 'air', 'signal', 'hot', 'serial', 'circuit', 'heat', 'ground', 'cable', 'switch', 'je...</td>\n",
       "      <td>0.370370</td>\n",
       "    </tr>\n",
       "    <tr>\n",
       "      <th>13</th>\n",
       "      <td>Topic 14</td>\n",
       "      <td>['encryption', 'science', 'evidence', 'argument', 'privacy', 'technology', 'anonymous', 'access', 'device', 'theory', 'posting', 'value', 'user', ...</td>\n",
       "      <td>0.363048</td>\n",
       "    </tr>\n",
       "    <tr>\n",
       "      <th>11</th>\n",
       "      <td>Topic 12</td>\n",
       "      <td>['drug', 'woman', 'doctor', 'child', 'patient', 'disease', 'objective', 'pain', 'treatment', 'apartment', 'sex', 'morality', 'medical', 'kid', 'st...</td>\n",
       "      <td>0.341967</td>\n",
       "    </tr>\n",
       "  </tbody>\n",
       "</table>\n",
       "</div>"
      ],
      "text/plain": [
       "       topic  \\\n",
       "5    Topic 6   \n",
       "1    Topic 2   \n",
       "2    Topic 3   \n",
       "8    Topic 9   \n",
       "10  Topic 11   \n",
       "0    Topic 1   \n",
       "7    Topic 8   \n",
       "14  Topic 15   \n",
       "3    Topic 4   \n",
       "4    Topic 5   \n",
       "6    Topic 7   \n",
       "9   Topic 10   \n",
       "12  Topic 13   \n",
       "13  Topic 14   \n",
       "11  Topic 12   \n",
       "\n",
       "                                                                                                                                              topic words  \\\n",
       "5   ['driver', 'controller', 'speed', 'bus', 'board', 'chip', 'disk', 'scsi', 'ram', 'memory', 'mode', 'video', 'fast', 'motherboard', 'rom', 'rate', ...   \n",
       "1   ['image', 'color', 'display', 'server', 'application', 'disk', 'format', 'screen', 'user', 'package', 'graphic', 'code', 'widget', 'font', 'datum'...   \n",
       "2   ['player', 'season', 'monitor', 'hit', 'score', 'fan', 'baseball', 'league', 'record', 'average', 'ball', 'stat', 'ground', 'pitch', 'tie', 'major...   \n",
       "8   ['max', 'gun', 'weapon', 'firearm', 'crime', 'criminal', 'handgun', 'rate', 'carry', 'self', 'police', 'homicide', 'safety', 'death', 'defense', '...   \n",
       "10  ['god', 'faith', 'truth', 'christian', 'church', 'religion', 'sin', 'belief', 'die', 'scripture', 'death', 'absolute', 'act', 'choose', 'save', 't...   \n",
       "0   ['israeli', 'war', 'human', 'member', 'anti', 'child', 'political', 'turkish', 'murder', 'action', 'fire', 'death', 'arab', 'jewish', 'land', 'arm...   \n",
       "7   ['bike', 'ride', 'engine', 'speed', 'light', 'road', 'mile', 'dog', 'motorcycle', 'tire', 'oil', 'driver', 'dealer', 'brake', 'wheel', 'radar', 'f...   \n",
       "14  ['chip', 'hockey', 'goal', 'period', 'shot', 'playoff', 'pick', 'company', 'player', 'penalty', 'ice', 'trade', 'fan', 'puck', 'round', 'code', 'c...   \n",
       "3   ['launch', 'algorithm', 'security', 'market', 'secret', 'chip', 'private', 'encryption', 'encrypt', 'space', 'commercial', 'moon', 'company', 'sec...   \n",
       "4   ['armenian', 'turkish', 'job', 'attack', 'tax', 'city', 'village', 'russian', 'child', 'american', 'israeli', 'official', 'health', 'continue', 'c...   \n",
       "6   ['space', 'entry', 'orbit', 'copy', 'launch', 'mission', 'section', 'project', 'test', 'satellite', 'return', 'rule', 'author', 'output', 'object'...   \n",
       "9   ['food', 'human', 'moral', 'atheist', 'effect', 'eat', 'animal', 'msg', 'religion', 'morality', 'belief', 'study', 'diet', 'vote', 'nature', 'sens...   \n",
       "12  ['water', 'gas', 'keyboard', 'tank', 'fire', 'cool', 'chip', 'air', 'signal', 'hot', 'serial', 'circuit', 'heat', 'ground', 'cable', 'switch', 'je...   \n",
       "13  ['encryption', 'science', 'evidence', 'argument', 'privacy', 'technology', 'anonymous', 'access', 'device', 'theory', 'posting', 'value', 'user', ...   \n",
       "11  ['drug', 'woman', 'doctor', 'child', 'patient', 'disease', 'objective', 'pain', 'treatment', 'apartment', 'sex', 'morality', 'medical', 'kid', 'st...   \n",
       "\n",
       "    topic coherence score  \n",
       "5                0.807277  \n",
       "1                0.750944  \n",
       "2                0.699479  \n",
       "8                0.686363  \n",
       "10               0.683801  \n",
       "0                0.572023  \n",
       "7                0.566373  \n",
       "14               0.500432  \n",
       "3                0.455938  \n",
       "4                0.453490  \n",
       "6                0.412928  \n",
       "9                0.398640  \n",
       "12               0.370370  \n",
       "13               0.363048  \n",
       "11               0.341967  "
      ]
     },
     "execution_count": 40,
     "metadata": {},
     "output_type": "execute_result"
    }
   ],
   "source": [
    "# add topic score to the df_topics to distinguish between human interpretable topics and jargons of statistical analysis\n",
    "# higher the topic coherence, the topic is more human interpretable. \n",
    "print('Can assign names to the topics based on the words related to each topic:')\n",
    "df_topics = df_topics.merge(df_scores, on='topic words')\n",
    "df_topics.sort_values(by='topic coherence score',ascending=False,inplace=True)\n",
    "df_topics"
   ]
  },
  {
   "cell_type": "code",
   "execution_count": 41,
   "metadata": {},
   "outputs": [
    {
     "data": {
      "text/plain": [
       "0                                          [(7, 0.9481344)]\n",
       "1                         [(5, 0.7443748), (4, 0.23012057)]\n",
       "10      [(7, 0.8122963), (3, 0.115230255), (9, 0.04272026)]\n",
       "100                      [(3, 0.6018589), (14, 0.28959984)]\n",
       "1000                                       [(5, 0.9377721)]\n",
       "Name: infered_topics, dtype: object"
      ]
     },
     "execution_count": 41,
     "metadata": {},
     "output_type": "execute_result"
    }
   ],
   "source": [
    "# distribution  of topics for each document\n",
    "df_data['infered_topics'] = df_data['doc2bow'].apply(lambda d: sorted(result_lda_model[d],key=lambda x:x[1],reverse=True))\n",
    "df_data['infered_topics'].head()"
   ]
  },
  {
   "cell_type": "code",
   "execution_count": 42,
   "metadata": {},
   "outputs": [],
   "source": [
    "# select a dominant topic for each document\n",
    "df_data['top_topic'] = df_data['infered_topics'].apply(lambda x: 'Topic ' + str(x[0][0] + 1))\n",
    "df_data['top_topic_score'] = df_data['infered_topics'].apply(lambda x: x[0][1] )"
   ]
  },
  {
   "cell_type": "code",
   "execution_count": 43,
   "metadata": {},
   "outputs": [],
   "source": [
    "df_data = df_data.sort_values(by=['top_topic', 'top_topic_score'], ascending=[True, False])"
   ]
  },
  {
   "cell_type": "code",
   "execution_count": 44,
   "metadata": {},
   "outputs": [
    {
     "data": {
      "text/html": [
       "<div>\n",
       "<style scoped>\n",
       "    .dataframe tbody tr th:only-of-type {\n",
       "        vertical-align: middle;\n",
       "    }\n",
       "\n",
       "    .dataframe tbody tr th {\n",
       "        vertical-align: top;\n",
       "    }\n",
       "\n",
       "    .dataframe thead th {\n",
       "        text-align: right;\n",
       "    }\n",
       "</style>\n",
       "<table border=\"1\" class=\"dataframe\">\n",
       "  <thead>\n",
       "    <tr style=\"text-align: right;\">\n",
       "      <th></th>\n",
       "      <th>top_topic</th>\n",
       "      <th>top_topic_score</th>\n",
       "      <th>text</th>\n",
       "    </tr>\n",
       "  </thead>\n",
       "  <tbody>\n",
       "    <tr>\n",
       "      <th>0</th>\n",
       "      <td>Topic 1</td>\n",
       "      <td>0.997843</td>\n",
       "      <td>Re: Death Penalty / Gulf War\\n\\n\\n In article mathew writes: &gt; writes: &gt;&gt;In article mathew writes: &gt;&gt;&gt; Yes. Fortunately we have right-thinking fol...</td>\n",
       "    </tr>\n",
       "    <tr>\n",
       "      <th>1</th>\n",
       "      <td>Topic 10</td>\n",
       "      <td>0.992980</td>\n",
       "      <td>Re: Is MSG sensitivity superstition?\\n\\n In article (OPIRG) writes: &gt;In article (David Thomas) writes: &gt; &gt;&gt;&gt;In article (Charles Packer) writes: &gt;&gt;...</td>\n",
       "    </tr>\n",
       "    <tr>\n",
       "      <th>2</th>\n",
       "      <td>Topic 11</td>\n",
       "      <td>0.997482</td>\n",
       "      <td>THE EMPTY TOMB...\\n\\n THE EMPTY TOMB: CAN WE TRUST IT? by the late Wilbur M. Smith, D.D. (1894-1977) When Jesus was on Earth, He made an amazing p...</td>\n",
       "    </tr>\n",
       "    <tr>\n",
       "      <th>3</th>\n",
       "      <td>Topic 12</td>\n",
       "      <td>0.991106</td>\n",
       "      <td>Need advice with doctor-patient relationship problem\\n\\n\\n\\n\\n\\n\\n\\n\\n\\n\\n\\n\\n\\n\\n\\n\\n I need advice with a situation which occurred between me an...</td>\n",
       "    </tr>\n",
       "    <tr>\n",
       "      <th>4</th>\n",
       "      <td>Topic 13</td>\n",
       "      <td>0.997136</td>\n",
       "      <td>Re: What do Nuclear Site's Cooling Towers do?\\n\\n (John Nagle) writes: &gt;&gt;Great Explaination, however you left off one detail, why do you always &gt;&gt;...</td>\n",
       "    </tr>\n",
       "    <tr>\n",
       "      <th>5</th>\n",
       "      <td>Topic 14</td>\n",
       "      <td>0.998883</td>\n",
       "      <td>Re: Clipper Chip. LONG follow up.\\n\\n\\n Organization: Curtin University of Technology In article (Jim Gillogly) writes: &gt; This document is in the ...</td>\n",
       "    </tr>\n",
       "    <tr>\n",
       "      <th>6</th>\n",
       "      <td>Topic 15</td>\n",
       "      <td>0.992531</td>\n",
       "      <td>Sweden-Finland, April 15\\n\\n Played in Scandinavium, Gothenburg, April 15 1993: ================================================== SWEDEN - FINLAN...</td>\n",
       "    </tr>\n",
       "    <tr>\n",
       "      <th>7</th>\n",
       "      <td>Topic 2</td>\n",
       "      <td>0.992924</td>\n",
       "      <td>Re: Laser vs Bubblejet?\\n\\n Here is a different viewpoint. &gt; FYI: The actual horizontal dot placement resoution of an HP &gt; deskjet is 1/600th inch...</td>\n",
       "    </tr>\n",
       "    <tr>\n",
       "      <th>8</th>\n",
       "      <td>Topic 3</td>\n",
       "      <td>0.998071</td>\n",
       "      <td>(ATAS) N.L. games 8/2-8/5 &amp; standings of all\\n\\n Philadelphia at Chicago: Teams tied for 1st after Sunday Dick Redding battled Chet Brewer in the ...</td>\n",
       "    </tr>\n",
       "    <tr>\n",
       "      <th>9</th>\n",
       "      <td>Topic 4</td>\n",
       "      <td>0.991275</td>\n",
       "      <td>Re: Once tapped, your code is no good any more.\\n\\n In (David Sternlight) writes: &gt;In article (Shaen Bernhardt) writes: &gt;&gt; &gt;&gt;I wish I could agree ...</td>\n",
       "    </tr>\n",
       "    <tr>\n",
       "      <th>10</th>\n",
       "      <td>Topic 5</td>\n",
       "      <td>0.999064</td>\n",
       "      <td>CLINTON: Press Briefing by George Stephanopoulos 4.14.93\\n\\n\\n\\n\\n THE WHITE HOUSE Office of the Press Secretary _________________________________...</td>\n",
       "    </tr>\n",
       "    <tr>\n",
       "      <th>11</th>\n",
       "      <td>Topic 6</td>\n",
       "      <td>0.999136</td>\n",
       "      <td>Re: Drive/Controller Compatibility\\n\\n Organization: University of North Texas Thanks to all who responded to my original post. I got the number f...</td>\n",
       "    </tr>\n",
       "    <tr>\n",
       "      <th>12</th>\n",
       "      <td>Topic 7</td>\n",
       "      <td>0.999364</td>\n",
       "      <td>Reposting: 10th International Obfuscated C Code Contest rules (1 of 2)\\n\\n Keywords: ioccc We have received a number of requests for a reposting o...</td>\n",
       "    </tr>\n",
       "    <tr>\n",
       "      <th>13</th>\n",
       "      <td>Topic 8</td>\n",
       "      <td>0.992646</td>\n",
       "      <td>Guzzi 850-T tires, plus fairing question\\n\\n I have a question about tires for my Guzzi. It is a 75 850-T. The tires that were on it when I just b...</td>\n",
       "    </tr>\n",
       "    <tr>\n",
       "      <th>14</th>\n",
       "      <td>Topic 9</td>\n",
       "      <td>0.998767</td>\n",
       "      <td>roman.bmp 12/14 \\n\\n\\n ------------ Part 12 of 14 ------------ MAX&gt;AX&gt;AX&gt;AX&gt;AX&gt;AX&gt;AX&gt;AX&gt;AX&gt;AX&gt;AX&gt;AX&gt;AX&gt;AX&gt;AX&gt; MAX&gt;AX&gt;AX&gt;AX&gt;AX&gt;AX&gt;AX&gt;AX&gt;AX&gt;AX&gt;AX&gt;AX...</td>\n",
       "    </tr>\n",
       "  </tbody>\n",
       "</table>\n",
       "</div>"
      ],
      "text/plain": [
       "   top_topic  top_topic_score  \\\n",
       "0    Topic 1         0.997843   \n",
       "1   Topic 10         0.992980   \n",
       "2   Topic 11         0.997482   \n",
       "3   Topic 12         0.991106   \n",
       "4   Topic 13         0.997136   \n",
       "5   Topic 14         0.998883   \n",
       "6   Topic 15         0.992531   \n",
       "7    Topic 2         0.992924   \n",
       "8    Topic 3         0.998071   \n",
       "9    Topic 4         0.991275   \n",
       "10   Topic 5         0.999064   \n",
       "11   Topic 6         0.999136   \n",
       "12   Topic 7         0.999364   \n",
       "13   Topic 8         0.992646   \n",
       "14   Topic 9         0.998767   \n",
       "\n",
       "                                                                                                                                                     text  \n",
       "0   Re: Death Penalty / Gulf War\\n\\n\\n In article mathew writes: > writes: >>In article mathew writes: >>> Yes. Fortunately we have right-thinking fol...  \n",
       "1   Re: Is MSG sensitivity superstition?\\n\\n In article (OPIRG) writes: >In article (David Thomas) writes: > >>>In article (Charles Packer) writes: >>...  \n",
       "2   THE EMPTY TOMB...\\n\\n THE EMPTY TOMB: CAN WE TRUST IT? by the late Wilbur M. Smith, D.D. (1894-1977) When Jesus was on Earth, He made an amazing p...  \n",
       "3   Need advice with doctor-patient relationship problem\\n\\n\\n\\n\\n\\n\\n\\n\\n\\n\\n\\n\\n\\n\\n\\n\\n I need advice with a situation which occurred between me an...  \n",
       "4   Re: What do Nuclear Site's Cooling Towers do?\\n\\n (John Nagle) writes: >>Great Explaination, however you left off one detail, why do you always >>...  \n",
       "5   Re: Clipper Chip. LONG follow up.\\n\\n\\n Organization: Curtin University of Technology In article (Jim Gillogly) writes: > This document is in the ...  \n",
       "6   Sweden-Finland, April 15\\n\\n Played in Scandinavium, Gothenburg, April 15 1993: ================================================== SWEDEN - FINLAN...  \n",
       "7   Re: Laser vs Bubblejet?\\n\\n Here is a different viewpoint. > FYI: The actual horizontal dot placement resoution of an HP > deskjet is 1/600th inch...  \n",
       "8   (ATAS) N.L. games 8/2-8/5 & standings of all\\n\\n Philadelphia at Chicago: Teams tied for 1st after Sunday Dick Redding battled Chet Brewer in the ...  \n",
       "9   Re: Once tapped, your code is no good any more.\\n\\n In (David Sternlight) writes: >In article (Shaen Bernhardt) writes: >> >>I wish I could agree ...  \n",
       "10  CLINTON: Press Briefing by George Stephanopoulos 4.14.93\\n\\n\\n\\n\\n THE WHITE HOUSE Office of the Press Secretary _________________________________...  \n",
       "11  Re: Drive/Controller Compatibility\\n\\n Organization: University of North Texas Thanks to all who responded to my original post. I got the number f...  \n",
       "12  Reposting: 10th International Obfuscated C Code Contest rules (1 of 2)\\n\\n Keywords: ioccc We have received a number of requests for a reposting o...  \n",
       "13  Guzzi 850-T tires, plus fairing question\\n\\n I have a question about tires for my Guzzi. It is a 75 850-T. The tires that were on it when I just b...  \n",
       "14  roman.bmp 12/14 \\n\\n\\n ------------ Part 12 of 14 ------------ MAX>AX>AX>AX>AX>AX>AX>AX>AX>AX>AX>AX>AX>AX>AX> MAX>AX>AX>AX>AX>AX>AX>AX>AX>AX>AX>AX...  "
      ]
     },
     "execution_count": 44,
     "metadata": {},
     "output_type": "execute_result"
    }
   ],
   "source": [
    "df_representative_text = df_data.groupby('top_topic')[['top_topic_score', 'text']].first().reset_index()\n",
    "df_representative_text"
   ]
  },
  {
   "cell_type": "code",
   "execution_count": 45,
   "metadata": {},
   "outputs": [
    {
     "name": "stdout",
     "output_type": "stream",
     "text": [
      "Topic 12 \n",
      "\n",
      "Topic words:\n",
      " ['drug', 'woman', 'doctor', 'child', 'patient', 'disease', 'objective', 'pain', 'treatment', 'apartment', 'sex', 'morality', 'medical', 'kid', 'study', 'hour', 'neighbor', 'family', 'room', 'head'] \n",
      "\n",
      "\n",
      "Need advice with doctor-patient relationship problem\n",
      "\n",
      "\n",
      "\n",
      "\n",
      "\n",
      "\n",
      "\n",
      "\n",
      "\n",
      "\n",
      "\n",
      "\n",
      "\n",
      "\n",
      "\n",
      "\n",
      " I need advice with a situation which occurred between me and a physican which upset me. I saw this doctor for a problem with recurring pain. He suggested medication and a course of treatment, and told me that I need to call him 7 days after I begin the medication so that he may monitor its effectiveness, as well as my general health. I did exactly as he asked, and made the call (reaching his secretary). I explained to her that I was following up at the doctors request, and that I was worried because the pain episodes were becoming more frequent and the medication did not seem effective. The doctor called me back, and his first words were, \"Whatever you want, youd better make it quick. Im very busy and dont have time to chit- chat with you!\" I told him I was simply following his instructions to call on the 7th day to status him, and that I was feeling worse. I then asked if perhaps there was a better time for us to talk when he had more time. He responded, \"Just spit it out now because no time is a good time.\" (Said in a raised voice.) I started to feel upset and tried to explain quickly what was going on with my condition but my nervousness interfered with my choice of words and I kind of stuttered and then said \"well, never mind\" and he said hell talk to various colleagues about other medications and hell call me some other time. This doctor called me that evening and said because I didnt express myself well, he was confused about what I wanted. At this point I was pretty upset and I told him (in an amazingly polite voice considering how angry I felt) that his earlier manner had hurt my feelings. He told me that he just doesnt have time to \"rap with patients\" and thought that was what I wanted. I told him that to assume I was calling to \"rap\" was insulting, and said again that I was just following through on his orders. He responded that he resented the implication that he felt I was making that he was not interested in learning about what his patients have to say about their condition status. He then gave me this apology: \"I am sorry that there was a miscommunication and you mistakenly thought I was insulting. I am not trying to insult you but I am not that knowledgeable about pain, and I dont have a lot of time to deal with that.\" He then told me to call him the next day for further instructions on how do deal with my pain and medication. I am still upset and have not yet called. My questions: (1) Should I continue to have this doctor manage my care? (2) Since I am in pain off and on, I realize that this may cause me to be more anxietous so am I perhaps over-reacting or overly sensitive? If this doctor refers me to his colleague who knows more about the type of pain I have, he still wants me to status him on my condition but now I am afraid to call him. --Marlena \n"
     ]
    }
   ],
   "source": [
    "# spot check\n",
    "topic = 'Topic 12'\n",
    "\n",
    "topic_words = df_topics[df_topics['topic'] == topic]['topic words'].values[0]\n",
    "\n",
    "text = df_representative_text[df_representative_text['top_topic'] == topic]['text'].values[0]\n",
    "print (topic, '\\n\\nTopic words:\\n', topic_words, '\\n\\n')\n",
    "print (text)"
   ]
  }
 ],
 "metadata": {
  "kernelspec": {
   "display_name": "Python 3",
   "language": "python",
   "name": "python3"
  },
  "language_info": {
   "codemirror_mode": {
    "name": "ipython",
    "version": 3
   },
   "file_extension": ".py",
   "mimetype": "text/x-python",
   "name": "python",
   "nbconvert_exporter": "python",
   "pygments_lexer": "ipython3",
   "version": "3.7.3"
  },
  "toc": {
   "base_numbering": 1,
   "nav_menu": {},
   "number_sections": true,
   "sideBar": true,
   "skip_h1_title": false,
   "title_cell": "Table of Contents",
   "title_sidebar": "Contents",
   "toc_cell": false,
   "toc_position": {
    "height": "calc(100% - 180px)",
    "left": "10px",
    "top": "150px",
    "width": "250px"
   },
   "toc_section_display": true,
   "toc_window_display": true
  }
 },
 "nbformat": 4,
 "nbformat_minor": 2
}
