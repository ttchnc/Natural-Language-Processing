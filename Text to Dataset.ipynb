{
 "cells": [
  {
   "cell_type": "code",
   "execution_count": 1,
   "metadata": {},
   "outputs": [],
   "source": [
    "import pandas as pd # data processing, CSV file I/O (e.g. pd.read_csv)\n",
    "\n",
    "import re"
   ]
  },
  {
   "cell_type": "code",
   "execution_count": 2,
   "metadata": {},
   "outputs": [],
   "source": [
    "input_folder = './data/'\n",
    "\n",
    "input_file = 'emails.csv'"
   ]
  },
  {
   "cell_type": "code",
   "execution_count": 3,
   "metadata": {},
   "outputs": [
    {
     "name": "stdout",
     "output_type": "stream",
     "text": [
      "517401\n"
     ]
    },
    {
     "data": {
      "text/html": [
       "<div>\n",
       "<style scoped>\n",
       "    .dataframe tbody tr th:only-of-type {\n",
       "        vertical-align: middle;\n",
       "    }\n",
       "\n",
       "    .dataframe tbody tr th {\n",
       "        vertical-align: top;\n",
       "    }\n",
       "\n",
       "    .dataframe thead th {\n",
       "        text-align: right;\n",
       "    }\n",
       "</style>\n",
       "<table border=\"1\" class=\"dataframe\">\n",
       "  <thead>\n",
       "    <tr style=\"text-align: right;\">\n",
       "      <th></th>\n",
       "      <th>file</th>\n",
       "      <th>message</th>\n",
       "    </tr>\n",
       "  </thead>\n",
       "  <tbody>\n",
       "    <tr>\n",
       "      <th>0</th>\n",
       "      <td>allen-p/_sent_mail/1.</td>\n",
       "      <td>Message-ID: &lt;18782981.1075855378110.JavaMail.e...</td>\n",
       "    </tr>\n",
       "    <tr>\n",
       "      <th>1</th>\n",
       "      <td>allen-p/_sent_mail/10.</td>\n",
       "      <td>Message-ID: &lt;15464986.1075855378456.JavaMail.e...</td>\n",
       "    </tr>\n",
       "    <tr>\n",
       "      <th>2</th>\n",
       "      <td>allen-p/_sent_mail/100.</td>\n",
       "      <td>Message-ID: &lt;24216240.1075855687451.JavaMail.e...</td>\n",
       "    </tr>\n",
       "    <tr>\n",
       "      <th>3</th>\n",
       "      <td>allen-p/_sent_mail/1000.</td>\n",
       "      <td>Message-ID: &lt;13505866.1075863688222.JavaMail.e...</td>\n",
       "    </tr>\n",
       "    <tr>\n",
       "      <th>4</th>\n",
       "      <td>allen-p/_sent_mail/1001.</td>\n",
       "      <td>Message-ID: &lt;30922949.1075863688243.JavaMail.e...</td>\n",
       "    </tr>\n",
       "  </tbody>\n",
       "</table>\n",
       "</div>"
      ],
      "text/plain": [
       "                       file                                            message\n",
       "0     allen-p/_sent_mail/1.  Message-ID: <18782981.1075855378110.JavaMail.e...\n",
       "1    allen-p/_sent_mail/10.  Message-ID: <15464986.1075855378456.JavaMail.e...\n",
       "2   allen-p/_sent_mail/100.  Message-ID: <24216240.1075855687451.JavaMail.e...\n",
       "3  allen-p/_sent_mail/1000.  Message-ID: <13505866.1075863688222.JavaMail.e...\n",
       "4  allen-p/_sent_mail/1001.  Message-ID: <30922949.1075863688243.JavaMail.e..."
      ]
     },
     "execution_count": 3,
     "metadata": {},
     "output_type": "execute_result"
    }
   ],
   "source": [
    "# download data\n",
    "\n",
    "df_data = pd.read_csv(input_folder + input_file)\n",
    "print(len(df_data))\n",
    "df_data.head()"
   ]
  },
  {
   "cell_type": "code",
   "execution_count": 4,
   "metadata": {},
   "outputs": [
    {
     "name": "stdout",
     "output_type": "stream",
     "text": [
      "Message-ID: <33076797.1075855687515.JavaMail.evans@thyme>\n",
      "Date: Mon, 16 Oct 2000 06:42:00 -0700 (PDT)\n",
      "From: phillip.allen@enron.com\n",
      "To: buck.buckner@honeywell.com\n",
      "Subject: Re: FW: fixed forward or other Collar floor gas price terms\n",
      "Mime-Version: 1.0\n",
      "Content-Type: text/plain; charset=us-ascii\n",
      "Content-Transfer-Encoding: 7bit\n",
      "X-From: Phillip K Allen\n",
      "X-To: \"Buckner, Buck\" <buck.buckner@honeywell.com> @ ENRON\n",
      "X-cc: \n",
      "X-bcc: \n",
      "X-Folder: \\Phillip_Allen_Dec2000\\Notes Folders\\'sent mail\n",
      "X-Origin: Allen-P\n",
      "X-FileName: pallen.nsf\n",
      "\n",
      "Mr. Buckner,\n",
      "\n",
      " For delivered gas behind San Diego, Enron Energy Services is the appropriate \n",
      "Enron entity.  I have forwarded your request to Zarin Imam at EES.  Her phone \n",
      "number is 713-853-7107.  \n",
      "\n",
      "Phillip Allen\n"
     ]
    }
   ],
   "source": [
    "print(df_data['message'][10])"
   ]
  },
  {
   "cell_type": "code",
   "execution_count": 5,
   "metadata": {},
   "outputs": [
    {
     "name": "stdout",
     "output_type": "stream",
     "text": [
      "Message-ID: <27645136.1075860047844.JavaMail.evans@thyme>\n",
      "Date: Mon, 4 Jan 1999 04:11:00 -0800 (PST)\n",
      "From: mark.taylor@enron.com\n",
      "To: tana.jones@enron.com\n",
      "Subject: Ormet\n",
      "Mime-Version: 1.0\n",
      "Content-Type: text/plain; charset=us-ascii\n",
      "Content-Transfer-Encoding: 7bit\n",
      "X-From: Mark - ECT Legal Taylor\n",
      "X-To: Tana Jones\n",
      "X-cc: \n",
      "X-bcc: \n",
      "X-Folder: \\Mark_Taylor _Dec_2000\\Notes Folders\\Sent\n",
      "X-Origin: Taylor-M\n",
      "X-FileName: mtaylor.nsf\n",
      "\n",
      "---------------------- Forwarded by Mark - ECT Legal Taylor/HOU/ECT on \n",
      "01/04/99 12:11 PM ---------------------------\n",
      "To: Jennifer Fraser/HOU/ECT@ECT, Jeffrey T Hodge/HOU/ECT@ECT\n",
      "cc:  \n",
      "Subject: Ormet\n",
      "\n",
      "Here is the Strike Price Election Notice letter I drafted for the Ormet \n",
      "transaction.  Please let me know if this works for you.\n",
      " \n",
      "\n"
     ]
    }
   ],
   "source": [
    "print(df_data[\"message\"][485740])"
   ]
  },
  {
   "cell_type": "markdown",
   "metadata": {},
   "source": [
    "### Parsing \"message\" to get email text"
   ]
  },
  {
   "cell_type": "code",
   "execution_count": 6,
   "metadata": {},
   "outputs": [
    {
     "data": {
      "text/plain": [
       "\"Message-ID: <13776983.1075854719370.JavaMail.evans@thyme>\\nDate: Tue, 5 Sep 2000 01:15:00 -0700 (PDT)\\nFrom: eric.bass@enron.com\\nTo: timothy.blanchard@enron.com, matthew.lenhart@enron.com, bryan.hull@enron.com\\nSubject: The Mighty Horns\\nMime-Version: 1.0\\nContent-Type: text/plain; charset=us-ascii\\nContent-Transfer-Encoding: 7bit\\nX-From: Eric Bass\\nX-To: Timothy Blanchard, Matthew Lenhart, Bryan Hull\\nX-cc: \\nX-bcc: \\nX-Folder: \\\\Eric_Bass_Dec2000\\\\Notes Folders\\\\'sent mail\\nX-Origin: Bass-E\\nX-FileName: ebass.nsf\\n\\nLet me know by today, please.\\n---------------------- Forwarded by Eric Bass/HOU/ECT on 09/05/2000 08:15 AM \\n---------------------------\\n   \\n\\tEnron North America Corp.\\n\\t\\n\\tFrom:  Eric Bass                           09/05/2000 08:15 AM\\n\\t\\n\\nTo: Timothy Blanchard/HOU/EES@EES, Matthew Lenhart/HOU/ECT@ECT, Bryan \\nHull/HOU/ECT@ECT\\ncc:  \\nSubject: The Mighty Horns\\n\\nTexas' first football game is this weekend and I have tickets for each of \\nyou.  I would like to leave around 3:00 on Friday to go to Austin. We will \\ncome back on Saturday after the game.  \\n\\nLet me know today if you still want to go.\\n\\n-Eric\\n\""
      ]
     },
     "execution_count": 6,
     "metadata": {},
     "output_type": "execute_result"
    }
   ],
   "source": [
    "df_data['message'][10848]"
   ]
  },
  {
   "cell_type": "markdown",
   "metadata": {},
   "source": [
    "##### extracting text"
   ]
  },
  {
   "cell_type": "code",
   "execution_count": 7,
   "metadata": {},
   "outputs": [
    {
     "data": {
      "text/plain": [
       "True    517401\n",
       "Name: check, dtype: int64"
      ]
     },
     "execution_count": 7,
     "metadata": {},
     "output_type": "execute_result"
    }
   ],
   "source": [
    "# check if message can be split by a phrase \"X-FileName:\"\n",
    "df_data['check'] = df_data['message'].str.contains(\"X-FileName:\")\n",
    "df_data['check'].value_counts()"
   ]
  },
  {
   "cell_type": "code",
   "execution_count": 8,
   "metadata": {},
   "outputs": [
    {
     "data": {
      "text/plain": [
       "\"Message-ID: <13776983.1075854719370.JavaMail.evans@thyme>\\nDate: Tue, 5 Sep 2000 01:15:00 -0700 (PDT)\\nFrom: eric.bass@enron.com\\nTo: timothy.blanchard@enron.com, matthew.lenhart@enron.com, bryan.hull@enron.com\\nSubject: The Mighty Horns\\nMime-Version: 1.0\\nContent-Type: text/plain; charset=us-ascii\\nContent-Transfer-Encoding: 7bit\\nX-From: Eric Bass\\nX-To: Timothy Blanchard, Matthew Lenhart, Bryan Hull\\nX-cc: \\nX-bcc: \\nX-Folder: \\\\Eric_Bass_Dec2000\\\\Notes Folders\\\\'sent mail\\nX-Origin: Bass-E\\nX-FileName: ebass.nsfX-FileName-ENDLet me know by today, please.\\n---------------------- Forwarded by Eric Bass/HOU/ECT on 09/05/2000 08:15 AM \\n---------------------------\\n   \\n\\tEnron North America Corp.\\n\\t\\n\\tFrom:  Eric Bass                           09/05/2000 08:15 AM\\n\\t\\n\\nTo: Timothy Blanchard/HOU/EES@EES, Matthew Lenhart/HOU/ECT@ECT, Bryan \\nHull/HOU/ECT@ECT\\ncc:  \\nSubject: The Mighty Horns\\n\\nTexas' first football game is this weekend and I have tickets for each of \\nyou.  I would like to leave around 3:00 on Friday to go to Austin. We will \\ncome back on Saturday after the game.  \\n\\nLet me know today if you still want to go.\\n\\n-Eric\\n\""
      ]
     },
     "execution_count": 8,
     "metadata": {},
     "output_type": "execute_result"
    }
   ],
   "source": [
    "# example of a text with \"X-FileName:\"\n",
    "df_data['tmp'] = df_data['message'].str.replace('\\n\\n','X-FileName-END', n=1)\n",
    "df_data['tmp'][10848]"
   ]
  },
  {
   "cell_type": "code",
   "execution_count": 9,
   "metadata": {
    "scrolled": true
   },
   "outputs": [
    {
     "name": "stdout",
     "output_type": "stream",
     "text": [
      "Message-ID: <13776983.1075854719370.JavaMail.evans@thyme>\n",
      "Date: Tue, 5 Sep 2000 01:15:00 -0700 (PDT)\n",
      "From: eric.bass@enron.com\n",
      "To: timothy.blanchard@enron.com, matthew.lenhart@enron.com, bryan.hull@enron.com\n",
      "Subject: The Mighty Horns\n",
      "Mime-Version: 1.0\n",
      "Content-Type: text/plain; charset=us-ascii\n",
      "Content-Transfer-Encoding: 7bit\n",
      "X-From: Eric Bass\n",
      "X-To: Timothy Blanchard, Matthew Lenhart, Bryan Hull\n",
      "X-cc: \n",
      "X-bcc: \n",
      "X-Folder: \\Eric_Bass_Dec2000\\Notes Folders\\'sent mail\n",
      "X-Origin: Bass-E\n",
      "X-FileName: ebass.nsf\n",
      "\n",
      "\n",
      ">>>>>>>>>>>>>>>>>>>>>>>>>>>>>>>>>>>>>>>>>>>>>>>>>>>>>>>>>>>>>>>>>>>>>>>>>>>>>>>>>>>>>>\n",
      "Let me know by today, please.\n",
      "---------------------- Forwarded by Eric Bass/HOU/ECT on 09/05/2000 08:15 AM \n",
      "---------------------------\n",
      "   \n",
      "\tEnron North America Corp.\n",
      "\t\n",
      "\tFrom:  Eric Bass                           09/05/2000 08:15 AM\n",
      "\t\n",
      "\n",
      "To: Timothy Blanchard/HOU/EES@EES, Matthew Lenhart/HOU/ECT@ECT, Bryan \n",
      "Hull/HOU/ECT@ECT\n",
      "cc:  \n",
      "Subject: The Mighty Horns\n",
      "\n",
      "Texas' first football game is this weekend and I have tickets for each of \n",
      "you.  I would like to leave around 3:00 on Friday to go to Austin. We will \n",
      "come back on Saturday after the game.  \n",
      "\n",
      "Let me know today if you still want to go.\n",
      "\n",
      "-Eric\n",
      "\n"
     ]
    }
   ],
   "source": [
    "# example of a text after parsing\n",
    "df_data['email_meta_data'] = df_data['tmp'].str.split('X-FileName-END').str.get(0)\n",
    "df_data['text'] = df_data['tmp'].str.split('X-FileName-END').str.get(1)\n",
    "print(df_data['email_meta_data'][10848])\n",
    "print('\\n\\n>>>>>>>>>>>>>>>>>>>>>>>>>>>>>>>>>>>>>>>>>>>>>>>>>>>>>>>>>>>>>>>>>>>>>>>>>>>>>>>>>>>>>>')\n",
    "print(df_data['text'][10848])"
   ]
  },
  {
   "cell_type": "markdown",
   "metadata": {},
   "source": [
    "### parsing email meta data\n",
    "- Date\n",
    "- Attached flag (True False)\n",
    "- Subject\n",
    "- To/Cc/Bcc"
   ]
  },
  {
   "cell_type": "markdown",
   "metadata": {},
   "source": [
    "##### extracting date"
   ]
  },
  {
   "cell_type": "code",
   "execution_count": 10,
   "metadata": {},
   "outputs": [
    {
     "name": "stdout",
     "output_type": "stream",
     "text": [
      "Message-ID: <30062450.1075855770190.JavaMail.evans@thyme>\n",
      "Date: Mon, 6 Nov 2000 01:26:00 -0800 (PST)\n",
      "From: sheila.glover@enron.com\n",
      "To: mike.jordan@enron.com\n",
      "Subject: UK Drift\n",
      "Cc: sally.beck@enron.com, gary.hickerson@enron.com\n",
      "Mime-Version: 1.0\n",
      "Content-Type: text/plain; charset=us-ascii\n",
      "Content-Transfer-Encoding: 7bit\n",
      "Bcc: sally.beck@enron.com, gary.hickerson@enron.com\n",
      "X-From: Sheila Glover\n",
      "X-To: Mike Jordan\n",
      "X-cc: Sally Beck, Gary Hickerson\n",
      "X-bcc: \n",
      "X-Folder: \\Sally_Beck_Dec2000\\Notes Folders\\All documents\n",
      "X-Origin: Beck-S\n",
      "X-FileName: sbeck.nsf\n"
     ]
    }
   ],
   "source": [
    "# look at meta data text\n",
    "print(df_data['email_meta_data'][21701])"
   ]
  },
  {
   "cell_type": "code",
   "execution_count": 11,
   "metadata": {},
   "outputs": [
    {
     "data": {
      "text/plain": [
       "'Message-ID: <30062450.1075855770190.JavaMail.evans@thyme>\\nDate: Mon, 6 Nov 2000 01:26:00 -0800 (PST)\\nFrom: sheila.glover@enron.com\\nTo: mike.jordan@enron.com\\nSubject: UK Drift\\nCc: sally.beck@enron.com, gary.hickerson@enron.com\\nMime-Version: 1.0\\nContent-Type: text/plain; charset=us-ascii\\nContent-Transfer-Encoding: 7bit\\nBcc: sally.beck@enron.com, gary.hickerson@enron.com\\nX-From: Sheila Glover\\nX-To: Mike Jordan\\nX-cc: Sally Beck, Gary Hickerson\\nX-bcc: \\nX-Folder: \\\\Sally_Beck_Dec2000\\\\Notes Folders\\\\All documents\\nX-Origin: Beck-S\\nX-FileName: sbeck.nsf'"
      ]
     },
     "execution_count": 11,
     "metadata": {},
     "output_type": "execute_result"
    }
   ],
   "source": [
    "# look at meta data text\n",
    "df_data['email_meta_data'][21701]"
   ]
  },
  {
   "cell_type": "code",
   "execution_count": 12,
   "metadata": {},
   "outputs": [
    {
     "data": {
      "text/plain": [
       "'Mon, 16 Oct 2000 06:42:00 -0700 (PDT)\\nFrom: phillip.allen@enron.com\\nTo: buck.buckner@honeywell.com\\nSubject: Re: FW: fixed forward or other Collar floor gas price terms\\nMime-Version: 1.0\\nContent-Type: text/plain; charset=us-ascii\\nContent-Transfer-Encoding: 7bit\\nX-From: Phillip K Allen\\nX-To: \"Buckner, Buck\" <buck.buckner@honeywell.com> @ ENRON\\nX-cc: \\nX-bcc: \\nX-Folder: \\\\Phillip_Allen_Dec2000\\\\Notes Folders\\\\\\'sent mail\\nX-Origin: Allen-P\\nX-FileName: pallen.nsf\\n\\nMr. Buckner,\\n\\n For delivered gas behind San Diego, Enron Energy Services is the appropriate \\nEnron entity.  I have forwarded your request to Zarin Imam at EES.  Her phone \\nnumber is 713-853-7107.  \\n\\nPhillip Allen'"
      ]
     },
     "execution_count": 12,
     "metadata": {},
     "output_type": "execute_result"
    }
   ],
   "source": [
    "# step 1: get text of meta data after \"\\nDate: \"\n",
    "df_data['tmp'] = df_data['message'].str.split('\\nDate: ').str.get(1)\n",
    "df_data['tmp'][10]"
   ]
  },
  {
   "cell_type": "code",
   "execution_count": 13,
   "metadata": {},
   "outputs": [
    {
     "data": {
      "text/plain": [
       "'16 Oct 2000 06:42:00'"
      ]
     },
     "execution_count": 13,
     "metadata": {},
     "output_type": "execute_result"
    }
   ],
   "source": [
    "# step 2: get text of meta data before \"\\nFrom: \". Result will be date in string format\n",
    "df_data['tmp'] = df_data['tmp'].str.split('\\nFrom: ').str.get(0)\n",
    "df_data['tmp'] = df_data['tmp'].str.split(' -').str.get(0)\n",
    "df_data['tmp'] = df_data['tmp'].str.split(', ').str.get(1)\n",
    "\n",
    "#example\n",
    "df_data['tmp'][10]"
   ]
  },
  {
   "cell_type": "code",
   "execution_count": 14,
   "metadata": {},
   "outputs": [
    {
     "name": "stdout",
     "output_type": "stream",
     "text": [
      "Extracted date and time of every message!\n"
     ]
    },
    {
     "data": {
      "text/plain": [
       "count    517401.000000\n",
       "mean         19.719929\n",
       "std           0.449034\n",
       "min          19.000000\n",
       "25%          19.000000\n",
       "50%          20.000000\n",
       "75%          20.000000\n",
       "max          20.000000\n",
       "Name: tmp, dtype: float64"
      ]
     },
     "execution_count": 14,
     "metadata": {},
     "output_type": "execute_result"
    }
   ],
   "source": [
    "# check that extracted string length correspond to length of a date in string format\n",
    "\n",
    "print(\"Extracted date and time of every message!\")\n",
    "df_data['tmp'].str.len().describe()"
   ]
  },
  {
   "cell_type": "code",
   "execution_count": 15,
   "metadata": {},
   "outputs": [
    {
     "data": {
      "text/plain": [
       "False    517401\n",
       "Name: tmp, dtype: int64"
      ]
     },
     "execution_count": 15,
     "metadata": {},
     "output_type": "execute_result"
    }
   ],
   "source": [
    "# check date possible format \n",
    "df_data[\"tmp\"].str.contains(\"-\").value_counts()"
   ]
  },
  {
   "cell_type": "code",
   "execution_count": 16,
   "metadata": {},
   "outputs": [
    {
     "data": {
      "text/plain": [
       "count                  517130\n",
       "unique                 223880\n",
       "top       2001-06-27 16:02:00\n",
       "freq                     1118\n",
       "first     1979-12-31 16:00:00\n",
       "last      2044-01-04 14:48:58\n",
       "Name: date, dtype: object"
      ]
     },
     "execution_count": 16,
     "metadata": {},
     "output_type": "execute_result"
    }
   ],
   "source": [
    "# convert date string to date\n",
    "df_data['date'] = pd.to_datetime(df_data['tmp'], format=\"%d %b %Y %H:%M:%S\", errors=\"coerce\")\n",
    "\n",
    "#check date distribution\n",
    "df_data['date'].describe()"
   ]
  },
  {
   "cell_type": "code",
   "execution_count": 17,
   "metadata": {},
   "outputs": [
    {
     "name": "stdout",
     "output_type": "stream",
     "text": [
      "There are weird years in the data. Probably system gliches.\n"
     ]
    },
    {
     "data": {
      "text/plain": [
       "2001.0    272819\n",
       "2000.0    196101\n",
       "2002.0     35847\n",
       "1999.0     11144\n",
       "1979.0       522\n",
       "1997.0       437\n",
       "1998.0       177\n",
       "2004.0        70\n",
       "2044.0         3\n",
       "2020.0         2\n",
       "2012.0         2\n",
       "1986.0         2\n",
       "2043.0         1\n",
       "2024.0         1\n",
       "2007.0         1\n",
       "2005.0         1\n",
       "Name: date, dtype: int64"
      ]
     },
     "execution_count": 17,
     "metadata": {},
     "output_type": "execute_result"
    }
   ],
   "source": [
    "print(\"There are weird years in the data. Probably system gliches.\")\n",
    "df_data['date'].dt.year.value_counts()"
   ]
  },
  {
   "cell_type": "markdown",
   "metadata": {},
   "source": [
    "##### attachment flag"
   ]
  },
  {
   "cell_type": "code",
   "execution_count": 18,
   "metadata": {},
   "outputs": [
    {
     "name": "stdout",
     "output_type": "stream",
     "text": [
      "An email that have attachment:\n"
     ]
    },
    {
     "data": {
      "text/plain": [
       "True     513255\n",
       "False      4146\n",
       "Name: has_attachment, dtype: int64"
      ]
     },
     "execution_count": 18,
     "metadata": {},
     "output_type": "execute_result"
    }
   ],
   "source": [
    "df_data['tmp'] = df_data['email_meta_data'].str.split('X-FileName: ').str.get(1)\n",
    "df_data['has_attachment'] = df_data['tmp'].str.len() > 1\n",
    "\n",
    "print(\"An email that have attachment:\")\n",
    "df_data['has_attachment'].value_counts() "
   ]
  },
  {
   "cell_type": "markdown",
   "metadata": {},
   "source": [
    "##### Subject"
   ]
  },
  {
   "cell_type": "code",
   "execution_count": 19,
   "metadata": {},
   "outputs": [
    {
     "name": "stdout",
     "output_type": "stream",
     "text": [
      "Every email contains Subject line\n"
     ]
    },
    {
     "data": {
      "text/plain": [
       "True    517401\n",
       "Name: email_meta_data, dtype: int64"
      ]
     },
     "execution_count": 19,
     "metadata": {},
     "output_type": "execute_result"
    }
   ],
   "source": [
    "print('Every email contains Subject line')\n",
    "df_data['email_meta_data'].str.contains('\\nSubject: ').value_counts()"
   ]
  },
  {
   "cell_type": "code",
   "execution_count": 20,
   "metadata": {},
   "outputs": [
    {
     "data": {
      "text/plain": [
       "0    \\nMime-Version: 1.0\\nContent-Type: text/plain;...\n",
       "1    Re:\\nMime-Version: 1.0\\nContent-Type: text/pla...\n",
       "2    Re: test\\nMime-Version: 1.0\\nContent-Type: tex...\n",
       "3    \\nMime-Version: 1.0\\nContent-Type: text/plain;...\n",
       "4    Re: Hello\\nMime-Version: 1.0\\nContent-Type: te...\n",
       "Name: tmp, dtype: object"
      ]
     },
     "execution_count": 20,
     "metadata": {},
     "output_type": "execute_result"
    }
   ],
   "source": [
    "# get text in meta data after \"\\nSubject: \" \n",
    "df_data['tmp'] = df_data['email_meta_data'].str.split('\\nSubject: ').str.get(1)\n",
    "df_data['tmp'] .head()"
   ]
  },
  {
   "cell_type": "code",
   "execution_count": 21,
   "metadata": {},
   "outputs": [
    {
     "data": {
      "text/plain": [
       "'UK Drift\\nCc: sally.beck@enron.com, gary.hickerson@enron.com\\nMime-Version: 1.0\\nContent-Type: text/plain; charset=us-ascii\\nContent-Transfer-Encoding: 7bit\\nBcc: sally.beck@enron.com, gary.hickerson@enron.com\\nX-From: Sheila Glover\\nX-To: Mike Jordan\\nX-cc: Sally Beck, Gary Hickerson\\nX-bcc: \\nX-Folder: \\\\Sally_Beck_Dec2000\\\\Notes Folders\\\\All documents\\nX-Origin: Beck-S\\nX-FileName: sbeck.nsf'"
      ]
     },
     "execution_count": 21,
     "metadata": {},
     "output_type": "execute_result"
    }
   ],
   "source": [
    "# example\n",
    "df_data['tmp'] [21701]"
   ]
  },
  {
   "cell_type": "code",
   "execution_count": 22,
   "metadata": {},
   "outputs": [
    {
     "data": {
      "text/plain": [
       "0             \n",
       "1          Re:\n",
       "2     Re: test\n",
       "3             \n",
       "4    Re: Hello\n",
       "Name: subject, dtype: object"
      ]
     },
     "execution_count": 22,
     "metadata": {},
     "output_type": "execute_result"
    }
   ],
   "source": [
    "# get subject that is text before next line character\n",
    "df_data['subject']  = df_data['tmp'].str.split('\\n').str.get(0)\n",
    "df_data['subject'].head()"
   ]
  },
  {
   "cell_type": "code",
   "execution_count": 23,
   "metadata": {},
   "outputs": [
    {
     "data": {
      "text/plain": [
       "'UK Drift'"
      ]
     },
     "execution_count": 23,
     "metadata": {},
     "output_type": "execute_result"
    }
   ],
   "source": [
    "# example\n",
    "df_data['subject'][21701]"
   ]
  },
  {
   "cell_type": "code",
   "execution_count": 24,
   "metadata": {},
   "outputs": [
    {
     "name": "stdout",
     "output_type": "stream",
     "text": [
      "An email has non-empty subject:\n"
     ]
    },
    {
     "data": {
      "text/plain": [
       "True     498214\n",
       "False     19187\n",
       "Name: subject, dtype: int64"
      ]
     },
     "execution_count": 24,
     "metadata": {},
     "output_type": "execute_result"
    }
   ],
   "source": [
    "print(\"An email has non-empty subject:\")\n",
    "(df_data['subject'].str.len() > 0).value_counts()"
   ]
  },
  {
   "cell_type": "code",
   "execution_count": 25,
   "metadata": {},
   "outputs": [
    {
     "name": "stdout",
     "output_type": "stream",
     "text": [
      "Message-ID: <18782981.1075855378110.JavaMail.evans@thyme>\n",
      "Date: Mon, 14 May 2001 16:39:00 -0700 (PDT)\n",
      "From: phillip.allen@enron.com\n",
      "To: tim.belden@enron.com\n",
      "Subject: \n",
      "Mime-Version: 1.0\n",
      "Content-Type: text/plain; charset=us-ascii\n",
      "Content-Transfer-Encoding: 7bit\n",
      "X-From: Phillip K Allen\n",
      "X-To: Tim Belden <Tim Belden/Enron@EnronXGate>\n",
      "X-cc: \n",
      "X-bcc: \n",
      "X-Folder: \\Phillip_Allen_Jan2002_1\\Allen, Phillip K.\\'Sent Mail\n",
      "X-Origin: Allen-P\n",
      "X-FileName: pallen (Non-Privileged).pst\n"
     ]
    }
   ],
   "source": [
    "# check that extracted 0 length subject corresponds to an email with no subject\n",
    "print(df_data[df_data['subject'].str.len() == 0]['email_meta_data'].iloc[0])"
   ]
  },
  {
   "cell_type": "markdown",
   "metadata": {},
   "source": [
    "##### From/To/Cc/Bcc"
   ]
  },
  {
   "cell_type": "code",
   "execution_count": 26,
   "metadata": {},
   "outputs": [
    {
     "name": "stdout",
     "output_type": "stream",
     "text": [
      "Message-ID: <30062450.1075855770190.JavaMail.evans@thyme>\n",
      "Date: Mon, 6 Nov 2000 01:26:00 -0800 (PST)\n",
      "From: sheila.glover@enron.com\n",
      "To: mike.jordan@enron.com\n",
      "Subject: UK Drift\n",
      "Cc: sally.beck@enron.com, gary.hickerson@enron.com\n",
      "Mime-Version: 1.0\n",
      "Content-Type: text/plain; charset=us-ascii\n",
      "Content-Transfer-Encoding: 7bit\n",
      "Bcc: sally.beck@enron.com, gary.hickerson@enron.com\n",
      "X-From: Sheila Glover\n",
      "X-To: Mike Jordan\n",
      "X-cc: Sally Beck, Gary Hickerson\n",
      "X-bcc: \n",
      "X-Folder: \\Sally_Beck_Dec2000\\Notes Folders\\All documents\n",
      "X-Origin: Beck-S\n",
      "X-FileName: sbeck.nsf\n"
     ]
    }
   ],
   "source": [
    "# example\n",
    "print(df_data['email_meta_data'][21701])"
   ]
  },
  {
   "cell_type": "markdown",
   "metadata": {},
   "source": [
    "**From/To/Cc data is between \"\\nSubject: \" and \"\\nMime-Version: \" and Bcc data is after that but before \"\\nX-From: \"**\n",
    "\n",
    "**Need to make sure that it is true for every email in the data**"
   ]
  },
  {
   "cell_type": "code",
   "execution_count": 27,
   "metadata": {},
   "outputs": [
    {
     "name": "stdout",
     "output_type": "stream",
     "text": [
      "Every email contains Subject line\n"
     ]
    },
    {
     "data": {
      "text/plain": [
       "True    517401\n",
       "Name: email_meta_data, dtype: int64"
      ]
     },
     "execution_count": 27,
     "metadata": {},
     "output_type": "execute_result"
    }
   ],
   "source": [
    "print('Every email contains Subject line')\n",
    "df_data['email_meta_data'].str.contains('\\nSubject: ').value_counts()"
   ]
  },
  {
   "cell_type": "code",
   "execution_count": 28,
   "metadata": {},
   "outputs": [
    {
     "name": "stdout",
     "output_type": "stream",
     "text": [
      "Every email contains Mime-Version line\n"
     ]
    },
    {
     "data": {
      "text/plain": [
       "True     517398\n",
       "False         3\n",
       "Name: email_meta_data, dtype: int64"
      ]
     },
     "execution_count": 28,
     "metadata": {},
     "output_type": "execute_result"
    }
   ],
   "source": [
    "print('Every email contains Mime-Version line')\n",
    "df_data['email_meta_data'].str.contains('\\nMime-Version: ').value_counts()"
   ]
  },
  {
   "cell_type": "code",
   "execution_count": 29,
   "metadata": {},
   "outputs": [
    {
     "name": "stdout",
     "output_type": "stream",
     "text": [
      "Message-ID: <21985829.1075858967322.JavaMail.evans@thyme>\n",
      "Date: Thu, 12 Apr 2001 07:27:09 -0700 (PDT)\n",
      "From: alice.weekley@enron.com\n",
      "To: alice.weekley@enron.com, teb.lokey@enron.com, blair.lichtenwalter@enron.com, \n",
      "\tned.crady@enron.com, teresa.dyar@enron.com, robert.kilmer@enron.com\n",
      "Subject: Meeting with Teb, Rob and Blair \n",
      "Ned, Tess and Alice \n"
     ]
    }
   ],
   "source": [
    "# look at an exception \n",
    "print(df_data[df_data['email_meta_data'].str.contains('\\nMime-Version: ') == False]['email_meta_data'].iloc[2])"
   ]
  },
  {
   "cell_type": "code",
   "execution_count": 30,
   "metadata": {},
   "outputs": [
    {
     "name": "stdout",
     "output_type": "stream",
     "text": [
      "Every email contains X-From line\n"
     ]
    },
    {
     "data": {
      "text/plain": [
       "True     517398\n",
       "False         3\n",
       "Name: email_meta_data, dtype: int64"
      ]
     },
     "execution_count": 30,
     "metadata": {},
     "output_type": "execute_result"
    }
   ],
   "source": [
    "print('Every email contains X-From line')\n",
    "df_data['email_meta_data'].str.contains('\\nX-From: ').value_counts()"
   ]
  },
  {
   "cell_type": "code",
   "execution_count": 31,
   "metadata": {},
   "outputs": [],
   "source": [
    "# extracting data\n",
    "df_data['From'] = df_data['email_meta_data'].str.extract(pat=r'(?<=\\nFrom: )(?P<To>.+)(?=\\nTo: )', flags=re.S)\n",
    "df_data['To'] = df_data['email_meta_data'].str.extract(pat=r'(?<=\\nTo: )(?P<To>.+)(?=\\nSubject: )', flags=re.S)\n",
    "df_data['Cc'] = df_data['email_meta_data'].str.extract(pat=r'(?<=\\nCc: )(?P<CC>.+)(?=\\nMime-Version: )', flags=re.S)\n",
    "df_data['Bcc'] = df_data['email_meta_data'].str.extract(pat=r'(?<=\\nBcc: )(?P<Bcc>.+)(?=\\nX-From: )', flags=re.S)"
   ]
  },
  {
   "cell_type": "code",
   "execution_count": 32,
   "metadata": {},
   "outputs": [
    {
     "name": "stdout",
     "output_type": "stream",
     "text": [
      "Message-ID: <18706086.1075849438329.JavaMail.evans@thyme>\n",
      "Date: Mon, 18 Jun 2001 05:25:00 -0700 (PDT)\n",
      "From: karen.denne@enron.com\n",
      "To: alan.comnes@enron.com, jeff.dasovich@enron.com, james.steffes@enron.com, \n",
      "\tmichael.tribolet@enron.com\n",
      "Subject: Love the last sentence...\n",
      "Mime-Version: 1.0\n",
      "Content-Type: text/plain; charset=us-ascii\n",
      "Content-Transfer-Encoding: 7bit\n",
      "X-From: Karen Denne\n",
      "X-To: Alan Comnes, Jeff Dasovich, James D Steffes, Michael Tribolet\n",
      "X-cc: \n",
      "X-bcc: \n",
      "X-Folder: \\Jeff_Dasovich_Oct2001\\Notes Folders\\Notes inbox\n",
      "X-Origin: DASOVICH-J\n",
      "X-FileName: jdasovic.nsf\n",
      "==================================================\n",
      "karen.denne@enron.com\n",
      "alan.comnes@enron.com, jeff.dasovich@enron.com, james.steffes@enron.com, \n",
      "\tmichael.tribolet@enron.com\n",
      "nan\n",
      "nan\n"
     ]
    }
   ],
   "source": [
    "# spot check\n",
    "print(df_data['email_meta_data'][72150])\n",
    "print('='*50)\n",
    "print(df_data['From'][72150])\n",
    "print(df_data['To'][72150])\n",
    "print(df_data['Cc'][72150])\n",
    "print(df_data['Bcc'][72150])"
   ]
  },
  {
   "cell_type": "code",
   "execution_count": 33,
   "metadata": {},
   "outputs": [
    {
     "name": "stdout",
     "output_type": "stream",
     "text": [
      "Message-ID: <30062450.1075855770190.JavaMail.evans@thyme>\n",
      "Date: Mon, 6 Nov 2000 01:26:00 -0800 (PST)\n",
      "From: sheila.glover@enron.com\n",
      "To: mike.jordan@enron.com\n",
      "Subject: UK Drift\n",
      "Cc: sally.beck@enron.com, gary.hickerson@enron.com\n",
      "Mime-Version: 1.0\n",
      "Content-Type: text/plain; charset=us-ascii\n",
      "Content-Transfer-Encoding: 7bit\n",
      "Bcc: sally.beck@enron.com, gary.hickerson@enron.com\n",
      "X-From: Sheila Glover\n",
      "X-To: Mike Jordan\n",
      "X-cc: Sally Beck, Gary Hickerson\n",
      "X-bcc: \n",
      "X-Folder: \\Sally_Beck_Dec2000\\Notes Folders\\All documents\n",
      "X-Origin: Beck-S\n",
      "X-FileName: sbeck.nsf\n",
      "==================================================\n",
      "sheila.glover@enron.com\n",
      "mike.jordan@enron.com\n",
      "sally.beck@enron.com, gary.hickerson@enron.com\n",
      "sally.beck@enron.com, gary.hickerson@enron.com\n"
     ]
    }
   ],
   "source": [
    "# spot check\n",
    "print(df_data['email_meta_data'][21701])\n",
    "print('='*50)\n",
    "print(df_data['From'][21701])\n",
    "print(df_data['To'][21701])\n",
    "print(df_data['Cc'][21701])\n",
    "print(df_data['Bcc'][21701])"
   ]
  },
  {
   "cell_type": "code",
   "execution_count": 34,
   "metadata": {},
   "outputs": [
    {
     "name": "stdout",
     "output_type": "stream",
     "text": [
      "Cc and Bcc email lists are the same:\n"
     ]
    },
    {
     "data": {
      "text/plain": [
       "True    127881\n",
       "Name: check, dtype: int64"
      ]
     },
     "execution_count": 34,
     "metadata": {},
     "output_type": "execute_result"
    }
   ],
   "source": [
    "print(\"Cc and Bcc email lists are the same:\")\n",
    "df_tmp = df_data[df_data['Bcc'].str.len() > 3].copy()\n",
    "df_tmp['check'] = (df_tmp['Cc'] == df_tmp['Bcc']).apply(str)\n",
    "df_tmp['check'].value_counts()"
   ]
  },
  {
   "cell_type": "code",
   "execution_count": 35,
   "metadata": {},
   "outputs": [
    {
     "data": {
      "text/plain": [
       "False    389520\n",
       "True     127881\n",
       "Name: email_meta_data, dtype: int64"
      ]
     },
     "execution_count": 35,
     "metadata": {},
     "output_type": "execute_result"
    }
   ],
   "source": [
    "# check how many emails have \"\\nCc \"\n",
    "df_data['email_meta_data'].str.contains('\\nCc:').value_counts()"
   ]
  },
  {
   "cell_type": "code",
   "execution_count": 36,
   "metadata": {},
   "outputs": [
    {
     "data": {
      "text/plain": [
       "False    389520\n",
       "True     127881\n",
       "Name: email_meta_data, dtype: int64"
      ]
     },
     "execution_count": 36,
     "metadata": {},
     "output_type": "execute_result"
    }
   ],
   "source": [
    "# check that the number of \"\\nBcc \" is the same as number of emails have \"\\nCc \"\n",
    "df_data['email_meta_data'].str.contains('\\nBcc:').value_counts()"
   ]
  },
  {
   "cell_type": "code",
   "execution_count": 37,
   "metadata": {},
   "outputs": [
    {
     "data": {
      "text/plain": [
       "True    389520\n",
       "Name: Cc, dtype: int64"
      ]
     },
     "execution_count": 37,
     "metadata": {},
     "output_type": "execute_result"
    }
   ],
   "source": [
    "# if To/Cc/Bcc is in meta-data columns should be not nan\n",
    "df_data[df_data['email_meta_data'].str.contains('\\nCc:') == False]['Cc'].isna().value_counts()"
   ]
  },
  {
   "cell_type": "code",
   "execution_count": 38,
   "metadata": {},
   "outputs": [
    {
     "data": {
      "text/plain": [
       "False    127881\n",
       "Name: Cc, dtype: int64"
      ]
     },
     "execution_count": 38,
     "metadata": {},
     "output_type": "execute_result"
    }
   ],
   "source": [
    "df_data[df_data['email_meta_data'].str.contains('\\nCc:') == True]['Cc'].isna().value_counts()"
   ]
  },
  {
   "cell_type": "code",
   "execution_count": 39,
   "metadata": {},
   "outputs": [
    {
     "data": {
      "text/plain": [
       "True    389520\n",
       "Name: Bcc, dtype: int64"
      ]
     },
     "execution_count": 39,
     "metadata": {},
     "output_type": "execute_result"
    }
   ],
   "source": [
    "df_data[df_data['email_meta_data'].str.contains('\\nBcc:') == False]['Bcc'].isna().value_counts()"
   ]
  },
  {
   "cell_type": "code",
   "execution_count": 40,
   "metadata": {},
   "outputs": [
    {
     "data": {
      "text/plain": [
       "False    127881\n",
       "Name: Bcc, dtype: int64"
      ]
     },
     "execution_count": 40,
     "metadata": {},
     "output_type": "execute_result"
    }
   ],
   "source": [
    "df_data[df_data['email_meta_data'].str.contains('\\nBcc:') == True]['Bcc'].isna().value_counts()"
   ]
  },
  {
   "cell_type": "code",
   "execution_count": 41,
   "metadata": {},
   "outputs": [
    {
     "name": "stdout",
     "output_type": "stream",
     "text": [
      "there are emails with no extracted data for email recipient\n",
      "Total data length 517401\n",
      "an email has recipient  data:\n"
     ]
    },
    {
     "data": {
      "text/plain": [
       "True     495554\n",
       "False     21847\n",
       "Name: email_meta_data, dtype: int64"
      ]
     },
     "execution_count": 41,
     "metadata": {},
     "output_type": "execute_result"
    }
   ],
   "source": [
    "print('there are emails with no extracted data for email recipient')\n",
    "print('Total data length', len(df_data))\n",
    "print('an email has recipient  data:')\n",
    "df_data['email_meta_data'].str.contains('\\nTo:').value_counts()"
   ]
  },
  {
   "cell_type": "code",
   "execution_count": 42,
   "metadata": {},
   "outputs": [
    {
     "name": "stdout",
     "output_type": "stream",
     "text": [
      "Series([], Name: email_meta_data, dtype: object)\n"
     ]
    }
   ],
   "source": [
    "# emails with no extracted recipient data don't have that text in the email meta data\n",
    "print(df_data[(df_data['To'].isna() == True)&\n",
    "              (df_data['email_meta_data'].str.contains('\\nTo:') == True)]['email_meta_data'])"
   ]
  },
  {
   "cell_type": "code",
   "execution_count": 43,
   "metadata": {},
   "outputs": [
    {
     "data": {
      "text/plain": [
       "1465"
      ]
     },
     "execution_count": 43,
     "metadata": {},
     "output_type": "execute_result"
    }
   ],
   "source": [
    "# there are emails with no extracted recipient data but with extracted data in Cc column\n",
    "len(df_data[(df_data['Cc'].isna() == False)&\n",
    "              (df_data['email_meta_data'].str.contains('\\nTo:') == False)])"
   ]
  },
  {
   "cell_type": "code",
   "execution_count": 44,
   "metadata": {},
   "outputs": [
    {
     "data": {
      "text/html": [
       "<div>\n",
       "<style scoped>\n",
       "    .dataframe tbody tr th:only-of-type {\n",
       "        vertical-align: middle;\n",
       "    }\n",
       "\n",
       "    .dataframe tbody tr th {\n",
       "        vertical-align: top;\n",
       "    }\n",
       "\n",
       "    .dataframe thead th {\n",
       "        text-align: right;\n",
       "    }\n",
       "</style>\n",
       "<table border=\"1\" class=\"dataframe\">\n",
       "  <thead>\n",
       "    <tr style=\"text-align: right;\">\n",
       "      <th></th>\n",
       "      <th>0</th>\n",
       "      <th>111100</th>\n",
       "      <th>222200</th>\n",
       "      <th>333300</th>\n",
       "      <th>444400</th>\n",
       "    </tr>\n",
       "  </thead>\n",
       "  <tbody>\n",
       "    <tr>\n",
       "      <th>file</th>\n",
       "      <td>allen-p/_sent_mail/1.</td>\n",
       "      <td>farmer-d/sent/462.</td>\n",
       "      <td>kaminski-v/sent_items/2433.</td>\n",
       "      <td>mclaughlin-e/all_documents/893.</td>\n",
       "      <td>skilling-j/discussion_threads/312.</td>\n",
       "    </tr>\n",
       "    <tr>\n",
       "      <th>message</th>\n",
       "      <td>Message-ID: &lt;18782981.1075855378110.JavaMail.e...</td>\n",
       "      <td>Message-ID: &lt;19019985.1075854159971.JavaMail.e...</td>\n",
       "      <td>Message-ID: &lt;27422133.1075863436101.JavaMail.e...</td>\n",
       "      <td>Message-ID: &lt;29395615.1075857387365.JavaMail.e...</td>\n",
       "      <td>Message-ID: &lt;7904611.1075840091053.JavaMail.ev...</td>\n",
       "    </tr>\n",
       "    <tr>\n",
       "      <th>check</th>\n",
       "      <td>True</td>\n",
       "      <td>True</td>\n",
       "      <td>True</td>\n",
       "      <td>True</td>\n",
       "      <td>True</td>\n",
       "    </tr>\n",
       "    <tr>\n",
       "      <th>tmp</th>\n",
       "      <td>\\nMime-Version: 1.0\\nContent-Type: text/plain;...</td>\n",
       "      <td>Re: MidTex meeting\\nMime-Version: 1.0\\nContent...</td>\n",
       "      <td>RE: NDA - Prediction Company LLC\\nCc: legal &lt;....</td>\n",
       "      <td>Re: Vega Issue - Vol. Smile\\nCc: mike.maggi@en...</td>\n",
       "      <td>Herbert Molina's current search campaign\\nCc: ...</td>\n",
       "    </tr>\n",
       "    <tr>\n",
       "      <th>email_meta_data</th>\n",
       "      <td>Message-ID: &lt;18782981.1075855378110.JavaMail.e...</td>\n",
       "      <td>Message-ID: &lt;19019985.1075854159971.JavaMail.e...</td>\n",
       "      <td>Message-ID: &lt;27422133.1075863436101.JavaMail.e...</td>\n",
       "      <td>Message-ID: &lt;29395615.1075857387365.JavaMail.e...</td>\n",
       "      <td>Message-ID: &lt;7904611.1075840091053.JavaMail.ev...</td>\n",
       "    </tr>\n",
       "    <tr>\n",
       "      <th>text</th>\n",
       "      <td>Here is our forecast\\n\\n</td>\n",
       "      <td>I can meet anytime Monday afternoon.  I can me...</td>\n",
       "      <td>Thanks for a very quick turn around.\\n\\nVince\\...</td>\n",
       "      <td>Jeremy,\\n\\nJohn and I really need to meet Tues...</td>\n",
       "      <td>Gentlemen:\\nI good friend at Sun suggested me ...</td>\n",
       "    </tr>\n",
       "    <tr>\n",
       "      <th>date</th>\n",
       "      <td>2001-05-14 16:39:00</td>\n",
       "      <td>2000-02-03 03:54:00</td>\n",
       "      <td>2001-08-07 14:16:30</td>\n",
       "      <td>2001-04-09 11:40:00</td>\n",
       "      <td>2000-12-04 09:58:00</td>\n",
       "    </tr>\n",
       "    <tr>\n",
       "      <th>has_attachment</th>\n",
       "      <td>True</td>\n",
       "      <td>True</td>\n",
       "      <td>True</td>\n",
       "      <td>True</td>\n",
       "      <td>True</td>\n",
       "    </tr>\n",
       "    <tr>\n",
       "      <th>subject</th>\n",
       "      <td></td>\n",
       "      <td>Re: MidTex meeting</td>\n",
       "      <td>RE: NDA - Prediction Company LLC</td>\n",
       "      <td>Re: Vega Issue - Vol. Smile</td>\n",
       "      <td>Herbert Molina's current search campaign</td>\n",
       "    </tr>\n",
       "    <tr>\n",
       "      <th>From</th>\n",
       "      <td>phillip.allen@enron.com</td>\n",
       "      <td>daren.farmer@enron.com</td>\n",
       "      <td>j.kaminski@enron.com</td>\n",
       "      <td>errol.mclaughlin@enron.com</td>\n",
       "      <td>herbert_molina@juno.com</td>\n",
       "    </tr>\n",
       "    <tr>\n",
       "      <th>To</th>\n",
       "      <td>tim.belden@enron.com</td>\n",
       "      <td>thu.nguyen@enron.com</td>\n",
       "      <td>tana.jones@enron.com</td>\n",
       "      <td>jeremy.wong@enron.com</td>\n",
       "      <td>ken_rice@enron.com, jeff.skilling@enron.com</td>\n",
       "    </tr>\n",
       "    <tr>\n",
       "      <th>Cc</th>\n",
       "      <td>NaN</td>\n",
       "      <td>NaN</td>\n",
       "      <td>legal &lt;.taylor@enron.com&gt;</td>\n",
       "      <td>mike.maggi@enron.com, john.griffith@enron.com,...</td>\n",
       "      <td>mike.mcconnel@enron.com, whalley@enron.com</td>\n",
       "    </tr>\n",
       "    <tr>\n",
       "      <th>Bcc</th>\n",
       "      <td>NaN</td>\n",
       "      <td>NaN</td>\n",
       "      <td>legal &lt;.taylor@enron.com&gt;</td>\n",
       "      <td>mike.maggi@enron.com, john.griffith@enron.com,...</td>\n",
       "      <td>mike.mcconnel@enron.com, whalley@enron.com</td>\n",
       "    </tr>\n",
       "  </tbody>\n",
       "</table>\n",
       "</div>"
      ],
      "text/plain": [
       "                                                            0       \\\n",
       "file                                         allen-p/_sent_mail/1.   \n",
       "message          Message-ID: <18782981.1075855378110.JavaMail.e...   \n",
       "check                                                         True   \n",
       "tmp              \\nMime-Version: 1.0\\nContent-Type: text/plain;...   \n",
       "email_meta_data  Message-ID: <18782981.1075855378110.JavaMail.e...   \n",
       "text                                     Here is our forecast\\n\\n    \n",
       "date                                           2001-05-14 16:39:00   \n",
       "has_attachment                                                True   \n",
       "subject                                                              \n",
       "From                                       phillip.allen@enron.com   \n",
       "To                                            tim.belden@enron.com   \n",
       "Cc                                                             NaN   \n",
       "Bcc                                                            NaN   \n",
       "\n",
       "                                                            111100  \\\n",
       "file                                            farmer-d/sent/462.   \n",
       "message          Message-ID: <19019985.1075854159971.JavaMail.e...   \n",
       "check                                                         True   \n",
       "tmp              Re: MidTex meeting\\nMime-Version: 1.0\\nContent...   \n",
       "email_meta_data  Message-ID: <19019985.1075854159971.JavaMail.e...   \n",
       "text             I can meet anytime Monday afternoon.  I can me...   \n",
       "date                                           2000-02-03 03:54:00   \n",
       "has_attachment                                                True   \n",
       "subject                                         Re: MidTex meeting   \n",
       "From                                        daren.farmer@enron.com   \n",
       "To                                            thu.nguyen@enron.com   \n",
       "Cc                                                             NaN   \n",
       "Bcc                                                            NaN   \n",
       "\n",
       "                                                            222200  \\\n",
       "file                                   kaminski-v/sent_items/2433.   \n",
       "message          Message-ID: <27422133.1075863436101.JavaMail.e...   \n",
       "check                                                         True   \n",
       "tmp              RE: NDA - Prediction Company LLC\\nCc: legal <....   \n",
       "email_meta_data  Message-ID: <27422133.1075863436101.JavaMail.e...   \n",
       "text             Thanks for a very quick turn around.\\n\\nVince\\...   \n",
       "date                                           2001-08-07 14:16:30   \n",
       "has_attachment                                                True   \n",
       "subject                           RE: NDA - Prediction Company LLC   \n",
       "From                                          j.kaminski@enron.com   \n",
       "To                                            tana.jones@enron.com   \n",
       "Cc                                       legal <.taylor@enron.com>   \n",
       "Bcc                                      legal <.taylor@enron.com>   \n",
       "\n",
       "                                                            333300  \\\n",
       "file                               mclaughlin-e/all_documents/893.   \n",
       "message          Message-ID: <29395615.1075857387365.JavaMail.e...   \n",
       "check                                                         True   \n",
       "tmp              Re: Vega Issue - Vol. Smile\\nCc: mike.maggi@en...   \n",
       "email_meta_data  Message-ID: <29395615.1075857387365.JavaMail.e...   \n",
       "text             Jeremy,\\n\\nJohn and I really need to meet Tues...   \n",
       "date                                           2001-04-09 11:40:00   \n",
       "has_attachment                                                True   \n",
       "subject                                Re: Vega Issue - Vol. Smile   \n",
       "From                                    errol.mclaughlin@enron.com   \n",
       "To                                           jeremy.wong@enron.com   \n",
       "Cc               mike.maggi@enron.com, john.griffith@enron.com,...   \n",
       "Bcc              mike.maggi@enron.com, john.griffith@enron.com,...   \n",
       "\n",
       "                                                            444400  \n",
       "file                            skilling-j/discussion_threads/312.  \n",
       "message          Message-ID: <7904611.1075840091053.JavaMail.ev...  \n",
       "check                                                         True  \n",
       "tmp              Herbert Molina's current search campaign\\nCc: ...  \n",
       "email_meta_data  Message-ID: <7904611.1075840091053.JavaMail.ev...  \n",
       "text             Gentlemen:\\nI good friend at Sun suggested me ...  \n",
       "date                                           2000-12-04 09:58:00  \n",
       "has_attachment                                                True  \n",
       "subject                   Herbert Molina's current search campaign  \n",
       "From                                       herbert_molina@juno.com  \n",
       "To                     ken_rice@enron.com, jeff.skilling@enron.com  \n",
       "Cc                      mike.mcconnel@enron.com, whalley@enron.com  \n",
       "Bcc                     mike.mcconnel@enron.com, whalley@enron.com  "
      ]
     },
     "execution_count": 44,
     "metadata": {},
     "output_type": "execute_result"
    }
   ],
   "source": [
    "# resulting data\n",
    "df_data.iloc[::111100].T"
   ]
  },
  {
   "attachments": {},
   "cell_type": "markdown",
   "metadata": {},
   "source": [
    "Conclusions:\n",
    "   - if there are Cc emails than they are Bcc to the same list of Cc emails\n",
    "   - There are no emails with empty list of To but there are emails without To (recipient list) completely\n",
    "   - insignificant amount of emails without To lists have Cc lists"
   ]
  }
 ],
 "metadata": {
  "kernelspec": {
   "display_name": "Python 3",
   "language": "python",
   "name": "python3"
  },
  "language_info": {
   "codemirror_mode": {
    "name": "ipython",
    "version": 3
   },
   "file_extension": ".py",
   "mimetype": "text/x-python",
   "name": "python",
   "nbconvert_exporter": "python",
   "pygments_lexer": "ipython3",
   "version": "3.7.3"
  },
  "toc": {
   "base_numbering": 1,
   "nav_menu": {},
   "number_sections": true,
   "sideBar": true,
   "skip_h1_title": false,
   "title_cell": "Table of Contents",
   "title_sidebar": "Contents",
   "toc_cell": false,
   "toc_position": {
    "height": "calc(100% - 180px)",
    "left": "10px",
    "top": "150px",
    "width": "270.382px"
   },
   "toc_section_display": true,
   "toc_window_display": true
  }
 },
 "nbformat": 4,
 "nbformat_minor": 2
}
